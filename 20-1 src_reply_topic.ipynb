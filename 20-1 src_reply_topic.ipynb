{
 "cells": [
  {
   "cell_type": "markdown",
   "metadata": {},
   "source": [
    "Sydneysiege tweet-level, topic exploration : [report](https://docs.google.com/spreadsheets/d/1MxoVkvCgLIHDSn_I_te9wZIXjlFQDb-fe8FhXAfGy8Y/edit?usp=sharing)"
   ]
  },
  {
   "cell_type": "markdown",
   "metadata": {
    "id": "4rJc_NMo5EWj"
   },
   "source": [
    "# Load library"
   ]
  },
  {
   "cell_type": "code",
   "execution_count": 1,
   "metadata": {
    "id": "cvTpUrviEfx9"
   },
   "outputs": [],
   "source": [
    "import numpy as np\n",
    "import pandas as pd\n",
    "import matplotlib.pyplot as plt\n",
    "import seaborn as sns"
   ]
  },
  {
   "cell_type": "code",
   "execution_count": 2,
   "metadata": {
    "id": "xM3nqhKupJVJ"
   },
   "outputs": [],
   "source": [
    "from nltk import word_tokenize, corpus\n",
    "import gensim\n",
    "from gensim import corpora,models\n",
    "from gensim.models import CoherenceModel\n",
    "from gensim.parsing.preprocessing import remove_stopwords"
   ]
  },
  {
   "cell_type": "code",
   "execution_count": 3,
   "metadata": {
    "colab": {
     "base_uri": "https://localhost:8080/"
    },
    "executionInfo": {
     "elapsed": 2266,
     "status": "ok",
     "timestamp": 1670934919072,
     "user": {
      "displayName": "Bella Yang",
      "userId": "16101934561747208179"
     },
     "user_tz": -120
    },
    "id": "pBrgec-lXBqE",
    "outputId": "a9bc0c16-2686-4181-bdf9-836ad59c4413"
   },
   "outputs": [
    {
     "name": "stderr",
     "output_type": "stream",
     "text": [
      "[nltk_data] Downloading package punkt to\n",
      "[nltk_data]     C:\\Users\\user\\AppData\\Roaming\\nltk_data...\n",
      "[nltk_data]   Package punkt is already up-to-date!\n"
     ]
    },
    {
     "data": {
      "text/plain": [
       "True"
      ]
     },
     "execution_count": 3,
     "metadata": {},
     "output_type": "execute_result"
    }
   ],
   "source": [
    "import nltk\n",
    "nltk.download('punkt')"
   ]
  },
  {
   "cell_type": "code",
   "execution_count": 4,
   "metadata": {
    "colab": {
     "base_uri": "https://localhost:8080/"
    },
    "executionInfo": {
     "elapsed": 28565,
     "status": "ok",
     "timestamp": 1670934947615,
     "user": {
      "displayName": "Bella Yang",
      "userId": "16101934561747208179"
     },
     "user_tz": -120
    },
    "id": "n-j_9j0LUdk4",
    "outputId": "c19a7700-0e8d-4bbc-b7a1-b96b4fa1d9bc"
   },
   "outputs": [
    {
     "name": "stdout",
     "output_type": "stream",
     "text": [
      "Requirement already satisfied: pyLDAvis in c:\\users\\user\\appdata\\local\\programs\\python\\python39\\lib\\site-packages (3.3.1)\n",
      "Requirement already satisfied: gensim in c:\\users\\user\\appdata\\local\\programs\\python\\python39\\lib\\site-packages (from pyLDAvis) (4.1.2)\n",
      "Requirement already satisfied: scikit-learn in c:\\users\\user\\appdata\\local\\programs\\python\\python39\\lib\\site-packages (from pyLDAvis) (1.1.2)\n",
      "Requirement already satisfied: setuptools in c:\\users\\user\\appdata\\local\\programs\\python\\python39\\lib\\site-packages (from pyLDAvis) (65.7.0)\n",
      "Requirement already satisfied: pandas>=1.2.0 in c:\\users\\user\\appdata\\local\\programs\\python\\python39\\lib\\site-packages (from pyLDAvis) (1.5.2)\n",
      "Requirement already satisfied: jinja2 in c:\\users\\user\\appdata\\local\\programs\\python\\python39\\lib\\site-packages (from pyLDAvis) (2.11.3)\n",
      "Requirement already satisfied: future in c:\\users\\user\\appdata\\local\\programs\\python\\python39\\lib\\site-packages (from pyLDAvis) (0.18.2)\n",
      "Requirement already satisfied: sklearn in c:\\users\\user\\appdata\\local\\programs\\python\\python39\\lib\\site-packages (from pyLDAvis) (0.0)\n",
      "Requirement already satisfied: scipy in c:\\users\\user\\appdata\\local\\programs\\python\\python39\\lib\\site-packages (from pyLDAvis) (1.6.1)\n",
      "Requirement already satisfied: funcy in c:\\users\\user\\appdata\\local\\programs\\python\\python39\\lib\\site-packages (from pyLDAvis) (1.17)\n",
      "Requirement already satisfied: numexpr in c:\\users\\user\\appdata\\local\\programs\\python\\python39\\lib\\site-packages (from pyLDAvis) (2.7.3)\n",
      "Requirement already satisfied: joblib in c:\\users\\user\\appdata\\local\\programs\\python\\python39\\lib\\site-packages (from pyLDAvis) (1.1.0)\n",
      "Requirement already satisfied: numpy>=1.20.0 in c:\\users\\user\\appdata\\local\\programs\\python\\python39\\lib\\site-packages (from pyLDAvis) (1.23.4)\n",
      "Requirement already satisfied: python-dateutil>=2.8.1 in c:\\users\\user\\appdata\\local\\programs\\python\\python39\\lib\\site-packages (from pandas>=1.2.0->pyLDAvis) (2.8.1)\n",
      "Requirement already satisfied: pytz>=2020.1 in c:\\users\\user\\appdata\\local\\programs\\python\\python39\\lib\\site-packages (from pandas>=1.2.0->pyLDAvis) (2021.1)\n",
      "Requirement already satisfied: Cython==0.29.23 in c:\\users\\user\\appdata\\local\\programs\\python\\python39\\lib\\site-packages (from gensim->pyLDAvis) (0.29.23)\n",
      "Requirement already satisfied: smart-open>=1.8.1 in c:\\users\\user\\appdata\\local\\programs\\python\\python39\\lib\\site-packages (from gensim->pyLDAvis) (5.0.0)\n",
      "Requirement already satisfied: MarkupSafe>=0.23 in c:\\users\\user\\appdata\\local\\programs\\python\\python39\\lib\\site-packages (from jinja2->pyLDAvis) (1.1.1)\n",
      "Requirement already satisfied: threadpoolctl>=2.0.0 in c:\\users\\user\\appdata\\local\\programs\\python\\python39\\lib\\site-packages (from scikit-learn->pyLDAvis) (3.1.0)\n",
      "Requirement already satisfied: six>=1.5 in c:\\users\\user\\appdata\\local\\programs\\python\\python39\\lib\\site-packages (from python-dateutil>=2.8.1->pandas>=1.2.0->pyLDAvis) (1.15.0)\n"
     ]
    }
   ],
   "source": [
    "import pyLDAvis.gensim_models\n",
    "from pprint import pprint"
   ]
  },
  {
   "cell_type": "code",
   "execution_count": null,
   "metadata": {
    "id": "jaW_nfOLUDs9"
   },
   "outputs": [],
   "source": [
    "# from google.colab import drive\n",
    "# import os\n",
    "# drive.mount('/content/drive')"
   ]
  },
  {
   "cell_type": "markdown",
   "metadata": {},
   "source": [
    "# Load Data"
   ]
  },
  {
   "cell_type": "code",
   "execution_count": 44,
   "metadata": {
    "id": "A-qsEtfb4cwS"
   },
   "outputs": [
    {
     "name": "stderr",
     "output_type": "stream",
     "text": [
      "c:\\users\\user\\appdata\\local\\programs\\python\\python39\\lib\\site-packages\\ipykernel\\ipkernel.py:283: DeprecationWarning: `should_run_async` will not call `transform_cell` automatically in the future. Please pass the result to `transformed_cell` argument and any exception that happen during thetransform in `preprocessing_exc_tuple` in IPython 7.17 and above.\n",
      "  and should_run_async(code)\n"
     ]
    }
   ],
   "source": [
    "combined_data = pd.read_csv('sydneysiege/18 targetanalysis/targetdata/combined_rumor_target.csv',header = 0,index_col = 0,encoding = 'utf-8')"
   ]
  },
  {
   "cell_type": "markdown",
   "metadata": {
    "id": "M7deFs6S4cv4"
   },
   "source": [
    "# Rumor Source tweets - LDA"
   ]
  },
  {
   "cell_type": "code",
   "execution_count": 6,
   "metadata": {
    "colab": {
     "base_uri": "https://localhost:8080/"
    },
    "executionInfo": {
     "elapsed": 428,
     "status": "ok",
     "timestamp": 1670934971339,
     "user": {
      "displayName": "Bella Yang",
      "userId": "16101934561747208179"
     },
     "user_tz": -120
    },
    "id": "qjcw4-hT4cwT",
    "outputId": "ff5dec93-98e9-42a6-be9d-aa27d302396f"
   },
   "outputs": [
    {
     "name": "stderr",
     "output_type": "stream",
     "text": [
      "c:\\users\\user\\appdata\\local\\programs\\python\\python39\\lib\\site-packages\\ipykernel\\ipkernel.py:283: DeprecationWarning: `should_run_async` will not call `transform_cell` automatically in the future. Please pass the result to `transformed_cell` argument and any exception that happen during thetransform in `preprocessing_exc_tuple` in IPython 7.17 and above.\n",
      "  and should_run_async(code)\n"
     ]
    },
    {
     "data": {
      "text/plain": [
       "tweet_id        0\n",
       "user_id         0\n",
       "date            0\n",
       "rumorlabel      0\n",
       "tweet           0\n",
       "cleaned_text    0\n",
       "targetlabel     0\n",
       "sentiment       0\n",
       "src_reply       0\n",
       "dtype: int64"
      ]
     },
     "execution_count": 6,
     "metadata": {},
     "output_type": "execute_result"
    }
   ],
   "source": [
    "src = combined_data[combined_data.src_reply=='src']\n",
    "src.isnull().sum()"
   ]
  },
  {
   "cell_type": "code",
   "execution_count": 45,
   "metadata": {
    "id": "ZBz_5j7g4cwU"
   },
   "outputs": [
    {
     "name": "stderr",
     "output_type": "stream",
     "text": [
      "c:\\users\\user\\appdata\\local\\programs\\python\\python39\\lib\\site-packages\\ipykernel\\ipkernel.py:283: DeprecationWarning: `should_run_async` will not call `transform_cell` automatically in the future. Please pass the result to `transformed_cell` argument and any exception that happen during thetransform in `preprocessing_exc_tuple` in IPython 7.17 and above.\n",
      "  and should_run_async(code)\n"
     ]
    }
   ],
   "source": [
    "target_tw = src.loc[src.targetlabel==1,'cleaned_text']\n",
    "nontarget_tw = src.loc[src.targetlabel==0,'cleaned_text']"
   ]
  },
  {
   "cell_type": "code",
   "execution_count": 46,
   "metadata": {
    "colab": {
     "base_uri": "https://localhost:8080/"
    },
    "executionInfo": {
     "elapsed": 4,
     "status": "ok",
     "timestamp": 1670934975255,
     "user": {
      "displayName": "Bella Yang",
      "userId": "16101934561747208179"
     },
     "user_tz": -120
    },
    "id": "HK8wDH9b8kiR",
    "outputId": "729c663c-c056-4859-8a82-ab1b9baea9f0"
   },
   "outputs": [
    {
     "name": "stdout",
     "output_type": "stream",
     "text": [
      "number of target source tweets: 84\n",
      "number of non-target source tweets: 415\n"
     ]
    },
    {
     "name": "stderr",
     "output_type": "stream",
     "text": [
      "c:\\users\\user\\appdata\\local\\programs\\python\\python39\\lib\\site-packages\\ipykernel\\ipkernel.py:283: DeprecationWarning: `should_run_async` will not call `transform_cell` automatically in the future. Please pass the result to `transformed_cell` argument and any exception that happen during thetransform in `preprocessing_exc_tuple` in IPython 7.17 and above.\n",
      "  and should_run_async(code)\n"
     ]
    }
   ],
   "source": [
    "print(\"number of target source tweets: {}\".format(len(target_tw)))\n",
    "print(\"number of non-target source tweets: {}\".format(len(nontarget_tw)))"
   ]
  },
  {
   "cell_type": "code",
   "execution_count": 47,
   "metadata": {
    "id": "ld7kTN1b4cwV"
   },
   "outputs": [
    {
     "name": "stderr",
     "output_type": "stream",
     "text": [
      "c:\\users\\user\\appdata\\local\\programs\\python\\python39\\lib\\site-packages\\ipykernel\\ipkernel.py:283: DeprecationWarning: `should_run_async` will not call `transform_cell` automatically in the future. Please pass the result to `transformed_cell` argument and any exception that happen during thetransform in `preprocessing_exc_tuple` in IPython 7.17 and above.\n",
      "  and should_run_async(code)\n"
     ]
    }
   ],
   "source": [
    "target_tw_list = target_tw.apply(word_tokenize).tolist()\n",
    "nontarget_tw_list = nontarget_tw.apply(word_tokenize).tolist()"
   ]
  },
  {
   "cell_type": "markdown",
   "metadata": {
    "id": "Ec8bXXp04cwV"
   },
   "source": [
    "## Target"
   ]
  },
  {
   "cell_type": "code",
   "execution_count": 10,
   "metadata": {
    "colab": {
     "base_uri": "https://localhost:8080/"
    },
    "executionInfo": {
     "elapsed": 263,
     "status": "ok",
     "timestamp": 1670925446256,
     "user": {
      "displayName": "Bella Yang",
      "userId": "16101934561747208179"
     },
     "user_tz": -120
    },
    "id": "4mcBkHee4cwV",
    "outputId": "59813834-fd62-4717-e90f-81bf8de83001"
   },
   "outputs": [
    {
     "name": "stdout",
     "output_type": "stream",
     "text": [
      "Dictionary(265 unique tokens: ['break', 'cafe', 'doors', 'flag', 'force']...)\n"
     ]
    },
    {
     "name": "stderr",
     "output_type": "stream",
     "text": [
      "c:\\users\\user\\appdata\\local\\programs\\python\\python39\\lib\\site-packages\\ipykernel\\ipkernel.py:283: DeprecationWarning: `should_run_async` will not call `transform_cell` automatically in the future. Please pass the result to `transformed_cell` argument and any exception that happen during thetransform in `preprocessing_exc_tuple` in IPython 7.17 and above.\n",
      "  and should_run_async(code)\n"
     ]
    }
   ],
   "source": [
    "#Target dictionary\n",
    "id2word = corpora.Dictionary(target_tw_list)\n",
    "print(id2word)"
   ]
  },
  {
   "cell_type": "code",
   "execution_count": 11,
   "metadata": {
    "id": "tw4LyDRc4cwW"
   },
   "outputs": [
    {
     "name": "stderr",
     "output_type": "stream",
     "text": [
      "c:\\users\\user\\appdata\\local\\programs\\python\\python39\\lib\\site-packages\\ipykernel\\ipkernel.py:283: DeprecationWarning: `should_run_async` will not call `transform_cell` automatically in the future. Please pass the result to `transformed_cell` argument and any exception that happen during thetransform in `preprocessing_exc_tuple` in IPython 7.17 and above.\n",
      "  and should_run_async(code)\n"
     ]
    }
   ],
   "source": [
    "# Term Document Frequency\n",
    "corpus_target = [id2word.doc2bow(tw) for tw in target_tw_list]"
   ]
  },
  {
   "cell_type": "code",
   "execution_count": 13,
   "metadata": {
    "id": "9YXBIGMg4cwW"
   },
   "outputs": [
    {
     "name": "stderr",
     "output_type": "stream",
     "text": [
      "c:\\users\\user\\appdata\\local\\programs\\python\\python39\\lib\\site-packages\\ipykernel\\ipkernel.py:283: DeprecationWarning: `should_run_async` will not call `transform_cell` automatically in the future. Please pass the result to `transformed_cell` argument and any exception that happen during thetransform in `preprocessing_exc_tuple` in IPython 7.17 and above.\n",
      "  and should_run_async(code)\n"
     ]
    }
   ],
   "source": [
    "def compute_coherence_values(corpus, dictionary, k):\n",
    "    \n",
    "    lda_model = gensim.models.LdaMulticore(corpus=corpus,\n",
    "                                           id2word=dictionary,\n",
    "                                           num_topics=k, \n",
    "                                           random_state=100,\n",
    "                                           chunksize=1,\n",
    "                                           passes=20)\n",
    "    \n",
    "    coherence_model_lda = CoherenceModel(model=lda_model, \n",
    "                                         texts=target_tw_list, #要改\n",
    "                                         dictionary=id2word,    #要改\n",
    "                                         coherence='c_v')\n",
    "    return coherence_model_lda.get_coherence()"
   ]
  },
  {
   "cell_type": "code",
   "execution_count": 14,
   "metadata": {
    "id": "-krCbL4C4cwX"
   },
   "outputs": [
    {
     "name": "stderr",
     "output_type": "stream",
     "text": [
      "c:\\users\\user\\appdata\\local\\programs\\python\\python39\\lib\\site-packages\\ipykernel\\ipkernel.py:283: DeprecationWarning: `should_run_async` will not call `transform_cell` automatically in the future. Please pass the result to `transformed_cell` argument and any exception that happen during thetransform in `preprocessing_exc_tuple` in IPython 7.17 and above.\n",
      "  and should_run_async(code)\n"
     ]
    }
   ],
   "source": [
    "# Topics range\n",
    "min_topics = 2\n",
    "max_topics = 21\n",
    "step_size = 1\n",
    "topics_range = range(min_topics, max_topics, step_size)"
   ]
  },
  {
   "cell_type": "code",
   "execution_count": 15,
   "metadata": {
    "colab": {
     "base_uri": "https://localhost:8080/"
    },
    "executionInfo": {
     "elapsed": 11271,
     "status": "ok",
     "timestamp": 1670926387279,
     "user": {
      "displayName": "Bella Yang",
      "userId": "16101934561747208179"
     },
     "user_tz": -120
    },
    "id": "fXi1GXme4cwY",
    "outputId": "f7b48a50-91ce-40dc-9e92-2c6102bde288"
   },
   "outputs": [
    {
     "name": "stderr",
     "output_type": "stream",
     "text": [
      "c:\\users\\user\\appdata\\local\\programs\\python\\python39\\lib\\site-packages\\ipykernel\\ipkernel.py:283: DeprecationWarning: `should_run_async` will not call `transform_cell` automatically in the future. Please pass the result to `transformed_cell` argument and any exception that happen during thetransform in `preprocessing_exc_tuple` in IPython 7.17 and above.\n",
      "  and should_run_async(code)\n"
     ]
    }
   ],
   "source": [
    "target_results ={'Topics': [], 'Coherence': []}\n",
    "\n",
    "for k in topics_range:\n",
    "\n",
    "    # get the coherence score for the given parameters\n",
    "    cv = compute_coherence_values(corpus=corpus_target, \n",
    "                                  dictionary=id2word,k=k)\n",
    "    # Save the model results\n",
    "    target_results['Topics'].append(k)\n",
    "    target_results['Coherence'].append(cv)"
   ]
  },
  {
   "cell_type": "code",
   "execution_count": 16,
   "metadata": {
    "colab": {
     "base_uri": "https://localhost:8080/",
     "height": 300
    },
    "executionInfo": {
     "elapsed": 39,
     "status": "ok",
     "timestamp": 1670926387280,
     "user": {
      "displayName": "Bella Yang",
      "userId": "16101934561747208179"
     },
     "user_tz": -120
    },
    "id": "ipeBSkwr4cwY",
    "outputId": "f3c308c7-e7a2-43e4-bd3c-e1972a345c32"
   },
   "outputs": [
    {
     "name": "stderr",
     "output_type": "stream",
     "text": [
      "c:\\users\\user\\appdata\\local\\programs\\python\\python39\\lib\\site-packages\\ipykernel\\ipkernel.py:283: DeprecationWarning: `should_run_async` will not call `transform_cell` automatically in the future. Please pass the result to `transformed_cell` argument and any exception that happen during thetransform in `preprocessing_exc_tuple` in IPython 7.17 and above.\n",
      "  and should_run_async(code)\n"
     ]
    },
    {
     "data": {
      "text/html": [
       "<div>\n",
       "<style scoped>\n",
       "    .dataframe tbody tr th:only-of-type {\n",
       "        vertical-align: middle;\n",
       "    }\n",
       "\n",
       "    .dataframe tbody tr th {\n",
       "        vertical-align: top;\n",
       "    }\n",
       "\n",
       "    .dataframe thead th {\n",
       "        text-align: right;\n",
       "    }\n",
       "</style>\n",
       "<table border=\"1\" class=\"dataframe\">\n",
       "  <thead>\n",
       "    <tr style=\"text-align: right;\">\n",
       "      <th></th>\n",
       "      <th>Topics</th>\n",
       "      <th>Coherence</th>\n",
       "    </tr>\n",
       "  </thead>\n",
       "  <tbody>\n",
       "    <tr>\n",
       "      <th>0</th>\n",
       "      <td>2</td>\n",
       "      <td>0.356322</td>\n",
       "    </tr>\n",
       "    <tr>\n",
       "      <th>1</th>\n",
       "      <td>3</td>\n",
       "      <td>0.368953</td>\n",
       "    </tr>\n",
       "    <tr>\n",
       "      <th>2</th>\n",
       "      <td>4</td>\n",
       "      <td>0.382766</td>\n",
       "    </tr>\n",
       "    <tr>\n",
       "      <th>3</th>\n",
       "      <td>5</td>\n",
       "      <td>0.390673</td>\n",
       "    </tr>\n",
       "    <tr>\n",
       "      <th>4</th>\n",
       "      <td>6</td>\n",
       "      <td>0.416249</td>\n",
       "    </tr>\n",
       "    <tr>\n",
       "      <th>5</th>\n",
       "      <td>7</td>\n",
       "      <td>0.379986</td>\n",
       "    </tr>\n",
       "    <tr>\n",
       "      <th>6</th>\n",
       "      <td>8</td>\n",
       "      <td>0.366640</td>\n",
       "    </tr>\n",
       "    <tr>\n",
       "      <th>7</th>\n",
       "      <td>9</td>\n",
       "      <td>0.368999</td>\n",
       "    </tr>\n",
       "    <tr>\n",
       "      <th>8</th>\n",
       "      <td>10</td>\n",
       "      <td>0.363292</td>\n",
       "    </tr>\n",
       "    <tr>\n",
       "      <th>9</th>\n",
       "      <td>11</td>\n",
       "      <td>0.338131</td>\n",
       "    </tr>\n",
       "    <tr>\n",
       "      <th>10</th>\n",
       "      <td>12</td>\n",
       "      <td>0.402766</td>\n",
       "    </tr>\n",
       "    <tr>\n",
       "      <th>11</th>\n",
       "      <td>13</td>\n",
       "      <td>0.433085</td>\n",
       "    </tr>\n",
       "    <tr>\n",
       "      <th>12</th>\n",
       "      <td>14</td>\n",
       "      <td>0.437404</td>\n",
       "    </tr>\n",
       "    <tr>\n",
       "      <th>13</th>\n",
       "      <td>15</td>\n",
       "      <td>0.404563</td>\n",
       "    </tr>\n",
       "    <tr>\n",
       "      <th>14</th>\n",
       "      <td>16</td>\n",
       "      <td>0.404653</td>\n",
       "    </tr>\n",
       "    <tr>\n",
       "      <th>15</th>\n",
       "      <td>17</td>\n",
       "      <td>0.427319</td>\n",
       "    </tr>\n",
       "    <tr>\n",
       "      <th>16</th>\n",
       "      <td>18</td>\n",
       "      <td>0.422499</td>\n",
       "    </tr>\n",
       "    <tr>\n",
       "      <th>17</th>\n",
       "      <td>19</td>\n",
       "      <td>0.417861</td>\n",
       "    </tr>\n",
       "    <tr>\n",
       "      <th>18</th>\n",
       "      <td>20</td>\n",
       "      <td>0.429523</td>\n",
       "    </tr>\n",
       "  </tbody>\n",
       "</table>\n",
       "</div>"
      ],
      "text/plain": [
       "    Topics  Coherence\n",
       "0        2   0.356322\n",
       "1        3   0.368953\n",
       "2        4   0.382766\n",
       "3        5   0.390673\n",
       "4        6   0.416249\n",
       "5        7   0.379986\n",
       "6        8   0.366640\n",
       "7        9   0.368999\n",
       "8       10   0.363292\n",
       "9       11   0.338131\n",
       "10      12   0.402766\n",
       "11      13   0.433085\n",
       "12      14   0.437404\n",
       "13      15   0.404563\n",
       "14      16   0.404653\n",
       "15      17   0.427319\n",
       "16      18   0.422499\n",
       "17      19   0.417861\n",
       "18      20   0.429523"
      ]
     },
     "execution_count": 16,
     "metadata": {},
     "output_type": "execute_result"
    }
   ],
   "source": [
    "target_results = pd.DataFrame(target_results)\n",
    "target_results"
   ]
  },
  {
   "cell_type": "code",
   "execution_count": 18,
   "metadata": {
    "colab": {
     "base_uri": "https://localhost:8080/",
     "height": 279
    },
    "executionInfo": {
     "elapsed": 37,
     "status": "ok",
     "timestamp": 1670926387280,
     "user": {
      "displayName": "Bella Yang",
      "userId": "16101934561747208179"
     },
     "user_tz": -120
    },
    "id": "dYPqjEjY4cwZ",
    "outputId": "1076f1dd-b980-4c9d-8653-236ef2bba4c2"
   },
   "outputs": [
    {
     "name": "stderr",
     "output_type": "stream",
     "text": [
      "c:\\users\\user\\appdata\\local\\programs\\python\\python39\\lib\\site-packages\\ipykernel\\ipkernel.py:283: DeprecationWarning: `should_run_async` will not call `transform_cell` automatically in the future. Please pass the result to `transformed_cell` argument and any exception that happen during thetransform in `preprocessing_exc_tuple` in IPython 7.17 and above.\n",
      "  and should_run_async(code)\n"
     ]
    },
    {
     "data": {
      "image/png": "[encoded data removed]",
      "text/plain": [
       "<Figure size 432x288 with 1 Axes>"
      ]
     },
     "metadata": {
      "needs_background": "light"
     },
     "output_type": "display_data"
    }
   ],
   "source": [
    "# Show graph\n",
    "x = range(min_topics, max_topics, step_size)\n",
    "plt.plot(target_results.Topics, target_results.Coherence)\n",
    "plt.xticks(x)\n",
    "plt.xlabel(\"Num Topics\")\n",
    "plt.ylabel(\"Coherence score\")\n",
    "plt.legend((\"coherence_values\"), loc='best')\n",
    "plt.show()"
   ]
  },
  {
   "cell_type": "markdown",
   "metadata": {},
   "source": [
    "### choose the number of topics: **6**"
   ]
  },
  {
   "cell_type": "code",
   "execution_count": 19,
   "metadata": {
    "colab": {
     "base_uri": "https://localhost:8080/"
    },
    "executionInfo": {
     "elapsed": 1315,
     "status": "ok",
     "timestamp": 1670926426561,
     "user": {
      "displayName": "Bella Yang",
      "userId": "16101934561747208179"
     },
     "user_tz": -120
    },
    "id": "XJ5j_PN94cwZ",
    "outputId": "5ca83171-82c3-4a52-bd00-3104099e1f66"
   },
   "outputs": [
    {
     "name": "stderr",
     "output_type": "stream",
     "text": [
      "c:\\users\\user\\appdata\\local\\programs\\python\\python39\\lib\\site-packages\\ipykernel\\ipkernel.py:283: DeprecationWarning: `should_run_async` will not call `transform_cell` automatically in the future. Please pass the result to `transformed_cell` argument and any exception that happen during thetransform in `preprocessing_exc_tuple` in IPython 7.17 and above.\n",
      "  and should_run_async(code)\n"
     ]
    }
   ],
   "source": [
    "lda_model_target = gensim.models.LdaMulticore(corpus=corpus_target,id2word=id2word,num_topics=6, \n",
    "                                       random_state=100,chunksize=1,passes=20)"
   ]
  },
  {
   "cell_type": "code",
   "execution_count": 20,
   "metadata": {
    "colab": {
     "base_uri": "https://localhost:8080/"
    },
    "executionInfo": {
     "elapsed": 2497,
     "status": "ok",
     "timestamp": 1670926433278,
     "user": {
      "displayName": "Bella Yang",
      "userId": "16101934561747208179"
     },
     "user_tz": -120
    },
    "id": "14NtSVdY4cwZ",
    "outputId": "caba38e8-21a7-4a02-d74e-96869dbd9dbe"
   },
   "outputs": [
    {
     "name": "stderr",
     "output_type": "stream",
     "text": [
      "c:\\users\\user\\appdata\\local\\programs\\python\\python39\\lib\\site-packages\\ipykernel\\ipkernel.py:283: DeprecationWarning: `should_run_async` will not call `transform_cell` automatically in the future. Please pass the result to `transformed_cell` argument and any exception that happen during thetransform in `preprocessing_exc_tuple` in IPython 7.17 and above.\n",
      "  and should_run_async(code)\n",
      "c:\\users\\user\\appdata\\local\\programs\\python\\python39\\lib\\site-packages\\pyLDAvis\\_prepare.py:246: FutureWarning: In a future version of pandas all arguments of DataFrame.drop except for the argument 'labels' will be keyword-only.\n",
      "  default_term_info = default_term_info.sort_values(\n"
     ]
    }
   ],
   "source": [
    "target_topics = pyLDAvis.gensim_models.prepare(lda_model_target,corpus_target,id2word)"
   ]
  },
  {
   "cell_type": "code",
   "execution_count": 21,
   "metadata": {
    "colab": {
     "base_uri": "https://localhost:8080/",
     "height": 881
    },
    "executionInfo": {
     "elapsed": 14,
     "status": "ok",
     "timestamp": 1670926433653,
     "user": {
      "displayName": "Bella Yang",
      "userId": "16101934561747208179"
     },
     "user_tz": -120
    },
    "id": "es7zsRMG4cwa",
    "outputId": "5b462460-5fee-47c9-bbbd-d867360991fb"
   },
   "outputs": [
    {
     "name": "stderr",
     "output_type": "stream",
     "text": [
      "c:\\users\\user\\appdata\\local\\programs\\python\\python39\\lib\\site-packages\\ipykernel\\ipkernel.py:283: DeprecationWarning: `should_run_async` will not call `transform_cell` automatically in the future. Please pass the result to `transformed_cell` argument and any exception that happen during thetransform in `preprocessing_exc_tuple` in IPython 7.17 and above.\n",
      "  and should_run_async(code)\n"
     ]
    },
    {
     "data": {
      "text/html": [
       "\n",
       "<link rel=\"stylesheet\" type=\"text/css\" href=\"https://cdn.jsdelivr.net/gh/bmabey/pyLDAvis@3.3.1/pyLDAvis/js/ldavis.v1.0.0.css\">\n",
       "\n",
       "\n",
       "<div id=\"ldavis_el1128021543626867042723654913\"></div>\n",
       "<script type=\"text/javascript\">\n",
       "\n",
       "var ldavis_el1128021543626867042723654913_data = {\"mdsDat\": {\"x\": [0.2952836243826493, 0.20269811524940787, -0.1426913839135819, -0.12106486128395363, -0.1435788587794365, -0.09064663565508524], \"y\": [0.012790165880448612, -0.035408541709146105, -0.2329748021563743, 0.15741120331972377, 0.03563325919423326, 0.06254871547111443], \"topics\": [1, 2, 3, 4, 5, 6], \"cluster\": [1, 1, 1, 1, 1, 1], \"Freq\": [39.254484973412815, 21.33690302784747, 14.067783865765293, 10.238411670451356, 10.076097973770064, 5.026318488753005]}, \"tinfo\": {\"Term\": [\"islamic\", \"flag\", \"sydney\", \"isis\", \"hostage\", \"sydneysiege\", \"demand\", \"hostages\", \"force\", \"cafe\", \"australian\", \"hold\", \"report\", \"pm\", \"uber\", \"window\", \"price\", \"take\", \"deliver\", \"gunman\", \"speak\", \"want\", \"surge\", \"black\", \"wave\", \"break\", \"ask\", \"people\", \"photo\", \"say\", \"isis\", \"take\", \"gunman\", \"break\", \"siege\", \"gunmen\", \"see\", \"martin\", \"place\", \"two\", \"windows\", \"develop\", \"arabic\", \"dozen\", \"remain\", \"cafe\", \"sydney\", \"hostages\", \"dozens\", \"bear\", \"script\", \"inside\", \"news\", \"visible\", \"display\", \"enter\", \"hour\", \"rd\", \"stay\", \"flag\", \"hold\", \"window\", \"australia\", \"attack\", \"not\", \"islamic\", \"black\", \"caf\\u00e9\", \"update\", \"confirm\", \"local\", \"jihadist\", \"tv\", \"shahada\", \"store\", \"martinplace\", \"lindt\", \"state\", \"make\", \"creed\", \"chocolate\", \"minister\", \"white\", \"alnusra\", \"expert\", \"jabah\", \"terror\", \"window\", \"picture\", \"rise\", \"basically\", \"ppl\", \"leave\", \"right\", \"shahadah\", \"hold\", \"flag\", \"sydneysiege\", \"hostages\", \"sydney\", \"not\", \"cafe\", \"news\", \"display\", \"inside\", \"hostage\", \"australian\", \"report\", \"pm\", \"people\", \"say\", \"taker\", \"around\", \"lonewolf\", \"media\", \"talk\", \"latest\", \"call\", \"live\", \"accord\", \"contact\", \"appear\", \"islamists\", \"demand\", \"terrorists\", \"asshields\", \"cowardsgthostages\", \"religion\", \"women\", \"phone\", \"things\", \"sky\", \"sydneysiege\", \"similar\", \"alert\", \"reportedly\", \"use\", \"australia\", \"uber\", \"price\", \"surge\", \"crisis\", \"terrorist\", \"islamist\", \"gunmans\", \"minimum\", \"via\", \"yes\", \"intros\", \"muhammad\", \"god\", \"au\", \"clown\", \"do\", \"gouge\", \"im\", \"officially\", \"sad\", \"sorry\", \"headband\", \"read\", \"soldier\", \"allegedly\", \"charge\", \"passengers\", \"criticize\", \"mt\", \"introduce\", \"attack\", \"deliver\", \"speak\", \"want\", \"ask\", \"also\", \"isil\", \"hostagetaker\", \"bring\", \"prime\", \"shop\", \"situation\", \"abbott\", \"bbc\", \"elements\", \"frank\", \"gardner\", \"lions\", \"wrong\", \"house\", \"opera\", \"contribution\", \"daily\", \"mamamia\", \"pick\", \"tele\", \"whos\", \"worst\", \"kill\", \"minster\", \"militants\", \"demand\", \"reportedly\", \"four\", \"force\", \"wave\", \"photo\", \"jihadists\", \"terrify\", \"men\", \"bomb\", \"city\", \"warn\", \"police\", \"man\", \"one\", \"cbd\", \"fly\", \"sydneys\", \"doors\", \"outside\", \"jihad\", \"four\", \"lindt\", \"allege\", \"busy\", \"bash\", \"cheney\", \"ongoing\", \"possible\", \"waterboarding\", \"dramaalert\", \"hot\", \"press\", \"image\", \"islamworry\", \"sydneyinstead\", \"worry\", \"cordon\", \"street\", \"face\", \"windows\", \"taker\", \"white\", \"australian\", \"asshields\"], \"Freq\": [21.0, 62.0, 60.0, 31.0, 12.0, 20.0, 13.0, 43.0, 5.0, 39.0, 8.0, 31.0, 6.0, 6.0, 5.0, 15.0, 4.0, 15.0, 4.0, 14.0, 4.0, 4.0, 3.0, 6.0, 2.0, 12.0, 3.0, 4.0, 2.0, 3.0, 31.36515320444901, 14.613492899547111, 13.643392977713637, 12.03942816365682, 8.684974127729477, 7.8763550757088465, 6.683867087871021, 4.530746329825014, 4.530746329825014, 4.191349825028841, 3.580769157820639, 2.528307124266922, 2.4800677667142654, 2.211565382373664, 2.211565382373664, 31.50648161326829, 46.70960984551327, 31.925058025879274, 1.5073237239829267, 1.4902240851379214, 1.4902240851379214, 4.509282777329865, 6.691261713035702, 1.2379225769173243, 5.166963586220768, 1.1490986324050707, 1.1490986324050707, 1.1490986324050707, 1.1490986324050707, 41.51529402309655, 19.227110231153457, 5.157952466422114, 1.9137057764538532, 1.721256372607676, 1.5507894301987777, 21.179560574205208, 5.919382786067116, 4.1504727681113875, 3.2115834663039293, 3.145355834098316, 2.7700520846943153, 2.3443416776146457, 2.2555727715852814, 2.0892854094382853, 2.0832822650611544, 2.089699853245853, 3.2339593006195395, 1.9729035040052911, 1.6547550672639875, 1.3152467187258512, 1.2213120063066436, 1.2633577718816116, 1.2131299804165043, 1.156784025619968, 1.156784025619968, 1.156784025619968, 1.156784025619968, 10.226377478480032, 0.9889438606434396, 0.9889438606434396, 0.9862004003776208, 0.9862004003776208, 0.9392447807960066, 0.9392447807960066, 0.9392447807960066, 11.63211829365669, 20.2379457456995, 7.735759858905732, 10.714804482028978, 13.02819338537928, 1.8328109810286886, 8.052217657858392, 2.5562858371434176, 1.9763965122810359, 1.3525630926861405, 12.306982835263511, 8.12561853527067, 6.26978170755033, 6.246636069538983, 3.8396576034541696, 3.1863692962761814, 2.7304961558607803, 2.4596942711451275, 2.4596942711451275, 2.4596942711451275, 2.4596942711451275, 2.3437650127677694, 1.8437942715173505, 1.542966596957232, 2.4606030405252803, 1.2837797506421618, 1.2667428009751416, 1.219265543768185, 8.712207131882794, 1.0382829455105995, 0.9956347327884919, 0.9956347327884919, 0.9956347327884919, 0.9956347327884919, 0.9781320697667789, 0.9781320697667789, 0.9711136834632322, 11.949807249575482, 0.8486451236755833, 0.7538375723753271, 1.698374951511864, 1.2402952596123917, 1.3550288795831922, 4.986805760441469, 4.16284660628572, 3.2351458308426904, 2.4111962281608026, 2.173745146238339, 1.9761280355129789, 1.904202373657506, 1.7538055871042881, 1.7538055871042881, 1.709256431716512, 1.5923053022956162, 1.5520611583719426, 1.1700636577445174, 1.038506702841386, 1.038506702841386, 1.038506702841386, 1.038506702841386, 1.038506702841386, 1.038506702841386, 1.038506702841386, 1.038506702841386, 1.0218899316783823, 1.0218899316783823, 1.0218899316783823, 0.9538865014666101, 0.9538865014666101, 0.9538865014666101, 0.9530485849058958, 0.9143986360346104, 0.9106838335685377, 1.3233135416266846, 3.67129754502497, 3.5836404781709583, 3.5772803685520635, 3.022324445617714, 2.365950846100084, 2.151249614131712, 1.9409758059340168, 1.8469447954245715, 1.8404580511635156, 1.779277379290492, 1.7994083854863379, 1.632475549607385, 1.2806244775129354, 1.2806244775129354, 1.2806244775129354, 1.2806244775129354, 1.2806244775129354, 1.2806244775129354, 1.279216420896527, 1.279216420896527, 0.9816953348374149, 0.9816953348374149, 0.9816953348374149, 0.9816953348374149, 0.9816953348374149, 0.9816953348374149, 0.9816953348374149, 0.9751818093004959, 0.9691695015489367, 1.5878737290097604, 3.995425473935252, 1.5294625248360965, 1.2805554846896854, 4.8226356807948525, 1.9339087990632633, 1.5837555981198648, 1.3245903133238066, 1.0773182209242025, 1.0721522683698128, 0.9494317432700762, 0.9494317432700762, 0.9494317432700762, 0.8698964227779525, 0.7671477586762532, 0.7139349969096312, 0.6777107784473657, 0.6777107784473657, 0.98936812198713, 0.465642763802228, 0.465642763802228, 0.7139370317941792, 0.9494835001161854, 0.46578883312346964, 0.10217407463664566, 0.10217407463664566, 0.10217314566761293, 0.10217314566761293, 0.10217314566761293, 0.10217314566761293, 0.10217314566761293, 0.10321999423510304, 0.10321999423510304, 0.10321999423510304, 0.10427301381116771, 0.10427301381116771, 0.10427301381116771, 0.10427301381116771, 0.10261171858345776, 0.10261171858345776, 0.10427301381116771, 0.10641502839500504, 0.10531005290803841, 0.10375445002611176, 0.10432891784045878, 0.10346680140062008], \"Total\": [21.0, 62.0, 60.0, 31.0, 12.0, 20.0, 13.0, 43.0, 5.0, 39.0, 8.0, 31.0, 6.0, 6.0, 5.0, 15.0, 4.0, 15.0, 4.0, 14.0, 4.0, 4.0, 3.0, 6.0, 2.0, 12.0, 3.0, 4.0, 2.0, 3.0, 31.940378292985297, 15.187946819095597, 14.223281354000388, 12.612650575277895, 9.258352413985016, 8.445695237793535, 7.256283751997946, 5.114579659751151, 5.114579659751151, 4.762372809701794, 4.15639410351592, 3.104578412577819, 3.04988099370127, 2.7804231915922553, 2.7804231915922553, 39.98875655511316, 60.1708979278337, 43.06944680002973, 2.0803913076342275, 2.0636787642197767, 2.0636787642197767, 6.291557961247196, 9.677644479445298, 1.806781033021281, 7.575448967346815, 1.7184497018204585, 1.7184497018204585, 1.7184497018204585, 1.7184497018204585, 62.18674890294888, 31.28838684967523, 15.813794984476955, 3.735754782574113, 3.5103990736277932, 3.811262983064293, 21.774313462706676, 6.512893598880132, 4.745253879033899, 3.816851667930642, 3.740809477956925, 3.3628184423302048, 2.937044046301429, 2.8480125481565532, 2.683197309066566, 2.678668594054123, 2.6880382303244783, 4.194712030544916, 2.569337348466461, 2.2470494315910168, 1.9090503735899178, 1.816352578913858, 1.87907777653955, 1.811028401332909, 1.7492709367881543, 1.7492709367881543, 1.7492709367881543, 1.7492709367881543, 15.813794984476955, 1.5818106009581256, 1.5818106009581256, 1.579406651139935, 1.579406651139935, 1.5318659762193614, 1.5318659762193614, 1.5318659762193614, 31.28838684967523, 62.18674890294888, 20.18163939236471, 43.06944680002973, 60.1708979278337, 3.811262983064293, 39.98875655511316, 9.677644479445298, 7.575448967346815, 6.291557961247196, 12.944304215277917, 8.759958958433003, 6.899959217851114, 6.87508247427292, 4.4682320280646906, 3.8211189293255883, 3.3615713062751498, 3.087383178583902, 3.087383178583902, 3.087383178583902, 3.087383178583902, 2.978497568992175, 2.471562455425377, 2.1731771612031947, 3.6523358842570657, 1.9123008391968828, 1.900951462167424, 1.84675610132073, 13.230993693365575, 1.6664804532214026, 1.6257914692555424, 1.6257914692555424, 1.6257914692555424, 1.6257914692555424, 1.6061149650983244, 1.6061149650983244, 1.5995817556023733, 20.18163939236471, 1.4763447032968526, 1.380759467888664, 3.7523957894334954, 2.675677488018694, 3.735754782574113, 5.612040530823226, 4.78534148669627, 3.8577106032510255, 3.033742149313213, 2.798856484509361, 2.6039563207178276, 2.545817455719017, 2.376328195632044, 2.376328195632044, 2.3323410132066837, 2.214921076971365, 2.174666768298518, 1.7927485840019446, 1.661029349212542, 1.661029349212542, 1.661029349212542, 1.661029349212542, 1.661029349212542, 1.661029349212542, 1.661029349212542, 1.661029349212542, 1.6451588729513549, 1.6451588729513549, 1.6451588729513549, 1.5765860081310894, 1.5765860081310894, 1.5765860081310894, 1.576363471010018, 1.5371057943119861, 1.533241729240026, 3.5103990736277932, 4.298682934659228, 4.212543730851686, 4.20566133209781, 3.6509818074728977, 2.9941669013943555, 2.7791561567959806, 2.57390075658934, 2.476920767989792, 2.470142741448172, 2.4067104185180237, 2.4367461953876384, 2.2599031718520024, 1.9080893965774597, 1.9080893965774597, 1.9080893965774597, 1.9080893965774597, 1.9080893965774597, 1.9080893965774597, 1.9064621759008367, 1.9064621759008367, 1.6090526824065952, 1.6090526824065952, 1.6090526824065952, 1.6090526824065952, 1.6090526824065952, 1.6090526824065952, 1.6090526824065952, 1.6048675610712466, 1.5989924924357226, 2.6454192658051556, 13.230993693365575, 3.7523957894334954, 2.7582854307280957, 5.459669655447419, 2.5682019517173784, 2.215948901898585, 1.9599221829605757, 1.7110983818141339, 1.7110582670201966, 1.5836643574534301, 1.5836643574534301, 1.5836643574534301, 1.5049124588320386, 1.3999600964832402, 1.3465062395969993, 1.3104145953212356, 1.3104145953212356, 2.1986441899174824, 1.097816227628577, 1.097816227628577, 2.016253964682651, 2.7582854307280957, 4.194712030544916, 1.0601653564447098, 1.0601653564447098, 1.073069344467402, 1.073069344467402, 1.073069344467402, 1.073069344467402, 1.073069344467402, 1.1605946651190349, 1.1605946651190349, 1.1605946651190349, 1.4015324337633008, 1.4015324337633008, 1.4015324337633008, 1.4015324337633008, 1.159971064438557, 1.159971064438557, 1.9107941885508777, 4.15639410351592, 3.3615713062751498, 1.811028401332909, 8.759958958433003, 1.6257914692555424], \"Category\": [\"Default\", \"Default\", \"Default\", \"Default\", \"Default\", \"Default\", \"Default\", \"Default\", \"Default\", \"Default\", \"Default\", \"Default\", \"Default\", \"Default\", \"Default\", \"Default\", \"Default\", \"Default\", \"Default\", \"Default\", \"Default\", \"Default\", \"Default\", \"Default\", \"Default\", \"Default\", \"Default\", \"Default\", \"Default\", \"Default\", \"Topic1\", \"Topic1\", \"Topic1\", \"Topic1\", \"Topic1\", \"Topic1\", \"Topic1\", \"Topic1\", \"Topic1\", \"Topic1\", \"Topic1\", \"Topic1\", \"Topic1\", \"Topic1\", \"Topic1\", \"Topic1\", \"Topic1\", \"Topic1\", \"Topic1\", \"Topic1\", \"Topic1\", \"Topic1\", \"Topic1\", \"Topic1\", \"Topic1\", \"Topic1\", \"Topic1\", \"Topic1\", \"Topic1\", \"Topic1\", \"Topic1\", \"Topic1\", \"Topic1\", \"Topic1\", \"Topic1\", \"Topic2\", \"Topic2\", \"Topic2\", \"Topic2\", \"Topic2\", \"Topic2\", \"Topic2\", \"Topic2\", \"Topic2\", \"Topic2\", \"Topic2\", \"Topic2\", \"Topic2\", \"Topic2\", \"Topic2\", \"Topic2\", \"Topic2\", \"Topic2\", \"Topic2\", \"Topic2\", \"Topic2\", \"Topic2\", \"Topic2\", \"Topic2\", \"Topic2\", \"Topic2\", \"Topic2\", \"Topic2\", \"Topic2\", \"Topic2\", \"Topic2\", \"Topic2\", \"Topic2\", \"Topic2\", \"Topic2\", \"Topic2\", \"Topic2\", \"Topic2\", \"Topic2\", \"Topic2\", \"Topic3\", \"Topic3\", \"Topic3\", \"Topic3\", \"Topic3\", \"Topic3\", \"Topic3\", \"Topic3\", \"Topic3\", \"Topic3\", \"Topic3\", \"Topic3\", \"Topic3\", \"Topic3\", \"Topic3\", \"Topic3\", \"Topic3\", \"Topic3\", \"Topic3\", \"Topic3\", \"Topic3\", \"Topic3\", \"Topic3\", \"Topic3\", \"Topic3\", \"Topic3\", \"Topic3\", \"Topic3\", \"Topic3\", \"Topic3\", \"Topic3\", \"Topic3\", \"Topic3\", \"Topic4\", \"Topic4\", \"Topic4\", \"Topic4\", \"Topic4\", \"Topic4\", \"Topic4\", \"Topic4\", \"Topic4\", \"Topic4\", \"Topic4\", \"Topic4\", \"Topic4\", \"Topic4\", \"Topic4\", \"Topic4\", \"Topic4\", \"Topic4\", \"Topic4\", \"Topic4\", \"Topic4\", \"Topic4\", \"Topic4\", \"Topic4\", \"Topic4\", \"Topic4\", \"Topic4\", \"Topic4\", \"Topic4\", \"Topic4\", \"Topic4\", \"Topic5\", \"Topic5\", \"Topic5\", \"Topic5\", \"Topic5\", \"Topic5\", \"Topic5\", \"Topic5\", \"Topic5\", \"Topic5\", \"Topic5\", \"Topic5\", \"Topic5\", \"Topic5\", \"Topic5\", \"Topic5\", \"Topic5\", \"Topic5\", \"Topic5\", \"Topic5\", \"Topic5\", \"Topic5\", \"Topic5\", \"Topic5\", \"Topic5\", \"Topic5\", \"Topic5\", \"Topic5\", \"Topic5\", \"Topic5\", \"Topic5\", \"Topic5\", \"Topic5\", \"Topic6\", \"Topic6\", \"Topic6\", \"Topic6\", \"Topic6\", \"Topic6\", \"Topic6\", \"Topic6\", \"Topic6\", \"Topic6\", \"Topic6\", \"Topic6\", \"Topic6\", \"Topic6\", \"Topic6\", \"Topic6\", \"Topic6\", \"Topic6\", \"Topic6\", \"Topic6\", \"Topic6\", \"Topic6\", \"Topic6\", \"Topic6\", \"Topic6\", \"Topic6\", \"Topic6\", \"Topic6\", \"Topic6\", \"Topic6\", \"Topic6\", \"Topic6\", \"Topic6\", \"Topic6\", \"Topic6\", \"Topic6\", \"Topic6\", \"Topic6\", \"Topic6\", \"Topic6\", \"Topic6\", \"Topic6\"], \"logprob\": [30.0, 29.0, 28.0, 27.0, 26.0, 25.0, 24.0, 23.0, 22.0, 21.0, 20.0, 19.0, 18.0, 17.0, 16.0, 15.0, 14.0, 13.0, 12.0, 11.0, 10.0, 9.0, 8.0, 7.0, 6.0, 5.0, 4.0, 3.0, 2.0, 1.0, -2.4704, -3.2341, -3.3028, -3.4279, -3.7545, -3.8522, -4.0164, -4.4052, -4.4052, -4.4831, -4.6405, -4.9885, -5.0078, -5.1224, -5.1224, -2.4659, -2.0721, -2.4527, -5.5057, -5.5172, -5.5172, -4.4099, -4.0153, -5.7026, -4.2738, -5.7771, -5.7771, -5.7771, -5.7771, -2.19, -2.9598, -4.2755, -5.267, -5.373, -5.4773, -2.2534, -3.5282, -3.8832, -4.1397, -4.1605, -4.2876, -4.4544, -4.493, -4.5696, -4.5725, -4.5694, -4.1327, -4.6269, -4.8028, -5.0324, -5.1065, -5.0727, -5.1132, -5.1608, -5.1608, -5.1608, -5.1608, -2.9815, -5.3176, -5.3176, -5.3203, -5.3203, -5.3691, -5.3691, -5.3691, -2.8527, -2.2989, -3.2606, -2.9348, -2.7393, -4.7006, -3.2205, -4.3679, -4.6252, -5.0045, -2.3797, -2.7949, -3.0542, -3.0579, -3.5445, -3.731, -3.8854, -3.9899, -3.9899, -3.9899, -3.9899, -4.0381, -4.2781, -4.4562, -3.9895, -4.6401, -4.6535, -4.6917, -2.7252, -4.8523, -4.8943, -4.8943, -4.8943, -4.8943, -4.912, -4.912, -4.9192, -2.4092, -5.054, -5.1725, -4.3602, -4.6746, -4.5861, -2.9654, -3.146, -3.3981, -3.692, -3.7957, -3.891, -3.9281, -4.0104, -4.0104, -4.0361, -4.107, -4.1326, -4.4151, -4.5344, -4.5344, -4.5344, -4.5344, -4.5344, -4.5344, -4.5344, -4.5344, -4.5505, -4.5505, -4.5505, -4.6194, -4.6194, -4.6194, -4.6203, -4.6616, -4.6657, -4.292, -3.2556, -3.2798, -3.2816, -3.4502, -3.695, -3.7901, -3.893, -3.9426, -3.9462, -3.98, -3.9687, -4.0661, -4.3088, -4.3088, -4.3088, -4.3088, -4.3088, -4.3088, -4.3099, -4.3099, -4.5747, -4.5747, -4.5747, -4.5747, -4.5747, -4.5747, -4.5747, -4.5813, -4.5875, -4.0938, -3.171, -4.1313, -4.3089, -2.2874, -3.2012, -3.4009, -3.5796, -3.7862, -3.791, -3.9126, -3.9126, -3.9126, -4.0001, -4.1258, -4.1977, -4.2497, -4.2497, -3.8714, -4.625, -4.625, -4.1977, -3.9125, -4.6247, -6.1418, -6.1418, -6.1418, -6.1418, -6.1418, -6.1418, -6.1418, -6.1316, -6.1316, -6.1316, -6.1214, -6.1214, -6.1214, -6.1214, -6.1375, -6.1375, -6.1214, -6.1011, -6.1115, -6.1264, -6.1209, -6.1292], \"loglift\": [30.0, 29.0, 28.0, 27.0, 26.0, 25.0, 24.0, 23.0, 22.0, 21.0, 20.0, 19.0, 18.0, 17.0, 16.0, 15.0, 14.0, 13.0, 12.0, 11.0, 10.0, 9.0, 8.0, 7.0, 6.0, 5.0, 4.0, 3.0, 2.0, 1.0, 0.9169, 0.8965, 0.8935, 0.8886, 0.8712, 0.8653, 0.8529, 0.8139, 0.8139, 0.8074, 0.786, 0.7298, 0.7283, 0.7062, 0.7062, 0.6967, 0.6819, 0.6357, 0.6129, 0.6095, 0.6095, 0.602, 0.5661, 0.557, 0.5525, 0.5327, 0.5327, 0.5327, 0.5327, 0.531, 0.4482, -0.1852, 0.2662, 0.2224, 0.0359, 1.517, 1.4492, 1.4108, 1.3721, 1.3714, 1.3508, 1.3193, 1.3115, 1.2945, 1.2934, 1.2929, 1.2846, 1.2806, 1.2388, 1.1722, 1.1478, 1.1477, 1.144, 1.1312, 1.1312, 1.1312, 1.1312, 1.1088, 1.075, 1.075, 1.0738, 1.0738, 1.0556, 1.0556, 1.0556, 0.5553, 0.4221, 0.5858, 0.1535, 0.0147, 0.8126, -0.0579, 0.2135, 0.2011, 0.0075, 1.9108, 1.8861, 1.8655, 1.8654, 1.8097, 1.7796, 1.7534, 1.734, 1.734, 1.734, 1.734, 1.7216, 1.6683, 1.6188, 1.5663, 1.5628, 1.5554, 1.5461, 1.5434, 1.4881, 1.4709, 1.4709, 1.4709, 1.4709, 1.4654, 1.4654, 1.4622, 1.4372, 1.4076, 1.3561, 1.1686, 1.1924, 0.9472, 2.1609, 2.1397, 2.103, 2.0493, 2.0263, 2.0031, 1.9886, 1.9753, 1.9753, 1.9682, 1.949, 1.9417, 1.8523, 1.8094, 1.8094, 1.8094, 1.8094, 1.8094, 1.8094, 1.8094, 1.8094, 1.8028, 1.8028, 1.8028, 1.7766, 1.7766, 1.7766, 1.7758, 1.7596, 1.7581, 1.3034, 2.1372, 2.1333, 2.1332, 2.106, 2.0595, 2.0389, 2.0128, 2.0015, 2.0007, 1.993, 1.9918, 1.9698, 1.8962, 1.8962, 1.8962, 1.8962, 1.8962, 1.8962, 1.896, 1.896, 1.8009, 1.8009, 1.8009, 1.8009, 1.8009, 1.8009, 1.8009, 1.7968, 1.7943, 1.7846, 1.0976, 1.3975, 1.5277, 2.8664, 2.7068, 2.6546, 2.5987, 2.5278, 2.523, 2.4788, 2.4788, 2.4788, 2.4424, 2.389, 2.356, 2.3311, 2.3311, 2.192, 2.1328, 2.1328, 1.9523, 1.924, 0.7926, 0.651, 0.651, 0.6389, 0.6389, 0.6389, 0.6389, 0.6389, 0.5707, 0.5707, 0.5707, 0.3922, 0.3922, 0.3922, 0.3922, 0.5653, 0.5653, 0.0822, -0.6746, -0.4728, 0.1309, -1.4399, 0.236]}, \"token.table\": {\"Topic\": [5, 2, 3, 3, 4, 2, 5, 3, 1, 3, 5, 3, 1, 4, 4, 1, 3, 3, 2, 5, 1, 2, 6, 1, 5, 1, 2, 2, 3, 6, 4, 2, 6, 4, 2, 3, 5, 3, 3, 2, 4, 4, 5, 5, 3, 5, 1, 1, 2, 4, 1, 1, 3, 5, 1, 2, 3, 4, 1, 2, 6, 6, 5, 6, 5, 5, 4, 4, 1, 4, 1, 4, 1, 2, 3, 1, 2, 5, 3, 1, 5, 4, 4, 1, 2, 4, 4, 5, 1, 2, 4, 3, 4, 2, 4, 6, 2, 6, 5, 3, 2, 2, 5, 3, 2, 3, 2, 5, 6, 1, 2, 3, 6, 3, 5, 4, 2, 5, 4, 4, 1, 2, 1, 2, 4, 6, 5, 4, 3, 3, 6, 5, 2, 1, 3, 6, 2, 3, 4, 5, 1, 4, 3, 1, 3, 3, 5, 2, 2, 4, 3, 1, 1, 2, 2, 5, 1, 3, 5, 3, 4, 4, 5, 2, 1, 2, 3, 4, 1, 2, 4, 2, 6, 2, 3, 1, 3, 3, 5, 6, 2, 4, 3, 3, 2, 1, 4, 2, 2, 3, 4, 1, 5, 6, 6, 2, 5, 1, 2, 1, 3, 4, 5, 5, 4], \"Freq\": [0.8849936691583956, 0.2737973810980458, 0.5475947621960916, 0.7242391040990739, 0.6342819198208007, 0.5716667321050365, 0.6679654360846147, 0.5260523584646509, 0.6557632917908849, 0.647797790009773, 0.8216967813587962, 0.6150850332963702, 0.5697357930114528, 0.2848678965057264, 0.6020363219193438, 0.5353670453235436, 0.2676835226617718, 0.9132462877920896, 0.6331491635027946, 0.5240844594565119, 0.48457154152965953, 0.9212495043726305, 0.63144693210626, 0.9514257077351564, 0.8074541688401082, 0.8002249321230349, 0.20005623303075873, 0.8429475222966094, 0.809204718096344, 0.7631172634755793, 0.6342819198208007, 0.5505539021493171, 0.63144693210626, 0.6020363219193438, 0.8019654616675307, 0.5229302730526303, 0.621483690953077, 0.862090469889449, 0.6150850332963702, 0.5238206460312134, 0.6592518090084767, 0.6343714621598491, 0.621483690953077, 0.9305175703350855, 0.6802210180564802, 0.30232045246954675, 0.9663147781501886, 0.6600268870600251, 0.26401075482401004, 0.6020363219193438, 0.7193149611353468, 0.9613576026109979, 0.8616272588995886, 0.5240844594565119, 0.5819198542387589, 0.5716667321050365, 0.5233426006797662, 0.5233426006797662, 0.6753850416838301, 0.32161192461134763, 0.7631172634755793, 0.9158063244744523, 0.36254406047311544, 0.36254406047311544, 0.5240844594565119, 0.5240844594565119, 0.5578026996778904, 0.6020363219193438, 0.9843016988525233, 0.785602280912611, 0.9472281173728483, 0.6078440304102889, 0.6072540617477445, 0.38352888110383865, 0.9270486694709035, 0.7429860928693868, 0.25540146942385167, 0.7770307362783434, 0.8616272588995886, 0.5819198542387589, 0.5245317807196896, 0.6020363219193438, 0.7135047152029633, 0.7947157176008649, 0.158943143520173, 0.6522128774147471, 0.9029667110011687, 0.7196429013567017, 0.9705583232496711, 0.9644391331082444, 0.7680620385554946, 0.54149002095341, 0.7135047152029633, 0.5716667321050365, 0.495969266529078, 0.495969266529078, 0.6809567607671961, 0.510224338850761, 0.6231043758729234, 0.6714794804001581, 0.6527986230675321, 0.7151861625195481, 0.5240844594565119, 0.9203115308338167, 0.8921088222417395, 0.647797790009773, 0.8900560761513403, 0.621483690953077, 0.714306073803134, 0.9775974435098103, 0.7440370369131901, 0.647797790009773, 0.5844336334270471, 0.37801191400019596, 0.7560238280003919, 0.841634587207366, 0.5321759495456161, 0.6253938056186331, 0.6505733071207395, 0.9196811342111145, 0.723316506911114, 0.30999278867619173, 0.5247604295182959, 0.5247604295182959, 0.6020363219193438, 0.7426627301031249, 0.5245317807196896, 0.6342819198208007, 0.8952086585647849, 0.6226204361023318, 0.9025478874022934, 0.621483690953077, 0.6321869378004455, 0.9775974435098103, 0.8727168033914436, 0.6644904785864416, 0.6331491635027946, 0.8616272588995886, 0.8358860096234306, 0.8096698083234894, 0.5819198542387589, 0.6078440304102889, 0.6150850332963702, 0.7193149611353468, 0.8695703569489514, 0.5329928163846338, 0.5329928163846338, 0.6527986230675321, 0.6321869378004455, 0.6020363219193438, 0.7851103447673866, 0.48457154152965953, 0.9646811286938192, 0.7453793998831053, 0.6527986230675321, 0.8310098234550116, 0.9720952063139477, 0.6773485878784823, 0.820766645203211, 0.6251634194361128, 0.6078440304102889, 0.6020363219193438, 0.9495450387149538, 0.7784108230060655, 0.5819198542387589, 0.7466395822310484, 0.862090469889449, 0.7776633108434304, 0.7811085029239502, 0.21605128804279475, 0.7135047152029633, 0.454825753337347, 0.454825753337347, 0.39639990807816283, 0.5945998621172442, 0.987625264867316, 0.8924397927837516, 0.647797790009773, 0.621483690953077, 0.5844199320320693, 0.5716667321050365, 0.7145775466049306, 0.6000670443310285, 0.6226204361023318, 0.7022440969561562, 0.8399174444829884, 0.8909415341065888, 0.7859881024997994, 0.37373712059015285, 0.37373712059015285, 0.841634587207366, 0.5534704990387297, 0.9510989316880576, 0.63144693210626, 0.7787549568142735, 0.5521724558620971, 0.621483690953077, 0.31617963966954615, 0.6323592793390923, 0.962372648112549, 0.6150850332963702, 0.7135047152029633, 0.621483690953077, 0.5240844594565119, 0.8575075379951599], \"Term\": [\"abbott\", \"accord\", \"accord\", \"alert\", \"allegedly\", \"alnusra\", \"also\", \"appear\", \"arabic\", \"around\", \"ask\", \"asshields\", \"attack\", \"attack\", \"au\", \"australia\", \"australia\", \"australian\", \"basically\", \"bbc\", \"bear\", \"black\", \"bomb\", \"break\", \"bring\", \"cafe\", \"cafe\", \"caf\\u00e9\", \"call\", \"cbd\", \"charge\", \"chocolate\", \"city\", \"clown\", \"confirm\", \"contact\", \"contribution\", \"cordon\", \"cowardsgthostages\", \"creed\", \"crisis\", \"criticize\", \"daily\", \"deliver\", \"demand\", \"demand\", \"develop\", \"display\", \"display\", \"do\", \"dozen\", \"dozens\", \"dramaalert\", \"elements\", \"enter\", \"expert\", \"face\", \"face\", \"flag\", \"flag\", \"fly\", \"force\", \"four\", \"four\", \"frank\", \"gardner\", \"god\", \"gouge\", \"gunman\", \"gunmans\", \"gunmen\", \"headband\", \"hold\", \"hold\", \"hostage\", \"hostages\", \"hostages\", \"hostagetaker\", \"hot\", \"hour\", \"house\", \"im\", \"image\", \"inside\", \"inside\", \"introduce\", \"intros\", \"isil\", \"isis\", \"islamic\", \"islamist\", \"islamists\", \"islamworry\", \"jabah\", \"jihad\", \"jihad\", \"jihadist\", \"jihadists\", \"kill\", \"latest\", \"leave\", \"lindt\", \"lions\", \"live\", \"local\", \"lonewolf\", \"make\", \"mamamia\", \"man\", \"martin\", \"martinplace\", \"media\", \"men\", \"militants\", \"militants\", \"minimum\", \"minister\", \"minster\", \"mt\", \"muhammad\", \"news\", \"news\", \"not\", \"not\", \"officially\", \"one\", \"opera\", \"passengers\", \"people\", \"phone\", \"photo\", \"pick\", \"picture\", \"place\", \"pm\", \"police\", \"ppl\", \"press\", \"price\", \"prime\", \"rd\", \"read\", \"religion\", \"remain\", \"report\", \"reportedly\", \"reportedly\", \"right\", \"rise\", \"sad\", \"say\", \"script\", \"see\", \"shahada\", \"shahadah\", \"shop\", \"siege\", \"similar\", \"situation\", \"sky\", \"soldier\", \"sorry\", \"speak\", \"state\", \"stay\", \"store\", \"street\", \"surge\", \"sydney\", \"sydney\", \"sydneyinstead\", \"sydneys\", \"sydneys\", \"sydneysiege\", \"sydneysiege\", \"take\", \"taker\", \"talk\", \"tele\", \"terrify\", \"terror\", \"terrorist\", \"terrorists\", \"things\", \"tv\", \"two\", \"uber\", \"update\", \"use\", \"use\", \"via\", \"visible\", \"want\", \"warn\", \"wave\", \"white\", \"whos\", \"window\", \"window\", \"windows\", \"women\", \"worry\", \"worst\", \"wrong\", \"yes\"]}, \"R\": 30, \"lambda.step\": 0.01, \"plot.opts\": {\"xlab\": \"PC1\", \"ylab\": \"PC2\"}, \"topic.order\": [4, 5, 1, 6, 3, 2]};\n",
       "\n",
       "function LDAvis_load_lib(url, callback){\n",
       "  var s = document.createElement('script');\n",
       "  s.src = url;\n",
       "  s.async = true;\n",
       "  s.onreadystatechange = s.onload = callback;\n",
       "  s.onerror = function(){console.warn(\"failed to load library \" + url);};\n",
       "  document.getElementsByTagName(\"head\")[0].appendChild(s);\n",
       "}\n",
       "\n",
       "if(typeof(LDAvis) !== \"undefined\"){\n",
       "   // already loaded: just create the visualization\n",
       "   !function(LDAvis){\n",
       "       new LDAvis(\"#\" + \"ldavis_el1128021543626867042723654913\", ldavis_el1128021543626867042723654913_data);\n",
       "   }(LDAvis);\n",
       "}else if(typeof define === \"function\" && define.amd){\n",
       "   // require.js is available: use it to load d3/LDAvis\n",
       "   require.config({paths: {d3: \"https://d3js.org/d3.v5\"}});\n",
       "   require([\"d3\"], function(d3){\n",
       "      window.d3 = d3;\n",
       "      LDAvis_load_lib(\"https://cdn.jsdelivr.net/gh/bmabey/pyLDAvis@3.3.1/pyLDAvis/js/ldavis.v3.0.0.js\", function(){\n",
       "        new LDAvis(\"#\" + \"ldavis_el1128021543626867042723654913\", ldavis_el1128021543626867042723654913_data);\n",
       "      });\n",
       "    });\n",
       "}else{\n",
       "    // require.js not available: dynamically load d3 & LDAvis\n",
       "    LDAvis_load_lib(\"https://d3js.org/d3.v5.js\", function(){\n",
       "         LDAvis_load_lib(\"https://cdn.jsdelivr.net/gh/bmabey/pyLDAvis@3.3.1/pyLDAvis/js/ldavis.v3.0.0.js\", function(){\n",
       "                 new LDAvis(\"#\" + \"ldavis_el1128021543626867042723654913\", ldavis_el1128021543626867042723654913_data);\n",
       "            })\n",
       "         });\n",
       "}\n",
       "</script>"
      ],
      "text/plain": [
       "<IPython.core.display.HTML object>"
      ]
     },
     "execution_count": 21,
     "metadata": {},
     "output_type": "execute_result"
    }
   ],
   "source": [
    "pyLDAvis.display(target_topics)"
   ]
  },
  {
   "cell_type": "code",
   "execution_count": 22,
   "metadata": {
    "id": "JgxB6cfC4cwa",
    "outputId": "2ee7dd01-46f9-47cc-bc57-d611775184ea"
   },
   "outputs": [
    {
     "name": "stderr",
     "output_type": "stream",
     "text": [
      "c:\\users\\user\\appdata\\local\\programs\\python\\python39\\lib\\site-packages\\ipykernel\\ipkernel.py:283: DeprecationWarning: `should_run_async` will not call `transform_cell` automatically in the future. Please pass the result to `transformed_cell` argument and any exception that happen during thetransform in `preprocessing_exc_tuple` in IPython 7.17 and above.\n",
      "  and should_run_async(code)\n"
     ]
    }
   ],
   "source": [
    "save_path = 'D:/論文/PHEME9/Code/sydneysiege/18 targetanalysis/twanalysis\\\\'\n",
    "pyLDAvis.save_html(target_topics, save_path+'sydneysiege_lda_srctarget.html')"
   ]
  },
  {
   "cell_type": "markdown",
   "metadata": {
    "id": "FrJuFnE94cwb"
   },
   "source": [
    "## Non-Target"
   ]
  },
  {
   "cell_type": "code",
   "execution_count": 48,
   "metadata": {
    "colab": {
     "base_uri": "https://localhost:8080/"
    },
    "executionInfo": {
     "elapsed": 384,
     "status": "ok",
     "timestamp": 1670934997158,
     "user": {
      "displayName": "Bella Yang",
      "userId": "16101934561747208179"
     },
     "user_tz": -120
    },
    "id": "j_onY-aB4cwb",
    "outputId": "dd0ebaf6-ae44-42e5-e980-f51c1f73fa1c"
   },
   "outputs": [
    {
     "name": "stdout",
     "output_type": "stream",
     "text": [
      "Dictionary(792 unique tokens: ['break', 'cafe', 'chocolat', 'hold', 'hostages']...)\n"
     ]
    },
    {
     "name": "stderr",
     "output_type": "stream",
     "text": [
      "c:\\users\\user\\appdata\\local\\programs\\python\\python39\\lib\\site-packages\\ipykernel\\ipkernel.py:283: DeprecationWarning: `should_run_async` will not call `transform_cell` automatically in the future. Please pass the result to `transformed_cell` argument and any exception that happen during thetransform in `preprocessing_exc_tuple` in IPython 7.17 and above.\n",
      "  and should_run_async(code)\n"
     ]
    }
   ],
   "source": [
    "#Rumor dictionary\n",
    "id2word_non = corpora.Dictionary(nontarget_tw_list)\n",
    "print(id2word_non)"
   ]
  },
  {
   "cell_type": "code",
   "execution_count": 49,
   "metadata": {
    "id": "nPTUO8iV4cwb"
   },
   "outputs": [
    {
     "name": "stderr",
     "output_type": "stream",
     "text": [
      "c:\\users\\user\\appdata\\local\\programs\\python\\python39\\lib\\site-packages\\ipykernel\\ipkernel.py:283: DeprecationWarning: `should_run_async` will not call `transform_cell` automatically in the future. Please pass the result to `transformed_cell` argument and any exception that happen during thetransform in `preprocessing_exc_tuple` in IPython 7.17 and above.\n",
      "  and should_run_async(code)\n"
     ]
    }
   ],
   "source": [
    "# Term Document Frequency\n",
    "corpus_nontarget = [id2word_non.doc2bow(tw) for tw in nontarget_tw_list]"
   ]
  },
  {
   "cell_type": "code",
   "execution_count": 50,
   "metadata": {
    "id": "laJkkYBL4cwc"
   },
   "outputs": [
    {
     "name": "stderr",
     "output_type": "stream",
     "text": [
      "c:\\users\\user\\appdata\\local\\programs\\python\\python39\\lib\\site-packages\\ipykernel\\ipkernel.py:283: DeprecationWarning: `should_run_async` will not call `transform_cell` automatically in the future. Please pass the result to `transformed_cell` argument and any exception that happen during thetransform in `preprocessing_exc_tuple` in IPython 7.17 and above.\n",
      "  and should_run_async(code)\n"
     ]
    }
   ],
   "source": [
    "def compute_coherence_values(corpus, dictionary, k):\n",
    "    \n",
    "    lda_model = gensim.models.LdaMulticore(corpus=corpus,\n",
    "                                           id2word=dictionary,\n",
    "                                           num_topics=k, \n",
    "                                           random_state=100,\n",
    "                                           chunksize=1,\n",
    "                                           passes=20)\n",
    "    \n",
    "    coherence_model_lda = CoherenceModel(model=lda_model, \n",
    "                                         texts=nontarget_tw_list, #要改\n",
    "                                         dictionary=id2word_non,    #要改\n",
    "                                         coherence='c_v')\n",
    "    return coherence_model_lda.get_coherence()"
   ]
  },
  {
   "cell_type": "code",
   "execution_count": 28,
   "metadata": {
    "id": "4I59nKykfV6R"
   },
   "outputs": [
    {
     "name": "stderr",
     "output_type": "stream",
     "text": [
      "c:\\users\\user\\appdata\\local\\programs\\python\\python39\\lib\\site-packages\\ipykernel\\ipkernel.py:283: DeprecationWarning: `should_run_async` will not call `transform_cell` automatically in the future. Please pass the result to `transformed_cell` argument and any exception that happen during thetransform in `preprocessing_exc_tuple` in IPython 7.17 and above.\n",
      "  and should_run_async(code)\n"
     ]
    }
   ],
   "source": [
    "# Topics range\n",
    "min_topics = 2\n",
    "max_topics = 21\n",
    "step_size = 1\n",
    "topics_range = range(min_topics, max_topics, step_size)"
   ]
  },
  {
   "cell_type": "code",
   "execution_count": 29,
   "metadata": {
    "colab": {
     "base_uri": "https://localhost:8080/"
    },
    "executionInfo": {
     "elapsed": 36264,
     "status": "ok",
     "timestamp": 1670935090170,
     "user": {
      "displayName": "Bella Yang",
      "userId": "16101934561747208179"
     },
     "user_tz": -120
    },
    "id": "cIlIMxGt4cwc",
    "outputId": "1fd25238-5ee1-478f-db33-a41138aa13b3"
   },
   "outputs": [
    {
     "name": "stderr",
     "output_type": "stream",
     "text": [
      "c:\\users\\user\\appdata\\local\\programs\\python\\python39\\lib\\site-packages\\ipykernel\\ipkernel.py:283: DeprecationWarning: `should_run_async` will not call `transform_cell` automatically in the future. Please pass the result to `transformed_cell` argument and any exception that happen during thetransform in `preprocessing_exc_tuple` in IPython 7.17 and above.\n",
      "  and should_run_async(code)\n"
     ]
    }
   ],
   "source": [
    "nontarget_results ={'Topics': [], 'Coherence': []}\n",
    "\n",
    "for k in topics_range:\n",
    "\n",
    "    # get the coherence score for the given parameters\n",
    "    cv = compute_coherence_values(corpus=corpus_nontarget, \n",
    "                                  dictionary=id2word_non,k=k)\n",
    "    # Save the model results\n",
    "    nontarget_results['Topics'].append(k)\n",
    "    nontarget_results['Coherence'].append(cv)"
   ]
  },
  {
   "cell_type": "code",
   "execution_count": 30,
   "metadata": {
    "colab": {
     "base_uri": "https://localhost:8080/",
     "height": 300
    },
    "executionInfo": {
     "elapsed": 640,
     "status": "ok",
     "timestamp": 1670935090777,
     "user": {
      "displayName": "Bella Yang",
      "userId": "16101934561747208179"
     },
     "user_tz": -120
    },
    "id": "UksYuo0p4cwd",
    "outputId": "9857d5eb-00cc-4acc-a5db-9ed815d019fe"
   },
   "outputs": [
    {
     "name": "stderr",
     "output_type": "stream",
     "text": [
      "c:\\users\\user\\appdata\\local\\programs\\python\\python39\\lib\\site-packages\\ipykernel\\ipkernel.py:283: DeprecationWarning: `should_run_async` will not call `transform_cell` automatically in the future. Please pass the result to `transformed_cell` argument and any exception that happen during thetransform in `preprocessing_exc_tuple` in IPython 7.17 and above.\n",
      "  and should_run_async(code)\n"
     ]
    },
    {
     "data": {
      "text/html": [
       "<div>\n",
       "<style scoped>\n",
       "    .dataframe tbody tr th:only-of-type {\n",
       "        vertical-align: middle;\n",
       "    }\n",
       "\n",
       "    .dataframe tbody tr th {\n",
       "        vertical-align: top;\n",
       "    }\n",
       "\n",
       "    .dataframe thead th {\n",
       "        text-align: right;\n",
       "    }\n",
       "</style>\n",
       "<table border=\"1\" class=\"dataframe\">\n",
       "  <thead>\n",
       "    <tr style=\"text-align: right;\">\n",
       "      <th></th>\n",
       "      <th>Topics</th>\n",
       "      <th>Coherence</th>\n",
       "    </tr>\n",
       "  </thead>\n",
       "  <tbody>\n",
       "    <tr>\n",
       "      <th>0</th>\n",
       "      <td>2</td>\n",
       "      <td>0.260143</td>\n",
       "    </tr>\n",
       "    <tr>\n",
       "      <th>1</th>\n",
       "      <td>3</td>\n",
       "      <td>0.292883</td>\n",
       "    </tr>\n",
       "    <tr>\n",
       "      <th>2</th>\n",
       "      <td>4</td>\n",
       "      <td>0.333402</td>\n",
       "    </tr>\n",
       "    <tr>\n",
       "      <th>3</th>\n",
       "      <td>5</td>\n",
       "      <td>0.369527</td>\n",
       "    </tr>\n",
       "    <tr>\n",
       "      <th>4</th>\n",
       "      <td>6</td>\n",
       "      <td>0.401023</td>\n",
       "    </tr>\n",
       "    <tr>\n",
       "      <th>5</th>\n",
       "      <td>7</td>\n",
       "      <td>0.425709</td>\n",
       "    </tr>\n",
       "    <tr>\n",
       "      <th>6</th>\n",
       "      <td>8</td>\n",
       "      <td>0.464275</td>\n",
       "    </tr>\n",
       "    <tr>\n",
       "      <th>7</th>\n",
       "      <td>9</td>\n",
       "      <td>0.479410</td>\n",
       "    </tr>\n",
       "    <tr>\n",
       "      <th>8</th>\n",
       "      <td>10</td>\n",
       "      <td>0.429968</td>\n",
       "    </tr>\n",
       "    <tr>\n",
       "      <th>9</th>\n",
       "      <td>11</td>\n",
       "      <td>0.500667</td>\n",
       "    </tr>\n",
       "    <tr>\n",
       "      <th>10</th>\n",
       "      <td>12</td>\n",
       "      <td>0.488018</td>\n",
       "    </tr>\n",
       "    <tr>\n",
       "      <th>11</th>\n",
       "      <td>13</td>\n",
       "      <td>0.410027</td>\n",
       "    </tr>\n",
       "    <tr>\n",
       "      <th>12</th>\n",
       "      <td>14</td>\n",
       "      <td>0.432854</td>\n",
       "    </tr>\n",
       "    <tr>\n",
       "      <th>13</th>\n",
       "      <td>15</td>\n",
       "      <td>0.553377</td>\n",
       "    </tr>\n",
       "    <tr>\n",
       "      <th>14</th>\n",
       "      <td>16</td>\n",
       "      <td>0.440154</td>\n",
       "    </tr>\n",
       "    <tr>\n",
       "      <th>15</th>\n",
       "      <td>17</td>\n",
       "      <td>0.424569</td>\n",
       "    </tr>\n",
       "    <tr>\n",
       "      <th>16</th>\n",
       "      <td>18</td>\n",
       "      <td>0.451030</td>\n",
       "    </tr>\n",
       "    <tr>\n",
       "      <th>17</th>\n",
       "      <td>19</td>\n",
       "      <td>0.438112</td>\n",
       "    </tr>\n",
       "    <tr>\n",
       "      <th>18</th>\n",
       "      <td>20</td>\n",
       "      <td>0.439839</td>\n",
       "    </tr>\n",
       "  </tbody>\n",
       "</table>\n",
       "</div>"
      ],
      "text/plain": [
       "    Topics  Coherence\n",
       "0        2   0.260143\n",
       "1        3   0.292883\n",
       "2        4   0.333402\n",
       "3        5   0.369527\n",
       "4        6   0.401023\n",
       "5        7   0.425709\n",
       "6        8   0.464275\n",
       "7        9   0.479410\n",
       "8       10   0.429968\n",
       "9       11   0.500667\n",
       "10      12   0.488018\n",
       "11      13   0.410027\n",
       "12      14   0.432854\n",
       "13      15   0.553377\n",
       "14      16   0.440154\n",
       "15      17   0.424569\n",
       "16      18   0.451030\n",
       "17      19   0.438112\n",
       "18      20   0.439839"
      ]
     },
     "execution_count": 30,
     "metadata": {},
     "output_type": "execute_result"
    }
   ],
   "source": [
    "nontarget_results = pd.DataFrame(nontarget_results)\n",
    "nontarget_results"
   ]
  },
  {
   "cell_type": "code",
   "execution_count": 32,
   "metadata": {
    "colab": {
     "base_uri": "https://localhost:8080/",
     "height": 279
    },
    "executionInfo": {
     "elapsed": 557,
     "status": "ok",
     "timestamp": 1670935116808,
     "user": {
      "displayName": "Bella Yang",
      "userId": "16101934561747208179"
     },
     "user_tz": -120
    },
    "id": "u0Yfo5B14cwd",
    "outputId": "27355ac6-8443-46b4-97a0-f650e7dda86e"
   },
   "outputs": [
    {
     "name": "stderr",
     "output_type": "stream",
     "text": [
      "c:\\users\\user\\appdata\\local\\programs\\python\\python39\\lib\\site-packages\\ipykernel\\ipkernel.py:283: DeprecationWarning: `should_run_async` will not call `transform_cell` automatically in the future. Please pass the result to `transformed_cell` argument and any exception that happen during thetransform in `preprocessing_exc_tuple` in IPython 7.17 and above.\n",
      "  and should_run_async(code)\n"
     ]
    },
    {
     "data": {
      "image/png": "[encoded data removed]",
      "text/plain": [
       "<Figure size 432x288 with 1 Axes>"
      ]
     },
     "metadata": {
      "needs_background": "light"
     },
     "output_type": "display_data"
    }
   ],
   "source": [
    "# Show graph\n",
    "import matplotlib.pyplot as plt\n",
    "x = range(min_topics, max_topics, step_size)\n",
    "\n",
    "plt.plot(nontarget_results.Topics, nontarget_results.Coherence)\n",
    "plt.xticks(x)\n",
    "plt.xlabel(\"Num Topics\")\n",
    "plt.ylabel(\"Coherence score\")\n",
    "plt.legend((\"coherence_values\"), loc='best')\n",
    "plt.show()"
   ]
  },
  {
   "cell_type": "markdown",
   "metadata": {},
   "source": [
    "### choose the number of topics: **9**"
   ]
  },
  {
   "cell_type": "code",
   "execution_count": 51,
   "metadata": {
    "colab": {
     "base_uri": "https://localhost:8080/"
    },
    "executionInfo": {
     "elapsed": 5289,
     "status": "ok",
     "timestamp": 1670935141293,
     "user": {
      "displayName": "Bella Yang",
      "userId": "16101934561747208179"
     },
     "user_tz": -120
    },
    "id": "UUvg_HWp4cwe",
    "outputId": "fde7a251-2665-416a-fa98-e1f7d012e342"
   },
   "outputs": [
    {
     "name": "stderr",
     "output_type": "stream",
     "text": [
      "c:\\users\\user\\appdata\\local\\programs\\python\\python39\\lib\\site-packages\\ipykernel\\ipkernel.py:283: DeprecationWarning: `should_run_async` will not call `transform_cell` automatically in the future. Please pass the result to `transformed_cell` argument and any exception that happen during thetransform in `preprocessing_exc_tuple` in IPython 7.17 and above.\n",
      "  and should_run_async(code)\n"
     ]
    }
   ],
   "source": [
    "lda_model_nontarget = gensim.models.LdaMulticore(corpus=corpus_nontarget,id2word=id2word_non,num_topics=9, \n",
    "                                       random_state=100,chunksize=1,passes=20)"
   ]
  },
  {
   "cell_type": "code",
   "execution_count": 52,
   "metadata": {
    "colab": {
     "base_uri": "https://localhost:8080/",
     "height": 917
    },
    "executionInfo": {
     "elapsed": 2432,
     "status": "ok",
     "timestamp": 1670935143690,
     "user": {
      "displayName": "Bella Yang",
      "userId": "16101934561747208179"
     },
     "user_tz": -120
    },
    "id": "spRx8iqx4cwe",
    "outputId": "00469366-47d6-416e-a044-95819f6cd2d7"
   },
   "outputs": [
    {
     "name": "stderr",
     "output_type": "stream",
     "text": [
      "c:\\users\\user\\appdata\\local\\programs\\python\\python39\\lib\\site-packages\\ipykernel\\ipkernel.py:283: DeprecationWarning: `should_run_async` will not call `transform_cell` automatically in the future. Please pass the result to `transformed_cell` argument and any exception that happen during thetransform in `preprocessing_exc_tuple` in IPython 7.17 and above.\n",
      "  and should_run_async(code)\n",
      "c:\\users\\user\\appdata\\local\\programs\\python\\python39\\lib\\site-packages\\pyLDAvis\\_prepare.py:246: FutureWarning: In a future version of pandas all arguments of DataFrame.drop except for the argument 'labels' will be keyword-only.\n",
      "  default_term_info = default_term_info.sort_values(\n"
     ]
    },
    {
     "data": {
      "text/html": [
       "\n",
       "<link rel=\"stylesheet\" type=\"text/css\" href=\"https://cdn.jsdelivr.net/gh/bmabey/pyLDAvis@3.3.1/pyLDAvis/js/ldavis.v1.0.0.css\">\n",
       "\n",
       "\n",
       "<div id=\"ldavis_el1128021543701429444583554602\"></div>\n",
       "<script type=\"text/javascript\">\n",
       "\n",
       "var ldavis_el1128021543701429444583554602_data = {\"mdsDat\": {\"x\": [0.3038238376591819, 0.06333047596025705, 0.03655262126280917, 0.09378993451302062, 0.06823082962440499, -0.1902796364204349, -0.18639976742247905, -0.04955295455944595, -0.1394953406173135], \"y\": [-0.03689390224226821, -0.0844516114203306, -0.26959009894255376, 0.20149007639962227, 0.1933735703846708, 0.019983934770478197, 0.010658691802191736, -0.05240110362113945, 0.017830442869328642], \"topics\": [1, 2, 3, 4, 5, 6, 7, 8, 9], \"cluster\": [1, 1, 1, 1, 1, 1, 1, 1, 1], \"Freq\": [27.94300191235472, 12.516158933839508, 11.950086227042139, 10.658330451149068, 10.184267946036588, 7.62463241928546, 7.101181419574792, 6.724479255772871, 5.297861434944854]}, \"tinfo\": {\"Term\": [\"police\", \"sydneysiege\", \"cafe\", \"news\", \"gunman\", \"confirm\", \"live\", \"hostage\", \"hostages\", \"break\", \"sydney\", \"people\", \"situation\", \"update\", \"man\", \"reportedly\", \"siege\", \"injure\", \"place\", \"storm\", \"escape\", \"monis\", \"report\", \"martin\", \"lindt\", \"say\", \"caf\\u00e9\", \"least\", \"one\", \"not\", \"cafe\", \"people\", \"siege\", \"escape\", \"lindt\", \"two\", \"flee\", \"five\", \"run\", \"take\", \"australian\", \"inside\", \"bang\", \"loud\", \"latest\", \"women\", \"moments\", \"remain\", \"carsonscottlive\", \"come\", \"moment\", \"ago\", \"emerge\", \"female\", \"serious\", \"condition\", \"hostages\", \"hour\", \"dramatic\", \"break\", \"hold\", \"sydneysiege\", \"sydney\", \"report\", \"hostage\", \"live\", \"situation\", \"reportedly\", \"place\", \"martin\", \"build\", \"evacuate\", \"sydneys\", \"cbd\", \"ongoing\", \"amid\", \"scene\", \"able\", \"please\", \"get\", \"crisis\", \"around\", \"unfold\", \"follow\", \"abcnews\", \"among\", \"exclusion\", \"zone\", \"coverage\", \"drama\", \"stream\", \"stand\", \"channel\", \"like\", \"lockdown\", \"hostage\", \"sydney\", \"break\", \"police\", \"storm\", \"caf\\u00e9\", \"least\", \"arm\", \"dead\", \"end\", \"gunfire\", \"unknown\", \"media\", \"ammunition\", \"local\", \"watch\", \"heavily\", \"move\", \"house\", \"opera\", \"safe\", \"stay\", \"front\", \"shootout\", \"explosions\", \"pray\", \"cnn\", \"syndey\", \"workers\", \"via\", \"business\", \"continue\", \"district\", \"report\", \"sydney\", \"hostages\", \"confirm\", \"injure\", \"hear\", \"no\", \"number\", \"shoot\", \"free\", \"gunshot\", \"know\", \"contact\", \"martinplace\", \"suffer\", \"wound\", \"leave\", \"uber\", \"many\", \"claim\", \"area\", \"multiple\", \"rid\", \"air\", \"price\", \"pm\", \"radio\", \"work\", \"prayforsydney\", \"prayforsydneyhostages\", \"shut\", \"head\", \"others\", \"sydneysiege\", \"say\", \"sydney\", \"gunman\", \"demand\", \"bomb\", \"taker\", \"name\", \"release\", \"still\", \"gunmans\", \"identify\", \"call\", \"four\", \"seven\", \"picture\", \"statement\", \"condemn\", \"go\", \"develop\", \"abbott\", \"sydneyhostagecrisis\", \"minister\", \"prime\", \"iranian\", \"mufti\", \"post\", \"speak\", \"elsewhere\", \"may\", \"alive\", \"information\", \"talk\", \"say\", \"sydneysiege\", \"hostage\", \"sheikh\", \"man\", \"monis\", \"appear\", \"three\", \"show\", \"haron\", \"arrest\", \"several\", \"cleric\", \"nsw\", \"stage\", \"suspect\", \"behind\", \"muslim\", \"cardiac\", \"deaths\", \"describe\", \"incredibly\", \"sad\", \"sadly\", \"tv\", \"abc\", \"cpr\", \"centre\", \"involve\", \"martinplacesiege\", \"men\", \"give\", \"whether\", \"unclear\", \"news\", \"update\", \"martinpl\", \"stretchers\", \"paramedics\", \"finally\", \"treat\", \"use\", \"away\", \"officer\", \"video\", \"australia\", \"die\", \"sixth\", \"injuries\", \"request\", \"sky\", \"grenades\", \"woman\", \"outside\", \"relay\", \"can\", \"status\", \"pol\", \"comment\", \"detection\", \"six\", \"carry\", \"new\", \"currently\", \"not\", \"one\", \"see\", \"enter\", \"flag\", \"islamic\", \"robot\", \"close\", \"flash\", \"group\", \"image\", \"chocolate\", \"per\", \"wasnt\", \"state\", \"force\", \"care\", \"shortly\", \"ambulance\", \"rush\", \"recap\", \"hope\", \"series\", \"team\", \"terror\", \"bear\", \"downtown\", \"powerful\", \"rapid\", \"everything\", \"blast\", \"airspace\", \"not\", \"sydney\", \"hold\", \"hostages\", \"fire\", \"hostagetaker\", \"kill\", \"door\", \"another\", \"believe\", \"shots\", \"person\", \"black\", \"yet\", \"australias\", \"tell\", \"lindtcafe\", \"assault\", \"iran\", \"consulate\", \"heavy\", \"whereabouts\", \"word\", \"high\", \"exwife\", \"monishostagetaker\", \"sex\", \"ppl\", \"selfproclaimed\", \"wear\", \"activity\", \"livestream\", \"write\", \"reuters\", \"us\", \"sheikh\"], \"Freq\": [104.0, 220.0, 119.0, 47.0, 53.0, 50.0, 44.0, 79.0, 110.0, 97.0, 167.0, 62.0, 34.0, 25.0, 22.0, 24.0, 44.0, 22.0, 23.0, 21.0, 40.0, 16.0, 36.0, 19.0, 34.0, 24.0, 18.0, 18.0, 13.0, 17.0, 118.30803490471394, 62.02475731791965, 44.12924412727589, 39.5870758025725, 34.182563194827075, 31.510577166784955, 22.74263938983405, 21.57592352063441, 20.21196141247527, 16.91063464677742, 13.282526470477817, 12.938233883811922, 9.18390411187408, 8.462363252774797, 8.332554828893356, 7.466860850298448, 7.05481584204921, 7.02332901793531, 6.748901061253416, 6.151785242840438, 5.682960303785106, 5.540906829368797, 5.344431140784947, 5.341616433332571, 5.259897786190478, 5.122815722723623, 96.55837111935128, 4.80699266916261, 4.609740672014157, 83.61495067771192, 31.733297633652672, 109.70217653639881, 83.59811582711336, 18.806033623259385, 18.61096293277897, 43.8353456981202, 33.38681348724933, 24.286863696832853, 22.772723316515368, 18.729030031042416, 13.764811341641684, 12.318968942285151, 9.802590557371907, 9.533949268696823, 8.510045101068714, 7.615524532533253, 7.383841679443335, 6.467638534826168, 5.9519062912743586, 5.795711272649833, 5.528251723528047, 5.527411375401257, 5.515305579143948, 5.026694727284622, 4.025214067680365, 3.9235000561285385, 3.174502038112936, 3.174502038112936, 3.0759355804824358, 2.7208047903617287, 2.670466905889586, 2.54236446253488, 2.338939956513229, 2.18562472463347, 2.177445164253144, 39.74947931681102, 42.48420471774405, 12.965221036888991, 103.43805484447653, 21.140501531080385, 17.806242864351752, 17.49372193141453, 14.868717845949408, 14.414419783513925, 8.522117615506641, 7.8384233390831, 7.7368519315232485, 7.434891280080483, 7.243003183689101, 6.758689403831973, 6.695578894290242, 6.371924578853181, 5.440171591483558, 5.430180381378037, 5.430180381378037, 5.370446242681286, 5.072463270403991, 4.611945718854647, 4.341401748150587, 4.319029317653044, 4.080411102565124, 4.080099478893449, 4.080099478893449, 3.1576571441854573, 2.75710588201356, 2.6723464819935794, 2.3966463931817357, 2.232137749587249, 16.913485818516993, 26.047145189340082, 8.441421412067776, 50.04655007715653, 21.846159377217713, 13.723188657166185, 12.205624125620064, 9.566638773865998, 9.539996619352873, 9.174355052118383, 8.32869227162345, 7.874147149395433, 7.001343043376801, 6.450121275178614, 6.368038792210371, 6.368038792210371, 5.727014961199629, 4.465526356088018, 3.7768816106685863, 3.7109950306409996, 3.58575741679306, 3.125919484505734, 2.825196704543529, 2.7916486189333254, 2.7826811115625785, 2.750203448267448, 2.5079543591574125, 2.4011201821272885, 2.3690843850107175, 2.3690843850107175, 2.0448608335391274, 2.0381577655407455, 2.0381577655407455, 67.23060715830162, 11.054815311004035, 5.346419428498788, 53.15803329526435, 11.367507889274984, 11.271606629995542, 9.950451833935066, 8.9159545369044, 6.13968233663755, 5.9819750757942405, 5.939948780502081, 5.92208114684506, 5.4879765587013996, 4.87508879297134, 4.83777952854383, 4.2020594560795805, 3.5325551095718724, 3.401242158627411, 3.1828577860287655, 3.1557083390905105, 2.7239069379957925, 2.652276332630956, 2.598883297941688, 2.598883297941688, 2.59418858921792, 2.57480476706869, 2.55765487609541, 2.465340231571855, 2.369420084327052, 2.355148223227305, 2.2327007871760065, 2.2327007871760065, 2.186642960610553, 12.512074327481585, 43.05746678098628, 20.273262924884115, 3.9116060483746744, 21.540798541187595, 15.685236158703216, 9.885542257721482, 9.53167635572246, 9.265969116652531, 9.182858865555204, 6.873287584210551, 6.665188574722461, 6.5101458825183744, 6.5065624014173284, 6.434076897538597, 6.10078001708274, 5.999904909819149, 5.473017204760221, 4.7203324815100824, 4.7203324815100824, 4.7203324815100824, 4.7203324815100824, 4.7203324815100824, 4.7203324815100824, 4.010448417737224, 3.9225097229560726, 3.506232858254137, 2.8057597174653126, 2.4945679218402734, 2.340614928987265, 2.3009713837788146, 2.2230896612889386, 2.1370528339687422, 2.1328010210727437, 47.010312024481884, 24.648252924567554, 10.301806343215743, 8.702796286913442, 8.68337651461448, 8.31357232783738, 7.799151366247899, 7.59053794107029, 6.751726697810019, 6.446871658792727, 5.285790105716414, 5.228915368831092, 4.078028996666189, 3.87909007156167, 3.4859449095243518, 3.363423945780395, 3.2388146714079338, 2.9490271833542634, 2.669719029066029, 2.5506238632138576, 2.2551570429298318, 2.1559773205068167, 2.1559773205068167, 1.9396130142960069, 1.9380823669465628, 1.9372664917341396, 1.898340876491764, 1.844960847225936, 1.8111328224392658, 1.6890666895042565, 7.620881634605731, 12.735808166374536, 12.026132526292615, 11.107528503542413, 9.157564194138747, 5.1868259315677, 5.0588016925280535, 4.693471800596341, 3.6579307090020654, 3.521503036914581, 3.2820399637074513, 3.2649471380114488, 3.2524077465504275, 3.1287376518392795, 2.889747734693307, 2.6137168532473978, 2.5756209877610576, 2.5756209877610576, 2.477093922401981, 2.477093922401981, 2.471511537499392, 2.354529118234122, 2.2039498472120567, 2.1485021547353216, 2.1351741698390385, 2.0586469717228915, 2.0566821647245237, 1.9678027716081863, 1.8278664886007465, 1.7534052541169158, 1.7102257323877639, 2.8678258449801577, 8.957253399285065, 9.312775506792534, 4.605277828707043, 4.983476658493809, 9.375131022819007, 9.04834225455533, 8.696113503678381, 6.595889740093509, 5.985169772977202, 5.367164225496381, 5.155750593885745, 4.501125000897937, 4.369301729673049, 4.101478841024785, 3.7452908980720236, 3.4427173949290037, 3.3774611915954296, 3.24010624661296, 3.24010624661296, 2.843250735561319, 2.562698327820413, 2.43987802038729, 2.43987802038729, 2.202686169760232, 2.1139032823403445, 2.1139032823403445, 2.1139032823403445, 1.799097292941234, 1.799097292941234, 1.5901524496311548, 1.5638503016322756, 1.5638503016322756, 1.5440251624085781, 1.5297342773845055, 4.797231122299549, 2.5878264739375925], \"Total\": [104.0, 220.0, 119.0, 47.0, 53.0, 50.0, 44.0, 79.0, 110.0, 97.0, 167.0, 62.0, 34.0, 25.0, 22.0, 24.0, 44.0, 22.0, 23.0, 21.0, 40.0, 16.0, 36.0, 19.0, 34.0, 24.0, 18.0, 18.0, 13.0, 17.0, 119.045441779384, 62.76235611600133, 44.86683244177933, 40.32438731049581, 34.91979989566564, 32.2486928216191, 23.48009620649858, 22.313221492395172, 20.949324896235762, 17.648250462733575, 14.020101904943115, 13.67551704837362, 9.921563931417635, 9.200582236637523, 9.069961229704239, 8.204322257167414, 7.792254582691968, 7.760935118808913, 7.486384091802619, 6.889213086571768, 6.420200640158295, 6.278460049577888, 6.081951432156535, 6.0793349528799165, 5.99763985570395, 5.860950862975768, 110.5315263090766, 5.544955225761256, 5.346940545828212, 97.1937524465383, 39.1625606272718, 220.54722363253163, 167.12643291493305, 36.37230561450538, 79.15223548198047, 44.54662273182593, 34.09762781094453, 24.998811328049616, 23.48355478118767, 19.439863875933316, 14.475841190392066, 13.029845688021506, 10.513462210873925, 10.245009994112486, 9.220890234354929, 8.326446767776044, 8.094949424674734, 7.178445906525923, 6.663793143986675, 6.506555019371731, 6.23927499464506, 6.2388050196800435, 6.226077543709172, 5.738233943977255, 4.73721914216561, 4.634672910583772, 3.8853652623098274, 3.8853652623098274, 3.786695815187204, 3.4318491849580717, 3.381461702058434, 3.2537443184952313, 3.0531520760624615, 2.896512426695435, 2.888284394813442, 79.15223548198047, 167.12643291493305, 97.1937524465383, 104.18893083983313, 21.891155084845984, 18.55704552106363, 18.244731227752517, 15.619332606015371, 15.166018104225552, 9.27312374769253, 8.589310681271973, 8.487661694014985, 8.185725432548965, 7.994687162090102, 7.509244530380025, 7.4462760803771015, 7.122410319494613, 6.191416313785458, 6.180595589780363, 6.180595589780363, 6.120970319891214, 5.823008915048929, 5.362814908358312, 5.092867822362703, 5.069734812932735, 4.830861400422376, 4.834153718998949, 4.834153718998949, 3.9091223500685457, 3.5076499706247337, 3.4228775536903893, 3.147507918097636, 2.9826131524728154, 36.37230561450538, 167.12643291493305, 110.5315263090766, 50.79596085448817, 22.595758032031746, 14.47296574728665, 12.954886011590876, 10.31575055183798, 10.289633587879589, 9.923458066118451, 9.077741819185054, 8.623505538668097, 7.75051783252077, 7.199149290619562, 7.118321625143544, 7.118321625143544, 6.476076563156567, 5.214435443662904, 4.526444636369479, 4.4603946221452775, 4.334876214239642, 3.875390228144036, 3.5741854653612286, 3.5411350322724497, 3.531557401791157, 3.499484735205176, 3.2569361801958188, 3.150098056376867, 3.118956699431728, 3.118956699431728, 2.7937798590967553, 2.7878370366598695, 2.7878370366598695, 220.54722363253163, 24.221518686980033, 167.12643291493305, 53.89889816035859, 12.10815418690466, 12.012506894435981, 10.691189351230848, 9.65681710911568, 6.880497612900345, 6.722874948542367, 6.681562954874165, 6.662818022619018, 6.228659083816121, 5.6159650692613985, 5.585334175230404, 4.9434343537466505, 4.273100055510442, 4.141917779196522, 3.924524701991079, 3.8980537901169816, 3.464460839898396, 3.3931034593210647, 3.339403770608583, 3.339403770608583, 3.3351103915851317, 3.315319685163076, 3.298407885342828, 3.2058723000035143, 3.1100051651915144, 3.095803865499775, 2.975779965838668, 2.975779965838668, 2.927250393773856, 24.221518686980033, 220.54722363253163, 79.15223548198047, 7.151753808750497, 22.300631494073457, 16.445386253854224, 10.645631547342724, 10.291801835607917, 10.025828027890501, 9.942723693323973, 7.633001374676661, 7.4254818794950985, 7.270105194329627, 7.26673669359717, 7.193677129119771, 6.860862264794249, 6.759785919197161, 6.233024503698624, 5.47995309463695, 5.47995309463695, 5.47995309463695, 5.47995309463695, 5.47995309463695, 5.47995309463695, 4.770362538831984, 4.682529632920688, 4.268070139872174, 3.565681810246249, 3.2545955423142794, 3.1002040427903137, 3.0606498466574754, 2.9828032026968594, 2.896744928529589, 2.8955895118586525, 47.76698292327482, 25.40488225342425, 11.058423324685227, 9.459849154748785, 9.439950106597538, 9.072120361790995, 8.555986141774426, 8.347530921467312, 7.508323660198971, 7.204535298765232, 6.042416162645441, 5.985534996544011, 4.835332651290508, 4.635586223394924, 4.242818223539401, 4.120598354097945, 3.995291765351808, 3.706116272030505, 3.426201732884159, 3.3079086542655003, 3.0118398322666162, 2.915988510301074, 2.915988510301074, 2.698230312890097, 2.6974648176795957, 2.6987405322856883, 2.6549152264214237, 2.601545452372946, 2.568112111095321, 2.4456624806773783, 17.230454991455506, 13.466641346558779, 12.756989375397769, 11.83892573576599, 9.888219240168656, 5.917786935050302, 5.791976406664696, 5.42417125125376, 4.389100037608095, 4.252537139902958, 4.012791146831183, 3.995939525884474, 3.9832080514424963, 3.85965514974779, 3.6205606709408604, 3.345308110812587, 3.3092416711987522, 3.3092416711987522, 3.2102869901702773, 3.2102869901702773, 3.207633031899982, 3.085238816078103, 2.9346812030643705, 2.879269236727822, 2.8658445857183383, 2.7893914821384853, 2.7874659883884783, 2.698601144185643, 2.562530138424335, 2.484121772712412, 2.442934040767295, 4.460500011608685, 17.230454991455506, 167.12643291493305, 39.1625606272718, 110.5315263090766, 10.121434840422971, 9.79491610491506, 9.443981663100653, 7.342331058876006, 6.731604860278151, 6.113697858912772, 5.902177742645471, 5.247695882371154, 5.115542243080474, 4.8479033511434935, 4.491896748166796, 4.189052620977528, 4.124089374963084, 3.9863411141312985, 3.9863411141312985, 3.5894789345927416, 3.3094697845677814, 3.188899153258783, 3.188899153258783, 2.949582063249361, 2.86068338724995, 2.86068338724995, 2.86068338724995, 2.5474401019260244, 2.5474401019260244, 2.336539151345406, 2.310589750898938, 2.310589750898938, 2.290631367833643, 2.276044567317812, 7.3218339215543295, 7.151753808750497], \"Category\": [\"Default\", \"Default\", \"Default\", \"Default\", \"Default\", \"Default\", \"Default\", \"Default\", \"Default\", \"Default\", \"Default\", \"Default\", \"Default\", \"Default\", \"Default\", \"Default\", \"Default\", \"Default\", \"Default\", \"Default\", \"Default\", \"Default\", \"Default\", \"Default\", \"Default\", \"Default\", \"Default\", \"Default\", \"Default\", \"Default\", \"Topic1\", \"Topic1\", \"Topic1\", \"Topic1\", \"Topic1\", \"Topic1\", \"Topic1\", \"Topic1\", \"Topic1\", \"Topic1\", \"Topic1\", \"Topic1\", \"Topic1\", \"Topic1\", \"Topic1\", \"Topic1\", \"Topic1\", \"Topic1\", \"Topic1\", \"Topic1\", \"Topic1\", \"Topic1\", \"Topic1\", \"Topic1\", \"Topic1\", \"Topic1\", \"Topic1\", \"Topic1\", \"Topic1\", \"Topic1\", \"Topic1\", \"Topic1\", \"Topic1\", \"Topic1\", \"Topic1\", \"Topic2\", \"Topic2\", \"Topic2\", \"Topic2\", \"Topic2\", \"Topic2\", \"Topic2\", \"Topic2\", \"Topic2\", \"Topic2\", \"Topic2\", \"Topic2\", \"Topic2\", \"Topic2\", \"Topic2\", \"Topic2\", \"Topic2\", \"Topic2\", \"Topic2\", \"Topic2\", \"Topic2\", \"Topic2\", \"Topic2\", \"Topic2\", \"Topic2\", \"Topic2\", \"Topic2\", \"Topic2\", \"Topic2\", \"Topic2\", \"Topic2\", \"Topic2\", \"Topic2\", \"Topic3\", \"Topic3\", \"Topic3\", \"Topic3\", \"Topic3\", \"Topic3\", \"Topic3\", \"Topic3\", \"Topic3\", \"Topic3\", \"Topic3\", \"Topic3\", \"Topic3\", \"Topic3\", \"Topic3\", \"Topic3\", \"Topic3\", \"Topic3\", \"Topic3\", \"Topic3\", \"Topic3\", \"Topic3\", \"Topic3\", \"Topic3\", \"Topic3\", \"Topic3\", \"Topic3\", \"Topic3\", \"Topic3\", \"Topic3\", \"Topic3\", \"Topic3\", \"Topic3\", \"Topic4\", \"Topic4\", \"Topic4\", \"Topic4\", \"Topic4\", \"Topic4\", \"Topic4\", \"Topic4\", \"Topic4\", \"Topic4\", \"Topic4\", \"Topic4\", \"Topic4\", \"Topic4\", \"Topic4\", \"Topic4\", \"Topic4\", \"Topic4\", \"Topic4\", \"Topic4\", \"Topic4\", \"Topic4\", \"Topic4\", \"Topic4\", \"Topic4\", \"Topic4\", \"Topic4\", \"Topic4\", \"Topic4\", \"Topic4\", \"Topic4\", \"Topic4\", \"Topic4\", \"Topic5\", \"Topic5\", \"Topic5\", \"Topic5\", \"Topic5\", \"Topic5\", \"Topic5\", \"Topic5\", \"Topic5\", \"Topic5\", \"Topic5\", \"Topic5\", \"Topic5\", \"Topic5\", \"Topic5\", \"Topic5\", \"Topic5\", \"Topic5\", \"Topic5\", \"Topic5\", \"Topic5\", \"Topic5\", \"Topic5\", \"Topic5\", \"Topic5\", \"Topic5\", \"Topic5\", \"Topic5\", \"Topic5\", \"Topic5\", \"Topic5\", \"Topic5\", \"Topic5\", \"Topic5\", \"Topic6\", \"Topic6\", \"Topic6\", \"Topic6\", \"Topic6\", \"Topic6\", \"Topic6\", \"Topic6\", \"Topic6\", \"Topic6\", \"Topic6\", \"Topic6\", \"Topic6\", \"Topic6\", \"Topic6\", \"Topic6\", \"Topic6\", \"Topic6\", \"Topic6\", \"Topic6\", \"Topic6\", \"Topic6\", \"Topic6\", \"Topic6\", \"Topic6\", \"Topic6\", \"Topic6\", \"Topic6\", \"Topic6\", \"Topic6\", \"Topic7\", \"Topic7\", \"Topic7\", \"Topic7\", \"Topic7\", \"Topic7\", \"Topic7\", \"Topic7\", \"Topic7\", \"Topic7\", \"Topic7\", \"Topic7\", \"Topic7\", \"Topic7\", \"Topic7\", \"Topic7\", \"Topic7\", \"Topic7\", \"Topic7\", \"Topic7\", \"Topic7\", \"Topic7\", \"Topic7\", \"Topic7\", \"Topic7\", \"Topic7\", \"Topic7\", \"Topic7\", \"Topic7\", \"Topic7\", \"Topic7\", \"Topic8\", \"Topic8\", \"Topic8\", \"Topic8\", \"Topic8\", \"Topic8\", \"Topic8\", \"Topic8\", \"Topic8\", \"Topic8\", \"Topic8\", \"Topic8\", \"Topic8\", \"Topic8\", \"Topic8\", \"Topic8\", \"Topic8\", \"Topic8\", \"Topic8\", \"Topic8\", \"Topic8\", \"Topic8\", \"Topic8\", \"Topic8\", \"Topic8\", \"Topic8\", \"Topic8\", \"Topic8\", \"Topic8\", \"Topic8\", \"Topic8\", \"Topic8\", \"Topic8\", \"Topic8\", \"Topic8\", \"Topic9\", \"Topic9\", \"Topic9\", \"Topic9\", \"Topic9\", \"Topic9\", \"Topic9\", \"Topic9\", \"Topic9\", \"Topic9\", \"Topic9\", \"Topic9\", \"Topic9\", \"Topic9\", \"Topic9\", \"Topic9\", \"Topic9\", \"Topic9\", \"Topic9\", \"Topic9\", \"Topic9\", \"Topic9\", \"Topic9\", \"Topic9\", \"Topic9\", \"Topic9\", \"Topic9\", \"Topic9\", \"Topic9\", \"Topic9\", \"Topic9\", \"Topic9\"], \"logprob\": [30.0, 29.0, 28.0, 27.0, 26.0, 25.0, 24.0, 23.0, 22.0, 21.0, 20.0, 19.0, 18.0, 17.0, 16.0, 15.0, 14.0, 13.0, 12.0, 11.0, 10.0, 9.0, 8.0, 7.0, 6.0, 5.0, 4.0, 3.0, 2.0, 1.0, -2.2515, -2.8972, -3.2377, -3.3463, -3.4931, -3.5745, -3.9005, -3.9532, -4.0185, -4.1968, -4.4383, -4.4646, -4.8073, -4.8892, -4.9046, -5.0143, -5.0711, -5.0755, -5.1154, -5.208, -5.2873, -5.3126, -5.3487, -5.3493, -5.3647, -5.3911, -2.4546, -5.4547, -5.4966, -2.5986, -3.5674, -2.327, -2.5988, -4.0906, -4.101, -2.4412, -2.7135, -3.0317, -3.0961, -3.2916, -3.5995, -3.7105, -3.939, -3.9668, -4.0804, -4.1914, -4.2223, -4.3548, -4.4379, -4.4645, -4.5118, -4.5119, -4.5141, -4.6069, -4.8291, -4.8546, -5.0665, -5.0665, -5.098, -5.2207, -5.2394, -5.2885, -5.3719, -5.4397, -5.4435, -2.539, -2.4725, -3.6594, -1.5364, -3.1242, -3.2958, -3.3135, -3.4761, -3.5071, -4.0327, -4.1163, -4.1294, -4.1692, -4.1953, -4.2645, -4.2739, -4.3234, -4.4815, -4.4834, -4.4834, -4.4944, -4.5515, -4.6467, -4.7072, -4.7123, -4.7692, -4.7692, -4.7692, -5.0255, -5.1612, -5.1924, -5.3013, -5.3724, -3.3472, -2.9154, -4.0422, -2.148, -2.9769, -3.4419, -3.5591, -3.8027, -3.8055, -3.8445, -3.9412, -3.9974, -4.1149, -4.1969, -4.2097, -4.2097, -4.3158, -4.5646, -4.7321, -4.7497, -4.784, -4.9212, -5.0224, -5.0343, -5.0375, -5.0493, -5.1415, -5.185, -5.1985, -5.1985, -5.3456, -5.3489, -5.3489, -1.8528, -3.6581, -4.3845, -2.0422, -3.5847, -3.5932, -3.7178, -3.8276, -4.2007, -4.2267, -4.2338, -4.2368, -4.3129, -4.4313, -4.439, -4.5799, -4.7534, -4.7913, -4.8577, -4.8662, -5.0134, -5.04, -5.0604, -5.0604, -5.0622, -5.0697, -5.0764, -5.1131, -5.1528, -5.1589, -5.2122, -5.2122, -5.2331, -3.4888, -2.2529, -3.0062, -4.6515, -2.656, -2.9733, -3.4349, -3.4714, -3.4996, -3.5087, -3.7984, -3.8291, -3.8526, -3.8532, -3.8644, -3.9176, -3.9343, -4.0262, -4.1741, -4.1741, -4.1741, -4.1741, -4.1741, -4.1741, -4.3371, -4.3593, -4.4715, -4.6943, -4.8119, -4.8756, -4.8927, -4.9271, -4.9666, -4.9686, -1.8045, -2.4502, -3.3226, -3.4912, -3.4935, -3.537, -3.6009, -3.628, -3.7451, -3.7913, -3.9899, -4.0007, -4.2493, -4.2993, -4.4061, -4.4419, -4.4797, -4.5734, -4.6729, -4.7185, -4.8417, -4.8866, -4.8866, -4.9924, -4.9932, -4.9936, -5.0139, -5.0424, -5.0609, -5.1307, -3.624, -3.0559, -3.1133, -3.1927, -3.3858, -3.9542, -3.9792, -4.0542, -4.3035, -4.3415, -4.4119, -4.4171, -4.421, -4.4597, -4.5392, -4.6396, -4.6543, -4.6543, -4.6933, -4.6933, -4.6955, -4.744, -4.8101, -4.8356, -4.8418, -4.8783, -4.8793, -4.9234, -4.9972, -5.0388, -5.0637, -4.5468, -3.4079, -3.369, -4.0732, -3.9942, -3.1239, -3.1593, -3.199, -3.4755, -3.5726, -3.6816, -3.7218, -3.8576, -3.8873, -3.9506, -4.0414, -4.1257, -4.1448, -4.1863, -4.1863, -4.317, -4.4209, -4.47, -4.47, -4.5722, -4.6134, -4.6134, -4.6134, -4.7746, -4.7746, -4.8981, -4.9148, -4.9148, -4.9275, -4.9368, -3.7939, -4.4111], \"loglift\": [30.0, 29.0, 28.0, 27.0, 26.0, 25.0, 24.0, 23.0, 22.0, 21.0, 20.0, 19.0, 18.0, 17.0, 16.0, 15.0, 14.0, 13.0, 12.0, 11.0, 10.0, 9.0, 8.0, 7.0, 6.0, 5.0, 4.0, 3.0, 2.0, 1.0, 1.2688, 1.2632, 1.2584, 1.2565, 1.2537, 1.2518, 1.2431, 1.2414, 1.2392, 1.2323, 1.221, 1.2196, 1.1977, 1.1914, 1.1902, 1.1808, 1.1756, 1.1751, 1.1713, 1.1618, 1.153, 1.15, 1.1457, 1.1456, 1.1437, 1.1404, 1.1399, 1.1322, 1.1267, 1.1245, 1.0646, 0.5767, 0.5823, 0.6154, -0.1726, 2.0621, 2.0571, 2.0493, 2.0474, 2.0409, 2.0278, 2.022, 2.0081, 2.0062, 1.9979, 1.9889, 1.9862, 1.9739, 1.9652, 1.9625, 1.9572, 1.9571, 1.9569, 1.9458, 1.9153, 1.9116, 1.8761, 1.8761, 1.8703, 1.846, 1.8421, 1.8314, 1.8117, 1.7965, 1.7956, 1.3894, 0.7085, 0.0637, 2.1172, 2.0895, 2.0831, 2.0824, 2.0752, 2.0736, 2.04, 2.033, 2.0318, 2.0282, 2.0257, 2.0191, 2.0182, 2.0131, 1.9951, 1.995, 1.995, 1.9936, 1.9864, 1.9736, 1.9648, 1.9642, 1.9556, 1.9548, 1.9548, 1.9109, 1.8837, 1.8769, 1.8519, 1.8346, 1.3587, 0.2656, -0.4477, 2.224, 2.2051, 2.1856, 2.1793, 2.1634, 2.1632, 2.1603, 2.1527, 2.1479, 2.1372, 2.129, 2.1274, 2.1274, 2.1159, 2.0838, 2.0578, 2.0549, 2.0491, 2.0239, 2.0037, 2.001, 2.0005, 1.9979, 1.9775, 1.9673, 1.9638, 1.9638, 1.9268, 1.9256, 1.9256, 1.0508, 1.4545, -1.2035, 2.2705, 2.2212, 2.2207, 2.2125, 2.2045, 2.1704, 2.1676, 2.1667, 2.1665, 2.1577, 2.1429, 2.1406, 2.1218, 2.094, 2.0873, 2.0749, 2.0731, 2.0438, 2.038, 2.0336, 2.0336, 2.0331, 2.0315, 2.03, 2.0217, 2.0123, 2.0109, 1.997, 1.997, 1.9926, 1.6238, 0.6507, 0.9223, 1.6809, 2.5391, 2.5265, 2.4997, 2.4971, 2.495, 2.4943, 2.4689, 2.4658, 2.4634, 2.4633, 2.4622, 2.4564, 2.4545, 2.4438, 2.4246, 2.4246, 2.4246, 2.4246, 2.4246, 2.4246, 2.4003, 2.3967, 2.3772, 2.3341, 2.3078, 2.2927, 2.2885, 2.2798, 2.2696, 2.268, 2.6289, 2.6147, 2.574, 2.5615, 2.5614, 2.5576, 2.5523, 2.5498, 2.5387, 2.5338, 2.5111, 2.5098, 2.4746, 2.4667, 2.4484, 2.4419, 2.435, 2.4164, 2.3954, 2.3849, 2.3556, 2.3429, 2.3429, 2.3148, 2.3143, 2.3134, 2.3095, 2.3013, 2.2957, 2.2748, 1.8291, 2.6436, 2.6404, 2.6356, 2.6227, 2.5676, 2.5641, 2.5547, 2.5172, 2.5108, 2.4984, 2.4974, 2.4967, 2.4895, 2.474, 2.4526, 2.4488, 2.4488, 2.4401, 2.4401, 2.4387, 2.4291, 2.4131, 2.4067, 2.4051, 2.3956, 2.3954, 2.3836, 2.3616, 2.3511, 2.3428, 2.2577, 2.0452, -0.1879, 0.5589, -0.3998, 2.8613, 2.8586, 2.8554, 2.8307, 2.8203, 2.8076, 2.8027, 2.7844, 2.7802, 2.7707, 2.7561, 2.7417, 2.7381, 2.7306, 2.7306, 2.7048, 2.6821, 2.6701, 2.6701, 2.6459, 2.6353, 2.6353, 2.6353, 2.5901, 2.5901, 2.553, 2.5475, 2.5475, 2.5434, 2.5405, 2.515, 1.9213]}, \"token.table\": {\"Topic\": [5, 6, 2, 2, 9, 1, 4, 4, 8, 5, 8, 2, 3, 2, 9, 6, 4, 3, 2, 6, 9, 7, 1, 9, 7, 1, 8, 6, 9, 9, 8, 5, 1, 2, 2, 3, 1, 3, 5, 7, 6, 8, 7, 1, 2, 6, 2, 8, 4, 6, 8, 3, 1, 7, 5, 1, 4, 9, 4, 3, 2, 6, 2, 7, 3, 6, 5, 6, 7, 5, 7, 3, 9, 8, 2, 1, 5, 1, 3, 8, 1, 2, 8, 2, 3, 9, 1, 7, 9, 1, 8, 8, 1, 2, 8, 5, 4, 3, 2, 6, 5, 7, 8, 3, 5, 5, 4, 6, 4, 4, 3, 9, 9, 1, 5, 8, 8, 1, 2, 5, 1, 3, 8, 9, 1, 3, 5, 8, 6, 5, 4, 7, 1, 6, 9, 5, 8, 9, 4, 1, 3, 4, 2, 1, 9, 2, 9, 3, 2, 1, 6, 4, 2, 7, 4, 6, 5, 3, 6, 5, 1, 1, 6, 9, 3, 5, 4, 6, 5, 7, 7, 4, 7, 8, 6, 4, 7, 8, 2, 3, 4, 7, 7, 1, 8, 9, 5, 2, 2, 4, 7, 3, 5, 8, 9, 3, 4, 4, 4, 5, 4, 8, 8, 7, 5, 1, 1, 3, 2, 7, 9, 4, 8, 1, 8, 6, 6, 3, 4, 5, 2, 8, 9, 8, 1, 5, 6, 9, 5, 9, 4, 3, 8, 9, 6, 4, 1, 2, 7, 7, 7, 5, 6, 2, 8, 5, 7, 3, 5, 3, 2, 7, 4, 6, 1, 2, 3, 4, 8, 5, 2, 1, 4, 5, 3, 1, 5, 5, 8, 9, 8, 6, 7, 6, 1, 4, 6, 2, 3, 7, 3, 9, 7, 3, 7, 8, 3, 9, 9, 6, 7, 1, 9, 4, 3, 4, 9, 9, 2], \"Freq\": [0.8659356069061478, 0.8542391214948989, 0.8443772348203863, 0.8358355106563389, 0.8655798802976156, 0.9556483520833091, 0.8471859933776127, 0.22419011263254066, 0.6725703378976219, 0.6720927027399815, 0.6229972604081474, 0.9607939884946581, 0.8755814778085632, 0.8630598269115327, 0.8913179137124931, 0.9393524428803023, 0.9227483790333835, 0.9603483310306836, 0.9617226345547355, 0.9170704492761242, 0.7525698163072927, 0.8353472167294904, 0.92724005061736, 0.8904924187387999, 0.9322986483795904, 0.9071150538576473, 0.717002261176585, 0.8876020737521524, 0.8178356398019927, 0.7819307924610711, 0.8186876790876536, 0.9157122736050242, 0.8642530809395845, 0.13375345300255473, 0.9671285983222936, 0.8764555415561208, 0.9912181284410584, 0.9699819930693525, 0.8027409965318961, 0.6858737587390223, 0.9124165688376669, 0.9065521040998099, 0.7687738064217718, 0.9350308392091189, 0.9760849433769917, 0.8413538166471499, 0.6550607209121816, 0.7507621125312126, 0.8967816390371655, 0.9628471408446335, 0.9217998046880035, 0.8274457604191195, 0.8709267552915451, 0.7414369176908981, 0.724302161445117, 0.8531038933606347, 0.9843302333276398, 0.8357759035965416, 0.9031654595552782, 0.6354233419081615, 0.7922474226654216, 0.9371917210619686, 0.961650192554356, 0.8177743314138987, 0.9231163977114945, 0.9124165688376669, 0.9084786855371265, 0.9124165688376669, 0.7410864349771734, 0.7696148287142978, 0.8272440157622734, 0.6705529338733877, 0.9533756982447463, 0.7174975437660005, 0.874164288206229, 0.9351141942098268, 0.6430857486620412, 0.8221045590012387, 0.9705467375262309, 0.9291383564277667, 0.9919555551334719, 0.920962556834556, 0.8051135101224126, 0.7721281777807725, 0.7889959036508428, 0.6991336436999596, 0.8224583838124249, 0.8818225156815115, 0.8892019898261672, 0.985962515878672, 0.9101739940635148, 0.9113485602346533, 0.9795530562449014, 0.8713482316711587, 0.8967783835227332, 0.8903189279732452, 0.9069419087614827, 0.9323461811458679, 0.9221469705760447, 0.6705102093868373, 0.7644237781145757, 0.8094727147770682, 0.9406149478311856, 0.9313902240657217, 0.9833225132416582, 0.8979934845368824, 0.881276440699455, 0.9051845628620894, 0.7174020481470526, 0.9673207443764371, 0.8424114493344359, 0.9064896177596623, 0.6780621651179731, 0.8171069380411254, 0.05106918362757034, 0.12767295906892587, 0.648248034990809, 0.24004375725213062, 0.5053552784255382, 0.2526776392127691, 0.8775776761533292, 0.0723775403013055, 0.04523596268831594, 0.9188440108725205, 0.9017205363120961, 0.808983523896551, 0.9005198670639247, 0.7476093049021595, 0.9124165688376669, 0.6720927027399815, 0.9736340763081637, 0.7070771930213334, 0.950603911648521, 0.6145156822091138, 0.7525698163072927, 0.899520449928538, 0.8449104462321267, 0.952987873236204, 0.9276969747543762, 0.8820324362357689, 0.931775852863257, 0.9264868846880159, 0.6904855582759417, 0.9736596458624092, 0.7274333136940937, 0.9877291992455491, 0.8655798802976156, 0.9321843191655588, 0.69245258659135, 0.8695101890555688, 0.9865191488342673, 0.8836957747942934, 0.9773730989712397, 0.9042880441805338, 0.8334318067022106, 0.6451188284368264, 0.6460357590118608, 0.8551471775691186, 0.6534559979751335, 0.8983639613766354, 0.9345502323510042, 0.898327939072767, 0.9729172518675357, 0.6991336436999596, 0.8075696652585422, 0.9048901116311002, 0.7741155918217636, 0.8021787812695174, 0.9319840997614349, 0.778782200106904, 0.9839432412026781, 0.9262914385555744, 0.46429418166654096, 0.5223309543748585, 0.9632934692910787, 0.9693914126508496, 0.8328087449343645, 0.9653483497072547, 0.9760445869389115, 0.808983523896551, 0.7174020481470526, 0.9069174253441199, 0.9533948695035943, 0.9878532903609881, 0.7531617633966087, 0.9527991164268396, 0.8091540645155695, 0.9794087911437054, 0.9003880928408359, 0.8572690630193902, 0.7412265700394505, 0.9885887029433017, 0.9095297198782277, 0.7411247135610105, 0.7851018748145931, 0.8280096795263613, 0.6412400660658094, 0.6412400660658094, 0.8494835730203455, 0.8983639613766354, 0.9211110792535177, 0.7804786254064403, 0.6235127210968198, 0.6640459358341319, 0.8720299515474743, 0.901953165802822, 0.5223754633916511, 0.4673885725083194, 0.9600456471732753, 0.7280496040135755, 0.8787174156070614, 0.8393520786971255, 0.863263184954727, 0.9546847022069748, 0.6229972604081474, 0.9124165688376669, 0.9124165688376669, 0.8168639510882097, 0.4541416309255996, 0.5367128365484359, 0.8647367182632236, 0.9406608132121169, 0.7851018748145931, 0.6815050295451568, 0.8336612601446614, 0.8952015838503955, 0.9426997619279047, 0.6991336436999596, 0.5593033690709288, 0.4194775268031966, 0.9718519045983566, 0.7854120977646548, 0.9065521040998099, 0.8471449383628529, 0.8976814658064365, 0.7158760177498779, 0.9806798832321368, 0.9678092617753246, 0.7533197218864921, 0.8628897850745951, 0.7508838343213797, 0.6238551672809324, 0.8340657903191394, 0.9220146718189027, 0.8286009468308129, 0.9360885418167867, 0.6858737587390223, 0.8586626043243808, 0.8924753243106063, 0.9592915457685063, 0.8871902935271387, 0.9513893776500714, 0.842895322235318, 0.8745256453825537, 0.5026134916836034, 0.2513067458418017, 0.15557084266397248, 0.02991746974307163, 0.053851445537528936, 0.8841463385853486, 0.9511614537080983, 0.49875939578037176, 0.3037898137934992, 0.1949695819868726, 0.8274457604191195, 0.9632682874655233, 0.9353496296320601, 0.6832350263762607, 0.6946206955876494, 0.7161523789357271, 0.6978745497808249, 0.9716471575853384, 0.9350178772427137, 0.8385106933569443, 0.9922882821020149, 0.7671012601874656, 0.6907056375944042, 0.963688607775597, 0.9425446357789147, 0.9840628171630404, 0.27315560847567355, 0.6828890211891839, 0.9583672196321468, 0.8552734808558112, 0.8274835538323697, 0.777271513543389, 0.940067212716816, 0.8559668254856234, 0.627175681600395, 0.6904301377391954, 0.875605184366834, 0.8532088063562715, 0.627175681600395, 0.6349008710860037, 0.7674356879485739, 0.842895322235318, 0.8731217201009054, 0.8250989572753147, 0.7721281777807725], \"Term\": [\"abbott\", \"abc\", \"abcnews\", \"able\", \"activity\", \"ago\", \"air\", \"airspace\", \"airspace\", \"alive\", \"ambulance\", \"amid\", \"ammunition\", \"among\", \"another\", \"appear\", \"area\", \"arm\", \"around\", \"arrest\", \"assault\", \"australia\", \"australian\", \"australias\", \"away\", \"bang\", \"bear\", \"behind\", \"believe\", \"black\", \"blast\", \"bomb\", \"break\", \"break\", \"build\", \"business\", \"cafe\", \"caf\\u00e9\", \"call\", \"can\", \"cardiac\", \"care\", \"carry\", \"carsonscottlive\", \"cbd\", \"centre\", \"channel\", \"chocolate\", \"claim\", \"cleric\", \"close\", \"cnn\", \"come\", \"comment\", \"condemn\", \"condition\", \"confirm\", \"consulate\", \"contact\", \"continue\", \"coverage\", \"cpr\", \"crisis\", \"currently\", \"dead\", \"deaths\", \"demand\", \"describe\", \"detection\", \"develop\", \"die\", \"district\", \"door\", \"downtown\", \"drama\", \"dramatic\", \"elsewhere\", \"emerge\", \"end\", \"enter\", \"escape\", \"evacuate\", \"everything\", \"exclusion\", \"explosions\", \"exwife\", \"female\", \"finally\", \"fire\", \"five\", \"flag\", \"flash\", \"flee\", \"follow\", \"force\", \"four\", \"free\", \"front\", \"get\", \"give\", \"go\", \"grenades\", \"group\", \"gunfire\", \"gunman\", \"gunmans\", \"gunshot\", \"haron\", \"head\", \"hear\", \"heavily\", \"heavy\", \"high\", \"hold\", \"hold\", \"hold\", \"hope\", \"hostage\", \"hostage\", \"hostage\", \"hostages\", \"hostages\", \"hostages\", \"hostagetaker\", \"hour\", \"house\", \"identify\", \"image\", \"incredibly\", \"information\", \"injure\", \"injuries\", \"inside\", \"involve\", \"iran\", \"iranian\", \"islamic\", \"kill\", \"know\", \"latest\", \"least\", \"leave\", \"like\", \"lindt\", \"lindtcafe\", \"live\", \"livestream\", \"local\", \"lockdown\", \"loud\", \"man\", \"many\", \"martin\", \"martinpl\", \"martinplace\", \"martinplacesiege\", \"may\", \"media\", \"men\", \"minister\", \"moment\", \"moments\", \"monis\", \"monishostagetaker\", \"move\", \"mufti\", \"multiple\", \"muslim\", \"name\", \"new\", \"news\", \"no\", \"not\", \"not\", \"nsw\", \"number\", \"officer\", \"one\", \"ongoing\", \"opera\", \"others\", \"outside\", \"paramedics\", \"people\", \"per\", \"person\", \"picture\", \"place\", \"please\", \"pm\", \"pol\", \"police\", \"post\", \"powerful\", \"ppl\", \"pray\", \"prayforsydney\", \"prayforsydneyhostages\", \"price\", \"prime\", \"radio\", \"rapid\", \"recap\", \"relay\", \"release\", \"remain\", \"report\", \"report\", \"reportedly\", \"request\", \"reuters\", \"rid\", \"robot\", \"run\", \"rush\", \"sad\", \"sadly\", \"safe\", \"say\", \"say\", \"scene\", \"see\", \"selfproclaimed\", \"series\", \"serious\", \"seven\", \"several\", \"sex\", \"sheikh\", \"sheikh\", \"shoot\", \"shootout\", \"shortly\", \"shots\", \"show\", \"shut\", \"siege\", \"situation\", \"six\", \"sixth\", \"sky\", \"speak\", \"stage\", \"stand\", \"state\", \"statement\", \"status\", \"stay\", \"still\", \"storm\", \"stream\", \"stretchers\", \"suffer\", \"suspect\", \"sydney\", \"sydney\", \"sydney\", \"sydney\", \"sydney\", \"sydneyhostagecrisis\", \"sydneys\", \"sydneysiege\", \"sydneysiege\", \"sydneysiege\", \"syndey\", \"take\", \"taker\", \"talk\", \"team\", \"tell\", \"terror\", \"three\", \"treat\", \"tv\", \"two\", \"uber\", \"unclear\", \"unfold\", \"unknown\", \"update\", \"us\", \"us\", \"use\", \"via\", \"video\", \"wasnt\", \"watch\", \"wear\", \"whereabouts\", \"whether\", \"woman\", \"women\", \"word\", \"work\", \"workers\", \"wound\", \"write\", \"yet\", \"zone\"]}, \"R\": 30, \"lambda.step\": 0.01, \"plot.opts\": {\"xlab\": \"PC1\", \"ylab\": \"PC2\"}, \"topic.order\": [3, 5, 9, 4, 2, 8, 1, 6, 7]};\n",
       "\n",
       "function LDAvis_load_lib(url, callback){\n",
       "  var s = document.createElement('script');\n",
       "  s.src = url;\n",
       "  s.async = true;\n",
       "  s.onreadystatechange = s.onload = callback;\n",
       "  s.onerror = function(){console.warn(\"failed to load library \" + url);};\n",
       "  document.getElementsByTagName(\"head\")[0].appendChild(s);\n",
       "}\n",
       "\n",
       "if(typeof(LDAvis) !== \"undefined\"){\n",
       "   // already loaded: just create the visualization\n",
       "   !function(LDAvis){\n",
       "       new LDAvis(\"#\" + \"ldavis_el1128021543701429444583554602\", ldavis_el1128021543701429444583554602_data);\n",
       "   }(LDAvis);\n",
       "}else if(typeof define === \"function\" && define.amd){\n",
       "   // require.js is available: use it to load d3/LDAvis\n",
       "   require.config({paths: {d3: \"https://d3js.org/d3.v5\"}});\n",
       "   require([\"d3\"], function(d3){\n",
       "      window.d3 = d3;\n",
       "      LDAvis_load_lib(\"https://cdn.jsdelivr.net/gh/bmabey/pyLDAvis@3.3.1/pyLDAvis/js/ldavis.v3.0.0.js\", function(){\n",
       "        new LDAvis(\"#\" + \"ldavis_el1128021543701429444583554602\", ldavis_el1128021543701429444583554602_data);\n",
       "      });\n",
       "    });\n",
       "}else{\n",
       "    // require.js not available: dynamically load d3 & LDAvis\n",
       "    LDAvis_load_lib(\"https://d3js.org/d3.v5.js\", function(){\n",
       "         LDAvis_load_lib(\"https://cdn.jsdelivr.net/gh/bmabey/pyLDAvis@3.3.1/pyLDAvis/js/ldavis.v3.0.0.js\", function(){\n",
       "                 new LDAvis(\"#\" + \"ldavis_el1128021543701429444583554602\", ldavis_el1128021543701429444583554602_data);\n",
       "            })\n",
       "         });\n",
       "}\n",
       "</script>"
      ],
      "text/plain": [
       "<IPython.core.display.HTML object>"
      ]
     },
     "execution_count": 52,
     "metadata": {},
     "output_type": "execute_result"
    }
   ],
   "source": [
    "nontarget_topics = pyLDAvis.gensim_models.prepare(lda_model_nontarget,corpus_nontarget,id2word_non)\n",
    "pyLDAvis.display(nontarget_topics)"
   ]
  },
  {
   "cell_type": "code",
   "execution_count": 53,
   "metadata": {
    "id": "JgxB6cfC4cwa",
    "outputId": "2ee7dd01-46f9-47cc-bc57-d611775184ea"
   },
   "outputs": [
    {
     "name": "stderr",
     "output_type": "stream",
     "text": [
      "c:\\users\\user\\appdata\\local\\programs\\python\\python39\\lib\\site-packages\\ipykernel\\ipkernel.py:283: DeprecationWarning: `should_run_async` will not call `transform_cell` automatically in the future. Please pass the result to `transformed_cell` argument and any exception that happen during thetransform in `preprocessing_exc_tuple` in IPython 7.17 and above.\n",
      "  and should_run_async(code)\n"
     ]
    }
   ],
   "source": [
    "save_path = 'D:/論文/PHEME9/Code/sydneysiege/18 targetanalysis/twanalysis\\\\'\n",
    "pyLDAvis.save_html(nontarget_topics, save_path+'sydneysiege_lda_srcnontarget.html')"
   ]
  },
  {
   "cell_type": "markdown",
   "metadata": {
    "id": "sLE-JDksgb0i"
   },
   "source": [
    "# Rumor Reply tweets - LDA\n",
    "\n",
    "[report](https://docs.google.com/spreadsheets/d/1MxoVkvCgLIHDSn_I_te9wZIXjlFQDb-fe8FhXAfGy8Y/edit?usp=sharing)"
   ]
  },
  {
   "cell_type": "code",
   "execution_count": null,
   "metadata": {
    "id": "atHHJSOWgb04"
   },
   "outputs": [],
   "source": [
    "combined_data = pd.read_csv('combined_rumor_target.csv',header = 0,index_col = 0,encoding = 'utf-8')"
   ]
  },
  {
   "cell_type": "code",
   "execution_count": 54,
   "metadata": {
    "colab": {
     "base_uri": "https://localhost:8080/"
    },
    "executionInfo": {
     "elapsed": 255,
     "status": "ok",
     "timestamp": 1670935377433,
     "user": {
      "displayName": "Bella Yang",
      "userId": "16101934561747208179"
     },
     "user_tz": -120
    },
    "id": "vjCJ1FZpgb05",
    "outputId": "911c37c9-ca2a-41b6-b330-42e89e54783d"
   },
   "outputs": [
    {
     "name": "stderr",
     "output_type": "stream",
     "text": [
      "c:\\users\\user\\appdata\\local\\programs\\python\\python39\\lib\\site-packages\\ipykernel\\ipkernel.py:283: DeprecationWarning: `should_run_async` will not call `transform_cell` automatically in the future. Please pass the result to `transformed_cell` argument and any exception that happen during thetransform in `preprocessing_exc_tuple` in IPython 7.17 and above.\n",
      "  and should_run_async(code)\n"
     ]
    },
    {
     "data": {
      "text/plain": [
       "tweet_id        0\n",
       "user_id         0\n",
       "date            0\n",
       "rumorlabel      0\n",
       "tweet           0\n",
       "cleaned_text    0\n",
       "targetlabel     0\n",
       "sentiment       0\n",
       "src_reply       0\n",
       "dtype: int64"
      ]
     },
     "execution_count": 54,
     "metadata": {},
     "output_type": "execute_result"
    }
   ],
   "source": [
    "reply = combined_data[combined_data.src_reply=='reply']\n",
    "reply.isnull().sum()"
   ]
  },
  {
   "cell_type": "code",
   "execution_count": 55,
   "metadata": {
    "id": "HXzdwl-agb06"
   },
   "outputs": [
    {
     "name": "stderr",
     "output_type": "stream",
     "text": [
      "c:\\users\\user\\appdata\\local\\programs\\python\\python39\\lib\\site-packages\\ipykernel\\ipkernel.py:283: DeprecationWarning: `should_run_async` will not call `transform_cell` automatically in the future. Please pass the result to `transformed_cell` argument and any exception that happen during thetransform in `preprocessing_exc_tuple` in IPython 7.17 and above.\n",
      "  and should_run_async(code)\n"
     ]
    }
   ],
   "source": [
    "target_tw = reply.loc[reply.targetlabel==1,'cleaned_text']\n",
    "nontarget_tw = reply.loc[reply.targetlabel==0,'cleaned_text']"
   ]
  },
  {
   "cell_type": "code",
   "execution_count": 56,
   "metadata": {
    "colab": {
     "base_uri": "https://localhost:8080/"
    },
    "executionInfo": {
     "elapsed": 224,
     "status": "ok",
     "timestamp": 1670935407936,
     "user": {
      "displayName": "Bella Yang",
      "userId": "16101934561747208179"
     },
     "user_tz": -120
    },
    "id": "ICEnRer-gb06",
    "outputId": "40dd2564-3ee5-467c-8176-5d01d74c6939"
   },
   "outputs": [
    {
     "name": "stdout",
     "output_type": "stream",
     "text": [
      "number of target reply tweets: 1943\n",
      "number of non-target reply tweets: 5428\n"
     ]
    },
    {
     "name": "stderr",
     "output_type": "stream",
     "text": [
      "c:\\users\\user\\appdata\\local\\programs\\python\\python39\\lib\\site-packages\\ipykernel\\ipkernel.py:283: DeprecationWarning: `should_run_async` will not call `transform_cell` automatically in the future. Please pass the result to `transformed_cell` argument and any exception that happen during thetransform in `preprocessing_exc_tuple` in IPython 7.17 and above.\n",
      "  and should_run_async(code)\n"
     ]
    }
   ],
   "source": [
    "print(\"number of target reply tweets: {}\".format(len(target_tw)))\n",
    "print(\"number of non-target reply tweets: {}\".format(len(nontarget_tw)))"
   ]
  },
  {
   "cell_type": "code",
   "execution_count": 57,
   "metadata": {
    "id": "yTe-W-J2gb07"
   },
   "outputs": [
    {
     "name": "stderr",
     "output_type": "stream",
     "text": [
      "c:\\users\\user\\appdata\\local\\programs\\python\\python39\\lib\\site-packages\\ipykernel\\ipkernel.py:283: DeprecationWarning: `should_run_async` will not call `transform_cell` automatically in the future. Please pass the result to `transformed_cell` argument and any exception that happen during thetransform in `preprocessing_exc_tuple` in IPython 7.17 and above.\n",
      "  and should_run_async(code)\n"
     ]
    }
   ],
   "source": [
    "target_tw_list = target_tw.apply(word_tokenize).tolist()\n",
    "nontarget_tw_list = nontarget_tw.apply(word_tokenize).tolist()"
   ]
  },
  {
   "cell_type": "markdown",
   "metadata": {
    "id": "YrO1wvTsgb07"
   },
   "source": [
    "## Target"
   ]
  },
  {
   "cell_type": "code",
   "execution_count": 58,
   "metadata": {
    "colab": {
     "base_uri": "https://localhost:8080/"
    },
    "executionInfo": {
     "elapsed": 232,
     "status": "ok",
     "timestamp": 1670935418250,
     "user": {
      "displayName": "Bella Yang",
      "userId": "16101934561747208179"
     },
     "user_tz": -120
    },
    "id": "vKGsnh-kgb07",
    "outputId": "73e7a236-9c81-4c2d-83e2-ddd53dee786d"
   },
   "outputs": [
    {
     "name": "stdout",
     "output_type": "stream",
     "text": [
      "Dictionary(4366 unique tokens: ['dudes', 'flag', 'isis', 'not', 'use']...)\n"
     ]
    },
    {
     "name": "stderr",
     "output_type": "stream",
     "text": [
      "c:\\users\\user\\appdata\\local\\programs\\python\\python39\\lib\\site-packages\\ipykernel\\ipkernel.py:283: DeprecationWarning: `should_run_async` will not call `transform_cell` automatically in the future. Please pass the result to `transformed_cell` argument and any exception that happen during thetransform in `preprocessing_exc_tuple` in IPython 7.17 and above.\n",
      "  and should_run_async(code)\n"
     ]
    }
   ],
   "source": [
    "#Target dictionary\n",
    "id2word = corpora.Dictionary(target_tw_list)\n",
    "print(id2word)"
   ]
  },
  {
   "cell_type": "code",
   "execution_count": 59,
   "metadata": {
    "id": "cOL0WNqHgb08"
   },
   "outputs": [
    {
     "name": "stderr",
     "output_type": "stream",
     "text": [
      "c:\\users\\user\\appdata\\local\\programs\\python\\python39\\lib\\site-packages\\ipykernel\\ipkernel.py:283: DeprecationWarning: `should_run_async` will not call `transform_cell` automatically in the future. Please pass the result to `transformed_cell` argument and any exception that happen during thetransform in `preprocessing_exc_tuple` in IPython 7.17 and above.\n",
      "  and should_run_async(code)\n"
     ]
    }
   ],
   "source": [
    "# Term Document Frequency\n",
    "corpus_target = [id2word.doc2bow(tw) for tw in target_tw_list]"
   ]
  },
  {
   "cell_type": "code",
   "execution_count": 60,
   "metadata": {
    "id": "pAKEKA18gb08"
   },
   "outputs": [
    {
     "name": "stderr",
     "output_type": "stream",
     "text": [
      "c:\\users\\user\\appdata\\local\\programs\\python\\python39\\lib\\site-packages\\ipykernel\\ipkernel.py:283: DeprecationWarning: `should_run_async` will not call `transform_cell` automatically in the future. Please pass the result to `transformed_cell` argument and any exception that happen during thetransform in `preprocessing_exc_tuple` in IPython 7.17 and above.\n",
      "  and should_run_async(code)\n"
     ]
    }
   ],
   "source": [
    "def compute_coherence_values(corpus, dictionary, k):\n",
    "    \n",
    "    lda_model = gensim.models.LdaMulticore(corpus=corpus,\n",
    "                                           id2word=dictionary,\n",
    "                                           num_topics=k, \n",
    "                                           random_state=100,\n",
    "                                           chunksize=50,\n",
    "                                           passes=20)\n",
    "    \n",
    "    coherence_model_lda = CoherenceModel(model=lda_model, \n",
    "                                         texts=target_tw_list, #要改\n",
    "                                         dictionary=id2word,    #要改\n",
    "                                         coherence='c_v')\n",
    "    return coherence_model_lda.get_coherence()"
   ]
  },
  {
   "cell_type": "code",
   "execution_count": 61,
   "metadata": {
    "id": "1T3XmHFFgb08"
   },
   "outputs": [
    {
     "name": "stderr",
     "output_type": "stream",
     "text": [
      "c:\\users\\user\\appdata\\local\\programs\\python\\python39\\lib\\site-packages\\ipykernel\\ipkernel.py:283: DeprecationWarning: `should_run_async` will not call `transform_cell` automatically in the future. Please pass the result to `transformed_cell` argument and any exception that happen during thetransform in `preprocessing_exc_tuple` in IPython 7.17 and above.\n",
      "  and should_run_async(code)\n"
     ]
    }
   ],
   "source": [
    "# Topics range\n",
    "min_topics = 2\n",
    "max_topics = 21\n",
    "step_size = 1\n",
    "topics_range = range(min_topics, max_topics, step_size)"
   ]
  },
  {
   "cell_type": "code",
   "execution_count": 62,
   "metadata": {
    "colab": {
     "base_uri": "https://localhost:8080/"
    },
    "executionInfo": {
     "elapsed": 382689,
     "status": "ok",
     "timestamp": 1670935865017,
     "user": {
      "displayName": "Bella Yang",
      "userId": "16101934561747208179"
     },
     "user_tz": -120
    },
    "id": "PKKkvqjwgb09",
    "outputId": "f72e691b-3c56-4870-9896-ea029d1f5af7"
   },
   "outputs": [
    {
     "name": "stderr",
     "output_type": "stream",
     "text": [
      "c:\\users\\user\\appdata\\local\\programs\\python\\python39\\lib\\site-packages\\ipykernel\\ipkernel.py:283: DeprecationWarning: `should_run_async` will not call `transform_cell` automatically in the future. Please pass the result to `transformed_cell` argument and any exception that happen during thetransform in `preprocessing_exc_tuple` in IPython 7.17 and above.\n",
      "  and should_run_async(code)\n"
     ]
    }
   ],
   "source": [
    "target_results ={'Topics': [], 'Coherence': []}\n",
    "\n",
    "for k in topics_range:\n",
    "\n",
    "    # get the coherence score for the given parameters\n",
    "    cv = compute_coherence_values(corpus=corpus_target, \n",
    "                                  dictionary=id2word,k=k)\n",
    "    # Save the model results\n",
    "    target_results['Topics'].append(k)\n",
    "    target_results['Coherence'].append(cv)"
   ]
  },
  {
   "cell_type": "code",
   "execution_count": 63,
   "metadata": {
    "colab": {
     "base_uri": "https://localhost:8080/",
     "height": 614
    },
    "executionInfo": {
     "elapsed": 107,
     "status": "ok",
     "timestamp": 1670935865018,
     "user": {
      "displayName": "Bella Yang",
      "userId": "16101934561747208179"
     },
     "user_tz": -120
    },
    "id": "AJB3FC8pgb09",
    "outputId": "434db353-cf46-4cf3-add2-ed02c73a6828"
   },
   "outputs": [
    {
     "name": "stderr",
     "output_type": "stream",
     "text": [
      "c:\\users\\user\\appdata\\local\\programs\\python\\python39\\lib\\site-packages\\ipykernel\\ipkernel.py:283: DeprecationWarning: `should_run_async` will not call `transform_cell` automatically in the future. Please pass the result to `transformed_cell` argument and any exception that happen during thetransform in `preprocessing_exc_tuple` in IPython 7.17 and above.\n",
      "  and should_run_async(code)\n"
     ]
    },
    {
     "data": {
      "text/html": [
       "<div>\n",
       "<style scoped>\n",
       "    .dataframe tbody tr th:only-of-type {\n",
       "        vertical-align: middle;\n",
       "    }\n",
       "\n",
       "    .dataframe tbody tr th {\n",
       "        vertical-align: top;\n",
       "    }\n",
       "\n",
       "    .dataframe thead th {\n",
       "        text-align: right;\n",
       "    }\n",
       "</style>\n",
       "<table border=\"1\" class=\"dataframe\">\n",
       "  <thead>\n",
       "    <tr style=\"text-align: right;\">\n",
       "      <th></th>\n",
       "      <th>Topics</th>\n",
       "      <th>Coherence</th>\n",
       "    </tr>\n",
       "  </thead>\n",
       "  <tbody>\n",
       "    <tr>\n",
       "      <th>0</th>\n",
       "      <td>2</td>\n",
       "      <td>0.193354</td>\n",
       "    </tr>\n",
       "    <tr>\n",
       "      <th>1</th>\n",
       "      <td>3</td>\n",
       "      <td>0.250526</td>\n",
       "    </tr>\n",
       "    <tr>\n",
       "      <th>2</th>\n",
       "      <td>4</td>\n",
       "      <td>0.257115</td>\n",
       "    </tr>\n",
       "    <tr>\n",
       "      <th>3</th>\n",
       "      <td>5</td>\n",
       "      <td>0.346431</td>\n",
       "    </tr>\n",
       "    <tr>\n",
       "      <th>4</th>\n",
       "      <td>6</td>\n",
       "      <td>0.299259</td>\n",
       "    </tr>\n",
       "    <tr>\n",
       "      <th>5</th>\n",
       "      <td>7</td>\n",
       "      <td>0.368446</td>\n",
       "    </tr>\n",
       "    <tr>\n",
       "      <th>6</th>\n",
       "      <td>8</td>\n",
       "      <td>0.329096</td>\n",
       "    </tr>\n",
       "    <tr>\n",
       "      <th>7</th>\n",
       "      <td>9</td>\n",
       "      <td>0.371164</td>\n",
       "    </tr>\n",
       "    <tr>\n",
       "      <th>8</th>\n",
       "      <td>10</td>\n",
       "      <td>0.416572</td>\n",
       "    </tr>\n",
       "    <tr>\n",
       "      <th>9</th>\n",
       "      <td>11</td>\n",
       "      <td>0.366036</td>\n",
       "    </tr>\n",
       "    <tr>\n",
       "      <th>10</th>\n",
       "      <td>12</td>\n",
       "      <td>0.435744</td>\n",
       "    </tr>\n",
       "    <tr>\n",
       "      <th>11</th>\n",
       "      <td>13</td>\n",
       "      <td>0.414901</td>\n",
       "    </tr>\n",
       "    <tr>\n",
       "      <th>12</th>\n",
       "      <td>14</td>\n",
       "      <td>0.432231</td>\n",
       "    </tr>\n",
       "    <tr>\n",
       "      <th>13</th>\n",
       "      <td>15</td>\n",
       "      <td>0.439791</td>\n",
       "    </tr>\n",
       "    <tr>\n",
       "      <th>14</th>\n",
       "      <td>16</td>\n",
       "      <td>0.430245</td>\n",
       "    </tr>\n",
       "    <tr>\n",
       "      <th>15</th>\n",
       "      <td>17</td>\n",
       "      <td>0.455963</td>\n",
       "    </tr>\n",
       "    <tr>\n",
       "      <th>16</th>\n",
       "      <td>18</td>\n",
       "      <td>0.452096</td>\n",
       "    </tr>\n",
       "    <tr>\n",
       "      <th>17</th>\n",
       "      <td>19</td>\n",
       "      <td>0.468952</td>\n",
       "    </tr>\n",
       "    <tr>\n",
       "      <th>18</th>\n",
       "      <td>20</td>\n",
       "      <td>0.489893</td>\n",
       "    </tr>\n",
       "  </tbody>\n",
       "</table>\n",
       "</div>"
      ],
      "text/plain": [
       "    Topics  Coherence\n",
       "0        2   0.193354\n",
       "1        3   0.250526\n",
       "2        4   0.257115\n",
       "3        5   0.346431\n",
       "4        6   0.299259\n",
       "5        7   0.368446\n",
       "6        8   0.329096\n",
       "7        9   0.371164\n",
       "8       10   0.416572\n",
       "9       11   0.366036\n",
       "10      12   0.435744\n",
       "11      13   0.414901\n",
       "12      14   0.432231\n",
       "13      15   0.439791\n",
       "14      16   0.430245\n",
       "15      17   0.455963\n",
       "16      18   0.452096\n",
       "17      19   0.468952\n",
       "18      20   0.489893"
      ]
     },
     "execution_count": 63,
     "metadata": {},
     "output_type": "execute_result"
    }
   ],
   "source": [
    "target_results = pd.DataFrame(target_results)\n",
    "target_results"
   ]
  },
  {
   "cell_type": "code",
   "execution_count": 64,
   "metadata": {
    "colab": {
     "base_uri": "https://localhost:8080/",
     "height": 279
    },
    "executionInfo": {
     "elapsed": 718,
     "status": "ok",
     "timestamp": 1670937982739,
     "user": {
      "displayName": "Bella Yang",
      "userId": "16101934561747208179"
     },
     "user_tz": -120
    },
    "id": "wxOWmqtHgb1D",
    "outputId": "e3851a3b-fdc3-406c-ce90-037269affc1a"
   },
   "outputs": [
    {
     "name": "stderr",
     "output_type": "stream",
     "text": [
      "c:\\users\\user\\appdata\\local\\programs\\python\\python39\\lib\\site-packages\\ipykernel\\ipkernel.py:283: DeprecationWarning: `should_run_async` will not call `transform_cell` automatically in the future. Please pass the result to `transformed_cell` argument and any exception that happen during thetransform in `preprocessing_exc_tuple` in IPython 7.17 and above.\n",
      "  and should_run_async(code)\n"
     ]
    },
    {
     "data": {
      "image/png": "[encoded data removed]",
      "text/plain": [
       "<Figure size 432x288 with 1 Axes>"
      ]
     },
     "metadata": {
      "needs_background": "light"
     },
     "output_type": "display_data"
    }
   ],
   "source": [
    "# Show graph\n",
    "x = range(min_topics, max_topics, step_size)\n",
    "plt.plot(target_results.Topics, target_results.Coherence)\n",
    "plt.xticks(x)\n",
    "plt.xlabel(\"Num Topics\")\n",
    "plt.ylabel(\"Coherence score\")\n",
    "plt.legend((\"coherence_values\"), loc='best')\n",
    "plt.show()"
   ]
  },
  {
   "cell_type": "markdown",
   "metadata": {},
   "source": [
    "### choose the number of topics: **12**"
   ]
  },
  {
   "cell_type": "code",
   "execution_count": 65,
   "metadata": {
    "colab": {
     "base_uri": "https://localhost:8080/"
    },
    "executionInfo": {
     "elapsed": 20291,
     "status": "ok",
     "timestamp": 1670938278849,
     "user": {
      "displayName": "Bella Yang",
      "userId": "16101934561747208179"
     },
     "user_tz": -120
    },
    "id": "A0K6yoRvgb1D",
    "outputId": "c51f3786-c1c8-409e-ebcf-0dc8eaf63ad1"
   },
   "outputs": [
    {
     "name": "stderr",
     "output_type": "stream",
     "text": [
      "c:\\users\\user\\appdata\\local\\programs\\python\\python39\\lib\\site-packages\\ipykernel\\ipkernel.py:283: DeprecationWarning: `should_run_async` will not call `transform_cell` automatically in the future. Please pass the result to `transformed_cell` argument and any exception that happen during thetransform in `preprocessing_exc_tuple` in IPython 7.17 and above.\n",
      "  and should_run_async(code)\n"
     ]
    }
   ],
   "source": [
    "lda_model_target = gensim.models.LdaMulticore(corpus=corpus_target,id2word=id2word,num_topics=12, \n",
    "                                       random_state=100,chunksize=50,passes=20)"
   ]
  },
  {
   "cell_type": "code",
   "execution_count": 66,
   "metadata": {
    "colab": {
     "base_uri": "https://localhost:8080/"
    },
    "executionInfo": {
     "elapsed": 4101,
     "status": "ok",
     "timestamp": 1670938296144,
     "user": {
      "displayName": "Bella Yang",
      "userId": "16101934561747208179"
     },
     "user_tz": -120
    },
    "id": "kIm7Ud9Ggb1E",
    "outputId": "7ee4d879-bc81-40f2-ed57-d4f11cd0e966"
   },
   "outputs": [
    {
     "name": "stderr",
     "output_type": "stream",
     "text": [
      "c:\\users\\user\\appdata\\local\\programs\\python\\python39\\lib\\site-packages\\ipykernel\\ipkernel.py:283: DeprecationWarning: `should_run_async` will not call `transform_cell` automatically in the future. Please pass the result to `transformed_cell` argument and any exception that happen during thetransform in `preprocessing_exc_tuple` in IPython 7.17 and above.\n",
      "  and should_run_async(code)\n",
      "c:\\users\\user\\appdata\\local\\programs\\python\\python39\\lib\\site-packages\\pyLDAvis\\_prepare.py:246: FutureWarning: In a future version of pandas all arguments of DataFrame.drop except for the argument 'labels' will be keyword-only.\n",
      "  default_term_info = default_term_info.sort_values(\n"
     ]
    }
   ],
   "source": [
    "target_topics = pyLDAvis.gensim_models.prepare(lda_model_target,corpus_target,id2word)"
   ]
  },
  {
   "cell_type": "code",
   "execution_count": 67,
   "metadata": {
    "colab": {
     "base_uri": "https://localhost:8080/",
     "height": 881
    },
    "executionInfo": {
     "elapsed": 17,
     "status": "ok",
     "timestamp": 1670938296470,
     "user": {
      "displayName": "Bella Yang",
      "userId": "16101934561747208179"
     },
     "user_tz": -120
    },
    "id": "r031zQOggb1E",
    "outputId": "2d54ce68-2e11-40a1-8d4c-1c7361bd26f2"
   },
   "outputs": [
    {
     "name": "stderr",
     "output_type": "stream",
     "text": [
      "c:\\users\\user\\appdata\\local\\programs\\python\\python39\\lib\\site-packages\\ipykernel\\ipkernel.py:283: DeprecationWarning: `should_run_async` will not call `transform_cell` automatically in the future. Please pass the result to `transformed_cell` argument and any exception that happen during thetransform in `preprocessing_exc_tuple` in IPython 7.17 and above.\n",
      "  and should_run_async(code)\n"
     ]
    },
    {
     "data": {
      "text/html": [
       "\n",
       "<link rel=\"stylesheet\" type=\"text/css\" href=\"https://cdn.jsdelivr.net/gh/bmabey/pyLDAvis@3.3.1/pyLDAvis/js/ldavis.v1.0.0.css\">\n",
       "\n",
       "\n",
       "<div id=\"ldavis_el1128021543626856963664612777\"></div>\n",
       "<script type=\"text/javascript\">\n",
       "\n",
       "var ldavis_el1128021543626856963664612777_data = {\"mdsDat\": {\"x\": [0.22013696425003595, 0.15051947752803957, -0.09971986105173355, -0.04873281158787657, 0.06306723518632222, -0.14781041255117736, 0.056262825052612465, -0.04685554038675491, -0.06476340564766712, 0.03182435992880289, -0.04869656046135278, -0.0652322702592514], \"y\": [-0.0499810571524251, 0.026855998907434606, -0.03277665887945069, -0.1439422893173408, 0.09897780076058939, 0.1037736772921282, 0.057487684807685895, -0.10529052455482477, -0.13381570446315078, -0.00222898105498835, 0.04919936334070085, 0.13174069031364147], \"topics\": [1, 2, 3, 4, 5, 6, 7, 8, 9, 10, 11, 12], \"cluster\": [1, 1, 1, 1, 1, 1, 1, 1, 1, 1, 1, 1], \"Freq\": [10.447767223282431, 10.29692886871856, 10.285795406034655, 9.383785239897884, 9.339336768226095, 8.062401361086655, 7.899211021118253, 7.628778062616555, 7.41712890443497, 7.080496298627907, 6.871131493772016, 5.287239352184018]}, \"tinfo\": {\"Term\": [\"islam\", \"flag\", \"isis\", \"sydney\", \"hold\", \"muslim\", \"kill\", \"hostages\", \"god\", \"no\", \"terrorist\", \"uber\", \"cafe\", \"islamic\", \"gun\", \"not\", \"look\", \"allah\", \"know\", \"make\", \"quran\", \"would\", \"sydneysiege\", \"hostage\", \"well\", \"love\", \"ppl\", \"embrace\", \"live\", \"bad\", \"hold\", \"cafe\", \"break\", \"sydney\", \"always\", \"crisis\", \"realize\", \"mt\", \"instead\", \"rather\", \"via\", \"place\", \"sense\", \"school\", \"connection\", \"martin\", \"politics\", \"fly\", \"justify\", \"life\", \"pbuh\", \"ackbar\", \"allahu\", \"ray\", \"idea\", \"na\", \"banner\", \"beliefs\", \"chocolate\", \"lunatic\", \"enemy\", \"window\", \"shoot\", \"hostages\", \"siege\", \"already\", \"come\", \"great\", \"shahada\", \"inside\", \"hostage\", \"force\", \"flag\", \"sydneysiege\", \"u\", \"islamic\", \"report\", \"gunmen\", \"isis\", \"take\", \"media\", \"news\", \"people\", \"mean\", \"state\", \"would\", \"religion\", \"islam\", \"uber\", \"saudi\", \"abbott\", \"clearly\", \"encourage\", \"wonder\", \"surge\", \"long\", \"sound\", \"fare\", \"behead\", \"change\", \"govt\", \"extremist\", \"nusra\", \"almost\", \"fair\", \"verse\", \"leave\", \"soon\", \"extreme\", \"prime\", \"belong\", \"minister\", \"far\", \"pickup\", \"worse\", \"attention\", \"sadly\", \"rule\", \"wait\", \"wrong\", \"right\", \"find\", \"drivers\", \"syria\", \"human\", \"flag\", \"isis\", \"jihad\", \"not\", \"al\", \"excuse\", \"use\", \"also\", \"seem\", \"fear\", \"one\", \"islamic\", \"group\", \"world\", \"state\", \"thats\", \"people\", \"terrorists\", \"like\", \"go\", \"get\", \"muslims\", \"laws\", \"involve\", \"hurt\", \"law\", \"common\", \"islams\", \"wow\", \"die\", \"civilians\", \"wouldnt\", \"count\", \"wish\", \"criminal\", \"liberal\", \"ally\", \"pick\", \"twitter\", \"nsw\", \"silent\", \"individual\", \"ive\", \"nra\", \"correct\", \"storm\", \"worldwide\", \"feed\", \"difference\", \"wake\", \"dickhead\", \"reality\", \"n\", \"time\", \"illegal\", \"sad\", \"r\", \"terrorism\", \"gun\", \"es\", \"religions\", \"religion\", \"make\", \"muslims\", \"world\", \"happen\", \"no\", \"en\", \"thank\", \"want\", \"country\", \"fuck\", \"media\", \"police\", \"see\", \"hope\", \"peaceful\", \"kill\", \"say\", \"terrorists\", \"get\", \"muslim\", \"australia\", \"dont\", \"embrace\", \"bible\", \"rid\", \"radical\", \"dead\", \"bieber\", \"katy\", \"nasa\", \"cnn\", \"cost\", \"prove\", \"lie\", \"protect\", \"hard\", \"photos\", \"defend\", \"agenda\", \"front\", \"system\", \"describe\", \"shield\", \"everywhere\", \"catholic\", \"anyone\", \"falseflag\", \"suicide\", \"achieve\", \"aim\", \"promote\", \"derange\", \"islam\", \"higher\", \"matter\", \"jesus\", \"believe\", \"shit\", \"everyone\", \"still\", \"koran\", \"maybe\", \"word\", \"sydneysiege\", \"dont\", \"use\", \"not\", \"police\", \"christians\", \"need\", \"religion\", \"australian\", \"hostages\", \"say\", \"us\", \"media\", \"terrorism\", \"price\", \"rape\", \"snipers\", \"le\", \"lose\", \"increase\", \"east\", \"middle\", \"press\", \"order\", \"clear\", \"solve\", \"believers\", \"party\", \"arm\", \"abide\", \"fake\", \"robbery\", \"fundamentalism\", \"dog\", \"havent\", \"events\", \"hang\", \"flee\", \"buy\", \"shout\", \"rise\", \"several\", \"accept\", \"calm\", \"citizens\", \"guy\", \"better\", \"carry\", \"keep\", \"thing\", \"stupid\", \"cant\", \"cop\", \"much\", \"need\", \"know\", \"new\", \"make\", \"last\", \"help\", \"im\", \"one\", \"get\", \"would\", \"really\", \"free\", \"isis\", \"no\", \"think\", \"people\", \"gun\", \"not\", \"like\", \"take\", \"police\", \"islamic\", \"terrorist\", \"hes\", \"ban\", \"humanity\", \"power\", \"deport\", \"though\", \"violent\", \"another\", \"continue\", \"putin\", \"destroy\", \"israel\", \"crap\", \"gulf\", \"saudis\", \"takers\", \"money\", \"buddhists\", \"moslems\", \"bloody\", \"however\", \"avoid\", \"journalists\", \"west\", \"rifle\", \"mercy\", \"finance\", \"risk\", \"directly\", \"bad\", \"countries\", \"support\", \"give\", \"society\", \"good\", \"without\", \"blame\", \"hate\", \"work\", \"control\", \"gun\", \"dont\", \"agree\", \"must\", \"try\", \"every\", \"no\", \"australia\", \"muslims\", \"go\", \"stop\", \"terrorists\", \"islam\", \"name\", \"way\", \"usa\", \"one\", \"not\", \"thats\", \"gain\", \"care\", \"nato\", \"important\", \"fight\", \"surprise\", \"mind\", \"join\", \"move\", \"foreign\", \"uk\", \"jihadi\", \"service\", \"close\", \"pay\", \"book\", \"suspect\", \"raise\", \"nobody\", \"mosques\", \"mohammed\", \"whats\", \"opinion\", \"rt\", \"burn\", \"quote\", \"mad\", \"theories\", \"tbh\", \"moron\", \"someone\", \"americans\", \"demand\", \"cover\", \"gunman\", \"murder\", \"local\", \"yeah\", \"call\", \"would\", \"never\", \"practice\", \"islamic\", \"not\", \"know\", \"flag\", \"please\", \"make\", \"think\", \"no\", \"want\", \"muslims\", \"people\", \"hope\", \"isis\", \"look\", \"secular\", \"abuse\", \"listen\", \"save\", \"consider\", \"become\", \"fool\", \"bbc\", \"protest\", \"scum\", \"politicians\", \"face\", \"welcome\", \"disgust\", \"girls\", \"example\", \"motivate\", \"massacre\", \"community\", \"crimes\", \"breed\", \"fanaticism\", \"poor\", \"unharmed\", \"sydneyseige\", \"publicity\", \"hitler\", \"gaza\", \"desperate\", \"muslim\", \"action\", \"terrorist\", \"may\", \"women\", \"problem\", \"country\", \"like\", \"sex\", \"people\", \"even\", \"read\", \"see\", \"not\", \"kill\", \"innocent\", \"terrorists\", \"muslims\", \"religion\", \"say\", \"dont\", \"use\", \"youre\", \"god\", \"ppl\", \"muhammad\", \"crime\", \"ones\", \"messenger\", \"remember\", \"end\", \"charge\", \"sunni\", \"commit\", \"monis\", \"witness\", \"palestine\", \"love\", \"stay\", \"reason\", \"haron\", \"cleric\", \"american\", \"offenders\", \"terrorize\", \"sympathy\", \"home\", \"position\", \"allah\", \"else\", \"civilize\", \"empathy\", \"sexual\", \"bear\", \"live\", \"kill\", \"turkey\", \"old\", \"scumbag\", \"animals\", \"etc\", \"man\", \"no\", \"safe\", \"say\", \"name\", \"innocent\", \"kind\", \"people\", \"like\", \"not\", \"police\", \"way\", \"b\", \"ago\", \"allow\", \"truth\", \"behind\", \"christian\", \"walk\", \"company\", \"duck\", \"assume\", \"either\", \"safety\", \"india\", \"learn\", \"majority\", \"iran\", \"huh\", \"could\", \"hours\", \"filthy\", \"heavily\", \"mass\", \"quickly\", \"sniper\", \"leftist\", \"funny\", \"able\", \"indian\", \"favor\", \"identity\", \"write\", \"act\", \"guess\", \"free\", \"la\", \"peace\", \"idiots\", \"race\", \"immigration\", \"yet\", \"oh\", \"terrorist\", \"say\", \"isis\", \"like\", \"religion\", \"not\", \"no\", \"de\", \"one\", \"media\", \"stop\", \"australia\", \"flag\", \"government\", \"taker\", \"iranian\", \"pm\", \"torture\", \"journalism\", \"blow\", \"incident\", \"moral\", \"logic\", \"asians\", \"info\", \"authorities\", \"colonial\", \"obviously\", \"ignore\", \"condemn\", \"asylum\", \"stag\", \"eat\", \"fail\", \"sheikh\", \"authority\", \"second\", \"racism\", \"backlash\", \"concern\", \"hahaha\", \"seal\", \"outpost\", \"spread\", \"watch\", \"rest\", \"australians\", \"enough\", \"nation\", \"part\", \"well\", \"do\", \"deal\", \"racist\", \"speculation\", \"arent\", \"hope\", \"not\", \"mean\", \"terrorists\", \"know\", \"hostage\", \"let\", \"talk\", \"muslim\", \"dont\", \"islamic\", \"want\", \"like\", \"say\", \"terror\", \"quran\", \"western\", \"start\", \"lol\", \"idiot\", \"fox\", \"europe\", \"include\", \"fund\", \"body\", \"thugs\", \"obamas\", \"corrupt\", \"alive\", \"headline\", \"ya\", \"eye\", \"result\", \"defenseless\", \"jones\", \"bring\", \"horrible\", \"islamization\", \"workplace\", \"viewers\", \"affect\", \"arabia\", \"refugees\", \"doors\", \"sydenysiege\", \"fault\", \"aussie\", \"send\", \"photo\", \"aussies\", \"violence\", \"extremists\", \"release\", \"sure\", \"yes\", \"back\", \"let\", \"call\", \"police\", \"state\", \"think\", \"obama\", \"not\", \"us\", \"isis\", \"muslims\", \"well\", \"fuck\", \"u\"], \"Freq\": [138.0, 233.0, 191.0, 65.0, 53.0, 82.0, 63.0, 88.0, 37.0, 136.0, 76.0, 38.0, 38.0, 108.0, 61.0, 286.0, 29.0, 34.0, 62.0, 55.0, 20.0, 67.0, 43.0, 46.0, 41.0, 24.0, 21.0, 23.0, 32.0, 27.0, 53.21977060538175, 37.89954062199391, 12.941268958327345, 61.70492087694057, 11.448820290369415, 9.417056263575633, 9.403906002152555, 9.254174932354914, 8.957337524081165, 8.168046645136943, 15.098365776375324, 11.23585456271526, 5.491754359916419, 4.916014930265889, 4.813282929713151, 4.729734663881036, 4.493841405136015, 3.9288415912111363, 3.794989023518109, 7.722580604104626, 3.611630714127086, 3.5289969888251216, 3.5289969888251216, 3.489708327649868, 3.4053076684736294, 3.3416427608677037, 3.4983711049715955, 3.2621267873730697, 3.251327102962598, 3.111246306409127, 5.762389766301123, 8.442096197600796, 16.212570457868907, 57.644480644742984, 13.300685049477346, 8.258538767794343, 8.475818632549363, 9.062389131978557, 14.248913927156375, 10.372047752774881, 26.66421898698758, 12.985500295367821, 88.74269641447523, 23.49915550383116, 18.00666951149062, 45.06648547580191, 16.168290068199997, 9.078248927572325, 43.881068017426976, 18.876347671634566, 19.56092449127707, 10.404873106603418, 19.62926561089375, 12.98688291436931, 11.574760003975438, 11.558398042490568, 11.44171929885304, 9.985663524191713, 37.989989543106354, 10.605913239302321, 8.150735263157992, 7.489464483353294, 7.306493899118672, 6.792378669597208, 6.74989865849785, 6.747002089255402, 6.578050982093951, 6.397169860820642, 5.841362060947201, 5.8006150750098735, 5.393563927626101, 13.97917911692222, 5.172653202698848, 4.935514315438729, 4.898307535275658, 4.662387501409639, 12.898904642197797, 4.542585889180335, 4.5044658907935835, 4.389547886113074, 4.054380819776394, 3.792896411428017, 3.74667175494309, 3.706248021216836, 3.6996498249439047, 3.6746770552686328, 3.6114712103875264, 3.5289300488404955, 7.086935589335595, 10.831871860924934, 25.646478085778693, 8.846344523088085, 12.50501219508686, 10.190679591082597, 6.678593891299246, 106.24577961267251, 87.3818195701081, 7.182422407873131, 84.79692281694201, 13.089223580878324, 7.88914597196293, 23.76556647112722, 13.31690867248505, 11.204273976629457, 7.94564668923132, 18.281589842370614, 19.52678849652183, 10.051481207394389, 10.601805600939551, 10.120478551965912, 10.4342609891401, 12.569340614186396, 10.828445961065622, 9.713121769411718, 8.432072847227804, 8.385315582537052, 8.488354785433186, 9.912368786436963, 9.64935164777238, 8.789343489456478, 8.242744116374121, 8.074404176745228, 7.8107412326856505, 6.829356856095317, 6.826698740733785, 5.738661526661397, 5.289211665917119, 4.902936960815372, 4.610186172364587, 4.574674651496922, 4.55664734994802, 4.46271376840454, 4.4526935533911844, 4.410856168144273, 4.35018361072126, 4.133855173623157, 3.80141681978599, 3.7390360293346414, 3.678108096394215, 3.628856226773959, 3.560948438946554, 3.505191860233736, 3.4916385413072, 10.339709429910103, 7.0803811675767845, 3.3386280900689003, 3.3046144448322132, 9.624599866853913, 21.955284766949685, 6.416061047568605, 6.587085294919791, 9.745104370621789, 20.335036789476348, 29.44808102492262, 7.030742551379677, 6.002576572193292, 31.718179480106624, 20.70176749163892, 29.57044846034957, 16.03569664354717, 11.029302722518135, 34.21279557768269, 8.667324739832146, 8.204751278580055, 15.624677933384055, 11.90133562995683, 12.159122481582093, 16.210989017935372, 16.29946026449342, 12.074054604900333, 10.22939457298925, 9.049860894691, 11.636701931526574, 11.761808105675524, 11.03495454286344, 10.058725968786513, 10.416190304818858, 9.704242650813198, 8.907378544711424, 22.79482593561108, 22.525312384915903, 12.138820160359018, 10.692851779208443, 10.493071062622713, 10.382946740358825, 10.382946740358825, 10.382946740358825, 10.108679492863972, 7.686951744714544, 7.590923485046862, 6.56282939605537, 6.140035259195588, 5.2943749258245685, 5.237004989015686, 5.224651425866863, 4.811671589515739, 4.481320277956119, 4.387605767822492, 4.3014022629134185, 4.151055213958605, 4.05761587461836, 4.039737240369822, 8.104224170769239, 3.8023593072954367, 3.7837253534878554, 3.7705627060659497, 3.736403444347275, 3.6183376257804447, 3.577036991246237, 113.52896083273552, 6.817684594853344, 10.429147057825967, 6.027635644102827, 15.395678198615155, 8.24870862569731, 8.682614510158025, 12.572714097105502, 6.268217431421479, 9.230093125902563, 9.853840722173064, 14.356604906977477, 18.616847667731044, 16.779287725533248, 29.081471222769657, 14.868660043491268, 7.2346949179270945, 10.961456556889923, 15.619001886093143, 9.67970054705928, 12.744426646033968, 12.683980172810594, 10.155182983579726, 10.028668637587273, 9.125625299594931, 16.45602292429669, 10.267367718150517, 10.26325264704931, 8.957369726089901, 6.689980413226427, 5.865903424035352, 5.73845698909678, 4.7595419958788865, 4.677742973721904, 4.630139099919197, 4.0762685150174685, 4.01401886757273, 3.864415558019696, 3.7996305005945046, 17.431870751461727, 3.5639756066953785, 3.516339032309602, 3.506933898701914, 3.491648977299897, 3.431771236920266, 3.349230877681208, 3.3029844496733993, 3.254798282533543, 3.2030332595353044, 3.197200664627905, 3.178186761963417, 3.1181566665944866, 3.1033496196223194, 3.0619218826480035, 3.006129113969254, 11.975918930266053, 13.663871747828393, 8.785542282768594, 10.542896885529414, 14.932154943819002, 10.216469260603606, 5.413448866754196, 11.727094991328489, 8.033344891138546, 9.985610576087113, 17.918471777820088, 26.87495041302136, 6.072829740915751, 22.435938417592276, 5.4313817921897325, 7.994003860121321, 7.3343468889913535, 20.478844194275542, 16.812530626475567, 16.541242130164665, 10.391375761098889, 9.646700989964852, 25.000790813928184, 20.712974423489076, 12.540296063868839, 15.634306322647143, 12.815444715372024, 20.93264802220583, 10.979258668367734, 9.665534296227392, 9.916689638098763, 9.83940849877079, 9.602501692776672, 17.35251511327912, 11.156615070625776, 9.515802935011937, 7.166078281040928, 6.791200191751425, 6.558880661982374, 6.479517787918493, 19.440545471403627, 6.327570338438939, 6.306671493179423, 6.292554154470932, 5.681563511123858, 5.290959319864113, 5.176301495077596, 5.083081764013806, 5.010322357894713, 4.915186867269773, 4.817087916024285, 4.593843864109304, 4.5245772225752425, 4.309476431956278, 4.307571579264699, 4.041308267438713, 11.440015320080063, 3.7200602182015694, 3.577137561711609, 3.4920582048313, 3.366542270596387, 3.324838571629836, 22.172616212417584, 11.55198395993672, 15.815495956407492, 18.105049335695963, 8.739284506408058, 14.781468261969628, 5.822121622448842, 7.761139762169569, 10.274230716480599, 10.883237592726845, 6.622234176257446, 17.748431912390874, 18.208520882576106, 7.123812878291461, 8.143635979064264, 9.395470009355309, 8.537990529505088, 19.451374068146123, 12.145194481141074, 15.905301837295502, 12.059548608623627, 9.792648155853943, 12.401833122151052, 14.281865628069687, 7.760821538210315, 7.806054892644271, 7.295073185878768, 8.62737938302714, 9.459965537032538, 7.8214130481616255, 9.609282188583352, 9.585410688081641, 8.34788057177835, 7.6307989510879635, 7.604920348703431, 7.097069513232587, 6.85839788122828, 6.187700869067538, 5.844763657230718, 5.836163228805807, 5.761960175608389, 5.312713194987309, 5.289048502039449, 5.249425997645234, 17.331629626427933, 4.903071746711951, 4.5154043867762965, 4.39314246389518, 4.1897959507473805, 3.981974788444286, 3.856151564054521, 7.242469052666718, 3.6079972714008934, 3.558339886186969, 3.434879862401169, 3.390959658172054, 3.33206507841756, 3.3238801508835176, 3.2786499559485467, 3.2483793645708228, 6.091305919574765, 5.06585883552932, 16.58189629881578, 8.058504002011507, 14.71028793646001, 9.281373411389332, 4.559594257998124, 9.843877385977548, 18.55778344148623, 25.77984517732684, 10.940515613207404, 5.3240077789617875, 19.208519438836777, 27.935348137786423, 11.91158079661416, 19.2382494390403, 7.194955488615134, 8.874724386700933, 8.289768277740476, 9.973225767698617, 7.533438480614291, 8.158951499527625, 7.989962698472266, 6.853920403398237, 6.541747229534197, 27.99202548368433, 11.112138400295036, 8.882537046022735, 8.61628948593071, 7.9717424341520555, 6.174933978587079, 5.96913947277659, 5.9029811353171615, 5.702950191806196, 5.137497014192072, 9.58995330733383, 4.695443502350338, 12.730688020871284, 4.610192378278189, 4.310960960103284, 3.9919252643724255, 3.97474385082691, 3.971488415517115, 3.895182833078064, 6.745422229480353, 3.456325263276127, 3.3837932539626125, 3.3837932539626125, 6.550490709112004, 3.148927483182832, 3.0452716910851234, 3.02511257866883, 2.9584476378031503, 2.9123039291043082, 2.6834870454903648, 48.17557142172094, 11.363565458341737, 36.008918453170786, 11.129613637745434, 8.548784657931959, 9.192694281817786, 14.133213935642628, 24.98693785403721, 6.886514768797978, 24.61441042368867, 13.088246215999506, 8.767518949966837, 11.275487493333447, 26.11891751642214, 12.926299464325314, 9.165192000076127, 10.107592108095721, 10.430456013628643, 9.412399892546498, 8.4957524784713, 8.146730353439306, 7.212010340917001, 6.74864640046969, 36.27703519258205, 20.37111663153063, 17.78627551605888, 12.327383240206036, 8.43863742669506, 8.029064360181085, 7.84833951195656, 7.8317020577307845, 7.262239325842075, 7.169686256371541, 6.69559081921761, 6.446426822070092, 5.491686735612051, 5.206313197459748, 21.022777406036706, 4.949824718681225, 4.740961159205119, 4.395798614403337, 4.394610772888176, 4.322680993048081, 4.0254812752592395, 3.9933517116326183, 3.5892828518513835, 3.1402253431416303, 3.128660045964571, 27.77471529511092, 3.1109085291997305, 3.090079543783933, 3.086792247724955, 3.061760516714769, 5.3147883602038215, 20.899135646734326, 37.86150776138652, 6.014414912881883, 3.567647314668893, 4.20826721296001, 6.059201112299991, 6.163584788145629, 8.468289492304343, 35.051978381413576, 6.075909984574628, 19.810339750939864, 8.016628766201984, 9.081383930193194, 6.074569568136898, 9.028946555837924, 8.244997126030901, 9.58762044049402, 7.298709159074531, 6.341766917737947, 8.967722270875077, 8.67343171154796, 8.541775215934058, 8.167602997433233, 8.058238022703902, 6.3051755293913665, 5.4185372306503865, 5.22370292613055, 5.016865581664197, 4.6942850804192915, 4.37071883451934, 4.353127560512383, 4.303472680782453, 4.259587182244485, 4.082774904397387, 12.889961093967404, 4.011487169402631, 19.534361249845198, 3.523610333226972, 3.267950597014587, 3.217301239253131, 3.1966718771181344, 3.191911623492441, 7.0194366969283974, 3.0612696081594226, 3.019240656428185, 2.9709501554820177, 2.8534138393066764, 2.836077805270417, 2.824197314316453, 10.939762065405958, 12.858152446493307, 6.088651461798668, 14.44445703206275, 12.447485419731867, 11.411036471169746, 6.699231674086276, 4.864272083685714, 3.9499275706420494, 6.8010498846488865, 7.1305336974191516, 13.976469756517615, 13.465397072408884, 16.778471617090783, 11.091922275222263, 10.996854682957508, 15.92156285877782, 12.201526492736926, 6.279961426325759, 8.08882625124526, 7.310371949355945, 6.4043596409186305, 6.748270991635219, 7.424578595317516, 9.320187210247822, 9.317925715550068, 8.811832072337966, 7.583159706559808, 6.415738524905686, 5.5490770006459735, 4.836139703613157, 4.728108495585281, 4.364877781080692, 4.226232736826387, 4.197114625635187, 4.003552332116317, 3.8476089858780966, 3.773082182674248, 3.744490076777835, 3.6302239016226663, 3.5744263316464506, 3.5652362755215745, 3.430781229784891, 3.429718010142778, 3.4094580577646707, 3.373223291776902, 3.331051828816006, 4.722159495993512, 6.819005241166607, 3.1189894041677513, 3.0531143491753507, 2.9657023299899006, 2.961337907679101, 2.9535673003538783, 9.139263260163155, 8.217354776459295, 5.745911243940317, 8.657669871887448, 12.262338227285841, 7.265077415335728, 5.693243460146389, 19.37536019726545, 9.17581789423559, 5.668337492186365, 8.452284488462988, 4.455283710860327, 4.418414949925255, 10.628678418986164, 37.94459158146659, 10.311744372168585, 12.624899132553306, 11.78034240668481, 9.938010502042829, 8.877985166511655, 5.963534725605859, 9.305545453715801, 8.829752340042068, 8.463092202243402, 7.092550959343928, 7.7084818350004145, 7.760134789452217, 5.919765289179251, 19.96781609276164, 12.23158023353843, 9.50933896150259, 9.249078966583145, 6.411268311733814, 5.825411734273971, 4.720726128638004, 4.72076441615015, 4.654970061351019, 4.122081942863576, 4.029356741060201, 3.931482079244249, 3.8703684779903345, 3.6685099820908764, 3.6532875404489946, 3.5400583240371657, 3.4197997728406238, 3.18445926831213, 3.0727409360334135, 3.0523494698809914, 8.958230194652975, 2.878976041533736, 2.7836359288734145, 2.610432059508516, 2.6005572473102028, 2.3957226336397706, 2.327655220770704, 2.3117463387325055, 2.2723640561851473, 2.2038485532014147, 4.4050817748039925, 4.2427511381464225, 8.201690833243331, 4.256831686294217, 5.427302390407697, 6.186837854828173, 5.533060913790415, 5.114523709598087, 8.32978401920531, 7.739807957883785, 6.291548730900545, 9.292775536488046, 7.658696494517138, 8.106933027361128, 6.528773948732931, 7.036508854708581, 5.56083576902942, 9.839208177953251, 6.36145794140055, 5.970979172482235, 5.5647179544641805, 4.936460271383997, 4.806741759494363, 4.737289053946858], \"Total\": [138.0, 233.0, 191.0, 65.0, 53.0, 82.0, 63.0, 88.0, 37.0, 136.0, 76.0, 38.0, 38.0, 108.0, 61.0, 286.0, 29.0, 34.0, 62.0, 55.0, 20.0, 67.0, 43.0, 46.0, 41.0, 24.0, 21.0, 23.0, 32.0, 27.0, 53.96094063149808, 38.628210579848755, 13.669857557890483, 65.4002437036311, 12.177432012028401, 10.145652413715974, 10.132513555462305, 9.98276659755776, 9.685953983500855, 8.89689467611496, 16.890199699087745, 12.70673498257749, 6.220415533687304, 5.644626850802088, 5.541890956873952, 5.458321530018384, 5.222443280585074, 4.65746496296629, 4.523592304167637, 9.247795625187761, 4.340264992416613, 4.257581092033202, 4.257581092033202, 4.2183054831857065, 4.13391003149528, 4.0702598547527185, 4.276066459104975, 3.990718613999213, 3.9799208221301416, 3.839869228187102, 7.213566978389146, 10.7561568508283, 22.369092628010947, 88.77560729684711, 18.13193286775702, 11.044816166360343, 11.479469351213405, 12.457734706460549, 21.467184424027288, 14.862498449178497, 46.71268408932568, 20.280709863015094, 233.96801076693407, 43.631600372330716, 31.271743048685742, 108.13687842461869, 29.360781429445456, 13.360049909620273, 191.8373506365732, 52.73246204309923, 59.25032908311395, 18.51908638016317, 106.23113090832396, 41.34179515126577, 33.87260599227709, 67.76056359624206, 89.97747505227957, 138.50199779804183, 38.719313108275905, 11.336367809311156, 8.880066776614985, 8.218779779096703, 8.035812884889332, 7.521711579582878, 7.479220696331391, 7.476339366780645, 7.310388317809942, 7.126488493069489, 6.570689492379641, 6.529953559994643, 6.122919098928774, 15.945967073797837, 5.901978094156748, 5.664833188696263, 5.62763340593052, 5.391717446846932, 14.934714885785295, 5.271948250352866, 5.233784495748687, 5.120168804126023, 4.78371138045305, 4.523777903362703, 4.476009987306329, 4.435566676011913, 4.428978039052466, 4.40403956545006, 4.340786536579076, 4.258256208274098, 8.606381500635697, 13.934963634730865, 35.6083639622727, 11.402403941350034, 16.963563744883384, 13.683830303349641, 8.59329294208641, 233.96801076693407, 191.8373506365732, 9.589764827907436, 286.5951151500992, 22.32008090404147, 11.184443948569825, 62.27668919366563, 26.312185041416708, 22.82601302908148, 12.707393466166689, 77.15207273955734, 108.13687842461869, 28.673101813032208, 38.51630069659554, 33.87260599227709, 40.257753069299, 106.23113090832396, 70.97649643595305, 88.07885590677729, 47.38831020847144, 56.92132629100305, 96.2138946043563, 10.642502460503025, 10.379410144510231, 9.519407152738184, 8.972801022930971, 8.804490514162087, 8.5408006806384, 7.5594241995716835, 7.556770893847268, 6.4687355161874915, 6.019262490982708, 5.632994229853935, 5.340242328525473, 5.304751212930425, 5.286720208915704, 5.1927803486649315, 5.18275752305888, 5.140930621198207, 5.080235143424848, 4.863909878686774, 4.531469150963333, 4.469096099172083, 4.408168292057021, 4.358929851446068, 4.291039424558531, 4.235255233133692, 4.2217099454781275, 12.559082933782074, 8.607715073101893, 4.068679382061429, 4.034668411228577, 11.853344790272704, 29.49438876259732, 8.27330074784692, 8.57844236821276, 14.895964774757223, 37.867702883525, 61.68157436600583, 10.456903252860128, 8.465414633030697, 89.97747505227957, 55.32046508767208, 96.2138946043563, 38.51630069659554, 21.671569857790775, 136.68681532109892, 15.250583548528008, 14.242785441901235, 48.372826017271414, 30.455556361973223, 32.766193346882176, 59.25032908311395, 66.87394261225873, 38.67539177574358, 28.31327501052803, 20.260473722083585, 63.26865163926019, 96.03782293536743, 70.97649643595305, 56.92132629100305, 82.23521999719004, 47.18730644888149, 75.27634411255228, 23.526576418945467, 23.257082785667784, 12.870583479277732, 11.424609227828537, 11.22484970627982, 11.11469722369321, 11.11469722369321, 11.11469722369321, 10.840464867635443, 8.41870833759228, 8.322709461167245, 7.294650033489692, 6.871824265100125, 6.026142769723229, 5.968768167855484, 5.956421131205691, 5.543442813180162, 5.213084462257515, 5.119422758366929, 5.0331735351242255, 4.882812832694532, 4.78938563425793, 4.7715071996172, 9.644650446252475, 4.534126810427169, 4.515504105487408, 4.502325100494914, 4.46817950328899, 4.35009378275864, 4.308802886433453, 138.50199779804183, 8.23084170127906, 13.372257477185155, 7.5223438828347735, 23.369570200804578, 11.371688383456869, 14.27020686951719, 24.429251298753865, 9.229833921341461, 16.943653891809404, 20.45111426170653, 43.631600372330716, 75.27634411255228, 62.27668919366563, 286.5951151500992, 66.87394261225873, 12.574119463915807, 35.61050428244614, 89.97747505227957, 27.394489586218473, 88.77560729684711, 96.03782293536743, 47.89282712527909, 59.25032908311395, 37.867702883525, 17.186466365650872, 10.997822409862675, 10.99369334388517, 9.687821847489115, 7.420423821567458, 6.596345051985925, 6.468912728422269, 5.489979129966039, 5.408196598756446, 5.3606083136647396, 4.806708690262923, 4.7444610917786, 4.594857756964734, 4.530079853200354, 20.992824835956373, 4.294421592586139, 4.246805608000843, 4.237372287095338, 4.222083720084571, 4.162211330493015, 4.0796694521065655, 4.033443229060921, 3.9852407744799287, 3.9334772769903252, 3.9276488290028095, 3.908639569909591, 3.8485903899341922, 3.833794901486042, 3.7923757061758994, 3.7365630405344405, 15.318301041195534, 18.584473854993323, 11.751633653263433, 14.559619886862642, 22.015756884269276, 15.647763366017504, 7.389030678338195, 18.79273395968265, 12.391346297160224, 16.45270487906626, 35.61050428244614, 62.69593640617204, 8.835549981018692, 55.32046508767208, 7.834981783239007, 14.450872087300679, 13.446706433216198, 77.15207273955734, 56.92132629100305, 67.76056359624206, 27.370776430318333, 24.755954054958476, 191.8373506365732, 136.68681532109892, 51.294177227855705, 106.23113090832396, 61.68157436600583, 286.5951151500992, 88.07885590677729, 52.73246204309923, 66.87394261225873, 108.13687842461869, 76.47399564777228, 18.084780536411166, 11.92022331118168, 10.24806102848459, 7.898332421936876, 7.523467026511169, 7.291153033019944, 7.211785860519639, 21.68142187875739, 7.059832173085321, 7.0389374411824015, 7.024809244122256, 6.413824076221045, 6.023377917110127, 5.908565395832938, 5.815332301377273, 5.752150613845698, 5.6474403578020524, 5.54934053955399, 5.326207674428192, 5.2568337889097645, 5.041723522770375, 5.039822949738555, 4.77357889063345, 13.578078734322263, 4.452326206027261, 4.309422719588133, 4.224313480943008, 4.098808550064075, 4.057099101111957, 27.182340220687742, 14.7736035726685, 20.679394316775138, 27.81188860303817, 12.472942425076267, 23.53271964302853, 7.920412945902675, 11.829578842530953, 17.68915415265339, 19.588044691552746, 10.156847012317675, 61.68157436600583, 75.27634411255228, 11.78499188125901, 15.807146224569005, 21.479585764135553, 18.38653362881181, 136.68681532109892, 47.18730644888149, 96.2138946043563, 47.38831020847144, 28.268821762741272, 70.97649643595305, 138.50199779804183, 19.646236748375077, 22.940780756018324, 14.224746473743858, 77.15207273955734, 286.5951151500992, 40.257753069299, 10.341568601928687, 10.317682650705406, 9.080168429640661, 8.363216297703541, 8.33719465143294, 7.829352050380582, 7.590677670403067, 6.919971438320804, 6.57702812989373, 6.568434996858038, 6.494242104192305, 6.044985653249748, 6.0213281102245695, 5.981950865041765, 19.87156925136754, 5.635349919523021, 5.247682635275666, 5.125422613532334, 4.922072494126622, 4.7142576393687285, 4.5884299322159, 8.653457075166028, 4.340280165484247, 4.290624521469571, 4.167157552350219, 4.123225860163292, 4.064338943898943, 4.056163164892024, 4.010925417957644, 3.9814759083576434, 7.992725015657291, 6.552807372246079, 25.352148886303866, 11.295858833318011, 24.529461960946847, 14.510362476981074, 5.958838773523247, 16.761211606769063, 40.312178083523555, 67.76056359624206, 21.968287952964737, 7.396767693635293, 108.13687842461869, 286.5951151500992, 62.69593640617204, 233.96801076693407, 19.01181373720586, 55.32046508767208, 51.294177227855705, 136.68681532109892, 48.372826017271414, 96.2138946043563, 106.23113090832396, 28.31327501052803, 191.8373506365732, 29.335280869547454, 11.844590525160667, 9.62025959272941, 9.348805952275542, 8.70419538817669, 6.9073788600503345, 6.701593318011119, 6.635460241553478, 6.43540194941636, 5.869948972895942, 11.074250770053407, 5.427895595920335, 14.749635905391237, 5.3426390143537015, 5.043404777817384, 4.7243924607933145, 4.707208340172953, 4.703937032864347, 4.627636604171104, 8.1349391623542, 4.18877964075007, 4.11624413297002, 4.11624413297002, 7.998572267194731, 3.881380021130513, 3.7777303120081713, 3.7575862848838115, 3.690890227156307, 3.6447547993201743, 3.415936562780866, 82.23521999719004, 17.27321347020387, 76.47399564777228, 18.631651041845426, 14.565186127922471, 16.226690414989342, 30.455556361973223, 88.07885590677729, 12.574674259326471, 106.23113090832396, 37.72051714605278, 20.487575615968225, 38.67539177574358, 286.5951151500992, 63.26865163926019, 29.715339642902634, 70.97649643595305, 96.2138946043563, 89.97747505227957, 96.03782293536743, 75.27634411255228, 62.27668919366563, 19.924654255626134, 37.01104844736841, 21.105094948008613, 18.523372448359282, 13.061347024901048, 9.172600714957927, 8.763017545101842, 8.582316483005203, 8.56595017963729, 7.996196009471478, 7.903639746840681, 7.429557187082311, 7.180384410637512, 6.2262046331536, 5.940270207707116, 24.020930294943447, 5.683789121098554, 5.474912907440375, 5.129754373759943, 5.128584586155019, 5.056659437822171, 4.759447151348424, 4.727310333595645, 4.323243489655515, 3.8742001141443554, 3.8626235542143195, 34.31330980960113, 3.8448799366295847, 3.8240364890505174, 3.820770056468509, 3.7957221692324863, 6.801891523139828, 32.383365917487616, 63.26865163926019, 8.446209371732147, 4.572481465894216, 5.705157363545441, 9.288954199286069, 9.759372383243733, 15.838311475873692, 136.68681532109892, 9.694217084473944, 96.03782293536743, 19.646236748375077, 29.715339642902634, 11.979588705559477, 106.23113090832396, 88.07885590677729, 286.5951151500992, 66.87394261225873, 22.940780756018324, 9.704796379995026, 9.406415061511543, 9.27476145417388, 8.900600690862214, 8.791229530547898, 7.038155661723639, 6.1515194103986, 5.956699402023087, 5.749839516397209, 5.4272800777623615, 5.1037069608238035, 5.086115759798239, 5.036459955061668, 4.992569813202125, 4.815752949890658, 15.2293013875279, 4.744476002307404, 23.47359915592163, 4.256588834051644, 4.000939121639022, 3.9503061507710138, 3.9296505117508027, 3.9248983717031356, 8.667214894735578, 3.794257085730282, 3.75224161384684, 3.703948051147742, 3.5864186897311114, 3.5690645899453166, 3.5571866118969218, 14.215155733163346, 18.808497661768126, 8.834211046393154, 24.755954054958476, 21.352272681517334, 24.548278583463485, 11.66561320131154, 7.306842443615769, 5.495686662982186, 14.517814176432077, 18.219650509909336, 76.47399564777228, 96.03782293536743, 191.8373506365732, 88.07885590677729, 89.97747505227957, 286.5951151500992, 136.68681532109892, 17.26655497205805, 77.15207273955734, 59.25032908311395, 28.268821762741272, 47.18730644888149, 233.96801076693407, 10.05364375067018, 10.051375365525775, 9.545292250976166, 8.316623921378376, 7.149196683340744, 6.282528538816417, 5.5696025079060885, 5.462432381303525, 5.098356687009562, 4.959687585130229, 4.930559051429862, 4.737029118622277, 4.581062530552903, 4.506538504861118, 4.479334053389707, 4.363831261064205, 4.307884223740977, 4.298686968975737, 4.164236180771122, 4.1631860656454736, 4.142903199193846, 4.106701445669336, 4.064528359151101, 5.770762775092752, 8.390657301382237, 3.852446440098596, 3.7865708200105797, 3.6991722331039103, 3.694792668965029, 3.6870121172885995, 11.534209801420579, 10.370323225935556, 7.29654245644739, 11.726208542004834, 17.27717108523904, 10.814521919189886, 7.95252641214427, 41.140671377872955, 15.97017591574517, 8.2722276985933, 15.247633218081916, 5.97505155675679, 6.101951445933991, 28.31327501052803, 286.5951151500992, 41.34179515126577, 70.97649643595305, 62.69593640617204, 46.71268408932568, 38.35179441455266, 14.025920911172538, 82.23521999719004, 75.27634411255228, 108.13687842461869, 48.372826017271414, 88.07885590677729, 96.03782293536743, 17.793513053871468, 20.705336883343517, 12.969069605215706, 10.246886400928085, 9.989518866108563, 7.148757359315068, 6.562890492114995, 5.4582111988170965, 5.458257322540479, 5.392452915437747, 4.859568584852741, 4.7668854413211, 4.6689685809666654, 4.607847163405744, 4.406007850358137, 4.390782236672857, 4.2776616341692355, 4.157275697216122, 3.921949429023317, 3.810242212638597, 3.789826643257535, 11.171912499291892, 3.6164585184578923, 3.5211146766769965, 3.347981935690493, 3.338033732896197, 3.133207240053081, 3.065147734906714, 3.0492240567729825, 3.009864957227453, 2.9413235076066386, 5.887628951498174, 5.811941453422582, 12.529197007080679, 6.418431855354109, 8.937242339587476, 11.040127046746075, 9.51160492657571, 9.389207460065542, 21.118991781053424, 20.839302902417568, 15.79544222525886, 38.35179441455266, 40.312178083523555, 66.87394261225873, 33.87260599227709, 51.294177227855705, 21.803569223563407, 286.5951151500992, 47.89282712527909, 191.8373506365732, 96.2138946043563, 41.140671377872955, 32.766193346882176, 31.271743048685742], \"Category\": [\"Default\", \"Default\", \"Default\", \"Default\", \"Default\", \"Default\", \"Default\", \"Default\", \"Default\", \"Default\", \"Default\", \"Default\", \"Default\", \"Default\", \"Default\", \"Default\", \"Default\", \"Default\", \"Default\", \"Default\", \"Default\", \"Default\", \"Default\", \"Default\", \"Default\", \"Default\", \"Default\", \"Default\", \"Default\", \"Default\", \"Topic1\", \"Topic1\", \"Topic1\", \"Topic1\", \"Topic1\", \"Topic1\", \"Topic1\", \"Topic1\", \"Topic1\", \"Topic1\", \"Topic1\", \"Topic1\", \"Topic1\", \"Topic1\", \"Topic1\", \"Topic1\", \"Topic1\", \"Topic1\", \"Topic1\", \"Topic1\", \"Topic1\", \"Topic1\", \"Topic1\", \"Topic1\", \"Topic1\", \"Topic1\", \"Topic1\", \"Topic1\", \"Topic1\", \"Topic1\", \"Topic1\", \"Topic1\", \"Topic1\", \"Topic1\", \"Topic1\", \"Topic1\", \"Topic1\", \"Topic1\", \"Topic1\", \"Topic1\", \"Topic1\", \"Topic1\", \"Topic1\", \"Topic1\", \"Topic1\", \"Topic1\", \"Topic1\", \"Topic1\", \"Topic1\", \"Topic1\", \"Topic1\", \"Topic1\", \"Topic1\", \"Topic1\", \"Topic1\", \"Topic1\", \"Topic1\", \"Topic1\", \"Topic2\", \"Topic2\", \"Topic2\", \"Topic2\", \"Topic2\", \"Topic2\", \"Topic2\", \"Topic2\", \"Topic2\", \"Topic2\", \"Topic2\", \"Topic2\", \"Topic2\", \"Topic2\", \"Topic2\", \"Topic2\", \"Topic2\", \"Topic2\", \"Topic2\", \"Topic2\", \"Topic2\", \"Topic2\", \"Topic2\", \"Topic2\", \"Topic2\", \"Topic2\", \"Topic2\", \"Topic2\", \"Topic2\", \"Topic2\", \"Topic2\", \"Topic2\", \"Topic2\", \"Topic2\", \"Topic2\", \"Topic2\", \"Topic2\", \"Topic2\", \"Topic2\", \"Topic2\", \"Topic2\", \"Topic2\", \"Topic2\", \"Topic2\", \"Topic2\", \"Topic2\", \"Topic2\", \"Topic2\", \"Topic2\", \"Topic2\", \"Topic2\", \"Topic2\", \"Topic2\", \"Topic2\", \"Topic2\", \"Topic2\", \"Topic2\", \"Topic2\", \"Topic2\", \"Topic3\", \"Topic3\", \"Topic3\", \"Topic3\", \"Topic3\", \"Topic3\", \"Topic3\", \"Topic3\", \"Topic3\", \"Topic3\", \"Topic3\", \"Topic3\", \"Topic3\", \"Topic3\", \"Topic3\", \"Topic3\", \"Topic3\", \"Topic3\", \"Topic3\", \"Topic3\", \"Topic3\", \"Topic3\", \"Topic3\", \"Topic3\", \"Topic3\", \"Topic3\", \"Topic3\", \"Topic3\", \"Topic3\", \"Topic3\", \"Topic3\", \"Topic3\", \"Topic3\", \"Topic3\", \"Topic3\", \"Topic3\", \"Topic3\", \"Topic3\", \"Topic3\", \"Topic3\", \"Topic3\", \"Topic3\", \"Topic3\", \"Topic3\", \"Topic3\", \"Topic3\", \"Topic3\", \"Topic3\", \"Topic3\", \"Topic3\", \"Topic3\", \"Topic3\", \"Topic3\", \"Topic3\", \"Topic3\", \"Topic3\", \"Topic3\", \"Topic3\", \"Topic3\", \"Topic3\", \"Topic3\", \"Topic3\", \"Topic4\", \"Topic4\", \"Topic4\", \"Topic4\", \"Topic4\", \"Topic4\", \"Topic4\", \"Topic4\", \"Topic4\", \"Topic4\", \"Topic4\", \"Topic4\", \"Topic4\", \"Topic4\", \"Topic4\", \"Topic4\", \"Topic4\", \"Topic4\", \"Topic4\", \"Topic4\", \"Topic4\", \"Topic4\", \"Topic4\", \"Topic4\", \"Topic4\", \"Topic4\", \"Topic4\", \"Topic4\", \"Topic4\", \"Topic4\", \"Topic4\", \"Topic4\", \"Topic4\", \"Topic4\", \"Topic4\", \"Topic4\", \"Topic4\", \"Topic4\", \"Topic4\", \"Topic4\", \"Topic4\", \"Topic4\", \"Topic4\", \"Topic4\", \"Topic4\", \"Topic4\", \"Topic4\", \"Topic4\", \"Topic4\", \"Topic4\", \"Topic4\", \"Topic4\", \"Topic4\", \"Topic4\", \"Topic4\", \"Topic5\", \"Topic5\", \"Topic5\", \"Topic5\", \"Topic5\", \"Topic5\", \"Topic5\", \"Topic5\", \"Topic5\", \"Topic5\", \"Topic5\", \"Topic5\", \"Topic5\", \"Topic5\", \"Topic5\", \"Topic5\", \"Topic5\", \"Topic5\", \"Topic5\", \"Topic5\", \"Topic5\", \"Topic5\", \"Topic5\", \"Topic5\", \"Topic5\", \"Topic5\", \"Topic5\", \"Topic5\", \"Topic5\", \"Topic5\", \"Topic5\", \"Topic5\", \"Topic5\", \"Topic5\", \"Topic5\", \"Topic5\", \"Topic5\", \"Topic5\", \"Topic5\", \"Topic5\", \"Topic5\", \"Topic5\", \"Topic5\", \"Topic5\", \"Topic5\", \"Topic5\", \"Topic5\", \"Topic5\", \"Topic5\", \"Topic5\", \"Topic5\", \"Topic5\", \"Topic5\", \"Topic5\", \"Topic5\", \"Topic5\", \"Topic5\", \"Topic5\", \"Topic5\", \"Topic5\", \"Topic5\", \"Topic5\", \"Topic5\", \"Topic6\", \"Topic6\", \"Topic6\", \"Topic6\", \"Topic6\", \"Topic6\", \"Topic6\", \"Topic6\", \"Topic6\", \"Topic6\", \"Topic6\", \"Topic6\", \"Topic6\", \"Topic6\", \"Topic6\", \"Topic6\", \"Topic6\", \"Topic6\", \"Topic6\", \"Topic6\", \"Topic6\", \"Topic6\", \"Topic6\", \"Topic6\", \"Topic6\", \"Topic6\", \"Topic6\", \"Topic6\", \"Topic6\", \"Topic6\", \"Topic6\", \"Topic6\", \"Topic6\", \"Topic6\", \"Topic6\", \"Topic6\", \"Topic6\", \"Topic6\", \"Topic6\", \"Topic6\", \"Topic6\", \"Topic6\", \"Topic6\", \"Topic6\", \"Topic6\", \"Topic6\", \"Topic6\", \"Topic6\", \"Topic6\", \"Topic6\", \"Topic6\", \"Topic6\", \"Topic6\", \"Topic6\", \"Topic6\", \"Topic6\", \"Topic6\", \"Topic6\", \"Topic6\", \"Topic7\", \"Topic7\", \"Topic7\", \"Topic7\", \"Topic7\", \"Topic7\", \"Topic7\", \"Topic7\", \"Topic7\", \"Topic7\", \"Topic7\", \"Topic7\", \"Topic7\", \"Topic7\", \"Topic7\", \"Topic7\", \"Topic7\", \"Topic7\", \"Topic7\", \"Topic7\", \"Topic7\", \"Topic7\", \"Topic7\", \"Topic7\", \"Topic7\", \"Topic7\", \"Topic7\", \"Topic7\", \"Topic7\", \"Topic7\", \"Topic7\", \"Topic7\", \"Topic7\", \"Topic7\", \"Topic7\", \"Topic7\", \"Topic7\", \"Topic7\", \"Topic7\", \"Topic7\", \"Topic7\", \"Topic7\", \"Topic7\", \"Topic7\", \"Topic7\", \"Topic7\", \"Topic7\", \"Topic7\", \"Topic7\", \"Topic7\", \"Topic7\", \"Topic7\", \"Topic7\", \"Topic7\", \"Topic7\", \"Topic8\", \"Topic8\", \"Topic8\", \"Topic8\", \"Topic8\", \"Topic8\", \"Topic8\", \"Topic8\", \"Topic8\", \"Topic8\", \"Topic8\", \"Topic8\", \"Topic8\", \"Topic8\", \"Topic8\", \"Topic8\", \"Topic8\", \"Topic8\", \"Topic8\", \"Topic8\", \"Topic8\", \"Topic8\", \"Topic8\", \"Topic8\", \"Topic8\", \"Topic8\", \"Topic8\", \"Topic8\", \"Topic8\", \"Topic8\", \"Topic8\", \"Topic8\", \"Topic8\", \"Topic8\", \"Topic8\", \"Topic8\", \"Topic8\", \"Topic8\", \"Topic8\", \"Topic8\", \"Topic8\", \"Topic8\", \"Topic8\", \"Topic8\", \"Topic8\", \"Topic8\", \"Topic8\", \"Topic8\", \"Topic8\", \"Topic8\", \"Topic8\", \"Topic8\", \"Topic8\", \"Topic9\", \"Topic9\", \"Topic9\", \"Topic9\", \"Topic9\", \"Topic9\", \"Topic9\", \"Topic9\", \"Topic9\", \"Topic9\", \"Topic9\", \"Topic9\", \"Topic9\", \"Topic9\", \"Topic9\", \"Topic9\", \"Topic9\", \"Topic9\", \"Topic9\", \"Topic9\", \"Topic9\", \"Topic9\", \"Topic9\", \"Topic9\", \"Topic9\", \"Topic9\", \"Topic9\", \"Topic9\", \"Topic9\", \"Topic9\", \"Topic9\", \"Topic9\", \"Topic9\", \"Topic9\", \"Topic9\", \"Topic9\", \"Topic9\", \"Topic9\", \"Topic9\", \"Topic9\", \"Topic9\", \"Topic9\", \"Topic9\", \"Topic9\", \"Topic9\", \"Topic9\", \"Topic9\", \"Topic9\", \"Topic9\", \"Topic9\", \"Topic10\", \"Topic10\", \"Topic10\", \"Topic10\", \"Topic10\", \"Topic10\", \"Topic10\", \"Topic10\", \"Topic10\", \"Topic10\", \"Topic10\", \"Topic10\", \"Topic10\", \"Topic10\", \"Topic10\", \"Topic10\", \"Topic10\", \"Topic10\", \"Topic10\", \"Topic10\", \"Topic10\", \"Topic10\", \"Topic10\", \"Topic10\", \"Topic10\", \"Topic10\", \"Topic10\", \"Topic10\", \"Topic10\", \"Topic10\", \"Topic10\", \"Topic10\", \"Topic10\", \"Topic10\", \"Topic10\", \"Topic10\", \"Topic10\", \"Topic10\", \"Topic10\", \"Topic10\", \"Topic10\", \"Topic10\", \"Topic10\", \"Topic10\", \"Topic10\", \"Topic10\", \"Topic10\", \"Topic10\", \"Topic10\", \"Topic10\", \"Topic10\", \"Topic10\", \"Topic10\", \"Topic10\", \"Topic11\", \"Topic11\", \"Topic11\", \"Topic11\", \"Topic11\", \"Topic11\", \"Topic11\", \"Topic11\", \"Topic11\", \"Topic11\", \"Topic11\", \"Topic11\", \"Topic11\", \"Topic11\", \"Topic11\", \"Topic11\", \"Topic11\", \"Topic11\", \"Topic11\", \"Topic11\", \"Topic11\", \"Topic11\", \"Topic11\", \"Topic11\", \"Topic11\", \"Topic11\", \"Topic11\", \"Topic11\", \"Topic11\", \"Topic11\", \"Topic11\", \"Topic11\", \"Topic11\", \"Topic11\", \"Topic11\", \"Topic11\", \"Topic11\", \"Topic11\", \"Topic11\", \"Topic11\", \"Topic11\", \"Topic11\", \"Topic11\", \"Topic11\", \"Topic11\", \"Topic11\", \"Topic11\", \"Topic11\", \"Topic11\", \"Topic11\", \"Topic11\", \"Topic11\", \"Topic11\", \"Topic11\", \"Topic11\", \"Topic11\", \"Topic11\", \"Topic11\", \"Topic12\", \"Topic12\", \"Topic12\", \"Topic12\", \"Topic12\", \"Topic12\", \"Topic12\", \"Topic12\", \"Topic12\", \"Topic12\", \"Topic12\", \"Topic12\", \"Topic12\", \"Topic12\", \"Topic12\", \"Topic12\", \"Topic12\", \"Topic12\", \"Topic12\", \"Topic12\", \"Topic12\", \"Topic12\", \"Topic12\", \"Topic12\", \"Topic12\", \"Topic12\", \"Topic12\", \"Topic12\", \"Topic12\", \"Topic12\", \"Topic12\", \"Topic12\", \"Topic12\", \"Topic12\", \"Topic12\", \"Topic12\", \"Topic12\", \"Topic12\", \"Topic12\", \"Topic12\", \"Topic12\", \"Topic12\", \"Topic12\", \"Topic12\", \"Topic12\", \"Topic12\", \"Topic12\", \"Topic12\", \"Topic12\", \"Topic12\", \"Topic12\", \"Topic12\", \"Topic12\", \"Topic12\"], \"logprob\": [30.0, 29.0, 28.0, 27.0, 26.0, 25.0, 24.0, 23.0, 22.0, 21.0, 20.0, 19.0, 18.0, 17.0, 16.0, 15.0, 14.0, 13.0, 12.0, 11.0, 10.0, 9.0, 8.0, 7.0, 6.0, 5.0, 4.0, 3.0, 2.0, 1.0, -3.513, -3.8525, -4.927, -3.365, -5.0495, -5.2449, -5.2463, -5.2623, -5.2949, -5.3872, -4.7728, -5.0683, -5.7842, -5.8949, -5.916, -5.9335, -5.9847, -6.1191, -6.1537, -5.4433, -6.2032, -6.2264, -6.2264, -6.2376, -6.2621, -6.2809, -6.2351, -6.305, -6.3083, -6.3524, -5.7361, -5.3542, -4.7016, -3.4331, -4.8996, -5.3762, -5.3502, -5.2833, -4.8307, -5.1483, -4.2041, -4.9236, -3.0017, -4.3304, -4.5967, -3.6793, -4.7044, -5.2815, -3.7059, -4.5495, -4.5139, -5.1451, -4.5104, -4.9235, -5.0386, -5.04, -5.0501, -5.1863, -3.8355, -5.1115, -5.3748, -5.4594, -5.4841, -5.5571, -5.5633, -5.5638, -5.5891, -5.617, -5.7079, -5.7149, -5.7877, -4.8353, -5.8295, -5.8764, -5.884, -5.9333, -4.9157, -5.9594, -5.9678, -5.9936, -6.0731, -6.1397, -6.152, -6.1628, -6.1646, -6.1714, -6.1888, -6.2119, -5.5146, -5.0904, -4.2285, -5.2929, -4.9467, -5.1514, -5.574, -2.8071, -3.0026, -5.5012, -3.0326, -4.9011, -5.4074, -4.3046, -4.8838, -5.0566, -5.4002, -4.567, -4.5011, -5.1651, -5.1118, -5.1583, -5.1278, -4.9416, -5.0907, -5.1994, -5.3408, -5.3464, -5.3342, -5.178, -5.2049, -5.2982, -5.3625, -5.3831, -5.4163, -5.5506, -5.5509, -5.7246, -5.8061, -5.8819, -5.9435, -5.9512, -5.9552, -5.976, -5.9783, -5.9877, -6.0016, -6.0526, -6.1364, -6.153, -6.1694, -6.1829, -6.2018, -6.2175, -6.2214, -5.1358, -5.5145, -6.2662, -6.2765, -5.2075, -4.3828, -5.613, -5.5867, -5.195, -4.4594, -4.0892, -5.5215, -5.6796, -4.0149, -4.4416, -4.085, -4.697, -5.0712, -3.9392, -5.3122, -5.3671, -4.7229, -4.9951, -4.9737, -4.6861, -4.6807, -4.9807, -5.1465, -5.269, -5.0176, -5.0069, -5.0707, -5.1633, -5.1284, -5.1992, -5.2849, -4.2535, -4.2654, -4.8836, -5.0104, -5.0293, -5.0398, -5.0398, -5.0398, -5.0666, -5.3405, -5.3531, -5.4986, -5.5652, -5.7134, -5.7243, -5.7266, -5.809, -5.8801, -5.9012, -5.9211, -5.9566, -5.9794, -5.9838, -5.2876, -6.0444, -6.0493, -6.0528, -6.0619, -6.094, -6.1055, -2.6479, -5.4605, -5.0354, -5.5836, -4.6459, -5.2699, -5.2187, -4.8485, -5.5445, -5.1575, -5.0921, -4.7158, -4.4559, -4.5599, -4.0099, -4.6807, -5.4011, -4.9856, -4.6315, -5.11, -4.8349, -4.8397, -5.062, -5.0746, -5.1689, -4.5746, -5.0463, -5.0467, -5.1828, -5.4746, -5.6061, -5.6281, -5.8151, -5.8324, -5.8427, -5.9701, -5.9855, -6.0234, -6.0404, -4.517, -6.1044, -6.1178, -6.1205, -6.1249, -6.1422, -6.1665, -6.1804, -6.1951, -6.2112, -6.213, -6.2189, -6.238, -6.2428, -6.2562, -6.2746, -4.8924, -4.7605, -5.2021, -5.0198, -4.6717, -5.0513, -5.6864, -4.9134, -5.2917, -5.0741, -4.4894, -4.0841, -5.5714, -4.2646, -5.6831, -5.2966, -5.3827, -4.3559, -4.5531, -4.5694, -5.0343, -5.1086, -4.1563, -4.3445, -4.8463, -4.6258, -4.8246, -4.3339, -4.9792, -5.1067, -5.081, -5.0889, -5.1132, -4.3745, -4.8162, -4.9753, -5.2589, -5.3126, -5.3474, -5.3596, -4.2609, -5.3833, -5.3866, -5.3889, -5.491, -5.5622, -5.5841, -5.6023, -5.6167, -5.6359, -5.6561, -5.7035, -5.7187, -5.7674, -5.7679, -5.8317, -4.7911, -5.9145, -5.9537, -5.9777, -6.0143, -6.0268, -4.1294, -4.7814, -4.4672, -4.332, -5.0604, -4.5349, -5.4666, -5.1791, -4.8986, -4.841, -5.3378, -4.3519, -4.3263, -5.2648, -5.131, -4.988, -5.0837, -4.2603, -4.7313, -4.4616, -4.7384, -4.9466, -4.7104, -4.5692, -5.1791, -5.1733, -5.241, -5.0733, -4.9812, -5.1714, -4.9451, -4.9475, -5.0858, -5.1756, -5.179, -5.2481, -5.2823, -5.3852, -5.4422, -5.4437, -5.4565, -5.5377, -5.5421, -5.5497, -4.3552, -5.6179, -5.7003, -5.7277, -5.7751, -5.826, -5.8581, -5.2278, -5.9246, -5.9385, -5.9738, -5.9867, -6.0042, -6.0067, -6.0204, -6.0296, -5.4009, -5.5853, -4.3995, -5.1211, -4.5192, -4.9798, -5.6905, -4.9209, -4.2869, -3.9582, -4.8153, -5.5356, -4.2524, -3.8779, -4.7303, -4.2509, -5.2344, -5.0246, -5.0928, -4.9079, -5.1884, -5.1087, -5.1296, -5.283, -5.3296, -3.841, -4.7649, -4.9889, -5.0193, -5.097, -5.3524, -5.3863, -5.3975, -5.432, -5.5364, -4.9122, -5.6264, -4.6289, -5.6447, -5.7118, -5.7887, -5.793, -5.7938, -5.8132, -5.2641, -5.9327, -5.954, -5.954, -5.2934, -6.0259, -6.0594, -6.066, -6.0883, -6.104, -6.1858, -3.2981, -4.7425, -3.5892, -4.7633, -5.0272, -4.9545, -4.5244, -3.9546, -5.2434, -3.9696, -4.6012, -5.0019, -4.7503, -3.9103, -4.6137, -4.9575, -4.8597, -4.8282, -4.9309, -5.0334, -5.0753, -5.1972, -5.2636, -3.5536, -4.1307, -4.2664, -4.633, -5.012, -5.0617, -5.0845, -5.0866, -5.1621, -5.175, -5.2434, -5.2813, -5.4416, -5.4949, -4.0992, -5.5455, -5.5886, -5.6642, -5.6644, -5.6809, -5.7522, -5.7602, -5.8669, -6.0005, -6.0042, -3.8207, -6.0099, -6.0166, -6.0177, -6.0258, -5.4743, -4.1051, -3.5109, -5.3507, -5.8729, -5.7078, -5.3432, -5.3262, -5.0085, -3.588, -5.3405, -4.1586, -5.0633, -4.9386, -5.3407, -4.9444, -5.0352, -4.8843, -5.1571, -5.2977, -4.9047, -4.9381, -4.9534, -4.9982, -5.0117, -5.257, -5.4085, -5.4452, -5.4856, -5.552, -5.6234, -5.6275, -5.6389, -5.6492, -5.6916, -4.5419, -5.7092, -4.1262, -5.8389, -5.9142, -5.9298, -5.9363, -5.9377, -5.1497, -5.9795, -5.9934, -6.0095, -6.0498, -6.0559, -6.0601, -4.706, -4.5444, -5.2919, -4.4281, -4.5768, -4.6638, -5.1964, -5.5164, -5.7247, -5.1813, -5.134, -4.461, -4.4982, -4.2783, -4.6921, -4.7008, -4.3307, -4.5968, -5.261, -5.0079, -5.1091, -5.2414, -5.1891, -5.0936, -4.8362, -4.8364, -4.8923, -5.0424, -5.2096, -5.3547, -5.4922, -5.5148, -5.5948, -5.627, -5.634, -5.6812, -5.7209, -5.7405, -5.7481, -5.7791, -5.7945, -5.7971, -5.8356, -5.8359, -5.8418, -5.8525, -5.8651, -5.5161, -5.1486, -5.9308, -5.9522, -5.9812, -5.9827, -5.9853, -4.8558, -4.9621, -5.3199, -4.9099, -4.5618, -5.0853, -5.3291, -4.1043, -4.8518, -5.3335, -4.9339, -5.5743, -5.5826, -4.7048, -3.4322, -4.7351, -4.5327, -4.6019, -4.772, -4.8848, -5.2827, -4.8377, -4.8902, -4.9326, -5.1093, -5.026, -5.0193, -5.2901, -3.8122, -4.3023, -4.554, -4.5818, -4.9483, -5.0441, -5.2544, -5.2543, -5.2684, -5.39, -5.4127, -5.4373, -5.453, -5.5065, -5.5107, -5.5422, -5.5767, -5.648, -5.6837, -5.6904, -4.6137, -5.7489, -5.7826, -5.8468, -5.8506, -5.9326, -5.9615, -5.9683, -5.9855, -6.0161, -5.3236, -5.3611, -4.702, -5.3578, -5.1149, -4.9839, -5.0956, -5.1742, -4.6865, -4.7599, -4.9671, -4.5771, -4.7705, -4.7136, -4.9301, -4.8552, -5.0906, -4.5199, -4.9561, -5.0194, -5.0899, -5.2097, -5.2363, -5.2509], \"loglift\": [30.0, 29.0, 28.0, 27.0, 26.0, 25.0, 24.0, 23.0, 22.0, 21.0, 20.0, 19.0, 18.0, 17.0, 16.0, 15.0, 14.0, 13.0, 12.0, 11.0, 10.0, 9.0, 8.0, 7.0, 6.0, 5.0, 4.0, 3.0, 2.0, 1.0, 2.245, 2.2397, 2.204, 2.2006, 2.1971, 2.1843, 2.1842, 2.183, 2.1806, 2.1733, 2.1466, 2.1358, 2.1342, 2.1206, 2.1178, 2.1155, 2.1085, 2.0887, 2.0832, 2.0785, 2.075, 2.0711, 2.0711, 2.0692, 2.0649, 2.0615, 2.058, 2.0572, 2.0566, 2.0484, 2.0342, 2.0165, 1.9369, 1.827, 1.9489, 1.9681, 1.9554, 1.9406, 1.8489, 1.8991, 1.6981, 1.8129, 1.2893, 1.64, 1.7068, 1.3835, 1.6622, 1.8724, 0.7836, 1.2315, 1.1505, 1.6823, 0.5702, 1.1008, 1.185, 0.4902, 0.1965, -0.371, 2.2543, 2.2067, 2.1876, 2.1804, 2.1782, 2.1713, 2.1707, 2.1707, 2.1678, 2.1654, 2.1557, 2.1549, 2.1465, 2.1417, 2.1414, 2.1355, 2.1345, 2.128, 2.1268, 2.1244, 2.1233, 2.1194, 2.1079, 2.0971, 2.0955, 2.0937, 2.0934, 2.0923, 2.0894, 2.0855, 2.0791, 2.0214, 1.9452, 2.0195, 1.9684, 1.9786, 2.0212, 1.4839, 1.487, 1.9843, 1.0555, 1.7396, 1.9243, 1.31, 1.5923, 1.5617, 1.8038, 0.8334, 0.5617, 1.2251, 0.9833, 1.0653, 0.9231, 0.139, 0.3932, 0.0686, 0.547, 0.3581, -0.1546, 2.2033, 2.2015, 2.1946, 2.1895, 2.1878, 2.1851, 2.1728, 2.1728, 2.1547, 2.1451, 2.1356, 2.1274, 2.1263, 2.1258, 2.1229, 2.1226, 2.1212, 2.1193, 2.1118, 2.0987, 2.096, 2.0933, 2.0911, 2.0879, 2.0852, 2.0845, 2.08, 2.0791, 2.0766, 2.0748, 2.0661, 1.9792, 2.0202, 2.0103, 1.8501, 1.6527, 1.535, 1.8774, 1.9306, 1.2317, 1.2915, 1.0946, 1.3981, 1.599, 0.8893, 1.7093, 1.7229, 1.1443, 1.3348, 1.2831, 0.9783, 0.8627, 1.1103, 1.2563, 1.4685, 0.5812, 0.1745, 0.4131, 0.5412, 0.2082, 0.6928, 0.1401, 2.3346, 2.3342, 2.3077, 2.3, 2.2988, 2.2981, 2.2981, 2.2981, 2.2963, 2.2753, 2.2742, 2.2605, 2.2536, 2.2367, 2.2354, 2.2351, 2.2246, 2.2149, 2.2119, 2.2091, 2.2038, 2.2004, 2.1997, 2.1922, 2.1902, 2.1894, 2.1888, 2.1873, 2.182, 2.1801, 2.1674, 2.1778, 2.1176, 2.1447, 1.9488, 2.0451, 1.8693, 1.7019, 1.9792, 1.7588, 1.636, 1.2546, 0.9691, 1.0547, 0.0782, 0.8626, 1.8134, 1.1879, 0.6151, 1.3259, 0.4252, 0.3418, 0.8152, 0.5899, 0.9432, 2.3275, 2.3022, 2.3022, 2.2925, 2.2673, 2.2536, 2.2511, 2.2282, 2.2258, 2.2244, 2.2061, 2.2038, 2.1978, 2.1951, 2.1851, 2.1845, 2.1822, 2.1817, 2.181, 2.178, 2.1736, 2.1711, 2.1685, 2.1655, 2.1652, 2.1641, 2.1605, 2.1596, 2.157, 2.1534, 2.1248, 2.0634, 2.0801, 2.0481, 1.9827, 1.9446, 2.0598, 1.8994, 1.9375, 1.8716, 1.6841, 1.5238, 1.996, 1.4685, 2.0045, 1.7789, 1.7648, 1.0445, 1.1514, 0.9608, 1.4024, 1.4285, 0.3332, 0.484, 0.9623, 0.4548, 0.7996, -0.2458, 0.2887, 0.6743, 0.4623, -0.0261, 0.296, 2.4766, 2.4518, 2.4438, 2.4207, 2.4156, 2.4121, 2.4109, 2.4089, 2.4085, 2.4081, 2.4079, 2.3967, 2.3883, 2.3856, 2.3834, 2.3799, 2.3791, 2.3764, 2.37, 2.368, 2.361, 2.361, 2.3514, 2.3466, 2.3383, 2.3317, 2.3276, 2.3211, 2.3189, 2.3142, 2.272, 2.2498, 2.0887, 2.1622, 2.0529, 2.2102, 2.0965, 1.9746, 1.9303, 2.0902, 1.2723, 1.0987, 2.0146, 1.8547, 1.6911, 1.7509, 0.5682, 1.1608, 0.718, 1.1494, 1.4578, 0.7735, 0.2461, 1.5892, 1.4399, 1.8502, 0.3271, -0.893, 0.8795, 2.465, 2.4648, 2.4543, 2.4468, 2.4465, 2.4402, 2.437, 2.4266, 2.4204, 2.4202, 2.4188, 2.4093, 2.4087, 2.4078, 2.4017, 2.3992, 2.3881, 2.3842, 2.3773, 2.3696, 2.3645, 2.3604, 2.3536, 2.3513, 2.3452, 2.3429, 2.3397, 2.3393, 2.3368, 2.3349, 2.2667, 2.281, 2.1139, 2.2007, 2.0271, 2.0916, 2.2708, 2.0062, 1.7626, 1.572, 1.8413, 2.2096, 0.8104, 0.2102, 0.8776, 0.0401, 1.5667, 0.7085, 0.7159, -0.0794, 0.6788, 0.0709, -0.049, 1.1199, -0.84, 2.5264, 2.5094, 2.4935, 2.4916, 2.4853, 2.4612, 2.4575, 2.4563, 2.4524, 2.44, 2.4293, 2.4283, 2.426, 2.4258, 2.4163, 2.4048, 2.4041, 2.404, 2.4009, 2.3859, 2.381, 2.3773, 2.3773, 2.3735, 2.3641, 2.3577, 2.3564, 2.352, 2.3489, 2.3319, 2.0385, 2.1545, 1.8201, 2.058, 2.0404, 2.005, 1.8055, 1.3134, 1.9711, 1.111, 1.5148, 1.7245, 1.3407, 0.1778, 0.9851, 1.397, 0.6242, 0.3514, 0.3157, 0.1481, 0.3497, 0.4174, 1.4906, 2.5813, 2.566, 2.5608, 2.5435, 2.518, 2.5139, 2.512, 2.5118, 2.5051, 2.5039, 2.4974, 2.4936, 2.4758, 2.4695, 2.4681, 2.4631, 2.4574, 2.447, 2.4469, 2.4445, 2.4339, 2.4327, 2.4153, 2.3913, 2.3906, 2.39, 2.3896, 2.3883, 2.3881, 2.3865, 2.3547, 2.1634, 2.0879, 2.2618, 2.3532, 2.2971, 2.1741, 2.1418, 1.9753, 1.2405, 2.1342, 1.0228, 1.705, 1.4159, 1.9223, 0.1362, 0.2328, -0.7962, 0.3863, 1.3156, 2.5688, 2.5667, 2.5655, 2.5619, 2.5608, 2.5379, 2.521, 2.5165, 2.5115, 2.5027, 2.4928, 2.4922, 2.4905, 2.489, 2.4827, 2.4811, 2.48, 2.4641, 2.4588, 2.4455, 2.4426, 2.4414, 2.4411, 2.437, 2.4332, 2.4305, 2.4273, 2.4192, 2.4179, 2.4171, 2.3859, 2.2675, 2.2756, 2.1091, 2.1082, 1.8818, 2.0932, 2.2409, 2.3176, 1.8895, 1.7097, 0.9483, 0.6832, 0.2113, 0.5758, 0.5459, -0.2426, 0.2317, 1.6364, 0.3925, 0.5553, 1.163, 0.703, -0.8026, 2.6021, 2.6021, 2.5979, 2.5855, 2.5696, 2.5537, 2.5366, 2.5335, 2.5225, 2.5178, 2.5168, 2.5096, 2.5034, 2.5002, 2.4987, 2.4938, 2.4912, 2.4908, 2.4841, 2.484, 2.483, 2.4811, 2.4788, 2.4773, 2.4704, 2.4666, 2.4625, 2.4568, 2.4566, 2.456, 2.4451, 2.4451, 2.4389, 2.3745, 2.335, 2.28, 2.3436, 1.9248, 2.1237, 2.2998, 2.0879, 2.3843, 2.355, 1.6981, 0.6559, 1.2893, 0.9512, 1.006, 1.1302, 1.2146, 1.8226, 0.4989, 0.5348, 0.1302, 0.7579, 0.2419, 0.1621, 1.5773, 2.9036, 2.8813, 2.8652, 2.8629, 2.831, 2.8207, 2.7947, 2.7947, 2.7928, 2.7753, 2.7718, 2.768, 2.7655, 2.7567, 2.756, 2.7506, 2.7446, 2.7316, 2.7248, 2.7235, 2.719, 2.7118, 2.7049, 2.691, 2.6902, 2.6715, 2.6646, 2.663, 2.6588, 2.6512, 2.6498, 2.6252, 2.5162, 2.5292, 2.4411, 2.3608, 2.3981, 2.3324, 2.0095, 1.9494, 2.0194, 1.5223, 1.2791, 0.8298, 1.2935, 0.9534, 1.5735, -0.4318, 0.9212, -0.5299, 0.0897, 0.8195, 1.0205, 1.0526]}, \"token.table\": {\"Topic\": [2, 5, 10, 8, 5, 4, 1, 2, 7, 10, 3, 8, 12, 4, 10, 5, 6, 8, 4, 2, 4, 5, 6, 7, 11, 12, 1, 7, 9, 1, 10, 3, 2, 1, 5, 1, 2, 10, 11, 1, 9, 2, 7, 2, 3, 9, 6, 10, 4, 5, 12, 3, 11, 5, 12, 11, 10, 11, 2, 8, 12, 2, 12, 1, 3, 4, 6, 7, 8, 10, 11, 1, 4, 7, 8, 8, 9, 11, 11, 11, 6, 10, 2, 3, 6, 7, 12, 11, 5, 6, 9, 6, 1, 8, 7, 9, 8, 2, 10, 1, 2, 4, 9, 5, 2, 2, 5, 4, 4, 4, 5, 6, 9, 6, 11, 12, 7, 1, 8, 3, 12, 6, 7, 5, 1, 3, 6, 7, 11, 12, 5, 3, 5, 8, 12, 7, 3, 5, 7, 4, 2, 9, 1, 10, 4, 6, 11, 5, 8, 11, 3, 9, 5, 2, 9, 7, 4, 11, 1, 5, 9, 3, 8, 9, 10, 11, 11, 1, 8, 6, 3, 6, 4, 5, 3, 12, 4, 3, 10, 3, 3, 6, 3, 7, 8, 1, 7, 6, 9, 8, 3, 1, 3, 5, 7, 10, 4, 9, 11, 4, 12, 3, 4, 7, 6, 4, 4, 8, 6, 3, 3, 3, 7, 6, 8, 3, 11, 5, 3, 4, 5, 6, 8, 9, 11, 12, 12, 2, 7, 10, 5, 11, 10, 9, 4, 9, 3, 4, 5, 7, 10, 2, 9, 1, 7, 2, 8, 11, 3, 7, 10, 5, 9, 12, 4, 5, 7, 8, 11, 5, 3, 4, 6, 7, 9, 12, 4, 5, 10, 4, 8, 2, 3, 2, 2, 11, 3, 10, 12, 12, 3, 8, 11, 2, 5, 4, 8, 2, 2, 3, 12, 10, 2, 7, 9, 3, 7, 10, 6, 2, 6, 1, 2, 5, 7, 9, 10, 5, 1, 8, 1, 7, 11, 7, 12, 5, 10, 4, 1, 3, 5, 8, 12, 12, 5, 10, 7, 8, 1, 2, 3, 4, 5, 8, 10, 11, 8, 6, 7, 9, 1, 2, 3, 4, 6, 7, 8, 10, 11, 12, 9, 5, 6, 11, 11, 2, 1, 7, 2, 4, 5, 6, 7, 12, 9, 10, 6, 3, 5, 6, 10, 2, 6, 7, 10, 1, 4, 3, 5, 11, 5, 2, 3, 6, 10, 4, 9, 1, 6, 7, 10, 11, 5, 12, 10, 4, 5, 6, 6, 4, 12, 8, 1, 9, 3, 7, 11, 12, 1, 5, 6, 11, 1, 4, 5, 7, 9, 11, 10, 6, 10, 2, 11, 6, 3, 1, 10, 12, 5, 10, 11, 2, 3, 3, 5, 10, 9, 10, 7, 11, 12, 5, 10, 10, 3, 11, 1, 3, 8, 9, 1, 3, 5, 1, 3, 4, 10, 11, 1, 2, 5, 7, 8, 9, 10, 12, 1, 4, 6, 1, 2, 3, 5, 7, 9, 11, 12, 12, 3, 6, 3, 3, 4, 2, 4, 7, 7, 7, 12, 11, 6, 1, 4, 2, 5, 7, 8, 3, 8, 9, 4, 6, 9, 1, 5, 7, 10, 11, 2, 3, 4, 7, 3, 4, 5, 7, 10, 5, 7, 9, 3, 3, 5, 10, 2, 4, 10, 3, 5, 6, 7, 11, 12, 3, 4, 1, 4, 1, 2, 4, 5, 7, 8, 9, 10, 11, 8, 3, 4, 9, 12, 7, 10, 11, 12, 2, 6, 8, 5, 9, 10, 1, 7, 10, 3, 5, 7, 8, 10, 2, 3, 9, 1, 10, 8, 4, 7, 2, 4, 8, 12, 3, 4, 1, 3, 6, 7, 11, 1, 2, 3, 4, 8, 10, 6, 9, 5, 7, 2, 7, 6, 9, 11, 7, 6, 7, 8, 7, 1, 5, 9, 10, 12, 9, 1, 7, 2, 3, 5, 8, 11, 1, 2, 3, 4, 5, 6, 7, 8, 9, 11, 12, 2, 5, 6, 3, 8, 10, 1, 4, 5, 6, 9, 12, 4, 11, 12, 7, 3, 4, 5, 10, 2, 4, 7, 8, 5, 7, 11, 1, 6, 7, 11, 1, 3, 5, 6, 7, 8, 9, 10, 7, 1, 2, 3, 4, 5, 6, 7, 8, 9, 10, 11, 12, 3, 3, 2, 4, 5, 7, 9, 10, 11, 12, 12, 11, 9, 2, 6, 7, 10, 9, 1, 2, 3, 5, 6, 7, 10, 12, 9, 7, 5, 11, 9, 3, 11, 5, 5, 7, 1, 1, 3, 10, 12, 1, 2, 3, 5, 8, 1, 2, 3, 4, 5, 6, 7, 8, 9, 9, 12, 4, 3, 2, 1, 9, 4, 5, 6, 7, 11, 3, 4, 5, 6, 7, 9, 11, 12, 8, 1, 8, 10, 9, 6, 9, 5, 7, 5, 5, 2, 2, 5, 8, 4, 4, 8, 4, 8, 6, 10, 7, 12, 3, 8, 11, 3, 10, 9, 11, 1, 2, 10, 11, 4, 7, 5, 1, 1, 1, 4, 7, 8, 3, 1, 2, 3, 5, 8, 12, 9, 12, 4, 12, 1, 2, 3, 4, 6, 7, 8, 10, 3, 4, 11, 9, 1, 2, 3, 4, 12, 6, 11, 12, 4, 6, 2, 3, 5, 7, 5, 6, 5, 7, 2, 3, 5, 2, 3, 9, 10, 2, 6, 8, 1, 3, 4, 5, 6, 7, 8, 9, 10, 11, 1, 4, 8, 3, 9, 11, 11, 8, 1, 3, 7, 8, 10, 2, 6, 7, 9, 11, 6, 12, 1, 7, 5, 8, 9, 9, 1, 5, 9, 11, 4, 4, 5, 1, 4, 8, 5, 1, 7, 10, 3, 1, 10, 5, 1, 6, 8, 5, 5, 7, 2, 2, 10, 11, 9, 11, 11, 12, 1, 2, 5, 12, 9, 2, 4, 10, 5, 6, 10, 11, 3, 5, 7, 4, 9, 6, 10, 4, 5, 10, 12, 2, 7, 7, 12, 1, 11, 8, 1, 4, 10, 9, 2, 10, 4, 1, 2, 4, 5, 6, 9, 10, 11, 11, 6, 2, 4, 10, 11, 12, 7, 2, 8, 9, 11, 1, 3, 4, 10, 3, 5, 7, 8, 9, 10, 2, 3, 4, 6, 7, 8, 9, 11, 9, 3, 5, 9, 12, 1, 2, 3, 4, 5, 6, 8, 12, 7, 5, 7, 12, 2, 3, 4, 5, 6, 7, 10, 11, 12, 6, 12, 1, 3, 11, 11, 10, 5, 6, 7, 12, 4, 9, 3, 1, 2, 5, 12, 2, 7, 8, 2, 3, 4, 7, 8, 9, 11, 12, 3, 6, 1, 2, 3, 4, 6, 8, 10, 11, 2, 1, 3, 12, 1, 7, 8, 9, 12, 6, 2, 3, 3, 8, 10, 1, 2, 3, 4, 7, 9, 11, 11, 12, 2, 3, 4, 6, 9, 10, 8, 3, 6, 10, 11, 12, 6, 10, 12, 5, 7, 1, 5, 3, 2, 3, 6, 9, 8, 9, 10, 2, 4, 5, 7, 1, 3, 6, 7, 12, 12, 2, 3, 4, 8, 9, 3, 2, 1, 2, 5, 6, 7, 8, 10, 12, 3, 3, 9, 10, 2, 5, 12, 3, 7, 9, 10, 2, 9, 11, 12, 7, 9, 10, 11, 1, 3, 4, 8, 11], \"Freq\": [0.900894126277003, 0.931440920217422, 0.8099465647393166, 0.9355256906790566, 0.7910608632774668, 0.8884298469606968, 0.9395006022280613, 0.1063349149924602, 0.2126698299849204, 0.6911769474509912, 0.2894655362550201, 0.6368241797610442, 0.6383235600994325, 0.9019665519254451, 0.9567938413461594, 0.16970737189734378, 0.5939758016407032, 0.16970737189734378, 0.8952191820081608, 0.5824351648136771, 0.04480270498566747, 0.22401352492833734, 0.04480270498566747, 0.04480270498566747, 0.04480270498566747, 0.9078513102682886, 0.058286420374416475, 0.11657284074883295, 0.8160098852418307, 0.9395006022280613, 0.9703753616164186, 0.7703002498513929, 0.8826385232273236, 0.7243216980257158, 0.18108042450642894, 0.11401561653955566, 0.4940676716714079, 0.1520208220527409, 0.19002602756592613, 0.9033103193788823, 0.791036068215569, 0.1526063476603058, 0.763031738301529, 0.21530949093857263, 0.10765474546928631, 0.6459284728157179, 0.8763262901413056, 0.09224487264645322, 0.8294753702668902, 0.10368442128336128, 0.6524970973579741, 0.16388199887535088, 0.6555279955014035, 0.8098004976863576, 0.14290597017994547, 0.8112670304273103, 0.9212717840906919, 0.9305166970446079, 0.9082570536786787, 0.17205954464856354, 0.6882381785942542, 0.3356740128564617, 0.5594566880941028, 0.08476855961959266, 0.21192139904898163, 0.10596069952449082, 0.254305678858778, 0.04238427980979633, 0.08476855961959266, 0.14834497933428714, 0.0635764197146945, 0.21902214973256737, 0.36503691622094564, 0.18251845811047282, 0.21902214973256737, 0.17055811286621203, 0.08527905643310602, 0.7675115078979541, 0.8731598779371447, 0.7380930171751997, 0.7936786748049359, 0.9273764896862898, 0.06330940189828156, 0.06330940189828156, 0.37985641138968934, 0.06330940189828156, 0.37985641138968934, 0.7787259463945255, 0.11036577335297942, 0.8093490045885158, 0.03678859111765981, 0.9228015040357113, 0.7015793670868089, 0.9323426954774988, 0.14701792826275314, 0.7350896413137658, 0.8953094757144506, 0.9131461784883461, 0.9099978532242251, 0.7517443072724224, 0.17116275419829013, 0.6418603282435881, 0.12837206564871761, 0.8705383738891442, 0.836170847669571, 0.17018910383107452, 0.7658509672398354, 0.988946043317771, 0.8997096186014849, 0.0845338632348173, 0.0845338632348173, 0.6762709058785384, 0.0845338632348173, 0.9511428743568797, 0.8977301329677416, 0.8231183345097725, 0.8872563498990677, 0.9509974734518116, 0.7288197451581646, 0.08951018906238148, 0.8055917015614332, 0.9010079602002329, 0.719915184946161, 0.7638157408185776, 0.983737000228106, 0.0744191989275361, 0.1736447974975842, 0.47132159320772854, 0.0744191989275361, 0.19845119714009624, 0.8028768596851801, 0.053212055369131976, 0.6385446644295837, 0.15963616610739592, 0.15963616610739592, 0.9692098835116153, 0.20604933530627018, 0.755514229456324, 0.06868311176875673, 0.8383095388226397, 0.9188426755067033, 0.8754162593949065, 0.7537838399494424, 0.8524960640797484, 0.5566990213579595, 0.3181137264902626, 0.07952843162256565, 0.7833766922146509, 0.06528139101788757, 0.13056278203577515, 0.9275383086826601, 0.7845113425538677, 0.8321702557308925, 0.8517079406122432, 0.7799422887161277, 0.8358477213879775, 0.9224696654712033, 0.8875992062833316, 0.6968963246680373, 0.17422408116700933, 0.9421826663062534, 0.9086272495985932, 0.8604858451054775, 0.1229265493007825, 0.8393910221996159, 0.7922735748519866, 0.9285300607559945, 0.9022191232034599, 0.8686362977281773, 0.849878559843704, 0.29536725288485316, 0.6891902567313241, 0.3228059247215693, 0.6456118494431387, 0.9176564286009343, 0.8680843478852557, 0.9502645393091229, 0.1278031536652187, 0.8520210244347913, 0.8876273960127332, 0.20306487751912253, 0.8122595100764901, 0.3940167717633025, 0.13133892392110086, 0.459686233723853, 0.2655840555612529, 0.7082241481633411, 0.8300990023881617, 0.9187413807413873, 0.7161990501517049, 0.9425512713607401, 0.8870794733547979, 0.23166173023356892, 0.28957716279196116, 0.11583086511678446, 0.3474925953503534, 0.8908805250555321, 0.2417728419564783, 0.7253185258694349, 0.8394302366911229, 0.7873515206064804, 0.197221940531486, 0.1577775524251888, 0.6705545978070524, 0.9304221013175736, 0.9283320925620109, 0.7947272177455877, 0.878236449905774, 0.8541157192304223, 0.7373399863422087, 0.9263215860757944, 0.7962364810173743, 0.15924729620347486, 0.7394445945818207, 0.7931150038944654, 0.3757003073513132, 0.5635504610269698, 0.7207707061920494, 0.11955947258202801, 0.2524033310065036, 0.07970631505468534, 0.23911894516405602, 0.10627508673958046, 0.026568771684895114, 0.11955947258202801, 0.06642192921223779, 0.6644816390175546, 0.7663484038795274, 0.23579950888600842, 0.8695894878006872, 0.927512899291094, 0.720601950692509, 0.7837440571537729, 0.7802584344492679, 0.9776178050912063, 0.7851820328525249, 0.5901413523857376, 0.13114252275238614, 0.06557126137619307, 0.13114252275238614, 0.13114252275238614, 0.8711004226047759, 0.9339302508456505, 0.8317660344702107, 0.1386276724117018, 0.17363953769972715, 0.1157596917998181, 0.6945581507989086, 0.6694142453776064, 0.0956306064825152, 0.1912612129650304, 0.3073968163312247, 0.6147936326624494, 0.9160510317159585, 0.1590646272628811, 0.21208616968384145, 0.13255385605240091, 0.34464002573624236, 0.13255385605240091, 0.7437813871743696, 0.16316289196017794, 0.054387630653392645, 0.4894886758805338, 0.16316289196017794, 0.10877526130678529, 0.054387630653392645, 0.6306846202226429, 0.280304275654508, 0.070076068913627, 0.8351801891642334, 0.8497605610235283, 0.7152791892727912, 0.2682296959772967, 0.9553316541904645, 0.8779649384203596, 0.06271178131573997, 0.2102694566730731, 0.10513472833653655, 0.6308083700192193, 0.7216264252113278, 0.06779828372810771, 0.8813776884654003, 0.7241298808487151, 0.888472940460353, 0.9418844113006093, 0.8821985284578207, 0.7288197451581646, 0.8936530551414626, 0.8419293745910066, 0.16984765993881776, 0.679390639755271, 0.8405563767188546, 0.6295547565517603, 0.15738868913794007, 0.15738868913794007, 0.7106125334861765, 0.9595553821722292, 0.74982395602436, 0.7101745676626016, 0.78930724137584, 0.1754016091946311, 0.3803938825152335, 0.45305338816421065, 0.034192708540695144, 0.08120768278415097, 0.017096354270347572, 0.02991861997310825, 0.7626839533430407, 0.8588363051157432, 0.9042326804139353, 0.6410032039217446, 0.2465396938160556, 0.049307938763211115, 0.9134595992607152, 0.9142313142675043, 0.4039432282755048, 0.5655205195857067, 0.7673000560339681, 0.2441540863568526, 0.3662311295352789, 0.06103852158921315, 0.15259630397303287, 0.15259630397303287, 0.9272218187915529, 0.710549624046751, 0.7995220747323801, 0.9669712966111365, 0.8231006378150775, 0.05270432358977163, 0.14054486290605767, 0.1756810786325721, 0.07027243145302883, 0.2986578336753726, 0.10540864717954326, 0.10540864717954326, 0.05270432358977163, 0.8466697111205542, 0.6472052386271129, 0.10786753977118547, 0.21573507954237095, 0.04220450130425767, 0.1688180052170307, 0.14771575456490185, 0.021102250652128837, 0.253227007825546, 0.021102250652128837, 0.14771575456490185, 0.021102250652128837, 0.08440900260851535, 0.0633067519563865, 0.9726825234684672, 0.12748207795390695, 0.6374103897695347, 0.21247012992317824, 0.8951978231176191, 0.8166039627854575, 0.7224427403589373, 0.2408142467863124, 0.3487589192549409, 0.06975178385098818, 0.06975178385098818, 0.20925535155296457, 0.17437945962747045, 0.10462767577648228, 0.22639259912367196, 0.6791777973710159, 0.8462291038576452, 0.470156611566364, 0.2107598603573356, 0.29182134511015695, 0.016212296950564278, 0.04076730266616087, 0.16306921066464347, 0.611509539992413, 0.16306921066464347, 0.6736501780221121, 0.29940007912093874, 0.215233427172073, 0.7533169951022555, 0.8109922466310125, 0.7527776036045145, 0.09228680769893623, 0.5075774423441493, 0.13843021154840435, 0.23071701924734056, 0.8297181449336358, 0.7797644309172117, 0.11306363112336822, 0.5653181556168411, 0.11306363112336822, 0.11306363112336822, 0.05653181556168411, 0.7353536935329232, 0.9109994038399466, 0.7594348097335355, 0.20759992766363064, 0.553599807103015, 0.20759992766363064, 0.9400169366596894, 0.8504598015670999, 0.12149425736672856, 0.8128120359492208, 0.982191922152351, 0.7743533920840254, 0.3531912149435765, 0.24723385046050358, 0.3885103364379342, 0.8295408297063065, 0.5780014684741649, 0.12844477077203664, 0.06422238538601832, 0.2140746179533944, 0.6533326187908813, 0.14643662145312858, 0.09011484397115604, 0.05632177748197253, 0.011264355496394506, 0.04505742198557802, 0.9397196102195736, 0.7933794826182856, 0.843085727076006, 0.8145887783851615, 0.11636982548359451, 0.9757943451161052, 0.9454370272849627, 0.7257051985030423, 0.8433631201597844, 0.8393067072253895, 0.3428881046347644, 0.6000541831108377, 0.9166257265008276, 0.12087074197807259, 0.7252244518684355, 0.22310295944212538, 0.5205735720316259, 0.22310295944212538, 0.1819608833843811, 0.7278435335375244, 0.9565697831104432, 0.9153431385464267, 0.9160432908415558, 0.9095946244039512, 0.7942086377515977, 0.8364890604072004, 0.882715928707062, 0.8444111065889679, 0.20191591521764993, 0.16826326268137493, 0.3028738728264749, 0.3028738728264749, 0.6728343847566716, 0.13456687695133432, 0.13456687695133432, 0.9291805448725736, 0.9634458857268585, 0.13132578764498734, 0.8536176196924177, 0.9428731738496114, 0.229360965703472, 0.45350918218641056, 0.13031873051333637, 0.03648924454373418, 0.015638247661600362, 0.015638247661600362, 0.08861673674906873, 0.031276495323200725, 0.07220112459736218, 0.8230928204099288, 0.10108157443630705, 0.416139254762834, 0.18495077989459288, 0.018495077989459287, 0.09247538994729644, 0.17570324089986322, 0.018495077989459287, 0.07398031195783715, 0.018495077989459287, 0.8520029239238549, 0.9366803299994613, 0.9354793534554092, 0.8950355757042269, 0.1329372886397681, 0.7976237318386085, 0.7299449074735502, 0.1042778439247929, 0.1042778439247929, 0.8271318224406422, 0.8670556018155988, 0.7915929361405719, 0.9550294858080114, 0.8379457198976349, 0.8842529854679333, 0.8997096186014849, 0.09084402641769006, 0.6813301981326755, 0.04542201320884503, 0.18168805283538011, 0.18966738960110258, 0.20547300540119445, 0.6006134004034915, 0.33390127977796796, 0.08347531994449199, 0.500851919666952, 0.1435499733458643, 0.43064992003759295, 0.19139996446115243, 0.04784999111528811, 0.19139996446115243, 0.1083443113410496, 0.1083443113410496, 0.6500658680462976, 0.1083443113410496, 0.18733368853341903, 0.09366684426670951, 0.04683342213335476, 0.04683342213335476, 0.5620010656002571, 0.6381635769334213, 0.12763271538668425, 0.12763271538668425, 0.8915833505674681, 0.939628629367246, 0.9290013938822188, 0.8011905991624958, 0.8704551844088609, 0.06695809110837392, 0.7906686163366784, 0.10429759705017069, 0.15644639557525603, 0.15644639557525603, 0.10429759705017069, 0.23466959336288407, 0.23466959336288407, 0.9457659574206009, 0.9596073790878308, 0.8650710206236389, 0.10813387757795487, 0.10218116376903902, 0.11353462641004335, 0.02270692528200867, 0.12488808905104769, 0.05676731320502167, 0.28383656602510837, 0.09082770112803468, 0.12488808905104769, 0.09082770112803468, 0.962689785834025, 0.06176010255067288, 0.18528030765201864, 0.6484810767820652, 0.09264015382600932, 0.839089659921052, 0.16781793198421038, 0.8065024119649201, 0.9009442917750821, 0.9362870860441211, 0.034088645833900505, 0.9544820833492141, 0.9433423438233411, 0.8742375812322568, 0.08326072202211969, 0.781276606499533, 0.738127415407457, 0.8306073923685848, 0.37960635303262763, 0.3976828460341813, 0.16268843701398328, 0.036152986003107394, 0.018076493001553697, 0.18941413070262342, 0.2525521742701646, 0.5051043485403292, 0.9160325152159294, 0.7634266688676573, 0.8643721065726323, 0.7478168900846642, 0.14956337801693284, 0.1610163261034786, 0.10734421740231907, 0.5903931957127548, 0.10734421740231907, 0.41313402910005226, 0.5311723231286386, 0.31445175402844056, 0.14513157878235716, 0.16932017524608337, 0.12094298231863097, 0.24188596463726195, 0.33755086780943977, 0.08438771695235994, 0.2700406942475518, 0.16877543390471988, 0.016877543390471986, 0.11814280373330392, 0.9281985686431556, 0.9129275342455138, 0.9107502745699746, 0.922183802810362, 0.8842167067986786, 0.8717578908453053, 0.8853568489824597, 0.8356098583122082, 0.784566527130568, 0.75348942679839, 0.93875423296122, 0.8484899014843889, 0.8503515187498797, 0.912266130158234, 0.9015536837455271, 0.6078027943431712, 0.2431211177372685, 0.12156055886863425, 0.060780279434317123, 0.9717452936921516, 0.34458132992417606, 0.6202463938635169, 0.08512167901100269, 0.12160239858714669, 0.08512167901100269, 0.5836915132183041, 0.10944215872843202, 0.020787018426228904, 0.08314807370491561, 0.31180527639343353, 0.07275456449180116, 0.031180527639343356, 0.16629614740983123, 0.08314807370491561, 0.10393509213114452, 0.031180527639343356, 0.031180527639343356, 0.06236105527868671, 0.1897875781864476, 0.2530501042485968, 0.5061002084971936, 0.8436437290009797, 0.08436437290009798, 0.08436437290009798, 0.7370536788939879, 0.10180066674425158, 0.05090033337212579, 0.4072026669770063, 0.4072026669770063, 0.05090033337212579, 0.8997096186014849, 0.6472778040773871, 0.2774047731760231, 0.8810409258362835, 0.028081601767513873, 0.3088976194426526, 0.5054688318152497, 0.14040800883756938, 0.09104032158910633, 0.22760080397276583, 0.5007217687400848, 0.18208064317821265, 0.6790748751226272, 0.1131791458537712, 0.1131791458537712, 0.5399834416621956, 0.053998344166219556, 0.10799668833243911, 0.21599337666487822, 0.014631989159317847, 0.2487438157084034, 0.15363588617283738, 0.13900389701351953, 0.07315994579658923, 0.02194798373897677, 0.25605981028806235, 0.08779193495590708, 0.8126658038403728, 0.020935458013154218, 0.2965856551863514, 0.03140318701973133, 0.10118804706357871, 0.07327410304603976, 0.03140318701973133, 0.09769880406138634, 0.0907203180570016, 0.034892430021923694, 0.05582788803507791, 0.13259123408331003, 0.034892430021923694, 0.90740637266674, 0.787365129186401, 0.8471735950613318, 0.09172810100460861, 0.09172810100460861, 0.18345620200921722, 0.13759215150691292, 0.09172810100460861, 0.13759215150691292, 0.27518430301382585, 0.8567202650080455, 0.8929898847291878, 0.8404337463578598, 0.05488579484310735, 0.3293147690586441, 0.16465738452932205, 0.38420056390175145, 0.8747985158246543, 0.11665273116357285, 0.2333054623271457, 0.06480707286865159, 0.25922829147460635, 0.11665273116357285, 0.06480707286865159, 0.10369131658984254, 0.025922829147460635, 0.8721626775876393, 0.92159949300271, 0.9327299641077091, 0.8136669760136772, 0.84171255265675, 0.25149240585303917, 0.7544772175591175, 0.8829866425365837, 0.10064630400854539, 0.8554935840726358, 0.921602714808628, 0.20368026959609958, 0.2851523774345394, 0.4480965931114191, 0.04073605391921992, 0.19742874993293297, 0.19742874993293297, 0.4442146873490992, 0.09871437496646648, 0.04935718748323324, 0.18826872903442712, 0.12237467387237763, 0.06589405516204949, 0.03765374580688542, 0.1506149832275417, 0.05648061871032814, 0.07530749161377084, 0.2353359112930339, 0.08472092806549221, 0.15580129578937926, 0.623205183157517, 0.8376937852817372, 0.7717899172792454, 0.9018013462930203, 0.8656826490111239, 0.0786984226373749, 0.3681921197397961, 0.0525988742485423, 0.2103954969941692, 0.3681921197397961, 0.9619287917342907, 0.23925611942411518, 0.22430261196010798, 0.14953507464007199, 0.059814029856028794, 0.014953507464007199, 0.10467455224805039, 0.07476753732003599, 0.11962805971205759, 0.9211673127534094, 0.7659250249534308, 0.8751561861495876, 0.12502231230708394, 0.7766741847589178, 0.8862630269344144, 0.9476384754140665, 0.13519418770721586, 0.6759709385360794, 0.9245226035513748, 0.9309650779626135, 0.7812242433836656, 0.1232537226539127, 0.2465074453078254, 0.5546417519426071, 0.9195204057102819, 0.873130593643401, 0.8517961609354923, 0.9612254323339091, 0.798384860001362, 0.852401381619911, 0.7643510011950212, 0.7275856578667245, 0.9659345372008447, 0.6713227475501319, 0.06713227475501318, 0.20139682426503955, 0.2737160429328083, 0.6842901073320209, 0.11918017433929338, 0.8342612203750537, 0.1311678980858638, 0.0655839490429319, 0.19675184712879568, 0.5246715923434552, 0.9628338073223323, 0.7804234502417516, 0.9092709108516025, 0.8991901434415306, 0.7111860466147107, 0.09762014000530056, 0.2928604200159017, 0.14643021000795084, 0.4392906300238525, 0.7435555277977564, 0.8882297517527838, 0.10960595172144734, 0.29228253792385955, 0.36535317240482446, 0.18267658620241223, 0.036535317240482444, 0.9132565365934915, 0.6559045720361447, 0.4260210477841628, 0.5325263097302035, 0.12225281931515276, 0.055569463325069436, 0.3556445652804444, 0.1778222826402222, 0.03334167799504166, 0.022227785330027776, 0.10002503398512498, 0.12225281931515276, 0.7087662282469848, 0.1181277047078308, 0.1181277047078308, 0.9321492648099948, 0.5449446241220902, 0.06811807801526128, 0.13623615603052255, 0.20435423404578382, 0.03405903900763064, 0.13705121377267906, 0.8223072826360743, 0.7649257223459636, 0.9323586626294438, 0.8984067687100437, 0.7301655315461046, 0.08424986902455053, 0.14041644837425088, 0.05616657934970035, 0.7795061817558864, 0.7319200112318254, 0.9439812527640676, 0.9322652168663713, 0.9393516510884696, 0.8159989540686726, 0.11657127915266752, 0.9214919845269227, 0.30946284510223493, 0.6189256902044699, 0.7864547699871219, 0.9703284319131849, 0.8597960943376918, 0.9190970150861698, 0.08330051385467084, 0.12495077078200627, 0.13536333501384012, 0.07288794962283698, 0.02082512846366771, 0.04165025692733542, 0.08330051385467084, 0.2082512846366771, 0.13536333501384012, 0.08330051385467084, 0.8857981461236029, 0.0902995625405345, 0.9029956254053451, 0.17528000303545618, 0.7011200121418247, 0.8119535434826843, 0.8664365864388934, 0.9286939870680577, 0.18099364165692197, 0.3102748142690091, 0.07756870356725228, 0.2844185797465917, 0.1034249380896697, 0.4819063226672766, 0.2628579941821509, 0.0876193313940503, 0.04380966569702515, 0.0876193313940503, 0.3192542983991283, 0.6385085967982566, 0.8038048218679255, 0.8303815883259552, 0.7825144738017025, 0.5566744597625017, 0.39762461411607264, 0.7903634318437524, 0.652158183554356, 0.046582727396739715, 0.2794963643804383, 0.7305132938659584, 0.8191999441831235, 0.7035015144838226, 0.17587537862095565, 0.7152726427519254, 0.134113620515986, 0.134113620515986, 0.7675304786594563, 0.7169671371945766, 0.11030263649147333, 0.11030263649147333, 0.8223836583666259, 0.11537731695188438, 0.8076412186631907, 0.9096124193387771, 0.1603470882683699, 0.7215618972076646, 0.08017354413418495, 0.8430883766612327, 0.1251137750943586, 0.7506826505661516, 0.9484159863794825, 0.957541473268423, 0.16736257260728843, 0.6694502904291537, 0.17339722741593236, 0.7802875233716956, 0.7204202330916946, 0.9759062029900396, 0.35426857923880983, 0.29522381603234155, 0.14761190801617077, 0.20665667122263906, 0.8796948467774272, 0.20467266633976006, 0.5321489324833761, 0.24560719960771207, 0.247622630286845, 0.35374661469549284, 0.2122479688172957, 0.14149864587819713, 0.9321750756022305, 0.6766787441630311, 0.1353357488326062, 0.8858368648450683, 0.8856678978565676, 0.7737170516169707, 0.19342926290424267, 0.09470149052258588, 0.28410447156775764, 0.2367537263064647, 0.3788059620903435, 0.9359263864794828, 0.8940714320873759, 0.952801521644867, 0.6799660067407561, 0.9480086997987391, 0.04587138869993899, 0.7941276248502915, 0.5271408750476549, 0.3208683587246595, 0.11459584240166411, 0.9252312550914703, 0.7307895361397545, 0.21923686084192634, 0.7813380900146603, 0.3603093666377827, 0.11378190525403664, 0.1327455561297094, 0.18963650875672772, 0.018963650875672772, 0.09481825437836386, 0.07585460350269109, 0.037927301751345545, 0.8953998505386851, 0.8692401043819618, 0.07129656628845214, 0.28518626515380857, 0.07129656628845214, 0.4277793977307129, 0.07129656628845214, 0.7479570641150427, 0.2248010265252083, 0.28100128315651035, 0.11240051326260415, 0.3372015397878124, 0.132038640299339, 0.528154561197356, 0.23766955253881022, 0.0792231841796034, 0.1176870637367066, 0.13076340415189622, 0.07845804249113773, 0.4707482549468264, 0.013076340415189623, 0.18306876581265472, 0.15498088173351937, 0.15498088173351937, 0.09862419746678507, 0.16907005280020296, 0.02817834213336716, 0.1408917106668358, 0.05635668426673432, 0.18315922386688654, 0.846147114898115, 0.5616878827974606, 0.2808439413987303, 0.07021098534968258, 0.07021098534968258, 0.049679871515860174, 0.2483993575793009, 0.22355942182137079, 0.049679871515860174, 0.07451980727379026, 0.1987194860634407, 0.07451980727379026, 0.09935974303172035, 0.7396152171506297, 0.6390689689056238, 0.19172069067168715, 0.12781379378112476, 0.03899078039824536, 0.15596312159298145, 0.09747695099561342, 0.25344007258859486, 0.09747695099561342, 0.15596312159298145, 0.05848617059736805, 0.03899078039824536, 0.1364677313938588, 0.9600676283022207, 0.8391223261474972, 0.1356190166270716, 0.7459045914488939, 0.1017142624703037, 0.8392551311368124, 0.8988157404042612, 0.27933499583675375, 0.41900249375513066, 0.2327791631972948, 0.046555832639458956, 0.23679261452997113, 0.7103778435899134, 0.7780692436319462, 0.5755995107780373, 0.06395550119755969, 0.19186650359267907, 0.15988875299389924, 0.9814223690832429, 0.9238953373984546, 0.7729209671992393, 0.14615967400899615, 0.14615967400899615, 0.20879953429856593, 0.12527972057913955, 0.10439976714928297, 0.06263986028956978, 0.06263986028956978, 0.12527972057913955, 0.4218001361974953, 0.4921001588970778, 0.06422949022805235, 0.3853769413683141, 0.03211474511402618, 0.2729753334692225, 0.04817211767103926, 0.11240160789909161, 0.03211474511402618, 0.04817211767103926, 0.9273482984394875, 0.8880889668113375, 0.05920593112075584, 0.8987326791922781, 0.09057866777853214, 0.09057866777853214, 0.1811573355570643, 0.09057866777853214, 0.5434720066711929, 0.831971458393757, 0.8133499542732281, 0.11619285061046115, 0.8132239439330635, 0.11617484913329479, 0.812807319041852, 0.08269105465477267, 0.12403658198215901, 0.33076421861909067, 0.08269105465477267, 0.16538210930954533, 0.08269105465477267, 0.14470934564585217, 0.7714320784131858, 0.09642900980164823, 0.17436198194565078, 0.043590495486412695, 0.08718099097282539, 0.34872396389130156, 0.26154297291847617, 0.043590495486412695, 0.9358670848932229, 0.17014792820724045, 0.17014792820724045, 0.04861369377349727, 0.46183009084822413, 0.12153423443374319, 0.8101293426878228, 0.07364812206252934, 0.9252784020199891, 0.11556075119039216, 0.8089252583327451, 0.7437600725749871, 0.18594001814374678, 0.9362870994246772, 0.1262560433187151, 0.1262560433187151, 0.7575362599122906, 0.803057447449728, 0.6179117740724491, 0.2746274551433107, 0.13731372757165536, 0.9306392469236623, 0.48897091239299334, 0.24448545619649667, 0.24448545619649667, 0.051051547806159815, 0.051051547806159815, 0.561567025867758, 0.10210309561231963, 0.20420619122463926, 0.896062182420729, 0.2855933669915577, 0.4154085338059021, 0.10385213345147552, 0.15577820017721328, 0.05192606672573776, 0.9444531155305071, 0.9031428841439364, 0.17709415865403913, 0.0737892327725163, 0.2508833914265554, 0.01475784655450326, 0.38370401041708474, 0.05903138621801304, 0.01475784655450326, 0.04427353966350978, 0.8306665488488603, 0.925996453591878, 0.21104235903663926, 0.773821983134344, 0.7893813208513946, 0.14352387651843537, 0.9350903231916893, 0.17898467428144882, 0.5966155809381627, 0.17898467428144882, 0.05966155809381627, 0.33590375036911285, 0.14395875015819123, 0.14395875015819123, 0.3838900004218433, 0.06888089266381296, 0.06888089266381296, 0.48216624864669066, 0.34440446331906477, 0.20075630666818312, 0.15056723000113734, 0.10037815333409156, 0.3513235366693205, 0.2509453833352289], \"Term\": [\"abbott\", \"abide\", \"able\", \"abuse\", \"accept\", \"achieve\", \"ackbar\", \"act\", \"act\", \"act\", \"action\", \"action\", \"affect\", \"agenda\", \"ago\", \"agree\", \"agree\", \"agree\", \"aim\", \"al\", \"al\", \"al\", \"al\", \"al\", \"al\", \"alive\", \"allah\", \"allah\", \"allah\", \"allahu\", \"allow\", \"ally\", \"almost\", \"already\", \"already\", \"also\", \"also\", \"also\", \"also\", \"always\", \"american\", \"americans\", \"americans\", \"animals\", \"animals\", \"animals\", \"another\", \"another\", \"anyone\", \"anyone\", \"arabia\", \"arent\", \"arent\", \"arm\", \"arm\", \"asians\", \"assume\", \"asylum\", \"attention\", \"aussie\", \"aussie\", \"aussies\", \"aussies\", \"australia\", \"australia\", \"australia\", \"australia\", \"australia\", \"australia\", \"australia\", \"australia\", \"australian\", \"australian\", \"australian\", \"australian\", \"australians\", \"australians\", \"australians\", \"authorities\", \"authority\", \"avoid\", \"b\", \"back\", \"back\", \"back\", \"back\", \"back\", \"backlash\", \"bad\", \"bad\", \"bad\", \"ban\", \"banner\", \"bbc\", \"bear\", \"bear\", \"become\", \"behead\", \"behind\", \"beliefs\", \"believe\", \"believe\", \"believe\", \"believers\", \"belong\", \"better\", \"better\", \"bible\", \"bieber\", \"blame\", \"blame\", \"blame\", \"blame\", \"bloody\", \"blow\", \"body\", \"book\", \"break\", \"breed\", \"bring\", \"bring\", \"buddhists\", \"burn\", \"buy\", \"cafe\", \"call\", \"call\", \"call\", \"call\", \"call\", \"calm\", \"cant\", \"cant\", \"cant\", \"cant\", \"care\", \"carry\", \"carry\", \"carry\", \"catholic\", \"change\", \"charge\", \"chocolate\", \"christian\", \"christians\", \"christians\", \"christians\", \"citizens\", \"citizens\", \"citizens\", \"civilians\", \"civilize\", \"clear\", \"clearly\", \"cleric\", \"close\", \"cnn\", \"colonial\", \"come\", \"come\", \"commit\", \"common\", \"community\", \"community\", \"company\", \"concern\", \"condemn\", \"connection\", \"consider\", \"continue\", \"control\", \"control\", \"cop\", \"cop\", \"correct\", \"corrupt\", \"cost\", \"could\", \"could\", \"count\", \"countries\", \"countries\", \"country\", \"country\", \"country\", \"cover\", \"cover\", \"crap\", \"crime\", \"crimes\", \"criminal\", \"crisis\", \"de\", \"de\", \"de\", \"de\", \"dead\", \"deal\", \"deal\", \"defend\", \"defenseless\", \"demand\", \"demand\", \"demand\", \"deport\", \"derange\", \"describe\", \"desperate\", \"destroy\", \"dickhead\", \"die\", \"difference\", \"difference\", \"directly\", \"disgust\", \"do\", \"do\", \"dog\", \"dont\", \"dont\", \"dont\", \"dont\", \"dont\", \"dont\", \"dont\", \"dont\", \"doors\", \"drivers\", \"drivers\", \"duck\", \"east\", \"eat\", \"either\", \"else\", \"embrace\", \"empathy\", \"en\", \"en\", \"en\", \"en\", \"en\", \"encourage\", \"end\", \"enemy\", \"enemy\", \"enough\", \"enough\", \"enough\", \"es\", \"es\", \"es\", \"etc\", \"etc\", \"europe\", \"even\", \"even\", \"even\", \"even\", \"even\", \"events\", \"every\", \"every\", \"every\", \"every\", \"every\", \"every\", \"everyone\", \"everyone\", \"everyone\", \"everywhere\", \"example\", \"excuse\", \"excuse\", \"extreme\", \"extremist\", \"extremist\", \"extremists\", \"extremists\", \"extremists\", \"eye\", \"face\", \"face\", \"fail\", \"fair\", \"fake\", \"falseflag\", \"fanaticism\", \"far\", \"fare\", \"fault\", \"fault\", \"favor\", \"fear\", \"fear\", \"fear\", \"feed\", \"fight\", \"filthy\", \"finance\", \"find\", \"find\", \"flag\", \"flag\", \"flag\", \"flag\", \"flag\", \"flag\", \"flee\", \"fly\", \"fool\", \"force\", \"force\", \"force\", \"foreign\", \"fox\", \"free\", \"free\", \"front\", \"fuck\", \"fuck\", \"fuck\", \"fuck\", \"fuck\", \"fund\", \"fundamentalism\", \"funny\", \"gain\", \"gaza\", \"get\", \"get\", \"get\", \"get\", \"get\", \"get\", \"get\", \"get\", \"girls\", \"give\", \"give\", \"give\", \"go\", \"go\", \"go\", \"go\", \"go\", \"go\", \"go\", \"go\", \"go\", \"go\", \"god\", \"good\", \"good\", \"good\", \"government\", \"govt\", \"great\", \"great\", \"group\", \"group\", \"group\", \"group\", \"group\", \"group\", \"guess\", \"guess\", \"gulf\", \"gun\", \"gun\", \"gun\", \"gun\", \"gunman\", \"gunman\", \"gunman\", \"gunman\", \"gunmen\", \"gunmen\", \"guy\", \"guy\", \"hahaha\", \"hang\", \"happen\", \"happen\", \"happen\", \"happen\", \"hard\", \"haron\", \"hate\", \"hate\", \"hate\", \"hate\", \"hate\", \"havent\", \"headline\", \"heavily\", \"help\", \"help\", \"help\", \"hes\", \"higher\", \"higher\", \"hitler\", \"hold\", \"home\", \"hope\", \"hope\", \"hope\", \"horrible\", \"hostage\", \"hostage\", \"hostage\", \"hostage\", \"hostages\", \"hostages\", \"hostages\", \"hostages\", \"hostages\", \"hostages\", \"hours\", \"however\", \"huh\", \"human\", \"human\", \"humanity\", \"hurt\", \"idea\", \"identity\", \"idiot\", \"idiots\", \"idiots\", \"ignore\", \"illegal\", \"illegal\", \"im\", \"im\", \"im\", \"immigration\", \"immigration\", \"important\", \"incident\", \"include\", \"increase\", \"india\", \"indian\", \"individual\", \"info\", \"innocent\", \"innocent\", \"innocent\", \"innocent\", \"inside\", \"inside\", \"inside\", \"instead\", \"involve\", \"iran\", \"iran\", \"iranian\", \"isis\", \"isis\", \"isis\", \"isis\", \"isis\", \"isis\", \"isis\", \"isis\", \"islam\", \"islam\", \"islam\", \"islamic\", \"islamic\", \"islamic\", \"islamic\", \"islamic\", \"islamic\", \"islamic\", \"islamic\", \"islamization\", \"islams\", \"israel\", \"ive\", \"jesus\", \"jesus\", \"jihad\", \"jihad\", \"jihad\", \"jihadi\", \"join\", \"jones\", \"journalism\", \"journalists\", \"justify\", \"katy\", \"keep\", \"keep\", \"keep\", \"keep\", \"kill\", \"kill\", \"kill\", \"kind\", \"kind\", \"kind\", \"know\", \"know\", \"know\", \"know\", \"know\", \"koran\", \"koran\", \"koran\", \"koran\", \"la\", \"la\", \"la\", \"la\", \"la\", \"last\", \"last\", \"last\", \"law\", \"laws\", \"le\", \"learn\", \"leave\", \"leave\", \"leftist\", \"let\", \"let\", \"let\", \"let\", \"let\", \"let\", \"liberal\", \"lie\", \"life\", \"life\", \"like\", \"like\", \"like\", \"like\", \"like\", \"like\", \"like\", \"like\", \"like\", \"listen\", \"live\", \"live\", \"live\", \"live\", \"local\", \"local\", \"logic\", \"lol\", \"long\", \"look\", \"look\", \"lose\", \"love\", \"love\", \"lunatic\", \"mad\", \"majority\", \"make\", \"make\", \"make\", \"make\", \"make\", \"man\", \"man\", \"man\", \"martin\", \"mass\", \"massacre\", \"matter\", \"matter\", \"may\", \"may\", \"may\", \"may\", \"maybe\", \"maybe\", \"mean\", \"mean\", \"mean\", \"mean\", \"mean\", \"media\", \"media\", \"media\", \"media\", \"media\", \"media\", \"mercy\", \"messenger\", \"middle\", \"mind\", \"minister\", \"mohammed\", \"money\", \"monis\", \"moral\", \"moron\", \"moslems\", \"mosques\", \"motivate\", \"move\", \"mt\", \"much\", \"much\", \"much\", \"much\", \"muhammad\", \"murder\", \"murder\", \"muslim\", \"muslim\", \"muslim\", \"muslim\", \"muslim\", \"muslims\", \"muslims\", \"muslims\", \"muslims\", \"muslims\", \"muslims\", \"muslims\", \"muslims\", \"muslims\", \"muslims\", \"muslims\", \"must\", \"must\", \"must\", \"n\", \"n\", \"n\", \"na\", \"name\", \"name\", \"name\", \"name\", \"name\", \"nasa\", \"nation\", \"nation\", \"nato\", \"need\", \"need\", \"need\", \"need\", \"never\", \"never\", \"never\", \"never\", \"new\", \"new\", \"new\", \"news\", \"news\", \"news\", \"news\", \"no\", \"no\", \"no\", \"no\", \"no\", \"no\", \"no\", \"no\", \"nobody\", \"not\", \"not\", \"not\", \"not\", \"not\", \"not\", \"not\", \"not\", \"not\", \"not\", \"not\", \"not\", \"nra\", \"nsw\", \"nusra\", \"obama\", \"obama\", \"obama\", \"obama\", \"obama\", \"obama\", \"obama\", \"obamas\", \"obviously\", \"offenders\", \"oh\", \"oh\", \"oh\", \"oh\", \"old\", \"one\", \"one\", \"one\", \"one\", \"one\", \"one\", \"one\", \"one\", \"ones\", \"opinion\", \"order\", \"outpost\", \"palestine\", \"part\", \"part\", \"party\", \"pay\", \"pay\", \"pbuh\", \"peace\", \"peace\", \"peace\", \"peace\", \"peaceful\", \"peaceful\", \"peaceful\", \"peaceful\", \"peaceful\", \"people\", \"people\", \"people\", \"people\", \"people\", \"people\", \"people\", \"people\", \"people\", \"photo\", \"photo\", \"photos\", \"pick\", \"pickup\", \"place\", \"place\", \"please\", \"please\", \"please\", \"please\", \"pm\", \"police\", \"police\", \"police\", \"police\", \"police\", \"police\", \"police\", \"police\", \"politicians\", \"politics\", \"poor\", \"poor\", \"position\", \"power\", \"ppl\", \"practice\", \"practice\", \"press\", \"price\", \"prime\", \"problem\", \"problem\", \"problem\", \"promote\", \"protect\", \"protest\", \"prove\", \"publicity\", \"putin\", \"quickly\", \"quote\", \"quran\", \"r\", \"r\", \"r\", \"race\", \"race\", \"racism\", \"racism\", \"racist\", \"racist\", \"racist\", \"racist\", \"radical\", \"raise\", \"rape\", \"rather\", \"ray\", \"read\", \"read\", \"read\", \"read\", \"reality\", \"realize\", \"really\", \"really\", \"really\", \"really\", \"really\", \"reason\", \"refugees\", \"release\", \"release\", \"religion\", \"religion\", \"religion\", \"religion\", \"religion\", \"religion\", \"religion\", \"religion\", \"religions\", \"religions\", \"religions\", \"remember\", \"report\", \"report\", \"report\", \"report\", \"report\", \"rest\", \"rest\", \"result\", \"rid\", \"rifle\", \"right\", \"right\", \"right\", \"right\", \"rise\", \"risk\", \"robbery\", \"rt\", \"rule\", \"sad\", \"sad\", \"sadly\", \"safe\", \"safe\", \"safety\", \"saudi\", \"saudis\", \"save\", \"say\", \"say\", \"say\", \"say\", \"say\", \"say\", \"say\", \"say\", \"say\", \"say\", \"school\", \"scum\", \"scum\", \"scumbag\", \"scumbag\", \"seal\", \"second\", \"secular\", \"see\", \"see\", \"see\", \"see\", \"see\", \"seem\", \"seem\", \"seem\", \"seem\", \"seem\", \"send\", \"send\", \"sense\", \"service\", \"several\", \"sex\", \"sex\", \"sexual\", \"shahada\", \"shahada\", \"shahada\", \"sheikh\", \"shield\", \"shit\", \"shit\", \"shoot\", \"shoot\", \"shoot\", \"shout\", \"siege\", \"siege\", \"siege\", \"silent\", \"sniper\", \"sniper\", \"snipers\", \"society\", \"society\", \"society\", \"solve\", \"someone\", \"someone\", \"soon\", \"sound\", \"speculation\", \"speculation\", \"spread\", \"spread\", \"stag\", \"start\", \"state\", \"state\", \"state\", \"state\", \"stay\", \"still\", \"still\", \"still\", \"stop\", \"stop\", \"stop\", \"stop\", \"storm\", \"stupid\", \"stupid\", \"suicide\", \"sunni\", \"support\", \"support\", \"sure\", \"sure\", \"sure\", \"sure\", \"surge\", \"surprise\", \"suspect\", \"sydenysiege\", \"sydney\", \"sydney\", \"sydneyseige\", \"sydneysiege\", \"sydneysiege\", \"sydneysiege\", \"sympathy\", \"syria\", \"syria\", \"system\", \"take\", \"take\", \"take\", \"take\", \"take\", \"take\", \"take\", \"take\", \"taker\", \"takers\", \"talk\", \"talk\", \"talk\", \"talk\", \"talk\", \"tbh\", \"terror\", \"terror\", \"terror\", \"terror\", \"terrorism\", \"terrorism\", \"terrorism\", \"terrorism\", \"terrorist\", \"terrorist\", \"terrorist\", \"terrorist\", \"terrorist\", \"terrorist\", \"terrorists\", \"terrorists\", \"terrorists\", \"terrorists\", \"terrorists\", \"terrorists\", \"terrorists\", \"terrorists\", \"terrorize\", \"thank\", \"thank\", \"thank\", \"thank\", \"thats\", \"thats\", \"thats\", \"thats\", \"thats\", \"thats\", \"thats\", \"thats\", \"theories\", \"thing\", \"thing\", \"thing\", \"think\", \"think\", \"think\", \"think\", \"think\", \"think\", \"think\", \"think\", \"think\", \"though\", \"thugs\", \"time\", \"time\", \"time\", \"torture\", \"truth\", \"try\", \"try\", \"try\", \"try\", \"turkey\", \"turkey\", \"twitter\", \"u\", \"u\", \"u\", \"u\", \"uber\", \"uk\", \"unharmed\", \"us\", \"us\", \"us\", \"us\", \"us\", \"us\", \"us\", \"us\", \"usa\", \"usa\", \"use\", \"use\", \"use\", \"use\", \"use\", \"use\", \"use\", \"use\", \"verse\", \"via\", \"via\", \"viewers\", \"violence\", \"violence\", \"violence\", \"violence\", \"violence\", \"violent\", \"wait\", \"wait\", \"wake\", \"wake\", \"walk\", \"want\", \"want\", \"want\", \"want\", \"want\", \"want\", \"want\", \"watch\", \"watch\", \"way\", \"way\", \"way\", \"way\", \"way\", \"way\", \"welcome\", \"well\", \"well\", \"well\", \"well\", \"well\", \"west\", \"west\", \"western\", \"whats\", \"whats\", \"window\", \"window\", \"wish\", \"without\", \"without\", \"without\", \"witness\", \"women\", \"women\", \"women\", \"wonder\", \"word\", \"word\", \"word\", \"work\", \"work\", \"work\", \"work\", \"work\", \"workplace\", \"world\", \"world\", \"world\", \"world\", \"world\", \"worldwide\", \"worse\", \"would\", \"would\", \"would\", \"would\", \"would\", \"would\", \"would\", \"would\", \"wouldnt\", \"wow\", \"write\", \"write\", \"wrong\", \"wrong\", \"ya\", \"yeah\", \"yeah\", \"yeah\", \"yeah\", \"yes\", \"yes\", \"yes\", \"yes\", \"yet\", \"yet\", \"yet\", \"yet\", \"youre\", \"youre\", \"youre\", \"youre\", \"youre\"]}, \"R\": 30, \"lambda.step\": 0.01, \"plot.opts\": {\"xlab\": \"PC1\", \"ylab\": \"PC2\"}, \"topic.order\": [3, 4, 9, 5, 6, 10, 12, 11, 1, 8, 7, 2]};\n",
       "\n",
       "function LDAvis_load_lib(url, callback){\n",
       "  var s = document.createElement('script');\n",
       "  s.src = url;\n",
       "  s.async = true;\n",
       "  s.onreadystatechange = s.onload = callback;\n",
       "  s.onerror = function(){console.warn(\"failed to load library \" + url);};\n",
       "  document.getElementsByTagName(\"head\")[0].appendChild(s);\n",
       "}\n",
       "\n",
       "if(typeof(LDAvis) !== \"undefined\"){\n",
       "   // already loaded: just create the visualization\n",
       "   !function(LDAvis){\n",
       "       new LDAvis(\"#\" + \"ldavis_el1128021543626856963664612777\", ldavis_el1128021543626856963664612777_data);\n",
       "   }(LDAvis);\n",
       "}else if(typeof define === \"function\" && define.amd){\n",
       "   // require.js is available: use it to load d3/LDAvis\n",
       "   require.config({paths: {d3: \"https://d3js.org/d3.v5\"}});\n",
       "   require([\"d3\"], function(d3){\n",
       "      window.d3 = d3;\n",
       "      LDAvis_load_lib(\"https://cdn.jsdelivr.net/gh/bmabey/pyLDAvis@3.3.1/pyLDAvis/js/ldavis.v3.0.0.js\", function(){\n",
       "        new LDAvis(\"#\" + \"ldavis_el1128021543626856963664612777\", ldavis_el1128021543626856963664612777_data);\n",
       "      });\n",
       "    });\n",
       "}else{\n",
       "    // require.js not available: dynamically load d3 & LDAvis\n",
       "    LDAvis_load_lib(\"https://d3js.org/d3.v5.js\", function(){\n",
       "         LDAvis_load_lib(\"https://cdn.jsdelivr.net/gh/bmabey/pyLDAvis@3.3.1/pyLDAvis/js/ldavis.v3.0.0.js\", function(){\n",
       "                 new LDAvis(\"#\" + \"ldavis_el1128021543626856963664612777\", ldavis_el1128021543626856963664612777_data);\n",
       "            })\n",
       "         });\n",
       "}\n",
       "</script>"
      ],
      "text/plain": [
       "<IPython.core.display.HTML object>"
      ]
     },
     "execution_count": 67,
     "metadata": {},
     "output_type": "execute_result"
    }
   ],
   "source": [
    "pyLDAvis.display(target_topics)"
   ]
  },
  {
   "cell_type": "code",
   "execution_count": 68,
   "metadata": {
    "id": "JgxB6cfC4cwa",
    "outputId": "2ee7dd01-46f9-47cc-bc57-d611775184ea"
   },
   "outputs": [
    {
     "name": "stderr",
     "output_type": "stream",
     "text": [
      "c:\\users\\user\\appdata\\local\\programs\\python\\python39\\lib\\site-packages\\ipykernel\\ipkernel.py:283: DeprecationWarning: `should_run_async` will not call `transform_cell` automatically in the future. Please pass the result to `transformed_cell` argument and any exception that happen during thetransform in `preprocessing_exc_tuple` in IPython 7.17 and above.\n",
      "  and should_run_async(code)\n"
     ]
    }
   ],
   "source": [
    "save_path = 'D:/論文/PHEME9/Code/sydneysiege/18 targetanalysis/twanalysis\\\\'\n",
    "pyLDAvis.save_html(target_topics, save_path+'sydneysiege_lda_replytarget.html')"
   ]
  },
  {
   "cell_type": "markdown",
   "metadata": {
    "id": "UIZBsyIcgb1E"
   },
   "source": [
    "## Non-Target"
   ]
  },
  {
   "cell_type": "code",
   "execution_count": 69,
   "metadata": {
    "colab": {
     "base_uri": "https://localhost:8080/"
    },
    "executionInfo": {
     "elapsed": 238,
     "status": "ok",
     "timestamp": 1670938347780,
     "user": {
      "displayName": "Bella Yang",
      "userId": "16101934561747208179"
     },
     "user_tz": -120
    },
    "id": "7b6VFeGwgb1F",
    "outputId": "01a7c415-5985-42d1-cd40-dc67cc79902a"
   },
   "outputs": [
    {
     "name": "stdout",
     "output_type": "stream",
     "text": [
      "Dictionary(6247 unique tokens: ['flag', 'not', 'specifically', 'im', 'omg']...)\n"
     ]
    },
    {
     "name": "stderr",
     "output_type": "stream",
     "text": [
      "c:\\users\\user\\appdata\\local\\programs\\python\\python39\\lib\\site-packages\\ipykernel\\ipkernel.py:283: DeprecationWarning: `should_run_async` will not call `transform_cell` automatically in the future. Please pass the result to `transformed_cell` argument and any exception that happen during thetransform in `preprocessing_exc_tuple` in IPython 7.17 and above.\n",
      "  and should_run_async(code)\n"
     ]
    }
   ],
   "source": [
    "#Rumor dictionary\n",
    "id2word_non = corpora.Dictionary(nontarget_tw_list)\n",
    "print(id2word_non)"
   ]
  },
  {
   "cell_type": "code",
   "execution_count": 70,
   "metadata": {
    "id": "3pTFID8mgb1F"
   },
   "outputs": [
    {
     "name": "stderr",
     "output_type": "stream",
     "text": [
      "c:\\users\\user\\appdata\\local\\programs\\python\\python39\\lib\\site-packages\\ipykernel\\ipkernel.py:283: DeprecationWarning: `should_run_async` will not call `transform_cell` automatically in the future. Please pass the result to `transformed_cell` argument and any exception that happen during thetransform in `preprocessing_exc_tuple` in IPython 7.17 and above.\n",
      "  and should_run_async(code)\n"
     ]
    }
   ],
   "source": [
    "# Term Document Frequency\n",
    "corpus_nontarget = [id2word_non.doc2bow(tw) for tw in nontarget_tw_list]"
   ]
  },
  {
   "cell_type": "code",
   "execution_count": 71,
   "metadata": {
    "id": "k9R6sbrSgb1F"
   },
   "outputs": [
    {
     "name": "stderr",
     "output_type": "stream",
     "text": [
      "c:\\users\\user\\appdata\\local\\programs\\python\\python39\\lib\\site-packages\\ipykernel\\ipkernel.py:283: DeprecationWarning: `should_run_async` will not call `transform_cell` automatically in the future. Please pass the result to `transformed_cell` argument and any exception that happen during thetransform in `preprocessing_exc_tuple` in IPython 7.17 and above.\n",
      "  and should_run_async(code)\n"
     ]
    }
   ],
   "source": [
    "def compute_coherence_values(corpus, dictionary, k):\n",
    "    \n",
    "    lda_model = gensim.models.LdaMulticore(corpus=corpus,\n",
    "                                           id2word=dictionary,\n",
    "                                           num_topics=k, \n",
    "                                           random_state=100,\n",
    "                                           chunksize=50,\n",
    "                                           passes=20)\n",
    "    \n",
    "    coherence_model_lda = CoherenceModel(model=lda_model, \n",
    "                                         texts=nontarget_tw_list, #要改\n",
    "                                         dictionary=id2word_non,    #要改\n",
    "                                         coherence='c_v')\n",
    "    return coherence_model_lda.get_coherence()"
   ]
  },
  {
   "cell_type": "code",
   "execution_count": 72,
   "metadata": {
    "id": "Yt4ImctVgb1G"
   },
   "outputs": [
    {
     "name": "stderr",
     "output_type": "stream",
     "text": [
      "c:\\users\\user\\appdata\\local\\programs\\python\\python39\\lib\\site-packages\\ipykernel\\ipkernel.py:283: DeprecationWarning: `should_run_async` will not call `transform_cell` automatically in the future. Please pass the result to `transformed_cell` argument and any exception that happen during thetransform in `preprocessing_exc_tuple` in IPython 7.17 and above.\n",
      "  and should_run_async(code)\n"
     ]
    }
   ],
   "source": [
    "# Topics range\n",
    "min_topics = 2\n",
    "max_topics = 21\n",
    "step_size = 1\n",
    "topics_range = range(min_topics, max_topics, step_size)"
   ]
  },
  {
   "cell_type": "code",
   "execution_count": 73,
   "metadata": {
    "colab": {
     "base_uri": "https://localhost:8080/"
    },
    "executionInfo": {
     "elapsed": 416342,
     "status": "ok",
     "timestamp": 1670938785806,
     "user": {
      "displayName": "Bella Yang",
      "userId": "16101934561747208179"
     },
     "user_tz": -120
    },
    "id": "Gx4xEl9pgb1G",
    "outputId": "0d6c74dc-ec89-43df-9e71-307929d34f99"
   },
   "outputs": [
    {
     "name": "stderr",
     "output_type": "stream",
     "text": [
      "c:\\users\\user\\appdata\\local\\programs\\python\\python39\\lib\\site-packages\\ipykernel\\ipkernel.py:283: DeprecationWarning: `should_run_async` will not call `transform_cell` automatically in the future. Please pass the result to `transformed_cell` argument and any exception that happen during thetransform in `preprocessing_exc_tuple` in IPython 7.17 and above.\n",
      "  and should_run_async(code)\n"
     ]
    }
   ],
   "source": [
    "nontarget_results ={'Topics': [], 'Coherence': []}\n",
    "\n",
    "for k in topics_range:\n",
    "\n",
    "    # get the coherence score for the given parameters\n",
    "    cv = compute_coherence_values(corpus=corpus_nontarget, \n",
    "                                  dictionary=id2word_non,k=k)\n",
    "    # Save the model results\n",
    "    nontarget_results['Topics'].append(k)\n",
    "    nontarget_results['Coherence'].append(cv)"
   ]
  },
  {
   "cell_type": "code",
   "execution_count": 74,
   "metadata": {
    "colab": {
     "base_uri": "https://localhost:8080/",
     "height": 614
    },
    "executionInfo": {
     "elapsed": 488,
     "status": "ok",
     "timestamp": 1670938796058,
     "user": {
      "displayName": "Bella Yang",
      "userId": "16101934561747208179"
     },
     "user_tz": -120
    },
    "id": "gsuA0JEZgb1G",
    "outputId": "feed71e9-6a65-4278-928a-1fcfe80df378"
   },
   "outputs": [
    {
     "name": "stderr",
     "output_type": "stream",
     "text": [
      "c:\\users\\user\\appdata\\local\\programs\\python\\python39\\lib\\site-packages\\ipykernel\\ipkernel.py:283: DeprecationWarning: `should_run_async` will not call `transform_cell` automatically in the future. Please pass the result to `transformed_cell` argument and any exception that happen during thetransform in `preprocessing_exc_tuple` in IPython 7.17 and above.\n",
      "  and should_run_async(code)\n"
     ]
    },
    {
     "data": {
      "text/html": [
       "<div>\n",
       "<style scoped>\n",
       "    .dataframe tbody tr th:only-of-type {\n",
       "        vertical-align: middle;\n",
       "    }\n",
       "\n",
       "    .dataframe tbody tr th {\n",
       "        vertical-align: top;\n",
       "    }\n",
       "\n",
       "    .dataframe thead th {\n",
       "        text-align: right;\n",
       "    }\n",
       "</style>\n",
       "<table border=\"1\" class=\"dataframe\">\n",
       "  <thead>\n",
       "    <tr style=\"text-align: right;\">\n",
       "      <th></th>\n",
       "      <th>Topics</th>\n",
       "      <th>Coherence</th>\n",
       "    </tr>\n",
       "  </thead>\n",
       "  <tbody>\n",
       "    <tr>\n",
       "      <th>0</th>\n",
       "      <td>2</td>\n",
       "      <td>0.297409</td>\n",
       "    </tr>\n",
       "    <tr>\n",
       "      <th>1</th>\n",
       "      <td>3</td>\n",
       "      <td>0.314913</td>\n",
       "    </tr>\n",
       "    <tr>\n",
       "      <th>2</th>\n",
       "      <td>4</td>\n",
       "      <td>0.311777</td>\n",
       "    </tr>\n",
       "    <tr>\n",
       "      <th>3</th>\n",
       "      <td>5</td>\n",
       "      <td>0.321827</td>\n",
       "    </tr>\n",
       "    <tr>\n",
       "      <th>4</th>\n",
       "      <td>6</td>\n",
       "      <td>0.344616</td>\n",
       "    </tr>\n",
       "    <tr>\n",
       "      <th>5</th>\n",
       "      <td>7</td>\n",
       "      <td>0.371011</td>\n",
       "    </tr>\n",
       "    <tr>\n",
       "      <th>6</th>\n",
       "      <td>8</td>\n",
       "      <td>0.424534</td>\n",
       "    </tr>\n",
       "    <tr>\n",
       "      <th>7</th>\n",
       "      <td>9</td>\n",
       "      <td>0.380395</td>\n",
       "    </tr>\n",
       "    <tr>\n",
       "      <th>8</th>\n",
       "      <td>10</td>\n",
       "      <td>0.375748</td>\n",
       "    </tr>\n",
       "    <tr>\n",
       "      <th>9</th>\n",
       "      <td>11</td>\n",
       "      <td>0.405354</td>\n",
       "    </tr>\n",
       "    <tr>\n",
       "      <th>10</th>\n",
       "      <td>12</td>\n",
       "      <td>0.403823</td>\n",
       "    </tr>\n",
       "    <tr>\n",
       "      <th>11</th>\n",
       "      <td>13</td>\n",
       "      <td>0.447755</td>\n",
       "    </tr>\n",
       "    <tr>\n",
       "      <th>12</th>\n",
       "      <td>14</td>\n",
       "      <td>0.443338</td>\n",
       "    </tr>\n",
       "    <tr>\n",
       "      <th>13</th>\n",
       "      <td>15</td>\n",
       "      <td>0.450065</td>\n",
       "    </tr>\n",
       "    <tr>\n",
       "      <th>14</th>\n",
       "      <td>16</td>\n",
       "      <td>0.470653</td>\n",
       "    </tr>\n",
       "    <tr>\n",
       "      <th>15</th>\n",
       "      <td>17</td>\n",
       "      <td>0.487474</td>\n",
       "    </tr>\n",
       "    <tr>\n",
       "      <th>16</th>\n",
       "      <td>18</td>\n",
       "      <td>0.503620</td>\n",
       "    </tr>\n",
       "    <tr>\n",
       "      <th>17</th>\n",
       "      <td>19</td>\n",
       "      <td>0.511196</td>\n",
       "    </tr>\n",
       "    <tr>\n",
       "      <th>18</th>\n",
       "      <td>20</td>\n",
       "      <td>0.503724</td>\n",
       "    </tr>\n",
       "  </tbody>\n",
       "</table>\n",
       "</div>"
      ],
      "text/plain": [
       "    Topics  Coherence\n",
       "0        2   0.297409\n",
       "1        3   0.314913\n",
       "2        4   0.311777\n",
       "3        5   0.321827\n",
       "4        6   0.344616\n",
       "5        7   0.371011\n",
       "6        8   0.424534\n",
       "7        9   0.380395\n",
       "8       10   0.375748\n",
       "9       11   0.405354\n",
       "10      12   0.403823\n",
       "11      13   0.447755\n",
       "12      14   0.443338\n",
       "13      15   0.450065\n",
       "14      16   0.470653\n",
       "15      17   0.487474\n",
       "16      18   0.503620\n",
       "17      19   0.511196\n",
       "18      20   0.503724"
      ]
     },
     "execution_count": 74,
     "metadata": {},
     "output_type": "execute_result"
    }
   ],
   "source": [
    "nontarget_results = pd.DataFrame(nontarget_results)\n",
    "nontarget_results"
   ]
  },
  {
   "cell_type": "code",
   "execution_count": 75,
   "metadata": {
    "colab": {
     "base_uri": "https://localhost:8080/",
     "height": 279
    },
    "executionInfo": {
     "elapsed": 841,
     "status": "ok",
     "timestamp": 1670939429133,
     "user": {
      "displayName": "Bella Yang",
      "userId": "16101934561747208179"
     },
     "user_tz": -120
    },
    "id": "N26O15BVgb1G",
    "outputId": "38e3ac77-e830-4c64-a5a5-8ccb0a4940ae"
   },
   "outputs": [
    {
     "name": "stderr",
     "output_type": "stream",
     "text": [
      "c:\\users\\user\\appdata\\local\\programs\\python\\python39\\lib\\site-packages\\ipykernel\\ipkernel.py:283: DeprecationWarning: `should_run_async` will not call `transform_cell` automatically in the future. Please pass the result to `transformed_cell` argument and any exception that happen during thetransform in `preprocessing_exc_tuple` in IPython 7.17 and above.\n",
      "  and should_run_async(code)\n"
     ]
    },
    {
     "data": {
      "image/png": "[encoded data removed]",
      "text/plain": [
       "<Figure size 432x288 with 1 Axes>"
      ]
     },
     "metadata": {
      "needs_background": "light"
     },
     "output_type": "display_data"
    }
   ],
   "source": [
    "# Show graph\n",
    "x = range(min_topics, max_topics, step_size)\n",
    "\n",
    "plt.plot(nontarget_results.Topics, nontarget_results.Coherence)\n",
    "plt.xticks(x)\n",
    "plt.xlabel(\"Num Topics\")\n",
    "plt.ylabel(\"Coherence score\")\n",
    "plt.legend((\"coherence_values\"), loc='best')\n",
    "plt.show()"
   ]
  },
  {
   "cell_type": "markdown",
   "metadata": {},
   "source": [
    "### choose the number of topics: **8**"
   ]
  },
  {
   "cell_type": "code",
   "execution_count": 76,
   "metadata": {
    "colab": {
     "base_uri": "https://localhost:8080/"
    },
    "executionInfo": {
     "elapsed": 22149,
     "status": "ok",
     "timestamp": 1670938988377,
     "user": {
      "displayName": "Bella Yang",
      "userId": "16101934561747208179"
     },
     "user_tz": -120
    },
    "id": "1_cDG2SGgb1H",
    "outputId": "dab3ecfd-0419-463b-b94f-342ec1fad5cc"
   },
   "outputs": [
    {
     "name": "stderr",
     "output_type": "stream",
     "text": [
      "c:\\users\\user\\appdata\\local\\programs\\python\\python39\\lib\\site-packages\\ipykernel\\ipkernel.py:283: DeprecationWarning: `should_run_async` will not call `transform_cell` automatically in the future. Please pass the result to `transformed_cell` argument and any exception that happen during thetransform in `preprocessing_exc_tuple` in IPython 7.17 and above.\n",
      "  and should_run_async(code)\n"
     ]
    }
   ],
   "source": [
    "lda_model_nontarget = gensim.models.LdaMulticore(corpus=corpus_nontarget,id2word=id2word_non,num_topics=8, \n",
    "                                       random_state=100,chunksize=50,passes=20)"
   ]
  },
  {
   "cell_type": "code",
   "execution_count": 77,
   "metadata": {
    "colab": {
     "base_uri": "https://localhost:8080/",
     "height": 917
    },
    "executionInfo": {
     "elapsed": 2485,
     "status": "ok",
     "timestamp": 1670938990839,
     "user": {
      "displayName": "Bella Yang",
      "userId": "16101934561747208179"
     },
     "user_tz": -120
    },
    "id": "kP8Rtrzqgb1H",
    "outputId": "729a411f-3231-4f4d-d4f4-538b4833e2a8"
   },
   "outputs": [
    {
     "name": "stderr",
     "output_type": "stream",
     "text": [
      "c:\\users\\user\\appdata\\local\\programs\\python\\python39\\lib\\site-packages\\ipykernel\\ipkernel.py:283: DeprecationWarning: `should_run_async` will not call `transform_cell` automatically in the future. Please pass the result to `transformed_cell` argument and any exception that happen during thetransform in `preprocessing_exc_tuple` in IPython 7.17 and above.\n",
      "  and should_run_async(code)\n",
      "c:\\users\\user\\appdata\\local\\programs\\python\\python39\\lib\\site-packages\\pyLDAvis\\_prepare.py:246: FutureWarning: In a future version of pandas all arguments of DataFrame.drop except for the argument 'labels' will be keyword-only.\n",
      "  default_term_info = default_term_info.sort_values(\n"
     ]
    },
    {
     "data": {
      "text/html": [
       "\n",
       "<link rel=\"stylesheet\" type=\"text/css\" href=\"https://cdn.jsdelivr.net/gh/bmabey/pyLDAvis@3.3.1/pyLDAvis/js/ldavis.v1.0.0.css\">\n",
       "\n",
       "\n",
       "<div id=\"ldavis_el112802154358155968524912476\"></div>\n",
       "<script type=\"text/javascript\">\n",
       "\n",
       "var ldavis_el112802154358155968524912476_data = {\"mdsDat\": {\"x\": [-0.15169880301587424, -0.16946451216173591, -0.0837930305135027, -0.012903605506711616, 0.003260722972035282, 0.02460284263540477, 0.18673537707037205, 0.20326100852001228], \"y\": [-0.048506086016976695, 0.06408832163385919, -0.08739583427853925, 0.23640237122825353, -0.05132724628824141, -0.13448714014978094, 0.09733653484274918, -0.07611092097132355], \"topics\": [1, 2, 3, 4, 5, 6, 7, 8], \"cluster\": [1, 1, 1, 1, 1, 1, 1, 1], \"Freq\": [15.906580905582143, 15.834626366448983, 15.386221297225836, 11.911957240119673, 10.788142396198214, 10.64111793694931, 9.90214921070883, 9.629204646767011]}, \"tinfo\": {\"Term\": [\"sydneysiege\", \"sydney\", \"dont\", \"thank\", \"one\", \"look\", \"like\", \"news\", \"police\", \"hope\", \"u\", \"oh\", \"safe\", \"fuck\", \"know\", \"not\", \"call\", \"hostage\", \"thats\", \"lol\", \"cafe\", \"yes\", \"think\", \"theyre\", \"let\", \"say\", \"many\", \"pray\", \"report\", \"media\", \"u\", \"dead\", \"name\", \"ask\", \"families\", \"islamic\", \"back\", \"tv\", \"hadley\", \"anything\", \"eye\", \"buy\", \"do\", \"ive\", \"muslim\", \"followers\", \"ray\", \"injure\", \"clearly\", \"k\", \"bless\", \"action\", \"interest\", \"game\", \"ass\", \"state\", \"fire\", \"protect\", \"abbott\", \"air\", \"hes\", \"thats\", \"talk\", \"dont\", \"know\", \"confirm\", \"want\", \"think\", \"shoot\", \"not\", \"say\", \"show\", \"would\", \"terrorists\", \"chocolate\", \"take\", \"live\", \"no\", \"please\", \"go\", \"time\", \"flag\", \"police\", \"report\", \"like\", \"im\", \"people\", \"get\", \"oh\", \"love\", \"point\", \"prayers\", \"saw\", \"post\", \"ever\", \"care\", \"via\", \"image\", \"apparently\", \"build\", \"house\", \"clear\", \"channel\", \"martin\", \"opera\", \"wake\", \"flee\", \"reason\", \"wtf\", \"martinplace\", \"truth\", \"plan\", \"business\", \"ignorant\", \"social\", \"victims\", \"drama\", \"security\", \"sydney\", \"cafe\", \"place\", \"media\", \"twitter\", \"news\", \"hostage\", \"police\", \"stop\", \"free\", \"no\", \"hostages\", \"shit\", \"australian\", \"update\", \"australia\", \"see\", \"say\", \"live\", \"one\", \"much\", \"hold\", \"escape\", \"lindt\", \"people\", \"go\", \"get\", \"safe\", \"let\", \"pray\", \"wrong\", \"gun\", \"release\", \"demand\", \"home\", \"wow\", \"around\", \"best\", \"cnn\", \"stay\", \"away\", \"worry\", \"cause\", \"peaceful\", \"havent\", \"ones\", \"heart\", \"explain\", \"problem\", \"drivers\", \"run\", \"scar\", \"shes\", \"disgust\", \"friends\", \"hurt\", \"blame\", \"really\", \"help\", \"sure\", \"hope\", \"good\", \"ok\", \"us\", \"work\", \"escape\", \"im\", \"watch\", \"people\", \"get\", \"go\", \"dont\", \"well\", \"please\", \"hostages\", \"not\", \"hear\", \"tweet\", \"right\", \"sydneysiege\", \"gunman\", \"mt\", \"exactly\", \"public\", \"dude\", \"fail\", \"yep\", \"mind\", \"last\", \"listen\", \"prayforsydney\", \"bastard\", \"calm\", \"bite\", \"case\", \"correct\", \"service\", \"suspect\", \"near\", \"view\", \"change\", \"seriously\", \"type\", \"remain\", \"focus\", \"america\", \"spell\", \"earlier\", \"sky\", \"arm\", \"thank\", \"already\", \"peace\", \"terrorist\", \"wait\", \"attack\", \"still\", \"wasnt\", \"whats\", \"break\", \"mean\", \"stupid\", \"isnt\", \"flag\", \"take\", \"happen\", \"god\", \"news\", \"one\", \"though\", \"not\", \"im\", \"see\", \"no\", \"true\", \"poor\", \"racist\", \"follow\", \"bang\", \"leave\", \"worst\", \"couldnt\", \"lot\", \"aussie\", \"forget\", \"horrible\", \"customers\", \"foldedhands\", \"press\", \"quote\", \"woman\", \"proof\", \"crisis\", \"cia\", \"sleep\", \"request\", \"sense\", \"shame\", \"click\", \"unconfirmed\", \"base\", \"anymore\", \"ta\", \"amen\", \"bomb\", \"involve\", \"yes\", \"number\", \"one\", \"world\", \"start\", \"put\", \"situation\", \"thing\", \"wont\", \"report\", \"youre\", \"need\", \"may\", \"come\", \"sorry\", \"hope\", \"hostage\", \"try\", \"not\", \"make\", \"tweet\", \"hostages\", \"guy\", \"people\", \"look\", \"many\", \"actually\", \"source\", \"omg\", \"glad\", \"must\", \"sound\", \"cop\", \"ppl\", \"women\", \"turn\", \"pic\", \"act\", \"falseflag\", \"speculation\", \"lie\", \"ball\", \"funny\", \"terrible\", \"old\", \"alive\", \"else\", \"caf\", \"cap\", \"whole\", \"open\", \"responsible\", \"detail\", \"aware\", \"lol\", \"read\", \"story\", \"another\", \"like\", \"okay\", \"better\", \"even\", \"cant\", \"yeah\", \"report\", \"people\", \"way\", \"could\", \"make\", \"know\", \"not\", \"get\", \"no\", \"time\", \"theyre\", \"head\", \"scary\", \"least\", \"person\", \"ago\", \"hop\", \"terrify\", \"hard\", \"na\", \"nice\", \"arent\", \"picture\", \"gon\", \"lord\", \"n\", \"everything\", \"w\", \"question\", \"damn\", \"rt\", \"answer\", \"choose\", \"bullet\", \"able\", \"bloody\", \"nsw\", \"hrs\", \"ways\", \"rather\", \"everyone\", \"save\", \"new\", \"islam\", \"hell\", \"kill\", \"anyone\", \"way\", \"mad\", \"sad\", \"hope\", \"know\", \"fuck\", \"make\", \"get\", \"need\", \"call\", \"theres\", \"price\", \"taker\", \"agree\", \"wouldnt\", \"facts\", \"hate\", \"sick\", \"fake\", \"surge\", \"idiots\", \"de\", \"death\", \"book\", \"charge\", \"bullshit\", \"sidney\", \"share\", \"prove\", \"finally\", \"cunt\", \"amaze\", \"human\", \"total\", \"pick\", \"s\", \"en\", \"pull\", \"murder\", \"fuck\", \"la\", \"use\", \"word\", \"never\", \"pay\", \"man\", \"bring\", \"get\", \"r\", \"isis\", \"want\"], \"Freq\": [165.0, 185.0, 222.0, 129.0, 159.0, 72.0, 159.0, 120.0, 143.0, 143.0, 82.0, 79.0, 77.0, 76.0, 174.0, 365.0, 56.0, 115.0, 94.0, 64.0, 80.0, 71.0, 121.0, 48.0, 59.0, 172.0, 48.0, 57.0, 125.0, 72.0, 81.97879761186279, 39.327633574444796, 34.84695735671643, 29.46778670139068, 25.457860678943415, 25.12049864542887, 24.3040215075627, 23.681580385457327, 22.772095688540023, 22.4400001981551, 22.099940390935995, 21.007740369591964, 19.42082477900911, 19.264557595112173, 18.673100132415733, 16.678432567989123, 16.447191265374897, 15.763292051870726, 15.266146902034714, 14.781461981335, 14.672248542576218, 14.655012891865574, 13.429722323891019, 12.365603365667246, 12.198187496142229, 11.688743938327537, 11.378213663331806, 11.348900269857412, 10.977691587222298, 10.783394168053045, 38.98529695485423, 72.20185296263256, 30.99799020012043, 149.6722044881806, 108.72802960352819, 40.2511231570029, 56.704496443245255, 76.71650030729505, 48.44787401758193, 172.06858766046798, 86.21248268871346, 34.67201397432114, 48.86930610313477, 23.782529629012913, 24.297661822906814, 41.52087380512784, 43.35047586747254, 60.54105203021389, 35.6925419338564, 44.22302912872623, 35.07137727514815, 40.98355061192754, 40.37851601462232, 33.2309841179852, 33.22499107707104, 27.88720363666803, 27.35179287533045, 25.88430582553283, 79.04924324634064, 46.33570962695073, 37.474459184364896, 35.17157603445711, 34.37363051402994, 34.21846674288035, 26.646551312613372, 25.470532940830886, 24.8890371637155, 23.06168692632738, 22.054526029789834, 24.016326001563357, 19.244495940401865, 18.84719602903507, 18.549824334942606, 17.0016889042984, 15.765738610396703, 15.765171982134119, 15.512516607889067, 14.83534401521504, 13.948689066513674, 13.690109441706147, 13.670910544133166, 13.483009627975754, 12.969880986558557, 12.497557465530146, 12.241824500006015, 12.232828290652156, 12.144802646384697, 12.022853655199869, 172.4153329792038, 70.16295752242745, 36.22113604540244, 61.2620408484657, 23.81313288130143, 86.79722123011793, 81.97464020178764, 96.12051139769018, 44.60630159167405, 32.38141510867838, 98.90500604084308, 80.20529106973528, 37.0125298561374, 22.500925462931896, 21.614899099857812, 33.93738532971278, 44.349032083505456, 53.11654891878902, 41.86651988887594, 46.35662192728194, 27.81757479430382, 27.046228133789413, 29.89132158560516, 26.303357078089284, 31.25857868575586, 30.33498137673012, 28.467552609866463, 76.75144278435799, 58.39195805660177, 57.23905804799884, 49.2231813692171, 48.58080595427012, 44.89579135378801, 29.925112231116692, 29.51770527768242, 27.12134703052496, 26.982906733042025, 23.90601321728274, 23.804962176903306, 21.466466536133957, 20.401079587587958, 19.991236060399004, 19.012694467511754, 18.18616399035116, 17.451480084251447, 16.856417546201286, 16.158081935102327, 14.109567030671723, 13.764374802784868, 13.661993826595936, 47.29120386881428, 12.274018085937636, 12.194431005466347, 11.977098696844662, 11.832633735414843, 11.829573241156943, 11.570887043742875, 57.866708939069824, 34.0982712873445, 39.660463465293965, 88.9408353581115, 80.18579020778847, 32.58580917652792, 43.12624334691825, 28.095716018222255, 44.62868770256734, 60.342298522552, 39.38251016490151, 71.27741385730566, 75.92211451630928, 59.48373574783661, 71.96554782087829, 40.548050583980206, 40.64598640023304, 56.86762613186077, 77.74127405456142, 29.26819618465256, 30.059051544197448, 28.48737171544365, 164.6299149440086, 43.845967830163865, 23.365352770190697, 18.392730796330902, 17.77476714099373, 17.14425299768788, 15.828856776834549, 15.577806340660008, 15.09895903953716, 14.289155116450262, 14.009162288945927, 12.998310734721075, 12.5013520879624, 12.293913961904, 12.241768845349194, 12.071508467952096, 10.979878719016753, 10.710386438198434, 10.49067662974473, 10.359027010810085, 9.91148050804045, 9.788236580541408, 9.709419346611439, 9.36306147087678, 9.278379150705673, 9.246902933648238, 9.222656170531438, 9.136646769728399, 8.73940306340257, 8.725854298943203, 24.932557032636797, 106.65074176774718, 19.93018845319452, 20.437250200396317, 29.08162124007873, 23.047924574285528, 18.07362807211877, 41.6627117220266, 18.115009937647905, 31.51196857576193, 36.387164526677296, 29.486690993426215, 18.722923033409888, 27.60555843482583, 52.079016753215, 37.579350717365735, 33.293581951034184, 30.270271938815423, 33.33939758787001, 30.87391227560792, 16.70189617677646, 35.53747361049724, 24.79839646867506, 21.422608417041037, 17.332547604285615, 30.915021786749243, 27.07783408824483, 19.969442533669127, 18.690647563445587, 18.012956484674824, 16.939136426424078, 15.56653654205329, 15.146672365108671, 17.363892543763175, 14.525702928445567, 14.38669476589011, 14.135317796143536, 13.197805893183142, 13.158457009589663, 12.659311010447071, 12.548868587063632, 12.168912021765077, 12.013587158113515, 11.85536350894737, 11.724449995802104, 11.061435505698359, 10.873937730007812, 10.82545579170861, 10.67015241759753, 10.26874315102718, 10.255978363979652, 10.083272299494434, 9.18483528848635, 8.797546184981199, 8.59700502570042, 27.495685923219835, 11.310334270936968, 49.817439561862116, 16.246582260474234, 81.64676454784897, 35.24967392785337, 15.66677450364116, 25.025182345584387, 37.999619815107565, 22.463584605837035, 17.06498838530176, 45.9796808555677, 32.29372009571597, 32.82945433998343, 17.47180994613974, 26.71736546623096, 14.620375099048065, 28.975986779595168, 25.648818020234692, 17.773658171647465, 33.03463647252517, 23.763523748929703, 16.087796045837564, 16.82279205424341, 16.100442640412428, 16.172480185016507, 71.83022210183985, 47.76766419396985, 29.628465286888442, 26.6862185941752, 26.37785544070542, 25.516186428145232, 24.615138537908653, 24.579567491265983, 22.665598694855696, 16.669255004213962, 16.123808568939086, 16.05343712614924, 15.17430205442204, 14.398355418588446, 13.935874278405011, 13.913926636788764, 12.589372990219898, 12.14758737385355, 12.080499144422209, 12.028406804642364, 11.31272306929378, 11.20967165475546, 11.196790133310163, 10.5944601529647, 9.92897468319191, 9.86568141538523, 9.601286219457931, 9.458372945891426, 9.372189541510847, 9.03010853630308, 54.35248659568786, 34.106335290120406, 24.918098053621232, 25.26313599481662, 88.29204342867553, 16.810736745278522, 25.489381720144817, 23.118638230933243, 26.175154677765075, 19.97320930797599, 28.442054148245024, 29.960526321606675, 18.13834649798718, 18.97072019338175, 21.58425189773244, 22.709549997868805, 24.23067024140063, 21.534656223310293, 19.67153673316944, 16.516959931442496, 47.32011147153014, 32.625285441680425, 29.692051100049436, 28.50359415797822, 27.33454348137185, 24.18995639580941, 22.242678406080024, 22.09195368708563, 21.919068292216654, 21.78314694415584, 21.141112897870663, 18.463001769838346, 18.29000366252294, 17.61473353359542, 15.798614791064997, 14.440870798977226, 13.99424491216978, 13.968283009039197, 13.798716995717715, 13.654073113208458, 11.769979607591821, 11.387810446636255, 10.84841798969656, 10.647701073991772, 10.369099153348028, 10.296820183713603, 10.251783812382369, 10.207089100654391, 9.772907372386092, 9.515577108195679, 41.064601690344055, 23.016181658791854, 22.690835773253397, 21.89794316194369, 23.980175990505714, 33.585640570280034, 21.064629049531444, 22.391525053935702, 13.214140936813633, 16.696530042151114, 25.23384271846155, 25.455339582572098, 18.984853352301688, 19.432196372049575, 20.406161528556137, 15.218976946220323, 55.64093725573054, 29.797907477627504, 29.225853820778312, 24.587705640829217, 22.891288752825066, 21.67396762447427, 21.240041711283638, 18.48514690094633, 16.700023443768842, 16.49466909250213, 16.134573525581732, 15.75933457205718, 13.603940036124584, 13.512491956357298, 13.485601587328091, 12.42719353857829, 12.022436421262313, 11.972534352115177, 11.450724596943449, 11.342289015999564, 10.86295143894499, 10.817213013323597, 10.498651126390996, 10.349968361435188, 9.896812142049319, 9.653247216214915, 9.490067052783406, 9.242929668741244, 9.084052896002188, 8.25630165611483, 57.21628788504687, 12.011062097948486, 32.66446986465639, 18.377274418880063, 20.46583829751018, 15.134827775233298, 22.375105191183597, 12.291364772819101, 24.02280649088737, 12.14695251686946, 12.662777120102325, 11.87992582283611], \"Total\": [165.0, 185.0, 222.0, 129.0, 159.0, 72.0, 159.0, 120.0, 143.0, 143.0, 82.0, 79.0, 77.0, 76.0, 174.0, 365.0, 56.0, 115.0, 94.0, 64.0, 80.0, 71.0, 121.0, 48.0, 59.0, 172.0, 48.0, 57.0, 125.0, 72.0, 82.7096505934186, 40.05854734806498, 35.577761501360655, 30.198562951480177, 26.189254340564847, 25.851452040610308, 25.035054282099914, 24.412241436712478, 23.502600296005756, 23.17103859892016, 22.830635187384782, 21.738262668206925, 20.151452730118102, 19.996050965618096, 19.403804704562813, 17.40880574615586, 17.177653480486544, 16.49553411548002, 16.005167019392314, 15.511851650300537, 15.40300313117069, 15.386123237225156, 14.160762054036296, 13.096721174493902, 12.929177784007612, 12.41978031419269, 12.10975091515218, 12.079877060632501, 11.708987665528774, 11.513905223872113, 43.25561368548846, 94.42884718243526, 37.184865422313365, 222.73199209038117, 174.6942002568294, 53.53072038270874, 82.388607213058, 121.05077765717412, 69.90011069210432, 365.98846515731066, 172.18576626929962, 50.43425247391606, 96.94147063607711, 31.802512780220844, 33.367041932540424, 90.54783881686525, 106.42458125373999, 235.0426334943702, 84.65668200680194, 145.70984351211513, 83.0552514406501, 126.25486625200604, 143.0751498061922, 125.18952962363917, 159.07029587469543, 126.00153160283287, 176.36019934571712, 203.72012816788987, 79.77729864734206, 47.0640585652585, 38.20299557767991, 35.89947757861027, 35.10212441345167, 34.94685819057321, 27.374986064954324, 26.199022428138363, 25.61706640985888, 23.789905128143335, 22.782797432612448, 24.820314248499145, 19.97228099598761, 19.575388266842488, 19.2778709345287, 17.729445476895236, 16.493612635033344, 16.494049649559525, 16.240531034280814, 15.56391948402303, 14.676425393143752, 14.418347664760937, 14.399259003729624, 14.21173888205776, 13.698104250341064, 13.227064900752897, 12.969767133319186, 12.960884716621562, 12.872801533125116, 12.75100499839331, 185.42048012640333, 80.96399325952595, 40.41949052003307, 72.4230927854488, 26.394500139488198, 120.79190172726913, 115.48133371460106, 143.0751498061922, 64.61556206403873, 45.178768274734914, 235.0426334943702, 181.91390569618628, 58.5882532514938, 28.350806749019558, 27.501271404980493, 64.11199206377287, 107.88959903074495, 172.18576626929962, 106.42458125373999, 159.39853423236474, 47.23161383366497, 46.28115604834874, 75.14194067919333, 43.7272100756926, 176.36019934571712, 145.70984351211513, 203.72012816788987, 77.48086307196013, 59.119926529321106, 57.96691349461761, 49.95135399992656, 49.30913263911659, 45.62388614542483, 30.653567855042915, 30.245567550944926, 27.849064691803015, 27.711689036535063, 24.63444716293639, 24.53323593929952, 22.194256331921174, 21.128879712906024, 20.720634867695228, 19.740841867010328, 18.91452597867223, 18.180110293753156, 17.584337472838815, 16.88598019998645, 14.837424344583399, 14.492796912722483, 14.390131443951269, 50.05568579244268, 13.002190717362282, 12.929666174722513, 12.705378916940186, 12.560602848284972, 12.557362103101578, 12.301401362993035, 69.89052802457739, 41.68573698087502, 53.73433661772617, 143.67123942484878, 128.94779814166174, 42.90550730948995, 66.33694941796124, 38.914631082480156, 75.14194067919333, 126.00153160283287, 67.65842427053155, 176.36019934571712, 203.72012816788987, 145.70984351211513, 222.73199209038117, 83.10976640961066, 84.65668200680194, 181.91390569618628, 365.98846515731066, 47.218580010159165, 61.6874296127009, 82.39116762590854, 165.36138567619022, 44.57745647871006, 24.096579878117744, 19.12400387563242, 18.506164001769545, 17.875642588031027, 16.56027455059416, 16.308894712317525, 15.830313789232385, 15.020440334596438, 14.740332438992809, 13.729180233259777, 13.233214658390844, 13.025408252963336, 12.97312291566329, 12.8028992425746, 11.711303402392696, 11.441563940395602, 11.221746918498862, 11.090164656724124, 10.642487213848591, 10.520378612282384, 10.440497220993707, 10.094496822462558, 10.01066934749387, 9.97823843938628, 9.954139248850227, 9.868016444156538, 9.470596318459657, 9.456814724535526, 27.843399662424474, 129.88832003993645, 22.534047304828636, 23.16133049714447, 34.16568608624522, 26.74507777861508, 20.54614322391744, 53.30521487304116, 21.378193596848988, 41.84220934939296, 53.430062937100566, 50.37200146501233, 26.028957292992313, 46.82613307042101, 126.25486625200604, 90.54783881686525, 76.33608195305253, 89.29969674055026, 120.79190172726913, 159.39853423236474, 25.705307692159465, 365.98846515731066, 126.00153160283287, 107.88959903074495, 235.0426334943702, 31.644956200503355, 27.807761801135022, 20.699510896152074, 19.42072357148444, 18.74348942851529, 17.6694743856786, 16.29650027901319, 15.87670127997459, 18.206691536873542, 15.255706509224664, 15.117213173552896, 14.865234512393302, 13.928007573022166, 13.888164662141028, 13.38960895427426, 13.279394351463047, 12.898839090880148, 12.74440086601981, 12.585849417274687, 12.454642438662622, 11.791501801740282, 11.604169878902285, 11.555413939057757, 11.400723580470961, 10.999490089036552, 10.985974434326577, 10.813822488529432, 9.91486761620842, 9.527307979257285, 9.326680964763488, 31.29589474861715, 12.697381207359308, 71.07718718333733, 19.35000664136934, 159.39853423236474, 55.48538822668658, 19.365481972899428, 36.68776366207687, 71.437968263875, 33.816694592087266, 23.99515195466956, 125.18952962363917, 72.32988052996265, 80.94664080865111, 25.205745110748467, 65.56388499327457, 19.614229714976666, 143.67123942484878, 115.48133371460106, 39.22316936618758, 365.98846515731066, 118.74649891229565, 61.6874296127009, 181.91390569618628, 71.67634976760296, 176.36019934571712, 72.56610942908593, 48.49978214312727, 30.36075910072937, 27.41840968383199, 27.10954573413315, 26.248627082575645, 25.34734165321114, 25.31158680131175, 23.397931235810493, 17.401236903446538, 16.856114534958497, 16.785976289238413, 15.906208642875443, 15.13026514859135, 14.668163078946957, 14.64618283796795, 13.321467374462241, 12.880087999274387, 12.812372927861452, 12.76037407667865, 12.044535835512365, 11.941978476710768, 11.92875840890096, 11.327142341264945, 10.660746679008113, 10.59778607844856, 10.333845306571193, 10.190454249427056, 10.104762535363964, 9.762617308450036, 64.03858959543442, 40.21433586120916, 28.975801258117166, 32.95965544041761, 159.07029587469543, 20.85680045233792, 38.77725676509235, 44.37646091231067, 62.7060400728317, 38.69574533698587, 125.18952962363917, 176.36019934571712, 41.158534012073375, 54.36503192282605, 118.74649891229565, 174.6942002568294, 365.98846515731066, 203.72012816788987, 235.0426334943702, 83.0552514406501, 48.050947601637844, 33.35628575519188, 30.422483610811415, 29.23490117787328, 28.06521050053622, 24.92043894884702, 22.973391670880893, 22.822489521460113, 22.649826573354524, 22.513562394481408, 21.87186475606644, 19.193701093070057, 19.020679813760076, 18.345073566978634, 16.528998941878694, 15.171351201250985, 14.724785207141206, 14.6989255945105, 14.529243960688124, 14.384600829198195, 12.500427222808854, 12.124561756991836, 11.578989968381425, 11.378085350676281, 11.100584394337995, 11.02751441526427, 10.982778998723765, 10.937789228033546, 10.503149864324035, 10.246363335708532, 46.41737611732929, 25.606931059322964, 26.566126031535052, 25.97827206192509, 30.3921337919021, 48.113260340677144, 27.998775537347523, 41.158534012073375, 16.68316561802995, 29.979904523558492, 143.67123942484878, 174.6942002568294, 76.826631534775, 118.74649891229565, 203.72012816788987, 80.94664080865111, 56.370354999333316, 30.527595220876012, 29.955038183354038, 25.31736821988277, 23.62053905366739, 22.40324599123528, 21.96935342875618, 19.21463365931797, 17.429484739487005, 17.223730266941175, 16.86368770410622, 16.488561444584313, 14.333881405510239, 14.241600130203313, 14.214699957305285, 13.156389889558826, 12.751493102668823, 12.702507948983854, 12.180160811957153, 12.07159543339214, 11.59237170384987, 11.54619592704034, 11.228279401133282, 11.079702970016571, 10.626051540667133, 10.382837264052942, 10.218857319226572, 9.971833955301241, 9.814094527365667, 8.985409241448657, 76.826631534775, 13.717042949981732, 47.36232249957839, 24.851017476799125, 29.844600386065586, 21.165608897492234, 49.516413313973445, 17.338057947047343, 203.72012816788987, 29.90018483473566, 67.66086492253787, 82.388607213058], \"Category\": [\"Default\", \"Default\", \"Default\", \"Default\", \"Default\", \"Default\", \"Default\", \"Default\", \"Default\", \"Default\", \"Default\", \"Default\", \"Default\", \"Default\", \"Default\", \"Default\", \"Default\", \"Default\", \"Default\", \"Default\", \"Default\", \"Default\", \"Default\", \"Default\", \"Default\", \"Default\", \"Default\", \"Default\", \"Default\", \"Default\", \"Topic1\", \"Topic1\", \"Topic1\", \"Topic1\", \"Topic1\", \"Topic1\", \"Topic1\", \"Topic1\", \"Topic1\", \"Topic1\", \"Topic1\", \"Topic1\", \"Topic1\", \"Topic1\", \"Topic1\", \"Topic1\", \"Topic1\", \"Topic1\", \"Topic1\", \"Topic1\", \"Topic1\", \"Topic1\", \"Topic1\", \"Topic1\", \"Topic1\", \"Topic1\", \"Topic1\", \"Topic1\", \"Topic1\", \"Topic1\", \"Topic1\", \"Topic1\", \"Topic1\", \"Topic1\", \"Topic1\", \"Topic1\", \"Topic1\", \"Topic1\", \"Topic1\", \"Topic1\", \"Topic1\", \"Topic1\", \"Topic1\", \"Topic1\", \"Topic1\", \"Topic1\", \"Topic1\", \"Topic1\", \"Topic1\", \"Topic1\", \"Topic1\", \"Topic1\", \"Topic1\", \"Topic1\", \"Topic1\", \"Topic1\", \"Topic1\", \"Topic1\", \"Topic2\", \"Topic2\", \"Topic2\", \"Topic2\", \"Topic2\", \"Topic2\", \"Topic2\", \"Topic2\", \"Topic2\", \"Topic2\", \"Topic2\", \"Topic2\", \"Topic2\", \"Topic2\", \"Topic2\", \"Topic2\", \"Topic2\", \"Topic2\", \"Topic2\", \"Topic2\", \"Topic2\", \"Topic2\", \"Topic2\", \"Topic2\", \"Topic2\", \"Topic2\", \"Topic2\", \"Topic2\", \"Topic2\", \"Topic2\", \"Topic2\", \"Topic2\", \"Topic2\", \"Topic2\", \"Topic2\", \"Topic2\", \"Topic2\", \"Topic2\", \"Topic2\", \"Topic2\", \"Topic2\", \"Topic2\", \"Topic2\", \"Topic2\", \"Topic2\", \"Topic2\", \"Topic2\", \"Topic2\", \"Topic2\", \"Topic2\", \"Topic2\", \"Topic2\", \"Topic2\", \"Topic2\", \"Topic2\", \"Topic2\", \"Topic2\", \"Topic3\", \"Topic3\", \"Topic3\", \"Topic3\", \"Topic3\", \"Topic3\", \"Topic3\", \"Topic3\", \"Topic3\", \"Topic3\", \"Topic3\", \"Topic3\", \"Topic3\", \"Topic3\", \"Topic3\", \"Topic3\", \"Topic3\", \"Topic3\", \"Topic3\", \"Topic3\", \"Topic3\", \"Topic3\", \"Topic3\", \"Topic3\", \"Topic3\", \"Topic3\", \"Topic3\", \"Topic3\", \"Topic3\", \"Topic3\", \"Topic3\", \"Topic3\", \"Topic3\", \"Topic3\", \"Topic3\", \"Topic3\", \"Topic3\", \"Topic3\", \"Topic3\", \"Topic3\", \"Topic3\", \"Topic3\", \"Topic3\", \"Topic3\", \"Topic3\", \"Topic3\", \"Topic3\", \"Topic3\", \"Topic3\", \"Topic3\", \"Topic3\", \"Topic3\", \"Topic4\", \"Topic4\", \"Topic4\", \"Topic4\", \"Topic4\", \"Topic4\", \"Topic4\", \"Topic4\", \"Topic4\", \"Topic4\", \"Topic4\", \"Topic4\", \"Topic4\", \"Topic4\", \"Topic4\", \"Topic4\", \"Topic4\", \"Topic4\", \"Topic4\", \"Topic4\", \"Topic4\", \"Topic4\", \"Topic4\", \"Topic4\", \"Topic4\", \"Topic4\", \"Topic4\", \"Topic4\", \"Topic4\", \"Topic4\", \"Topic4\", \"Topic4\", \"Topic4\", \"Topic4\", \"Topic4\", \"Topic4\", \"Topic4\", \"Topic4\", \"Topic4\", \"Topic4\", \"Topic4\", \"Topic4\", \"Topic4\", \"Topic4\", \"Topic4\", \"Topic4\", \"Topic4\", \"Topic4\", \"Topic4\", \"Topic4\", \"Topic4\", \"Topic4\", \"Topic4\", \"Topic4\", \"Topic4\", \"Topic5\", \"Topic5\", \"Topic5\", \"Topic5\", \"Topic5\", \"Topic5\", \"Topic5\", \"Topic5\", \"Topic5\", \"Topic5\", \"Topic5\", \"Topic5\", \"Topic5\", \"Topic5\", \"Topic5\", \"Topic5\", \"Topic5\", \"Topic5\", \"Topic5\", \"Topic5\", \"Topic5\", \"Topic5\", \"Topic5\", \"Topic5\", \"Topic5\", \"Topic5\", \"Topic5\", \"Topic5\", \"Topic5\", \"Topic5\", \"Topic5\", \"Topic5\", \"Topic5\", \"Topic5\", \"Topic5\", \"Topic5\", \"Topic5\", \"Topic5\", \"Topic5\", \"Topic5\", \"Topic5\", \"Topic5\", \"Topic5\", \"Topic5\", \"Topic5\", \"Topic5\", \"Topic5\", \"Topic5\", \"Topic5\", \"Topic5\", \"Topic5\", \"Topic5\", \"Topic5\", \"Topic5\", \"Topic5\", \"Topic5\", \"Topic6\", \"Topic6\", \"Topic6\", \"Topic6\", \"Topic6\", \"Topic6\", \"Topic6\", \"Topic6\", \"Topic6\", \"Topic6\", \"Topic6\", \"Topic6\", \"Topic6\", \"Topic6\", \"Topic6\", \"Topic6\", \"Topic6\", \"Topic6\", \"Topic6\", \"Topic6\", \"Topic6\", \"Topic6\", \"Topic6\", \"Topic6\", \"Topic6\", \"Topic6\", \"Topic6\", \"Topic6\", \"Topic6\", \"Topic6\", \"Topic6\", \"Topic6\", \"Topic6\", \"Topic6\", \"Topic6\", \"Topic6\", \"Topic6\", \"Topic6\", \"Topic6\", \"Topic6\", \"Topic6\", \"Topic6\", \"Topic6\", \"Topic6\", \"Topic6\", \"Topic6\", \"Topic6\", \"Topic6\", \"Topic6\", \"Topic6\", \"Topic7\", \"Topic7\", \"Topic7\", \"Topic7\", \"Topic7\", \"Topic7\", \"Topic7\", \"Topic7\", \"Topic7\", \"Topic7\", \"Topic7\", \"Topic7\", \"Topic7\", \"Topic7\", \"Topic7\", \"Topic7\", \"Topic7\", \"Topic7\", \"Topic7\", \"Topic7\", \"Topic7\", \"Topic7\", \"Topic7\", \"Topic7\", \"Topic7\", \"Topic7\", \"Topic7\", \"Topic7\", \"Topic7\", \"Topic7\", \"Topic7\", \"Topic7\", \"Topic7\", \"Topic7\", \"Topic7\", \"Topic7\", \"Topic7\", \"Topic7\", \"Topic7\", \"Topic7\", \"Topic7\", \"Topic7\", \"Topic7\", \"Topic7\", \"Topic7\", \"Topic7\", \"Topic8\", \"Topic8\", \"Topic8\", \"Topic8\", \"Topic8\", \"Topic8\", \"Topic8\", \"Topic8\", \"Topic8\", \"Topic8\", \"Topic8\", \"Topic8\", \"Topic8\", \"Topic8\", \"Topic8\", \"Topic8\", \"Topic8\", \"Topic8\", \"Topic8\", \"Topic8\", \"Topic8\", \"Topic8\", \"Topic8\", \"Topic8\", \"Topic8\", \"Topic8\", \"Topic8\", \"Topic8\", \"Topic8\", \"Topic8\", \"Topic8\", \"Topic8\", \"Topic8\", \"Topic8\", \"Topic8\", \"Topic8\", \"Topic8\", \"Topic8\", \"Topic8\", \"Topic8\", \"Topic8\", \"Topic8\"], \"logprob\": [30.0, 29.0, 28.0, 27.0, 26.0, 25.0, 24.0, 23.0, 22.0, 21.0, 20.0, 19.0, 18.0, 17.0, 16.0, 15.0, 14.0, 13.0, 12.0, 11.0, 10.0, 9.0, 8.0, 7.0, 6.0, 5.0, 4.0, 3.0, 2.0, 1.0, -4.0824, -4.8169, -4.9379, -5.1055, -5.2518, -5.2652, -5.2982, -5.3241, -5.3633, -5.378, -5.3933, -5.444, -5.5225, -5.5306, -5.5618, -5.6747, -5.6887, -5.7312, -5.7632, -5.7955, -5.8029, -5.8041, -5.8914, -5.9739, -5.9876, -6.0302, -6.0571, -6.0597, -6.093, -6.1108, -4.8257, -4.2094, -5.0549, -3.4804, -3.8, -4.7937, -4.451, -4.1487, -4.6084, -3.341, -4.032, -4.9429, -4.5997, -5.3199, -5.2985, -4.7627, -4.7195, -4.3855, -4.9139, -4.6996, -4.9315, -4.7757, -4.7905, -4.9854, -4.9855, -5.1607, -5.1801, -5.2352, -4.1142, -4.6484, -4.8607, -4.9241, -4.947, -4.9515, -5.2017, -5.2468, -5.2699, -5.3461, -5.3908, -5.3056, -5.5271, -5.5479, -5.5639, -5.651, -5.7265, -5.7265, -5.7427, -5.7873, -5.8489, -5.8676, -5.869, -5.8829, -5.9217, -5.9588, -5.9795, -5.9802, -5.9874, -5.9975, -3.3344, -4.2335, -4.8947, -4.3692, -5.3141, -4.0207, -4.0779, -3.9187, -4.6864, -5.0067, -3.8902, -4.0997, -4.8731, -5.3708, -5.4109, -4.9598, -4.6922, -4.5118, -4.7498, -4.6479, -5.1586, -5.1868, -5.0867, -5.2146, -5.042, -5.072, -5.1355, -4.115, -4.3884, -4.4083, -4.5592, -4.5724, -4.6512, -5.0569, -5.0706, -5.1553, -5.1604, -5.2815, -5.2857, -5.3891, -5.44, -5.4603, -5.5105, -5.5549, -5.5962, -5.6309, -5.6732, -5.8087, -5.8335, -5.841, -4.5993, -5.9481, -5.9546, -5.9726, -5.9847, -5.985, -6.0071, -4.3974, -4.9263, -4.7752, -3.9676, -4.0712, -4.9717, -4.6915, -5.12, -4.6572, -4.3556, -4.7823, -4.189, -4.1259, -4.3699, -4.1794, -4.7531, -4.7507, -4.4149, -4.1022, -5.0791, -5.0524, -5.1061, -3.096, -4.419, -5.0484, -5.2877, -5.3219, -5.358, -5.4378, -5.4538, -5.485, -5.5402, -5.5599, -5.6348, -5.6738, -5.6906, -5.6948, -5.7088, -5.8036, -5.8284, -5.8492, -5.8618, -5.906, -5.9185, -5.9266, -5.9629, -5.972, -5.9754, -5.978, -5.9874, -6.0318, -6.0334, -4.9835, -3.5301, -5.2074, -5.1823, -4.8295, -5.0621, -5.3052, -4.47, -5.3029, -4.7493, -4.6054, -4.8157, -5.2699, -4.8816, -4.2469, -4.5732, -4.6943, -4.7895, -4.6929, -4.7697, -5.3841, -4.6291, -4.9889, -5.1352, -5.3471, -4.6693, -4.8018, -5.1064, -5.1725, -5.2095, -5.2709, -5.3554, -5.3828, -5.2462, -5.4246, -5.4343, -5.4519, -5.5205, -5.5235, -5.5622, -5.5709, -5.6017, -5.6145, -5.6278, -5.6389, -5.6971, -5.7142, -5.7187, -5.7331, -5.7715, -5.7727, -5.7897, -5.883, -5.9261, -5.9491, -4.7865, -5.6748, -4.1922, -5.3127, -3.6982, -4.5381, -5.349, -4.8807, -4.463, -4.9887, -5.2635, -4.2724, -4.6257, -4.6092, -5.24, -4.8152, -5.4181, -4.7341, -4.8561, -5.2228, -4.603, -4.9324, -5.3225, -5.2778, -5.3217, -5.3172, -3.8125, -4.2205, -4.6981, -4.8027, -4.8143, -4.8475, -4.8835, -4.8849, -4.966, -5.2733, -5.3065, -5.3109, -5.3672, -5.4197, -5.4524, -5.4539, -5.554, -5.5897, -5.5952, -5.5996, -5.6609, -5.6701, -5.6712, -5.7265, -5.7914, -5.7978, -5.8249, -5.8399, -5.8491, -5.8863, -4.0913, -4.5574, -4.8712, -4.8575, -3.6062, -5.2648, -4.8486, -4.9462, -4.822, -5.0924, -4.739, -4.687, -5.1888, -5.1439, -5.0149, -4.9641, -4.8992, -5.0172, -5.1077, -5.2825, -4.1579, -4.5298, -4.624, -4.6648, -4.7067, -4.8289, -4.9129, -4.9197, -4.9275, -4.9337, -4.9636, -5.0991, -5.1085, -5.1461, -5.2549, -5.3448, -5.3762, -5.3781, -5.3903, -5.4008, -5.5493, -5.5823, -5.6308, -5.6495, -5.676, -5.683, -5.6874, -5.6918, -5.7353, -5.7619, -4.2997, -4.8787, -4.8929, -4.9285, -4.8376, -4.5008, -4.9673, -4.9062, -5.4336, -5.1997, -4.7867, -4.7779, -5.0712, -5.0479, -4.999, -5.2923, -3.968, -4.5925, -4.6119, -4.7847, -4.8562, -4.9108, -4.931, -5.0699, -5.1715, -5.1839, -5.2059, -5.2295, -5.3766, -5.3833, -5.3853, -5.467, -5.5001, -5.5043, -5.5489, -5.5584, -5.6016, -5.6058, -5.6357, -5.6499, -5.6947, -5.7196, -5.7367, -5.7631, -5.7804, -5.8759, -3.9401, -5.5011, -4.5006, -5.0758, -4.9682, -5.2699, -4.879, -5.478, -4.8079, -5.4898, -5.4482, -5.5121], \"loglift\": [30.0, 29.0, 28.0, 27.0, 26.0, 25.0, 24.0, 23.0, 22.0, 21.0, 20.0, 19.0, 18.0, 17.0, 16.0, 15.0, 14.0, 13.0, 12.0, 11.0, 10.0, 9.0, 8.0, 7.0, 6.0, 5.0, 4.0, 3.0, 2.0, 1.0, 1.8296, 1.82, 1.8177, 1.8139, 1.8101, 1.8098, 1.8088, 1.8081, 1.8069, 1.8064, 1.8059, 1.8043, 1.8015, 1.8012, 1.8001, 1.7956, 1.795, 1.793, 1.7912, 1.7902, 1.7898, 1.7898, 1.7854, 1.781, 1.7802, 1.7778, 1.7761, 1.776, 1.7739, 1.7729, 1.7345, 1.5701, 1.6565, 1.4409, 1.3642, 1.5533, 1.4648, 1.3823, 1.4719, 1.0837, 1.1467, 1.4637, 1.1535, 1.5478, 1.5212, 1.0588, 0.9403, 0.482, 0.9748, 0.6461, 0.9763, 0.7133, 0.5734, 0.5121, 0.2724, 0.3303, -0.0253, -0.2247, 1.8338, 1.8274, 1.8237, 1.8225, 1.822, 1.8219, 1.816, 1.8148, 1.8141, 1.8119, 1.8105, 1.81, 1.8059, 1.8051, 1.8045, 1.8011, 1.7978, 1.7978, 1.7971, 1.795, 1.7921, 1.7911, 1.7911, 1.7903, 1.7883, 1.7862, 1.7852, 1.7852, 1.7848, 1.7842, 1.7703, 1.6998, 1.7333, 1.6756, 1.7401, 1.5125, 1.5003, 1.4452, 1.4724, 1.5099, 0.9774, 1.024, 1.3837, 1.6119, 1.6021, 1.2069, 0.954, 0.6669, 0.91, 0.6079, 1.3136, 1.3058, 0.9212, 1.3347, 0.1127, 0.2737, -0.125, 1.8622, 1.8593, 1.8591, 1.857, 1.8568, 1.8556, 1.8476, 1.8473, 1.8452, 1.845, 1.8417, 1.8416, 1.8384, 1.8366, 1.8359, 1.8341, 1.8324, 1.8308, 1.8294, 1.8276, 1.8214, 1.8201, 1.8198, 1.8149, 1.8141, 1.8132, 1.8127, 1.812, 1.812, 1.8105, 1.6829, 1.6708, 1.568, 1.3921, 1.3966, 1.5966, 1.4411, 1.5459, 1.3507, 1.1354, 1.3305, 0.9657, 0.8847, 0.9758, 0.7419, 1.154, 1.138, 0.7089, 0.3225, 1.3934, 1.1528, 0.8097, 2.1232, 2.1111, 2.0968, 2.0886, 2.0873, 2.0859, 2.0825, 2.0818, 2.0803, 2.0777, 2.0768, 2.0729, 2.0707, 2.0698, 2.0696, 2.0688, 2.0631, 2.0616, 2.0603, 2.0594, 2.0565, 2.0555, 2.055, 2.0524, 2.0517, 2.0515, 2.0513, 2.0506, 2.0473, 2.0472, 2.0172, 1.9305, 2.0048, 2.0025, 1.9665, 1.9789, 1.9994, 1.8812, 1.962, 1.8441, 1.7435, 1.5921, 1.7982, 1.5992, 1.2421, 1.2482, 1.2978, 1.0458, 0.8403, 0.4861, 1.6965, -0.2044, 0.5021, 0.511, -0.4796, 2.2034, 2.2001, 2.1908, 2.1884, 2.187, 2.1845, 2.1809, 2.1797, 2.1793, 2.1777, 2.1772, 2.1764, 2.1729, 2.1728, 2.1706, 2.1701, 2.1685, 2.1677, 2.1669, 2.1663, 2.1628, 2.1617, 2.1615, 2.1605, 2.158, 2.158, 2.1568, 2.1502, 2.147, 2.1453, 2.0973, 2.111, 1.8713, 2.0519, 1.5577, 1.7731, 2.0148, 1.8442, 1.5955, 1.8177, 1.8859, 1.2251, 1.4204, 1.3243, 1.8602, 1.329, 1.9329, 0.6257, 0.7221, 1.4352, -0.1783, 0.6179, 0.8827, -0.1541, 0.7334, -0.1625, 2.2303, 2.2252, 2.216, 2.2134, 2.2131, 2.2121, 2.2111, 2.2111, 2.2086, 2.1975, 2.196, 2.1958, 2.1933, 2.1909, 2.1892, 2.1892, 2.1839, 2.1819, 2.1816, 2.1814, 2.1778, 2.1772, 2.1771, 2.1736, 2.1693, 2.1689, 2.1669, 2.1659, 2.1652, 2.1624, 2.0764, 2.0757, 2.0896, 1.9745, 1.6517, 2.0248, 1.8209, 1.5884, 1.3668, 1.5791, 0.7585, 0.4678, 1.421, 1.1876, 0.5354, 0.2002, -0.4745, -0.0066, -0.2401, 0.6253, 2.2971, 2.2903, 2.2881, 2.2871, 2.286, 2.2827, 2.2801, 2.2799, 2.2796, 2.2794, 2.2784, 2.2736, 2.2732, 2.2718, 2.2672, 2.2631, 2.2615, 2.2614, 2.2608, 2.2603, 2.2522, 2.2497, 2.2472, 2.2461, 2.2443, 2.2439, 2.2435, 2.2433, 2.2404, 2.2384, 2.1899, 2.2058, 2.1547, 2.1416, 2.0755, 1.953, 2.0279, 1.7037, 2.0793, 1.7271, 0.5731, 0.3863, 0.9145, 0.5024, 0.0115, 0.6412, 2.3273, 2.3162, 2.3157, 2.3111, 2.309, 2.3073, 2.3066, 2.3017, 2.2976, 2.2971, 2.2962, 2.2951, 2.2881, 2.2878, 2.2877, 2.2833, 2.2815, 2.2812, 2.2786, 2.2781, 2.2754, 2.2752, 2.2732, 2.2722, 2.2693, 2.2675, 2.2664, 2.2645, 2.2631, 2.2557, 2.0457, 2.2076, 1.9688, 2.0386, 1.9631, 2.005, 1.546, 1.9964, 0.2026, 1.4396, 0.6645, 0.4038]}, \"token.table\": {\"Topic\": [1, 7, 6, 1, 6, 7, 8, 1, 6, 4, 6, 8, 5, 4, 6, 8, 7, 5, 3, 7, 1, 2, 7, 4, 8, 3, 1, 1, 3, 4, 5, 1, 2, 4, 5, 6, 1, 2, 6, 3, 1, 6, 5, 5, 4, 3, 3, 6, 4, 3, 1, 7, 5, 8, 8, 2, 4, 2, 7, 8, 2, 7, 8, 2, 1, 6, 1, 2, 8, 4, 2, 3, 5, 6, 6, 2, 4, 3, 4, 2, 8, 1, 7, 8, 7, 5, 2, 1, 5, 3, 1, 2, 5, 6, 1, 2, 6, 4, 3, 4, 5, 6, 7, 5, 5, 8, 5, 7, 8, 1, 8, 3, 6, 3, 1, 1, 3, 6, 2, 3, 4, 4, 6, 8, 2, 3, 3, 6, 2, 6, 7, 7, 4, 3, 1, 8, 4, 8, 6, 1, 8, 1, 1, 3, 4, 5, 6, 2, 4, 5, 5, 1, 5, 2, 6, 3, 7, 8, 6, 1, 1, 2, 3, 4, 5, 6, 7, 8, 6, 1, 2, 3, 8, 1, 2, 3, 4, 7, 7, 2, 3, 4, 6, 7, 3, 4, 1, 2, 3, 5, 7, 1, 2, 3, 4, 5, 7, 8, 3, 7, 3, 4, 8, 3, 4, 7, 3, 5, 7, 1, 6, 2, 3, 4, 3, 7, 3, 5, 7, 5, 2, 4, 5, 1, 2, 3, 5, 7, 2, 7, 8, 3, 8, 2, 1, 3, 4, 5, 7, 2, 1, 1, 5, 8, 1, 3, 4, 5, 8, 4, 7, 1, 1, 4, 6, 1, 1, 5, 7, 1, 4, 5, 6, 7, 5, 8, 4, 7, 5, 3, 6, 1, 2, 3, 4, 5, 6, 1, 2, 6, 7, 4, 1, 2, 3, 5, 8, 5, 6, 6, 7, 5, 2, 7, 8, 2, 3, 4, 5, 6, 7, 8, 2, 3, 7, 8, 6, 2, 2, 1, 5, 3, 4, 7, 2, 5, 4, 4, 2, 4, 6, 8, 1, 6, 7, 7, 1, 4, 1, 3, 4, 5, 7, 1, 8, 5, 7, 2, 4, 7, 1, 2, 3, 4, 5, 6, 8, 1, 2, 3, 4, 5, 6, 7, 7, 5, 6, 2, 3, 8, 1, 6, 6, 6, 2, 4, 5, 3, 6, 2, 4, 5, 8, 4, 5, 3, 1, 2, 3, 5, 6, 7, 6, 8, 7, 2, 4, 2, 1, 2, 3, 2, 1, 2, 7, 5, 2, 6, 3, 2, 4, 5, 8, 3, 5, 1, 8, 4, 8, 1, 5, 6, 7, 5, 1, 7, 8, 5, 7, 1, 5, 6, 2, 3, 5, 2, 3, 4, 1, 2, 3, 5, 6, 5, 6, 1, 2, 3, 4, 5, 6, 8, 7, 3, 6, 8, 2, 7, 3, 1, 7, 2, 1, 2, 3, 4, 6, 3, 7, 2, 1, 2, 3, 4, 7, 5, 4, 4, 5, 8, 3, 2, 3, 1, 2, 3, 1, 2, 4, 6, 8, 8, 2, 5, 6, 4, 5, 2, 5, 8, 6, 6, 6, 4, 3, 5, 1, 3, 4, 6, 1, 2, 8, 5, 6, 1, 4, 3, 4, 8, 4, 2, 3, 6, 4, 5, 1, 2, 4, 7, 8, 1, 3, 6, 7, 2, 4, 1, 5, 2, 4, 1, 3, 8, 7, 1, 5, 6, 1, 2, 3, 3, 4, 1, 3, 5, 6, 8, 8, 5, 2, 4, 5, 7, 8, 6, 1, 3, 5, 6, 2, 3, 4, 1, 5, 2, 4, 3, 7, 8, 3, 7, 8, 2, 2, 4, 7, 4, 6, 2, 1, 5, 8, 4, 5, 2, 3, 4, 6, 7, 7, 1, 2, 3, 4, 5, 6, 4, 8, 6, 5, 6, 1, 5, 3, 6, 8, 1, 2, 3, 8, 2, 3, 5, 6, 3, 5, 1, 2, 4, 7, 8, 3, 3, 2, 1, 2, 5, 6, 4, 2, 5, 3, 4, 5], \"Freq\": [0.9394492772747527, 0.9008534726424527, 0.9252977302452244, 0.9749044492058292, 0.9881175862720539, 0.9630648982252535, 0.9737288360668872, 0.95536655775083, 0.9211204007319379, 0.8875458424956073, 0.08875458424956073, 0.8906084042574404, 0.9649735027929335, 0.904146483689141, 0.7585030749242334, 0.21238086097878536, 0.9072492862396995, 0.9077277023131572, 0.2142950855831752, 0.7500327995411132, 0.9494611087923036, 0.9656408553458886, 0.9378076647499191, 0.8978788618883444, 0.07183030895106755, 0.9743180924267455, 0.9603105964543446, 0.9281332657396875, 0.09734186986839612, 0.876076828815565, 0.9832386321098897, 0.09358623569256336, 0.5303220022578591, 0.10918394164132392, 0.18717247138512672, 0.0779885297438028, 0.17636182434818765, 0.8112643920016631, 0.9218839288322864, 0.9465717194548428, 0.9586558003654908, 0.9316706532343593, 0.9603334570464672, 0.9247423850916103, 0.9823765680213636, 0.9742455286802237, 0.33524805735362695, 0.6447078026031288, 0.9249893088973685, 0.9754986156374219, 0.973836067698049, 0.9068226640590934, 0.8627329628015518, 0.09585921808906131, 0.9145462119528579, 0.2994568810228741, 0.6737779823014668, 0.11535317312401752, 0.11535317312401752, 0.6921190387441052, 0.9669498846676066, 0.966770740504789, 0.9410662659958198, 0.9490364332477844, 0.9660385616148311, 0.9711187224978042, 0.12351169448801161, 0.8645818614160813, 0.9934299686539548, 0.9212763060436089, 0.15947427055488145, 0.3189485411097629, 0.09568456233292887, 0.4146331034426918, 0.9380206003478933, 0.954234077571895, 0.9372877012181233, 0.9624716173706666, 0.9505361326373891, 0.9855860154125732, 0.9121043159053412, 0.719272629816027, 0.14984846454500564, 0.08990907872700338, 0.9499965048797465, 0.9634961468463127, 0.9706065463939174, 0.9371973426972412, 0.9091330524464251, 0.9782647531447193, 0.13727069408597742, 0.320298286200614, 0.4118120822579323, 0.13727069408597742, 0.747234479828159, 0.2428512059441517, 0.9829928880549295, 0.939263515088562, 0.12875923645068138, 0.27591264953717437, 0.12875923645068138, 0.34948935608042087, 0.12875923645068138, 0.9447806402278047, 0.953451737912057, 0.9526947290266234, 0.9333711180040088, 0.9732630169050278, 0.9767068391271964, 0.9735749941487554, 0.9830356049885903, 0.9786788977343988, 0.8906691244353748, 0.9444818669674071, 0.9428600634634566, 0.6734551179299485, 0.32325845660637526, 0.004489700786199657, 0.9321980121514988, 0.9728889589736683, 0.9510147630375352, 0.9503097479149869, 0.9221412340610451, 0.9025421041247289, 0.39924441302468183, 0.5988666195370227, 0.4732238571592422, 0.5182927959363129, 0.9863018719328451, 0.1077182817779594, 0.8832899105792672, 0.9507778757418003, 0.9412254942562204, 0.9435599922779649, 0.9636175174029431, 0.9558770160487577, 0.9661675566499556, 0.9289509155116082, 0.954448074012351, 0.9545899885082716, 0.9488998697606339, 0.9083588983020603, 0.32473995828535884, 0.08712535466192554, 0.4118653129472844, 0.11088681502426886, 0.06336389429958221, 0.9851894600137707, 0.9019628118401181, 0.9360488096341373, 0.9783363596142117, 0.9765173009500591, 0.9260966184225392, 0.7082973091565047, 0.26561149093368924, 0.9553681574796773, 0.24731007491067458, 0.7419302247320237, 0.9365946548359604, 0.9162598668871574, 0.12762607324973246, 0.1374434634997119, 0.373060829499218, 0.014726085374969132, 0.024543475624948553, 0.10799129274977363, 0.09817390249979421, 0.11780868299975306, 0.990527996691275, 0.3019699900806056, 0.2058886296004129, 0.40491430488081204, 0.0754924975201514, 0.14557720210148045, 0.2687579115719639, 0.16797369473247745, 0.3359473894649549, 0.08958597052398797, 0.9811898510126571, 0.10857106675539845, 0.620406095745134, 0.0930609143617701, 0.0930609143617701, 0.08530583816495592, 0.9937307224327171, 0.987045997588807, 0.29298366990072094, 0.055806413314423035, 0.3069352732293267, 0.22322565325769214, 0.11161282662884607, 0.9786151196175866, 0.1964994746419544, 0.2357993695703453, 0.43229884421229975, 0.11789968478517265, 0.9713098653868287, 0.9367860100351723, 0.9350878363945541, 0.9893187821387931, 0.6141650171131914, 0.232959144422245, 0.12706862423031545, 0.9475316096848698, 0.19741950470087372, 0.7896780188034949, 0.8156266978222994, 0.0959560820967411, 0.07196706157255582, 0.9016170775790854, 0.09247354641836773, 0.5833907859128192, 0.15124946301443462, 0.2592847937390308, 0.9918808747585477, 0.9576296053788749, 0.619469842094276, 0.20184972382847197, 0.1740083826107517, 0.9417947620219549, 0.7100714666376615, 0.060615856908093055, 0.22514461137291705, 0.10994211752784817, 0.4397684701113927, 0.31333503495436726, 0.09345079989867094, 0.03847974113474686, 0.951318480038262, 0.9142615378224703, 0.9025512711903543, 0.9556147144180931, 0.9703696743814615, 0.9072307492281941, 0.2222195210154928, 0.47618468789034174, 0.19841028662097573, 0.07142770318355125, 0.03174564585935612, 0.9667966255481666, 0.9699594986127189, 0.9180296900966965, 0.8663203711348354, 0.07875639737589413, 0.3399306235049131, 0.3842694004838148, 0.01477959232630057, 0.07389796163150285, 0.1921347002419074, 0.11548112179473759, 0.8468615598280756, 0.9670636667034117, 0.3203339463765193, 0.5979566999028361, 0.06406678927530386, 0.9501876161782774, 0.9670025434848315, 0.290980072871174, 0.7066658912585654, 0.6239474455348372, 0.07441575038488885, 0.022897153964581182, 0.1316586352963418, 0.14310721227863238, 0.07290200983159653, 0.8748241179791583, 0.9320632210597669, 0.9919650428628414, 0.9621112450169303, 0.9810566995754694, 0.9758684711356569, 0.20745545117986777, 0.08172487470722063, 0.012573057647264713, 0.044005701765426494, 0.09429793235448534, 0.5532145364796474, 0.2058215007182218, 0.5945954465193075, 0.1143452781767899, 0.06860716690607394, 0.949775051406955, 0.4040419938085393, 0.3946456683711314, 0.13154855612371047, 0.03758530174963157, 0.02818897631222367, 0.1405402595038047, 0.8432415570228281, 0.9921987077226574, 0.9679957059868644, 0.9337226351954356, 0.9773912705853217, 0.77922861270109, 0.17982198754640538, 0.12631951373217976, 0.15158341647861573, 0.11789821281670111, 0.20211122197148762, 0.18526862014053033, 0.16000471739409436, 0.058949106408350556, 0.2625392093237784, 0.18175791414723116, 0.10097661897068398, 0.4442971234710095, 0.9896951672555483, 0.9588568363378404, 0.9709850480451795, 0.2777144642716789, 0.6744494132312202, 0.2779321764636293, 0.5757166512460892, 0.13896608823181464, 0.8422727841893004, 0.13807750560480336, 0.9475491262973476, 0.9544923020750528, 0.5928232750760386, 0.14820581876900965, 0.25406711788973085, 0.890332291499526, 0.9791894058556537, 0.9862967226321686, 0.9227918999624504, 0.9771887546944905, 0.9837605999652744, 0.9016998673628221, 0.29649161176105304, 0.03706145147013163, 0.061769085783552724, 0.40767596617144797, 0.18530725735065817, 0.3015620877337024, 0.670137972741561, 0.1129257610401637, 0.8657641679745884, 0.7202469599032688, 0.27319712272192953, 0.9601376121428047, 0.2595273848540379, 0.4212001819762255, 0.08934549314647207, 0.07232730397571549, 0.055309114804958905, 0.08509094585378293, 0.017018189170756585, 0.46996016643877087, 0.0519142044321898, 0.21312147082688446, 0.09836375576625436, 0.0901667761190665, 0.06557583717750291, 0.013661632745313106, 0.9105163639514219, 0.8268731012108701, 0.10335913765135876, 0.9902566436753125, 0.7691320315119774, 0.2330703125793871, 0.14383797777878812, 0.8150818740797994, 0.9132772030589479, 0.9590717695894055, 0.2885848368777536, 0.19448108572196438, 0.5144338396516477, 0.9667694348029093, 0.9676939903136633, 0.9700724973990911, 0.09449291110339689, 0.14173936665509534, 0.7086968332754767, 0.8635082514998771, 0.08635082514998771, 0.9516495428062306, 0.15309576707311479, 0.175776621454317, 0.4025851652663389, 0.09072341752480877, 0.17010640785901643, 0.9620451626216783, 0.9430279921996784, 0.963127875905521, 0.9463384156742027, 0.8906594204139548, 0.09896215782377277, 0.9147367614819061, 0.42524699936984883, 0.09449933319329974, 0.4843090826156612, 0.9685104385274238, 0.279573357457137, 0.6709760578971289, 0.041936003618570555, 0.97095193036708, 0.972905770658702, 0.9769420469548882, 0.9833195622066822, 0.9749445496347223, 0.9468882904244135, 0.9709021409359465, 0.9681176108837427, 0.9659971145880143, 0.9415899677163645, 0.9106052938111641, 0.9112300077230951, 0.9726488967826533, 0.9170484322220821, 0.19079931021349517, 0.6814261079053399, 0.10902817726485438, 0.9635738816059457, 0.9789603091776347, 0.4013353116820653, 0.20066765584103266, 0.4013353116820653, 0.9662064046024339, 0.9759560218941332, 0.9314427036367724, 0.12433377035633235, 0.84546963842306, 0.10015663349314533, 0.8298692489432041, 0.07154045249510381, 0.9637675146930749, 0.9863254492737378, 0.8990407821484098, 0.2636003194453149, 0.12780621548863752, 0.007987888468039845, 0.3674428695298329, 0.22366087710511567, 0.9479351056381262, 0.8831794716615319, 0.1577839029909809, 0.03641166992099559, 0.3398422525959589, 0.10923500976298679, 0.12137223306998532, 0.09709778645598825, 0.12137223306998532, 0.9599671904096404, 0.9389542717462075, 0.03995550092537053, 0.8807246954184088, 0.4336237958924945, 0.5670465023209543, 0.9937937827110479, 0.07810385381077678, 0.8981943188239329, 0.9686023443917452, 0.49946056438541764, 0.3078070920049667, 0.06388449079348366, 0.09873057668083837, 0.029038404906128933, 0.9229213953903921, 0.9861127836827472, 0.9411022897028164, 0.166837212870451, 0.40782429812776916, 0.21318088311224295, 0.19464341501552618, 0.00926873404835839, 0.9519347431440395, 0.9578087890193623, 0.9614070294326971, 0.9648510397044108, 0.9031079449461291, 0.9280982074742185, 0.6315259108540947, 0.35843362507935106, 0.6866941915361218, 0.21459193485503805, 0.08583677394201522, 0.6939728117929683, 0.1982779462265624, 0.05948338386796872, 0.03965558924531248, 0.9753587242591288, 0.9446953348263757, 0.3499539615636309, 0.531930021576719, 0.11198526770036189, 0.9516946521802601, 0.9328752337871444, 0.9252286395468223, 0.7647509088030401, 0.2039335756808107, 0.9876899538635167, 0.9847398266837221, 0.9558804607919531, 0.9120373938299886, 0.15491481204538468, 0.8262123309087183, 0.9662006651025069, 0.9461907479998093, 0.7879154056508885, 0.20635879671808985, 0.12380918380113165, 0.6964266588813655, 0.170237627726556, 0.10353466926681076, 0.8627889105567563, 0.26893124919316636, 0.7299562478100229, 0.7444029742949239, 0.24193096664585026, 0.9487841734702004, 0.8911268515167783, 0.9276213710737108, 0.0053931475062425046, 0.05932462256866755, 0.9978145703441438, 0.9446529932269081, 0.4638432076213968, 0.033131657687242626, 0.4196676640384066, 0.08835108716598034, 0.9874644071561306, 0.8336725075626591, 0.16135596920567596, 0.9404113020425993, 0.9639614459813106, 0.11707653081816383, 0.8488048484316878, 0.7546573494320388, 0.22010839358434464, 0.1770751980850029, 0.8237846171780571, 0.7624788626392629, 0.2329796524731081, 0.9827174326356627, 0.9781284729210622, 0.20699835050223753, 0.6505662444356036, 0.1182847717155643, 0.6360966983464609, 0.17348091773085297, 0.18174191381327454, 0.3112197720333116, 0.6613420155707872, 0.42140622528860106, 0.12040177865388602, 0.1565223122500518, 0.2046830237116062, 0.0963214229231088, 0.9410833329509875, 0.9796189889972704, 0.9722722534801125, 0.20396108038368818, 0.4589124308632984, 0.17846594533572716, 0.15297081028776613, 0.9531766114943039, 0.9831133311629252, 0.4863227433587744, 0.25937212979134633, 0.2431613716793872, 0.909280337690281, 0.07577336147419009, 0.8915749004916171, 0.9914199783419824, 0.9102515265968744, 0.7999630153832011, 0.18180977622345482, 0.6482058698399752, 0.22611832668836346, 0.1205964409004605, 0.16891063566553804, 0.12668297674915352, 0.6967563721203444, 0.9759119018553429, 0.9258627217485174, 0.9396299754992845, 0.9524505658582609, 0.8599713259533094, 0.11217017295043165, 0.9700467950529833, 0.691843228428383, 0.15778880648366628, 0.14565120598492273, 0.841979464656597, 0.1403299107760995, 0.29560250945292776, 0.5764248934332091, 0.10346087830852471, 0.43733336067606077, 0.5345185519374076, 0.952095336082647, 0.26471016524787105, 0.10829052214685635, 0.4933234897801233, 0.048129120954158375, 0.07219368143123756, 0.012032280238539594, 0.7647779717555534, 0.23899311617361044, 0.9435933058071245, 0.9303162800506866, 0.9492104462637003, 0.2500505106754439, 0.7084764469137578, 0.12071940325183046, 0.12071940325183046, 0.7243164195109828, 0.15418365363101882, 0.10278910242067922, 0.7195237169447546, 0.025697275605169805, 0.16220486668004075, 0.18022762964448974, 0.6307967037557141, 0.018022762964448973, 0.9652213905463513, 0.9818058924347685, 0.5054596312443859, 0.17536354553376654, 0.17536354553376654, 0.14441703749839596, 0.9820005551252242, 0.9695119135525968, 0.9809543901467024, 0.953910753127955, 0.2584263441087379, 0.12921317205436894, 0.07752790323262136, 0.5168526882174758, 0.9810597396226841, 0.29545344761368164, 0.7034605895563849, 0.3318130739903269, 0.2073831712439543, 0.4424174319871025], \"Term\": [\"abbott\", \"able\", \"act\", \"action\", \"actually\", \"ago\", \"agree\", \"air\", \"alive\", \"already\", \"already\", \"amaze\", \"amen\", \"america\", \"another\", \"another\", \"answer\", \"anymore\", \"anyone\", \"anyone\", \"anything\", \"apparently\", \"arent\", \"arm\", \"arm\", \"around\", \"ask\", \"ass\", \"attack\", \"attack\", \"aussie\", \"australia\", \"australia\", \"australia\", \"australia\", \"australia\", \"australian\", \"australian\", \"aware\", \"away\", \"back\", \"ball\", \"bang\", \"base\", \"bastard\", \"best\", \"better\", \"better\", \"bite\", \"blame\", \"bless\", \"bloody\", \"bomb\", \"bomb\", \"book\", \"break\", \"break\", \"bring\", \"bring\", \"bring\", \"build\", \"bullet\", \"bullshit\", \"business\", \"buy\", \"caf\", \"cafe\", \"cafe\", \"call\", \"calm\", \"cant\", \"cant\", \"cant\", \"cant\", \"cap\", \"care\", \"case\", \"cause\", \"change\", \"channel\", \"charge\", \"chocolate\", \"chocolate\", \"chocolate\", \"choose\", \"cia\", \"clear\", \"clearly\", \"click\", \"cnn\", \"come\", \"come\", \"come\", \"come\", \"confirm\", \"confirm\", \"cop\", \"correct\", \"could\", \"could\", \"could\", \"could\", \"could\", \"couldnt\", \"crisis\", \"cunt\", \"customers\", \"damn\", \"de\", \"dead\", \"death\", \"demand\", \"detail\", \"disgust\", \"do\", \"dont\", \"dont\", \"dont\", \"drama\", \"drivers\", \"dude\", \"earlier\", \"else\", \"en\", \"escape\", \"escape\", \"even\", \"even\", \"ever\", \"everyone\", \"everyone\", \"everything\", \"exactly\", \"explain\", \"eye\", \"facts\", \"fail\", \"fake\", \"falseflag\", \"families\", \"finally\", \"fire\", \"flag\", \"flag\", \"flag\", \"flag\", \"flag\", \"flee\", \"focus\", \"foldedhands\", \"follow\", \"followers\", \"forget\", \"free\", \"free\", \"friends\", \"fuck\", \"fuck\", \"funny\", \"game\", \"get\", \"get\", \"get\", \"get\", \"get\", \"get\", \"get\", \"get\", \"glad\", \"go\", \"go\", \"go\", \"go\", \"god\", \"god\", \"god\", \"god\", \"god\", \"gon\", \"good\", \"good\", \"good\", \"good\", \"good\", \"gun\", \"gunman\", \"guy\", \"guy\", \"guy\", \"guy\", \"guy\", \"hadley\", \"happen\", \"happen\", \"happen\", \"happen\", \"hard\", \"hate\", \"havent\", \"head\", \"hear\", \"hear\", \"hear\", \"heart\", \"hell\", \"hell\", \"help\", \"help\", \"help\", \"hes\", \"hes\", \"hold\", \"hold\", \"hold\", \"home\", \"hop\", \"hope\", \"hope\", \"hope\", \"horrible\", \"hostage\", \"hostage\", \"hostage\", \"hostages\", \"hostages\", \"hostages\", \"hostages\", \"hostages\", \"house\", \"hrs\", \"human\", \"hurt\", \"idiots\", \"ignorant\", \"im\", \"im\", \"im\", \"im\", \"im\", \"image\", \"injure\", \"interest\", \"involve\", \"involve\", \"isis\", \"isis\", \"isis\", \"isis\", \"isis\", \"islam\", \"islam\", \"islamic\", \"isnt\", \"isnt\", \"isnt\", \"ive\", \"k\", \"kill\", \"kill\", \"know\", \"know\", \"know\", \"know\", \"know\", \"la\", \"la\", \"last\", \"least\", \"leave\", \"let\", \"lie\", \"like\", \"like\", \"like\", \"like\", \"like\", \"like\", \"lindt\", \"lindt\", \"lindt\", \"lindt\", \"listen\", \"live\", \"live\", \"live\", \"live\", \"live\", \"lol\", \"lol\", \"look\", \"lord\", \"lot\", \"love\", \"mad\", \"mad\", \"make\", \"make\", \"make\", \"make\", \"make\", \"make\", \"make\", \"man\", \"man\", \"man\", \"man\", \"many\", \"martin\", \"martinplace\", \"may\", \"may\", \"mean\", \"mean\", \"mean\", \"media\", \"media\", \"mind\", \"mt\", \"much\", \"much\", \"much\", \"murder\", \"muslim\", \"must\", \"n\", \"na\", \"name\", \"near\", \"need\", \"need\", \"need\", \"need\", \"need\", \"never\", \"never\", \"new\", \"new\", \"news\", \"news\", \"nice\", \"no\", \"no\", \"no\", \"no\", \"no\", \"no\", \"no\", \"not\", \"not\", \"not\", \"not\", \"not\", \"not\", \"not\", \"nsw\", \"number\", \"number\", \"oh\", \"ok\", \"ok\", \"okay\", \"okay\", \"old\", \"omg\", \"one\", \"one\", \"one\", \"ones\", \"open\", \"opera\", \"pay\", \"pay\", \"pay\", \"peace\", \"peace\", \"peaceful\", \"people\", \"people\", \"people\", \"people\", \"people\", \"person\", \"pic\", \"pick\", \"picture\", \"place\", \"place\", \"plan\", \"please\", \"please\", \"please\", \"point\", \"police\", \"police\", \"police\", \"poor\", \"post\", \"ppl\", \"pray\", \"prayers\", \"prayforsydney\", \"press\", \"price\", \"problem\", \"proof\", \"protect\", \"prove\", \"public\", \"pull\", \"put\", \"put\", \"put\", \"question\", \"quote\", \"r\", \"r\", \"r\", \"racist\", \"rather\", \"ray\", \"read\", \"read\", \"really\", \"really\", \"really\", \"reason\", \"release\", \"remain\", \"report\", \"report\", \"report\", \"report\", \"report\", \"request\", \"responsible\", \"right\", \"right\", \"right\", \"right\", \"right\", \"right\", \"right\", \"rt\", \"run\", \"run\", \"s\", \"sad\", \"sad\", \"safe\", \"save\", \"save\", \"saw\", \"say\", \"say\", \"say\", \"say\", \"say\", \"scar\", \"scary\", \"security\", \"see\", \"see\", \"see\", \"see\", \"see\", \"sense\", \"seriously\", \"service\", \"shame\", \"share\", \"shes\", \"shit\", \"shit\", \"shoot\", \"shoot\", \"shoot\", \"show\", \"show\", \"show\", \"show\", \"sick\", \"sidney\", \"situation\", \"situation\", \"situation\", \"sky\", \"sleep\", \"social\", \"sorry\", \"sorry\", \"sound\", \"source\", \"speculation\", \"spell\", \"start\", \"start\", \"state\", \"stay\", \"still\", \"still\", \"stop\", \"stop\", \"stop\", \"story\", \"story\", \"stupid\", \"stupid\", \"sure\", \"sure\", \"surge\", \"suspect\", \"sydney\", \"sydney\", \"sydney\", \"sydneysiege\", \"ta\", \"take\", \"take\", \"take\", \"take\", \"taker\", \"talk\", \"talk\", \"terrible\", \"terrify\", \"terrorist\", \"terrorist\", \"terrorists\", \"terrorists\", \"thank\", \"thank\", \"thats\", \"thats\", \"theres\", \"theyre\", \"thing\", \"thing\", \"thing\", \"think\", \"think\", \"think\", \"though\", \"though\", \"time\", \"time\", \"time\", \"time\", \"time\", \"total\", \"true\", \"truth\", \"try\", \"try\", \"try\", \"try\", \"turn\", \"tv\", \"tweet\", \"tweet\", \"tweet\", \"twitter\", \"twitter\", \"type\", \"u\", \"unconfirmed\", \"update\", \"update\", \"us\", \"us\", \"us\", \"use\", \"use\", \"use\", \"via\", \"victims\", \"view\", \"w\", \"wait\", \"wait\", \"wake\", \"want\", \"want\", \"want\", \"wasnt\", \"wasnt\", \"watch\", \"watch\", \"watch\", \"way\", \"way\", \"ways\", \"well\", \"well\", \"well\", \"well\", \"well\", \"well\", \"whats\", \"whats\", \"whole\", \"woman\", \"women\", \"wont\", \"wont\", \"word\", \"word\", \"word\", \"work\", \"work\", \"work\", \"work\", \"world\", \"world\", \"world\", \"world\", \"worry\", \"worst\", \"would\", \"would\", \"would\", \"would\", \"wouldnt\", \"wow\", \"wrong\", \"wtf\", \"yeah\", \"yeah\", \"yeah\", \"yeah\", \"yep\", \"yes\", \"yes\", \"youre\", \"youre\", \"youre\"]}, \"R\": 30, \"lambda.step\": 0.01, \"plot.opts\": {\"xlab\": \"PC1\", \"ylab\": \"PC2\"}, \"topic.order\": [2, 6, 8, 3, 5, 4, 7, 1]};\n",
       "\n",
       "function LDAvis_load_lib(url, callback){\n",
       "  var s = document.createElement('script');\n",
       "  s.src = url;\n",
       "  s.async = true;\n",
       "  s.onreadystatechange = s.onload = callback;\n",
       "  s.onerror = function(){console.warn(\"failed to load library \" + url);};\n",
       "  document.getElementsByTagName(\"head\")[0].appendChild(s);\n",
       "}\n",
       "\n",
       "if(typeof(LDAvis) !== \"undefined\"){\n",
       "   // already loaded: just create the visualization\n",
       "   !function(LDAvis){\n",
       "       new LDAvis(\"#\" + \"ldavis_el112802154358155968524912476\", ldavis_el112802154358155968524912476_data);\n",
       "   }(LDAvis);\n",
       "}else if(typeof define === \"function\" && define.amd){\n",
       "   // require.js is available: use it to load d3/LDAvis\n",
       "   require.config({paths: {d3: \"https://d3js.org/d3.v5\"}});\n",
       "   require([\"d3\"], function(d3){\n",
       "      window.d3 = d3;\n",
       "      LDAvis_load_lib(\"https://cdn.jsdelivr.net/gh/bmabey/pyLDAvis@3.3.1/pyLDAvis/js/ldavis.v3.0.0.js\", function(){\n",
       "        new LDAvis(\"#\" + \"ldavis_el112802154358155968524912476\", ldavis_el112802154358155968524912476_data);\n",
       "      });\n",
       "    });\n",
       "}else{\n",
       "    // require.js not available: dynamically load d3 & LDAvis\n",
       "    LDAvis_load_lib(\"https://d3js.org/d3.v5.js\", function(){\n",
       "         LDAvis_load_lib(\"https://cdn.jsdelivr.net/gh/bmabey/pyLDAvis@3.3.1/pyLDAvis/js/ldavis.v3.0.0.js\", function(){\n",
       "                 new LDAvis(\"#\" + \"ldavis_el112802154358155968524912476\", ldavis_el112802154358155968524912476_data);\n",
       "            })\n",
       "         });\n",
       "}\n",
       "</script>"
      ],
      "text/plain": [
       "<IPython.core.display.HTML object>"
      ]
     },
     "execution_count": 77,
     "metadata": {},
     "output_type": "execute_result"
    }
   ],
   "source": [
    "nontarget_topics = pyLDAvis.gensim_models.prepare(lda_model_nontarget,corpus_nontarget,id2word_non)\n",
    "pyLDAvis.display(nontarget_topics)"
   ]
  },
  {
   "cell_type": "code",
   "execution_count": 78,
   "metadata": {
    "id": "JgxB6cfC4cwa",
    "outputId": "2ee7dd01-46f9-47cc-bc57-d611775184ea"
   },
   "outputs": [
    {
     "name": "stderr",
     "output_type": "stream",
     "text": [
      "c:\\users\\user\\appdata\\local\\programs\\python\\python39\\lib\\site-packages\\ipykernel\\ipkernel.py:283: DeprecationWarning: `should_run_async` will not call `transform_cell` automatically in the future. Please pass the result to `transformed_cell` argument and any exception that happen during thetransform in `preprocessing_exc_tuple` in IPython 7.17 and above.\n",
      "  and should_run_async(code)\n"
     ]
    }
   ],
   "source": [
    "save_path = 'D:/論文/PHEME9/Code/sydneysiege/18 targetanalysis/twanalysis\\\\'\n",
    "pyLDAvis.save_html(nontarget_topics, save_path+'sydneysiege_lda_replynontarget.html')"
   ]
  },
  {
   "cell_type": "code",
   "execution_count": null,
   "metadata": {},
   "outputs": [],
   "source": []
  }
 ],
 "metadata": {
  "colab": {
   "authorship_tag": "ABX9TyME1zaCIGPKvJSN9GJoZXFQ",
   "provenance": [],
   "toc_visible": true
  },
  "kernelspec": {
   "display_name": "Python 3",
   "language": "python",
   "name": "python3"
  },
  "language_info": {
   "codemirror_mode": {
    "name": "ipython",
    "version": 3
   },
   "file_extension": ".py",
   "mimetype": "text/x-python",
   "name": "python",
   "nbconvert_exporter": "python",
   "pygments_lexer": "ipython3",
   "version": "3.9.1"
  }
 },
 "nbformat": 4,
 "nbformat_minor": 4
}
