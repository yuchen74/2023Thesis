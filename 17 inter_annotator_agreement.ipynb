{
 "cells": [
  {
   "cell_type": "markdown",
   "metadata": {
    "id": "8Lj7CFFXnp9W"
   },
   "source": [
    "# inter-annotator agreement"
   ]
  },
  {
   "cell_type": "markdown",
   "metadata": {
    "id": "M_C5k42QVD_O"
   },
   "source": [
    "Manual check by Yu-Chen & Shakshi. \n",
    "Data stored in the folder: /1125 models/17_data/*sample_labeled.csv*"
   ]
  },
  {
   "cell_type": "code",
   "execution_count": 1,
   "metadata": {
    "executionInfo": {
     "elapsed": 1577,
     "status": "ok",
     "timestamp": 1670327018083,
     "user": {
      "displayName": "Bella Yang",
      "userId": "16101934561747208179"
     },
     "user_tz": -120
    },
    "id": "JiYPbbKajNIA"
   },
   "outputs": [],
   "source": [
    "from sklearn.metrics import cohen_kappa_score, confusion_matrix\n",
    "import numpy as np\n",
    "import pandas as pd\n",
    "import matplotlib.pyplot as plt\n",
    "import seaborn as sns"
   ]
  },
  {
   "cell_type": "code",
   "execution_count": 2,
   "metadata": {
    "executionInfo": {
     "elapsed": 469,
     "status": "ok",
     "timestamp": 1670327592270,
     "user": {
      "displayName": "Bella Yang",
      "userId": "16101934561747208179"
     },
     "user_tz": -120
    },
    "id": "1NN_mjzBkgdt"
   },
   "outputs": [],
   "source": [
    "label_check = pd.read_csv('sydneysiege/17 saved_models/sample_model_targetlabel-2.csv',header=0,encoding='utf-8')"
   ]
  },
  {
   "cell_type": "code",
   "execution_count": 3,
   "metadata": {
    "colab": {
     "base_uri": "https://localhost:8080/",
     "height": 659
    },
    "executionInfo": {
     "elapsed": 20,
     "status": "ok",
     "timestamp": 1670327594407,
     "user": {
      "displayName": "Bella Yang",
      "userId": "16101934561747208179"
     },
     "user_tz": -120
    },
    "id": "yoMmm9Itk-iq",
    "outputId": "6369a01d-5366-430e-988e-49a80cd69dac"
   },
   "outputs": [
    {
     "data": {
      "text/html": [
       "<div>\n",
       "<style scoped>\n",
       "    .dataframe tbody tr th:only-of-type {\n",
       "        vertical-align: middle;\n",
       "    }\n",
       "\n",
       "    .dataframe tbody tr th {\n",
       "        vertical-align: top;\n",
       "    }\n",
       "\n",
       "    .dataframe thead th {\n",
       "        text-align: right;\n",
       "    }\n",
       "</style>\n",
       "<table border=\"1\" class=\"dataframe\">\n",
       "  <thead>\n",
       "    <tr style=\"text-align: right;\">\n",
       "      <th></th>\n",
       "      <th>src_tweet_id</th>\n",
       "      <th>reply_tweet_id</th>\n",
       "      <th>reply_user_id</th>\n",
       "      <th>reply_date</th>\n",
       "      <th>rumorlabel</th>\n",
       "      <th>reply_sentiment</th>\n",
       "      <th>reply_tweet</th>\n",
       "      <th>cleaned_reply_tw</th>\n",
       "      <th>Yu-Chen</th>\n",
       "      <th>Shakshi</th>\n",
       "      <th>targetlabel</th>\n",
       "    </tr>\n",
       "  </thead>\n",
       "  <tbody>\n",
       "    <tr>\n",
       "      <th>0</th>\n",
       "      <td>544445364322197504</td>\n",
       "      <td>5.444970e+17</td>\n",
       "      <td>347462394</td>\n",
       "      <td>Mon Dec 15 14:19:29 +0000 2014</td>\n",
       "      <td>1</td>\n",
       "      <td>Negative</td>\n",
       "      <td>@bathsaltsniall @_Maleven but no one is stonin...</td>\n",
       "      <td>no one stone baby move one</td>\n",
       "      <td>0</td>\n",
       "      <td>0</td>\n",
       "      <td>0</td>\n",
       "    </tr>\n",
       "    <tr>\n",
       "      <th>1</th>\n",
       "      <td>544280765111218176</td>\n",
       "      <td>5.442810e+17</td>\n",
       "      <td>301910658</td>\n",
       "      <td>Mon Dec 15 00:01:06 +0000 2014</td>\n",
       "      <td>1</td>\n",
       "      <td>Neutral</td>\n",
       "      <td>@Reuters took your time...</td>\n",
       "      <td>take time</td>\n",
       "      <td>0</td>\n",
       "      <td>0</td>\n",
       "      <td>0</td>\n",
       "    </tr>\n",
       "    <tr>\n",
       "      <th>2</th>\n",
       "      <td>544462912644214785</td>\n",
       "      <td>5.444636e+17</td>\n",
       "      <td>2591370314</td>\n",
       "      <td>Mon Dec 15 12:06:47 +0000 2014</td>\n",
       "      <td>1</td>\n",
       "      <td>Negative</td>\n",
       "      <td>@Softsaint @GMA good they got out shame this i...</td>\n",
       "      <td>good get shame happenng</td>\n",
       "      <td>0</td>\n",
       "      <td>0</td>\n",
       "      <td>0</td>\n",
       "    </tr>\n",
       "    <tr>\n",
       "      <th>3</th>\n",
       "      <td>544390903839088640</td>\n",
       "      <td>5.443921e+17</td>\n",
       "      <td>309655617</td>\n",
       "      <td>Mon Dec 15 07:22:44 +0000 2014</td>\n",
       "      <td>1</td>\n",
       "      <td>Positive</td>\n",
       "      <td>@anthea_bailey @SkyNewsBreak they said they es...</td>\n",
       "      <td>say escape</td>\n",
       "      <td>0</td>\n",
       "      <td>0</td>\n",
       "      <td>0</td>\n",
       "    </tr>\n",
       "    <tr>\n",
       "      <th>4</th>\n",
       "      <td>544297827258888192</td>\n",
       "      <td>5.443050e+17</td>\n",
       "      <td>134833919</td>\n",
       "      <td>Mon Dec 15 01:36:47 +0000 2014</td>\n",
       "      <td>1</td>\n",
       "      <td>Negative</td>\n",
       "      <td>@PamelaGeller Today @FareedZakaria called out ...</td>\n",
       "      <td>today call australia worst offender wrt global...</td>\n",
       "      <td>0</td>\n",
       "      <td>0</td>\n",
       "      <td>0</td>\n",
       "    </tr>\n",
       "    <tr>\n",
       "      <th>...</th>\n",
       "      <td>...</td>\n",
       "      <td>...</td>\n",
       "      <td>...</td>\n",
       "      <td>...</td>\n",
       "      <td>...</td>\n",
       "      <td>...</td>\n",
       "      <td>...</td>\n",
       "      <td>...</td>\n",
       "      <td>...</td>\n",
       "      <td>...</td>\n",
       "      <td>...</td>\n",
       "    </tr>\n",
       "    <tr>\n",
       "      <th>95</th>\n",
       "      <td>544273427075710976</td>\n",
       "      <td>5.442737e+17</td>\n",
       "      <td>21159892</td>\n",
       "      <td>Sun Dec 14 23:32:27 +0000 2014</td>\n",
       "      <td>1</td>\n",
       "      <td>Positive</td>\n",
       "      <td>@NickKristof The Sydney Morning Herald – @smh ...</td>\n",
       "      <td>sydney morning herald daily paper sydney fyi</td>\n",
       "      <td>0</td>\n",
       "      <td>0</td>\n",
       "      <td>0</td>\n",
       "    </tr>\n",
       "    <tr>\n",
       "      <th>96</th>\n",
       "      <td>544362279006113792</td>\n",
       "      <td>5.443648e+17</td>\n",
       "      <td>378973056</td>\n",
       "      <td>Mon Dec 15 05:34:09 +0000 2014</td>\n",
       "      <td>1</td>\n",
       "      <td>Neutral</td>\n",
       "      <td>@cnnbrk We know, we're watching it on ABC! I u...</td>\n",
       "      <td>know watch abc understand guy broadcast someth...</td>\n",
       "      <td>0</td>\n",
       "      <td>0</td>\n",
       "      <td>0</td>\n",
       "    </tr>\n",
       "    <tr>\n",
       "      <th>97</th>\n",
       "      <td>544300178443100160</td>\n",
       "      <td>5.443045e+17</td>\n",
       "      <td>291763454</td>\n",
       "      <td>Mon Dec 15 01:34:33 +0000 2014</td>\n",
       "      <td>1</td>\n",
       "      <td>Positive</td>\n",
       "      <td>@Busty1956 @MaajidNawaz this has nothing to do...</td>\n",
       "      <td>nothing muslims stop try conflate two issue to...</td>\n",
       "      <td>0</td>\n",
       "      <td>0</td>\n",
       "      <td>1</td>\n",
       "    </tr>\n",
       "    <tr>\n",
       "      <th>98</th>\n",
       "      <td>544430771688439808</td>\n",
       "      <td>5.444344e+17</td>\n",
       "      <td>5402612</td>\n",
       "      <td>Mon Dec 15 10:10:51 +0000 2014</td>\n",
       "      <td>1</td>\n",
       "      <td>Negative</td>\n",
       "      <td>Australian Muslim groups condemn #SydneySiege ...</td>\n",
       "      <td>australian muslim group condemn sydneysiege st...</td>\n",
       "      <td>0</td>\n",
       "      <td>0</td>\n",
       "      <td>1</td>\n",
       "    </tr>\n",
       "    <tr>\n",
       "      <th>99</th>\n",
       "      <td>544317438079139841</td>\n",
       "      <td>5.443275e+17</td>\n",
       "      <td>1100048125</td>\n",
       "      <td>Mon Dec 15 03:06:14 +0000 2014</td>\n",
       "      <td>1</td>\n",
       "      <td>Negative</td>\n",
       "      <td>@PMOnAir Paul, are we possibly putting hostage...</td>\n",
       "      <td>paul possibly put hostages risk discuss im con...</td>\n",
       "      <td>0</td>\n",
       "      <td>0</td>\n",
       "      <td>0</td>\n",
       "    </tr>\n",
       "  </tbody>\n",
       "</table>\n",
       "<p>100 rows × 11 columns</p>\n",
       "</div>"
      ],
      "text/plain": [
       "          src_tweet_id  reply_tweet_id  reply_user_id  \\\n",
       "0   544445364322197504    5.444970e+17      347462394   \n",
       "1   544280765111218176    5.442810e+17      301910658   \n",
       "2   544462912644214785    5.444636e+17     2591370314   \n",
       "3   544390903839088640    5.443921e+17      309655617   \n",
       "4   544297827258888192    5.443050e+17      134833919   \n",
       "..                 ...             ...            ...   \n",
       "95  544273427075710976    5.442737e+17       21159892   \n",
       "96  544362279006113792    5.443648e+17      378973056   \n",
       "97  544300178443100160    5.443045e+17      291763454   \n",
       "98  544430771688439808    5.444344e+17        5402612   \n",
       "99  544317438079139841    5.443275e+17     1100048125   \n",
       "\n",
       "                        reply_date  rumorlabel reply_sentiment  \\\n",
       "0   Mon Dec 15 14:19:29 +0000 2014           1        Negative   \n",
       "1   Mon Dec 15 00:01:06 +0000 2014           1         Neutral   \n",
       "2   Mon Dec 15 12:06:47 +0000 2014           1        Negative   \n",
       "3   Mon Dec 15 07:22:44 +0000 2014           1        Positive   \n",
       "4   Mon Dec 15 01:36:47 +0000 2014           1        Negative   \n",
       "..                             ...         ...             ...   \n",
       "95  Sun Dec 14 23:32:27 +0000 2014           1        Positive   \n",
       "96  Mon Dec 15 05:34:09 +0000 2014           1         Neutral   \n",
       "97  Mon Dec 15 01:34:33 +0000 2014           1        Positive   \n",
       "98  Mon Dec 15 10:10:51 +0000 2014           1        Negative   \n",
       "99  Mon Dec 15 03:06:14 +0000 2014           1        Negative   \n",
       "\n",
       "                                          reply_tweet  \\\n",
       "0   @bathsaltsniall @_Maleven but no one is stonin...   \n",
       "1                          @Reuters took your time...   \n",
       "2   @Softsaint @GMA good they got out shame this i...   \n",
       "3   @anthea_bailey @SkyNewsBreak they said they es...   \n",
       "4   @PamelaGeller Today @FareedZakaria called out ...   \n",
       "..                                                ...   \n",
       "95  @NickKristof The Sydney Morning Herald – @smh ...   \n",
       "96  @cnnbrk We know, we're watching it on ABC! I u...   \n",
       "97  @Busty1956 @MaajidNawaz this has nothing to do...   \n",
       "98  Australian Muslim groups condemn #SydneySiege ...   \n",
       "99  @PMOnAir Paul, are we possibly putting hostage...   \n",
       "\n",
       "                                     cleaned_reply_tw  Yu-Chen  Shakshi  \\\n",
       "0                          no one stone baby move one        0        0   \n",
       "1                                           take time        0        0   \n",
       "2                             good get shame happenng        0        0   \n",
       "3                                          say escape        0        0   \n",
       "4   today call australia worst offender wrt global...        0        0   \n",
       "..                                                ...      ...      ...   \n",
       "95       sydney morning herald daily paper sydney fyi        0        0   \n",
       "96  know watch abc understand guy broadcast someth...        0        0   \n",
       "97  nothing muslims stop try conflate two issue to...        0        0   \n",
       "98  australian muslim group condemn sydneysiege st...        0        0   \n",
       "99  paul possibly put hostages risk discuss im con...        0        0   \n",
       "\n",
       "    targetlabel  \n",
       "0             0  \n",
       "1             0  \n",
       "2             0  \n",
       "3             0  \n",
       "4             0  \n",
       "..          ...  \n",
       "95            0  \n",
       "96            0  \n",
       "97            1  \n",
       "98            1  \n",
       "99            0  \n",
       "\n",
       "[100 rows x 11 columns]"
      ]
     },
     "execution_count": 3,
     "metadata": {},
     "output_type": "execute_result"
    }
   ],
   "source": [
    "label_check"
   ]
  },
  {
   "cell_type": "code",
   "execution_count": 4,
   "metadata": {
    "colab": {
     "base_uri": "https://localhost:8080/"
    },
    "executionInfo": {
     "elapsed": 261,
     "status": "ok",
     "timestamp": 1669980572753,
     "user": {
      "displayName": "Bella Yang",
      "userId": "16101934561747208179"
     },
     "user_tz": -120
    },
    "id": "nwsyN6Nxlnps",
    "outputId": "7500b0a7-5f9f-4622-c0b6-7536c2d3e96b"
   },
   "outputs": [
    {
     "data": {
      "text/plain": [
       "array([[84,  0],\n",
       "       [ 4, 12]], dtype=int64)"
      ]
     },
     "execution_count": 4,
     "metadata": {},
     "output_type": "execute_result"
    }
   ],
   "source": [
    "confusion_matrix(label_check['Yu-Chen'],label_check['Shakshi'])"
   ]
  },
  {
   "cell_type": "code",
   "execution_count": 5,
   "metadata": {
    "colab": {
     "base_uri": "https://localhost:8080/"
    },
    "executionInfo": {
     "elapsed": 246,
     "status": "ok",
     "timestamp": 1669980578427,
     "user": {
      "displayName": "Bella Yang",
      "userId": "16101934561747208179"
     },
     "user_tz": -120
    },
    "id": "bCAXEjdMlLHG",
    "outputId": "9743b058-4111-488d-a0d9-422cff8d5c5d"
   },
   "outputs": [
    {
     "data": {
      "text/plain": [
       "0.8344370860927153"
      ]
     },
     "execution_count": 5,
     "metadata": {},
     "output_type": "execute_result"
    }
   ],
   "source": [
    "cohen_kappa_score(label_check['Yu-Chen'],label_check['Shakshi'])"
   ]
  },
  {
   "cell_type": "markdown",
   "metadata": {
    "id": "g3T9x4-1SmqT"
   },
   "source": [
    "## Model vs Annotators"
   ]
  },
  {
   "cell_type": "code",
   "execution_count": 6,
   "metadata": {
    "colab": {
     "base_uri": "https://localhost:8080/"
    },
    "executionInfo": {
     "elapsed": 355,
     "status": "ok",
     "timestamp": 1670327662644,
     "user": {
      "displayName": "Bella Yang",
      "userId": "16101934561747208179"
     },
     "user_tz": -120
    },
    "id": "IuC45tY9lhGj",
    "outputId": "5121fd6b-81e2-41d3-9395-1f77d7b4cb2c"
   },
   "outputs": [
    {
     "data": {
      "text/plain": [
       "array([[71, 17],\n",
       "       [ 4,  8]], dtype=int64)"
      ]
     },
     "execution_count": 6,
     "metadata": {},
     "output_type": "execute_result"
    }
   ],
   "source": [
    "confusion_matrix(label_check['Shakshi'],label_check['targetlabel'])"
   ]
  },
  {
   "cell_type": "code",
   "execution_count": 7,
   "metadata": {
    "colab": {
     "base_uri": "https://localhost:8080/"
    },
    "executionInfo": {
     "elapsed": 413,
     "status": "ok",
     "timestamp": 1670327770829,
     "user": {
      "displayName": "Bella Yang",
      "userId": "16101934561747208179"
     },
     "user_tz": -120
    },
    "id": "NEOSX8WkSv_K",
    "outputId": "e86054ab-f3f7-498e-fb6f-94c58fb57eda"
   },
   "outputs": [
    {
     "data": {
      "text/plain": [
       "array([[67, 17],\n",
       "       [ 8,  8]], dtype=int64)"
      ]
     },
     "execution_count": 7,
     "metadata": {},
     "output_type": "execute_result"
    }
   ],
   "source": [
    "confusion_matrix(label_check['Yu-Chen'],label_check['targetlabel'])"
   ]
  },
  {
   "cell_type": "code",
   "execution_count": 8,
   "metadata": {
    "colab": {
     "base_uri": "https://localhost:8080/"
    },
    "executionInfo": {
     "elapsed": 13,
     "status": "ok",
     "timestamp": 1670327714271,
     "user": {
      "displayName": "Bella Yang",
      "userId": "16101934561747208179"
     },
     "user_tz": -120
    },
    "id": "pNbS7-hESgKs",
    "outputId": "1bd37b92-2678-4e8d-f247-716fd32c1335"
   },
   "outputs": [
    {
     "data": {
      "text/plain": [
       "0.24242424242424243"
      ]
     },
     "execution_count": 8,
     "metadata": {},
     "output_type": "execute_result"
    }
   ],
   "source": [
    "cohen_kappa_score(label_check['Yu-Chen'],label_check['targetlabel'])"
   ]
  },
  {
   "cell_type": "code",
   "execution_count": 9,
   "metadata": {
    "colab": {
     "base_uri": "https://localhost:8080/"
    },
    "executionInfo": {
     "elapsed": 421,
     "status": "ok",
     "timestamp": 1670327696376,
     "user": {
      "displayName": "Bella Yang",
      "userId": "16101934561747208179"
     },
     "user_tz": -120
    },
    "id": "q3jAZhOwSP0x",
    "outputId": "60a9857a-2481-4d96-cbf0-8b9b5fb329f3"
   },
   "outputs": [
    {
     "data": {
      "text/plain": [
       "0.32258064516129037"
      ]
     },
     "execution_count": 9,
     "metadata": {},
     "output_type": "execute_result"
    }
   ],
   "source": [
    "cohen_kappa_score(label_check['Shakshi'],label_check['targetlabel'])"
   ]
  },
  {
   "cell_type": "code",
   "execution_count": null,
   "metadata": {},
   "outputs": [],
   "source": []
  }
 ],
 "metadata": {
  "colab": {
   "authorship_tag": "ABX9TyOHBFAY9ItGG375SbVNC+4I",
   "mount_file_id": "1BHsWwR90gjH9o3fnI_tcGVxHoWF0jWc3",
   "provenance": []
  },
  "kernelspec": {
   "display_name": "Python 3",
   "language": "python",
   "name": "python3"
  },
  "language_info": {
   "codemirror_mode": {
    "name": "ipython",
    "version": 3
   },
   "file_extension": ".py",
   "mimetype": "text/x-python",
   "name": "python",
   "nbconvert_exporter": "python",
   "pygments_lexer": "ipython3",
   "version": "3.9.1"
  }
 },
 "nbformat": 4,
 "nbformat_minor": 4
}
