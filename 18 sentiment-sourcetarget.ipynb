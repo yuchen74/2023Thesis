{
 "cells": [
  {
   "cell_type": "code",
   "execution_count": 1,
   "metadata": {
    "executionInfo": {
     "elapsed": 1623,
     "status": "ok",
     "timestamp": 1673420834287,
     "user": {
      "displayName": "Bella Yang",
      "userId": "16101934561747208179"
     },
     "user_tz": -120
    },
    "id": "n2i0zBCX3pMs"
   },
   "outputs": [],
   "source": [
    "import numpy as np\n",
    "import pandas as pd\n",
    "import matplotlib.pyplot as plt\n",
    "import seaborn as sns\n",
    "from datetime import datetime ,time"
   ]
  },
  {
   "cell_type": "code",
   "execution_count": 2,
   "metadata": {
    "executionInfo": {
     "elapsed": 329,
     "status": "ok",
     "timestamp": 1673422785645,
     "user": {
      "displayName": "Bella Yang",
      "userId": "16101934561747208179"
     },
     "user_tz": -120
    },
    "id": "fjzph-8dwGeU"
   },
   "outputs": [],
   "source": [
    "# rumor source tweets\n",
    "src = pd.read_csv(r\"D:\\論文\\PHEME9\\Code\\sydneysiege\\18 targetanalysis\\targetdata\\sydneysiege-target-src.csv\", encoding = 'utf-8', header = 0)"
   ]
  },
  {
   "cell_type": "code",
   "execution_count": 3,
   "metadata": {
    "colab": {
     "base_uri": "https://localhost:8080/"
    },
    "executionInfo": {
     "elapsed": 11,
     "status": "ok",
     "timestamp": 1673422813114,
     "user": {
      "displayName": "Bella Yang",
      "userId": "16101934561747208179"
     },
     "user_tz": -120
    },
    "id": "AU7YNVaHw6A6",
    "outputId": "d278a57e-9fbc-4c7b-aeab-b7185add783c"
   },
   "outputs": [
    {
     "data": {
      "text/plain": [
       "src_tweet_id      0\n",
       "src_user_id       0\n",
       "src_date          0\n",
       "rumorlabel        0\n",
       "src_tweet         0\n",
       "cleaned_src_tw    0\n",
       "targetlabel       0\n",
       "src_sentiment     0\n",
       "dtype: int64"
      ]
     },
     "execution_count": 3,
     "metadata": {},
     "output_type": "execute_result"
    }
   ],
   "source": [
    "# src.dropna(inplace=True)\n",
    "src.isnull().sum()"
   ]
  },
  {
   "cell_type": "code",
   "execution_count": 4,
   "metadata": {
    "colab": {
     "base_uri": "https://localhost:8080/"
    },
    "executionInfo": {
     "elapsed": 11,
     "status": "ok",
     "timestamp": 1673422816580,
     "user": {
      "displayName": "Bella Yang",
      "userId": "16101934561747208179"
     },
     "user_tz": -120
    },
    "id": "ejnn7Mpbl8W_",
    "outputId": "46b04efa-5afe-4884-e1d6-88d4bd7b00d0"
   },
   "outputs": [
    {
     "data": {
      "text/plain": [
       "0    415\n",
       "1     84\n",
       "Name: targetlabel, dtype: int64"
      ]
     },
     "execution_count": 4,
     "metadata": {},
     "output_type": "execute_result"
    }
   ],
   "source": [
    "src.targetlabel.value_counts()"
   ]
  },
  {
   "cell_type": "code",
   "execution_count": 5,
   "metadata": {
    "executionInfo": {
     "elapsed": 275,
     "status": "ok",
     "timestamp": 1673422821984,
     "user": {
      "displayName": "Bella Yang",
      "userId": "16101934561747208179"
     },
     "user_tz": -120
    },
    "id": "N7YXp5H4w8Yi"
   },
   "outputs": [],
   "source": [
    "src.src_date = pd.to_datetime(src.src_date)"
   ]
  },
  {
   "cell_type": "code",
   "execution_count": 6,
   "metadata": {
    "colab": {
     "base_uri": "https://localhost:8080/",
     "height": 563
    },
    "executionInfo": {
     "elapsed": 385,
     "status": "ok",
     "timestamp": 1673422824052,
     "user": {
      "displayName": "Bella Yang",
      "userId": "16101934561747208179"
     },
     "user_tz": -120
    },
    "id": "13kM2jMYxTBv",
    "outputId": "d102999c-299e-41ef-95ee-2135059ca447"
   },
   "outputs": [
    {
     "data": {
      "text/html": [
       "<div>\n",
       "<style scoped>\n",
       "    .dataframe tbody tr th:only-of-type {\n",
       "        vertical-align: middle;\n",
       "    }\n",
       "\n",
       "    .dataframe tbody tr th {\n",
       "        vertical-align: top;\n",
       "    }\n",
       "\n",
       "    .dataframe thead th {\n",
       "        text-align: right;\n",
       "    }\n",
       "</style>\n",
       "<table border=\"1\" class=\"dataframe\">\n",
       "  <thead>\n",
       "    <tr style=\"text-align: right;\">\n",
       "      <th></th>\n",
       "      <th>src_tweet_id</th>\n",
       "      <th>src_user_id</th>\n",
       "      <th>src_date</th>\n",
       "      <th>rumorlabel</th>\n",
       "      <th>src_tweet</th>\n",
       "      <th>cleaned_src_tw</th>\n",
       "      <th>targetlabel</th>\n",
       "      <th>src_sentiment</th>\n",
       "    </tr>\n",
       "  </thead>\n",
       "  <tbody>\n",
       "    <tr>\n",
       "      <th>0</th>\n",
       "      <td>544267656597995521</td>\n",
       "      <td>258627226</td>\n",
       "      <td>2014-12-14 23:08:15+00:00</td>\n",
       "      <td>1</td>\n",
       "      <td>BREAKING: Hostages are being forced to hold an...</td>\n",
       "      <td>break hostages force hold isis flag lindt cafe...</td>\n",
       "      <td>1</td>\n",
       "      <td>Neutral</td>\n",
       "    </tr>\n",
       "    <tr>\n",
       "      <th>1</th>\n",
       "      <td>544268186292867072</td>\n",
       "      <td>1960878613</td>\n",
       "      <td>2014-12-14 23:10:22+00:00</td>\n",
       "      <td>1</td>\n",
       "      <td>BREAKING: Gunman takes hostages in cafe in Mar...</td>\n",
       "      <td>break gunman take hostages cafe martin place s...</td>\n",
       "      <td>1</td>\n",
       "      <td>Neutral</td>\n",
       "    </tr>\n",
       "    <tr>\n",
       "      <th>2</th>\n",
       "      <td>544268637134393344</td>\n",
       "      <td>171802941</td>\n",
       "      <td>2014-12-14 23:12:09+00:00</td>\n",
       "      <td>1</td>\n",
       "      <td>UPDATE: An ISIS flag is being displayed in the...</td>\n",
       "      <td>update isis flag display window café siege syd...</td>\n",
       "      <td>1</td>\n",
       "      <td>Neutral</td>\n",
       "    </tr>\n",
       "    <tr>\n",
       "      <th>3</th>\n",
       "      <td>544268732046913536</td>\n",
       "      <td>16834659</td>\n",
       "      <td>2014-12-14 23:12:32+00:00</td>\n",
       "      <td>1</td>\n",
       "      <td>#BREAKING: Hostages are being held and a siege...</td>\n",
       "      <td>break hostages hold siege take place sydneys l...</td>\n",
       "      <td>0</td>\n",
       "      <td>Neutral</td>\n",
       "    </tr>\n",
       "    <tr>\n",
       "      <th>4</th>\n",
       "      <td>544269221564137472</td>\n",
       "      <td>258627226</td>\n",
       "      <td>2014-12-14 23:14:29+00:00</td>\n",
       "      <td>1</td>\n",
       "      <td>BREAKING: A Sydney cafe at Martin Place is bei...</td>\n",
       "      <td>break sydney cafe martin place hold hostages i...</td>\n",
       "      <td>1</td>\n",
       "      <td>Positive</td>\n",
       "    </tr>\n",
       "  </tbody>\n",
       "</table>\n",
       "</div>"
      ],
      "text/plain": [
       "         src_tweet_id  src_user_id                  src_date  rumorlabel  \\\n",
       "0  544267656597995521    258627226 2014-12-14 23:08:15+00:00           1   \n",
       "1  544268186292867072   1960878613 2014-12-14 23:10:22+00:00           1   \n",
       "2  544268637134393344    171802941 2014-12-14 23:12:09+00:00           1   \n",
       "3  544268732046913536     16834659 2014-12-14 23:12:32+00:00           1   \n",
       "4  544269221564137472    258627226 2014-12-14 23:14:29+00:00           1   \n",
       "\n",
       "                                           src_tweet  \\\n",
       "0  BREAKING: Hostages are being forced to hold an...   \n",
       "1  BREAKING: Gunman takes hostages in cafe in Mar...   \n",
       "2  UPDATE: An ISIS flag is being displayed in the...   \n",
       "3  #BREAKING: Hostages are being held and a siege...   \n",
       "4  BREAKING: A Sydney cafe at Martin Place is bei...   \n",
       "\n",
       "                                      cleaned_src_tw  targetlabel  \\\n",
       "0  break hostages force hold isis flag lindt cafe...            1   \n",
       "1  break gunman take hostages cafe martin place s...            1   \n",
       "2  update isis flag display window café siege syd...            1   \n",
       "3  break hostages hold siege take place sydneys l...            0   \n",
       "4  break sydney cafe martin place hold hostages i...            1   \n",
       "\n",
       "  src_sentiment  \n",
       "0       Neutral  \n",
       "1       Neutral  \n",
       "2       Neutral  \n",
       "3       Neutral  \n",
       "4      Positive  "
      ]
     },
     "execution_count": 6,
     "metadata": {},
     "output_type": "execute_result"
    }
   ],
   "source": [
    "src.sort_values(by='src_date',inplace=True)\n",
    "src.reset_index(inplace=True,drop=True)\n",
    "src.head()"
   ]
  },
  {
   "cell_type": "code",
   "execution_count": 7,
   "metadata": {
    "colab": {
     "base_uri": "https://localhost:8080/"
    },
    "executionInfo": {
     "elapsed": 261,
     "status": "ok",
     "timestamp": 1673422832646,
     "user": {
      "displayName": "Bella Yang",
      "userId": "16101934561747208179"
     },
     "user_tz": -120
    },
    "id": "bCvzP_YKxoAc",
    "outputId": "977c836d-0a71-4fd3-d76c-574fa73577f9"
   },
   "outputs": [
    {
     "name": "stdout",
     "output_type": "stream",
     "text": [
      "number of targeted source tweets:  84\n"
     ]
    },
    {
     "data": {
      "text/plain": [
       "Int64Index([  0,   1,   2,   4,   6,   7,   9,  10,  12,  13,  16,  17,  18,\n",
       "             20,  22,  24,  28,  33,  34,  43,  45,  46,  52,  55,  57,  59,\n",
       "             67,  69,  70,  71,  72,  73,  77,  78,  80,  82,  84,  85,  88,\n",
       "             89,  91,  93,  99, 100, 102, 115, 121, 123, 140, 142, 146, 148,\n",
       "            155, 174, 177, 187, 190, 195, 196, 207, 208, 213, 222, 224, 226,\n",
       "            228, 231, 239, 264, 285, 327, 333, 343, 351, 354, 357, 358, 359,\n",
       "            368, 370, 371, 375, 389, 391],\n",
       "           dtype='int64')"
      ]
     },
     "execution_count": 7,
     "metadata": {},
     "output_type": "execute_result"
    }
   ],
   "source": [
    "target_index = src.loc[src.targetlabel ==1].index\n",
    "print(\"number of targeted source tweets: \",len(target_index))\n",
    "target_index"
   ]
  },
  {
   "cell_type": "markdown",
   "metadata": {
    "id": "7adEMBSPDrgW"
   },
   "source": [
    "# Calculate sentiment changes before target"
   ]
  },
  {
   "cell_type": "code",
   "execution_count": 8,
   "metadata": {
    "executionInfo": {
     "elapsed": 272,
     "status": "ok",
     "timestamp": 1673422841559,
     "user": {
      "displayName": "Bella Yang",
      "userId": "16101934561747208179"
     },
     "user_tz": -120
    },
    "id": "4_mEGWO7yOXL"
   },
   "outputs": [],
   "source": [
    "# create \"before\" dictionary to store sentiments of non-targeting srcs,\n",
    "# where has three values: ratios of three sentiments/ negative to positive ratio / \n",
    "# and indices of those non-targeting srcs\n",
    "j = 0\n",
    "before = {\"sentiment\": [],\"np_ratio\" :[],\"index\":[]}\n",
    "target = list()\n",
    "for i in target_index:\n",
    "  if j == i: #the next source tweet also had target label == 1 \n",
    "    before['sentiment'].append(np.nan)\n",
    "    before['np_ratio'].append(np.nan)\n",
    "    before['index'].append(np.nan)\n",
    "    b = src.loc[i,'src_sentiment']\n",
    "    target.append(b)\n",
    "    \n",
    "  else:     \n",
    "    count = src.loc[j:i-1,'src_sentiment'].value_counts(normalize=True,sort=False)\n",
    "    # ratio of three sentiments\n",
    "    sen = count.round(2).to_dict()\n",
    "    before['sentiment'].append(sen)\n",
    "    #ratio of Negative to Positive\n",
    "    try:\n",
    "      neg = count['Negative']\n",
    "      pos = count['Positive']\n",
    "    except:\n",
    "      if 'Positive' in count.index:\n",
    "        # some positive tws but no negative ones\n",
    "        n_p = 0\n",
    "      elif \"Negative\" in count.index:\n",
    "        # some negative tws but no positive ones\n",
    "        n_p = np.inf\n",
    "      else:\n",
    "        # only neutral tws\n",
    "        n_p = 0 \n",
    "    else:\n",
    "      n_p = round(neg/pos,2)\n",
    "    finally:\n",
    "      before['np_ratio'].append(n_p)\n",
    "    before['index'].append([*range(j,i)])\n",
    "    # target's sentiment\n",
    "    b = src.loc[i,'src_sentiment']\n",
    "    target.append(b)\n",
    "\n",
    "  j =i+1"
   ]
  },
  {
   "cell_type": "code",
   "execution_count": 9,
   "metadata": {
    "executionInfo": {
     "elapsed": 284,
     "status": "ok",
     "timestamp": 1673422846679,
     "user": {
      "displayName": "Bella Yang",
      "userId": "16101934561747208179"
     },
     "user_tz": -120
    },
    "id": "aSRg7kDD0Pmm"
   },
   "outputs": [],
   "source": [
    "pd.set_option('display.max_colwidth', None)\n",
    "sentiment_change = pd.DataFrame({\"sentiment_beforetarget\" : before['sentiment'],\n",
    "                                 \"neg_to_pos_beforetarget\" : before['np_ratio'],\n",
    "                                 \"sentiment_target\" : target,\n",
    "                                 \"target_index\": target_index})\n"
   ]
  },
  {
   "cell_type": "markdown",
   "metadata": {
    "id": "mNnfnwIfEyvz"
   },
   "source": [
    "# Calculate sentiment changes after target arrived until the next one came."
   ]
  },
  {
   "cell_type": "code",
   "execution_count": 10,
   "metadata": {
    "colab": {
     "base_uri": "https://localhost:8080/"
    },
    "executionInfo": {
     "elapsed": 263,
     "status": "ok",
     "timestamp": 1673422855076,
     "user": {
      "displayName": "Bella Yang",
      "userId": "16101934561747208179"
     },
     "user_tz": -120
    },
    "id": "wXos0n8J7YUX",
    "outputId": "14c4c5fc-b464-46e9-9506-881e17cce961"
   },
   "outputs": [
    {
     "data": {
      "text/plain": [
       "0                                                       NaN\n",
       "1                                                       NaN\n",
       "2                                          {'Neutral': 1.0}\n",
       "3                                          {'Neutral': 1.0}\n",
       "4                                                       NaN\n",
       "                              ...                          \n",
       "79                                                      NaN\n",
       "80                      {'Negative': 0.67, 'Neutral': 0.33}\n",
       "81    {'Positive': 0.31, 'Neutral': 0.38, 'Negative': 0.31}\n",
       "82                                        {'Negative': 1.0}\n",
       "83     {'Positive': 0.17, 'Neutral': 0.53, 'Negative': 0.3}\n",
       "Length: 84, dtype: object"
      ]
     },
     "execution_count": 10,
     "metadata": {},
     "output_type": "execute_result"
    }
   ],
   "source": [
    "# calculte the sentiment changes after the \"last\" targeing src arrive.\n",
    "# save it into \"last_value\" variable.\n",
    "\n",
    "sentiment_aftertarget = sentiment_change['sentiment_beforetarget']\n",
    "last_value = src.loc[target_index[-1]+1: ,'src_sentiment'].value_counts(normalize=True,sort=False).round(2).to_dict()\n",
    "sentiment_aftertarget = pd.concat([sentiment_aftertarget[1:] ,pd.Series([last_value])], ignore_index=True )\n",
    "sentiment_aftertarget"
   ]
  },
  {
   "cell_type": "code",
   "execution_count": 11,
   "metadata": {
    "colab": {
     "base_uri": "https://localhost:8080/",
     "height": 1000
    },
    "executionInfo": {
     "elapsed": 312,
     "status": "ok",
     "timestamp": 1673422863006,
     "user": {
      "displayName": "Bella Yang",
      "userId": "16101934561747208179"
     },
     "user_tz": -120
    },
    "id": "hz_S5dQMcWR-",
    "outputId": "c5ca33b5-6b9e-4ae6-e846-56bb98369d75"
   },
   "outputs": [
    {
     "data": {
      "text/html": [
       "<div>\n",
       "<style scoped>\n",
       "    .dataframe tbody tr th:only-of-type {\n",
       "        vertical-align: middle;\n",
       "    }\n",
       "\n",
       "    .dataframe tbody tr th {\n",
       "        vertical-align: top;\n",
       "    }\n",
       "\n",
       "    .dataframe thead th {\n",
       "        text-align: right;\n",
       "    }\n",
       "</style>\n",
       "<table border=\"1\" class=\"dataframe\">\n",
       "  <thead>\n",
       "    <tr style=\"text-align: right;\">\n",
       "      <th></th>\n",
       "      <th>sentiment_beforetarget</th>\n",
       "      <th>neg_to_pos_beforetarget</th>\n",
       "      <th>sentiment_target</th>\n",
       "      <th>target_index</th>\n",
       "      <th>sentiment_aftertarget</th>\n",
       "    </tr>\n",
       "  </thead>\n",
       "  <tbody>\n",
       "    <tr>\n",
       "      <th>0</th>\n",
       "      <td>NaN</td>\n",
       "      <td>NaN</td>\n",
       "      <td>Neutral</td>\n",
       "      <td>0</td>\n",
       "      <td>NaN</td>\n",
       "    </tr>\n",
       "    <tr>\n",
       "      <th>1</th>\n",
       "      <td>NaN</td>\n",
       "      <td>NaN</td>\n",
       "      <td>Neutral</td>\n",
       "      <td>1</td>\n",
       "      <td>NaN</td>\n",
       "    </tr>\n",
       "    <tr>\n",
       "      <th>2</th>\n",
       "      <td>NaN</td>\n",
       "      <td>NaN</td>\n",
       "      <td>Neutral</td>\n",
       "      <td>2</td>\n",
       "      <td>{'Neutral': 1.0}</td>\n",
       "    </tr>\n",
       "    <tr>\n",
       "      <th>3</th>\n",
       "      <td>{'Neutral': 1.0}</td>\n",
       "      <td>0.0</td>\n",
       "      <td>Positive</td>\n",
       "      <td>4</td>\n",
       "      <td>{'Neutral': 1.0}</td>\n",
       "    </tr>\n",
       "    <tr>\n",
       "      <th>4</th>\n",
       "      <td>{'Neutral': 1.0}</td>\n",
       "      <td>0.0</td>\n",
       "      <td>Negative</td>\n",
       "      <td>6</td>\n",
       "      <td>NaN</td>\n",
       "    </tr>\n",
       "    <tr>\n",
       "      <th>...</th>\n",
       "      <td>...</td>\n",
       "      <td>...</td>\n",
       "      <td>...</td>\n",
       "      <td>...</td>\n",
       "      <td>...</td>\n",
       "    </tr>\n",
       "    <tr>\n",
       "      <th>79</th>\n",
       "      <td>{'Neutral': 1.0}</td>\n",
       "      <td>0.0</td>\n",
       "      <td>Negative</td>\n",
       "      <td>370</td>\n",
       "      <td>NaN</td>\n",
       "    </tr>\n",
       "    <tr>\n",
       "      <th>80</th>\n",
       "      <td>NaN</td>\n",
       "      <td>NaN</td>\n",
       "      <td>Negative</td>\n",
       "      <td>371</td>\n",
       "      <td>{'Negative': 0.67, 'Neutral': 0.33}</td>\n",
       "    </tr>\n",
       "    <tr>\n",
       "      <th>81</th>\n",
       "      <td>{'Negative': 0.67, 'Neutral': 0.33}</td>\n",
       "      <td>inf</td>\n",
       "      <td>Negative</td>\n",
       "      <td>375</td>\n",
       "      <td>{'Positive': 0.31, 'Neutral': 0.38, 'Negative': 0.31}</td>\n",
       "    </tr>\n",
       "    <tr>\n",
       "      <th>82</th>\n",
       "      <td>{'Positive': 0.31, 'Neutral': 0.38, 'Negative': 0.31}</td>\n",
       "      <td>1.0</td>\n",
       "      <td>Negative</td>\n",
       "      <td>389</td>\n",
       "      <td>{'Negative': 1.0}</td>\n",
       "    </tr>\n",
       "    <tr>\n",
       "      <th>83</th>\n",
       "      <td>{'Negative': 1.0}</td>\n",
       "      <td>inf</td>\n",
       "      <td>Negative</td>\n",
       "      <td>391</td>\n",
       "      <td>{'Positive': 0.17, 'Neutral': 0.53, 'Negative': 0.3}</td>\n",
       "    </tr>\n",
       "  </tbody>\n",
       "</table>\n",
       "<p>84 rows × 5 columns</p>\n",
       "</div>"
      ],
      "text/plain": [
       "                                   sentiment_beforetarget  \\\n",
       "0                                                     NaN   \n",
       "1                                                     NaN   \n",
       "2                                                     NaN   \n",
       "3                                        {'Neutral': 1.0}   \n",
       "4                                        {'Neutral': 1.0}   \n",
       "..                                                    ...   \n",
       "79                                       {'Neutral': 1.0}   \n",
       "80                                                    NaN   \n",
       "81                    {'Negative': 0.67, 'Neutral': 0.33}   \n",
       "82  {'Positive': 0.31, 'Neutral': 0.38, 'Negative': 0.31}   \n",
       "83                                      {'Negative': 1.0}   \n",
       "\n",
       "    neg_to_pos_beforetarget sentiment_target  target_index  \\\n",
       "0                       NaN          Neutral             0   \n",
       "1                       NaN          Neutral             1   \n",
       "2                       NaN          Neutral             2   \n",
       "3                       0.0         Positive             4   \n",
       "4                       0.0         Negative             6   \n",
       "..                      ...              ...           ...   \n",
       "79                      0.0         Negative           370   \n",
       "80                      NaN         Negative           371   \n",
       "81                      inf         Negative           375   \n",
       "82                      1.0         Negative           389   \n",
       "83                      inf         Negative           391   \n",
       "\n",
       "                                    sentiment_aftertarget  \n",
       "0                                                     NaN  \n",
       "1                                                     NaN  \n",
       "2                                        {'Neutral': 1.0}  \n",
       "3                                        {'Neutral': 1.0}  \n",
       "4                                                     NaN  \n",
       "..                                                    ...  \n",
       "79                                                    NaN  \n",
       "80                    {'Negative': 0.67, 'Neutral': 0.33}  \n",
       "81  {'Positive': 0.31, 'Neutral': 0.38, 'Negative': 0.31}  \n",
       "82                                      {'Negative': 1.0}  \n",
       "83   {'Positive': 0.17, 'Neutral': 0.53, 'Negative': 0.3}  \n",
       "\n",
       "[84 rows x 5 columns]"
      ]
     },
     "execution_count": 11,
     "metadata": {},
     "output_type": "execute_result"
    }
   ],
   "source": [
    "sentiment_change['sentiment_aftertarget'] = sentiment_aftertarget\n",
    "sentiment_change"
   ]
  },
  {
   "cell_type": "code",
   "execution_count": 12,
   "metadata": {
    "colab": {
     "base_uri": "https://localhost:8080/",
     "height": 1000
    },
    "executionInfo": {
     "elapsed": 250,
     "status": "ok",
     "timestamp": 1673422878637,
     "user": {
      "displayName": "Bella Yang",
      "userId": "16101934561747208179"
     },
     "user_tz": -120
    },
    "id": "8IvHR65r7RTJ",
    "outputId": "ce8183e3-d533-4fed-c660-2f91c95d239e"
   },
   "outputs": [
    {
     "data": {
      "text/html": [
       "<div>\n",
       "<style scoped>\n",
       "    .dataframe tbody tr th:only-of-type {\n",
       "        vertical-align: middle;\n",
       "    }\n",
       "\n",
       "    .dataframe tbody tr th {\n",
       "        vertical-align: top;\n",
       "    }\n",
       "\n",
       "    .dataframe thead th {\n",
       "        text-align: right;\n",
       "    }\n",
       "</style>\n",
       "<table border=\"1\" class=\"dataframe\">\n",
       "  <thead>\n",
       "    <tr style=\"text-align: right;\">\n",
       "      <th></th>\n",
       "      <th>sentiment_beforetarget</th>\n",
       "      <th>neg_to_pos_beforetarget</th>\n",
       "      <th>sentiment_target</th>\n",
       "      <th>target_index</th>\n",
       "      <th>sentiment_aftertarget</th>\n",
       "      <th>neg_to_pos_aftertarget</th>\n",
       "    </tr>\n",
       "  </thead>\n",
       "  <tbody>\n",
       "    <tr>\n",
       "      <th>0</th>\n",
       "      <td>NaN</td>\n",
       "      <td>NaN</td>\n",
       "      <td>Neutral</td>\n",
       "      <td>0</td>\n",
       "      <td>NaN</td>\n",
       "      <td>NaN</td>\n",
       "    </tr>\n",
       "    <tr>\n",
       "      <th>1</th>\n",
       "      <td>NaN</td>\n",
       "      <td>NaN</td>\n",
       "      <td>Neutral</td>\n",
       "      <td>1</td>\n",
       "      <td>NaN</td>\n",
       "      <td>NaN</td>\n",
       "    </tr>\n",
       "    <tr>\n",
       "      <th>2</th>\n",
       "      <td>NaN</td>\n",
       "      <td>NaN</td>\n",
       "      <td>Neutral</td>\n",
       "      <td>2</td>\n",
       "      <td>{'Neutral': 1.0}</td>\n",
       "      <td>0.00</td>\n",
       "    </tr>\n",
       "    <tr>\n",
       "      <th>3</th>\n",
       "      <td>{'Neutral': 1.0}</td>\n",
       "      <td>0.0</td>\n",
       "      <td>Positive</td>\n",
       "      <td>4</td>\n",
       "      <td>{'Neutral': 1.0}</td>\n",
       "      <td>0.00</td>\n",
       "    </tr>\n",
       "    <tr>\n",
       "      <th>4</th>\n",
       "      <td>{'Neutral': 1.0}</td>\n",
       "      <td>0.0</td>\n",
       "      <td>Negative</td>\n",
       "      <td>6</td>\n",
       "      <td>NaN</td>\n",
       "      <td>NaN</td>\n",
       "    </tr>\n",
       "    <tr>\n",
       "      <th>...</th>\n",
       "      <td>...</td>\n",
       "      <td>...</td>\n",
       "      <td>...</td>\n",
       "      <td>...</td>\n",
       "      <td>...</td>\n",
       "      <td>...</td>\n",
       "    </tr>\n",
       "    <tr>\n",
       "      <th>79</th>\n",
       "      <td>{'Neutral': 1.0}</td>\n",
       "      <td>0.0</td>\n",
       "      <td>Negative</td>\n",
       "      <td>370</td>\n",
       "      <td>NaN</td>\n",
       "      <td>NaN</td>\n",
       "    </tr>\n",
       "    <tr>\n",
       "      <th>80</th>\n",
       "      <td>NaN</td>\n",
       "      <td>NaN</td>\n",
       "      <td>Negative</td>\n",
       "      <td>371</td>\n",
       "      <td>{'Negative': 0.67, 'Neutral': 0.33}</td>\n",
       "      <td>inf</td>\n",
       "    </tr>\n",
       "    <tr>\n",
       "      <th>81</th>\n",
       "      <td>{'Negative': 0.67, 'Neutral': 0.33}</td>\n",
       "      <td>inf</td>\n",
       "      <td>Negative</td>\n",
       "      <td>375</td>\n",
       "      <td>{'Positive': 0.31, 'Neutral': 0.38, 'Negative': 0.31}</td>\n",
       "      <td>1.00</td>\n",
       "    </tr>\n",
       "    <tr>\n",
       "      <th>82</th>\n",
       "      <td>{'Positive': 0.31, 'Neutral': 0.38, 'Negative': 0.31}</td>\n",
       "      <td>1.0</td>\n",
       "      <td>Negative</td>\n",
       "      <td>389</td>\n",
       "      <td>{'Negative': 1.0}</td>\n",
       "      <td>inf</td>\n",
       "    </tr>\n",
       "    <tr>\n",
       "      <th>83</th>\n",
       "      <td>{'Negative': 1.0}</td>\n",
       "      <td>inf</td>\n",
       "      <td>Negative</td>\n",
       "      <td>391</td>\n",
       "      <td>{'Positive': 0.17, 'Neutral': 0.53, 'Negative': 0.3}</td>\n",
       "      <td>1.76</td>\n",
       "    </tr>\n",
       "  </tbody>\n",
       "</table>\n",
       "<p>84 rows × 6 columns</p>\n",
       "</div>"
      ],
      "text/plain": [
       "                                   sentiment_beforetarget  \\\n",
       "0                                                     NaN   \n",
       "1                                                     NaN   \n",
       "2                                                     NaN   \n",
       "3                                        {'Neutral': 1.0}   \n",
       "4                                        {'Neutral': 1.0}   \n",
       "..                                                    ...   \n",
       "79                                       {'Neutral': 1.0}   \n",
       "80                                                    NaN   \n",
       "81                    {'Negative': 0.67, 'Neutral': 0.33}   \n",
       "82  {'Positive': 0.31, 'Neutral': 0.38, 'Negative': 0.31}   \n",
       "83                                      {'Negative': 1.0}   \n",
       "\n",
       "    neg_to_pos_beforetarget sentiment_target  target_index  \\\n",
       "0                       NaN          Neutral             0   \n",
       "1                       NaN          Neutral             1   \n",
       "2                       NaN          Neutral             2   \n",
       "3                       0.0         Positive             4   \n",
       "4                       0.0         Negative             6   \n",
       "..                      ...              ...           ...   \n",
       "79                      0.0         Negative           370   \n",
       "80                      NaN         Negative           371   \n",
       "81                      inf         Negative           375   \n",
       "82                      1.0         Negative           389   \n",
       "83                      inf         Negative           391   \n",
       "\n",
       "                                    sentiment_aftertarget  \\\n",
       "0                                                     NaN   \n",
       "1                                                     NaN   \n",
       "2                                        {'Neutral': 1.0}   \n",
       "3                                        {'Neutral': 1.0}   \n",
       "4                                                     NaN   \n",
       "..                                                    ...   \n",
       "79                                                    NaN   \n",
       "80                    {'Negative': 0.67, 'Neutral': 0.33}   \n",
       "81  {'Positive': 0.31, 'Neutral': 0.38, 'Negative': 0.31}   \n",
       "82                                      {'Negative': 1.0}   \n",
       "83   {'Positive': 0.17, 'Neutral': 0.53, 'Negative': 0.3}   \n",
       "\n",
       "    neg_to_pos_aftertarget  \n",
       "0                      NaN  \n",
       "1                      NaN  \n",
       "2                     0.00  \n",
       "3                     0.00  \n",
       "4                      NaN  \n",
       "..                     ...  \n",
       "79                     NaN  \n",
       "80                     inf  \n",
       "81                    1.00  \n",
       "82                     inf  \n",
       "83                    1.76  \n",
       "\n",
       "[84 rows x 6 columns]"
      ]
     },
     "execution_count": 12,
     "metadata": {},
     "output_type": "execute_result"
    }
   ],
   "source": [
    "neg = last_value['Negative']\n",
    "pos = last_value['Positive'] \n",
    "n_p = round(neg/pos,2)\n",
    "\n",
    "neg_to_pos_aftertarget = sentiment_change['neg_to_pos_beforetarget'][1:]\n",
    "neg_to_pos_aftertarget = pd.concat([neg_to_pos_aftertarget, pd.Series([n_p])], ignore_index=True )\n",
    "\n",
    "sentiment_change['neg_to_pos_aftertarget'] = neg_to_pos_aftertarget\n",
    "sentiment_change"
   ]
  },
  {
   "cell_type": "markdown",
   "metadata": {
    "id": "b3RxvqhVTMiW"
   },
   "source": [
    "## calculate number of rows"
   ]
  },
  {
   "cell_type": "code",
   "execution_count": 13,
   "metadata": {
    "colab": {
     "base_uri": "https://localhost:8080/"
    },
    "executionInfo": {
     "elapsed": 258,
     "status": "ok",
     "timestamp": 1673422892963,
     "user": {
      "displayName": "Bella Yang",
      "userId": "16101934561747208179"
     },
     "user_tz": -120
    },
    "id": "k7U1k9hT137n",
    "outputId": "b7328100-b71b-4d68-8943-5dc16500512e"
   },
   "outputs": [
    {
     "name": "stdout",
     "output_type": "stream",
     "text": [
      "[0, 0, 0, 1, 1, 0, 1, 0, 1, 0, 2, 0, 0, 1, 1, 1, 3, 4, 0, 8, 1, 0, 5, 2, 1, 1, 7, 1, 0, 0, 0, 0, 3, 0, 1, 1, 1, 0, 2, 0, 1, 1, 5, 0, 1, 12, 5, 1, 16, 1, 3, 1, 6, 18, 2, 9, 2, 4, 0, 10, 0, 4, 8, 1, 1, 1, 2, 7, 24, 20, 41, 5, 9, 7, 2, 2, 0, 0, 8, 1, 0, 3, 13, 1]\n"
     ]
    }
   ],
   "source": [
    "# calculate number of rows before the target sentiment arrived.\n",
    "row_before = []\n",
    "for i in range(len(target_index)):\n",
    "  if i >0 :\n",
    "    row_before.append(target_index[i] - target_index[i-1]-1)\n",
    "  else:\n",
    "    row_before.append(target_index[i])\n",
    "print(row_before)\n"
   ]
  },
  {
   "cell_type": "code",
   "execution_count": 14,
   "metadata": {
    "colab": {
     "base_uri": "https://localhost:8080/"
    },
    "executionInfo": {
     "elapsed": 267,
     "status": "ok",
     "timestamp": 1673422895872,
     "user": {
      "displayName": "Bella Yang",
      "userId": "16101934561747208179"
     },
     "user_tz": -120
    },
    "id": "p7YLEG8XCClz",
    "outputId": "344ba27e-2525-406e-eaaa-b9f76a366e06"
   },
   "outputs": [
    {
     "name": "stdout",
     "output_type": "stream",
     "text": [
      "[0, 0, 1, 1, 0, 1, 0, 1, 0, 2, 0, 0, 1, 1, 1, 3, 4, 0, 8, 1, 0, 5, 2, 1, 1, 7, 1, 0, 0, 0, 0, 3, 0, 1, 1, 1, 0, 2, 0, 1, 1, 5, 0, 1, 12, 5, 1, 16, 1, 3, 1, 6, 18, 2, 9, 2, 4, 0, 10, 0, 4, 8, 1, 1, 1, 2, 7, 24, 20, 41, 5, 9, 7, 2, 2, 0, 0, 8, 1, 0, 3, 13, 1, 107]\n"
     ]
    }
   ],
   "source": [
    "# calculate number of rows after the target sentiment arrived.\n",
    "row_after = []\n",
    "for i in range(len(target_index)):\n",
    "  if i+1 < len(target_index):\n",
    "    row_after.append(target_index[i+1] - target_index[i]-1)\n",
    "  else: #last one\n",
    "    row_after.append(src.index[-1]-target_index[i])\n",
    "print(row_after)\n"
   ]
  },
  {
   "cell_type": "code",
   "execution_count": 15,
   "metadata": {
    "executionInfo": {
     "elapsed": 282,
     "status": "ok",
     "timestamp": 1673422898521,
     "user": {
      "displayName": "Bella Yang",
      "userId": "16101934561747208179"
     },
     "user_tz": -120
    },
    "id": "dFSAYg3k12YQ"
   },
   "outputs": [],
   "source": [
    "sentiment_change['count_of_rows_bef'] = pd.Series(row_before)\n",
    "sentiment_change['count_of_rows_after'] = pd.Series(row_after)"
   ]
  },
  {
   "cell_type": "code",
   "execution_count": 16,
   "metadata": {
    "colab": {
     "base_uri": "https://localhost:8080/"
    },
    "executionInfo": {
     "elapsed": 271,
     "status": "ok",
     "timestamp": 1673422900053,
     "user": {
      "displayName": "Bella Yang",
      "userId": "16101934561747208179"
     },
     "user_tz": -120
    },
    "id": "TLJPY1JoGEam",
    "outputId": "13530c60-0085-4379-fb27-031cf5df4257"
   },
   "outputs": [
    {
     "data": {
      "text/plain": [
       "Index(['sentiment_beforetarget', 'neg_to_pos_beforetarget', 'sentiment_target',\n",
       "       'target_index', 'sentiment_aftertarget', 'neg_to_pos_aftertarget',\n",
       "       'count_of_rows_bef', 'count_of_rows_after'],\n",
       "      dtype='object')"
      ]
     },
     "execution_count": 16,
     "metadata": {},
     "output_type": "execute_result"
    }
   ],
   "source": [
    "sentiment_change.columns"
   ]
  },
  {
   "cell_type": "code",
   "execution_count": 17,
   "metadata": {
    "colab": {
     "base_uri": "https://localhost:8080/",
     "height": 1000
    },
    "executionInfo": {
     "elapsed": 293,
     "status": "ok",
     "timestamp": 1673423030258,
     "user": {
      "displayName": "Bella Yang",
      "userId": "16101934561747208179"
     },
     "user_tz": -120
    },
    "id": "GEuNPFThMdhm",
    "outputId": "96512023-0e78-44b1-f594-524a6f161cf6"
   },
   "outputs": [
    {
     "data": {
      "text/html": [
       "<div>\n",
       "<style scoped>\n",
       "    .dataframe tbody tr th:only-of-type {\n",
       "        vertical-align: middle;\n",
       "    }\n",
       "\n",
       "    .dataframe tbody tr th {\n",
       "        vertical-align: top;\n",
       "    }\n",
       "\n",
       "    .dataframe thead th {\n",
       "        text-align: right;\n",
       "    }\n",
       "</style>\n",
       "<table border=\"1\" class=\"dataframe\">\n",
       "  <thead>\n",
       "    <tr style=\"text-align: right;\">\n",
       "      <th></th>\n",
       "      <th>sentiment_beforetarget</th>\n",
       "      <th>neg_to_pos_beforetarget</th>\n",
       "      <th>count_of_rows_bef</th>\n",
       "      <th>sentiment_target</th>\n",
       "      <th>sentiment_aftertarget</th>\n",
       "      <th>neg_to_pos_aftertarget</th>\n",
       "      <th>count_of_rows_after</th>\n",
       "    </tr>\n",
       "  </thead>\n",
       "  <tbody>\n",
       "    <tr>\n",
       "      <th>0</th>\n",
       "      <td>NaN</td>\n",
       "      <td>NaN</td>\n",
       "      <td>0</td>\n",
       "      <td>Neutral</td>\n",
       "      <td>NaN</td>\n",
       "      <td>NaN</td>\n",
       "      <td>0</td>\n",
       "    </tr>\n",
       "    <tr>\n",
       "      <th>1</th>\n",
       "      <td>NaN</td>\n",
       "      <td>NaN</td>\n",
       "      <td>0</td>\n",
       "      <td>Neutral</td>\n",
       "      <td>NaN</td>\n",
       "      <td>NaN</td>\n",
       "      <td>0</td>\n",
       "    </tr>\n",
       "    <tr>\n",
       "      <th>2</th>\n",
       "      <td>NaN</td>\n",
       "      <td>NaN</td>\n",
       "      <td>0</td>\n",
       "      <td>Neutral</td>\n",
       "      <td>{'Neutral': 1.0}</td>\n",
       "      <td>0.00</td>\n",
       "      <td>1</td>\n",
       "    </tr>\n",
       "    <tr>\n",
       "      <th>3</th>\n",
       "      <td>{'Neutral': 1.0}</td>\n",
       "      <td>0.0</td>\n",
       "      <td>1</td>\n",
       "      <td>Positive</td>\n",
       "      <td>{'Neutral': 1.0}</td>\n",
       "      <td>0.00</td>\n",
       "      <td>1</td>\n",
       "    </tr>\n",
       "    <tr>\n",
       "      <th>4</th>\n",
       "      <td>{'Neutral': 1.0}</td>\n",
       "      <td>0.0</td>\n",
       "      <td>1</td>\n",
       "      <td>Negative</td>\n",
       "      <td>NaN</td>\n",
       "      <td>NaN</td>\n",
       "      <td>0</td>\n",
       "    </tr>\n",
       "    <tr>\n",
       "      <th>...</th>\n",
       "      <td>...</td>\n",
       "      <td>...</td>\n",
       "      <td>...</td>\n",
       "      <td>...</td>\n",
       "      <td>...</td>\n",
       "      <td>...</td>\n",
       "      <td>...</td>\n",
       "    </tr>\n",
       "    <tr>\n",
       "      <th>79</th>\n",
       "      <td>{'Neutral': 1.0}</td>\n",
       "      <td>0.0</td>\n",
       "      <td>1</td>\n",
       "      <td>Negative</td>\n",
       "      <td>NaN</td>\n",
       "      <td>NaN</td>\n",
       "      <td>0</td>\n",
       "    </tr>\n",
       "    <tr>\n",
       "      <th>80</th>\n",
       "      <td>NaN</td>\n",
       "      <td>NaN</td>\n",
       "      <td>0</td>\n",
       "      <td>Negative</td>\n",
       "      <td>{'Negative': 0.67, 'Neutral': 0.33}</td>\n",
       "      <td>inf</td>\n",
       "      <td>3</td>\n",
       "    </tr>\n",
       "    <tr>\n",
       "      <th>81</th>\n",
       "      <td>{'Negative': 0.67, 'Neutral': 0.33}</td>\n",
       "      <td>inf</td>\n",
       "      <td>3</td>\n",
       "      <td>Negative</td>\n",
       "      <td>{'Positive': 0.31, 'Neutral': 0.38, 'Negative': 0.31}</td>\n",
       "      <td>1.00</td>\n",
       "      <td>13</td>\n",
       "    </tr>\n",
       "    <tr>\n",
       "      <th>82</th>\n",
       "      <td>{'Positive': 0.31, 'Neutral': 0.38, 'Negative': 0.31}</td>\n",
       "      <td>1.0</td>\n",
       "      <td>13</td>\n",
       "      <td>Negative</td>\n",
       "      <td>{'Negative': 1.0}</td>\n",
       "      <td>inf</td>\n",
       "      <td>1</td>\n",
       "    </tr>\n",
       "    <tr>\n",
       "      <th>83</th>\n",
       "      <td>{'Negative': 1.0}</td>\n",
       "      <td>inf</td>\n",
       "      <td>1</td>\n",
       "      <td>Negative</td>\n",
       "      <td>{'Positive': 0.17, 'Neutral': 0.53, 'Negative': 0.3}</td>\n",
       "      <td>1.76</td>\n",
       "      <td>107</td>\n",
       "    </tr>\n",
       "  </tbody>\n",
       "</table>\n",
       "<p>84 rows × 7 columns</p>\n",
       "</div>"
      ],
      "text/plain": [
       "                                   sentiment_beforetarget  \\\n",
       "0                                                     NaN   \n",
       "1                                                     NaN   \n",
       "2                                                     NaN   \n",
       "3                                        {'Neutral': 1.0}   \n",
       "4                                        {'Neutral': 1.0}   \n",
       "..                                                    ...   \n",
       "79                                       {'Neutral': 1.0}   \n",
       "80                                                    NaN   \n",
       "81                    {'Negative': 0.67, 'Neutral': 0.33}   \n",
       "82  {'Positive': 0.31, 'Neutral': 0.38, 'Negative': 0.31}   \n",
       "83                                      {'Negative': 1.0}   \n",
       "\n",
       "    neg_to_pos_beforetarget  count_of_rows_bef sentiment_target  \\\n",
       "0                       NaN                  0          Neutral   \n",
       "1                       NaN                  0          Neutral   \n",
       "2                       NaN                  0          Neutral   \n",
       "3                       0.0                  1         Positive   \n",
       "4                       0.0                  1         Negative   \n",
       "..                      ...                ...              ...   \n",
       "79                      0.0                  1         Negative   \n",
       "80                      NaN                  0         Negative   \n",
       "81                      inf                  3         Negative   \n",
       "82                      1.0                 13         Negative   \n",
       "83                      inf                  1         Negative   \n",
       "\n",
       "                                    sentiment_aftertarget  \\\n",
       "0                                                     NaN   \n",
       "1                                                     NaN   \n",
       "2                                        {'Neutral': 1.0}   \n",
       "3                                        {'Neutral': 1.0}   \n",
       "4                                                     NaN   \n",
       "..                                                    ...   \n",
       "79                                                    NaN   \n",
       "80                    {'Negative': 0.67, 'Neutral': 0.33}   \n",
       "81  {'Positive': 0.31, 'Neutral': 0.38, 'Negative': 0.31}   \n",
       "82                                      {'Negative': 1.0}   \n",
       "83   {'Positive': 0.17, 'Neutral': 0.53, 'Negative': 0.3}   \n",
       "\n",
       "    neg_to_pos_aftertarget  count_of_rows_after  \n",
       "0                      NaN                    0  \n",
       "1                      NaN                    0  \n",
       "2                     0.00                    1  \n",
       "3                     0.00                    1  \n",
       "4                      NaN                    0  \n",
       "..                     ...                  ...  \n",
       "79                     NaN                    0  \n",
       "80                     inf                    3  \n",
       "81                    1.00                   13  \n",
       "82                     inf                    1  \n",
       "83                    1.76                  107  \n",
       "\n",
       "[84 rows x 7 columns]"
      ]
     },
     "execution_count": 17,
     "metadata": {},
     "output_type": "execute_result"
    }
   ],
   "source": [
    "sentiment_change = sentiment_change[['sentiment_beforetarget', 'neg_to_pos_beforetarget','count_of_rows_bef',  \n",
    "                                    'sentiment_target',\n",
    "                                    'sentiment_aftertarget', 'neg_to_pos_aftertarget','count_of_rows_after']]\n",
    "sentiment_change"
   ]
  },
  {
   "cell_type": "markdown",
   "metadata": {
    "id": "BYGCIu4EB6DA"
   },
   "source": [
    "# save file"
   ]
  },
  {
   "cell_type": "code",
   "execution_count": 18,
   "metadata": {
    "executionInfo": {
     "elapsed": 9,
     "status": "ok",
     "timestamp": 1673425933068,
     "user": {
      "displayName": "Bella Yang",
      "userId": "16101934561747208179"
     },
     "user_tz": -120
    },
    "id": "dcowSy_thtJy"
   },
   "outputs": [],
   "source": [
    "savepath = 'sydneysiege/18 targetanalysis/twanalysis/src_target_sentiment.csv'\n",
    "\n",
    "with open(savepath, 'w', encoding = 'utf-8') as f:\n",
    "  sentiment_change.to_csv(f)"
   ]
  },
  {
   "cell_type": "code",
   "execution_count": null,
   "metadata": {
    "id": "qPX7Qvo6_e_2"
   },
   "outputs": [],
   "source": []
  }
 ],
 "metadata": {
  "colab": {
   "authorship_tag": "ABX9TyN+CTXjuw5HER2eWmz/JwEJ",
   "collapsed_sections": [
    "iiPzibWtTDQn"
   ],
   "provenance": []
  },
  "kernelspec": {
   "display_name": "Python 3",
   "language": "python",
   "name": "python3"
  },
  "language_info": {
   "codemirror_mode": {
    "name": "ipython",
    "version": 3
   },
   "file_extension": ".py",
   "mimetype": "text/x-python",
   "name": "python",
   "nbconvert_exporter": "python",
   "pygments_lexer": "ipython3",
   "version": "3.9.1"
  }
 },
 "nbformat": 4,
 "nbformat_minor": 4
}
