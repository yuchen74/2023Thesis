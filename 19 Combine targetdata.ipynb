{
 "cells": [
  {
   "cell_type": "markdown",
   "id": "expired-appraisal",
   "metadata": {},
   "source": [
    "Output: (save to folder '/18 analysis')\n",
    "1. ***'sydneysiege_target_reply_entire.csv'*** (rumor reply data)\n",
    "2. ***'combined_rumor_target.csv'*** (rumor src+reply data)"
   ]
  },
  {
   "cell_type": "markdown",
   "id": "vertical-dining",
   "metadata": {
    "id": "4rJc_NMo5EWj"
   },
   "source": [
    "# Load library"
   ]
  },
  {
   "cell_type": "code",
   "execution_count": 27,
   "id": "solar-member",
   "metadata": {
    "id": "cvTpUrviEfx9"
   },
   "outputs": [],
   "source": [
    "import numpy as np\n",
    "import pandas as pd\n",
    "import matplotlib.pyplot as plt\n",
    "import seaborn as sns\n",
    "import os"
   ]
  },
  {
   "cell_type": "code",
   "execution_count": 29,
   "id": "durable-cathedral",
   "metadata": {},
   "outputs": [],
   "source": [
    "os.chdir('D:\\\\論文\\\\PHEME9\\\\Code')"
   ]
  },
  {
   "cell_type": "markdown",
   "id": "inside-consciousness",
   "metadata": {
    "id": "AcHm-u-MBU05"
   },
   "source": [
    "# Combine rumor reply data \n",
    "1. from manual-targetlabel \n",
    "2. from model-targetlabel \n",
    "\n",
    "then, store the combined data into the variable: *rumor_reply*"
   ]
  },
  {
   "cell_type": "code",
   "execution_count": 30,
   "id": "about-truck",
   "metadata": {
    "colab": {
     "base_uri": "https://localhost:8080/",
     "height": 458
    },
    "id": "VEPH1GfWVqaD",
    "outputId": "3e96122b-bfc0-449a-83ee-f79a10d829c7"
   },
   "outputs": [
    {
     "data": {
      "text/plain": [
       "(6792, 9)"
      ]
     },
     "execution_count": 30,
     "metadata": {},
     "output_type": "execute_result"
    }
   ],
   "source": [
    "reply_model_target = pd.read_csv('sydneysiege/18 targetanalysis/targetdata/reply_model_targetlabel.csv',header=0,encoding='utf-8',index_col=0)\n",
    "reply_model_target.shape"
   ]
  },
  {
   "cell_type": "markdown",
   "id": "muslim-dutch",
   "metadata": {
    "id": "iPfZj9efCNaT"
   },
   "source": [
    "## manual-targetlabel"
   ]
  },
  {
   "cell_type": "code",
   "execution_count": 5,
   "id": "instant-facility",
   "metadata": {
    "colab": {
     "base_uri": "https://localhost:8080/",
     "height": 444
    },
    "id": "CKMIwBg_Xozc",
    "outputId": "7cd6ef63-527c-4bee-8b03-94b2e24c7647"
   },
   "outputs": [
    {
     "data": {
      "text/plain": [
       "(579, 9)"
      ]
     },
     "execution_count": 5,
     "metadata": {},
     "output_type": "execute_result"
    }
   ],
   "source": [
    "reply_manual_target = pd.read_csv('sydneysiege/18 targetanalysis/targetdata/sydneysiege-target-reply-600.csv\",\n",
    "                                  header = 0,encoding='utf-8')\n",
    "reply_manual_target.shape"
   ]
  },
  {
   "cell_type": "markdown",
   "id": "generic-netscape",
   "metadata": {
    "id": "XF0L62lKCSvB"
   },
   "source": [
    "## concat these two dataframe"
   ]
  },
  {
   "cell_type": "code",
   "execution_count": 6,
   "id": "abroad-london",
   "metadata": {},
   "outputs": [
    {
     "data": {
      "text/plain": [
       "True"
      ]
     },
     "execution_count": 6,
     "metadata": {},
     "output_type": "execute_result"
    }
   ],
   "source": [
    "set(reply_manual_target.columns) == set(reply_model_target.columns)"
   ]
  },
  {
   "cell_type": "code",
   "execution_count": 7,
   "id": "featured-cisco",
   "metadata": {
    "id": "y6I2Z6c5Y7dj"
   },
   "outputs": [],
   "source": [
    "rumor_reply = pd.concat([reply_model_target,reply_manual_target],axis = 0,ignore_index = True)"
   ]
  },
  {
   "cell_type": "code",
   "execution_count": 8,
   "id": "detected-protocol",
   "metadata": {
    "colab": {
     "base_uri": "https://localhost:8080/"
    },
    "id": "F0Ez-gEna-et",
    "outputId": "f7f7a461-f624-4455-d1a3-d01eb6287d92"
   },
   "outputs": [
    {
     "data": {
      "text/plain": [
       "0"
      ]
     },
     "execution_count": 8,
     "metadata": {},
     "output_type": "execute_result"
    }
   ],
   "source": [
    "# check if there is any duplicates\n",
    "rumor_reply.duplicated(subset='reply_tweet_id').sum()"
   ]
  },
  {
   "cell_type": "code",
   "execution_count": 9,
   "id": "novel-authority",
   "metadata": {},
   "outputs": [
    {
     "data": {
      "text/plain": [
       "src_tweet_id        0\n",
       "reply_tweet_id      0\n",
       "reply_user_id       0\n",
       "reply_tweet         0\n",
       "reply_date          0\n",
       "rumorlabel          0\n",
       "cleaned_reply_tw    0\n",
       "reply_sentiment     0\n",
       "targetlabel         0\n",
       "dtype: int64"
      ]
     },
     "execution_count": 9,
     "metadata": {},
     "output_type": "execute_result"
    }
   ],
   "source": [
    "rumor_reply.isnull().sum()"
   ]
  },
  {
   "cell_type": "code",
   "execution_count": 10,
   "id": "consistent-canyon",
   "metadata": {
    "colab": {
     "base_uri": "https://localhost:8080/",
     "height": 745
    },
    "id": "Ikzb0fNMbeNW",
    "outputId": "33042c91-1c52-4b5f-81d9-d39cd1386e8c"
   },
   "outputs": [
    {
     "data": {
      "text/html": [
       "<div>\n",
       "<style scoped>\n",
       "    .dataframe tbody tr th:only-of-type {\n",
       "        vertical-align: middle;\n",
       "    }\n",
       "\n",
       "    .dataframe tbody tr th {\n",
       "        vertical-align: top;\n",
       "    }\n",
       "\n",
       "    .dataframe thead th {\n",
       "        text-align: right;\n",
       "    }\n",
       "</style>\n",
       "<table border=\"1\" class=\"dataframe\">\n",
       "  <thead>\n",
       "    <tr style=\"text-align: right;\">\n",
       "      <th></th>\n",
       "      <th>src_tweet_id</th>\n",
       "      <th>reply_tweet_id</th>\n",
       "      <th>reply_user_id</th>\n",
       "      <th>reply_tweet</th>\n",
       "      <th>reply_date</th>\n",
       "      <th>rumorlabel</th>\n",
       "      <th>cleaned_reply_tw</th>\n",
       "      <th>reply_sentiment</th>\n",
       "      <th>targetlabel</th>\n",
       "    </tr>\n",
       "  </thead>\n",
       "  <tbody>\n",
       "    <tr>\n",
       "      <th>0</th>\n",
       "      <td>544267656597995521</td>\n",
       "      <td>544269152198721536</td>\n",
       "      <td>443573208</td>\n",
       "      <td>@KristyMayr7 that is not an IS flag specifically.</td>\n",
       "      <td>Sun Dec 14 23:14:12 +0000 2014</td>\n",
       "      <td>1</td>\n",
       "      <td>not flag specifically</td>\n",
       "      <td>Neutral</td>\n",
       "      <td>0</td>\n",
       "    </tr>\n",
       "    <tr>\n",
       "      <th>1</th>\n",
       "      <td>544267656597995521</td>\n",
       "      <td>544269478406529024</td>\n",
       "      <td>2700238212</td>\n",
       "      <td>@KristyMayr7 omg\\r\\nI'm watching it on @mornin...</td>\n",
       "      <td>Sun Dec 14 23:15:30 +0000 2014</td>\n",
       "      <td>1</td>\n",
       "      <td>omg im watch</td>\n",
       "      <td>Neutral</td>\n",
       "      <td>0</td>\n",
       "    </tr>\n",
       "    <tr>\n",
       "      <th>2</th>\n",
       "      <td>544267656597995521</td>\n",
       "      <td>544270016770633728</td>\n",
       "      <td>760246262</td>\n",
       "      <td>@KristyMayr7 @DeepPolitics dudes, not the flag...</td>\n",
       "      <td>Sun Dec 14 23:17:38 +0000 2014</td>\n",
       "      <td>1</td>\n",
       "      <td>dudes not flag use isis</td>\n",
       "      <td>Neutral</td>\n",
       "      <td>1</td>\n",
       "    </tr>\n",
       "    <tr>\n",
       "      <th>3</th>\n",
       "      <td>544267656597995521</td>\n",
       "      <td>544270351619067904</td>\n",
       "      <td>2670053628</td>\n",
       "      <td>@KristyMayr7 @bluebuzzbird How pathetic! These...</td>\n",
       "      <td>Sun Dec 14 23:18:58 +0000 2014</td>\n",
       "      <td>1</td>\n",
       "      <td>pathetic poor people</td>\n",
       "      <td>Negative</td>\n",
       "      <td>0</td>\n",
       "    </tr>\n",
       "    <tr>\n",
       "      <th>4</th>\n",
       "      <td>544267656597995521</td>\n",
       "      <td>544270614442557441</td>\n",
       "      <td>2670053628</td>\n",
       "      <td>@KristyMayr7 @bluebuzzbird Lindt is just a cof...</td>\n",
       "      <td>Sun Dec 14 23:20:01 +0000 2014</td>\n",
       "      <td>1</td>\n",
       "      <td>lindt coffee shop right something else</td>\n",
       "      <td>Neutral</td>\n",
       "      <td>0</td>\n",
       "    </tr>\n",
       "    <tr>\n",
       "      <th>...</th>\n",
       "      <td>...</td>\n",
       "      <td>...</td>\n",
       "      <td>...</td>\n",
       "      <td>...</td>\n",
       "      <td>...</td>\n",
       "      <td>...</td>\n",
       "      <td>...</td>\n",
       "      <td>...</td>\n",
       "      <td>...</td>\n",
       "    </tr>\n",
       "    <tr>\n",
       "      <th>7366</th>\n",
       "      <td>544508479675711489</td>\n",
       "      <td>544511245794025473</td>\n",
       "      <td>313313775</td>\n",
       "      <td>@Sema4beach @iamnotshouting @NicholasDole @ABC...</td>\n",
       "      <td>Mon Dec 15 15:16:12 +0000 2014</td>\n",
       "      <td>1</td>\n",
       "      <td>watch happen glad hostages okay</td>\n",
       "      <td>Positive</td>\n",
       "      <td>0</td>\n",
       "    </tr>\n",
       "    <tr>\n",
       "      <th>7367</th>\n",
       "      <td>544277650714677249</td>\n",
       "      <td>544279360048340993</td>\n",
       "      <td>90059772</td>\n",
       "      <td>@brianstelter Thanks for posting the link, Bro...</td>\n",
       "      <td>Sun Dec 14 23:54:46 +0000 2014</td>\n",
       "      <td>1</td>\n",
       "      <td>thank post link brother brian</td>\n",
       "      <td>Positive</td>\n",
       "      <td>0</td>\n",
       "    </tr>\n",
       "    <tr>\n",
       "      <th>7368</th>\n",
       "      <td>544334554631536640</td>\n",
       "      <td>544335260931350528</td>\n",
       "      <td>715206841</td>\n",
       "      <td>@Reuters Do the leftist Democrats in charge of...</td>\n",
       "      <td>Mon Dec 15 03:36:54 +0000 2014</td>\n",
       "      <td>1</td>\n",
       "      <td>leftist democrats charge party realize danger ...</td>\n",
       "      <td>Negative</td>\n",
       "      <td>1</td>\n",
       "    </tr>\n",
       "    <tr>\n",
       "      <th>7369</th>\n",
       "      <td>544356997718900736</td>\n",
       "      <td>544357125427056641</td>\n",
       "      <td>929662333</td>\n",
       "      <td>@cnnbrk For Only $9 You Can Buy 3K Followers h...</td>\n",
       "      <td>Mon Dec 15 05:03:47 +0000 2014</td>\n",
       "      <td>1</td>\n",
       "      <td>buy k followers</td>\n",
       "      <td>Neutral</td>\n",
       "      <td>0</td>\n",
       "    </tr>\n",
       "    <tr>\n",
       "      <th>7370</th>\n",
       "      <td>544333764814323713</td>\n",
       "      <td>544372144298131456</td>\n",
       "      <td>205024182</td>\n",
       "      <td>@fredwillie460 @majanahi @princekhattab And wh...</td>\n",
       "      <td>Mon Dec 15 06:03:27 +0000 2014</td>\n",
       "      <td>1</td>\n",
       "      <td>agenda would certainly not proisrael lol</td>\n",
       "      <td>Neutral</td>\n",
       "      <td>0</td>\n",
       "    </tr>\n",
       "  </tbody>\n",
       "</table>\n",
       "<p>7371 rows × 9 columns</p>\n",
       "</div>"
      ],
      "text/plain": [
       "            src_tweet_id      reply_tweet_id  reply_user_id  \\\n",
       "0     544267656597995521  544269152198721536      443573208   \n",
       "1     544267656597995521  544269478406529024     2700238212   \n",
       "2     544267656597995521  544270016770633728      760246262   \n",
       "3     544267656597995521  544270351619067904     2670053628   \n",
       "4     544267656597995521  544270614442557441     2670053628   \n",
       "...                  ...                 ...            ...   \n",
       "7366  544508479675711489  544511245794025473      313313775   \n",
       "7367  544277650714677249  544279360048340993       90059772   \n",
       "7368  544334554631536640  544335260931350528      715206841   \n",
       "7369  544356997718900736  544357125427056641      929662333   \n",
       "7370  544333764814323713  544372144298131456      205024182   \n",
       "\n",
       "                                            reply_tweet  \\\n",
       "0     @KristyMayr7 that is not an IS flag specifically.   \n",
       "1     @KristyMayr7 omg\\r\\nI'm watching it on @mornin...   \n",
       "2     @KristyMayr7 @DeepPolitics dudes, not the flag...   \n",
       "3     @KristyMayr7 @bluebuzzbird How pathetic! These...   \n",
       "4     @KristyMayr7 @bluebuzzbird Lindt is just a cof...   \n",
       "...                                                 ...   \n",
       "7366  @Sema4beach @iamnotshouting @NicholasDole @ABC...   \n",
       "7367  @brianstelter Thanks for posting the link, Bro...   \n",
       "7368  @Reuters Do the leftist Democrats in charge of...   \n",
       "7369  @cnnbrk For Only $9 You Can Buy 3K Followers h...   \n",
       "7370  @fredwillie460 @majanahi @princekhattab And wh...   \n",
       "\n",
       "                          reply_date  rumorlabel  \\\n",
       "0     Sun Dec 14 23:14:12 +0000 2014           1   \n",
       "1     Sun Dec 14 23:15:30 +0000 2014           1   \n",
       "2     Sun Dec 14 23:17:38 +0000 2014           1   \n",
       "3     Sun Dec 14 23:18:58 +0000 2014           1   \n",
       "4     Sun Dec 14 23:20:01 +0000 2014           1   \n",
       "...                              ...         ...   \n",
       "7366  Mon Dec 15 15:16:12 +0000 2014           1   \n",
       "7367  Sun Dec 14 23:54:46 +0000 2014           1   \n",
       "7368  Mon Dec 15 03:36:54 +0000 2014           1   \n",
       "7369  Mon Dec 15 05:03:47 +0000 2014           1   \n",
       "7370  Mon Dec 15 06:03:27 +0000 2014           1   \n",
       "\n",
       "                                       cleaned_reply_tw reply_sentiment  \\\n",
       "0                                 not flag specifically         Neutral   \n",
       "1                                          omg im watch         Neutral   \n",
       "2                               dudes not flag use isis         Neutral   \n",
       "3                                  pathetic poor people        Negative   \n",
       "4                lindt coffee shop right something else         Neutral   \n",
       "...                                                 ...             ...   \n",
       "7366                    watch happen glad hostages okay        Positive   \n",
       "7367                      thank post link brother brian        Positive   \n",
       "7368  leftist democrats charge party realize danger ...        Negative   \n",
       "7369                                    buy k followers         Neutral   \n",
       "7370           agenda would certainly not proisrael lol         Neutral   \n",
       "\n",
       "      targetlabel  \n",
       "0               0  \n",
       "1               0  \n",
       "2               1  \n",
       "3               0  \n",
       "4               0  \n",
       "...           ...  \n",
       "7366            0  \n",
       "7367            0  \n",
       "7368            1  \n",
       "7369            0  \n",
       "7370            0  \n",
       "\n",
       "[7371 rows x 9 columns]"
      ]
     },
     "execution_count": 10,
     "metadata": {},
     "output_type": "execute_result"
    }
   ],
   "source": [
    "rumor_reply.reset_index(inplace=True,drop=True)\n",
    "rumor_reply"
   ]
  },
  {
   "cell_type": "code",
   "execution_count": 11,
   "id": "moved-remains",
   "metadata": {},
   "outputs": [
    {
     "data": {
      "text/plain": [
       "(7371, 9)"
      ]
     },
     "execution_count": 11,
     "metadata": {},
     "output_type": "execute_result"
    }
   ],
   "source": [
    "rumor_reply.shape"
   ]
  },
  {
   "cell_type": "markdown",
   "id": "figured-walker",
   "metadata": {
    "id": "5wQxJSc7BKUS"
   },
   "source": [
    "## extract other information from original data"
   ]
  },
  {
   "cell_type": "markdown",
   "id": "reflected-adams",
   "metadata": {
    "id": "2G8li34GCxmR"
   },
   "source": [
    "steps:\n",
    "1. load entire reply data (rumor and nonrumor reply tweets) variable: \"*reply*\"\n",
    "2. extract some columns from *reply* dataframe and merge them with *rumor_reply* on reply_tweet_id"
   ]
  },
  {
   "cell_type": "markdown",
   "id": "perfect-whale",
   "metadata": {},
   "source": [
    "### step1"
   ]
  },
  {
   "cell_type": "code",
   "execution_count": 15,
   "id": "substantial-marketing",
   "metadata": {
    "colab": {
     "base_uri": "https://localhost:8080/",
     "height": 704
    },
    "id": "a4SgHrobV3C0",
    "outputId": "72946ba9-a030-4442-b451-2369cab5f102"
   },
   "outputs": [
    {
     "data": {
      "text/html": [
       "<div>\n",
       "<style scoped>\n",
       "    .dataframe tbody tr th:only-of-type {\n",
       "        vertical-align: middle;\n",
       "    }\n",
       "\n",
       "    .dataframe tbody tr th {\n",
       "        vertical-align: top;\n",
       "    }\n",
       "\n",
       "    .dataframe thead th {\n",
       "        text-align: right;\n",
       "    }\n",
       "</style>\n",
       "<table border=\"1\" class=\"dataframe\">\n",
       "  <thead>\n",
       "    <tr style=\"text-align: right;\">\n",
       "      <th></th>\n",
       "      <th>src_tweet_id</th>\n",
       "      <th>src_user_id</th>\n",
       "      <th>src_tweet</th>\n",
       "      <th>src_date</th>\n",
       "      <th>reply_tweet_id</th>\n",
       "      <th>reply_user_id</th>\n",
       "      <th>reply_tweet</th>\n",
       "      <th>reply_date</th>\n",
       "      <th>label</th>\n",
       "      <th>cleaned_reply_tw</th>\n",
       "      <th>reply_sentiment</th>\n",
       "    </tr>\n",
       "  </thead>\n",
       "  <tbody>\n",
       "    <tr>\n",
       "      <th>0</th>\n",
       "      <td>544266241511133186</td>\n",
       "      <td>23041630</td>\n",
       "      <td>A police operation is underway in Martin Place...</td>\n",
       "      <td>Sun Dec 14 23:02:38 +0000 2014</td>\n",
       "      <td>544270066661851136</td>\n",
       "      <td>27735195</td>\n",
       "      <td>“@nswpolice: A police operation is underway in...</td>\n",
       "      <td>Sun Dec 14 23:17:50 +0000 2014</td>\n",
       "      <td>0</td>\n",
       "      <td>NaN</td>\n",
       "      <td>Neutral</td>\n",
       "    </tr>\n",
       "    <tr>\n",
       "      <th>1</th>\n",
       "      <td>544266241511133186</td>\n",
       "      <td>23041630</td>\n",
       "      <td>A police operation is underway in Martin Place...</td>\n",
       "      <td>Sun Dec 14 23:02:38 +0000 2014</td>\n",
       "      <td>544273361334194176</td>\n",
       "      <td>14875436</td>\n",
       "      <td>RT @nswpolice: A police operation is underway ...</td>\n",
       "      <td>Sun Dec 14 23:30:56 +0000 2014</td>\n",
       "      <td>0</td>\n",
       "      <td>NaN</td>\n",
       "      <td>Neutral</td>\n",
       "    </tr>\n",
       "    <tr>\n",
       "      <th>2</th>\n",
       "      <td>544266241511133186</td>\n",
       "      <td>23041630</td>\n",
       "      <td>A police operation is underway in Martin Place...</td>\n",
       "      <td>Sun Dec 14 23:02:38 +0000 2014</td>\n",
       "      <td>544275366588588032</td>\n",
       "      <td>14121167</td>\n",
       "      <td>“@nswpolice: A police operation is underway in...</td>\n",
       "      <td>Sun Dec 14 23:38:54 +0000 2014</td>\n",
       "      <td>0</td>\n",
       "      <td>sicken</td>\n",
       "      <td>Negative</td>\n",
       "    </tr>\n",
       "    <tr>\n",
       "      <th>3</th>\n",
       "      <td>544266241511133186</td>\n",
       "      <td>23041630</td>\n",
       "      <td>A police operation is underway in Martin Place...</td>\n",
       "      <td>Sun Dec 14 23:02:38 +0000 2014</td>\n",
       "      <td>544276615316770816</td>\n",
       "      <td>187877777</td>\n",
       "      <td>RT @nswpolice: A police operation is underway ...</td>\n",
       "      <td>Sun Dec 14 23:43:51 +0000 2014</td>\n",
       "      <td>0</td>\n",
       "      <td>NaN</td>\n",
       "      <td>Neutral</td>\n",
       "    </tr>\n",
       "    <tr>\n",
       "      <th>4</th>\n",
       "      <td>544266241511133186</td>\n",
       "      <td>23041630</td>\n",
       "      <td>A police operation is underway in Martin Place...</td>\n",
       "      <td>Sun Dec 14 23:02:38 +0000 2014</td>\n",
       "      <td>544278115589976065</td>\n",
       "      <td>372216479</td>\n",
       "      <td>RT “@nswpolice: A police operation is underway...</td>\n",
       "      <td>Sun Dec 14 23:49:49 +0000 2014</td>\n",
       "      <td>0</td>\n",
       "      <td>NaN</td>\n",
       "      <td>Neutral</td>\n",
       "    </tr>\n",
       "  </tbody>\n",
       "</table>\n",
       "</div>"
      ],
      "text/plain": [
       "         src_tweet_id  src_user_id  \\\n",
       "0  544266241511133186     23041630   \n",
       "1  544266241511133186     23041630   \n",
       "2  544266241511133186     23041630   \n",
       "3  544266241511133186     23041630   \n",
       "4  544266241511133186     23041630   \n",
       "\n",
       "                                           src_tweet  \\\n",
       "0  A police operation is underway in Martin Place...   \n",
       "1  A police operation is underway in Martin Place...   \n",
       "2  A police operation is underway in Martin Place...   \n",
       "3  A police operation is underway in Martin Place...   \n",
       "4  A police operation is underway in Martin Place...   \n",
       "\n",
       "                         src_date      reply_tweet_id  reply_user_id  \\\n",
       "0  Sun Dec 14 23:02:38 +0000 2014  544270066661851136       27735195   \n",
       "1  Sun Dec 14 23:02:38 +0000 2014  544273361334194176       14875436   \n",
       "2  Sun Dec 14 23:02:38 +0000 2014  544275366588588032       14121167   \n",
       "3  Sun Dec 14 23:02:38 +0000 2014  544276615316770816      187877777   \n",
       "4  Sun Dec 14 23:02:38 +0000 2014  544278115589976065      372216479   \n",
       "\n",
       "                                         reply_tweet  \\\n",
       "0  “@nswpolice: A police operation is underway in...   \n",
       "1  RT @nswpolice: A police operation is underway ...   \n",
       "2  “@nswpolice: A police operation is underway in...   \n",
       "3  RT @nswpolice: A police operation is underway ...   \n",
       "4  RT “@nswpolice: A police operation is underway...   \n",
       "\n",
       "                       reply_date  label cleaned_reply_tw reply_sentiment  \n",
       "0  Sun Dec 14 23:17:50 +0000 2014      0              NaN         Neutral  \n",
       "1  Sun Dec 14 23:30:56 +0000 2014      0              NaN         Neutral  \n",
       "2  Sun Dec 14 23:38:54 +0000 2014      0           sicken        Negative  \n",
       "3  Sun Dec 14 23:43:51 +0000 2014      0              NaN         Neutral  \n",
       "4  Sun Dec 14 23:49:49 +0000 2014      0              NaN         Neutral  "
      ]
     },
     "execution_count": 15,
     "metadata": {},
     "output_type": "execute_result"
    }
   ],
   "source": [
    "# 1. Load entire reply data\n",
    "reply = pd.read_csv(r'D:\\論文\\PHEME9\\Data\\CSV\\sydneysiege-df.csv', encoding = 'utf-8', header = 0)\n",
    "reply.head()"
   ]
  },
  {
   "cell_type": "code",
   "execution_count": 16,
   "id": "plain-forestry",
   "metadata": {
    "colab": {
     "base_uri": "https://localhost:8080/"
    },
    "id": "QwvRmkTPWR3W",
    "outputId": "3a683649-a97e-4d90-f175-e63b8c88204b"
   },
   "outputs": [
    {
     "data": {
      "text/plain": [
       "Index(['src_tweet_id', 'src_user_id', 'src_tweet', 'src_date',\n",
       "       'reply_tweet_id', 'reply_user_id', 'reply_tweet', 'reply_date', 'label',\n",
       "       'cleaned_reply_tw', 'reply_sentiment'],\n",
       "      dtype='object')"
      ]
     },
     "execution_count": 16,
     "metadata": {},
     "output_type": "execute_result"
    }
   ],
   "source": [
    "reply.columns"
   ]
  },
  {
   "cell_type": "markdown",
   "id": "enabling-youth",
   "metadata": {
    "id": "Sk6FP88gv7o7"
   },
   "source": [
    "### step2\n",
    "\n",
    "2. Extract other information from original rumor reply data *(reply)*.\n",
    "***rumor_reply*** dataframe\n",
    "\n",
    "- 'src_user_id'\n",
    "- 'src_tweet'\n",
    "- 'src_date'\n",
    "\n",
    "left merge on reply_tweet_id"
   ]
  },
  {
   "cell_type": "code",
   "execution_count": 17,
   "id": "visible-asthma",
   "metadata": {
    "colab": {
     "base_uri": "https://localhost:8080/"
    },
    "id": "0WI0llsWtX7M",
    "outputId": "8c6f3ebf-cca6-4243-f89f-a2a3338c6dd3"
   },
   "outputs": [
    {
     "data": {
      "text/plain": [
       "(7371, 4)"
      ]
     },
     "execution_count": 17,
     "metadata": {},
     "output_type": "execute_result"
    }
   ],
   "source": [
    "temp_df = reply.loc[reply.reply_tweet_id.isin(list(rumor_reply.reply_tweet_id)),\n",
    "          ['reply_tweet_id','src_user_id','src_tweet','src_date']]\n",
    "temp_df.shape"
   ]
  },
  {
   "cell_type": "markdown",
   "id": "thirty-jenny",
   "metadata": {
    "id": "6DjMOUEiGt1I"
   },
   "source": [
    "#### merge dataframe\n",
    "\n",
    "then store the data into the variable: \n",
    "**rumor_reply_entire**"
   ]
  },
  {
   "cell_type": "code",
   "execution_count": 19,
   "id": "sophisticated-wesley",
   "metadata": {
    "id": "4rvDg862GIty"
   },
   "outputs": [],
   "source": [
    "rumor_reply_entire = rumor_reply.merge(temp_df,on='reply_tweet_id',how = 'left')"
   ]
  },
  {
   "cell_type": "code",
   "execution_count": 20,
   "id": "respective-median",
   "metadata": {},
   "outputs": [
    {
     "data": {
      "text/plain": [
       "(7371, 12)"
      ]
     },
     "execution_count": 20,
     "metadata": {},
     "output_type": "execute_result"
    }
   ],
   "source": [
    "rumor_reply_entire.shape"
   ]
  },
  {
   "cell_type": "markdown",
   "id": "chicken-messenger",
   "metadata": {},
   "source": [
    "## save rumor reply data"
   ]
  },
  {
   "cell_type": "code",
   "execution_count": 24,
   "id": "biological-overall",
   "metadata": {},
   "outputs": [],
   "source": [
    "with open('sydneysiege/18 targetanalysis/targetdata/sydneysiege_target_reply_entire.csv', 'w', encoding = 'utf-8') as f:\n",
    "  rumor_reply_entire.to_csv(f)"
   ]
  },
  {
   "cell_type": "markdown",
   "id": "timely-liechtenstein",
   "metadata": {
    "id": "7v_ZGdODcBug"
   },
   "source": [
    "# Combine source tws & Reply tws"
   ]
  },
  {
   "cell_type": "code",
   "execution_count": 31,
   "id": "placed-villa",
   "metadata": {
    "colab": {
     "base_uri": "https://localhost:8080/",
     "height": 617
    },
    "id": "2rtyFGBzcocd",
    "outputId": "014fe2ac-3bfc-4e94-fd16-34761b9ff5c5"
   },
   "outputs": [
    {
     "data": {
      "text/html": [
       "<div>\n",
       "<style scoped>\n",
       "    .dataframe tbody tr th:only-of-type {\n",
       "        vertical-align: middle;\n",
       "    }\n",
       "\n",
       "    .dataframe tbody tr th {\n",
       "        vertical-align: top;\n",
       "    }\n",
       "\n",
       "    .dataframe thead th {\n",
       "        text-align: right;\n",
       "    }\n",
       "</style>\n",
       "<table border=\"1\" class=\"dataframe\">\n",
       "  <thead>\n",
       "    <tr style=\"text-align: right;\">\n",
       "      <th></th>\n",
       "      <th>src_tweet_id</th>\n",
       "      <th>reply_tweet_id</th>\n",
       "      <th>reply_user_id</th>\n",
       "      <th>reply_tweet</th>\n",
       "      <th>reply_date</th>\n",
       "      <th>rumorlabel</th>\n",
       "      <th>cleaned_reply_tw</th>\n",
       "      <th>reply_sentiment</th>\n",
       "      <th>targetlabel</th>\n",
       "      <th>src_user_id</th>\n",
       "      <th>src_tweet</th>\n",
       "      <th>src_date</th>\n",
       "    </tr>\n",
       "  </thead>\n",
       "  <tbody>\n",
       "    <tr>\n",
       "      <th>0</th>\n",
       "      <td>544267656597995521</td>\n",
       "      <td>544269152198721536</td>\n",
       "      <td>443573208</td>\n",
       "      <td>@KristyMayr7 that is not an IS flag specifically.</td>\n",
       "      <td>Sun Dec 14 23:14:12 +0000 2014</td>\n",
       "      <td>1</td>\n",
       "      <td>not flag specifically</td>\n",
       "      <td>Neutral</td>\n",
       "      <td>0</td>\n",
       "      <td>258627226</td>\n",
       "      <td>BREAKING: Hostages are being forced to hold an...</td>\n",
       "      <td>Sun Dec 14 23:08:15 +0000 2014</td>\n",
       "    </tr>\n",
       "    <tr>\n",
       "      <th>1</th>\n",
       "      <td>544267656597995521</td>\n",
       "      <td>544269478406529024</td>\n",
       "      <td>2700238212</td>\n",
       "      <td>@KristyMayr7 omg\\r\\r\\nI'm watching it on @morn...</td>\n",
       "      <td>Sun Dec 14 23:15:30 +0000 2014</td>\n",
       "      <td>1</td>\n",
       "      <td>omg im watch</td>\n",
       "      <td>Neutral</td>\n",
       "      <td>0</td>\n",
       "      <td>258627226</td>\n",
       "      <td>BREAKING: Hostages are being forced to hold an...</td>\n",
       "      <td>Sun Dec 14 23:08:15 +0000 2014</td>\n",
       "    </tr>\n",
       "    <tr>\n",
       "      <th>2</th>\n",
       "      <td>544267656597995521</td>\n",
       "      <td>544270016770633728</td>\n",
       "      <td>760246262</td>\n",
       "      <td>@KristyMayr7 @DeepPolitics dudes, not the flag...</td>\n",
       "      <td>Sun Dec 14 23:17:38 +0000 2014</td>\n",
       "      <td>1</td>\n",
       "      <td>dudes not flag use isis</td>\n",
       "      <td>Neutral</td>\n",
       "      <td>1</td>\n",
       "      <td>258627226</td>\n",
       "      <td>BREAKING: Hostages are being forced to hold an...</td>\n",
       "      <td>Sun Dec 14 23:08:15 +0000 2014</td>\n",
       "    </tr>\n",
       "    <tr>\n",
       "      <th>3</th>\n",
       "      <td>544267656597995521</td>\n",
       "      <td>544270351619067904</td>\n",
       "      <td>2670053628</td>\n",
       "      <td>@KristyMayr7 @bluebuzzbird How pathetic! These...</td>\n",
       "      <td>Sun Dec 14 23:18:58 +0000 2014</td>\n",
       "      <td>1</td>\n",
       "      <td>pathetic poor people</td>\n",
       "      <td>Negative</td>\n",
       "      <td>0</td>\n",
       "      <td>258627226</td>\n",
       "      <td>BREAKING: Hostages are being forced to hold an...</td>\n",
       "      <td>Sun Dec 14 23:08:15 +0000 2014</td>\n",
       "    </tr>\n",
       "    <tr>\n",
       "      <th>4</th>\n",
       "      <td>544267656597995521</td>\n",
       "      <td>544270614442557441</td>\n",
       "      <td>2670053628</td>\n",
       "      <td>@KristyMayr7 @bluebuzzbird Lindt is just a cof...</td>\n",
       "      <td>Sun Dec 14 23:20:01 +0000 2014</td>\n",
       "      <td>1</td>\n",
       "      <td>lindt coffee shop right something else</td>\n",
       "      <td>Neutral</td>\n",
       "      <td>0</td>\n",
       "      <td>258627226</td>\n",
       "      <td>BREAKING: Hostages are being forced to hold an...</td>\n",
       "      <td>Sun Dec 14 23:08:15 +0000 2014</td>\n",
       "    </tr>\n",
       "  </tbody>\n",
       "</table>\n",
       "</div>"
      ],
      "text/plain": [
       "         src_tweet_id      reply_tweet_id  reply_user_id  \\\n",
       "0  544267656597995521  544269152198721536      443573208   \n",
       "1  544267656597995521  544269478406529024     2700238212   \n",
       "2  544267656597995521  544270016770633728      760246262   \n",
       "3  544267656597995521  544270351619067904     2670053628   \n",
       "4  544267656597995521  544270614442557441     2670053628   \n",
       "\n",
       "                                         reply_tweet  \\\n",
       "0  @KristyMayr7 that is not an IS flag specifically.   \n",
       "1  @KristyMayr7 omg\\r\\r\\nI'm watching it on @morn...   \n",
       "2  @KristyMayr7 @DeepPolitics dudes, not the flag...   \n",
       "3  @KristyMayr7 @bluebuzzbird How pathetic! These...   \n",
       "4  @KristyMayr7 @bluebuzzbird Lindt is just a cof...   \n",
       "\n",
       "                       reply_date  rumorlabel  \\\n",
       "0  Sun Dec 14 23:14:12 +0000 2014           1   \n",
       "1  Sun Dec 14 23:15:30 +0000 2014           1   \n",
       "2  Sun Dec 14 23:17:38 +0000 2014           1   \n",
       "3  Sun Dec 14 23:18:58 +0000 2014           1   \n",
       "4  Sun Dec 14 23:20:01 +0000 2014           1   \n",
       "\n",
       "                         cleaned_reply_tw reply_sentiment  targetlabel  \\\n",
       "0                   not flag specifically         Neutral            0   \n",
       "1                            omg im watch         Neutral            0   \n",
       "2                 dudes not flag use isis         Neutral            1   \n",
       "3                    pathetic poor people        Negative            0   \n",
       "4  lindt coffee shop right something else         Neutral            0   \n",
       "\n",
       "   src_user_id                                          src_tweet  \\\n",
       "0    258627226  BREAKING: Hostages are being forced to hold an...   \n",
       "1    258627226  BREAKING: Hostages are being forced to hold an...   \n",
       "2    258627226  BREAKING: Hostages are being forced to hold an...   \n",
       "3    258627226  BREAKING: Hostages are being forced to hold an...   \n",
       "4    258627226  BREAKING: Hostages are being forced to hold an...   \n",
       "\n",
       "                         src_date  \n",
       "0  Sun Dec 14 23:08:15 +0000 2014  \n",
       "1  Sun Dec 14 23:08:15 +0000 2014  \n",
       "2  Sun Dec 14 23:08:15 +0000 2014  \n",
       "3  Sun Dec 14 23:08:15 +0000 2014  \n",
       "4  Sun Dec 14 23:08:15 +0000 2014  "
      ]
     },
     "execution_count": 31,
     "metadata": {},
     "output_type": "execute_result"
    }
   ],
   "source": [
    "#Load rumor reply tweet data (rumor_reply_entire)\n",
    "rumor_reply_entire = pd.read_csv('sydneysiege/18 targetanalysis/targetdata/sydneysiege_target_reply_entire.csv',\n",
    "                                 encoding='utf-8',header=0,index_col=0)\n",
    "rumor_reply_entire.head()"
   ]
  },
  {
   "cell_type": "code",
   "execution_count": 32,
   "id": "distant-twelve",
   "metadata": {
    "id": "eTkAI0yefPfU"
   },
   "outputs": [],
   "source": [
    "temp_rumor = rumor_reply_entire[['reply_tweet_id', 'reply_user_id','reply_date', 'rumorlabel',\n",
    "                                 'reply_tweet','cleaned_reply_tw', 'targetlabel', 'reply_sentiment']]\n",
    "\n",
    "temp_rumor.columns = ['tweet_id','user_id','date','rumorlabel','tweet','cleaned_text','targetlabel','sentiment']                               "
   ]
  },
  {
   "cell_type": "code",
   "execution_count": 39,
   "id": "effective-teddy",
   "metadata": {
    "id": "MgyW2iiRrytG"
   },
   "outputs": [
    {
     "data": {
      "text/plain": [
       "(7371, 9)"
      ]
     },
     "execution_count": 39,
     "metadata": {},
     "output_type": "execute_result"
    }
   ],
   "source": [
    "temp_rumor['src_reply'] = pd.Series(['reply'] * temp_rumor.shape[0])\n",
    "temp_rumor.shape"
   ]
  },
  {
   "cell_type": "code",
   "execution_count": 33,
   "id": "signed-protection",
   "metadata": {
    "id": "6t9hiaXCcA20"
   },
   "outputs": [],
   "source": [
    "# Load rumor source tweet data\n",
    "rumor_src = pd.read_csv('sydneysiege/18 targetanalysis/targetdata/sydneysiege-target-src.csv',\n",
    "                                 encoding='utf-8',header=0)"
   ]
  },
  {
   "cell_type": "code",
   "execution_count": 35,
   "id": "southeast-objective",
   "metadata": {
    "colab": {
     "base_uri": "https://localhost:8080/"
    },
    "id": "Sfd6NrBbe2Fe",
    "outputId": "1931ed10-cbc3-463a-c026-c602913980d0"
   },
   "outputs": [
    {
     "data": {
      "text/plain": [
       "src_tweet_id      0\n",
       "src_user_id       0\n",
       "src_date          0\n",
       "rumorlabel        0\n",
       "src_tweet         0\n",
       "cleaned_src_tw    0\n",
       "targetlabel       0\n",
       "src_sentiment     0\n",
       "dtype: int64"
      ]
     },
     "execution_count": 35,
     "metadata": {},
     "output_type": "execute_result"
    }
   ],
   "source": [
    "rumor_src.isnull().sum()"
   ]
  },
  {
   "cell_type": "code",
   "execution_count": 34,
   "id": "suffering-cancellation",
   "metadata": {},
   "outputs": [
    {
     "data": {
      "text/plain": [
       "Index(['src_tweet_id', 'src_user_id', 'src_date', 'rumorlabel', 'src_tweet',\n",
       "       'cleaned_src_tw', 'targetlabel', 'src_sentiment'],\n",
       "      dtype='object')"
      ]
     },
     "execution_count": 34,
     "metadata": {},
     "output_type": "execute_result"
    }
   ],
   "source": [
    "rumor_src.columns"
   ]
  },
  {
   "cell_type": "code",
   "execution_count": 36,
   "id": "invisible-lincoln",
   "metadata": {
    "id": "8l2Z9_25INuR"
   },
   "outputs": [],
   "source": [
    "rumor_src.columns = ['tweet_id','user_id','date','rumorlabel','tweet','cleaned_text','targetlabel','sentiment']"
   ]
  },
  {
   "cell_type": "code",
   "execution_count": 40,
   "id": "dressed-copper",
   "metadata": {},
   "outputs": [],
   "source": [
    "rumor_src['src_reply'] = pd.Series(['src'] * rumor_src.shape[0])"
   ]
  },
  {
   "cell_type": "code",
   "execution_count": 41,
   "id": "inclusive-angel",
   "metadata": {
    "colab": {
     "base_uri": "https://localhost:8080/"
    },
    "id": "v9z8H5R5gaTi",
    "outputId": "a4108af2-8300-40e0-bf7a-6513c11e9733"
   },
   "outputs": [
    {
     "data": {
      "text/plain": [
       "(7870, 9)"
      ]
     },
     "execution_count": 41,
     "metadata": {},
     "output_type": "execute_result"
    }
   ],
   "source": [
    "# Combine two dataframes\n",
    "combined_data = pd.concat([temp_rumor,rumor_src],axis=0,ignore_index=True)\n",
    "combined_data.shape"
   ]
  },
  {
   "cell_type": "markdown",
   "id": "behavioral-ordinary",
   "metadata": {},
   "source": [
    "## save rumor data (src+reply)"
   ]
  },
  {
   "cell_type": "code",
   "execution_count": 42,
   "id": "south-coffee",
   "metadata": {
    "id": "sstxEyeEqMc2"
   },
   "outputs": [],
   "source": [
    "with open('sydneysiege/18 targetanalysis/targetdata/combined_rumor_target.csv', 'w', encoding = 'utf-8') as f:\n",
    "  combined_data.to_csv(f)"
   ]
  },
  {
   "cell_type": "code",
   "execution_count": null,
   "id": "incident-monitoring",
   "metadata": {},
   "outputs": [],
   "source": []
  }
 ],
 "metadata": {
  "kernelspec": {
   "display_name": "Python 3",
   "language": "python",
   "name": "python3"
  },
  "language_info": {
   "codemirror_mode": {
    "name": "ipython",
    "version": 3
   },
   "file_extension": ".py",
   "mimetype": "text/x-python",
   "name": "python",
   "nbconvert_exporter": "python",
   "pygments_lexer": "ipython3",
   "version": "3.9.1"
  }
 },
 "nbformat": 4,
 "nbformat_minor": 5
}
