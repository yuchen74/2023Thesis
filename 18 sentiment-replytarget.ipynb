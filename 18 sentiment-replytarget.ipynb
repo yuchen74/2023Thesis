{
 "cells": [
  {
   "cell_type": "code",
   "execution_count": 1,
   "metadata": {
    "executionInfo": {
     "elapsed": 1368,
     "status": "ok",
     "timestamp": 1673434660045,
     "user": {
      "displayName": "Bella Yang",
      "userId": "16101934561747208179"
     },
     "user_tz": -120
    },
    "id": "n2i0zBCX3pMs"
   },
   "outputs": [],
   "source": [
    "import numpy as np\n",
    "import pandas as pd\n",
    "import matplotlib.pyplot as plt\n",
    "import seaborn as sns\n",
    "from datetime import datetime ,time"
   ]
  },
  {
   "cell_type": "code",
   "execution_count": 3,
   "metadata": {
    "colab": {
     "base_uri": "https://localhost:8080/"
    },
    "executionInfo": {
     "elapsed": 19155,
     "status": "ok",
     "timestamp": 1673434681155,
     "user": {
      "displayName": "Bella Yang",
      "userId": "16101934561747208179"
     },
     "user_tz": -120
    },
    "id": "LNPPYw5v7-l7",
    "outputId": "680fe0ac-9957-424a-fd16-04e8ea96e21c"
   },
   "outputs": [
    {
     "data": {
      "text/html": [
       "<div>\n",
       "<style scoped>\n",
       "    .dataframe tbody tr th:only-of-type {\n",
       "        vertical-align: middle;\n",
       "    }\n",
       "\n",
       "    .dataframe tbody tr th {\n",
       "        vertical-align: top;\n",
       "    }\n",
       "\n",
       "    .dataframe thead th {\n",
       "        text-align: right;\n",
       "    }\n",
       "</style>\n",
       "<table border=\"1\" class=\"dataframe\">\n",
       "  <thead>\n",
       "    <tr style=\"text-align: right;\">\n",
       "      <th></th>\n",
       "      <th>src_tweet_id</th>\n",
       "      <th>reply_tweet_id</th>\n",
       "      <th>reply_user_id</th>\n",
       "      <th>reply_tweet</th>\n",
       "      <th>reply_date</th>\n",
       "      <th>rumorlabel</th>\n",
       "      <th>cleaned_reply_tw</th>\n",
       "      <th>reply_sentiment</th>\n",
       "      <th>targetlabel</th>\n",
       "      <th>src_user_id</th>\n",
       "      <th>src_tweet</th>\n",
       "      <th>src_date</th>\n",
       "    </tr>\n",
       "  </thead>\n",
       "  <tbody>\n",
       "    <tr>\n",
       "      <th>0</th>\n",
       "      <td>544267656597995521</td>\n",
       "      <td>544269152198721536</td>\n",
       "      <td>443573208</td>\n",
       "      <td>@KristyMayr7 that is not an IS flag specifically.</td>\n",
       "      <td>Sun Dec 14 23:14:12 +0000 2014</td>\n",
       "      <td>1</td>\n",
       "      <td>not flag specifically</td>\n",
       "      <td>Neutral</td>\n",
       "      <td>0</td>\n",
       "      <td>258627226</td>\n",
       "      <td>BREAKING: Hostages are being forced to hold an...</td>\n",
       "      <td>Sun Dec 14 23:08:15 +0000 2014</td>\n",
       "    </tr>\n",
       "  </tbody>\n",
       "</table>\n",
       "</div>"
      ],
      "text/plain": [
       "         src_tweet_id      reply_tweet_id  reply_user_id  \\\n",
       "0  544267656597995521  544269152198721536      443573208   \n",
       "\n",
       "                                         reply_tweet  \\\n",
       "0  @KristyMayr7 that is not an IS flag specifically.   \n",
       "\n",
       "                       reply_date  rumorlabel       cleaned_reply_tw  \\\n",
       "0  Sun Dec 14 23:14:12 +0000 2014           1  not flag specifically   \n",
       "\n",
       "  reply_sentiment  targetlabel  src_user_id  \\\n",
       "0         Neutral            0    258627226   \n",
       "\n",
       "                                           src_tweet  \\\n",
       "0  BREAKING: Hostages are being forced to hold an...   \n",
       "\n",
       "                         src_date  \n",
       "0  Sun Dec 14 23:08:15 +0000 2014  "
      ]
     },
     "execution_count": 3,
     "metadata": {},
     "output_type": "execute_result"
    }
   ],
   "source": [
    "# rumor reply tweets\n",
    "reply = pd.read_csv(r\"D:\\論文\\PHEME9\\Code\\sydneysiege\\18 targetanalysis\\targetdata\\sydneysiege_target_reply_entire.csv\", encoding = 'utf-8', header = 0,index_col=0)\n",
    "reply.head(1)"
   ]
  },
  {
   "cell_type": "code",
   "execution_count": 4,
   "metadata": {
    "colab": {
     "base_uri": "https://localhost:8080/"
    },
    "executionInfo": {
     "elapsed": 261,
     "status": "ok",
     "timestamp": 1673434692558,
     "user": {
      "displayName": "Bella Yang",
      "userId": "16101934561747208179"
     },
     "user_tz": -120
    },
    "id": "AodXMmTJyS4V",
    "outputId": "80a786a8-ec9d-4aa0-c898-bbc0744a50bd"
   },
   "outputs": [
    {
     "name": "stdout",
     "output_type": "stream",
     "text": [
      "(7371, 12)\n",
      "src_tweet_id        0\n",
      "reply_tweet_id      0\n",
      "reply_user_id       0\n",
      "reply_tweet         0\n",
      "reply_date          0\n",
      "rumorlabel          0\n",
      "cleaned_reply_tw    0\n",
      "reply_sentiment     0\n",
      "targetlabel         0\n",
      "src_user_id         0\n",
      "src_tweet           0\n",
      "src_date            0\n",
      "dtype: int64\n"
     ]
    }
   ],
   "source": [
    "print(reply.shape)\n",
    "print(reply.isnull().sum())"
   ]
  },
  {
   "cell_type": "code",
   "execution_count": 5,
   "metadata": {
    "colab": {
     "base_uri": "https://localhost:8080/"
    },
    "executionInfo": {
     "elapsed": 409,
     "status": "ok",
     "timestamp": 1673434696625,
     "user": {
      "displayName": "Bella Yang",
      "userId": "16101934561747208179"
     },
     "user_tz": -120
    },
    "id": "ejnn7Mpbl8W_",
    "outputId": "f978938c-c2a8-4799-d64c-2c40a7be57fa"
   },
   "outputs": [
    {
     "data": {
      "text/plain": [
       "0    5428\n",
       "1    1943\n",
       "Name: targetlabel, dtype: int64"
      ]
     },
     "execution_count": 5,
     "metadata": {},
     "output_type": "execute_result"
    }
   ],
   "source": [
    "reply.targetlabel.value_counts()"
   ]
  },
  {
   "cell_type": "code",
   "execution_count": 6,
   "metadata": {
    "executionInfo": {
     "elapsed": 1223,
     "status": "ok",
     "timestamp": 1673434700673,
     "user": {
      "displayName": "Bella Yang",
      "userId": "16101934561747208179"
     },
     "user_tz": -120
    },
    "id": "N7YXp5H4w8Yi"
   },
   "outputs": [],
   "source": [
    "reply.reply_date = pd.to_datetime(reply.reply_date)"
   ]
  },
  {
   "cell_type": "code",
   "execution_count": 7,
   "metadata": {
    "colab": {
     "base_uri": "https://localhost:8080/",
     "height": 214
    },
    "executionInfo": {
     "elapsed": 18,
     "status": "ok",
     "timestamp": 1673434723417,
     "user": {
      "displayName": "Bella Yang",
      "userId": "16101934561747208179"
     },
     "user_tz": -120
    },
    "id": "13kM2jMYxTBv",
    "outputId": "fb1a81ff-3c27-4f03-e095-019cfa5766c3"
   },
   "outputs": [
    {
     "data": {
      "text/html": [
       "<div>\n",
       "<style scoped>\n",
       "    .dataframe tbody tr th:only-of-type {\n",
       "        vertical-align: middle;\n",
       "    }\n",
       "\n",
       "    .dataframe tbody tr th {\n",
       "        vertical-align: top;\n",
       "    }\n",
       "\n",
       "    .dataframe thead th {\n",
       "        text-align: right;\n",
       "    }\n",
       "</style>\n",
       "<table border=\"1\" class=\"dataframe\">\n",
       "  <thead>\n",
       "    <tr style=\"text-align: right;\">\n",
       "      <th></th>\n",
       "      <th>src_tweet_id</th>\n",
       "      <th>reply_tweet_id</th>\n",
       "      <th>reply_user_id</th>\n",
       "      <th>reply_tweet</th>\n",
       "      <th>reply_date</th>\n",
       "      <th>rumorlabel</th>\n",
       "      <th>cleaned_reply_tw</th>\n",
       "      <th>reply_sentiment</th>\n",
       "      <th>targetlabel</th>\n",
       "      <th>src_user_id</th>\n",
       "      <th>src_tweet</th>\n",
       "      <th>src_date</th>\n",
       "    </tr>\n",
       "  </thead>\n",
       "  <tbody>\n",
       "    <tr>\n",
       "      <th>0</th>\n",
       "      <td>544268637134393344</td>\n",
       "      <td>544269047076896769</td>\n",
       "      <td>2313204931</td>\n",
       "      <td>“@9NewsSyd: UPDATE: An #ISIS flag is being dis...</td>\n",
       "      <td>2014-12-14 23:13:47+00:00</td>\n",
       "      <td>1</td>\n",
       "      <td>jesus christ</td>\n",
       "      <td>Neutral</td>\n",
       "      <td>0</td>\n",
       "      <td>171802941</td>\n",
       "      <td>UPDATE: An ISIS flag is being displayed in the...</td>\n",
       "      <td>Sun Dec 14 23:12:09 +0000 2014</td>\n",
       "    </tr>\n",
       "    <tr>\n",
       "      <th>1</th>\n",
       "      <td>544267656597995521</td>\n",
       "      <td>544269152198721536</td>\n",
       "      <td>443573208</td>\n",
       "      <td>@KristyMayr7 that is not an IS flag specifically.</td>\n",
       "      <td>2014-12-14 23:14:12+00:00</td>\n",
       "      <td>1</td>\n",
       "      <td>not flag specifically</td>\n",
       "      <td>Neutral</td>\n",
       "      <td>0</td>\n",
       "      <td>258627226</td>\n",
       "      <td>BREAKING: Hostages are being forced to hold an...</td>\n",
       "      <td>Sun Dec 14 23:08:15 +0000 2014</td>\n",
       "    </tr>\n",
       "    <tr>\n",
       "      <th>2</th>\n",
       "      <td>544268637134393344</td>\n",
       "      <td>544269246201475072</td>\n",
       "      <td>25172734</td>\n",
       "      <td>@9NewsSyd holy lord! Prayers to all. This is t...</td>\n",
       "      <td>2014-12-14 23:14:34+00:00</td>\n",
       "      <td>1</td>\n",
       "      <td>holy lord prayers much</td>\n",
       "      <td>Neutral</td>\n",
       "      <td>0</td>\n",
       "      <td>171802941</td>\n",
       "      <td>UPDATE: An ISIS flag is being displayed in the...</td>\n",
       "      <td>Sun Dec 14 23:12:09 +0000 2014</td>\n",
       "    </tr>\n",
       "    <tr>\n",
       "      <th>3</th>\n",
       "      <td>544268637134393344</td>\n",
       "      <td>544269317718544384</td>\n",
       "      <td>17984709</td>\n",
       "      <td>@9NewsSyd So Islamists no threat to Australia,...</td>\n",
       "      <td>2014-12-14 23:14:52+00:00</td>\n",
       "      <td>1</td>\n",
       "      <td>islamists no threat australia right</td>\n",
       "      <td>Positive</td>\n",
       "      <td>1</td>\n",
       "      <td>171802941</td>\n",
       "      <td>UPDATE: An ISIS flag is being displayed in the...</td>\n",
       "      <td>Sun Dec 14 23:12:09 +0000 2014</td>\n",
       "    </tr>\n",
       "    <tr>\n",
       "      <th>4</th>\n",
       "      <td>544268637134393344</td>\n",
       "      <td>544269468482801665</td>\n",
       "      <td>1687941666</td>\n",
       "      <td>@LillSaleh Yup, every news source I have is ru...</td>\n",
       "      <td>2014-12-14 23:15:27+00:00</td>\n",
       "      <td>1</td>\n",
       "      <td>yup every news source run timeline break tv soon</td>\n",
       "      <td>Neutral</td>\n",
       "      <td>0</td>\n",
       "      <td>171802941</td>\n",
       "      <td>UPDATE: An ISIS flag is being displayed in the...</td>\n",
       "      <td>Sun Dec 14 23:12:09 +0000 2014</td>\n",
       "    </tr>\n",
       "    <tr>\n",
       "      <th>...</th>\n",
       "      <td>...</td>\n",
       "      <td>...</td>\n",
       "      <td>...</td>\n",
       "      <td>...</td>\n",
       "      <td>...</td>\n",
       "      <td>...</td>\n",
       "      <td>...</td>\n",
       "      <td>...</td>\n",
       "      <td>...</td>\n",
       "      <td>...</td>\n",
       "      <td>...</td>\n",
       "      <td>...</td>\n",
       "    </tr>\n",
       "    <tr>\n",
       "      <th>7366</th>\n",
       "      <td>544305913260433408</td>\n",
       "      <td>545329080858460161</td>\n",
       "      <td>553010243</td>\n",
       "      <td>@NumbatMusings @PzFeed @CDoranHarader You didn...</td>\n",
       "      <td>2014-12-17 21:25:59+00:00</td>\n",
       "      <td>1</td>\n",
       "      <td>didnt like us citizens self protection guy see...</td>\n",
       "      <td>Negative</td>\n",
       "      <td>0</td>\n",
       "      <td>292777349</td>\n",
       "      <td>BREAKING UPDATE: US Consulate in Sydney has be...</td>\n",
       "      <td>Mon Dec 15 01:40:17 +0000 2014</td>\n",
       "    </tr>\n",
       "    <tr>\n",
       "      <th>7367</th>\n",
       "      <td>544305913260433408</td>\n",
       "      <td>545329446019141632</td>\n",
       "      <td>553010243</td>\n",
       "      <td>@NumbatMusings @PzFeed @CDoranHarader Also, Ho...</td>\n",
       "      <td>2014-12-17 21:27:26+00:00</td>\n",
       "      <td>1</td>\n",
       "      <td>also attacker legal gun not allow plus lot con...</td>\n",
       "      <td>Negative</td>\n",
       "      <td>1</td>\n",
       "      <td>292777349</td>\n",
       "      <td>BREAKING UPDATE: US Consulate in Sydney has be...</td>\n",
       "      <td>Mon Dec 15 01:40:17 +0000 2014</td>\n",
       "    </tr>\n",
       "    <tr>\n",
       "      <th>7368</th>\n",
       "      <td>544305913260433408</td>\n",
       "      <td>545329782767251456</td>\n",
       "      <td>553010243</td>\n",
       "      <td>@NumbatMusings @PzFeed @CDoranHarader At Least...</td>\n",
       "      <td>2014-12-17 21:28:46+00:00</td>\n",
       "      <td>1</td>\n",
       "      <td>least america lawful self defense gun dont cri...</td>\n",
       "      <td>Positive</td>\n",
       "      <td>1</td>\n",
       "      <td>292777349</td>\n",
       "      <td>BREAKING UPDATE: US Consulate in Sydney has be...</td>\n",
       "      <td>Mon Dec 15 01:40:17 +0000 2014</td>\n",
       "    </tr>\n",
       "    <tr>\n",
       "      <th>7369</th>\n",
       "      <td>544409517224898560</td>\n",
       "      <td>545373022958260224</td>\n",
       "      <td>36738874</td>\n",
       "      <td>@ErwinPoverty @FoxNews I'm sure there were adu...</td>\n",
       "      <td>2014-12-18 00:20:35+00:00</td>\n",
       "      <td>1</td>\n",
       "      <td>im sure adults smart ass</td>\n",
       "      <td>Positive</td>\n",
       "      <td>0</td>\n",
       "      <td>1367531</td>\n",
       "      <td>#Sydneysiege latest: Gunman reportedly demands...</td>\n",
       "      <td>Mon Dec 15 08:31:58 +0000 2014</td>\n",
       "    </tr>\n",
       "    <tr>\n",
       "      <th>7370</th>\n",
       "      <td>544300178443100160</td>\n",
       "      <td>545426398647578625</td>\n",
       "      <td>636741360</td>\n",
       "      <td>@Busty1956 @MaajidNawaz They can't because tha...</td>\n",
       "      <td>2014-12-18 03:52:41+00:00</td>\n",
       "      <td>1</td>\n",
       "      <td>cant creed guy koran</td>\n",
       "      <td>Neutral</td>\n",
       "      <td>0</td>\n",
       "      <td>46078438</td>\n",
       "      <td>Terrified faces of hostages taken by jihadists...</td>\n",
       "      <td>Mon Dec 15 01:17:29 +0000 2014</td>\n",
       "    </tr>\n",
       "  </tbody>\n",
       "</table>\n",
       "<p>7371 rows × 12 columns</p>\n",
       "</div>"
      ],
      "text/plain": [
       "            src_tweet_id      reply_tweet_id  reply_user_id  \\\n",
       "0     544268637134393344  544269047076896769     2313204931   \n",
       "1     544267656597995521  544269152198721536      443573208   \n",
       "2     544268637134393344  544269246201475072       25172734   \n",
       "3     544268637134393344  544269317718544384       17984709   \n",
       "4     544268637134393344  544269468482801665     1687941666   \n",
       "...                  ...                 ...            ...   \n",
       "7366  544305913260433408  545329080858460161      553010243   \n",
       "7367  544305913260433408  545329446019141632      553010243   \n",
       "7368  544305913260433408  545329782767251456      553010243   \n",
       "7369  544409517224898560  545373022958260224       36738874   \n",
       "7370  544300178443100160  545426398647578625      636741360   \n",
       "\n",
       "                                            reply_tweet  \\\n",
       "0     “@9NewsSyd: UPDATE: An #ISIS flag is being dis...   \n",
       "1     @KristyMayr7 that is not an IS flag specifically.   \n",
       "2     @9NewsSyd holy lord! Prayers to all. This is t...   \n",
       "3     @9NewsSyd So Islamists no threat to Australia,...   \n",
       "4     @LillSaleh Yup, every news source I have is ru...   \n",
       "...                                                 ...   \n",
       "7366  @NumbatMusings @PzFeed @CDoranHarader You didn...   \n",
       "7367  @NumbatMusings @PzFeed @CDoranHarader Also, Ho...   \n",
       "7368  @NumbatMusings @PzFeed @CDoranHarader At Least...   \n",
       "7369  @ErwinPoverty @FoxNews I'm sure there were adu...   \n",
       "7370  @Busty1956 @MaajidNawaz They can't because tha...   \n",
       "\n",
       "                    reply_date  rumorlabel  \\\n",
       "0    2014-12-14 23:13:47+00:00           1   \n",
       "1    2014-12-14 23:14:12+00:00           1   \n",
       "2    2014-12-14 23:14:34+00:00           1   \n",
       "3    2014-12-14 23:14:52+00:00           1   \n",
       "4    2014-12-14 23:15:27+00:00           1   \n",
       "...                        ...         ...   \n",
       "7366 2014-12-17 21:25:59+00:00           1   \n",
       "7367 2014-12-17 21:27:26+00:00           1   \n",
       "7368 2014-12-17 21:28:46+00:00           1   \n",
       "7369 2014-12-18 00:20:35+00:00           1   \n",
       "7370 2014-12-18 03:52:41+00:00           1   \n",
       "\n",
       "                                       cleaned_reply_tw reply_sentiment  \\\n",
       "0                                          jesus christ         Neutral   \n",
       "1                                 not flag specifically         Neutral   \n",
       "2                                holy lord prayers much         Neutral   \n",
       "3                   islamists no threat australia right        Positive   \n",
       "4      yup every news source run timeline break tv soon         Neutral   \n",
       "...                                                 ...             ...   \n",
       "7366  didnt like us citizens self protection guy see...        Negative   \n",
       "7367  also attacker legal gun not allow plus lot con...        Negative   \n",
       "7368  least america lawful self defense gun dont cri...        Positive   \n",
       "7369                           im sure adults smart ass        Positive   \n",
       "7370                               cant creed guy koran         Neutral   \n",
       "\n",
       "      targetlabel  src_user_id  \\\n",
       "0               0    171802941   \n",
       "1               0    258627226   \n",
       "2               0    171802941   \n",
       "3               1    171802941   \n",
       "4               0    171802941   \n",
       "...           ...          ...   \n",
       "7366            0    292777349   \n",
       "7367            1    292777349   \n",
       "7368            1    292777349   \n",
       "7369            0      1367531   \n",
       "7370            0     46078438   \n",
       "\n",
       "                                              src_tweet  \\\n",
       "0     UPDATE: An ISIS flag is being displayed in the...   \n",
       "1     BREAKING: Hostages are being forced to hold an...   \n",
       "2     UPDATE: An ISIS flag is being displayed in the...   \n",
       "3     UPDATE: An ISIS flag is being displayed in the...   \n",
       "4     UPDATE: An ISIS flag is being displayed in the...   \n",
       "...                                                 ...   \n",
       "7366  BREAKING UPDATE: US Consulate in Sydney has be...   \n",
       "7367  BREAKING UPDATE: US Consulate in Sydney has be...   \n",
       "7368  BREAKING UPDATE: US Consulate in Sydney has be...   \n",
       "7369  #Sydneysiege latest: Gunman reportedly demands...   \n",
       "7370  Terrified faces of hostages taken by jihadists...   \n",
       "\n",
       "                            src_date  \n",
       "0     Sun Dec 14 23:12:09 +0000 2014  \n",
       "1     Sun Dec 14 23:08:15 +0000 2014  \n",
       "2     Sun Dec 14 23:12:09 +0000 2014  \n",
       "3     Sun Dec 14 23:12:09 +0000 2014  \n",
       "4     Sun Dec 14 23:12:09 +0000 2014  \n",
       "...                              ...  \n",
       "7366  Mon Dec 15 01:40:17 +0000 2014  \n",
       "7367  Mon Dec 15 01:40:17 +0000 2014  \n",
       "7368  Mon Dec 15 01:40:17 +0000 2014  \n",
       "7369  Mon Dec 15 08:31:58 +0000 2014  \n",
       "7370  Mon Dec 15 01:17:29 +0000 2014  \n",
       "\n",
       "[7371 rows x 12 columns]"
      ]
     },
     "execution_count": 7,
     "metadata": {},
     "output_type": "execute_result"
    }
   ],
   "source": [
    "reply.sort_values(by='reply_date',inplace=True)\n",
    "reply.reset_index(inplace=True,drop=True)\n",
    "reply"
   ]
  },
  {
   "cell_type": "code",
   "execution_count": 8,
   "metadata": {
    "colab": {
     "base_uri": "https://localhost:8080/"
    },
    "executionInfo": {
     "elapsed": 252,
     "status": "ok",
     "timestamp": 1673434737974,
     "user": {
      "displayName": "Bella Yang",
      "userId": "16101934561747208179"
     },
     "user_tz": -120
    },
    "id": "bCvzP_YKxoAc",
    "outputId": "7df09be2-e823-464a-fe64-1f6676419f4e"
   },
   "outputs": [
    {
     "name": "stdout",
     "output_type": "stream",
     "text": [
      "number of targeted source tweets:  1943\n"
     ]
    }
   ],
   "source": [
    "target_index = reply.loc[reply.targetlabel ==1].index\n",
    "print(\"number of targeted source tweets: \",len(target_index))\n",
    "# target_index"
   ]
  },
  {
   "cell_type": "markdown",
   "metadata": {
    "id": "7adEMBSPDrgW"
   },
   "source": [
    "# Calculate sentiment changes before target"
   ]
  },
  {
   "cell_type": "code",
   "execution_count": 9,
   "metadata": {
    "executionInfo": {
     "elapsed": 1349,
     "status": "ok",
     "timestamp": 1673434747276,
     "user": {
      "displayName": "Bella Yang",
      "userId": "16101934561747208179"
     },
     "user_tz": -120
    },
    "id": "4_mEGWO7yOXL"
   },
   "outputs": [],
   "source": [
    "# create \"before\" dictionary to store sentiments of non-targeting replys,\n",
    "# where has three values: ratios of three sentiments/ negative to positive ratio / \n",
    "# and indices of those non-targeting replys\n",
    "j = 0\n",
    "before = {\"sentiment\": [],\"np_ratio\" :[],\"index\":[]}\n",
    "target = list()\n",
    "for i in target_index:\n",
    "  if j == i: #the next source tweet also had target label == 1 \n",
    "    before['sentiment'].append(np.nan)\n",
    "    before['np_ratio'].append(np.nan)\n",
    "    before['index'].append(np.nan)\n",
    "    b = reply.loc[i,'reply_sentiment']\n",
    "    target.append(b)\n",
    "    \n",
    "  else:     \n",
    "    count = reply.loc[j:i-1,'reply_sentiment'].value_counts(normalize=True,sort=False)\n",
    "    # ratio of three sentiments\n",
    "    sen = count.round(2).to_dict()\n",
    "    before['sentiment'].append(sen)\n",
    "    #ratio of Negative to Positive\n",
    "    try:\n",
    "      neg = count['Negative']\n",
    "      pos = count['Positive']\n",
    "    except:\n",
    "      if 'Positive' in count.index:\n",
    "        # some positive tws but no negative ones\n",
    "        n_p = 0\n",
    "      elif \"Negative\" in count.index:\n",
    "        # some negative tws but no positive ones\n",
    "        n_p = np.inf\n",
    "      else:\n",
    "        # only neutral tws\n",
    "        n_p = 0 \n",
    "    else:\n",
    "      n_p = round(neg/pos,2)\n",
    "    finally:\n",
    "      before['np_ratio'].append(n_p)\n",
    "    before['index'].append([*range(j,i)])\n",
    "    # target's sentiment\n",
    "    b = reply.loc[i,'reply_sentiment']\n",
    "    target.append(b)\n",
    "\n",
    "  j =i+1"
   ]
  },
  {
   "cell_type": "code",
   "execution_count": 10,
   "metadata": {
    "executionInfo": {
     "elapsed": 283,
     "status": "ok",
     "timestamp": 1673434780647,
     "user": {
      "displayName": "Bella Yang",
      "userId": "16101934561747208179"
     },
     "user_tz": -120
    },
    "id": "aSRg7kDD0Pmm"
   },
   "outputs": [],
   "source": [
    "pd.set_option('display.max_colwidth', None)\n",
    "sentiment_change = pd.DataFrame({\"sentiment_beforetarget\" : before['sentiment'],\n",
    "                                 \"neg_to_pos_beforetarget\" : before['np_ratio'],\n",
    "                                 \"sentiment_target\" : target,\n",
    "                                 \"target_index\": target_index})\n"
   ]
  },
  {
   "cell_type": "markdown",
   "metadata": {
    "id": "mNnfnwIfEyvz"
   },
   "source": [
    "# Calculate sentiment changes after target arrived until the next one came."
   ]
  },
  {
   "cell_type": "code",
   "execution_count": 11,
   "metadata": {
    "colab": {
     "base_uri": "https://localhost:8080/"
    },
    "executionInfo": {
     "elapsed": 275,
     "status": "ok",
     "timestamp": 1673434791491,
     "user": {
      "displayName": "Bella Yang",
      "userId": "16101934561747208179"
     },
     "user_tz": -120
    },
    "id": "wXos0n8J7YUX",
    "outputId": "12a3d7e8-6165-424d-e340-f21654f5d2d1"
   },
   "outputs": [
    {
     "data": {
      "text/plain": [
       "0                         {'Neutral': 0.67, 'Negative': 0.33}\n",
       "1                                                         NaN\n",
       "2                                           {'Negative': 1.0}\n",
       "3                                            {'Neutral': 1.0}\n",
       "4       {'Positive': 0.33, 'Negative': 0.33, 'Neutral': 0.33}\n",
       "                                ...                          \n",
       "1938                                                      NaN\n",
       "1939                                                      NaN\n",
       "1940                     {'Positive': 0.25, 'Negative': 0.75}\n",
       "1941                                                      NaN\n",
       "1942                        {'Positive': 0.5, 'Neutral': 0.5}\n",
       "Length: 1943, dtype: object"
      ]
     },
     "execution_count": 11,
     "metadata": {},
     "output_type": "execute_result"
    }
   ],
   "source": [
    "# calculte the sentiment changes after the \"last\" targeing reply arrive.\n",
    "# save it into \"last_value\" variable.\n",
    "\n",
    "sentiment_aftertarget = sentiment_change['sentiment_beforetarget']\n",
    "last_value = reply.loc[target_index[-1]+1: ,'reply_sentiment'].value_counts(normalize=True,sort=False).round(2).to_dict()\n",
    "sentiment_aftertarget = pd.concat([sentiment_aftertarget[1:] ,pd.Series([last_value])], ignore_index=True )\n",
    "sentiment_aftertarget"
   ]
  },
  {
   "cell_type": "code",
   "execution_count": 12,
   "metadata": {
    "colab": {
     "base_uri": "https://localhost:8080/",
     "height": 554
    },
    "executionInfo": {
     "elapsed": 254,
     "status": "ok",
     "timestamp": 1673434801263,
     "user": {
      "displayName": "Bella Yang",
      "userId": "16101934561747208179"
     },
     "user_tz": -120
    },
    "id": "hz_S5dQMcWR-",
    "outputId": "74761874-9f88-4219-ee98-e8bcde4c08f8"
   },
   "outputs": [
    {
     "data": {
      "text/html": [
       "<div>\n",
       "<style scoped>\n",
       "    .dataframe tbody tr th:only-of-type {\n",
       "        vertical-align: middle;\n",
       "    }\n",
       "\n",
       "    .dataframe tbody tr th {\n",
       "        vertical-align: top;\n",
       "    }\n",
       "\n",
       "    .dataframe thead th {\n",
       "        text-align: right;\n",
       "    }\n",
       "</style>\n",
       "<table border=\"1\" class=\"dataframe\">\n",
       "  <thead>\n",
       "    <tr style=\"text-align: right;\">\n",
       "      <th></th>\n",
       "      <th>sentiment_beforetarget</th>\n",
       "      <th>neg_to_pos_beforetarget</th>\n",
       "      <th>sentiment_target</th>\n",
       "      <th>target_index</th>\n",
       "      <th>sentiment_aftertarget</th>\n",
       "    </tr>\n",
       "  </thead>\n",
       "  <tbody>\n",
       "    <tr>\n",
       "      <th>0</th>\n",
       "      <td>{'Neutral': 1.0}</td>\n",
       "      <td>0.0</td>\n",
       "      <td>Positive</td>\n",
       "      <td>3</td>\n",
       "      <td>{'Neutral': 0.67, 'Negative': 0.33}</td>\n",
       "    </tr>\n",
       "    <tr>\n",
       "      <th>1</th>\n",
       "      <td>{'Neutral': 0.67, 'Negative': 0.33}</td>\n",
       "      <td>inf</td>\n",
       "      <td>Neutral</td>\n",
       "      <td>7</td>\n",
       "      <td>NaN</td>\n",
       "    </tr>\n",
       "    <tr>\n",
       "      <th>2</th>\n",
       "      <td>NaN</td>\n",
       "      <td>NaN</td>\n",
       "      <td>Neutral</td>\n",
       "      <td>8</td>\n",
       "      <td>{'Negative': 1.0}</td>\n",
       "    </tr>\n",
       "    <tr>\n",
       "      <th>3</th>\n",
       "      <td>{'Negative': 1.0}</td>\n",
       "      <td>inf</td>\n",
       "      <td>Positive</td>\n",
       "      <td>10</td>\n",
       "      <td>{'Neutral': 1.0}</td>\n",
       "    </tr>\n",
       "    <tr>\n",
       "      <th>4</th>\n",
       "      <td>{'Neutral': 1.0}</td>\n",
       "      <td>0.0</td>\n",
       "      <td>Negative</td>\n",
       "      <td>12</td>\n",
       "      <td>{'Positive': 0.33, 'Negative': 0.33, 'Neutral': 0.33}</td>\n",
       "    </tr>\n",
       "    <tr>\n",
       "      <th>...</th>\n",
       "      <td>...</td>\n",
       "      <td>...</td>\n",
       "      <td>...</td>\n",
       "      <td>...</td>\n",
       "      <td>...</td>\n",
       "    </tr>\n",
       "    <tr>\n",
       "      <th>1938</th>\n",
       "      <td>{'Neutral': 0.5, 'Negative': 0.5}</td>\n",
       "      <td>inf</td>\n",
       "      <td>Neutral</td>\n",
       "      <td>7360</td>\n",
       "      <td>NaN</td>\n",
       "    </tr>\n",
       "    <tr>\n",
       "      <th>1939</th>\n",
       "      <td>NaN</td>\n",
       "      <td>NaN</td>\n",
       "      <td>Negative</td>\n",
       "      <td>7361</td>\n",
       "      <td>NaN</td>\n",
       "    </tr>\n",
       "    <tr>\n",
       "      <th>1940</th>\n",
       "      <td>NaN</td>\n",
       "      <td>NaN</td>\n",
       "      <td>Negative</td>\n",
       "      <td>7362</td>\n",
       "      <td>{'Positive': 0.25, 'Negative': 0.75}</td>\n",
       "    </tr>\n",
       "    <tr>\n",
       "      <th>1941</th>\n",
       "      <td>{'Positive': 0.25, 'Negative': 0.75}</td>\n",
       "      <td>3.0</td>\n",
       "      <td>Negative</td>\n",
       "      <td>7367</td>\n",
       "      <td>NaN</td>\n",
       "    </tr>\n",
       "    <tr>\n",
       "      <th>1942</th>\n",
       "      <td>NaN</td>\n",
       "      <td>NaN</td>\n",
       "      <td>Positive</td>\n",
       "      <td>7368</td>\n",
       "      <td>{'Positive': 0.5, 'Neutral': 0.5}</td>\n",
       "    </tr>\n",
       "  </tbody>\n",
       "</table>\n",
       "<p>1943 rows × 5 columns</p>\n",
       "</div>"
      ],
      "text/plain": [
       "                    sentiment_beforetarget  neg_to_pos_beforetarget  \\\n",
       "0                         {'Neutral': 1.0}                      0.0   \n",
       "1      {'Neutral': 0.67, 'Negative': 0.33}                      inf   \n",
       "2                                      NaN                      NaN   \n",
       "3                        {'Negative': 1.0}                      inf   \n",
       "4                         {'Neutral': 1.0}                      0.0   \n",
       "...                                    ...                      ...   \n",
       "1938     {'Neutral': 0.5, 'Negative': 0.5}                      inf   \n",
       "1939                                   NaN                      NaN   \n",
       "1940                                   NaN                      NaN   \n",
       "1941  {'Positive': 0.25, 'Negative': 0.75}                      3.0   \n",
       "1942                                   NaN                      NaN   \n",
       "\n",
       "     sentiment_target  target_index  \\\n",
       "0            Positive             3   \n",
       "1             Neutral             7   \n",
       "2             Neutral             8   \n",
       "3            Positive            10   \n",
       "4            Negative            12   \n",
       "...               ...           ...   \n",
       "1938          Neutral          7360   \n",
       "1939         Negative          7361   \n",
       "1940         Negative          7362   \n",
       "1941         Negative          7367   \n",
       "1942         Positive          7368   \n",
       "\n",
       "                                      sentiment_aftertarget  \n",
       "0                       {'Neutral': 0.67, 'Negative': 0.33}  \n",
       "1                                                       NaN  \n",
       "2                                         {'Negative': 1.0}  \n",
       "3                                          {'Neutral': 1.0}  \n",
       "4     {'Positive': 0.33, 'Negative': 0.33, 'Neutral': 0.33}  \n",
       "...                                                     ...  \n",
       "1938                                                    NaN  \n",
       "1939                                                    NaN  \n",
       "1940                   {'Positive': 0.25, 'Negative': 0.75}  \n",
       "1941                                                    NaN  \n",
       "1942                      {'Positive': 0.5, 'Neutral': 0.5}  \n",
       "\n",
       "[1943 rows x 5 columns]"
      ]
     },
     "execution_count": 12,
     "metadata": {},
     "output_type": "execute_result"
    }
   ],
   "source": [
    "sentiment_change['sentiment_aftertarget'] = sentiment_aftertarget\n",
    "sentiment_change"
   ]
  },
  {
   "cell_type": "code",
   "execution_count": 13,
   "metadata": {
    "colab": {
     "base_uri": "https://localhost:8080/",
     "height": 592
    },
    "executionInfo": {
     "elapsed": 332,
     "status": "ok",
     "timestamp": 1673434831784,
     "user": {
      "displayName": "Bella Yang",
      "userId": "16101934561747208179"
     },
     "user_tz": -120
    },
    "id": "8IvHR65r7RTJ",
    "outputId": "a8a0ade6-5c84-473a-b79f-0141812a2be4"
   },
   "outputs": [
    {
     "data": {
      "text/html": [
       "<div>\n",
       "<style scoped>\n",
       "    .dataframe tbody tr th:only-of-type {\n",
       "        vertical-align: middle;\n",
       "    }\n",
       "\n",
       "    .dataframe tbody tr th {\n",
       "        vertical-align: top;\n",
       "    }\n",
       "\n",
       "    .dataframe thead th {\n",
       "        text-align: right;\n",
       "    }\n",
       "</style>\n",
       "<table border=\"1\" class=\"dataframe\">\n",
       "  <thead>\n",
       "    <tr style=\"text-align: right;\">\n",
       "      <th></th>\n",
       "      <th>sentiment_beforetarget</th>\n",
       "      <th>neg_to_pos_beforetarget</th>\n",
       "      <th>sentiment_target</th>\n",
       "      <th>target_index</th>\n",
       "      <th>sentiment_aftertarget</th>\n",
       "      <th>neg_to_pos_aftertarget</th>\n",
       "    </tr>\n",
       "  </thead>\n",
       "  <tbody>\n",
       "    <tr>\n",
       "      <th>0</th>\n",
       "      <td>{'Neutral': 1.0}</td>\n",
       "      <td>0.0</td>\n",
       "      <td>Positive</td>\n",
       "      <td>3</td>\n",
       "      <td>{'Neutral': 0.67, 'Negative': 0.33}</td>\n",
       "      <td>inf</td>\n",
       "    </tr>\n",
       "    <tr>\n",
       "      <th>1</th>\n",
       "      <td>{'Neutral': 0.67, 'Negative': 0.33}</td>\n",
       "      <td>inf</td>\n",
       "      <td>Neutral</td>\n",
       "      <td>7</td>\n",
       "      <td>NaN</td>\n",
       "      <td>NaN</td>\n",
       "    </tr>\n",
       "    <tr>\n",
       "      <th>2</th>\n",
       "      <td>NaN</td>\n",
       "      <td>NaN</td>\n",
       "      <td>Neutral</td>\n",
       "      <td>8</td>\n",
       "      <td>{'Negative': 1.0}</td>\n",
       "      <td>inf</td>\n",
       "    </tr>\n",
       "    <tr>\n",
       "      <th>3</th>\n",
       "      <td>{'Negative': 1.0}</td>\n",
       "      <td>inf</td>\n",
       "      <td>Positive</td>\n",
       "      <td>10</td>\n",
       "      <td>{'Neutral': 1.0}</td>\n",
       "      <td>0.0</td>\n",
       "    </tr>\n",
       "    <tr>\n",
       "      <th>4</th>\n",
       "      <td>{'Neutral': 1.0}</td>\n",
       "      <td>0.0</td>\n",
       "      <td>Negative</td>\n",
       "      <td>12</td>\n",
       "      <td>{'Positive': 0.33, 'Negative': 0.33, 'Neutral': 0.33}</td>\n",
       "      <td>1.0</td>\n",
       "    </tr>\n",
       "    <tr>\n",
       "      <th>...</th>\n",
       "      <td>...</td>\n",
       "      <td>...</td>\n",
       "      <td>...</td>\n",
       "      <td>...</td>\n",
       "      <td>...</td>\n",
       "      <td>...</td>\n",
       "    </tr>\n",
       "    <tr>\n",
       "      <th>1938</th>\n",
       "      <td>{'Neutral': 0.5, 'Negative': 0.5}</td>\n",
       "      <td>inf</td>\n",
       "      <td>Neutral</td>\n",
       "      <td>7360</td>\n",
       "      <td>NaN</td>\n",
       "      <td>NaN</td>\n",
       "    </tr>\n",
       "    <tr>\n",
       "      <th>1939</th>\n",
       "      <td>NaN</td>\n",
       "      <td>NaN</td>\n",
       "      <td>Negative</td>\n",
       "      <td>7361</td>\n",
       "      <td>NaN</td>\n",
       "      <td>NaN</td>\n",
       "    </tr>\n",
       "    <tr>\n",
       "      <th>1940</th>\n",
       "      <td>NaN</td>\n",
       "      <td>NaN</td>\n",
       "      <td>Negative</td>\n",
       "      <td>7362</td>\n",
       "      <td>{'Positive': 0.25, 'Negative': 0.75}</td>\n",
       "      <td>3.0</td>\n",
       "    </tr>\n",
       "    <tr>\n",
       "      <th>1941</th>\n",
       "      <td>{'Positive': 0.25, 'Negative': 0.75}</td>\n",
       "      <td>3.0</td>\n",
       "      <td>Negative</td>\n",
       "      <td>7367</td>\n",
       "      <td>NaN</td>\n",
       "      <td>NaN</td>\n",
       "    </tr>\n",
       "    <tr>\n",
       "      <th>1942</th>\n",
       "      <td>NaN</td>\n",
       "      <td>NaN</td>\n",
       "      <td>Positive</td>\n",
       "      <td>7368</td>\n",
       "      <td>{'Positive': 0.5, 'Neutral': 0.5}</td>\n",
       "      <td>0.0</td>\n",
       "    </tr>\n",
       "  </tbody>\n",
       "</table>\n",
       "<p>1943 rows × 6 columns</p>\n",
       "</div>"
      ],
      "text/plain": [
       "                    sentiment_beforetarget  neg_to_pos_beforetarget  \\\n",
       "0                         {'Neutral': 1.0}                      0.0   \n",
       "1      {'Neutral': 0.67, 'Negative': 0.33}                      inf   \n",
       "2                                      NaN                      NaN   \n",
       "3                        {'Negative': 1.0}                      inf   \n",
       "4                         {'Neutral': 1.0}                      0.0   \n",
       "...                                    ...                      ...   \n",
       "1938     {'Neutral': 0.5, 'Negative': 0.5}                      inf   \n",
       "1939                                   NaN                      NaN   \n",
       "1940                                   NaN                      NaN   \n",
       "1941  {'Positive': 0.25, 'Negative': 0.75}                      3.0   \n",
       "1942                                   NaN                      NaN   \n",
       "\n",
       "     sentiment_target  target_index  \\\n",
       "0            Positive             3   \n",
       "1             Neutral             7   \n",
       "2             Neutral             8   \n",
       "3            Positive            10   \n",
       "4            Negative            12   \n",
       "...               ...           ...   \n",
       "1938          Neutral          7360   \n",
       "1939         Negative          7361   \n",
       "1940         Negative          7362   \n",
       "1941         Negative          7367   \n",
       "1942         Positive          7368   \n",
       "\n",
       "                                      sentiment_aftertarget  \\\n",
       "0                       {'Neutral': 0.67, 'Negative': 0.33}   \n",
       "1                                                       NaN   \n",
       "2                                         {'Negative': 1.0}   \n",
       "3                                          {'Neutral': 1.0}   \n",
       "4     {'Positive': 0.33, 'Negative': 0.33, 'Neutral': 0.33}   \n",
       "...                                                     ...   \n",
       "1938                                                    NaN   \n",
       "1939                                                    NaN   \n",
       "1940                   {'Positive': 0.25, 'Negative': 0.75}   \n",
       "1941                                                    NaN   \n",
       "1942                      {'Positive': 0.5, 'Neutral': 0.5}   \n",
       "\n",
       "      neg_to_pos_aftertarget  \n",
       "0                        inf  \n",
       "1                        NaN  \n",
       "2                        inf  \n",
       "3                        0.0  \n",
       "4                        1.0  \n",
       "...                      ...  \n",
       "1938                     NaN  \n",
       "1939                     NaN  \n",
       "1940                     3.0  \n",
       "1941                     NaN  \n",
       "1942                     0.0  \n",
       "\n",
       "[1943 rows x 6 columns]"
      ]
     },
     "execution_count": 13,
     "metadata": {},
     "output_type": "execute_result"
    }
   ],
   "source": [
    "try:\n",
    "    neg = last_value['Negative']\n",
    "    pos = last_value['Positive']\n",
    "except:\n",
    "  if 'Positive' in last_value.keys():\n",
    "    n_p = 0\n",
    "  elif \"Negative\" in last_value.keys():\n",
    "    n_p = np.inf\n",
    "  else:\n",
    "    n_p = 0\n",
    "else:\n",
    "  n_p = round(neg/pos,2)\n",
    "\n",
    "\n",
    "\n",
    "# neg = last_value['Negative']\n",
    "# pos = last_value['Positive'] \n",
    "# n_p = round(neg/pos,2)\n",
    "\n",
    "neg_to_pos_aftertarget = sentiment_change['neg_to_pos_beforetarget'][1:]\n",
    "neg_to_pos_aftertarget = pd.concat([neg_to_pos_aftertarget, pd.Series([n_p])], ignore_index=True )\n",
    "\n",
    "sentiment_change['neg_to_pos_aftertarget'] = neg_to_pos_aftertarget\n",
    "sentiment_change"
   ]
  },
  {
   "cell_type": "markdown",
   "metadata": {
    "id": "b3RxvqhVTMiW"
   },
   "source": [
    "## calculate number of rows"
   ]
  },
  {
   "cell_type": "code",
   "execution_count": 14,
   "metadata": {
    "colab": {
     "base_uri": "https://localhost:8080/"
    },
    "executionInfo": {
     "elapsed": 278,
     "status": "ok",
     "timestamp": 1673434843773,
     "user": {
      "displayName": "Bella Yang",
      "userId": "16101934561747208179"
     },
     "user_tz": -120
    },
    "id": "k7U1k9hT137n",
    "outputId": "2eab92c0-366a-41d8-9448-d22897ad45b3"
   },
   "outputs": [
    {
     "name": "stdout",
     "output_type": "stream",
     "text": [
      "[3, 3, 0, 1, 1, 9, 5, 0, 1, 0, 7, 3, 8, 4, 1, 0, 2, 0, 0, 3, 5, 4, 2, 9, 5, 2, 3, 1, 1, 0, 9, 2, 0, 6, 0, 0, 6, 10, 0, 3, 0, 0, 3, 1, 1, 1, 1, 2, 0, 0, 2, 2, 5, 0, 1, 8, 4, 1, 0, 0, 5, 1, 2, 11, 2, 0, 3, 6, 6, 4, 1, 1, 0, 1, 2, 1, 1, 1, 0, 2, 1, 0, 1, 0, 3, 1, 0, 2, 0, 0, 4, 3, 1, 0, 4, 1, 3, 3, 0, 0, 0, 2, 1, 0, 1, 0, 1, 1, 3, 15, 0, 0, 0, 2, 10, 1, 6, 8, 3, 12, 4, 0, 3, 0, 6, 14, 0, 4, 2, 0, 1, 0, 2, 4, 0, 0, 0, 1, 2, 1, 3, 1, 1, 0, 0, 5, 0, 1, 1, 3, 0, 0, 1, 9, 3, 3, 2, 5, 6, 1, 4, 1, 0, 1, 0, 1, 6, 1, 3, 0, 9, 0, 0, 2, 0, 2, 1, 0, 4, 2, 4, 0, 1, 0, 2, 6, 1, 6, 0, 0, 5, 2, 0, 3, 0, 2, 0, 3, 1, 0, 1, 2, 0, 6, 6, 0, 2, 1, 2, 1, 3, 3, 3, 2, 4, 1, 7, 2, 4, 2, 3, 4, 3, 3, 1, 0, 1, 2, 12, 0, 0, 0, 4, 2, 3, 4, 8, 9, 2, 4, 1, 3, 2, 4, 3, 1, 1, 0, 7, 4, 0, 1, 1, 16, 0, 2, 0, 3, 1, 1, 1, 0, 3, 0, 0, 2, 0, 8, 2, 3, 0, 3, 2, 1, 3, 0, 1, 3, 9, 1, 9, 2, 1, 0, 0, 3, 5, 5, 5, 3, 7, 11, 4, 2, 0, 3, 1, 0, 1, 8, 5, 2, 5, 4, 1, 0, 4, 0, 1, 0, 1, 0, 5, 5, 0, 4, 0, 5, 2, 5, 6, 1, 3, 19, 16, 1, 15, 1, 0, 0, 3, 5, 1, 0, 1, 0, 1, 3, 3, 0, 0, 3, 0, 0, 6, 3, 0, 0, 12, 1, 1, 8, 3, 4, 3, 11, 2, 1, 2, 2, 2, 0, 12, 10, 3, 9, 7, 5, 2, 6, 1, 5, 4, 2, 3, 0, 10, 0, 6, 0, 3, 3, 3, 0, 1, 1, 2, 0, 7, 0, 2, 0, 3, 4, 1, 5, 2, 5, 8, 0, 16, 3, 3, 1, 0, 3, 1, 1, 4, 4, 4, 0, 4, 1, 3, 2, 0, 2, 2, 1, 4, 5, 3, 1, 2, 0, 3, 1, 1, 1, 4, 0, 3, 8, 1, 0, 0, 3, 0, 1, 6, 2, 1, 4, 7, 1, 6, 7, 7, 0, 0, 8, 2, 5, 0, 2, 4, 0, 2, 0, 1, 1, 0, 0, 8, 2, 1, 1, 0, 0, 6, 0, 0, 2, 7, 2, 11, 11, 4, 3, 2, 4, 0, 1, 0, 3, 7, 13, 2, 3, 0, 13, 2, 12, 5, 3, 9, 3, 1, 0, 12, 0, 5, 6, 5, 5, 4, 0, 2, 1, 0, 5, 14, 11, 6, 0, 1, 8, 0, 1, 4, 0, 0, 1, 5, 17, 1, 8, 1, 1, 0, 5, 2, 5, 10, 3, 9, 1, 1, 4, 0, 0, 0, 0, 1, 3, 0, 12, 10, 1, 1, 3, 2, 2, 1, 3, 2, 0, 2, 1, 8, 1, 0, 5, 3, 1, 7, 0, 0, 2, 0, 4, 5, 0, 6, 6, 5, 6, 0, 1, 0, 0, 1, 1, 0, 6, 0, 3, 7, 9, 1, 0, 2, 0, 4, 2, 1, 0, 6, 1, 0, 2, 0, 1, 2, 0, 0, 4, 11, 4, 0, 1, 4, 1, 3, 1, 0, 0, 0, 2, 18, 2, 2, 7, 6, 7, 1, 0, 0, 4, 0, 3, 2, 3, 6, 1, 4, 1, 2, 6, 9, 2, 5, 5, 1, 12, 7, 3, 7, 8, 5, 3, 2, 3, 1, 2, 9, 3, 0, 1, 1, 0, 4, 16, 0, 4, 2, 4, 6, 4, 0, 0, 0, 0, 0, 2, 2, 1, 7, 7, 3, 4, 0, 0, 0, 6, 5, 2, 0, 0, 8, 3, 8, 1, 1, 0, 2, 1, 0, 0, 0, 0, 3, 2, 1, 3, 6, 0, 5, 19, 0, 2, 0, 0, 3, 0, 1, 2, 3, 1, 5, 9, 0, 1, 10, 2, 0, 0, 4, 4, 0, 0, 1, 1, 6, 0, 4, 2, 4, 0, 3, 3, 6, 1, 0, 2, 0, 4, 3, 6, 1, 0, 16, 1, 0, 10, 1, 5, 0, 1, 9, 2, 1, 14, 1, 7, 2, 4, 1, 2, 1, 1, 6, 0, 3, 9, 1, 2, 0, 6, 11, 2, 4, 6, 1, 8, 0, 0, 0, 0, 0, 6, 0, 8, 1, 1, 1, 3, 3, 1, 5, 1, 0, 2, 5, 3, 2, 0, 5, 2, 0, 6, 0, 0, 2, 2, 0, 6, 2, 2, 1, 3, 1, 0, 0, 1, 1, 2, 1, 0, 5, 1, 8, 3, 3, 2, 2, 2, 6, 0, 4, 0, 12, 3, 0, 0, 1, 2, 5, 0, 0, 2, 1, 0, 3, 4, 2, 4, 1, 4, 5, 0, 0, 0, 3, 3, 0, 6, 10, 2, 0, 0, 1, 1, 2, 0, 0, 6, 6, 0, 2, 2, 3, 0, 2, 6, 6, 2, 7, 1, 3, 6, 0, 1, 4, 5, 0, 1, 1, 0, 0, 1, 1, 2, 0, 3, 4, 1, 9, 23, 3, 1, 3, 1, 1, 2, 4, 2, 2, 4, 1, 1, 1, 0, 9, 1, 3, 0, 0, 0, 0, 0, 8, 24, 10, 0, 5, 0, 2, 0, 0, 17, 1, 0, 6, 3, 5, 2, 2, 0, 9, 7, 5, 1, 4, 1, 2, 0, 9, 0, 0, 0, 7, 6, 0, 18, 2, 0, 4, 4, 3, 2, 4, 8, 15, 2, 0, 0, 8, 2, 5, 0, 0, 10, 1, 8, 17, 1, 1, 8, 2, 0, 2, 9, 1, 16, 2, 2, 0, 1, 3, 8, 0, 2, 7, 0, 0, 1, 1, 10, 0, 0, 5, 1, 0, 8, 4, 0, 0, 2, 3, 0, 1, 1, 2, 1, 1, 0, 3, 2, 13, 1, 5, 0, 2, 0, 1, 1, 1, 1, 0, 13, 1, 8, 4, 0, 2, 4, 1, 1, 0, 4, 13, 4, 16, 0, 1, 9, 21, 12, 2, 7, 5, 12, 7, 1, 2, 4, 1, 6, 9, 9, 4, 0, 7, 12, 1, 3, 3, 1, 1, 1, 1, 2, 3, 0, 7, 2, 1, 1, 2, 5, 8, 2, 1, 3, 1, 0, 2, 5, 0, 0, 3, 12, 3, 3, 1, 2, 3, 2, 0, 3, 1, 0, 1, 0, 5, 1, 0, 9, 4, 0, 5, 3, 11, 8, 5, 2, 0, 1, 4, 3, 1, 5, 0, 3, 9, 4, 4, 0, 0, 2, 5, 27, 2, 0, 1, 1, 2, 3, 4, 14, 9, 2, 0, 2, 1, 1, 11, 1, 2, 1, 0, 0, 3, 2, 0, 4, 3, 1, 1, 1, 4, 0, 3, 2, 5, 1, 4, 0, 0, 3, 0, 0, 1, 0, 0, 3, 0, 2, 0, 0, 4, 4, 4, 6, 3, 6, 5, 0, 0, 3, 1, 5, 2, 3, 2, 5, 7, 10, 2, 2, 9, 10, 3, 4, 2, 7, 0, 0, 4, 12, 4, 5, 0, 9, 1, 5, 3, 5, 2, 2, 0, 5, 1, 3, 4, 1, 3, 7, 3, 5, 0, 0, 2, 0, 0, 3, 3, 2, 6, 3, 10, 1, 9, 0, 7, 0, 4, 4, 2, 2, 7, 0, 8, 2, 0, 0, 0, 2, 4, 2, 5, 3, 0, 0, 3, 3, 5, 4, 2, 5, 0, 3, 11, 0, 3, 5, 3, 1, 5, 2, 0, 1, 5, 0, 10, 1, 1, 2, 2, 3, 1, 0, 1, 2, 0, 1, 0, 1, 0, 0, 5, 14, 1, 4, 0, 0, 3, 0, 2, 1, 4, 6, 8, 0, 0, 3, 9, 0, 1, 8, 7, 0, 1, 3, 0, 0, 1, 11, 5, 0, 1, 11, 4, 0, 2, 2, 9, 1, 4, 1, 8, 3, 1, 5, 0, 0, 1, 0, 0, 3, 0, 7, 11, 2, 8, 0, 0, 1, 3, 0, 2, 0, 5, 8, 4, 2, 0, 1, 1, 6, 0, 0, 2, 0, 0, 3, 0, 0, 0, 1, 1, 0, 1, 0, 1, 2, 10, 0, 0, 0, 0, 0, 1, 0, 1, 1, 1, 8, 1, 1, 0, 0, 0, 1, 1, 4, 5, 2, 3, 0, 2, 0, 2, 0, 0, 0, 0, 1, 0, 0, 1, 4, 0, 1, 1, 1, 0, 1, 14, 1, 2, 6, 7, 0, 3, 1, 3, 0, 3, 3, 4, 1, 0, 0, 0, 2, 0, 3, 2, 3, 3, 14, 3, 0, 1, 7, 0, 0, 5, 0, 1, 1, 2, 1, 0, 0, 2, 0, 4, 0, 1, 1, 2, 1, 1, 0, 1, 1, 1, 1, 1, 1, 3, 0, 3, 4, 0, 0, 1, 0, 1, 0, 2, 6, 0, 0, 0, 0, 2, 1, 4, 0, 3, 0, 3, 1, 0, 1, 1, 3, 0, 3, 4, 5, 1, 1, 4, 2, 0, 0, 0, 1, 0, 0, 2, 5, 0, 0, 0, 1, 1, 1, 7, 0, 3, 0, 4, 4, 10, 3, 7, 0, 2, 4, 0, 5, 3, 3, 0, 13, 0, 3, 5, 0, 2, 0, 4, 6, 4, 0, 2, 0, 3, 3, 2, 11, 2, 0, 6, 3, 9, 0, 8, 1, 0, 0, 2, 2, 1, 5, 1, 8, 1, 5, 1, 0, 2, 2, 4, 3, 0, 1, 0, 5, 0, 0, 0, 5, 0, 1, 1, 0, 3, 3, 0, 3, 2, 0, 4, 5, 1, 5, 9, 3, 0, 0, 1, 3, 5, 1, 10, 0, 8, 6, 6, 5, 0, 1, 8, 14, 6, 10, 2, 1, 5, 3, 0, 6, 5, 9, 5, 6, 12, 4, 5, 2, 1, 6, 1, 0, 13, 5, 4, 2, 10, 0, 7, 5, 5, 2, 1, 3, 1, 2, 3, 2, 8, 27, 1, 19, 1, 9, 2, 0, 0, 14, 3, 3, 7, 3, 2, 4, 4, 16, 0, 2, 5, 1, 2, 5, 7, 2, 1, 1, 2, 3, 1, 3, 21, 8, 2, 6, 11, 2, 2, 0, 0, 1, 13, 1, 1, 4, 25, 5, 3, 7, 4, 6, 4, 2, 1, 6, 1, 4, 5, 10, 1, 2, 5, 2, 0, 2, 12, 2, 6, 0, 1, 2, 2, 8, 0, 4, 7, 0, 0, 3, 4, 6, 0, 5, 1, 5, 0, 1, 0, 1, 4, 0, 5, 1, 1, 1, 5, 0, 6, 2, 3, 1, 1, 0, 6, 2, 0, 1, 4, 3, 3, 1, 0, 0, 1, 1, 0, 0, 3, 1, 0, 0, 2, 1, 0, 0, 2, 2, 7, 0, 1, 2, 1, 0, 0, 0, 0, 0, 0, 2, 1, 1, 0, 0, 1, 5, 2, 3, 1, 0, 0, 0, 1, 1, 1, 0, 1, 0, 2, 0, 0, 1, 1, 0, 1, 0, 0, 0, 0, 0, 0, 0, 0, 0, 0, 1, 1, 3, 0, 1, 1, 0, 0, 0, 0, 1, 0, 0, 0, 0, 2, 0, 0, 4, 2, 3, 2, 2, 0, 0, 2, 0, 0, 2, 0, 0, 1, 1, 0, 0, 3, 3, 0, 0, 0, 0, 0, 0, 0, 1, 2, 8, 5, 0, 19, 0, 5, 5, 1, 1, 21, 1, 1, 2, 0, 1, 0, 1, 0, 0, 0, 0, 2, 1, 4, 13, 0, 2, 0, 5, 7, 2, 4, 2, 1, 0, 0, 0, 0, 0, 2, 0, 0, 4, 0]\n"
     ]
    }
   ],
   "source": [
    "# calculate number of rows before the target sentiment arrived.\n",
    "row_before = []\n",
    "for i in range(len(target_index)):\n",
    "  if i >0 :\n",
    "    row_before.append(target_index[i] - target_index[i-1]-1)\n",
    "  else:\n",
    "    row_before.append(target_index[i])\n",
    "print(row_before)\n"
   ]
  },
  {
   "cell_type": "code",
   "execution_count": 15,
   "metadata": {
    "colab": {
     "base_uri": "https://localhost:8080/"
    },
    "executionInfo": {
     "elapsed": 350,
     "status": "ok",
     "timestamp": 1673434855934,
     "user": {
      "displayName": "Bella Yang",
      "userId": "16101934561747208179"
     },
     "user_tz": -120
    },
    "id": "p7YLEG8XCClz",
    "outputId": "a8e6bdc5-7225-4021-91bc-04cad4d045fe"
   },
   "outputs": [
    {
     "name": "stdout",
     "output_type": "stream",
     "text": [
      "[3, 0, 1, 1, 9, 5, 0, 1, 0, 7, 3, 8, 4, 1, 0, 2, 0, 0, 3, 5, 4, 2, 9, 5, 2, 3, 1, 1, 0, 9, 2, 0, 6, 0, 0, 6, 10, 0, 3, 0, 0, 3, 1, 1, 1, 1, 2, 0, 0, 2, 2, 5, 0, 1, 8, 4, 1, 0, 0, 5, 1, 2, 11, 2, 0, 3, 6, 6, 4, 1, 1, 0, 1, 2, 1, 1, 1, 0, 2, 1, 0, 1, 0, 3, 1, 0, 2, 0, 0, 4, 3, 1, 0, 4, 1, 3, 3, 0, 0, 0, 2, 1, 0, 1, 0, 1, 1, 3, 15, 0, 0, 0, 2, 10, 1, 6, 8, 3, 12, 4, 0, 3, 0, 6, 14, 0, 4, 2, 0, 1, 0, 2, 4, 0, 0, 0, 1, 2, 1, 3, 1, 1, 0, 0, 5, 0, 1, 1, 3, 0, 0, 1, 9, 3, 3, 2, 5, 6, 1, 4, 1, 0, 1, 0, 1, 6, 1, 3, 0, 9, 0, 0, 2, 0, 2, 1, 0, 4, 2, 4, 0, 1, 0, 2, 6, 1, 6, 0, 0, 5, 2, 0, 3, 0, 2, 0, 3, 1, 0, 1, 2, 0, 6, 6, 0, 2, 1, 2, 1, 3, 3, 3, 2, 4, 1, 7, 2, 4, 2, 3, 4, 3, 3, 1, 0, 1, 2, 12, 0, 0, 0, 4, 2, 3, 4, 8, 9, 2, 4, 1, 3, 2, 4, 3, 1, 1, 0, 7, 4, 0, 1, 1, 16, 0, 2, 0, 3, 1, 1, 1, 0, 3, 0, 0, 2, 0, 8, 2, 3, 0, 3, 2, 1, 3, 0, 1, 3, 9, 1, 9, 2, 1, 0, 0, 3, 5, 5, 5, 3, 7, 11, 4, 2, 0, 3, 1, 0, 1, 8, 5, 2, 5, 4, 1, 0, 4, 0, 1, 0, 1, 0, 5, 5, 0, 4, 0, 5, 2, 5, 6, 1, 3, 19, 16, 1, 15, 1, 0, 0, 3, 5, 1, 0, 1, 0, 1, 3, 3, 0, 0, 3, 0, 0, 6, 3, 0, 0, 12, 1, 1, 8, 3, 4, 3, 11, 2, 1, 2, 2, 2, 0, 12, 10, 3, 9, 7, 5, 2, 6, 1, 5, 4, 2, 3, 0, 10, 0, 6, 0, 3, 3, 3, 0, 1, 1, 2, 0, 7, 0, 2, 0, 3, 4, 1, 5, 2, 5, 8, 0, 16, 3, 3, 1, 0, 3, 1, 1, 4, 4, 4, 0, 4, 1, 3, 2, 0, 2, 2, 1, 4, 5, 3, 1, 2, 0, 3, 1, 1, 1, 4, 0, 3, 8, 1, 0, 0, 3, 0, 1, 6, 2, 1, 4, 7, 1, 6, 7, 7, 0, 0, 8, 2, 5, 0, 2, 4, 0, 2, 0, 1, 1, 0, 0, 8, 2, 1, 1, 0, 0, 6, 0, 0, 2, 7, 2, 11, 11, 4, 3, 2, 4, 0, 1, 0, 3, 7, 13, 2, 3, 0, 13, 2, 12, 5, 3, 9, 3, 1, 0, 12, 0, 5, 6, 5, 5, 4, 0, 2, 1, 0, 5, 14, 11, 6, 0, 1, 8, 0, 1, 4, 0, 0, 1, 5, 17, 1, 8, 1, 1, 0, 5, 2, 5, 10, 3, 9, 1, 1, 4, 0, 0, 0, 0, 1, 3, 0, 12, 10, 1, 1, 3, 2, 2, 1, 3, 2, 0, 2, 1, 8, 1, 0, 5, 3, 1, 7, 0, 0, 2, 0, 4, 5, 0, 6, 6, 5, 6, 0, 1, 0, 0, 1, 1, 0, 6, 0, 3, 7, 9, 1, 0, 2, 0, 4, 2, 1, 0, 6, 1, 0, 2, 0, 1, 2, 0, 0, 4, 11, 4, 0, 1, 4, 1, 3, 1, 0, 0, 0, 2, 18, 2, 2, 7, 6, 7, 1, 0, 0, 4, 0, 3, 2, 3, 6, 1, 4, 1, 2, 6, 9, 2, 5, 5, 1, 12, 7, 3, 7, 8, 5, 3, 2, 3, 1, 2, 9, 3, 0, 1, 1, 0, 4, 16, 0, 4, 2, 4, 6, 4, 0, 0, 0, 0, 0, 2, 2, 1, 7, 7, 3, 4, 0, 0, 0, 6, 5, 2, 0, 0, 8, 3, 8, 1, 1, 0, 2, 1, 0, 0, 0, 0, 3, 2, 1, 3, 6, 0, 5, 19, 0, 2, 0, 0, 3, 0, 1, 2, 3, 1, 5, 9, 0, 1, 10, 2, 0, 0, 4, 4, 0, 0, 1, 1, 6, 0, 4, 2, 4, 0, 3, 3, 6, 1, 0, 2, 0, 4, 3, 6, 1, 0, 16, 1, 0, 10, 1, 5, 0, 1, 9, 2, 1, 14, 1, 7, 2, 4, 1, 2, 1, 1, 6, 0, 3, 9, 1, 2, 0, 6, 11, 2, 4, 6, 1, 8, 0, 0, 0, 0, 0, 6, 0, 8, 1, 1, 1, 3, 3, 1, 5, 1, 0, 2, 5, 3, 2, 0, 5, 2, 0, 6, 0, 0, 2, 2, 0, 6, 2, 2, 1, 3, 1, 0, 0, 1, 1, 2, 1, 0, 5, 1, 8, 3, 3, 2, 2, 2, 6, 0, 4, 0, 12, 3, 0, 0, 1, 2, 5, 0, 0, 2, 1, 0, 3, 4, 2, 4, 1, 4, 5, 0, 0, 0, 3, 3, 0, 6, 10, 2, 0, 0, 1, 1, 2, 0, 0, 6, 6, 0, 2, 2, 3, 0, 2, 6, 6, 2, 7, 1, 3, 6, 0, 1, 4, 5, 0, 1, 1, 0, 0, 1, 1, 2, 0, 3, 4, 1, 9, 23, 3, 1, 3, 1, 1, 2, 4, 2, 2, 4, 1, 1, 1, 0, 9, 1, 3, 0, 0, 0, 0, 0, 8, 24, 10, 0, 5, 0, 2, 0, 0, 17, 1, 0, 6, 3, 5, 2, 2, 0, 9, 7, 5, 1, 4, 1, 2, 0, 9, 0, 0, 0, 7, 6, 0, 18, 2, 0, 4, 4, 3, 2, 4, 8, 15, 2, 0, 0, 8, 2, 5, 0, 0, 10, 1, 8, 17, 1, 1, 8, 2, 0, 2, 9, 1, 16, 2, 2, 0, 1, 3, 8, 0, 2, 7, 0, 0, 1, 1, 10, 0, 0, 5, 1, 0, 8, 4, 0, 0, 2, 3, 0, 1, 1, 2, 1, 1, 0, 3, 2, 13, 1, 5, 0, 2, 0, 1, 1, 1, 1, 0, 13, 1, 8, 4, 0, 2, 4, 1, 1, 0, 4, 13, 4, 16, 0, 1, 9, 21, 12, 2, 7, 5, 12, 7, 1, 2, 4, 1, 6, 9, 9, 4, 0, 7, 12, 1, 3, 3, 1, 1, 1, 1, 2, 3, 0, 7, 2, 1, 1, 2, 5, 8, 2, 1, 3, 1, 0, 2, 5, 0, 0, 3, 12, 3, 3, 1, 2, 3, 2, 0, 3, 1, 0, 1, 0, 5, 1, 0, 9, 4, 0, 5, 3, 11, 8, 5, 2, 0, 1, 4, 3, 1, 5, 0, 3, 9, 4, 4, 0, 0, 2, 5, 27, 2, 0, 1, 1, 2, 3, 4, 14, 9, 2, 0, 2, 1, 1, 11, 1, 2, 1, 0, 0, 3, 2, 0, 4, 3, 1, 1, 1, 4, 0, 3, 2, 5, 1, 4, 0, 0, 3, 0, 0, 1, 0, 0, 3, 0, 2, 0, 0, 4, 4, 4, 6, 3, 6, 5, 0, 0, 3, 1, 5, 2, 3, 2, 5, 7, 10, 2, 2, 9, 10, 3, 4, 2, 7, 0, 0, 4, 12, 4, 5, 0, 9, 1, 5, 3, 5, 2, 2, 0, 5, 1, 3, 4, 1, 3, 7, 3, 5, 0, 0, 2, 0, 0, 3, 3, 2, 6, 3, 10, 1, 9, 0, 7, 0, 4, 4, 2, 2, 7, 0, 8, 2, 0, 0, 0, 2, 4, 2, 5, 3, 0, 0, 3, 3, 5, 4, 2, 5, 0, 3, 11, 0, 3, 5, 3, 1, 5, 2, 0, 1, 5, 0, 10, 1, 1, 2, 2, 3, 1, 0, 1, 2, 0, 1, 0, 1, 0, 0, 5, 14, 1, 4, 0, 0, 3, 0, 2, 1, 4, 6, 8, 0, 0, 3, 9, 0, 1, 8, 7, 0, 1, 3, 0, 0, 1, 11, 5, 0, 1, 11, 4, 0, 2, 2, 9, 1, 4, 1, 8, 3, 1, 5, 0, 0, 1, 0, 0, 3, 0, 7, 11, 2, 8, 0, 0, 1, 3, 0, 2, 0, 5, 8, 4, 2, 0, 1, 1, 6, 0, 0, 2, 0, 0, 3, 0, 0, 0, 1, 1, 0, 1, 0, 1, 2, 10, 0, 0, 0, 0, 0, 1, 0, 1, 1, 1, 8, 1, 1, 0, 0, 0, 1, 1, 4, 5, 2, 3, 0, 2, 0, 2, 0, 0, 0, 0, 1, 0, 0, 1, 4, 0, 1, 1, 1, 0, 1, 14, 1, 2, 6, 7, 0, 3, 1, 3, 0, 3, 3, 4, 1, 0, 0, 0, 2, 0, 3, 2, 3, 3, 14, 3, 0, 1, 7, 0, 0, 5, 0, 1, 1, 2, 1, 0, 0, 2, 0, 4, 0, 1, 1, 2, 1, 1, 0, 1, 1, 1, 1, 1, 1, 3, 0, 3, 4, 0, 0, 1, 0, 1, 0, 2, 6, 0, 0, 0, 0, 2, 1, 4, 0, 3, 0, 3, 1, 0, 1, 1, 3, 0, 3, 4, 5, 1, 1, 4, 2, 0, 0, 0, 1, 0, 0, 2, 5, 0, 0, 0, 1, 1, 1, 7, 0, 3, 0, 4, 4, 10, 3, 7, 0, 2, 4, 0, 5, 3, 3, 0, 13, 0, 3, 5, 0, 2, 0, 4, 6, 4, 0, 2, 0, 3, 3, 2, 11, 2, 0, 6, 3, 9, 0, 8, 1, 0, 0, 2, 2, 1, 5, 1, 8, 1, 5, 1, 0, 2, 2, 4, 3, 0, 1, 0, 5, 0, 0, 0, 5, 0, 1, 1, 0, 3, 3, 0, 3, 2, 0, 4, 5, 1, 5, 9, 3, 0, 0, 1, 3, 5, 1, 10, 0, 8, 6, 6, 5, 0, 1, 8, 14, 6, 10, 2, 1, 5, 3, 0, 6, 5, 9, 5, 6, 12, 4, 5, 2, 1, 6, 1, 0, 13, 5, 4, 2, 10, 0, 7, 5, 5, 2, 1, 3, 1, 2, 3, 2, 8, 27, 1, 19, 1, 9, 2, 0, 0, 14, 3, 3, 7, 3, 2, 4, 4, 16, 0, 2, 5, 1, 2, 5, 7, 2, 1, 1, 2, 3, 1, 3, 21, 8, 2, 6, 11, 2, 2, 0, 0, 1, 13, 1, 1, 4, 25, 5, 3, 7, 4, 6, 4, 2, 1, 6, 1, 4, 5, 10, 1, 2, 5, 2, 0, 2, 12, 2, 6, 0, 1, 2, 2, 8, 0, 4, 7, 0, 0, 3, 4, 6, 0, 5, 1, 5, 0, 1, 0, 1, 4, 0, 5, 1, 1, 1, 5, 0, 6, 2, 3, 1, 1, 0, 6, 2, 0, 1, 4, 3, 3, 1, 0, 0, 1, 1, 0, 0, 3, 1, 0, 0, 2, 1, 0, 0, 2, 2, 7, 0, 1, 2, 1, 0, 0, 0, 0, 0, 0, 2, 1, 1, 0, 0, 1, 5, 2, 3, 1, 0, 0, 0, 1, 1, 1, 0, 1, 0, 2, 0, 0, 1, 1, 0, 1, 0, 0, 0, 0, 0, 0, 0, 0, 0, 0, 1, 1, 3, 0, 1, 1, 0, 0, 0, 0, 1, 0, 0, 0, 0, 2, 0, 0, 4, 2, 3, 2, 2, 0, 0, 2, 0, 0, 2, 0, 0, 1, 1, 0, 0, 3, 3, 0, 0, 0, 0, 0, 0, 0, 1, 2, 8, 5, 0, 19, 0, 5, 5, 1, 1, 21, 1, 1, 2, 0, 1, 0, 1, 0, 0, 0, 0, 2, 1, 4, 13, 0, 2, 0, 5, 7, 2, 4, 2, 1, 0, 0, 0, 0, 0, 2, 0, 0, 4, 0, 2]\n"
     ]
    }
   ],
   "source": [
    "# calculate number of rows after the target sentiment arrived.\n",
    "row_after = []\n",
    "for i in range(len(target_index)):\n",
    "  if i+1 < len(target_index):\n",
    "    row_after.append(target_index[i+1] - target_index[i]-1)\n",
    "  else: #last one\n",
    "    row_after.append(reply.index[-1]-target_index[i])\n",
    "print(row_after)\n"
   ]
  },
  {
   "cell_type": "code",
   "execution_count": 16,
   "metadata": {
    "executionInfo": {
     "elapsed": 269,
     "status": "ok",
     "timestamp": 1673434859742,
     "user": {
      "displayName": "Bella Yang",
      "userId": "16101934561747208179"
     },
     "user_tz": -120
    },
    "id": "dFSAYg3k12YQ"
   },
   "outputs": [],
   "source": [
    "sentiment_change['count_of_rows_bef'] = pd.Series(row_before)\n",
    "sentiment_change['count_of_rows_after'] = pd.Series(row_after)"
   ]
  },
  {
   "cell_type": "code",
   "execution_count": 17,
   "metadata": {
    "colab": {
     "base_uri": "https://localhost:8080/"
    },
    "executionInfo": {
     "elapsed": 262,
     "status": "ok",
     "timestamp": 1673434863537,
     "user": {
      "displayName": "Bella Yang",
      "userId": "16101934561747208179"
     },
     "user_tz": -120
    },
    "id": "TLJPY1JoGEam",
    "outputId": "159ff678-1fe6-4d43-af3a-0d53d56466ee"
   },
   "outputs": [
    {
     "data": {
      "text/plain": [
       "Index(['sentiment_beforetarget', 'neg_to_pos_beforetarget', 'sentiment_target',\n",
       "       'target_index', 'sentiment_aftertarget', 'neg_to_pos_aftertarget',\n",
       "       'count_of_rows_bef', 'count_of_rows_after'],\n",
       "      dtype='object')"
      ]
     },
     "execution_count": 17,
     "metadata": {},
     "output_type": "execute_result"
    }
   ],
   "source": [
    "sentiment_change.columns"
   ]
  },
  {
   "cell_type": "code",
   "execution_count": 18,
   "metadata": {
    "colab": {
     "base_uri": "https://localhost:8080/",
     "height": 592
    },
    "executionInfo": {
     "elapsed": 291,
     "status": "ok",
     "timestamp": 1673434947693,
     "user": {
      "displayName": "Bella Yang",
      "userId": "16101934561747208179"
     },
     "user_tz": -120
    },
    "id": "GEuNPFThMdhm",
    "outputId": "4920ac57-fd71-4735-8163-30a0986503c5"
   },
   "outputs": [
    {
     "data": {
      "text/html": [
       "<div>\n",
       "<style scoped>\n",
       "    .dataframe tbody tr th:only-of-type {\n",
       "        vertical-align: middle;\n",
       "    }\n",
       "\n",
       "    .dataframe tbody tr th {\n",
       "        vertical-align: top;\n",
       "    }\n",
       "\n",
       "    .dataframe thead th {\n",
       "        text-align: right;\n",
       "    }\n",
       "</style>\n",
       "<table border=\"1\" class=\"dataframe\">\n",
       "  <thead>\n",
       "    <tr style=\"text-align: right;\">\n",
       "      <th></th>\n",
       "      <th>sentiment_beforetarget</th>\n",
       "      <th>neg_to_pos_beforetarget</th>\n",
       "      <th>count_of_rows_bef</th>\n",
       "      <th>sentiment_target</th>\n",
       "      <th>sentiment_aftertarget</th>\n",
       "      <th>neg_to_pos_aftertarget</th>\n",
       "      <th>count_of_rows_after</th>\n",
       "    </tr>\n",
       "  </thead>\n",
       "  <tbody>\n",
       "    <tr>\n",
       "      <th>0</th>\n",
       "      <td>{'Neutral': 1.0}</td>\n",
       "      <td>0.0</td>\n",
       "      <td>3</td>\n",
       "      <td>Positive</td>\n",
       "      <td>{'Neutral': 0.67, 'Negative': 0.33}</td>\n",
       "      <td>inf</td>\n",
       "      <td>3</td>\n",
       "    </tr>\n",
       "    <tr>\n",
       "      <th>1</th>\n",
       "      <td>{'Neutral': 0.67, 'Negative': 0.33}</td>\n",
       "      <td>inf</td>\n",
       "      <td>3</td>\n",
       "      <td>Neutral</td>\n",
       "      <td>NaN</td>\n",
       "      <td>NaN</td>\n",
       "      <td>0</td>\n",
       "    </tr>\n",
       "    <tr>\n",
       "      <th>2</th>\n",
       "      <td>NaN</td>\n",
       "      <td>NaN</td>\n",
       "      <td>0</td>\n",
       "      <td>Neutral</td>\n",
       "      <td>{'Negative': 1.0}</td>\n",
       "      <td>inf</td>\n",
       "      <td>1</td>\n",
       "    </tr>\n",
       "    <tr>\n",
       "      <th>3</th>\n",
       "      <td>{'Negative': 1.0}</td>\n",
       "      <td>inf</td>\n",
       "      <td>1</td>\n",
       "      <td>Positive</td>\n",
       "      <td>{'Neutral': 1.0}</td>\n",
       "      <td>0.0</td>\n",
       "      <td>1</td>\n",
       "    </tr>\n",
       "    <tr>\n",
       "      <th>4</th>\n",
       "      <td>{'Neutral': 1.0}</td>\n",
       "      <td>0.0</td>\n",
       "      <td>1</td>\n",
       "      <td>Negative</td>\n",
       "      <td>{'Positive': 0.33, 'Negative': 0.33, 'Neutral': 0.33}</td>\n",
       "      <td>1.0</td>\n",
       "      <td>9</td>\n",
       "    </tr>\n",
       "    <tr>\n",
       "      <th>...</th>\n",
       "      <td>...</td>\n",
       "      <td>...</td>\n",
       "      <td>...</td>\n",
       "      <td>...</td>\n",
       "      <td>...</td>\n",
       "      <td>...</td>\n",
       "      <td>...</td>\n",
       "    </tr>\n",
       "    <tr>\n",
       "      <th>1938</th>\n",
       "      <td>{'Neutral': 0.5, 'Negative': 0.5}</td>\n",
       "      <td>inf</td>\n",
       "      <td>2</td>\n",
       "      <td>Neutral</td>\n",
       "      <td>NaN</td>\n",
       "      <td>NaN</td>\n",
       "      <td>0</td>\n",
       "    </tr>\n",
       "    <tr>\n",
       "      <th>1939</th>\n",
       "      <td>NaN</td>\n",
       "      <td>NaN</td>\n",
       "      <td>0</td>\n",
       "      <td>Negative</td>\n",
       "      <td>NaN</td>\n",
       "      <td>NaN</td>\n",
       "      <td>0</td>\n",
       "    </tr>\n",
       "    <tr>\n",
       "      <th>1940</th>\n",
       "      <td>NaN</td>\n",
       "      <td>NaN</td>\n",
       "      <td>0</td>\n",
       "      <td>Negative</td>\n",
       "      <td>{'Positive': 0.25, 'Negative': 0.75}</td>\n",
       "      <td>3.0</td>\n",
       "      <td>4</td>\n",
       "    </tr>\n",
       "    <tr>\n",
       "      <th>1941</th>\n",
       "      <td>{'Positive': 0.25, 'Negative': 0.75}</td>\n",
       "      <td>3.0</td>\n",
       "      <td>4</td>\n",
       "      <td>Negative</td>\n",
       "      <td>NaN</td>\n",
       "      <td>NaN</td>\n",
       "      <td>0</td>\n",
       "    </tr>\n",
       "    <tr>\n",
       "      <th>1942</th>\n",
       "      <td>NaN</td>\n",
       "      <td>NaN</td>\n",
       "      <td>0</td>\n",
       "      <td>Positive</td>\n",
       "      <td>{'Positive': 0.5, 'Neutral': 0.5}</td>\n",
       "      <td>0.0</td>\n",
       "      <td>2</td>\n",
       "    </tr>\n",
       "  </tbody>\n",
       "</table>\n",
       "<p>1943 rows × 7 columns</p>\n",
       "</div>"
      ],
      "text/plain": [
       "                    sentiment_beforetarget  neg_to_pos_beforetarget  \\\n",
       "0                         {'Neutral': 1.0}                      0.0   \n",
       "1      {'Neutral': 0.67, 'Negative': 0.33}                      inf   \n",
       "2                                      NaN                      NaN   \n",
       "3                        {'Negative': 1.0}                      inf   \n",
       "4                         {'Neutral': 1.0}                      0.0   \n",
       "...                                    ...                      ...   \n",
       "1938     {'Neutral': 0.5, 'Negative': 0.5}                      inf   \n",
       "1939                                   NaN                      NaN   \n",
       "1940                                   NaN                      NaN   \n",
       "1941  {'Positive': 0.25, 'Negative': 0.75}                      3.0   \n",
       "1942                                   NaN                      NaN   \n",
       "\n",
       "      count_of_rows_bef sentiment_target  \\\n",
       "0                     3         Positive   \n",
       "1                     3          Neutral   \n",
       "2                     0          Neutral   \n",
       "3                     1         Positive   \n",
       "4                     1         Negative   \n",
       "...                 ...              ...   \n",
       "1938                  2          Neutral   \n",
       "1939                  0         Negative   \n",
       "1940                  0         Negative   \n",
       "1941                  4         Negative   \n",
       "1942                  0         Positive   \n",
       "\n",
       "                                      sentiment_aftertarget  \\\n",
       "0                       {'Neutral': 0.67, 'Negative': 0.33}   \n",
       "1                                                       NaN   \n",
       "2                                         {'Negative': 1.0}   \n",
       "3                                          {'Neutral': 1.0}   \n",
       "4     {'Positive': 0.33, 'Negative': 0.33, 'Neutral': 0.33}   \n",
       "...                                                     ...   \n",
       "1938                                                    NaN   \n",
       "1939                                                    NaN   \n",
       "1940                   {'Positive': 0.25, 'Negative': 0.75}   \n",
       "1941                                                    NaN   \n",
       "1942                      {'Positive': 0.5, 'Neutral': 0.5}   \n",
       "\n",
       "      neg_to_pos_aftertarget  count_of_rows_after  \n",
       "0                        inf                    3  \n",
       "1                        NaN                    0  \n",
       "2                        inf                    1  \n",
       "3                        0.0                    1  \n",
       "4                        1.0                    9  \n",
       "...                      ...                  ...  \n",
       "1938                     NaN                    0  \n",
       "1939                     NaN                    0  \n",
       "1940                     3.0                    4  \n",
       "1941                     NaN                    0  \n",
       "1942                     0.0                    2  \n",
       "\n",
       "[1943 rows x 7 columns]"
      ]
     },
     "execution_count": 18,
     "metadata": {},
     "output_type": "execute_result"
    }
   ],
   "source": [
    "sentiment_change = sentiment_change[['sentiment_beforetarget', 'neg_to_pos_beforetarget','count_of_rows_bef',  \n",
    "                                    'sentiment_target',\n",
    "                                    'sentiment_aftertarget', 'neg_to_pos_aftertarget','count_of_rows_after']]\n",
    "sentiment_change"
   ]
  },
  {
   "cell_type": "markdown",
   "metadata": {
    "id": "BYGCIu4EB6DA"
   },
   "source": [
    "# save file"
   ]
  },
  {
   "cell_type": "code",
   "execution_count": 21,
   "metadata": {
    "executionInfo": {
     "elapsed": 273,
     "status": "ok",
     "timestamp": 1673435018523,
     "user": {
      "displayName": "Bella Yang",
      "userId": "16101934561747208179"
     },
     "user_tz": -120
    },
    "id": "dcowSy_thtJy"
   },
   "outputs": [],
   "source": [
    "savepath = r'sydneysiege\\18 targetanalysis\\twanalysis\\reply_target_sentiment.csv'\n",
    "\n",
    "with open(savepath, 'w', encoding = 'utf-8') as f:\n",
    "  sentiment_change.to_csv(f)"
   ]
  },
  {
   "cell_type": "code",
   "execution_count": null,
   "metadata": {
    "id": "qPX7Qvo6_e_2"
   },
   "outputs": [],
   "source": []
  }
 ],
 "metadata": {
  "colab": {
   "authorship_tag": "ABX9TyP/5gTWGyGsp6BK4FuYMWrT",
   "provenance": []
  },
  "kernelspec": {
   "display_name": "Python 3",
   "language": "python",
   "name": "python3"
  },
  "language_info": {
   "codemirror_mode": {
    "name": "ipython",
    "version": 3
   },
   "file_extension": ".py",
   "mimetype": "text/x-python",
   "name": "python",
   "nbconvert_exporter": "python",
   "pygments_lexer": "ipython3",
   "version": "3.9.1"
  }
 },
 "nbformat": 4,
 "nbformat_minor": 4
}
