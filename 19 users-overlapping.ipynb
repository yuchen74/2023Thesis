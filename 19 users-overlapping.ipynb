{
 "cells": [
  {
   "cell_type": "code",
   "execution_count": 1,
   "metadata": {
    "id": "cvTpUrviEfx9"
   },
   "outputs": [],
   "source": [
    "import numpy as np\n",
    "import pandas as pd\n",
    "import matplotlib.pyplot as plt\n",
    "import seaborn as sns"
   ]
  },
  {
   "cell_type": "markdown",
   "metadata": {
    "id": "VhZRvEa2hcuX"
   },
   "source": [
    "# User Analysis- Overlapping users?\n",
    "(combined_rumor_target.csv)\n"
   ]
  },
  {
   "cell_type": "code",
   "execution_count": 2,
   "metadata": {
    "id": "wnmFgq_B-h7z"
   },
   "outputs": [
    {
     "data": {
      "text/html": [
       "<div>\n",
       "<style scoped>\n",
       "    .dataframe tbody tr th:only-of-type {\n",
       "        vertical-align: middle;\n",
       "    }\n",
       "\n",
       "    .dataframe tbody tr th {\n",
       "        vertical-align: top;\n",
       "    }\n",
       "\n",
       "    .dataframe thead th {\n",
       "        text-align: right;\n",
       "    }\n",
       "</style>\n",
       "<table border=\"1\" class=\"dataframe\">\n",
       "  <thead>\n",
       "    <tr style=\"text-align: right;\">\n",
       "      <th></th>\n",
       "      <th>tweet_id</th>\n",
       "      <th>user_id</th>\n",
       "      <th>date</th>\n",
       "      <th>rumorlabel</th>\n",
       "      <th>tweet</th>\n",
       "      <th>cleaned_text</th>\n",
       "      <th>targetlabel</th>\n",
       "      <th>sentiment</th>\n",
       "      <th>src_reply</th>\n",
       "    </tr>\n",
       "  </thead>\n",
       "  <tbody>\n",
       "    <tr>\n",
       "      <th>0</th>\n",
       "      <td>544269152198721536</td>\n",
       "      <td>443573208</td>\n",
       "      <td>Sun Dec 14 23:14:12 +0000 2014</td>\n",
       "      <td>1</td>\n",
       "      <td>@KristyMayr7 that is not an IS flag specifically.</td>\n",
       "      <td>not flag specifically</td>\n",
       "      <td>0</td>\n",
       "      <td>Neutral</td>\n",
       "      <td>reply</td>\n",
       "    </tr>\n",
       "    <tr>\n",
       "      <th>1</th>\n",
       "      <td>544269478406529024</td>\n",
       "      <td>2700238212</td>\n",
       "      <td>Sun Dec 14 23:15:30 +0000 2014</td>\n",
       "      <td>1</td>\n",
       "      <td>@KristyMayr7 omg\\r\\r\\r\\nI'm watching it on @mo...</td>\n",
       "      <td>omg im watch</td>\n",
       "      <td>0</td>\n",
       "      <td>Neutral</td>\n",
       "      <td>reply</td>\n",
       "    </tr>\n",
       "    <tr>\n",
       "      <th>2</th>\n",
       "      <td>544270016770633728</td>\n",
       "      <td>760246262</td>\n",
       "      <td>Sun Dec 14 23:17:38 +0000 2014</td>\n",
       "      <td>1</td>\n",
       "      <td>@KristyMayr7 @DeepPolitics dudes, not the flag...</td>\n",
       "      <td>dudes not flag use isis</td>\n",
       "      <td>1</td>\n",
       "      <td>Neutral</td>\n",
       "      <td>reply</td>\n",
       "    </tr>\n",
       "    <tr>\n",
       "      <th>3</th>\n",
       "      <td>544270351619067904</td>\n",
       "      <td>2670053628</td>\n",
       "      <td>Sun Dec 14 23:18:58 +0000 2014</td>\n",
       "      <td>1</td>\n",
       "      <td>@KristyMayr7 @bluebuzzbird How pathetic! These...</td>\n",
       "      <td>pathetic poor people</td>\n",
       "      <td>0</td>\n",
       "      <td>Negative</td>\n",
       "      <td>reply</td>\n",
       "    </tr>\n",
       "    <tr>\n",
       "      <th>4</th>\n",
       "      <td>544270614442557441</td>\n",
       "      <td>2670053628</td>\n",
       "      <td>Sun Dec 14 23:20:01 +0000 2014</td>\n",
       "      <td>1</td>\n",
       "      <td>@KristyMayr7 @bluebuzzbird Lindt is just a cof...</td>\n",
       "      <td>lindt coffee shop right something else</td>\n",
       "      <td>0</td>\n",
       "      <td>Neutral</td>\n",
       "      <td>reply</td>\n",
       "    </tr>\n",
       "  </tbody>\n",
       "</table>\n",
       "</div>"
      ],
      "text/plain": [
       "             tweet_id     user_id                            date  rumorlabel  \\\n",
       "0  544269152198721536   443573208  Sun Dec 14 23:14:12 +0000 2014           1   \n",
       "1  544269478406529024  2700238212  Sun Dec 14 23:15:30 +0000 2014           1   \n",
       "2  544270016770633728   760246262  Sun Dec 14 23:17:38 +0000 2014           1   \n",
       "3  544270351619067904  2670053628  Sun Dec 14 23:18:58 +0000 2014           1   \n",
       "4  544270614442557441  2670053628  Sun Dec 14 23:20:01 +0000 2014           1   \n",
       "\n",
       "                                               tweet  \\\n",
       "0  @KristyMayr7 that is not an IS flag specifically.   \n",
       "1  @KristyMayr7 omg\\r\\r\\r\\nI'm watching it on @mo...   \n",
       "2  @KristyMayr7 @DeepPolitics dudes, not the flag...   \n",
       "3  @KristyMayr7 @bluebuzzbird How pathetic! These...   \n",
       "4  @KristyMayr7 @bluebuzzbird Lindt is just a cof...   \n",
       "\n",
       "                             cleaned_text  targetlabel sentiment src_reply  \n",
       "0                   not flag specifically            0   Neutral     reply  \n",
       "1                            omg im watch            0   Neutral     reply  \n",
       "2                 dudes not flag use isis            1   Neutral     reply  \n",
       "3                    pathetic poor people            0  Negative     reply  \n",
       "4  lindt coffee shop right something else            0   Neutral     reply  "
      ]
     },
     "execution_count": 2,
     "metadata": {},
     "output_type": "execute_result"
    }
   ],
   "source": [
    "combined_data = pd.read_csv('sydneysiege/18 targetanalysis/targetdata/combined_rumor_target.csv',encoding='utf-8',header=0,index_col=0)\n",
    "combined_data.head()"
   ]
  },
  {
   "cell_type": "code",
   "execution_count": 3,
   "metadata": {
    "colab": {
     "base_uri": "https://localhost:8080/"
    },
    "id": "aoJFgm0qhk5o",
    "outputId": "55073c92-4a72-4b7d-aea2-c5506d14b1b7"
   },
   "outputs": [
    {
     "data": {
      "text/plain": [
       "tweet_id        0\n",
       "user_id         0\n",
       "date            0\n",
       "rumorlabel      0\n",
       "tweet           0\n",
       "cleaned_text    0\n",
       "targetlabel     0\n",
       "sentiment       0\n",
       "src_reply       0\n",
       "dtype: int64"
      ]
     },
     "execution_count": 3,
     "metadata": {},
     "output_type": "execute_result"
    }
   ],
   "source": [
    "combined_data.isnull().sum()"
   ]
  },
  {
   "cell_type": "code",
   "execution_count": 4,
   "metadata": {
    "colab": {
     "base_uri": "https://localhost:8080/"
    },
    "id": "TxN9fekZljGh",
    "outputId": "c3f5fbc6-f547-4159-a2ac-30ab0ea8f69c"
   },
   "outputs": [
    {
     "name": "stdout",
     "output_type": "stream",
     "text": [
      "the total number of users posting rumour tweets is:  4654\n"
     ]
    }
   ],
   "source": [
    "# number of users \n",
    "no_users = combined_data.user_id.nunique()\n",
    "print(\"the total number of users posting rumour tweets is: \",no_users)"
   ]
  },
  {
   "cell_type": "code",
   "execution_count": 5,
   "metadata": {
    "colab": {
     "base_uri": "https://localhost:8080/"
    },
    "id": "B1xyhuSmhp__",
    "outputId": "00c4a3b2-7d08-4f94-e624-b2333a5fa62d"
   },
   "outputs": [
    {
     "data": {
      "text/plain": [
       "user_id     targetlabel\n",
       "2426        0              2\n",
       "3968        0              2\n",
       "7755        0              1\n",
       "156763      0              1\n",
       "428333      0              8\n",
       "                          ..\n",
       "2925094346  1              1\n",
       "2927389322  0              1\n",
       "2927454722  0              1\n",
       "2927507078  1              1\n",
       "2927858006  0              1\n",
       "Name: tweet_id, Length: 5180, dtype: int64"
      ]
     },
     "execution_count": 5,
     "metadata": {},
     "output_type": "execute_result"
    }
   ],
   "source": [
    "combined_data.groupby(['user_id','targetlabel'])['tweet_id'].count()"
   ]
  },
  {
   "cell_type": "code",
   "execution_count": 7,
   "metadata": {
    "colab": {
     "base_uri": "https://localhost:8080/",
     "height": 486
    },
    "id": "zm-dM0fPidUt",
    "outputId": "97aabd52-a022-4993-ea5c-63713c4359b0"
   },
   "outputs": [
    {
     "data": {
      "text/html": [
       "<div>\n",
       "<style scoped>\n",
       "    .dataframe tbody tr th:only-of-type {\n",
       "        vertical-align: middle;\n",
       "    }\n",
       "\n",
       "    .dataframe tbody tr th {\n",
       "        vertical-align: top;\n",
       "    }\n",
       "\n",
       "    .dataframe thead tr th {\n",
       "        text-align: left;\n",
       "    }\n",
       "\n",
       "    .dataframe thead tr:last-of-type th {\n",
       "        text-align: right;\n",
       "    }\n",
       "</style>\n",
       "<table border=\"1\" class=\"dataframe\">\n",
       "  <thead>\n",
       "    <tr>\n",
       "      <th></th>\n",
       "      <th colspan=\"2\" halign=\"left\">tweet_id</th>\n",
       "    </tr>\n",
       "    <tr>\n",
       "      <th>targetlabel</th>\n",
       "      <th>0</th>\n",
       "      <th>1</th>\n",
       "    </tr>\n",
       "    <tr>\n",
       "      <th>user_id</th>\n",
       "      <th></th>\n",
       "      <th></th>\n",
       "    </tr>\n",
       "  </thead>\n",
       "  <tbody>\n",
       "    <tr>\n",
       "      <th>2426</th>\n",
       "      <td>2.0</td>\n",
       "      <td>NaN</td>\n",
       "    </tr>\n",
       "    <tr>\n",
       "      <th>3968</th>\n",
       "      <td>2.0</td>\n",
       "      <td>NaN</td>\n",
       "    </tr>\n",
       "    <tr>\n",
       "      <th>7755</th>\n",
       "      <td>1.0</td>\n",
       "      <td>NaN</td>\n",
       "    </tr>\n",
       "    <tr>\n",
       "      <th>156763</th>\n",
       "      <td>1.0</td>\n",
       "      <td>NaN</td>\n",
       "    </tr>\n",
       "    <tr>\n",
       "      <th>428333</th>\n",
       "      <td>8.0</td>\n",
       "      <td>1.0</td>\n",
       "    </tr>\n",
       "    <tr>\n",
       "      <th>...</th>\n",
       "      <td>...</td>\n",
       "      <td>...</td>\n",
       "    </tr>\n",
       "    <tr>\n",
       "      <th>2925094346</th>\n",
       "      <td>3.0</td>\n",
       "      <td>1.0</td>\n",
       "    </tr>\n",
       "    <tr>\n",
       "      <th>2927389322</th>\n",
       "      <td>1.0</td>\n",
       "      <td>NaN</td>\n",
       "    </tr>\n",
       "    <tr>\n",
       "      <th>2927454722</th>\n",
       "      <td>1.0</td>\n",
       "      <td>NaN</td>\n",
       "    </tr>\n",
       "    <tr>\n",
       "      <th>2927507078</th>\n",
       "      <td>NaN</td>\n",
       "      <td>1.0</td>\n",
       "    </tr>\n",
       "    <tr>\n",
       "      <th>2927858006</th>\n",
       "      <td>1.0</td>\n",
       "      <td>NaN</td>\n",
       "    </tr>\n",
       "  </tbody>\n",
       "</table>\n",
       "<p>4654 rows × 2 columns</p>\n",
       "</div>"
      ],
      "text/plain": [
       "            tweet_id     \n",
       "targetlabel        0    1\n",
       "user_id                  \n",
       "2426             2.0  NaN\n",
       "3968             2.0  NaN\n",
       "7755             1.0  NaN\n",
       "156763           1.0  NaN\n",
       "428333           8.0  1.0\n",
       "...              ...  ...\n",
       "2925094346       3.0  1.0\n",
       "2927389322       1.0  NaN\n",
       "2927454722       1.0  NaN\n",
       "2927507078       NaN  1.0\n",
       "2927858006       1.0  NaN\n",
       "\n",
       "[4654 rows x 2 columns]"
      ]
     },
     "execution_count": 7,
     "metadata": {},
     "output_type": "execute_result"
    }
   ],
   "source": [
    "users = pd.pivot_table(combined_data, index=[\"user_id\"], columns=[\"targetlabel\"], values=[\"tweet_id\"], aggfunc='count')\n",
    "users"
   ]
  },
  {
   "cell_type": "code",
   "execution_count": 8,
   "metadata": {
    "id": "VzWQWy7xjsHi"
   },
   "outputs": [],
   "source": [
    "nonoverlapping = users[users.isnull().any(axis=1)].index\n",
    "overlapping = users[~users.isnull().any(axis=1)].index"
   ]
  },
  {
   "cell_type": "code",
   "execution_count": 9,
   "metadata": {
    "colab": {
     "base_uri": "https://localhost:8080/"
    },
    "id": "AvG6Yw8VlL4m",
    "outputId": "5b260585-9142-4a30-eb7d-b8f824323e0a"
   },
   "outputs": [
    {
     "data": {
      "text/plain": [
       "4654"
      ]
     },
     "execution_count": 9,
     "metadata": {},
     "output_type": "execute_result"
    }
   ],
   "source": [
    "len(overlapping) + len(nonoverlapping)"
   ]
  },
  {
   "cell_type": "code",
   "execution_count": 10,
   "metadata": {
    "colab": {
     "base_uri": "https://localhost:8080/"
    },
    "id": "lad0pSLjjsX6",
    "outputId": "aa5816ed-7380-4b77-8f41-1bd8991450e9"
   },
   "outputs": [
    {
     "name": "stdout",
     "output_type": "stream",
     "text": [
      "the total number of overlapping users is 526; the percentage of overlapping users is 0.11\n",
      "the total number of non-overlapping users is 4128; the percentage of non-overlapping users is 0.89\n"
     ]
    }
   ],
   "source": [
    "print(\"the total number of overlapping users is {}; the percentage of overlapping users is {:.2f}\".format(len(overlapping),len(overlapping)/no_users))\n",
    "print(\"the total number of non-overlapping users is {}; the percentage of non-overlapping users is {:.2f}\".format(len(nonoverlapping),len(nonoverlapping)/no_users))"
   ]
  },
  {
   "cell_type": "markdown",
   "metadata": {
    "id": "qsPVyNxxX03l"
   },
   "source": [
    "## overlapping user analysis\n"
   ]
  },
  {
   "cell_type": "code",
   "execution_count": 11,
   "metadata": {
    "colab": {
     "base_uri": "https://localhost:8080/",
     "height": 455
    },
    "id": "lojWBVfO_g_l",
    "outputId": "10d409e3-59bb-4e83-aec7-51567846da0c"
   },
   "outputs": [
    {
     "data": {
      "text/html": [
       "<div>\n",
       "<style scoped>\n",
       "    .dataframe tbody tr th:only-of-type {\n",
       "        vertical-align: middle;\n",
       "    }\n",
       "\n",
       "    .dataframe tbody tr th {\n",
       "        vertical-align: top;\n",
       "    }\n",
       "\n",
       "    .dataframe thead th {\n",
       "        text-align: right;\n",
       "    }\n",
       "</style>\n",
       "<table border=\"1\" class=\"dataframe\">\n",
       "  <thead>\n",
       "    <tr style=\"text-align: right;\">\n",
       "      <th></th>\n",
       "      <th>non-target</th>\n",
       "      <th>target</th>\n",
       "    </tr>\n",
       "    <tr>\n",
       "      <th>user_id</th>\n",
       "      <th></th>\n",
       "      <th></th>\n",
       "    </tr>\n",
       "  </thead>\n",
       "  <tbody>\n",
       "    <tr>\n",
       "      <th>428333</th>\n",
       "      <td>8.0</td>\n",
       "      <td>1.0</td>\n",
       "    </tr>\n",
       "    <tr>\n",
       "      <th>741803</th>\n",
       "      <td>3.0</td>\n",
       "      <td>1.0</td>\n",
       "    </tr>\n",
       "    <tr>\n",
       "      <th>759251</th>\n",
       "      <td>1.0</td>\n",
       "      <td>1.0</td>\n",
       "    </tr>\n",
       "    <tr>\n",
       "      <th>972651</th>\n",
       "      <td>3.0</td>\n",
       "      <td>2.0</td>\n",
       "    </tr>\n",
       "    <tr>\n",
       "      <th>1367531</th>\n",
       "      <td>12.0</td>\n",
       "      <td>1.0</td>\n",
       "    </tr>\n",
       "    <tr>\n",
       "      <th>...</th>\n",
       "      <td>...</td>\n",
       "      <td>...</td>\n",
       "    </tr>\n",
       "    <tr>\n",
       "      <th>2911502292</th>\n",
       "      <td>2.0</td>\n",
       "      <td>2.0</td>\n",
       "    </tr>\n",
       "    <tr>\n",
       "      <th>2912429401</th>\n",
       "      <td>1.0</td>\n",
       "      <td>1.0</td>\n",
       "    </tr>\n",
       "    <tr>\n",
       "      <th>2921091842</th>\n",
       "      <td>2.0</td>\n",
       "      <td>4.0</td>\n",
       "    </tr>\n",
       "    <tr>\n",
       "      <th>2921923060</th>\n",
       "      <td>2.0</td>\n",
       "      <td>1.0</td>\n",
       "    </tr>\n",
       "    <tr>\n",
       "      <th>2925094346</th>\n",
       "      <td>3.0</td>\n",
       "      <td>1.0</td>\n",
       "    </tr>\n",
       "  </tbody>\n",
       "</table>\n",
       "<p>526 rows × 2 columns</p>\n",
       "</div>"
      ],
      "text/plain": [
       "            non-target  target\n",
       "user_id                       \n",
       "428333             8.0     1.0\n",
       "741803             3.0     1.0\n",
       "759251             1.0     1.0\n",
       "972651             3.0     2.0\n",
       "1367531           12.0     1.0\n",
       "...                ...     ...\n",
       "2911502292         2.0     2.0\n",
       "2912429401         1.0     1.0\n",
       "2921091842         2.0     4.0\n",
       "2921923060         2.0     1.0\n",
       "2925094346         3.0     1.0\n",
       "\n",
       "[526 rows x 2 columns]"
      ]
     },
     "execution_count": 11,
     "metadata": {},
     "output_type": "execute_result"
    }
   ],
   "source": [
    "overlapping_count = users.loc[users.index.isin(overlapping),]\n",
    "overlapping_count.columns = ['non-target','target']\n",
    "overlapping_count"
   ]
  },
  {
   "cell_type": "code",
   "execution_count": 12,
   "metadata": {
    "colab": {
     "base_uri": "https://localhost:8080/",
     "height": 455
    },
    "id": "GJB3uY3CWVDn",
    "outputId": "bb00b8c4-d555-4860-fe52-9ae616028552"
   },
   "outputs": [
    {
     "data": {
      "text/html": [
       "<div>\n",
       "<style scoped>\n",
       "    .dataframe tbody tr th:only-of-type {\n",
       "        vertical-align: middle;\n",
       "    }\n",
       "\n",
       "    .dataframe tbody tr th {\n",
       "        vertical-align: top;\n",
       "    }\n",
       "\n",
       "    .dataframe thead th {\n",
       "        text-align: right;\n",
       "    }\n",
       "</style>\n",
       "<table border=\"1\" class=\"dataframe\">\n",
       "  <thead>\n",
       "    <tr style=\"text-align: right;\">\n",
       "      <th></th>\n",
       "      <th>non-target</th>\n",
       "      <th>target</th>\n",
       "      <th>non-target(%)</th>\n",
       "      <th>target(%)</th>\n",
       "    </tr>\n",
       "    <tr>\n",
       "      <th>user_id</th>\n",
       "      <th></th>\n",
       "      <th></th>\n",
       "      <th></th>\n",
       "      <th></th>\n",
       "    </tr>\n",
       "  </thead>\n",
       "  <tbody>\n",
       "    <tr>\n",
       "      <th>428333</th>\n",
       "      <td>8.0</td>\n",
       "      <td>1.0</td>\n",
       "      <td>88.9</td>\n",
       "      <td>11.1</td>\n",
       "    </tr>\n",
       "    <tr>\n",
       "      <th>741803</th>\n",
       "      <td>3.0</td>\n",
       "      <td>1.0</td>\n",
       "      <td>75.0</td>\n",
       "      <td>25.0</td>\n",
       "    </tr>\n",
       "    <tr>\n",
       "      <th>759251</th>\n",
       "      <td>1.0</td>\n",
       "      <td>1.0</td>\n",
       "      <td>50.0</td>\n",
       "      <td>50.0</td>\n",
       "    </tr>\n",
       "    <tr>\n",
       "      <th>972651</th>\n",
       "      <td>3.0</td>\n",
       "      <td>2.0</td>\n",
       "      <td>60.0</td>\n",
       "      <td>40.0</td>\n",
       "    </tr>\n",
       "    <tr>\n",
       "      <th>1367531</th>\n",
       "      <td>12.0</td>\n",
       "      <td>1.0</td>\n",
       "      <td>92.3</td>\n",
       "      <td>7.7</td>\n",
       "    </tr>\n",
       "    <tr>\n",
       "      <th>...</th>\n",
       "      <td>...</td>\n",
       "      <td>...</td>\n",
       "      <td>...</td>\n",
       "      <td>...</td>\n",
       "    </tr>\n",
       "    <tr>\n",
       "      <th>2911502292</th>\n",
       "      <td>2.0</td>\n",
       "      <td>2.0</td>\n",
       "      <td>50.0</td>\n",
       "      <td>50.0</td>\n",
       "    </tr>\n",
       "    <tr>\n",
       "      <th>2912429401</th>\n",
       "      <td>1.0</td>\n",
       "      <td>1.0</td>\n",
       "      <td>50.0</td>\n",
       "      <td>50.0</td>\n",
       "    </tr>\n",
       "    <tr>\n",
       "      <th>2921091842</th>\n",
       "      <td>2.0</td>\n",
       "      <td>4.0</td>\n",
       "      <td>33.3</td>\n",
       "      <td>66.7</td>\n",
       "    </tr>\n",
       "    <tr>\n",
       "      <th>2921923060</th>\n",
       "      <td>2.0</td>\n",
       "      <td>1.0</td>\n",
       "      <td>66.7</td>\n",
       "      <td>33.3</td>\n",
       "    </tr>\n",
       "    <tr>\n",
       "      <th>2925094346</th>\n",
       "      <td>3.0</td>\n",
       "      <td>1.0</td>\n",
       "      <td>75.0</td>\n",
       "      <td>25.0</td>\n",
       "    </tr>\n",
       "  </tbody>\n",
       "</table>\n",
       "<p>526 rows × 4 columns</p>\n",
       "</div>"
      ],
      "text/plain": [
       "            non-target  target  non-target(%)  target(%)\n",
       "user_id                                                 \n",
       "428333             8.0     1.0           88.9       11.1\n",
       "741803             3.0     1.0           75.0       25.0\n",
       "759251             1.0     1.0           50.0       50.0\n",
       "972651             3.0     2.0           60.0       40.0\n",
       "1367531           12.0     1.0           92.3        7.7\n",
       "...                ...     ...            ...        ...\n",
       "2911502292         2.0     2.0           50.0       50.0\n",
       "2912429401         1.0     1.0           50.0       50.0\n",
       "2921091842         2.0     4.0           33.3       66.7\n",
       "2921923060         2.0     1.0           66.7       33.3\n",
       "2925094346         3.0     1.0           75.0       25.0\n",
       "\n",
       "[526 rows x 4 columns]"
      ]
     },
     "execution_count": 12,
     "metadata": {},
     "output_type": "execute_result"
    }
   ],
   "source": [
    "overlapping_per = overlapping_count.div(overlapping_count.sum(axis=1), axis=0).round(3)*100\n",
    "overlapping_count = pd.merge(overlapping_count, overlapping_per,on='user_id',suffixes=['','(%)'])\n",
    "overlapping_count"
   ]
  },
  {
   "cell_type": "code",
   "execution_count": 13,
   "metadata": {
    "colab": {
     "base_uri": "https://localhost:8080/"
    },
    "id": "taYJiSqWYisI",
    "outputId": "e7679c66-21ef-4c64-8ad8-27ba0d36e6d2"
   },
   "outputs": [
    {
     "name": "stderr",
     "output_type": "stream",
     "text": [
      "<ipython-input-13-4c8d2e1deb4a>:1: FutureWarning: The default dtype for empty Series will be 'object' instead of 'float64' in a future version. Specify a dtype explicitly to silence this warning.\n",
      "  overlapping_count['tendency'] = pd.Series()\n"
     ]
    }
   ],
   "source": [
    "overlapping_count['tendency'] = pd.Series()\n",
    "for i in range(len(overlapping)):\n",
    "  if overlapping_count.iloc[i,0] > overlapping_count.iloc[i,1]:\n",
    "    overlapping_count.iloc[i,4] = 'non-target'\n",
    "  elif overlapping_count.iloc[i,0] < overlapping_count.iloc[i,1]:\n",
    "   overlapping_count.iloc[i,4] ='target'\n",
    "  else:\n",
    "    overlapping_count.iloc[i,4] = 'neutral'"
   ]
  },
  {
   "cell_type": "code",
   "execution_count": 14,
   "metadata": {
    "colab": {
     "base_uri": "https://localhost:8080/",
     "height": 455
    },
    "id": "BSILTNBHkXXj",
    "outputId": "2b79fc02-ff79-47a1-85f9-e2007f244f6d"
   },
   "outputs": [
    {
     "data": {
      "text/html": [
       "<div>\n",
       "<style scoped>\n",
       "    .dataframe tbody tr th:only-of-type {\n",
       "        vertical-align: middle;\n",
       "    }\n",
       "\n",
       "    .dataframe tbody tr th {\n",
       "        vertical-align: top;\n",
       "    }\n",
       "\n",
       "    .dataframe thead th {\n",
       "        text-align: right;\n",
       "    }\n",
       "</style>\n",
       "<table border=\"1\" class=\"dataframe\">\n",
       "  <thead>\n",
       "    <tr style=\"text-align: right;\">\n",
       "      <th></th>\n",
       "      <th>non-target</th>\n",
       "      <th>target</th>\n",
       "      <th>non-target(%)</th>\n",
       "      <th>target(%)</th>\n",
       "      <th>tendency</th>\n",
       "    </tr>\n",
       "    <tr>\n",
       "      <th>user_id</th>\n",
       "      <th></th>\n",
       "      <th></th>\n",
       "      <th></th>\n",
       "      <th></th>\n",
       "      <th></th>\n",
       "    </tr>\n",
       "  </thead>\n",
       "  <tbody>\n",
       "    <tr>\n",
       "      <th>428333</th>\n",
       "      <td>8.0</td>\n",
       "      <td>1.0</td>\n",
       "      <td>88.9</td>\n",
       "      <td>11.1</td>\n",
       "      <td>non-target</td>\n",
       "    </tr>\n",
       "    <tr>\n",
       "      <th>741803</th>\n",
       "      <td>3.0</td>\n",
       "      <td>1.0</td>\n",
       "      <td>75.0</td>\n",
       "      <td>25.0</td>\n",
       "      <td>non-target</td>\n",
       "    </tr>\n",
       "    <tr>\n",
       "      <th>759251</th>\n",
       "      <td>1.0</td>\n",
       "      <td>1.0</td>\n",
       "      <td>50.0</td>\n",
       "      <td>50.0</td>\n",
       "      <td>neutral</td>\n",
       "    </tr>\n",
       "    <tr>\n",
       "      <th>972651</th>\n",
       "      <td>3.0</td>\n",
       "      <td>2.0</td>\n",
       "      <td>60.0</td>\n",
       "      <td>40.0</td>\n",
       "      <td>non-target</td>\n",
       "    </tr>\n",
       "    <tr>\n",
       "      <th>1367531</th>\n",
       "      <td>12.0</td>\n",
       "      <td>1.0</td>\n",
       "      <td>92.3</td>\n",
       "      <td>7.7</td>\n",
       "      <td>non-target</td>\n",
       "    </tr>\n",
       "    <tr>\n",
       "      <th>...</th>\n",
       "      <td>...</td>\n",
       "      <td>...</td>\n",
       "      <td>...</td>\n",
       "      <td>...</td>\n",
       "      <td>...</td>\n",
       "    </tr>\n",
       "    <tr>\n",
       "      <th>2911502292</th>\n",
       "      <td>2.0</td>\n",
       "      <td>2.0</td>\n",
       "      <td>50.0</td>\n",
       "      <td>50.0</td>\n",
       "      <td>neutral</td>\n",
       "    </tr>\n",
       "    <tr>\n",
       "      <th>2912429401</th>\n",
       "      <td>1.0</td>\n",
       "      <td>1.0</td>\n",
       "      <td>50.0</td>\n",
       "      <td>50.0</td>\n",
       "      <td>neutral</td>\n",
       "    </tr>\n",
       "    <tr>\n",
       "      <th>2921091842</th>\n",
       "      <td>2.0</td>\n",
       "      <td>4.0</td>\n",
       "      <td>33.3</td>\n",
       "      <td>66.7</td>\n",
       "      <td>target</td>\n",
       "    </tr>\n",
       "    <tr>\n",
       "      <th>2921923060</th>\n",
       "      <td>2.0</td>\n",
       "      <td>1.0</td>\n",
       "      <td>66.7</td>\n",
       "      <td>33.3</td>\n",
       "      <td>non-target</td>\n",
       "    </tr>\n",
       "    <tr>\n",
       "      <th>2925094346</th>\n",
       "      <td>3.0</td>\n",
       "      <td>1.0</td>\n",
       "      <td>75.0</td>\n",
       "      <td>25.0</td>\n",
       "      <td>non-target</td>\n",
       "    </tr>\n",
       "  </tbody>\n",
       "</table>\n",
       "<p>526 rows × 5 columns</p>\n",
       "</div>"
      ],
      "text/plain": [
       "            non-target  target  non-target(%)  target(%)    tendency\n",
       "user_id                                                             \n",
       "428333             8.0     1.0           88.9       11.1  non-target\n",
       "741803             3.0     1.0           75.0       25.0  non-target\n",
       "759251             1.0     1.0           50.0       50.0     neutral\n",
       "972651             3.0     2.0           60.0       40.0  non-target\n",
       "1367531           12.0     1.0           92.3        7.7  non-target\n",
       "...                ...     ...            ...        ...         ...\n",
       "2911502292         2.0     2.0           50.0       50.0     neutral\n",
       "2912429401         1.0     1.0           50.0       50.0     neutral\n",
       "2921091842         2.0     4.0           33.3       66.7      target\n",
       "2921923060         2.0     1.0           66.7       33.3  non-target\n",
       "2925094346         3.0     1.0           75.0       25.0  non-target\n",
       "\n",
       "[526 rows x 5 columns]"
      ]
     },
     "execution_count": 14,
     "metadata": {},
     "output_type": "execute_result"
    }
   ],
   "source": [
    "overlapping_count"
   ]
  },
  {
   "cell_type": "code",
   "execution_count": 22,
   "metadata": {
    "colab": {
     "base_uri": "https://localhost:8080/"
    },
    "id": "319aiooV0vzx",
    "outputId": "22e6fdd9-dc92-47be-8aca-f79ec446e4e5"
   },
   "outputs": [
    {
     "name": "stdout",
     "output_type": "stream",
     "text": [
      "non-target    219\n",
      "neutral       219\n",
      "target         88\n",
      "Name: tendency, dtype: int64\n"
     ]
    },
    {
     "data": {
      "text/plain": [
       "non-target    0.41635\n",
       "neutral       0.41635\n",
       "target        0.16730\n",
       "Name: tendency, dtype: float64"
      ]
     },
     "execution_count": 22,
     "metadata": {},
     "output_type": "execute_result"
    }
   ],
   "source": [
    "print(overlapping_count.tendency.value_counts())\n",
    "overlapping_count.tendency.value_counts(normalize=True)"
   ]
  },
  {
   "cell_type": "code",
   "execution_count": 16,
   "metadata": {
    "colab": {
     "base_uri": "https://localhost:8080/",
     "height": 297
    },
    "id": "giFpiJrwWZ8s",
    "outputId": "bb2b67c6-905a-47bf-c80e-b0b6a6eb9f3b"
   },
   "outputs": [
    {
     "data": {
      "text/plain": [
       "<AxesSubplot:xlabel='tendency', ylabel='count'>"
      ]
     },
     "execution_count": 16,
     "metadata": {},
     "output_type": "execute_result"
    },
    {
     "data": {
      "image/png": "[encoded data removed]",
      "text/plain": [
       "<Figure size 432x288 with 1 Axes>"
      ]
     },
     "metadata": {
      "needs_background": "light"
     },
     "output_type": "display_data"
    }
   ],
   "source": [
    "sns.countplot(data = overlapping_count, x = 'tendency',order = ['target','non-target','neutral'])"
   ]
  },
  {
   "cell_type": "markdown",
   "metadata": {
    "id": "htUXaXTVX6Ra"
   },
   "source": [
    "## non-overlapping user analysis\n"
   ]
  },
  {
   "cell_type": "code",
   "execution_count": 17,
   "metadata": {
    "colab": {
     "base_uri": "https://localhost:8080/",
     "height": 455
    },
    "id": "pUsxnjM6YKRd",
    "outputId": "7c8a025c-86cc-4493-d917-91bc6684ec05"
   },
   "outputs": [
    {
     "data": {
      "text/html": [
       "<div>\n",
       "<style scoped>\n",
       "    .dataframe tbody tr th:only-of-type {\n",
       "        vertical-align: middle;\n",
       "    }\n",
       "\n",
       "    .dataframe tbody tr th {\n",
       "        vertical-align: top;\n",
       "    }\n",
       "\n",
       "    .dataframe thead th {\n",
       "        text-align: right;\n",
       "    }\n",
       "</style>\n",
       "<table border=\"1\" class=\"dataframe\">\n",
       "  <thead>\n",
       "    <tr style=\"text-align: right;\">\n",
       "      <th></th>\n",
       "      <th>non-target</th>\n",
       "      <th>target</th>\n",
       "    </tr>\n",
       "    <tr>\n",
       "      <th>user_id</th>\n",
       "      <th></th>\n",
       "      <th></th>\n",
       "    </tr>\n",
       "  </thead>\n",
       "  <tbody>\n",
       "    <tr>\n",
       "      <th>2426</th>\n",
       "      <td>2.0</td>\n",
       "      <td>NaN</td>\n",
       "    </tr>\n",
       "    <tr>\n",
       "      <th>3968</th>\n",
       "      <td>2.0</td>\n",
       "      <td>NaN</td>\n",
       "    </tr>\n",
       "    <tr>\n",
       "      <th>7755</th>\n",
       "      <td>1.0</td>\n",
       "      <td>NaN</td>\n",
       "    </tr>\n",
       "    <tr>\n",
       "      <th>156763</th>\n",
       "      <td>1.0</td>\n",
       "      <td>NaN</td>\n",
       "    </tr>\n",
       "    <tr>\n",
       "      <th>690463</th>\n",
       "      <td>1.0</td>\n",
       "      <td>NaN</td>\n",
       "    </tr>\n",
       "    <tr>\n",
       "      <th>...</th>\n",
       "      <td>...</td>\n",
       "      <td>...</td>\n",
       "    </tr>\n",
       "    <tr>\n",
       "      <th>2924117172</th>\n",
       "      <td>1.0</td>\n",
       "      <td>NaN</td>\n",
       "    </tr>\n",
       "    <tr>\n",
       "      <th>2927389322</th>\n",
       "      <td>1.0</td>\n",
       "      <td>NaN</td>\n",
       "    </tr>\n",
       "    <tr>\n",
       "      <th>2927454722</th>\n",
       "      <td>1.0</td>\n",
       "      <td>NaN</td>\n",
       "    </tr>\n",
       "    <tr>\n",
       "      <th>2927507078</th>\n",
       "      <td>NaN</td>\n",
       "      <td>1.0</td>\n",
       "    </tr>\n",
       "    <tr>\n",
       "      <th>2927858006</th>\n",
       "      <td>1.0</td>\n",
       "      <td>NaN</td>\n",
       "    </tr>\n",
       "  </tbody>\n",
       "</table>\n",
       "<p>4128 rows × 2 columns</p>\n",
       "</div>"
      ],
      "text/plain": [
       "            non-target  target\n",
       "user_id                       \n",
       "2426               2.0     NaN\n",
       "3968               2.0     NaN\n",
       "7755               1.0     NaN\n",
       "156763             1.0     NaN\n",
       "690463             1.0     NaN\n",
       "...                ...     ...\n",
       "2924117172         1.0     NaN\n",
       "2927389322         1.0     NaN\n",
       "2927454722         1.0     NaN\n",
       "2927507078         NaN     1.0\n",
       "2927858006         1.0     NaN\n",
       "\n",
       "[4128 rows x 2 columns]"
      ]
     },
     "execution_count": 17,
     "metadata": {},
     "output_type": "execute_result"
    }
   ],
   "source": [
    "nonoverlapping_count = users.loc[users.index.isin(nonoverlapping),]\n",
    "nonoverlapping_count.columns = ['non-target','target']\n",
    "nonoverlapping_count"
   ]
  },
  {
   "cell_type": "code",
   "execution_count": 18,
   "metadata": {
    "colab": {
     "base_uri": "https://localhost:8080/"
    },
    "id": "UiY2wEOlX6Rb",
    "outputId": "7f4d08e2-3aa8-4042-9bfa-723278df5c08"
   },
   "outputs": [
    {
     "name": "stderr",
     "output_type": "stream",
     "text": [
      "<ipython-input-18-88b0360c8225>:1: FutureWarning: The default dtype for empty Series will be 'object' instead of 'float64' in a future version. Specify a dtype explicitly to silence this warning.\n",
      "  nonoverlapping_count['tendency'] = pd.Series()\n",
      "<ipython-input-18-88b0360c8225>:1: SettingWithCopyWarning: \n",
      "A value is trying to be set on a copy of a slice from a DataFrame.\n",
      "Try using .loc[row_indexer,col_indexer] = value instead\n",
      "\n",
      "See the caveats in the documentation: https://pandas.pydata.org/pandas-docs/stable/user_guide/indexing.html#returning-a-view-versus-a-copy\n",
      "  nonoverlapping_count['tendency'] = pd.Series()\n"
     ]
    }
   ],
   "source": [
    "nonoverlapping_count['tendency'] = pd.Series()\n",
    "for i in range(len(nonoverlapping)):\n",
    "  if nonoverlapping_count.iloc[i,0] >= 1 :\n",
    "    nonoverlapping_count.iloc[i,2] = 'non-target'\n",
    "  elif nonoverlapping_count.iloc[i,1] >= 1:\n",
    "    nonoverlapping_count.iloc[i,2] = 'target'"
   ]
  },
  {
   "cell_type": "code",
   "execution_count": 19,
   "metadata": {
    "colab": {
     "base_uri": "https://localhost:8080/",
     "height": 473
    },
    "id": "dODsP1GnX6Rd",
    "outputId": "e44af118-30ec-4020-a600-bb1e09e1b37e"
   },
   "outputs": [
    {
     "name": "stdout",
     "output_type": "stream",
     "text": [
      "0\n"
     ]
    },
    {
     "data": {
      "text/html": [
       "<div>\n",
       "<style scoped>\n",
       "    .dataframe tbody tr th:only-of-type {\n",
       "        vertical-align: middle;\n",
       "    }\n",
       "\n",
       "    .dataframe tbody tr th {\n",
       "        vertical-align: top;\n",
       "    }\n",
       "\n",
       "    .dataframe thead th {\n",
       "        text-align: right;\n",
       "    }\n",
       "</style>\n",
       "<table border=\"1\" class=\"dataframe\">\n",
       "  <thead>\n",
       "    <tr style=\"text-align: right;\">\n",
       "      <th></th>\n",
       "      <th>non-target</th>\n",
       "      <th>target</th>\n",
       "      <th>tendency</th>\n",
       "    </tr>\n",
       "    <tr>\n",
       "      <th>user_id</th>\n",
       "      <th></th>\n",
       "      <th></th>\n",
       "      <th></th>\n",
       "    </tr>\n",
       "  </thead>\n",
       "  <tbody>\n",
       "    <tr>\n",
       "      <th>2426</th>\n",
       "      <td>2.0</td>\n",
       "      <td>NaN</td>\n",
       "      <td>non-target</td>\n",
       "    </tr>\n",
       "    <tr>\n",
       "      <th>3968</th>\n",
       "      <td>2.0</td>\n",
       "      <td>NaN</td>\n",
       "      <td>non-target</td>\n",
       "    </tr>\n",
       "    <tr>\n",
       "      <th>7755</th>\n",
       "      <td>1.0</td>\n",
       "      <td>NaN</td>\n",
       "      <td>non-target</td>\n",
       "    </tr>\n",
       "    <tr>\n",
       "      <th>156763</th>\n",
       "      <td>1.0</td>\n",
       "      <td>NaN</td>\n",
       "      <td>non-target</td>\n",
       "    </tr>\n",
       "    <tr>\n",
       "      <th>690463</th>\n",
       "      <td>1.0</td>\n",
       "      <td>NaN</td>\n",
       "      <td>non-target</td>\n",
       "    </tr>\n",
       "    <tr>\n",
       "      <th>...</th>\n",
       "      <td>...</td>\n",
       "      <td>...</td>\n",
       "      <td>...</td>\n",
       "    </tr>\n",
       "    <tr>\n",
       "      <th>2924117172</th>\n",
       "      <td>1.0</td>\n",
       "      <td>NaN</td>\n",
       "      <td>non-target</td>\n",
       "    </tr>\n",
       "    <tr>\n",
       "      <th>2927389322</th>\n",
       "      <td>1.0</td>\n",
       "      <td>NaN</td>\n",
       "      <td>non-target</td>\n",
       "    </tr>\n",
       "    <tr>\n",
       "      <th>2927454722</th>\n",
       "      <td>1.0</td>\n",
       "      <td>NaN</td>\n",
       "      <td>non-target</td>\n",
       "    </tr>\n",
       "    <tr>\n",
       "      <th>2927507078</th>\n",
       "      <td>NaN</td>\n",
       "      <td>1.0</td>\n",
       "      <td>target</td>\n",
       "    </tr>\n",
       "    <tr>\n",
       "      <th>2927858006</th>\n",
       "      <td>1.0</td>\n",
       "      <td>NaN</td>\n",
       "      <td>non-target</td>\n",
       "    </tr>\n",
       "  </tbody>\n",
       "</table>\n",
       "<p>4128 rows × 3 columns</p>\n",
       "</div>"
      ],
      "text/plain": [
       "            non-target  target    tendency\n",
       "user_id                                   \n",
       "2426               2.0     NaN  non-target\n",
       "3968               2.0     NaN  non-target\n",
       "7755               1.0     NaN  non-target\n",
       "156763             1.0     NaN  non-target\n",
       "690463             1.0     NaN  non-target\n",
       "...                ...     ...         ...\n",
       "2924117172         1.0     NaN  non-target\n",
       "2927389322         1.0     NaN  non-target\n",
       "2927454722         1.0     NaN  non-target\n",
       "2927507078         NaN     1.0      target\n",
       "2927858006         1.0     NaN  non-target\n",
       "\n",
       "[4128 rows x 3 columns]"
      ]
     },
     "execution_count": 19,
     "metadata": {},
     "output_type": "execute_result"
    }
   ],
   "source": [
    "print(nonoverlapping_count.tendency.isnull().sum())\n",
    "nonoverlapping_count"
   ]
  },
  {
   "cell_type": "code",
   "execution_count": 23,
   "metadata": {
    "colab": {
     "base_uri": "https://localhost:8080/"
    },
    "id": "Rs09aO0G1iDu",
    "outputId": "602d62b1-0166-426c-d38c-718eb59de884"
   },
   "outputs": [
    {
     "name": "stdout",
     "output_type": "stream",
     "text": [
      "non-target    3289\n",
      "target         839\n",
      "Name: tendency, dtype: int64\n"
     ]
    },
    {
     "data": {
      "text/plain": [
       "non-target    0.796754\n",
       "target        0.203246\n",
       "Name: tendency, dtype: float64"
      ]
     },
     "execution_count": 23,
     "metadata": {},
     "output_type": "execute_result"
    }
   ],
   "source": [
    "print(nonoverlapping_count.tendency.value_counts())\n",
    "nonoverlapping_count.tendency.value_counts(normalize=True)"
   ]
  },
  {
   "cell_type": "code",
   "execution_count": 21,
   "metadata": {
    "colab": {
     "base_uri": "https://localhost:8080/",
     "height": 298
    },
    "id": "2I_kny_IX6Rd",
    "outputId": "ddb0313f-c5e3-4124-9092-3505f994b0ee"
   },
   "outputs": [
    {
     "data": {
      "text/plain": [
       "<AxesSubplot:xlabel='tendency', ylabel='count'>"
      ]
     },
     "execution_count": 21,
     "metadata": {},
     "output_type": "execute_result"
    },
    {
     "data": {
      "image/png": "[encoded data removed]",
      "text/plain": [
       "<Figure size 432x288 with 1 Axes>"
      ]
     },
     "metadata": {
      "needs_background": "light"
     },
     "output_type": "display_data"
    }
   ],
   "source": [
    "sns.countplot(data = nonoverlapping_count, x = 'tendency',order = ['target','non-target'])"
   ]
  },
  {
   "cell_type": "markdown",
   "metadata": {
    "id": "44xm0bh3skvF"
   },
   "source": [
    "# User Analysis- Overlapping users (on Src tws only)\n",
    "\n",
    "rumor_src"
   ]
  },
  {
   "cell_type": "code",
   "execution_count": 24,
   "metadata": {
    "id": "SSB60QQvfCQk"
   },
   "outputs": [],
   "source": [
    "rumor_src = combined_data.loc[combined_data['src_reply']=='src',]"
   ]
  },
  {
   "cell_type": "code",
   "execution_count": 25,
   "metadata": {
    "colab": {
     "base_uri": "https://localhost:8080/"
    },
    "id": "1ofnrTMssziD",
    "outputId": "9baece70-5d6d-4ce8-d2a3-4229fe7116fa"
   },
   "outputs": [
    {
     "name": "stdout",
     "output_type": "stream",
     "text": [
      "the total number of users posting rumour tweets is:  185\n"
     ]
    }
   ],
   "source": [
    "# number of users \n",
    "no_users = rumor_src.user_id.nunique()\n",
    "print(\"the total number of users posting rumour tweets is: \",no_users)"
   ]
  },
  {
   "cell_type": "code",
   "execution_count": 26,
   "metadata": {
    "colab": {
     "base_uri": "https://localhost:8080/"
    },
    "id": "284dxg_GsziE",
    "outputId": "a7522d98-57be-45fa-9946-277f91e4f78b"
   },
   "outputs": [
    {
     "data": {
      "text/plain": [
       "user_id     targetlabel\n",
       "428333      0              8\n",
       "            1              1\n",
       "742143      0              7\n",
       "759251      0              1\n",
       "            1              1\n",
       "                          ..\n",
       "2271035214  0              1\n",
       "2738397743  1              2\n",
       "2799960092  0              2\n",
       "2836941830  1              1\n",
       "2897135260  0              1\n",
       "Name: tweet_id, Length: 215, dtype: int64"
      ]
     },
     "execution_count": 26,
     "metadata": {},
     "output_type": "execute_result"
    }
   ],
   "source": [
    "rumor_src.groupby(['user_id','targetlabel'])['tweet_id'].count()"
   ]
  },
  {
   "cell_type": "code",
   "execution_count": 27,
   "metadata": {
    "colab": {
     "base_uri": "https://localhost:8080/",
     "height": 486
    },
    "id": "IeErUhZ_sziE",
    "outputId": "38adaf87-1e45-4b0d-8913-d5dd455505e9"
   },
   "outputs": [
    {
     "data": {
      "text/html": [
       "<div>\n",
       "<style scoped>\n",
       "    .dataframe tbody tr th:only-of-type {\n",
       "        vertical-align: middle;\n",
       "    }\n",
       "\n",
       "    .dataframe tbody tr th {\n",
       "        vertical-align: top;\n",
       "    }\n",
       "\n",
       "    .dataframe thead tr th {\n",
       "        text-align: left;\n",
       "    }\n",
       "\n",
       "    .dataframe thead tr:last-of-type th {\n",
       "        text-align: right;\n",
       "    }\n",
       "</style>\n",
       "<table border=\"1\" class=\"dataframe\">\n",
       "  <thead>\n",
       "    <tr>\n",
       "      <th></th>\n",
       "      <th colspan=\"2\" halign=\"left\">tweet_id</th>\n",
       "    </tr>\n",
       "    <tr>\n",
       "      <th>targetlabel</th>\n",
       "      <th>0</th>\n",
       "      <th>1</th>\n",
       "    </tr>\n",
       "    <tr>\n",
       "      <th>user_id</th>\n",
       "      <th></th>\n",
       "      <th></th>\n",
       "    </tr>\n",
       "  </thead>\n",
       "  <tbody>\n",
       "    <tr>\n",
       "      <th>428333</th>\n",
       "      <td>8.0</td>\n",
       "      <td>1.0</td>\n",
       "    </tr>\n",
       "    <tr>\n",
       "      <th>742143</th>\n",
       "      <td>7.0</td>\n",
       "      <td>NaN</td>\n",
       "    </tr>\n",
       "    <tr>\n",
       "      <th>759251</th>\n",
       "      <td>1.0</td>\n",
       "      <td>1.0</td>\n",
       "    </tr>\n",
       "    <tr>\n",
       "      <th>788524</th>\n",
       "      <td>1.0</td>\n",
       "      <td>NaN</td>\n",
       "    </tr>\n",
       "    <tr>\n",
       "      <th>807095</th>\n",
       "      <td>3.0</td>\n",
       "      <td>NaN</td>\n",
       "    </tr>\n",
       "    <tr>\n",
       "      <th>...</th>\n",
       "      <td>...</td>\n",
       "      <td>...</td>\n",
       "    </tr>\n",
       "    <tr>\n",
       "      <th>2271035214</th>\n",
       "      <td>1.0</td>\n",
       "      <td>NaN</td>\n",
       "    </tr>\n",
       "    <tr>\n",
       "      <th>2738397743</th>\n",
       "      <td>NaN</td>\n",
       "      <td>2.0</td>\n",
       "    </tr>\n",
       "    <tr>\n",
       "      <th>2799960092</th>\n",
       "      <td>2.0</td>\n",
       "      <td>NaN</td>\n",
       "    </tr>\n",
       "    <tr>\n",
       "      <th>2836941830</th>\n",
       "      <td>NaN</td>\n",
       "      <td>1.0</td>\n",
       "    </tr>\n",
       "    <tr>\n",
       "      <th>2897135260</th>\n",
       "      <td>1.0</td>\n",
       "      <td>NaN</td>\n",
       "    </tr>\n",
       "  </tbody>\n",
       "</table>\n",
       "<p>185 rows × 2 columns</p>\n",
       "</div>"
      ],
      "text/plain": [
       "            tweet_id     \n",
       "targetlabel        0    1\n",
       "user_id                  \n",
       "428333           8.0  1.0\n",
       "742143           7.0  NaN\n",
       "759251           1.0  1.0\n",
       "788524           1.0  NaN\n",
       "807095           3.0  NaN\n",
       "...              ...  ...\n",
       "2271035214       1.0  NaN\n",
       "2738397743       NaN  2.0\n",
       "2799960092       2.0  NaN\n",
       "2836941830       NaN  1.0\n",
       "2897135260       1.0  NaN\n",
       "\n",
       "[185 rows x 2 columns]"
      ]
     },
     "execution_count": 27,
     "metadata": {},
     "output_type": "execute_result"
    }
   ],
   "source": [
    "users_src = pd.pivot_table(rumor_src, index=[\"user_id\"], columns=[\"targetlabel\"], values=[\"tweet_id\"], aggfunc='count')\n",
    "users_src"
   ]
  },
  {
   "cell_type": "code",
   "execution_count": 28,
   "metadata": {
    "id": "DLhKhBu7sziE"
   },
   "outputs": [],
   "source": [
    "nonoverlapping = users_src[users_src.isnull().any(axis=1)].index\n",
    "overlapping = users_src[~users_src.isnull().any(axis=1)].index"
   ]
  },
  {
   "cell_type": "code",
   "execution_count": 29,
   "metadata": {
    "colab": {
     "base_uri": "https://localhost:8080/"
    },
    "id": "2n-uytiksziE",
    "outputId": "da987cd4-52b7-4010-c5ed-eb7fae09623c"
   },
   "outputs": [
    {
     "data": {
      "text/plain": [
       "185"
      ]
     },
     "execution_count": 29,
     "metadata": {},
     "output_type": "execute_result"
    }
   ],
   "source": [
    "len(overlapping) + len(nonoverlapping)"
   ]
  },
  {
   "cell_type": "code",
   "execution_count": 30,
   "metadata": {
    "colab": {
     "base_uri": "https://localhost:8080/"
    },
    "id": "QpuWKZNZsziF",
    "outputId": "8aa7fc85-6829-418e-fa0e-0eb9021023d3"
   },
   "outputs": [
    {
     "name": "stdout",
     "output_type": "stream",
     "text": [
      "the total number of overlapping users is 30; the percentage of overlapping users is 0.16\n",
      "the total number of non-overlapping users is 155; the percentage of non-overlapping users is 0.84\n"
     ]
    }
   ],
   "source": [
    "print(\"the total number of overlapping users is {}; the percentage of overlapping users is {:.2f}\".format(len(overlapping),len(overlapping)/no_users))\n",
    "print(\"the total number of non-overlapping users is {}; the percentage of non-overlapping users is {:.2f}\".format(len(nonoverlapping),len(nonoverlapping)/no_users))"
   ]
  },
  {
   "cell_type": "markdown",
   "metadata": {
    "id": "xPeYqZwlsziF"
   },
   "source": [
    "## overlapping user analysis\n"
   ]
  },
  {
   "cell_type": "code",
   "execution_count": 31,
   "metadata": {
    "colab": {
     "base_uri": "https://localhost:8080/",
     "height": 551
    },
    "id": "z0U5FCpNsziF",
    "outputId": "7f79be41-4a2a-4fcf-ac84-43ba5584621e"
   },
   "outputs": [
    {
     "data": {
      "text/html": [
       "<div>\n",
       "<style scoped>\n",
       "    .dataframe tbody tr th:only-of-type {\n",
       "        vertical-align: middle;\n",
       "    }\n",
       "\n",
       "    .dataframe tbody tr th {\n",
       "        vertical-align: top;\n",
       "    }\n",
       "\n",
       "    .dataframe thead th {\n",
       "        text-align: right;\n",
       "    }\n",
       "</style>\n",
       "<table border=\"1\" class=\"dataframe\">\n",
       "  <thead>\n",
       "    <tr style=\"text-align: right;\">\n",
       "      <th></th>\n",
       "      <th>non-target</th>\n",
       "      <th>target</th>\n",
       "    </tr>\n",
       "    <tr>\n",
       "      <th>user_id</th>\n",
       "      <th></th>\n",
       "      <th></th>\n",
       "    </tr>\n",
       "  </thead>\n",
       "  <tbody>\n",
       "    <tr>\n",
       "      <th>428333</th>\n",
       "      <td>8.0</td>\n",
       "      <td>1.0</td>\n",
       "    </tr>\n",
       "    <tr>\n",
       "      <th>759251</th>\n",
       "      <td>1.0</td>\n",
       "      <td>1.0</td>\n",
       "    </tr>\n",
       "    <tr>\n",
       "      <th>972651</th>\n",
       "      <td>3.0</td>\n",
       "      <td>2.0</td>\n",
       "    </tr>\n",
       "    <tr>\n",
       "      <th>1367531</th>\n",
       "      <td>12.0</td>\n",
       "      <td>1.0</td>\n",
       "    </tr>\n",
       "    <tr>\n",
       "      <th>1652541</th>\n",
       "      <td>2.0</td>\n",
       "      <td>3.0</td>\n",
       "    </tr>\n",
       "    <tr>\n",
       "      <th>2097571</th>\n",
       "      <td>6.0</td>\n",
       "      <td>1.0</td>\n",
       "    </tr>\n",
       "    <tr>\n",
       "      <th>7587032</th>\n",
       "      <td>15.0</td>\n",
       "      <td>1.0</td>\n",
       "    </tr>\n",
       "    <tr>\n",
       "      <th>14173315</th>\n",
       "      <td>5.0</td>\n",
       "      <td>1.0</td>\n",
       "    </tr>\n",
       "    <tr>\n",
       "      <th>14940354</th>\n",
       "      <td>2.0</td>\n",
       "      <td>1.0</td>\n",
       "    </tr>\n",
       "    <tr>\n",
       "      <th>16343974</th>\n",
       "      <td>2.0</td>\n",
       "      <td>1.0</td>\n",
       "    </tr>\n",
       "    <tr>\n",
       "      <th>16675569</th>\n",
       "      <td>8.0</td>\n",
       "      <td>1.0</td>\n",
       "    </tr>\n",
       "    <tr>\n",
       "      <th>17919393</th>\n",
       "      <td>1.0</td>\n",
       "      <td>1.0</td>\n",
       "    </tr>\n",
       "    <tr>\n",
       "      <th>19038934</th>\n",
       "      <td>2.0</td>\n",
       "      <td>1.0</td>\n",
       "    </tr>\n",
       "    <tr>\n",
       "      <th>25777812</th>\n",
       "      <td>4.0</td>\n",
       "      <td>2.0</td>\n",
       "    </tr>\n",
       "    <tr>\n",
       "      <th>37874853</th>\n",
       "      <td>3.0</td>\n",
       "      <td>2.0</td>\n",
       "    </tr>\n",
       "    <tr>\n",
       "      <th>48956231</th>\n",
       "      <td>2.0</td>\n",
       "      <td>1.0</td>\n",
       "    </tr>\n",
       "    <tr>\n",
       "      <th>64643056</th>\n",
       "      <td>19.0</td>\n",
       "      <td>3.0</td>\n",
       "    </tr>\n",
       "    <tr>\n",
       "      <th>87818409</th>\n",
       "      <td>2.0</td>\n",
       "      <td>1.0</td>\n",
       "    </tr>\n",
       "    <tr>\n",
       "      <th>109234928</th>\n",
       "      <td>1.0</td>\n",
       "      <td>1.0</td>\n",
       "    </tr>\n",
       "    <tr>\n",
       "      <th>156464691</th>\n",
       "      <td>9.0</td>\n",
       "      <td>1.0</td>\n",
       "    </tr>\n",
       "    <tr>\n",
       "      <th>171802941</th>\n",
       "      <td>19.0</td>\n",
       "      <td>1.0</td>\n",
       "    </tr>\n",
       "    <tr>\n",
       "      <th>292777349</th>\n",
       "      <td>16.0</td>\n",
       "      <td>7.0</td>\n",
       "    </tr>\n",
       "    <tr>\n",
       "      <th>375721095</th>\n",
       "      <td>2.0</td>\n",
       "      <td>2.0</td>\n",
       "    </tr>\n",
       "    <tr>\n",
       "      <th>380648579</th>\n",
       "      <td>3.0</td>\n",
       "      <td>1.0</td>\n",
       "    </tr>\n",
       "    <tr>\n",
       "      <th>423662810</th>\n",
       "      <td>4.0</td>\n",
       "      <td>2.0</td>\n",
       "    </tr>\n",
       "    <tr>\n",
       "      <th>469194846</th>\n",
       "      <td>1.0</td>\n",
       "      <td>1.0</td>\n",
       "    </tr>\n",
       "    <tr>\n",
       "      <th>597251143</th>\n",
       "      <td>1.0</td>\n",
       "      <td>1.0</td>\n",
       "    </tr>\n",
       "    <tr>\n",
       "      <th>1630896181</th>\n",
       "      <td>1.0</td>\n",
       "      <td>1.0</td>\n",
       "    </tr>\n",
       "    <tr>\n",
       "      <th>1855737487</th>\n",
       "      <td>4.0</td>\n",
       "      <td>1.0</td>\n",
       "    </tr>\n",
       "    <tr>\n",
       "      <th>1960878613</th>\n",
       "      <td>4.0</td>\n",
       "      <td>2.0</td>\n",
       "    </tr>\n",
       "  </tbody>\n",
       "</table>\n",
       "</div>"
      ],
      "text/plain": [
       "            non-target  target\n",
       "user_id                       \n",
       "428333             8.0     1.0\n",
       "759251             1.0     1.0\n",
       "972651             3.0     2.0\n",
       "1367531           12.0     1.0\n",
       "1652541            2.0     3.0\n",
       "2097571            6.0     1.0\n",
       "7587032           15.0     1.0\n",
       "14173315           5.0     1.0\n",
       "14940354           2.0     1.0\n",
       "16343974           2.0     1.0\n",
       "16675569           8.0     1.0\n",
       "17919393           1.0     1.0\n",
       "19038934           2.0     1.0\n",
       "25777812           4.0     2.0\n",
       "37874853           3.0     2.0\n",
       "48956231           2.0     1.0\n",
       "64643056          19.0     3.0\n",
       "87818409           2.0     1.0\n",
       "109234928          1.0     1.0\n",
       "156464691          9.0     1.0\n",
       "171802941         19.0     1.0\n",
       "292777349         16.0     7.0\n",
       "375721095          2.0     2.0\n",
       "380648579          3.0     1.0\n",
       "423662810          4.0     2.0\n",
       "469194846          1.0     1.0\n",
       "597251143          1.0     1.0\n",
       "1630896181         1.0     1.0\n",
       "1855737487         4.0     1.0\n",
       "1960878613         4.0     2.0"
      ]
     },
     "execution_count": 31,
     "metadata": {},
     "output_type": "execute_result"
    }
   ],
   "source": [
    "overlapping_count = users_src.loc[users_src.index.isin(overlapping),]\n",
    "overlapping_count.columns = ['non-target','target']\n",
    "overlapping_count"
   ]
  },
  {
   "cell_type": "code",
   "execution_count": 32,
   "metadata": {
    "colab": {
     "base_uri": "https://localhost:8080/",
     "height": 551
    },
    "id": "mEQIwM7NsziF",
    "outputId": "1ae29e39-9f59-43c1-a16c-268de5d40f38"
   },
   "outputs": [
    {
     "data": {
      "text/html": [
       "<div>\n",
       "<style scoped>\n",
       "    .dataframe tbody tr th:only-of-type {\n",
       "        vertical-align: middle;\n",
       "    }\n",
       "\n",
       "    .dataframe tbody tr th {\n",
       "        vertical-align: top;\n",
       "    }\n",
       "\n",
       "    .dataframe thead th {\n",
       "        text-align: right;\n",
       "    }\n",
       "</style>\n",
       "<table border=\"1\" class=\"dataframe\">\n",
       "  <thead>\n",
       "    <tr style=\"text-align: right;\">\n",
       "      <th></th>\n",
       "      <th>non-target</th>\n",
       "      <th>target</th>\n",
       "      <th>non-target(%)</th>\n",
       "      <th>target(%)</th>\n",
       "    </tr>\n",
       "    <tr>\n",
       "      <th>user_id</th>\n",
       "      <th></th>\n",
       "      <th></th>\n",
       "      <th></th>\n",
       "      <th></th>\n",
       "    </tr>\n",
       "  </thead>\n",
       "  <tbody>\n",
       "    <tr>\n",
       "      <th>428333</th>\n",
       "      <td>8.0</td>\n",
       "      <td>1.0</td>\n",
       "      <td>88.9</td>\n",
       "      <td>11.1</td>\n",
       "    </tr>\n",
       "    <tr>\n",
       "      <th>759251</th>\n",
       "      <td>1.0</td>\n",
       "      <td>1.0</td>\n",
       "      <td>50.0</td>\n",
       "      <td>50.0</td>\n",
       "    </tr>\n",
       "    <tr>\n",
       "      <th>972651</th>\n",
       "      <td>3.0</td>\n",
       "      <td>2.0</td>\n",
       "      <td>60.0</td>\n",
       "      <td>40.0</td>\n",
       "    </tr>\n",
       "    <tr>\n",
       "      <th>1367531</th>\n",
       "      <td>12.0</td>\n",
       "      <td>1.0</td>\n",
       "      <td>92.3</td>\n",
       "      <td>7.7</td>\n",
       "    </tr>\n",
       "    <tr>\n",
       "      <th>1652541</th>\n",
       "      <td>2.0</td>\n",
       "      <td>3.0</td>\n",
       "      <td>40.0</td>\n",
       "      <td>60.0</td>\n",
       "    </tr>\n",
       "    <tr>\n",
       "      <th>2097571</th>\n",
       "      <td>6.0</td>\n",
       "      <td>1.0</td>\n",
       "      <td>85.7</td>\n",
       "      <td>14.3</td>\n",
       "    </tr>\n",
       "    <tr>\n",
       "      <th>7587032</th>\n",
       "      <td>15.0</td>\n",
       "      <td>1.0</td>\n",
       "      <td>93.8</td>\n",
       "      <td>6.2</td>\n",
       "    </tr>\n",
       "    <tr>\n",
       "      <th>14173315</th>\n",
       "      <td>5.0</td>\n",
       "      <td>1.0</td>\n",
       "      <td>83.3</td>\n",
       "      <td>16.7</td>\n",
       "    </tr>\n",
       "    <tr>\n",
       "      <th>14940354</th>\n",
       "      <td>2.0</td>\n",
       "      <td>1.0</td>\n",
       "      <td>66.7</td>\n",
       "      <td>33.3</td>\n",
       "    </tr>\n",
       "    <tr>\n",
       "      <th>16343974</th>\n",
       "      <td>2.0</td>\n",
       "      <td>1.0</td>\n",
       "      <td>66.7</td>\n",
       "      <td>33.3</td>\n",
       "    </tr>\n",
       "    <tr>\n",
       "      <th>16675569</th>\n",
       "      <td>8.0</td>\n",
       "      <td>1.0</td>\n",
       "      <td>88.9</td>\n",
       "      <td>11.1</td>\n",
       "    </tr>\n",
       "    <tr>\n",
       "      <th>17919393</th>\n",
       "      <td>1.0</td>\n",
       "      <td>1.0</td>\n",
       "      <td>50.0</td>\n",
       "      <td>50.0</td>\n",
       "    </tr>\n",
       "    <tr>\n",
       "      <th>19038934</th>\n",
       "      <td>2.0</td>\n",
       "      <td>1.0</td>\n",
       "      <td>66.7</td>\n",
       "      <td>33.3</td>\n",
       "    </tr>\n",
       "    <tr>\n",
       "      <th>25777812</th>\n",
       "      <td>4.0</td>\n",
       "      <td>2.0</td>\n",
       "      <td>66.7</td>\n",
       "      <td>33.3</td>\n",
       "    </tr>\n",
       "    <tr>\n",
       "      <th>37874853</th>\n",
       "      <td>3.0</td>\n",
       "      <td>2.0</td>\n",
       "      <td>60.0</td>\n",
       "      <td>40.0</td>\n",
       "    </tr>\n",
       "    <tr>\n",
       "      <th>48956231</th>\n",
       "      <td>2.0</td>\n",
       "      <td>1.0</td>\n",
       "      <td>66.7</td>\n",
       "      <td>33.3</td>\n",
       "    </tr>\n",
       "    <tr>\n",
       "      <th>64643056</th>\n",
       "      <td>19.0</td>\n",
       "      <td>3.0</td>\n",
       "      <td>86.4</td>\n",
       "      <td>13.6</td>\n",
       "    </tr>\n",
       "    <tr>\n",
       "      <th>87818409</th>\n",
       "      <td>2.0</td>\n",
       "      <td>1.0</td>\n",
       "      <td>66.7</td>\n",
       "      <td>33.3</td>\n",
       "    </tr>\n",
       "    <tr>\n",
       "      <th>109234928</th>\n",
       "      <td>1.0</td>\n",
       "      <td>1.0</td>\n",
       "      <td>50.0</td>\n",
       "      <td>50.0</td>\n",
       "    </tr>\n",
       "    <tr>\n",
       "      <th>156464691</th>\n",
       "      <td>9.0</td>\n",
       "      <td>1.0</td>\n",
       "      <td>90.0</td>\n",
       "      <td>10.0</td>\n",
       "    </tr>\n",
       "    <tr>\n",
       "      <th>171802941</th>\n",
       "      <td>19.0</td>\n",
       "      <td>1.0</td>\n",
       "      <td>95.0</td>\n",
       "      <td>5.0</td>\n",
       "    </tr>\n",
       "    <tr>\n",
       "      <th>292777349</th>\n",
       "      <td>16.0</td>\n",
       "      <td>7.0</td>\n",
       "      <td>69.6</td>\n",
       "      <td>30.4</td>\n",
       "    </tr>\n",
       "    <tr>\n",
       "      <th>375721095</th>\n",
       "      <td>2.0</td>\n",
       "      <td>2.0</td>\n",
       "      <td>50.0</td>\n",
       "      <td>50.0</td>\n",
       "    </tr>\n",
       "    <tr>\n",
       "      <th>380648579</th>\n",
       "      <td>3.0</td>\n",
       "      <td>1.0</td>\n",
       "      <td>75.0</td>\n",
       "      <td>25.0</td>\n",
       "    </tr>\n",
       "    <tr>\n",
       "      <th>423662810</th>\n",
       "      <td>4.0</td>\n",
       "      <td>2.0</td>\n",
       "      <td>66.7</td>\n",
       "      <td>33.3</td>\n",
       "    </tr>\n",
       "    <tr>\n",
       "      <th>469194846</th>\n",
       "      <td>1.0</td>\n",
       "      <td>1.0</td>\n",
       "      <td>50.0</td>\n",
       "      <td>50.0</td>\n",
       "    </tr>\n",
       "    <tr>\n",
       "      <th>597251143</th>\n",
       "      <td>1.0</td>\n",
       "      <td>1.0</td>\n",
       "      <td>50.0</td>\n",
       "      <td>50.0</td>\n",
       "    </tr>\n",
       "    <tr>\n",
       "      <th>1630896181</th>\n",
       "      <td>1.0</td>\n",
       "      <td>1.0</td>\n",
       "      <td>50.0</td>\n",
       "      <td>50.0</td>\n",
       "    </tr>\n",
       "    <tr>\n",
       "      <th>1855737487</th>\n",
       "      <td>4.0</td>\n",
       "      <td>1.0</td>\n",
       "      <td>80.0</td>\n",
       "      <td>20.0</td>\n",
       "    </tr>\n",
       "    <tr>\n",
       "      <th>1960878613</th>\n",
       "      <td>4.0</td>\n",
       "      <td>2.0</td>\n",
       "      <td>66.7</td>\n",
       "      <td>33.3</td>\n",
       "    </tr>\n",
       "  </tbody>\n",
       "</table>\n",
       "</div>"
      ],
      "text/plain": [
       "            non-target  target  non-target(%)  target(%)\n",
       "user_id                                                 \n",
       "428333             8.0     1.0           88.9       11.1\n",
       "759251             1.0     1.0           50.0       50.0\n",
       "972651             3.0     2.0           60.0       40.0\n",
       "1367531           12.0     1.0           92.3        7.7\n",
       "1652541            2.0     3.0           40.0       60.0\n",
       "2097571            6.0     1.0           85.7       14.3\n",
       "7587032           15.0     1.0           93.8        6.2\n",
       "14173315           5.0     1.0           83.3       16.7\n",
       "14940354           2.0     1.0           66.7       33.3\n",
       "16343974           2.0     1.0           66.7       33.3\n",
       "16675569           8.0     1.0           88.9       11.1\n",
       "17919393           1.0     1.0           50.0       50.0\n",
       "19038934           2.0     1.0           66.7       33.3\n",
       "25777812           4.0     2.0           66.7       33.3\n",
       "37874853           3.0     2.0           60.0       40.0\n",
       "48956231           2.0     1.0           66.7       33.3\n",
       "64643056          19.0     3.0           86.4       13.6\n",
       "87818409           2.0     1.0           66.7       33.3\n",
       "109234928          1.0     1.0           50.0       50.0\n",
       "156464691          9.0     1.0           90.0       10.0\n",
       "171802941         19.0     1.0           95.0        5.0\n",
       "292777349         16.0     7.0           69.6       30.4\n",
       "375721095          2.0     2.0           50.0       50.0\n",
       "380648579          3.0     1.0           75.0       25.0\n",
       "423662810          4.0     2.0           66.7       33.3\n",
       "469194846          1.0     1.0           50.0       50.0\n",
       "597251143          1.0     1.0           50.0       50.0\n",
       "1630896181         1.0     1.0           50.0       50.0\n",
       "1855737487         4.0     1.0           80.0       20.0\n",
       "1960878613         4.0     2.0           66.7       33.3"
      ]
     },
     "execution_count": 32,
     "metadata": {},
     "output_type": "execute_result"
    }
   ],
   "source": [
    "overlapping_per = overlapping_count.div(overlapping_count.sum(axis=1), axis=0).round(3)*100\n",
    "overlapping_count = pd.merge(overlapping_count, overlapping_per,on='user_id',suffixes=['','(%)'])\n",
    "overlapping_count"
   ]
  },
  {
   "cell_type": "code",
   "execution_count": 33,
   "metadata": {
    "colab": {
     "base_uri": "https://localhost:8080/"
    },
    "id": "foJYN97tsziG",
    "outputId": "60c213de-c829-4e9d-f814-2908ff7d4fc1"
   },
   "outputs": [
    {
     "name": "stderr",
     "output_type": "stream",
     "text": [
      "<ipython-input-33-4c8d2e1deb4a>:1: FutureWarning: The default dtype for empty Series will be 'object' instead of 'float64' in a future version. Specify a dtype explicitly to silence this warning.\n",
      "  overlapping_count['tendency'] = pd.Series()\n"
     ]
    }
   ],
   "source": [
    "overlapping_count['tendency'] = pd.Series()\n",
    "for i in range(len(overlapping)):\n",
    "  if overlapping_count.iloc[i,0] > overlapping_count.iloc[i,1]:\n",
    "    overlapping_count.iloc[i,4] = 'non-target'\n",
    "  elif overlapping_count.iloc[i,0] < overlapping_count.iloc[i,1]:\n",
    "   overlapping_count.iloc[i,4] ='target'\n",
    "  else:\n",
    "    overlapping_count.iloc[i,4] = 'neutral'"
   ]
  },
  {
   "cell_type": "code",
   "execution_count": 34,
   "metadata": {
    "colab": {
     "base_uri": "https://localhost:8080/",
     "height": 551
    },
    "id": "p3Nn_t-OsziG",
    "outputId": "0faab442-e910-440a-ed38-8e34155718fc"
   },
   "outputs": [
    {
     "data": {
      "text/html": [
       "<div>\n",
       "<style scoped>\n",
       "    .dataframe tbody tr th:only-of-type {\n",
       "        vertical-align: middle;\n",
       "    }\n",
       "\n",
       "    .dataframe tbody tr th {\n",
       "        vertical-align: top;\n",
       "    }\n",
       "\n",
       "    .dataframe thead th {\n",
       "        text-align: right;\n",
       "    }\n",
       "</style>\n",
       "<table border=\"1\" class=\"dataframe\">\n",
       "  <thead>\n",
       "    <tr style=\"text-align: right;\">\n",
       "      <th></th>\n",
       "      <th>non-target</th>\n",
       "      <th>target</th>\n",
       "      <th>non-target(%)</th>\n",
       "      <th>target(%)</th>\n",
       "      <th>tendency</th>\n",
       "    </tr>\n",
       "    <tr>\n",
       "      <th>user_id</th>\n",
       "      <th></th>\n",
       "      <th></th>\n",
       "      <th></th>\n",
       "      <th></th>\n",
       "      <th></th>\n",
       "    </tr>\n",
       "  </thead>\n",
       "  <tbody>\n",
       "    <tr>\n",
       "      <th>428333</th>\n",
       "      <td>8.0</td>\n",
       "      <td>1.0</td>\n",
       "      <td>88.9</td>\n",
       "      <td>11.1</td>\n",
       "      <td>non-target</td>\n",
       "    </tr>\n",
       "    <tr>\n",
       "      <th>759251</th>\n",
       "      <td>1.0</td>\n",
       "      <td>1.0</td>\n",
       "      <td>50.0</td>\n",
       "      <td>50.0</td>\n",
       "      <td>neutral</td>\n",
       "    </tr>\n",
       "    <tr>\n",
       "      <th>972651</th>\n",
       "      <td>3.0</td>\n",
       "      <td>2.0</td>\n",
       "      <td>60.0</td>\n",
       "      <td>40.0</td>\n",
       "      <td>non-target</td>\n",
       "    </tr>\n",
       "    <tr>\n",
       "      <th>1367531</th>\n",
       "      <td>12.0</td>\n",
       "      <td>1.0</td>\n",
       "      <td>92.3</td>\n",
       "      <td>7.7</td>\n",
       "      <td>non-target</td>\n",
       "    </tr>\n",
       "    <tr>\n",
       "      <th>1652541</th>\n",
       "      <td>2.0</td>\n",
       "      <td>3.0</td>\n",
       "      <td>40.0</td>\n",
       "      <td>60.0</td>\n",
       "      <td>target</td>\n",
       "    </tr>\n",
       "    <tr>\n",
       "      <th>2097571</th>\n",
       "      <td>6.0</td>\n",
       "      <td>1.0</td>\n",
       "      <td>85.7</td>\n",
       "      <td>14.3</td>\n",
       "      <td>non-target</td>\n",
       "    </tr>\n",
       "    <tr>\n",
       "      <th>7587032</th>\n",
       "      <td>15.0</td>\n",
       "      <td>1.0</td>\n",
       "      <td>93.8</td>\n",
       "      <td>6.2</td>\n",
       "      <td>non-target</td>\n",
       "    </tr>\n",
       "    <tr>\n",
       "      <th>14173315</th>\n",
       "      <td>5.0</td>\n",
       "      <td>1.0</td>\n",
       "      <td>83.3</td>\n",
       "      <td>16.7</td>\n",
       "      <td>non-target</td>\n",
       "    </tr>\n",
       "    <tr>\n",
       "      <th>14940354</th>\n",
       "      <td>2.0</td>\n",
       "      <td>1.0</td>\n",
       "      <td>66.7</td>\n",
       "      <td>33.3</td>\n",
       "      <td>non-target</td>\n",
       "    </tr>\n",
       "    <tr>\n",
       "      <th>16343974</th>\n",
       "      <td>2.0</td>\n",
       "      <td>1.0</td>\n",
       "      <td>66.7</td>\n",
       "      <td>33.3</td>\n",
       "      <td>non-target</td>\n",
       "    </tr>\n",
       "    <tr>\n",
       "      <th>16675569</th>\n",
       "      <td>8.0</td>\n",
       "      <td>1.0</td>\n",
       "      <td>88.9</td>\n",
       "      <td>11.1</td>\n",
       "      <td>non-target</td>\n",
       "    </tr>\n",
       "    <tr>\n",
       "      <th>17919393</th>\n",
       "      <td>1.0</td>\n",
       "      <td>1.0</td>\n",
       "      <td>50.0</td>\n",
       "      <td>50.0</td>\n",
       "      <td>neutral</td>\n",
       "    </tr>\n",
       "    <tr>\n",
       "      <th>19038934</th>\n",
       "      <td>2.0</td>\n",
       "      <td>1.0</td>\n",
       "      <td>66.7</td>\n",
       "      <td>33.3</td>\n",
       "      <td>non-target</td>\n",
       "    </tr>\n",
       "    <tr>\n",
       "      <th>25777812</th>\n",
       "      <td>4.0</td>\n",
       "      <td>2.0</td>\n",
       "      <td>66.7</td>\n",
       "      <td>33.3</td>\n",
       "      <td>non-target</td>\n",
       "    </tr>\n",
       "    <tr>\n",
       "      <th>37874853</th>\n",
       "      <td>3.0</td>\n",
       "      <td>2.0</td>\n",
       "      <td>60.0</td>\n",
       "      <td>40.0</td>\n",
       "      <td>non-target</td>\n",
       "    </tr>\n",
       "    <tr>\n",
       "      <th>48956231</th>\n",
       "      <td>2.0</td>\n",
       "      <td>1.0</td>\n",
       "      <td>66.7</td>\n",
       "      <td>33.3</td>\n",
       "      <td>non-target</td>\n",
       "    </tr>\n",
       "    <tr>\n",
       "      <th>64643056</th>\n",
       "      <td>19.0</td>\n",
       "      <td>3.0</td>\n",
       "      <td>86.4</td>\n",
       "      <td>13.6</td>\n",
       "      <td>non-target</td>\n",
       "    </tr>\n",
       "    <tr>\n",
       "      <th>87818409</th>\n",
       "      <td>2.0</td>\n",
       "      <td>1.0</td>\n",
       "      <td>66.7</td>\n",
       "      <td>33.3</td>\n",
       "      <td>non-target</td>\n",
       "    </tr>\n",
       "    <tr>\n",
       "      <th>109234928</th>\n",
       "      <td>1.0</td>\n",
       "      <td>1.0</td>\n",
       "      <td>50.0</td>\n",
       "      <td>50.0</td>\n",
       "      <td>neutral</td>\n",
       "    </tr>\n",
       "    <tr>\n",
       "      <th>156464691</th>\n",
       "      <td>9.0</td>\n",
       "      <td>1.0</td>\n",
       "      <td>90.0</td>\n",
       "      <td>10.0</td>\n",
       "      <td>non-target</td>\n",
       "    </tr>\n",
       "    <tr>\n",
       "      <th>171802941</th>\n",
       "      <td>19.0</td>\n",
       "      <td>1.0</td>\n",
       "      <td>95.0</td>\n",
       "      <td>5.0</td>\n",
       "      <td>non-target</td>\n",
       "    </tr>\n",
       "    <tr>\n",
       "      <th>292777349</th>\n",
       "      <td>16.0</td>\n",
       "      <td>7.0</td>\n",
       "      <td>69.6</td>\n",
       "      <td>30.4</td>\n",
       "      <td>non-target</td>\n",
       "    </tr>\n",
       "    <tr>\n",
       "      <th>375721095</th>\n",
       "      <td>2.0</td>\n",
       "      <td>2.0</td>\n",
       "      <td>50.0</td>\n",
       "      <td>50.0</td>\n",
       "      <td>neutral</td>\n",
       "    </tr>\n",
       "    <tr>\n",
       "      <th>380648579</th>\n",
       "      <td>3.0</td>\n",
       "      <td>1.0</td>\n",
       "      <td>75.0</td>\n",
       "      <td>25.0</td>\n",
       "      <td>non-target</td>\n",
       "    </tr>\n",
       "    <tr>\n",
       "      <th>423662810</th>\n",
       "      <td>4.0</td>\n",
       "      <td>2.0</td>\n",
       "      <td>66.7</td>\n",
       "      <td>33.3</td>\n",
       "      <td>non-target</td>\n",
       "    </tr>\n",
       "    <tr>\n",
       "      <th>469194846</th>\n",
       "      <td>1.0</td>\n",
       "      <td>1.0</td>\n",
       "      <td>50.0</td>\n",
       "      <td>50.0</td>\n",
       "      <td>neutral</td>\n",
       "    </tr>\n",
       "    <tr>\n",
       "      <th>597251143</th>\n",
       "      <td>1.0</td>\n",
       "      <td>1.0</td>\n",
       "      <td>50.0</td>\n",
       "      <td>50.0</td>\n",
       "      <td>neutral</td>\n",
       "    </tr>\n",
       "    <tr>\n",
       "      <th>1630896181</th>\n",
       "      <td>1.0</td>\n",
       "      <td>1.0</td>\n",
       "      <td>50.0</td>\n",
       "      <td>50.0</td>\n",
       "      <td>neutral</td>\n",
       "    </tr>\n",
       "    <tr>\n",
       "      <th>1855737487</th>\n",
       "      <td>4.0</td>\n",
       "      <td>1.0</td>\n",
       "      <td>80.0</td>\n",
       "      <td>20.0</td>\n",
       "      <td>non-target</td>\n",
       "    </tr>\n",
       "    <tr>\n",
       "      <th>1960878613</th>\n",
       "      <td>4.0</td>\n",
       "      <td>2.0</td>\n",
       "      <td>66.7</td>\n",
       "      <td>33.3</td>\n",
       "      <td>non-target</td>\n",
       "    </tr>\n",
       "  </tbody>\n",
       "</table>\n",
       "</div>"
      ],
      "text/plain": [
       "            non-target  target  non-target(%)  target(%)    tendency\n",
       "user_id                                                             \n",
       "428333             8.0     1.0           88.9       11.1  non-target\n",
       "759251             1.0     1.0           50.0       50.0     neutral\n",
       "972651             3.0     2.0           60.0       40.0  non-target\n",
       "1367531           12.0     1.0           92.3        7.7  non-target\n",
       "1652541            2.0     3.0           40.0       60.0      target\n",
       "2097571            6.0     1.0           85.7       14.3  non-target\n",
       "7587032           15.0     1.0           93.8        6.2  non-target\n",
       "14173315           5.0     1.0           83.3       16.7  non-target\n",
       "14940354           2.0     1.0           66.7       33.3  non-target\n",
       "16343974           2.0     1.0           66.7       33.3  non-target\n",
       "16675569           8.0     1.0           88.9       11.1  non-target\n",
       "17919393           1.0     1.0           50.0       50.0     neutral\n",
       "19038934           2.0     1.0           66.7       33.3  non-target\n",
       "25777812           4.0     2.0           66.7       33.3  non-target\n",
       "37874853           3.0     2.0           60.0       40.0  non-target\n",
       "48956231           2.0     1.0           66.7       33.3  non-target\n",
       "64643056          19.0     3.0           86.4       13.6  non-target\n",
       "87818409           2.0     1.0           66.7       33.3  non-target\n",
       "109234928          1.0     1.0           50.0       50.0     neutral\n",
       "156464691          9.0     1.0           90.0       10.0  non-target\n",
       "171802941         19.0     1.0           95.0        5.0  non-target\n",
       "292777349         16.0     7.0           69.6       30.4  non-target\n",
       "375721095          2.0     2.0           50.0       50.0     neutral\n",
       "380648579          3.0     1.0           75.0       25.0  non-target\n",
       "423662810          4.0     2.0           66.7       33.3  non-target\n",
       "469194846          1.0     1.0           50.0       50.0     neutral\n",
       "597251143          1.0     1.0           50.0       50.0     neutral\n",
       "1630896181         1.0     1.0           50.0       50.0     neutral\n",
       "1855737487         4.0     1.0           80.0       20.0  non-target\n",
       "1960878613         4.0     2.0           66.7       33.3  non-target"
      ]
     },
     "execution_count": 34,
     "metadata": {},
     "output_type": "execute_result"
    }
   ],
   "source": [
    "overlapping_count"
   ]
  },
  {
   "cell_type": "code",
   "execution_count": 36,
   "metadata": {
    "colab": {
     "base_uri": "https://localhost:8080/"
    },
    "id": "gZjPWBztuQMW",
    "outputId": "e84ef18f-3a95-4eb0-f0d9-82d4035de878"
   },
   "outputs": [
    {
     "name": "stdout",
     "output_type": "stream",
     "text": [
      "non-target    22\n",
      "neutral        7\n",
      "target         1\n",
      "Name: tendency, dtype: int64\n",
      "non-target    0.733333\n",
      "neutral       0.233333\n",
      "target        0.033333\n",
      "Name: tendency, dtype: float64\n"
     ]
    }
   ],
   "source": [
    "print(overlapping_count.tendency.value_counts())\n",
    "print(overlapping_count.tendency.value_counts(normalize=True))"
   ]
  },
  {
   "cell_type": "code",
   "execution_count": 37,
   "metadata": {
    "colab": {
     "base_uri": "https://localhost:8080/",
     "height": 297
    },
    "id": "n1PIL5NJsziG",
    "outputId": "39055aa7-ad32-494f-cbc7-e9950bcd5229"
   },
   "outputs": [
    {
     "data": {
      "text/plain": [
       "<AxesSubplot:xlabel='tendency', ylabel='count'>"
      ]
     },
     "execution_count": 37,
     "metadata": {},
     "output_type": "execute_result"
    },
    {
     "data": {
      "image/png": "[encoded data removed]",
      "text/plain": [
       "<Figure size 432x288 with 1 Axes>"
      ]
     },
     "metadata": {
      "needs_background": "light"
     },
     "output_type": "display_data"
    }
   ],
   "source": [
    "sns.countplot(data = overlapping_count, x = 'tendency',order = ['target','non-target','neutral'])"
   ]
  },
  {
   "cell_type": "markdown",
   "metadata": {
    "id": "EjS6basNsziH"
   },
   "source": [
    "## non-overlapping user analysis\n"
   ]
  },
  {
   "cell_type": "code",
   "execution_count": 38,
   "metadata": {
    "colab": {
     "base_uri": "https://localhost:8080/",
     "height": 455
    },
    "id": "hbqs3otcsziH",
    "outputId": "4224ceec-633e-4ae1-c274-88887065761d"
   },
   "outputs": [
    {
     "data": {
      "text/html": [
       "<div>\n",
       "<style scoped>\n",
       "    .dataframe tbody tr th:only-of-type {\n",
       "        vertical-align: middle;\n",
       "    }\n",
       "\n",
       "    .dataframe tbody tr th {\n",
       "        vertical-align: top;\n",
       "    }\n",
       "\n",
       "    .dataframe thead th {\n",
       "        text-align: right;\n",
       "    }\n",
       "</style>\n",
       "<table border=\"1\" class=\"dataframe\">\n",
       "  <thead>\n",
       "    <tr style=\"text-align: right;\">\n",
       "      <th></th>\n",
       "      <th>non-target</th>\n",
       "      <th>target</th>\n",
       "    </tr>\n",
       "    <tr>\n",
       "      <th>user_id</th>\n",
       "      <th></th>\n",
       "      <th></th>\n",
       "    </tr>\n",
       "  </thead>\n",
       "  <tbody>\n",
       "    <tr>\n",
       "      <th>742143</th>\n",
       "      <td>7.0</td>\n",
       "      <td>NaN</td>\n",
       "    </tr>\n",
       "    <tr>\n",
       "      <th>788524</th>\n",
       "      <td>1.0</td>\n",
       "      <td>NaN</td>\n",
       "    </tr>\n",
       "    <tr>\n",
       "      <th>807095</th>\n",
       "      <td>3.0</td>\n",
       "      <td>NaN</td>\n",
       "    </tr>\n",
       "    <tr>\n",
       "      <th>1140451</th>\n",
       "      <td>1.0</td>\n",
       "      <td>NaN</td>\n",
       "    </tr>\n",
       "    <tr>\n",
       "      <th>2467791</th>\n",
       "      <td>1.0</td>\n",
       "      <td>NaN</td>\n",
       "    </tr>\n",
       "    <tr>\n",
       "      <th>...</th>\n",
       "      <td>...</td>\n",
       "      <td>...</td>\n",
       "    </tr>\n",
       "    <tr>\n",
       "      <th>2271035214</th>\n",
       "      <td>1.0</td>\n",
       "      <td>NaN</td>\n",
       "    </tr>\n",
       "    <tr>\n",
       "      <th>2738397743</th>\n",
       "      <td>NaN</td>\n",
       "      <td>2.0</td>\n",
       "    </tr>\n",
       "    <tr>\n",
       "      <th>2799960092</th>\n",
       "      <td>2.0</td>\n",
       "      <td>NaN</td>\n",
       "    </tr>\n",
       "    <tr>\n",
       "      <th>2836941830</th>\n",
       "      <td>NaN</td>\n",
       "      <td>1.0</td>\n",
       "    </tr>\n",
       "    <tr>\n",
       "      <th>2897135260</th>\n",
       "      <td>1.0</td>\n",
       "      <td>NaN</td>\n",
       "    </tr>\n",
       "  </tbody>\n",
       "</table>\n",
       "<p>155 rows × 2 columns</p>\n",
       "</div>"
      ],
      "text/plain": [
       "            non-target  target\n",
       "user_id                       \n",
       "742143             7.0     NaN\n",
       "788524             1.0     NaN\n",
       "807095             3.0     NaN\n",
       "1140451            1.0     NaN\n",
       "2467791            1.0     NaN\n",
       "...                ...     ...\n",
       "2271035214         1.0     NaN\n",
       "2738397743         NaN     2.0\n",
       "2799960092         2.0     NaN\n",
       "2836941830         NaN     1.0\n",
       "2897135260         1.0     NaN\n",
       "\n",
       "[155 rows x 2 columns]"
      ]
     },
     "execution_count": 38,
     "metadata": {},
     "output_type": "execute_result"
    }
   ],
   "source": [
    "nonoverlapping_count = users_src.loc[users_src.index.isin(nonoverlapping),]\n",
    "nonoverlapping_count.columns = ['non-target','target']\n",
    "nonoverlapping_count"
   ]
  },
  {
   "cell_type": "code",
   "execution_count": 39,
   "metadata": {
    "colab": {
     "base_uri": "https://localhost:8080/"
    },
    "id": "viedqj5qsziH",
    "outputId": "5a3c9068-0a58-4344-d442-4cf48bfd9f85"
   },
   "outputs": [
    {
     "name": "stderr",
     "output_type": "stream",
     "text": [
      "<ipython-input-39-88b0360c8225>:1: FutureWarning: The default dtype for empty Series will be 'object' instead of 'float64' in a future version. Specify a dtype explicitly to silence this warning.\n",
      "  nonoverlapping_count['tendency'] = pd.Series()\n",
      "<ipython-input-39-88b0360c8225>:1: SettingWithCopyWarning: \n",
      "A value is trying to be set on a copy of a slice from a DataFrame.\n",
      "Try using .loc[row_indexer,col_indexer] = value instead\n",
      "\n",
      "See the caveats in the documentation: https://pandas.pydata.org/pandas-docs/stable/user_guide/indexing.html#returning-a-view-versus-a-copy\n",
      "  nonoverlapping_count['tendency'] = pd.Series()\n"
     ]
    }
   ],
   "source": [
    "nonoverlapping_count['tendency'] = pd.Series()\n",
    "for i in range(len(nonoverlapping)):\n",
    "  if nonoverlapping_count.iloc[i,0] >= 1 :\n",
    "    nonoverlapping_count.iloc[i,2] = 'non-target'\n",
    "  elif nonoverlapping_count.iloc[i,1] >= 1:\n",
    "    nonoverlapping_count.iloc[i,2] = 'target'"
   ]
  },
  {
   "cell_type": "code",
   "execution_count": 40,
   "metadata": {
    "colab": {
     "base_uri": "https://localhost:8080/",
     "height": 473
    },
    "id": "rQxVZkT4sziH",
    "outputId": "ab26418e-3608-4583-a73c-d2a02439afb5"
   },
   "outputs": [
    {
     "name": "stdout",
     "output_type": "stream",
     "text": [
      "0\n"
     ]
    },
    {
     "data": {
      "text/html": [
       "<div>\n",
       "<style scoped>\n",
       "    .dataframe tbody tr th:only-of-type {\n",
       "        vertical-align: middle;\n",
       "    }\n",
       "\n",
       "    .dataframe tbody tr th {\n",
       "        vertical-align: top;\n",
       "    }\n",
       "\n",
       "    .dataframe thead th {\n",
       "        text-align: right;\n",
       "    }\n",
       "</style>\n",
       "<table border=\"1\" class=\"dataframe\">\n",
       "  <thead>\n",
       "    <tr style=\"text-align: right;\">\n",
       "      <th></th>\n",
       "      <th>non-target</th>\n",
       "      <th>target</th>\n",
       "      <th>tendency</th>\n",
       "    </tr>\n",
       "    <tr>\n",
       "      <th>user_id</th>\n",
       "      <th></th>\n",
       "      <th></th>\n",
       "      <th></th>\n",
       "    </tr>\n",
       "  </thead>\n",
       "  <tbody>\n",
       "    <tr>\n",
       "      <th>742143</th>\n",
       "      <td>7.0</td>\n",
       "      <td>NaN</td>\n",
       "      <td>non-target</td>\n",
       "    </tr>\n",
       "    <tr>\n",
       "      <th>788524</th>\n",
       "      <td>1.0</td>\n",
       "      <td>NaN</td>\n",
       "      <td>non-target</td>\n",
       "    </tr>\n",
       "    <tr>\n",
       "      <th>807095</th>\n",
       "      <td>3.0</td>\n",
       "      <td>NaN</td>\n",
       "      <td>non-target</td>\n",
       "    </tr>\n",
       "    <tr>\n",
       "      <th>1140451</th>\n",
       "      <td>1.0</td>\n",
       "      <td>NaN</td>\n",
       "      <td>non-target</td>\n",
       "    </tr>\n",
       "    <tr>\n",
       "      <th>2467791</th>\n",
       "      <td>1.0</td>\n",
       "      <td>NaN</td>\n",
       "      <td>non-target</td>\n",
       "    </tr>\n",
       "    <tr>\n",
       "      <th>...</th>\n",
       "      <td>...</td>\n",
       "      <td>...</td>\n",
       "      <td>...</td>\n",
       "    </tr>\n",
       "    <tr>\n",
       "      <th>2271035214</th>\n",
       "      <td>1.0</td>\n",
       "      <td>NaN</td>\n",
       "      <td>non-target</td>\n",
       "    </tr>\n",
       "    <tr>\n",
       "      <th>2738397743</th>\n",
       "      <td>NaN</td>\n",
       "      <td>2.0</td>\n",
       "      <td>target</td>\n",
       "    </tr>\n",
       "    <tr>\n",
       "      <th>2799960092</th>\n",
       "      <td>2.0</td>\n",
       "      <td>NaN</td>\n",
       "      <td>non-target</td>\n",
       "    </tr>\n",
       "    <tr>\n",
       "      <th>2836941830</th>\n",
       "      <td>NaN</td>\n",
       "      <td>1.0</td>\n",
       "      <td>target</td>\n",
       "    </tr>\n",
       "    <tr>\n",
       "      <th>2897135260</th>\n",
       "      <td>1.0</td>\n",
       "      <td>NaN</td>\n",
       "      <td>non-target</td>\n",
       "    </tr>\n",
       "  </tbody>\n",
       "</table>\n",
       "<p>155 rows × 3 columns</p>\n",
       "</div>"
      ],
      "text/plain": [
       "            non-target  target    tendency\n",
       "user_id                                   \n",
       "742143             7.0     NaN  non-target\n",
       "788524             1.0     NaN  non-target\n",
       "807095             3.0     NaN  non-target\n",
       "1140451            1.0     NaN  non-target\n",
       "2467791            1.0     NaN  non-target\n",
       "...                ...     ...         ...\n",
       "2271035214         1.0     NaN  non-target\n",
       "2738397743         NaN     2.0      target\n",
       "2799960092         2.0     NaN  non-target\n",
       "2836941830         NaN     1.0      target\n",
       "2897135260         1.0     NaN  non-target\n",
       "\n",
       "[155 rows x 3 columns]"
      ]
     },
     "execution_count": 40,
     "metadata": {},
     "output_type": "execute_result"
    }
   ],
   "source": [
    "print(nonoverlapping_count.tendency.isnull().sum())\n",
    "nonoverlapping_count"
   ]
  },
  {
   "cell_type": "code",
   "execution_count": 42,
   "metadata": {
    "colab": {
     "base_uri": "https://localhost:8080/"
    },
    "id": "8Hm9ECBHvEIg",
    "outputId": "45402e1a-50ed-45e1-baa2-0997f4b23c99"
   },
   "outputs": [
    {
     "name": "stdout",
     "output_type": "stream",
     "text": [
      "non-target    122\n",
      "target         33\n",
      "Name: tendency, dtype: int64\n"
     ]
    },
    {
     "data": {
      "text/plain": [
       "non-target    0.787097\n",
       "target        0.212903\n",
       "Name: tendency, dtype: float64"
      ]
     },
     "execution_count": 42,
     "metadata": {},
     "output_type": "execute_result"
    }
   ],
   "source": [
    "print(nonoverlapping_count.tendency.value_counts())\n",
    "nonoverlapping_count.tendency.value_counts(normalize = True)"
   ]
  },
  {
   "cell_type": "code",
   "execution_count": null,
   "metadata": {
    "colab": {
     "base_uri": "https://localhost:8080/",
     "height": 297
    },
    "id": "Zceddr3GsziH",
    "outputId": "2b8c88d5-d47b-4257-b2d7-48c147509010"
   },
   "outputs": [],
   "source": [
    "sns.countplot(data = nonoverlapping_count, x = 'tendency',order = ['target','non-target'])"
   ]
  },
  {
   "cell_type": "markdown",
   "metadata": {
    "id": "TCn_QoGKvPXK"
   },
   "source": [
    "# User Analysis- Overlapping users (on Reply tws only)\n",
    "\n",
    "temp_rumor"
   ]
  },
  {
   "cell_type": "code",
   "execution_count": 43,
   "metadata": {},
   "outputs": [],
   "source": [
    "temp_rumor = combined_data.loc[combined_data['src_reply']=='reply',]"
   ]
  },
  {
   "cell_type": "code",
   "execution_count": 44,
   "metadata": {
    "colab": {
     "base_uri": "https://localhost:8080/"
    },
    "id": "-9PpL0ocvPXL",
    "outputId": "6e87e70e-a237-497f-fd80-4aa742816a51"
   },
   "outputs": [
    {
     "name": "stdout",
     "output_type": "stream",
     "text": [
      "the total number of users posting rumour tweets is:  4506\n"
     ]
    }
   ],
   "source": [
    "# number of users \n",
    "no_users = temp_rumor.user_id.nunique()\n",
    "print(\"the total number of users posting rumour tweets is: \",no_users)"
   ]
  },
  {
   "cell_type": "code",
   "execution_count": 45,
   "metadata": {
    "colab": {
     "base_uri": "https://localhost:8080/"
    },
    "id": "8QlN_pJ_vPXM",
    "outputId": "06d27ab1-6515-4282-ef04-c6f3dc3403d5"
   },
   "outputs": [
    {
     "data": {
      "text/plain": [
       "user_id     targetlabel\n",
       "2426        0              2\n",
       "3968        0              2\n",
       "7755        0              1\n",
       "156763      0              1\n",
       "690463      0              1\n",
       "                          ..\n",
       "2925094346  1              1\n",
       "2927389322  0              1\n",
       "2927454722  0              1\n",
       "2927507078  1              1\n",
       "2927858006  0              1\n",
       "Name: tweet_id, Length: 4998, dtype: int64"
      ]
     },
     "execution_count": 45,
     "metadata": {},
     "output_type": "execute_result"
    }
   ],
   "source": [
    "temp_rumor.groupby(['user_id','targetlabel'])['tweet_id'].count()"
   ]
  },
  {
   "cell_type": "code",
   "execution_count": 46,
   "metadata": {
    "colab": {
     "base_uri": "https://localhost:8080/",
     "height": 486
    },
    "id": "5UbrjCDYvPXN",
    "outputId": "6e2b899b-c716-4e19-e3c5-a2d950fbce90"
   },
   "outputs": [
    {
     "data": {
      "text/html": [
       "<div>\n",
       "<style scoped>\n",
       "    .dataframe tbody tr th:only-of-type {\n",
       "        vertical-align: middle;\n",
       "    }\n",
       "\n",
       "    .dataframe tbody tr th {\n",
       "        vertical-align: top;\n",
       "    }\n",
       "\n",
       "    .dataframe thead tr th {\n",
       "        text-align: left;\n",
       "    }\n",
       "\n",
       "    .dataframe thead tr:last-of-type th {\n",
       "        text-align: right;\n",
       "    }\n",
       "</style>\n",
       "<table border=\"1\" class=\"dataframe\">\n",
       "  <thead>\n",
       "    <tr>\n",
       "      <th></th>\n",
       "      <th colspan=\"2\" halign=\"left\">tweet_id</th>\n",
       "    </tr>\n",
       "    <tr>\n",
       "      <th>targetlabel</th>\n",
       "      <th>0</th>\n",
       "      <th>1</th>\n",
       "    </tr>\n",
       "    <tr>\n",
       "      <th>user_id</th>\n",
       "      <th></th>\n",
       "      <th></th>\n",
       "    </tr>\n",
       "  </thead>\n",
       "  <tbody>\n",
       "    <tr>\n",
       "      <th>2426</th>\n",
       "      <td>2.0</td>\n",
       "      <td>NaN</td>\n",
       "    </tr>\n",
       "    <tr>\n",
       "      <th>3968</th>\n",
       "      <td>2.0</td>\n",
       "      <td>NaN</td>\n",
       "    </tr>\n",
       "    <tr>\n",
       "      <th>7755</th>\n",
       "      <td>1.0</td>\n",
       "      <td>NaN</td>\n",
       "    </tr>\n",
       "    <tr>\n",
       "      <th>156763</th>\n",
       "      <td>1.0</td>\n",
       "      <td>NaN</td>\n",
       "    </tr>\n",
       "    <tr>\n",
       "      <th>690463</th>\n",
       "      <td>1.0</td>\n",
       "      <td>NaN</td>\n",
       "    </tr>\n",
       "    <tr>\n",
       "      <th>...</th>\n",
       "      <td>...</td>\n",
       "      <td>...</td>\n",
       "    </tr>\n",
       "    <tr>\n",
       "      <th>2925094346</th>\n",
       "      <td>3.0</td>\n",
       "      <td>1.0</td>\n",
       "    </tr>\n",
       "    <tr>\n",
       "      <th>2927389322</th>\n",
       "      <td>1.0</td>\n",
       "      <td>NaN</td>\n",
       "    </tr>\n",
       "    <tr>\n",
       "      <th>2927454722</th>\n",
       "      <td>1.0</td>\n",
       "      <td>NaN</td>\n",
       "    </tr>\n",
       "    <tr>\n",
       "      <th>2927507078</th>\n",
       "      <td>NaN</td>\n",
       "      <td>1.0</td>\n",
       "    </tr>\n",
       "    <tr>\n",
       "      <th>2927858006</th>\n",
       "      <td>1.0</td>\n",
       "      <td>NaN</td>\n",
       "    </tr>\n",
       "  </tbody>\n",
       "</table>\n",
       "<p>4506 rows × 2 columns</p>\n",
       "</div>"
      ],
      "text/plain": [
       "            tweet_id     \n",
       "targetlabel        0    1\n",
       "user_id                  \n",
       "2426             2.0  NaN\n",
       "3968             2.0  NaN\n",
       "7755             1.0  NaN\n",
       "156763           1.0  NaN\n",
       "690463           1.0  NaN\n",
       "...              ...  ...\n",
       "2925094346       3.0  1.0\n",
       "2927389322       1.0  NaN\n",
       "2927454722       1.0  NaN\n",
       "2927507078       NaN  1.0\n",
       "2927858006       1.0  NaN\n",
       "\n",
       "[4506 rows x 2 columns]"
      ]
     },
     "execution_count": 46,
     "metadata": {},
     "output_type": "execute_result"
    }
   ],
   "source": [
    "users_reply = pd.pivot_table(temp_rumor, index=[\"user_id\"], columns=[\"targetlabel\"], values=[\"tweet_id\"], aggfunc='count')\n",
    "users_reply"
   ]
  },
  {
   "cell_type": "code",
   "execution_count": 47,
   "metadata": {
    "id": "UD-AB7ehvPXN"
   },
   "outputs": [],
   "source": [
    "nonoverlapping = users_reply[users_reply.isnull().any(axis=1)].index\n",
    "overlapping = users_reply[~users_reply.isnull().any(axis=1)].index"
   ]
  },
  {
   "cell_type": "code",
   "execution_count": 49,
   "metadata": {
    "colab": {
     "base_uri": "https://localhost:8080/"
    },
    "id": "ghoFqXJNvPXO",
    "outputId": "ca2353ac-6aa7-40aa-d5ef-e330a367a796"
   },
   "outputs": [
    {
     "data": {
      "text/plain": [
       "4506"
      ]
     },
     "execution_count": 49,
     "metadata": {},
     "output_type": "execute_result"
    }
   ],
   "source": [
    "len(overlapping) + len(nonoverlapping)"
   ]
  },
  {
   "cell_type": "code",
   "execution_count": 50,
   "metadata": {
    "colab": {
     "base_uri": "https://localhost:8080/"
    },
    "id": "lJ9OsJMRvPXP",
    "outputId": "040ff14f-fd55-4c73-942e-ced6b28f9b62"
   },
   "outputs": [
    {
     "name": "stdout",
     "output_type": "stream",
     "text": [
      "the total number of overlapping users is 492; the percentage of overlapping users is 0.11\n",
      "the total number of non-overlapping users is 4014; the percentage of non-overlapping users is 0.89\n"
     ]
    }
   ],
   "source": [
    "print(\"the total number of overlapping users is {}; the percentage of overlapping users is {:.2f}\".format(len(overlapping),len(overlapping)/no_users))\n",
    "print(\"the total number of non-overlapping users is {}; the percentage of non-overlapping users is {:.2f}\".format(len(nonoverlapping),len(nonoverlapping)/no_users))"
   ]
  },
  {
   "cell_type": "markdown",
   "metadata": {
    "id": "leJ4O2XuvPXP"
   },
   "source": [
    "## overlapping user analysis\n"
   ]
  },
  {
   "cell_type": "code",
   "execution_count": 51,
   "metadata": {
    "colab": {
     "base_uri": "https://localhost:8080/",
     "height": 455
    },
    "id": "257H6NrAvPXQ",
    "outputId": "dae58d16-f1fc-42bb-f1e5-c81e04ba3e6a"
   },
   "outputs": [
    {
     "data": {
      "text/html": [
       "<div>\n",
       "<style scoped>\n",
       "    .dataframe tbody tr th:only-of-type {\n",
       "        vertical-align: middle;\n",
       "    }\n",
       "\n",
       "    .dataframe tbody tr th {\n",
       "        vertical-align: top;\n",
       "    }\n",
       "\n",
       "    .dataframe thead th {\n",
       "        text-align: right;\n",
       "    }\n",
       "</style>\n",
       "<table border=\"1\" class=\"dataframe\">\n",
       "  <thead>\n",
       "    <tr style=\"text-align: right;\">\n",
       "      <th></th>\n",
       "      <th>non-target</th>\n",
       "      <th>target</th>\n",
       "    </tr>\n",
       "    <tr>\n",
       "      <th>user_id</th>\n",
       "      <th></th>\n",
       "      <th></th>\n",
       "    </tr>\n",
       "  </thead>\n",
       "  <tbody>\n",
       "    <tr>\n",
       "      <th>741803</th>\n",
       "      <td>3.0</td>\n",
       "      <td>1.0</td>\n",
       "    </tr>\n",
       "    <tr>\n",
       "      <th>5402612</th>\n",
       "      <td>1.0</td>\n",
       "      <td>2.0</td>\n",
       "    </tr>\n",
       "    <tr>\n",
       "      <th>7321402</th>\n",
       "      <td>4.0</td>\n",
       "      <td>1.0</td>\n",
       "    </tr>\n",
       "    <tr>\n",
       "      <th>7439352</th>\n",
       "      <td>3.0</td>\n",
       "      <td>1.0</td>\n",
       "    </tr>\n",
       "    <tr>\n",
       "      <th>9138142</th>\n",
       "      <td>2.0</td>\n",
       "      <td>1.0</td>\n",
       "    </tr>\n",
       "    <tr>\n",
       "      <th>...</th>\n",
       "      <td>...</td>\n",
       "      <td>...</td>\n",
       "    </tr>\n",
       "    <tr>\n",
       "      <th>2911502292</th>\n",
       "      <td>2.0</td>\n",
       "      <td>2.0</td>\n",
       "    </tr>\n",
       "    <tr>\n",
       "      <th>2912429401</th>\n",
       "      <td>1.0</td>\n",
       "      <td>1.0</td>\n",
       "    </tr>\n",
       "    <tr>\n",
       "      <th>2921091842</th>\n",
       "      <td>2.0</td>\n",
       "      <td>4.0</td>\n",
       "    </tr>\n",
       "    <tr>\n",
       "      <th>2921923060</th>\n",
       "      <td>2.0</td>\n",
       "      <td>1.0</td>\n",
       "    </tr>\n",
       "    <tr>\n",
       "      <th>2925094346</th>\n",
       "      <td>3.0</td>\n",
       "      <td>1.0</td>\n",
       "    </tr>\n",
       "  </tbody>\n",
       "</table>\n",
       "<p>492 rows × 2 columns</p>\n",
       "</div>"
      ],
      "text/plain": [
       "            non-target  target\n",
       "user_id                       \n",
       "741803             3.0     1.0\n",
       "5402612            1.0     2.0\n",
       "7321402            4.0     1.0\n",
       "7439352            3.0     1.0\n",
       "9138142            2.0     1.0\n",
       "...                ...     ...\n",
       "2911502292         2.0     2.0\n",
       "2912429401         1.0     1.0\n",
       "2921091842         2.0     4.0\n",
       "2921923060         2.0     1.0\n",
       "2925094346         3.0     1.0\n",
       "\n",
       "[492 rows x 2 columns]"
      ]
     },
     "execution_count": 51,
     "metadata": {},
     "output_type": "execute_result"
    }
   ],
   "source": [
    "overlapping_count = users_reply.loc[users_reply.index.isin(overlapping),]\n",
    "overlapping_count.columns = ['non-target','target']\n",
    "overlapping_count"
   ]
  },
  {
   "cell_type": "code",
   "execution_count": 52,
   "metadata": {
    "colab": {
     "base_uri": "https://localhost:8080/",
     "height": 455
    },
    "id": "i1-zg3oLvPXQ",
    "outputId": "0ddd4edb-18ee-48d2-8941-b5c278444b9c"
   },
   "outputs": [
    {
     "data": {
      "text/html": [
       "<div>\n",
       "<style scoped>\n",
       "    .dataframe tbody tr th:only-of-type {\n",
       "        vertical-align: middle;\n",
       "    }\n",
       "\n",
       "    .dataframe tbody tr th {\n",
       "        vertical-align: top;\n",
       "    }\n",
       "\n",
       "    .dataframe thead th {\n",
       "        text-align: right;\n",
       "    }\n",
       "</style>\n",
       "<table border=\"1\" class=\"dataframe\">\n",
       "  <thead>\n",
       "    <tr style=\"text-align: right;\">\n",
       "      <th></th>\n",
       "      <th>non-target</th>\n",
       "      <th>target</th>\n",
       "      <th>non-target(%)</th>\n",
       "      <th>target(%)</th>\n",
       "    </tr>\n",
       "    <tr>\n",
       "      <th>user_id</th>\n",
       "      <th></th>\n",
       "      <th></th>\n",
       "      <th></th>\n",
       "      <th></th>\n",
       "    </tr>\n",
       "  </thead>\n",
       "  <tbody>\n",
       "    <tr>\n",
       "      <th>741803</th>\n",
       "      <td>3.0</td>\n",
       "      <td>1.0</td>\n",
       "      <td>75.0</td>\n",
       "      <td>25.0</td>\n",
       "    </tr>\n",
       "    <tr>\n",
       "      <th>5402612</th>\n",
       "      <td>1.0</td>\n",
       "      <td>2.0</td>\n",
       "      <td>33.3</td>\n",
       "      <td>66.7</td>\n",
       "    </tr>\n",
       "    <tr>\n",
       "      <th>7321402</th>\n",
       "      <td>4.0</td>\n",
       "      <td>1.0</td>\n",
       "      <td>80.0</td>\n",
       "      <td>20.0</td>\n",
       "    </tr>\n",
       "    <tr>\n",
       "      <th>7439352</th>\n",
       "      <td>3.0</td>\n",
       "      <td>1.0</td>\n",
       "      <td>75.0</td>\n",
       "      <td>25.0</td>\n",
       "    </tr>\n",
       "    <tr>\n",
       "      <th>9138142</th>\n",
       "      <td>2.0</td>\n",
       "      <td>1.0</td>\n",
       "      <td>66.7</td>\n",
       "      <td>33.3</td>\n",
       "    </tr>\n",
       "    <tr>\n",
       "      <th>...</th>\n",
       "      <td>...</td>\n",
       "      <td>...</td>\n",
       "      <td>...</td>\n",
       "      <td>...</td>\n",
       "    </tr>\n",
       "    <tr>\n",
       "      <th>2911502292</th>\n",
       "      <td>2.0</td>\n",
       "      <td>2.0</td>\n",
       "      <td>50.0</td>\n",
       "      <td>50.0</td>\n",
       "    </tr>\n",
       "    <tr>\n",
       "      <th>2912429401</th>\n",
       "      <td>1.0</td>\n",
       "      <td>1.0</td>\n",
       "      <td>50.0</td>\n",
       "      <td>50.0</td>\n",
       "    </tr>\n",
       "    <tr>\n",
       "      <th>2921091842</th>\n",
       "      <td>2.0</td>\n",
       "      <td>4.0</td>\n",
       "      <td>33.3</td>\n",
       "      <td>66.7</td>\n",
       "    </tr>\n",
       "    <tr>\n",
       "      <th>2921923060</th>\n",
       "      <td>2.0</td>\n",
       "      <td>1.0</td>\n",
       "      <td>66.7</td>\n",
       "      <td>33.3</td>\n",
       "    </tr>\n",
       "    <tr>\n",
       "      <th>2925094346</th>\n",
       "      <td>3.0</td>\n",
       "      <td>1.0</td>\n",
       "      <td>75.0</td>\n",
       "      <td>25.0</td>\n",
       "    </tr>\n",
       "  </tbody>\n",
       "</table>\n",
       "<p>492 rows × 4 columns</p>\n",
       "</div>"
      ],
      "text/plain": [
       "            non-target  target  non-target(%)  target(%)\n",
       "user_id                                                 \n",
       "741803             3.0     1.0           75.0       25.0\n",
       "5402612            1.0     2.0           33.3       66.7\n",
       "7321402            4.0     1.0           80.0       20.0\n",
       "7439352            3.0     1.0           75.0       25.0\n",
       "9138142            2.0     1.0           66.7       33.3\n",
       "...                ...     ...            ...        ...\n",
       "2911502292         2.0     2.0           50.0       50.0\n",
       "2912429401         1.0     1.0           50.0       50.0\n",
       "2921091842         2.0     4.0           33.3       66.7\n",
       "2921923060         2.0     1.0           66.7       33.3\n",
       "2925094346         3.0     1.0           75.0       25.0\n",
       "\n",
       "[492 rows x 4 columns]"
      ]
     },
     "execution_count": 52,
     "metadata": {},
     "output_type": "execute_result"
    }
   ],
   "source": [
    "overlapping_per = overlapping_count.div(overlapping_count.sum(axis=1), axis=0).round(3)*100\n",
    "overlapping_count = pd.merge(overlapping_count, overlapping_per,on='user_id',suffixes=['','(%)'])\n",
    "overlapping_count"
   ]
  },
  {
   "cell_type": "code",
   "execution_count": 53,
   "metadata": {
    "colab": {
     "base_uri": "https://localhost:8080/"
    },
    "id": "u9Jgyk-wvPXR",
    "outputId": "4ebd5e4d-461a-41cf-8647-c832613af6db"
   },
   "outputs": [
    {
     "name": "stderr",
     "output_type": "stream",
     "text": [
      "<ipython-input-53-4c8d2e1deb4a>:1: FutureWarning: The default dtype for empty Series will be 'object' instead of 'float64' in a future version. Specify a dtype explicitly to silence this warning.\n",
      "  overlapping_count['tendency'] = pd.Series()\n"
     ]
    }
   ],
   "source": [
    "overlapping_count['tendency'] = pd.Series()\n",
    "for i in range(len(overlapping)):\n",
    "  if overlapping_count.iloc[i,0] > overlapping_count.iloc[i,1]:\n",
    "    overlapping_count.iloc[i,4] = 'non-target'\n",
    "  elif overlapping_count.iloc[i,0] < overlapping_count.iloc[i,1]:\n",
    "   overlapping_count.iloc[i,4] ='target'\n",
    "  else:\n",
    "    overlapping_count.iloc[i,4] = 'neutral'"
   ]
  },
  {
   "cell_type": "code",
   "execution_count": 54,
   "metadata": {
    "colab": {
     "base_uri": "https://localhost:8080/",
     "height": 455
    },
    "id": "uEzegLJ4vPXS",
    "outputId": "4b0c4b74-a601-4596-e4c6-3246f6796d90"
   },
   "outputs": [
    {
     "data": {
      "text/html": [
       "<div>\n",
       "<style scoped>\n",
       "    .dataframe tbody tr th:only-of-type {\n",
       "        vertical-align: middle;\n",
       "    }\n",
       "\n",
       "    .dataframe tbody tr th {\n",
       "        vertical-align: top;\n",
       "    }\n",
       "\n",
       "    .dataframe thead th {\n",
       "        text-align: right;\n",
       "    }\n",
       "</style>\n",
       "<table border=\"1\" class=\"dataframe\">\n",
       "  <thead>\n",
       "    <tr style=\"text-align: right;\">\n",
       "      <th></th>\n",
       "      <th>non-target</th>\n",
       "      <th>target</th>\n",
       "      <th>non-target(%)</th>\n",
       "      <th>target(%)</th>\n",
       "      <th>tendency</th>\n",
       "    </tr>\n",
       "    <tr>\n",
       "      <th>user_id</th>\n",
       "      <th></th>\n",
       "      <th></th>\n",
       "      <th></th>\n",
       "      <th></th>\n",
       "      <th></th>\n",
       "    </tr>\n",
       "  </thead>\n",
       "  <tbody>\n",
       "    <tr>\n",
       "      <th>741803</th>\n",
       "      <td>3.0</td>\n",
       "      <td>1.0</td>\n",
       "      <td>75.0</td>\n",
       "      <td>25.0</td>\n",
       "      <td>non-target</td>\n",
       "    </tr>\n",
       "    <tr>\n",
       "      <th>5402612</th>\n",
       "      <td>1.0</td>\n",
       "      <td>2.0</td>\n",
       "      <td>33.3</td>\n",
       "      <td>66.7</td>\n",
       "      <td>target</td>\n",
       "    </tr>\n",
       "    <tr>\n",
       "      <th>7321402</th>\n",
       "      <td>4.0</td>\n",
       "      <td>1.0</td>\n",
       "      <td>80.0</td>\n",
       "      <td>20.0</td>\n",
       "      <td>non-target</td>\n",
       "    </tr>\n",
       "    <tr>\n",
       "      <th>7439352</th>\n",
       "      <td>3.0</td>\n",
       "      <td>1.0</td>\n",
       "      <td>75.0</td>\n",
       "      <td>25.0</td>\n",
       "      <td>non-target</td>\n",
       "    </tr>\n",
       "    <tr>\n",
       "      <th>9138142</th>\n",
       "      <td>2.0</td>\n",
       "      <td>1.0</td>\n",
       "      <td>66.7</td>\n",
       "      <td>33.3</td>\n",
       "      <td>non-target</td>\n",
       "    </tr>\n",
       "    <tr>\n",
       "      <th>...</th>\n",
       "      <td>...</td>\n",
       "      <td>...</td>\n",
       "      <td>...</td>\n",
       "      <td>...</td>\n",
       "      <td>...</td>\n",
       "    </tr>\n",
       "    <tr>\n",
       "      <th>2911502292</th>\n",
       "      <td>2.0</td>\n",
       "      <td>2.0</td>\n",
       "      <td>50.0</td>\n",
       "      <td>50.0</td>\n",
       "      <td>neutral</td>\n",
       "    </tr>\n",
       "    <tr>\n",
       "      <th>2912429401</th>\n",
       "      <td>1.0</td>\n",
       "      <td>1.0</td>\n",
       "      <td>50.0</td>\n",
       "      <td>50.0</td>\n",
       "      <td>neutral</td>\n",
       "    </tr>\n",
       "    <tr>\n",
       "      <th>2921091842</th>\n",
       "      <td>2.0</td>\n",
       "      <td>4.0</td>\n",
       "      <td>33.3</td>\n",
       "      <td>66.7</td>\n",
       "      <td>target</td>\n",
       "    </tr>\n",
       "    <tr>\n",
       "      <th>2921923060</th>\n",
       "      <td>2.0</td>\n",
       "      <td>1.0</td>\n",
       "      <td>66.7</td>\n",
       "      <td>33.3</td>\n",
       "      <td>non-target</td>\n",
       "    </tr>\n",
       "    <tr>\n",
       "      <th>2925094346</th>\n",
       "      <td>3.0</td>\n",
       "      <td>1.0</td>\n",
       "      <td>75.0</td>\n",
       "      <td>25.0</td>\n",
       "      <td>non-target</td>\n",
       "    </tr>\n",
       "  </tbody>\n",
       "</table>\n",
       "<p>492 rows × 5 columns</p>\n",
       "</div>"
      ],
      "text/plain": [
       "            non-target  target  non-target(%)  target(%)    tendency\n",
       "user_id                                                             \n",
       "741803             3.0     1.0           75.0       25.0  non-target\n",
       "5402612            1.0     2.0           33.3       66.7      target\n",
       "7321402            4.0     1.0           80.0       20.0  non-target\n",
       "7439352            3.0     1.0           75.0       25.0  non-target\n",
       "9138142            2.0     1.0           66.7       33.3  non-target\n",
       "...                ...     ...            ...        ...         ...\n",
       "2911502292         2.0     2.0           50.0       50.0     neutral\n",
       "2912429401         1.0     1.0           50.0       50.0     neutral\n",
       "2921091842         2.0     4.0           33.3       66.7      target\n",
       "2921923060         2.0     1.0           66.7       33.3  non-target\n",
       "2925094346         3.0     1.0           75.0       25.0  non-target\n",
       "\n",
       "[492 rows x 5 columns]"
      ]
     },
     "execution_count": 54,
     "metadata": {},
     "output_type": "execute_result"
    }
   ],
   "source": [
    "overlapping_count"
   ]
  },
  {
   "cell_type": "code",
   "execution_count": 56,
   "metadata": {
    "colab": {
     "base_uri": "https://localhost:8080/"
    },
    "id": "2FQ6dIL6vPXS",
    "outputId": "566a295e-6235-4d4b-f523-44a9821fa682"
   },
   "outputs": [
    {
     "name": "stdout",
     "output_type": "stream",
     "text": [
      "neutral       211\n",
      "non-target    192\n",
      "target         89\n",
      "Name: tendency, dtype: int64\n"
     ]
    },
    {
     "data": {
      "text/plain": [
       "neutral       0.428862\n",
       "non-target    0.390244\n",
       "target        0.180894\n",
       "Name: tendency, dtype: float64"
      ]
     },
     "execution_count": 56,
     "metadata": {},
     "output_type": "execute_result"
    }
   ],
   "source": [
    "print(overlapping_count.tendency.value_counts())\n",
    "overlapping_count.tendency.value_counts(normalize=True)"
   ]
  },
  {
   "cell_type": "code",
   "execution_count": 57,
   "metadata": {
    "colab": {
     "base_uri": "https://localhost:8080/",
     "height": 297
    },
    "id": "Qr4kK0O2vPXT",
    "outputId": "4931480f-6907-4dc1-acac-ccf582eeb225"
   },
   "outputs": [
    {
     "data": {
      "text/plain": [
       "<AxesSubplot:xlabel='tendency', ylabel='count'>"
      ]
     },
     "execution_count": 57,
     "metadata": {},
     "output_type": "execute_result"
    },
    {
     "data": {
      "image/png": "[encoded data removed]",
      "text/plain": [
       "<Figure size 432x288 with 1 Axes>"
      ]
     },
     "metadata": {
      "needs_background": "light"
     },
     "output_type": "display_data"
    }
   ],
   "source": [
    "sns.countplot(data = overlapping_count, x = 'tendency',order = ['target','non-target','neutral'])"
   ]
  },
  {
   "cell_type": "markdown",
   "metadata": {
    "id": "qcZPmK4ZvPXU"
   },
   "source": [
    "## non-overlapping user analysis\n"
   ]
  },
  {
   "cell_type": "code",
   "execution_count": 58,
   "metadata": {
    "colab": {
     "base_uri": "https://localhost:8080/",
     "height": 455
    },
    "id": "e-dEpdZAvPXU",
    "outputId": "5699e18b-fa70-4c99-ee3c-a895123111cf"
   },
   "outputs": [
    {
     "data": {
      "text/html": [
       "<div>\n",
       "<style scoped>\n",
       "    .dataframe tbody tr th:only-of-type {\n",
       "        vertical-align: middle;\n",
       "    }\n",
       "\n",
       "    .dataframe tbody tr th {\n",
       "        vertical-align: top;\n",
       "    }\n",
       "\n",
       "    .dataframe thead th {\n",
       "        text-align: right;\n",
       "    }\n",
       "</style>\n",
       "<table border=\"1\" class=\"dataframe\">\n",
       "  <thead>\n",
       "    <tr style=\"text-align: right;\">\n",
       "      <th></th>\n",
       "      <th>non-target</th>\n",
       "      <th>target</th>\n",
       "    </tr>\n",
       "    <tr>\n",
       "      <th>user_id</th>\n",
       "      <th></th>\n",
       "      <th></th>\n",
       "    </tr>\n",
       "  </thead>\n",
       "  <tbody>\n",
       "    <tr>\n",
       "      <th>2426</th>\n",
       "      <td>2.0</td>\n",
       "      <td>NaN</td>\n",
       "    </tr>\n",
       "    <tr>\n",
       "      <th>3968</th>\n",
       "      <td>2.0</td>\n",
       "      <td>NaN</td>\n",
       "    </tr>\n",
       "    <tr>\n",
       "      <th>7755</th>\n",
       "      <td>1.0</td>\n",
       "      <td>NaN</td>\n",
       "    </tr>\n",
       "    <tr>\n",
       "      <th>156763</th>\n",
       "      <td>1.0</td>\n",
       "      <td>NaN</td>\n",
       "    </tr>\n",
       "    <tr>\n",
       "      <th>690463</th>\n",
       "      <td>1.0</td>\n",
       "      <td>NaN</td>\n",
       "    </tr>\n",
       "    <tr>\n",
       "      <th>...</th>\n",
       "      <td>...</td>\n",
       "      <td>...</td>\n",
       "    </tr>\n",
       "    <tr>\n",
       "      <th>2924117172</th>\n",
       "      <td>1.0</td>\n",
       "      <td>NaN</td>\n",
       "    </tr>\n",
       "    <tr>\n",
       "      <th>2927389322</th>\n",
       "      <td>1.0</td>\n",
       "      <td>NaN</td>\n",
       "    </tr>\n",
       "    <tr>\n",
       "      <th>2927454722</th>\n",
       "      <td>1.0</td>\n",
       "      <td>NaN</td>\n",
       "    </tr>\n",
       "    <tr>\n",
       "      <th>2927507078</th>\n",
       "      <td>NaN</td>\n",
       "      <td>1.0</td>\n",
       "    </tr>\n",
       "    <tr>\n",
       "      <th>2927858006</th>\n",
       "      <td>1.0</td>\n",
       "      <td>NaN</td>\n",
       "    </tr>\n",
       "  </tbody>\n",
       "</table>\n",
       "<p>4014 rows × 2 columns</p>\n",
       "</div>"
      ],
      "text/plain": [
       "            non-target  target\n",
       "user_id                       \n",
       "2426               2.0     NaN\n",
       "3968               2.0     NaN\n",
       "7755               1.0     NaN\n",
       "156763             1.0     NaN\n",
       "690463             1.0     NaN\n",
       "...                ...     ...\n",
       "2924117172         1.0     NaN\n",
       "2927389322         1.0     NaN\n",
       "2927454722         1.0     NaN\n",
       "2927507078         NaN     1.0\n",
       "2927858006         1.0     NaN\n",
       "\n",
       "[4014 rows x 2 columns]"
      ]
     },
     "execution_count": 58,
     "metadata": {},
     "output_type": "execute_result"
    }
   ],
   "source": [
    "nonoverlapping_count = users_reply.loc[users_reply.index.isin(nonoverlapping),]\n",
    "nonoverlapping_count.columns = ['non-target','target']\n",
    "nonoverlapping_count"
   ]
  },
  {
   "cell_type": "code",
   "execution_count": 59,
   "metadata": {
    "colab": {
     "base_uri": "https://localhost:8080/"
    },
    "id": "WyegtKFlvPXV",
    "outputId": "c7356277-62af-49ba-aa9f-ea0a7c608ee9"
   },
   "outputs": [
    {
     "name": "stderr",
     "output_type": "stream",
     "text": [
      "<ipython-input-59-88b0360c8225>:1: FutureWarning: The default dtype for empty Series will be 'object' instead of 'float64' in a future version. Specify a dtype explicitly to silence this warning.\n",
      "  nonoverlapping_count['tendency'] = pd.Series()\n",
      "<ipython-input-59-88b0360c8225>:1: SettingWithCopyWarning: \n",
      "A value is trying to be set on a copy of a slice from a DataFrame.\n",
      "Try using .loc[row_indexer,col_indexer] = value instead\n",
      "\n",
      "See the caveats in the documentation: https://pandas.pydata.org/pandas-docs/stable/user_guide/indexing.html#returning-a-view-versus-a-copy\n",
      "  nonoverlapping_count['tendency'] = pd.Series()\n"
     ]
    }
   ],
   "source": [
    "nonoverlapping_count['tendency'] = pd.Series()\n",
    "for i in range(len(nonoverlapping)):\n",
    "  if nonoverlapping_count.iloc[i,0] >= 1 :\n",
    "    nonoverlapping_count.iloc[i,2] = 'non-target'\n",
    "  elif nonoverlapping_count.iloc[i,1] >= 1:\n",
    "    nonoverlapping_count.iloc[i,2] = 'target'"
   ]
  },
  {
   "cell_type": "code",
   "execution_count": 60,
   "metadata": {
    "colab": {
     "base_uri": "https://localhost:8080/",
     "height": 473
    },
    "id": "95r0nG22vPXV",
    "outputId": "b6be265a-6ef3-4c50-8cbb-634dba5fa1b6"
   },
   "outputs": [
    {
     "name": "stdout",
     "output_type": "stream",
     "text": [
      "0\n"
     ]
    },
    {
     "data": {
      "text/html": [
       "<div>\n",
       "<style scoped>\n",
       "    .dataframe tbody tr th:only-of-type {\n",
       "        vertical-align: middle;\n",
       "    }\n",
       "\n",
       "    .dataframe tbody tr th {\n",
       "        vertical-align: top;\n",
       "    }\n",
       "\n",
       "    .dataframe thead th {\n",
       "        text-align: right;\n",
       "    }\n",
       "</style>\n",
       "<table border=\"1\" class=\"dataframe\">\n",
       "  <thead>\n",
       "    <tr style=\"text-align: right;\">\n",
       "      <th></th>\n",
       "      <th>non-target</th>\n",
       "      <th>target</th>\n",
       "      <th>tendency</th>\n",
       "    </tr>\n",
       "    <tr>\n",
       "      <th>user_id</th>\n",
       "      <th></th>\n",
       "      <th></th>\n",
       "      <th></th>\n",
       "    </tr>\n",
       "  </thead>\n",
       "  <tbody>\n",
       "    <tr>\n",
       "      <th>2426</th>\n",
       "      <td>2.0</td>\n",
       "      <td>NaN</td>\n",
       "      <td>non-target</td>\n",
       "    </tr>\n",
       "    <tr>\n",
       "      <th>3968</th>\n",
       "      <td>2.0</td>\n",
       "      <td>NaN</td>\n",
       "      <td>non-target</td>\n",
       "    </tr>\n",
       "    <tr>\n",
       "      <th>7755</th>\n",
       "      <td>1.0</td>\n",
       "      <td>NaN</td>\n",
       "      <td>non-target</td>\n",
       "    </tr>\n",
       "    <tr>\n",
       "      <th>156763</th>\n",
       "      <td>1.0</td>\n",
       "      <td>NaN</td>\n",
       "      <td>non-target</td>\n",
       "    </tr>\n",
       "    <tr>\n",
       "      <th>690463</th>\n",
       "      <td>1.0</td>\n",
       "      <td>NaN</td>\n",
       "      <td>non-target</td>\n",
       "    </tr>\n",
       "    <tr>\n",
       "      <th>...</th>\n",
       "      <td>...</td>\n",
       "      <td>...</td>\n",
       "      <td>...</td>\n",
       "    </tr>\n",
       "    <tr>\n",
       "      <th>2924117172</th>\n",
       "      <td>1.0</td>\n",
       "      <td>NaN</td>\n",
       "      <td>non-target</td>\n",
       "    </tr>\n",
       "    <tr>\n",
       "      <th>2927389322</th>\n",
       "      <td>1.0</td>\n",
       "      <td>NaN</td>\n",
       "      <td>non-target</td>\n",
       "    </tr>\n",
       "    <tr>\n",
       "      <th>2927454722</th>\n",
       "      <td>1.0</td>\n",
       "      <td>NaN</td>\n",
       "      <td>non-target</td>\n",
       "    </tr>\n",
       "    <tr>\n",
       "      <th>2927507078</th>\n",
       "      <td>NaN</td>\n",
       "      <td>1.0</td>\n",
       "      <td>target</td>\n",
       "    </tr>\n",
       "    <tr>\n",
       "      <th>2927858006</th>\n",
       "      <td>1.0</td>\n",
       "      <td>NaN</td>\n",
       "      <td>non-target</td>\n",
       "    </tr>\n",
       "  </tbody>\n",
       "</table>\n",
       "<p>4014 rows × 3 columns</p>\n",
       "</div>"
      ],
      "text/plain": [
       "            non-target  target    tendency\n",
       "user_id                                   \n",
       "2426               2.0     NaN  non-target\n",
       "3968               2.0     NaN  non-target\n",
       "7755               1.0     NaN  non-target\n",
       "156763             1.0     NaN  non-target\n",
       "690463             1.0     NaN  non-target\n",
       "...                ...     ...         ...\n",
       "2924117172         1.0     NaN  non-target\n",
       "2927389322         1.0     NaN  non-target\n",
       "2927454722         1.0     NaN  non-target\n",
       "2927507078         NaN     1.0      target\n",
       "2927858006         1.0     NaN  non-target\n",
       "\n",
       "[4014 rows x 3 columns]"
      ]
     },
     "execution_count": 60,
     "metadata": {},
     "output_type": "execute_result"
    }
   ],
   "source": [
    "print(nonoverlapping_count.tendency.isnull().sum())\n",
    "nonoverlapping_count"
   ]
  },
  {
   "cell_type": "code",
   "execution_count": 62,
   "metadata": {
    "colab": {
     "base_uri": "https://localhost:8080/"
    },
    "id": "RGGOwO-TvPXW",
    "outputId": "31ab6ddd-6d78-4ef5-ff12-80ced279640e"
   },
   "outputs": [
    {
     "name": "stdout",
     "output_type": "stream",
     "text": [
      "non-target    3197\n",
      "target         817\n",
      "Name: tendency, dtype: int64\n"
     ]
    },
    {
     "data": {
      "text/plain": [
       "non-target    0.796462\n",
       "target        0.203538\n",
       "Name: tendency, dtype: float64"
      ]
     },
     "execution_count": 62,
     "metadata": {},
     "output_type": "execute_result"
    }
   ],
   "source": [
    "print(nonoverlapping_count.tendency.value_counts())\n",
    "nonoverlapping_count.tendency.value_counts(normalize=True)"
   ]
  },
  {
   "cell_type": "code",
   "execution_count": 63,
   "metadata": {
    "colab": {
     "base_uri": "https://localhost:8080/",
     "height": 297
    },
    "id": "aoH-a82QvPXW",
    "outputId": "442711bd-de35-45aa-bd58-909174ebd2cc"
   },
   "outputs": [
    {
     "data": {
      "text/plain": [
       "<AxesSubplot:xlabel='tendency', ylabel='count'>"
      ]
     },
     "execution_count": 63,
     "metadata": {},
     "output_type": "execute_result"
    },
    {
     "data": {
      "image/png": "[encoded data removed]",
      "text/plain": [
       "<Figure size 432x288 with 1 Axes>"
      ]
     },
     "metadata": {
      "needs_background": "light"
     },
     "output_type": "display_data"
    }
   ],
   "source": [
    "sns.countplot(data = nonoverlapping_count, x = 'tendency',order = ['target','non-target'])"
   ]
  },
  {
   "cell_type": "markdown",
   "metadata": {
    "id": "CxQYmG5LFrDM"
   },
   "source": [
    "# Who both users of source tweet & replies "
   ]
  },
  {
   "cell_type": "code",
   "execution_count": null,
   "metadata": {
    "id": "caMPFmb_xMum"
   },
   "outputs": [],
   "source": [
    "combined_data = pd.read_csv('combined_rumor_target.csv',encoding='utf-8',header=0,index_col=0)"
   ]
  },
  {
   "cell_type": "code",
   "execution_count": 64,
   "metadata": {
    "id": "ahBeFgO8GQEJ"
   },
   "outputs": [],
   "source": [
    "src_reply  = pd.pivot_table(combined_data, index=[\"user_id\"], columns=[\"src_reply\"], values=[\"tweet_id\"], aggfunc='count')\n",
    "\n",
    "src_reply_userid = src_reply[~src_reply.isnull().any(axis=1)].index"
   ]
  },
  {
   "cell_type": "code",
   "execution_count": 65,
   "metadata": {
    "colab": {
     "base_uri": "https://localhost:8080/"
    },
    "id": "8eCsqNetF4Wt",
    "outputId": "546fcb8c-c163-4c62-bff2-74d721b0304e"
   },
   "outputs": [
    {
     "data": {
      "text/plain": [
       "37"
      ]
     },
     "execution_count": 65,
     "metadata": {},
     "output_type": "execute_result"
    }
   ],
   "source": [
    "len(src_reply_userid)"
   ]
  },
  {
   "cell_type": "code",
   "execution_count": 83,
   "metadata": {
    "colab": {
     "base_uri": "https://localhost:8080/",
     "height": 959
    },
    "id": "2DRMAgKyG9a1",
    "outputId": "ad8c78f8-01e0-4154-d0d0-edd6f46b8831"
   },
   "outputs": [
    {
     "data": {
      "text/html": [
       "<div>\n",
       "<style scoped>\n",
       "    .dataframe tbody tr th:only-of-type {\n",
       "        vertical-align: middle;\n",
       "    }\n",
       "\n",
       "    .dataframe tbody tr th {\n",
       "        vertical-align: top;\n",
       "    }\n",
       "\n",
       "    .dataframe thead th {\n",
       "        text-align: right;\n",
       "    }\n",
       "</style>\n",
       "<table border=\"1\" class=\"dataframe\">\n",
       "  <thead>\n",
       "    <tr style=\"text-align: right;\">\n",
       "      <th></th>\n",
       "      <th>non-target</th>\n",
       "      <th>target</th>\n",
       "    </tr>\n",
       "    <tr>\n",
       "      <th>user_id</th>\n",
       "      <th></th>\n",
       "      <th></th>\n",
       "    </tr>\n",
       "  </thead>\n",
       "  <tbody>\n",
       "    <tr>\n",
       "      <th>5402612</th>\n",
       "      <td>16.0</td>\n",
       "      <td>2.0</td>\n",
       "    </tr>\n",
       "    <tr>\n",
       "      <th>9507342</th>\n",
       "      <td>4.0</td>\n",
       "      <td>NaN</td>\n",
       "    </tr>\n",
       "    <tr>\n",
       "      <th>14173315</th>\n",
       "      <td>6.0</td>\n",
       "      <td>1.0</td>\n",
       "    </tr>\n",
       "    <tr>\n",
       "      <th>14460241</th>\n",
       "      <td>3.0</td>\n",
       "      <td>NaN</td>\n",
       "    </tr>\n",
       "    <tr>\n",
       "      <th>14515799</th>\n",
       "      <td>2.0</td>\n",
       "      <td>NaN</td>\n",
       "    </tr>\n",
       "    <tr>\n",
       "      <th>15250661</th>\n",
       "      <td>5.0</td>\n",
       "      <td>NaN</td>\n",
       "    </tr>\n",
       "    <tr>\n",
       "      <th>16930489</th>\n",
       "      <td>1.0</td>\n",
       "      <td>1.0</td>\n",
       "    </tr>\n",
       "    <tr>\n",
       "      <th>17919393</th>\n",
       "      <td>2.0</td>\n",
       "      <td>1.0</td>\n",
       "    </tr>\n",
       "    <tr>\n",
       "      <th>18965916</th>\n",
       "      <td>2.0</td>\n",
       "      <td>NaN</td>\n",
       "    </tr>\n",
       "    <tr>\n",
       "      <th>20639175</th>\n",
       "      <td>8.0</td>\n",
       "      <td>3.0</td>\n",
       "    </tr>\n",
       "    <tr>\n",
       "      <th>22931893</th>\n",
       "      <td>8.0</td>\n",
       "      <td>1.0</td>\n",
       "    </tr>\n",
       "    <tr>\n",
       "      <th>23055689</th>\n",
       "      <td>2.0</td>\n",
       "      <td>NaN</td>\n",
       "    </tr>\n",
       "    <tr>\n",
       "      <th>27831488</th>\n",
       "      <td>3.0</td>\n",
       "      <td>NaN</td>\n",
       "    </tr>\n",
       "    <tr>\n",
       "      <th>46078438</th>\n",
       "      <td>NaN</td>\n",
       "      <td>2.0</td>\n",
       "    </tr>\n",
       "    <tr>\n",
       "      <th>49591803</th>\n",
       "      <td>2.0</td>\n",
       "      <td>3.0</td>\n",
       "    </tr>\n",
       "    <tr>\n",
       "      <th>64643056</th>\n",
       "      <td>21.0</td>\n",
       "      <td>6.0</td>\n",
       "    </tr>\n",
       "    <tr>\n",
       "      <th>74014041</th>\n",
       "      <td>5.0</td>\n",
       "      <td>4.0</td>\n",
       "    </tr>\n",
       "    <tr>\n",
       "      <th>115393565</th>\n",
       "      <td>NaN</td>\n",
       "      <td>2.0</td>\n",
       "    </tr>\n",
       "    <tr>\n",
       "      <th>136191905</th>\n",
       "      <td>2.0</td>\n",
       "      <td>1.0</td>\n",
       "    </tr>\n",
       "    <tr>\n",
       "      <th>146765658</th>\n",
       "      <td>2.0</td>\n",
       "      <td>NaN</td>\n",
       "    </tr>\n",
       "    <tr>\n",
       "      <th>162304163</th>\n",
       "      <td>3.0</td>\n",
       "      <td>NaN</td>\n",
       "    </tr>\n",
       "    <tr>\n",
       "      <th>182251918</th>\n",
       "      <td>NaN</td>\n",
       "      <td>2.0</td>\n",
       "    </tr>\n",
       "    <tr>\n",
       "      <th>254873869</th>\n",
       "      <td>2.0</td>\n",
       "      <td>NaN</td>\n",
       "    </tr>\n",
       "    <tr>\n",
       "      <th>291859009</th>\n",
       "      <td>2.0</td>\n",
       "      <td>NaN</td>\n",
       "    </tr>\n",
       "    <tr>\n",
       "      <th>322572436</th>\n",
       "      <td>3.0</td>\n",
       "      <td>1.0</td>\n",
       "    </tr>\n",
       "    <tr>\n",
       "      <th>393469195</th>\n",
       "      <td>NaN</td>\n",
       "      <td>2.0</td>\n",
       "    </tr>\n",
       "    <tr>\n",
       "      <th>464311706</th>\n",
       "      <td>3.0</td>\n",
       "      <td>NaN</td>\n",
       "    </tr>\n",
       "    <tr>\n",
       "      <th>499696436</th>\n",
       "      <td>3.0</td>\n",
       "      <td>NaN</td>\n",
       "    </tr>\n",
       "    <tr>\n",
       "      <th>508110571</th>\n",
       "      <td>17.0</td>\n",
       "      <td>7.0</td>\n",
       "    </tr>\n",
       "    <tr>\n",
       "      <th>548203324</th>\n",
       "      <td>2.0</td>\n",
       "      <td>NaN</td>\n",
       "    </tr>\n",
       "    <tr>\n",
       "      <th>718612494</th>\n",
       "      <td>1.0</td>\n",
       "      <td>1.0</td>\n",
       "    </tr>\n",
       "    <tr>\n",
       "      <th>872683897</th>\n",
       "      <td>1.0</td>\n",
       "      <td>1.0</td>\n",
       "    </tr>\n",
       "    <tr>\n",
       "      <th>1056552596</th>\n",
       "      <td>2.0</td>\n",
       "      <td>1.0</td>\n",
       "    </tr>\n",
       "    <tr>\n",
       "      <th>1672611397</th>\n",
       "      <td>11.0</td>\n",
       "      <td>3.0</td>\n",
       "    </tr>\n",
       "    <tr>\n",
       "      <th>2163076560</th>\n",
       "      <td>2.0</td>\n",
       "      <td>NaN</td>\n",
       "    </tr>\n",
       "    <tr>\n",
       "      <th>2271035214</th>\n",
       "      <td>3.0</td>\n",
       "      <td>NaN</td>\n",
       "    </tr>\n",
       "    <tr>\n",
       "      <th>2738397743</th>\n",
       "      <td>4.0</td>\n",
       "      <td>3.0</td>\n",
       "    </tr>\n",
       "  </tbody>\n",
       "</table>\n",
       "</div>"
      ],
      "text/plain": [
       "            non-target  target\n",
       "user_id                       \n",
       "5402612           16.0     2.0\n",
       "9507342            4.0     NaN\n",
       "14173315           6.0     1.0\n",
       "14460241           3.0     NaN\n",
       "14515799           2.0     NaN\n",
       "15250661           5.0     NaN\n",
       "16930489           1.0     1.0\n",
       "17919393           2.0     1.0\n",
       "18965916           2.0     NaN\n",
       "20639175           8.0     3.0\n",
       "22931893           8.0     1.0\n",
       "23055689           2.0     NaN\n",
       "27831488           3.0     NaN\n",
       "46078438           NaN     2.0\n",
       "49591803           2.0     3.0\n",
       "64643056          21.0     6.0\n",
       "74014041           5.0     4.0\n",
       "115393565          NaN     2.0\n",
       "136191905          2.0     1.0\n",
       "146765658          2.0     NaN\n",
       "162304163          3.0     NaN\n",
       "182251918          NaN     2.0\n",
       "254873869          2.0     NaN\n",
       "291859009          2.0     NaN\n",
       "322572436          3.0     1.0\n",
       "393469195          NaN     2.0\n",
       "464311706          3.0     NaN\n",
       "499696436          3.0     NaN\n",
       "508110571         17.0     7.0\n",
       "548203324          2.0     NaN\n",
       "718612494          1.0     1.0\n",
       "872683897          1.0     1.0\n",
       "1056552596         2.0     1.0\n",
       "1672611397        11.0     3.0\n",
       "2163076560         2.0     NaN\n",
       "2271035214         3.0     NaN\n",
       "2738397743         4.0     3.0"
      ]
     },
     "execution_count": 83,
     "metadata": {},
     "output_type": "execute_result"
    }
   ],
   "source": [
    "src_reply_user = combined_data[combined_data.user_id.isin(src_reply_userid)]\n",
    "user = pd.pivot_table(src_reply_user, index=[\"user_id\"], columns=[\"targetlabel\"], values=[\"tweet_id\"], aggfunc='count')\n",
    "user.columns = ['non-target','target']\n",
    "user"
   ]
  },
  {
   "cell_type": "code",
   "execution_count": 84,
   "metadata": {
    "colab": {
     "base_uri": "https://localhost:8080/"
    },
    "id": "-6iINDvoJpet",
    "outputId": "8ec92a22-ce6e-42b4-cfe2-e8c72185e8b1"
   },
   "outputs": [
    {
     "name": "stdout",
     "output_type": "stream",
     "text": [
      "the number of overlapping users among these 37 people: 17\n",
      "the number of non-overlapping users among these 37 people: 20\n"
     ]
    }
   ],
   "source": [
    "nonoverlap = user[user.isnull().any(axis=1)].index\n",
    "overlap = user[~user.isnull().any(axis=1)].index\n",
    "print(\"the number of overlapping users among these 37 people: {}\".format(len(overlap)))\n",
    "print(\"the number of non-overlapping users among these 37 people: {}\".format(len(nonoverlap)))"
   ]
  },
  {
   "cell_type": "code",
   "execution_count": 86,
   "metadata": {
    "colab": {
     "base_uri": "https://localhost:8080/",
     "height": 1000
    },
    "id": "rs4P6QA9Mpfp",
    "outputId": "bbc91f59-359c-4d81-af4c-edcde426aadb"
   },
   "outputs": [
    {
     "name": "stderr",
     "output_type": "stream",
     "text": [
      "<ipython-input-86-045f79bd29a2>:1: FutureWarning: The default dtype for empty Series will be 'object' instead of 'float64' in a future version. Specify a dtype explicitly to silence this warning.\n",
      "  user['overlap'] = pd.Series()\n"
     ]
    },
    {
     "data": {
      "text/html": [
       "<div>\n",
       "<style scoped>\n",
       "    .dataframe tbody tr th:only-of-type {\n",
       "        vertical-align: middle;\n",
       "    }\n",
       "\n",
       "    .dataframe tbody tr th {\n",
       "        vertical-align: top;\n",
       "    }\n",
       "\n",
       "    .dataframe thead th {\n",
       "        text-align: right;\n",
       "    }\n",
       "</style>\n",
       "<table border=\"1\" class=\"dataframe\">\n",
       "  <thead>\n",
       "    <tr style=\"text-align: right;\">\n",
       "      <th></th>\n",
       "      <th>non-target</th>\n",
       "      <th>target</th>\n",
       "      <th>overlap</th>\n",
       "    </tr>\n",
       "    <tr>\n",
       "      <th>user_id</th>\n",
       "      <th></th>\n",
       "      <th></th>\n",
       "      <th></th>\n",
       "    </tr>\n",
       "  </thead>\n",
       "  <tbody>\n",
       "    <tr>\n",
       "      <th>5402612</th>\n",
       "      <td>16.0</td>\n",
       "      <td>2.0</td>\n",
       "      <td>overlap</td>\n",
       "    </tr>\n",
       "    <tr>\n",
       "      <th>9507342</th>\n",
       "      <td>4.0</td>\n",
       "      <td>NaN</td>\n",
       "      <td>nonoverlap</td>\n",
       "    </tr>\n",
       "    <tr>\n",
       "      <th>14173315</th>\n",
       "      <td>6.0</td>\n",
       "      <td>1.0</td>\n",
       "      <td>overlap</td>\n",
       "    </tr>\n",
       "    <tr>\n",
       "      <th>14460241</th>\n",
       "      <td>3.0</td>\n",
       "      <td>NaN</td>\n",
       "      <td>nonoverlap</td>\n",
       "    </tr>\n",
       "    <tr>\n",
       "      <th>14515799</th>\n",
       "      <td>2.0</td>\n",
       "      <td>NaN</td>\n",
       "      <td>nonoverlap</td>\n",
       "    </tr>\n",
       "    <tr>\n",
       "      <th>15250661</th>\n",
       "      <td>5.0</td>\n",
       "      <td>NaN</td>\n",
       "      <td>nonoverlap</td>\n",
       "    </tr>\n",
       "    <tr>\n",
       "      <th>16930489</th>\n",
       "      <td>1.0</td>\n",
       "      <td>1.0</td>\n",
       "      <td>overlap</td>\n",
       "    </tr>\n",
       "    <tr>\n",
       "      <th>17919393</th>\n",
       "      <td>2.0</td>\n",
       "      <td>1.0</td>\n",
       "      <td>overlap</td>\n",
       "    </tr>\n",
       "    <tr>\n",
       "      <th>18965916</th>\n",
       "      <td>2.0</td>\n",
       "      <td>NaN</td>\n",
       "      <td>nonoverlap</td>\n",
       "    </tr>\n",
       "    <tr>\n",
       "      <th>20639175</th>\n",
       "      <td>8.0</td>\n",
       "      <td>3.0</td>\n",
       "      <td>overlap</td>\n",
       "    </tr>\n",
       "    <tr>\n",
       "      <th>22931893</th>\n",
       "      <td>8.0</td>\n",
       "      <td>1.0</td>\n",
       "      <td>overlap</td>\n",
       "    </tr>\n",
       "    <tr>\n",
       "      <th>23055689</th>\n",
       "      <td>2.0</td>\n",
       "      <td>NaN</td>\n",
       "      <td>nonoverlap</td>\n",
       "    </tr>\n",
       "    <tr>\n",
       "      <th>27831488</th>\n",
       "      <td>3.0</td>\n",
       "      <td>NaN</td>\n",
       "      <td>nonoverlap</td>\n",
       "    </tr>\n",
       "    <tr>\n",
       "      <th>46078438</th>\n",
       "      <td>NaN</td>\n",
       "      <td>2.0</td>\n",
       "      <td>nonoverlap</td>\n",
       "    </tr>\n",
       "    <tr>\n",
       "      <th>49591803</th>\n",
       "      <td>2.0</td>\n",
       "      <td>3.0</td>\n",
       "      <td>overlap</td>\n",
       "    </tr>\n",
       "    <tr>\n",
       "      <th>64643056</th>\n",
       "      <td>21.0</td>\n",
       "      <td>6.0</td>\n",
       "      <td>overlap</td>\n",
       "    </tr>\n",
       "    <tr>\n",
       "      <th>74014041</th>\n",
       "      <td>5.0</td>\n",
       "      <td>4.0</td>\n",
       "      <td>overlap</td>\n",
       "    </tr>\n",
       "    <tr>\n",
       "      <th>115393565</th>\n",
       "      <td>NaN</td>\n",
       "      <td>2.0</td>\n",
       "      <td>nonoverlap</td>\n",
       "    </tr>\n",
       "    <tr>\n",
       "      <th>136191905</th>\n",
       "      <td>2.0</td>\n",
       "      <td>1.0</td>\n",
       "      <td>overlap</td>\n",
       "    </tr>\n",
       "    <tr>\n",
       "      <th>146765658</th>\n",
       "      <td>2.0</td>\n",
       "      <td>NaN</td>\n",
       "      <td>nonoverlap</td>\n",
       "    </tr>\n",
       "    <tr>\n",
       "      <th>162304163</th>\n",
       "      <td>3.0</td>\n",
       "      <td>NaN</td>\n",
       "      <td>nonoverlap</td>\n",
       "    </tr>\n",
       "    <tr>\n",
       "      <th>182251918</th>\n",
       "      <td>NaN</td>\n",
       "      <td>2.0</td>\n",
       "      <td>nonoverlap</td>\n",
       "    </tr>\n",
       "    <tr>\n",
       "      <th>254873869</th>\n",
       "      <td>2.0</td>\n",
       "      <td>NaN</td>\n",
       "      <td>nonoverlap</td>\n",
       "    </tr>\n",
       "    <tr>\n",
       "      <th>291859009</th>\n",
       "      <td>2.0</td>\n",
       "      <td>NaN</td>\n",
       "      <td>nonoverlap</td>\n",
       "    </tr>\n",
       "    <tr>\n",
       "      <th>322572436</th>\n",
       "      <td>3.0</td>\n",
       "      <td>1.0</td>\n",
       "      <td>overlap</td>\n",
       "    </tr>\n",
       "    <tr>\n",
       "      <th>393469195</th>\n",
       "      <td>NaN</td>\n",
       "      <td>2.0</td>\n",
       "      <td>nonoverlap</td>\n",
       "    </tr>\n",
       "    <tr>\n",
       "      <th>464311706</th>\n",
       "      <td>3.0</td>\n",
       "      <td>NaN</td>\n",
       "      <td>nonoverlap</td>\n",
       "    </tr>\n",
       "    <tr>\n",
       "      <th>499696436</th>\n",
       "      <td>3.0</td>\n",
       "      <td>NaN</td>\n",
       "      <td>nonoverlap</td>\n",
       "    </tr>\n",
       "    <tr>\n",
       "      <th>508110571</th>\n",
       "      <td>17.0</td>\n",
       "      <td>7.0</td>\n",
       "      <td>overlap</td>\n",
       "    </tr>\n",
       "    <tr>\n",
       "      <th>548203324</th>\n",
       "      <td>2.0</td>\n",
       "      <td>NaN</td>\n",
       "      <td>nonoverlap</td>\n",
       "    </tr>\n",
       "    <tr>\n",
       "      <th>718612494</th>\n",
       "      <td>1.0</td>\n",
       "      <td>1.0</td>\n",
       "      <td>overlap</td>\n",
       "    </tr>\n",
       "    <tr>\n",
       "      <th>872683897</th>\n",
       "      <td>1.0</td>\n",
       "      <td>1.0</td>\n",
       "      <td>overlap</td>\n",
       "    </tr>\n",
       "    <tr>\n",
       "      <th>1056552596</th>\n",
       "      <td>2.0</td>\n",
       "      <td>1.0</td>\n",
       "      <td>overlap</td>\n",
       "    </tr>\n",
       "    <tr>\n",
       "      <th>1672611397</th>\n",
       "      <td>11.0</td>\n",
       "      <td>3.0</td>\n",
       "      <td>overlap</td>\n",
       "    </tr>\n",
       "    <tr>\n",
       "      <th>2163076560</th>\n",
       "      <td>2.0</td>\n",
       "      <td>NaN</td>\n",
       "      <td>nonoverlap</td>\n",
       "    </tr>\n",
       "    <tr>\n",
       "      <th>2271035214</th>\n",
       "      <td>3.0</td>\n",
       "      <td>NaN</td>\n",
       "      <td>nonoverlap</td>\n",
       "    </tr>\n",
       "    <tr>\n",
       "      <th>2738397743</th>\n",
       "      <td>4.0</td>\n",
       "      <td>3.0</td>\n",
       "      <td>overlap</td>\n",
       "    </tr>\n",
       "  </tbody>\n",
       "</table>\n",
       "</div>"
      ],
      "text/plain": [
       "            non-target  target     overlap\n",
       "user_id                                   \n",
       "5402612           16.0     2.0     overlap\n",
       "9507342            4.0     NaN  nonoverlap\n",
       "14173315           6.0     1.0     overlap\n",
       "14460241           3.0     NaN  nonoverlap\n",
       "14515799           2.0     NaN  nonoverlap\n",
       "15250661           5.0     NaN  nonoverlap\n",
       "16930489           1.0     1.0     overlap\n",
       "17919393           2.0     1.0     overlap\n",
       "18965916           2.0     NaN  nonoverlap\n",
       "20639175           8.0     3.0     overlap\n",
       "22931893           8.0     1.0     overlap\n",
       "23055689           2.0     NaN  nonoverlap\n",
       "27831488           3.0     NaN  nonoverlap\n",
       "46078438           NaN     2.0  nonoverlap\n",
       "49591803           2.0     3.0     overlap\n",
       "64643056          21.0     6.0     overlap\n",
       "74014041           5.0     4.0     overlap\n",
       "115393565          NaN     2.0  nonoverlap\n",
       "136191905          2.0     1.0     overlap\n",
       "146765658          2.0     NaN  nonoverlap\n",
       "162304163          3.0     NaN  nonoverlap\n",
       "182251918          NaN     2.0  nonoverlap\n",
       "254873869          2.0     NaN  nonoverlap\n",
       "291859009          2.0     NaN  nonoverlap\n",
       "322572436          3.0     1.0     overlap\n",
       "393469195          NaN     2.0  nonoverlap\n",
       "464311706          3.0     NaN  nonoverlap\n",
       "499696436          3.0     NaN  nonoverlap\n",
       "508110571         17.0     7.0     overlap\n",
       "548203324          2.0     NaN  nonoverlap\n",
       "718612494          1.0     1.0     overlap\n",
       "872683897          1.0     1.0     overlap\n",
       "1056552596         2.0     1.0     overlap\n",
       "1672611397        11.0     3.0     overlap\n",
       "2163076560         2.0     NaN  nonoverlap\n",
       "2271035214         3.0     NaN  nonoverlap\n",
       "2738397743         4.0     3.0     overlap"
      ]
     },
     "execution_count": 86,
     "metadata": {},
     "output_type": "execute_result"
    }
   ],
   "source": [
    "user['overlap'] = pd.Series()\n",
    "for i in user.index:\n",
    "  if i in nonoverlap:\n",
    "    user.loc[i,'overlap'] ='nonoverlap'\n",
    "  elif i in overlap:\n",
    "    user.loc[i,'overlap'] ='overlap'\n",
    "user"
   ]
  },
  {
   "cell_type": "code",
   "execution_count": 90,
   "metadata": {
    "colab": {
     "base_uri": "https://localhost:8080/",
     "height": 1000
    },
    "id": "HY7cIhKBMIaq",
    "outputId": "a84df29e-f058-4e61-f53a-a75b58c0735e"
   },
   "outputs": [
    {
     "name": "stdout",
     "output_type": "stream",
     "text": [
      "user_id\n",
      "5402612       18.0\n",
      "9507342        4.0\n",
      "14173315       7.0\n",
      "14460241       3.0\n",
      "14515799       2.0\n",
      "15250661       5.0\n",
      "16930489       2.0\n",
      "17919393       3.0\n",
      "18965916       2.0\n",
      "20639175      11.0\n",
      "22931893       9.0\n",
      "23055689       2.0\n",
      "27831488       3.0\n",
      "46078438       2.0\n",
      "49591803       5.0\n",
      "64643056      27.0\n",
      "74014041       9.0\n",
      "115393565      2.0\n",
      "136191905      3.0\n",
      "146765658      2.0\n",
      "162304163      3.0\n",
      "182251918      2.0\n",
      "254873869      2.0\n",
      "291859009      2.0\n",
      "322572436      4.0\n",
      "393469195      2.0\n",
      "464311706      3.0\n",
      "499696436      3.0\n",
      "508110571     24.0\n",
      "548203324      2.0\n",
      "718612494      2.0\n",
      "872683897      2.0\n",
      "1056552596     3.0\n",
      "1672611397    14.0\n",
      "2163076560     2.0\n",
      "2271035214     3.0\n",
      "2738397743     7.0\n",
      "dtype: float64\n",
      "count    37.000000\n",
      "mean      5.432432\n",
      "std       6.094353\n",
      "min       2.000000\n",
      "25%       2.000000\n",
      "50%       3.000000\n",
      "75%       5.000000\n",
      "max      27.000000\n",
      "dtype: float64\n"
     ]
    },
    {
     "name": "stderr",
     "output_type": "stream",
     "text": [
      "<ipython-input-90-1b1997f69b32>:1: FutureWarning: Dropping of nuisance columns in DataFrame reductions (with 'numeric_only=None') is deprecated; in a future version this will raise TypeError.  Select only valid columns before calling the reduction.\n",
      "  print(user.sum(axis =1))#.sort_values(ascending=False))\n",
      "<ipython-input-90-1b1997f69b32>:2: FutureWarning: Dropping of nuisance columns in DataFrame reductions (with 'numeric_only=None') is deprecated; in a future version this will raise TypeError.  Select only valid columns before calling the reduction.\n",
      "  print(user.sum(axis=1).describe())\n",
      "<ipython-input-90-1b1997f69b32>:3: FutureWarning: Dropping of nuisance columns in DataFrame reductions (with 'numeric_only=None') is deprecated; in a future version this will raise TypeError.  Select only valid columns before calling the reduction.\n",
      "  tw_count_hist = user.sum(axis=1).hist()\n"
     ]
    },
    {
     "data": {
      "text/plain": [
       "Text(0.5, 1.0, 'the distributon of tweets')"
      ]
     },
     "execution_count": 90,
     "metadata": {},
     "output_type": "execute_result"
    },
    {
     "data": {
      "image/png": "[encoded data removed]",
      "text/plain": [
       "<Figure size 432x288 with 1 Axes>"
      ]
     },
     "metadata": {
      "needs_background": "light"
     },
     "output_type": "display_data"
    }
   ],
   "source": [
    "print(user.sum(axis =1))#.sort_values(ascending=False))\n",
    "print(user.sum(axis=1).describe())\n",
    "tw_count_hist = user.sum(axis=1).hist()\n",
    "tw_count_hist.set_xlabel('the number of tweets posted by the 37 users')\n",
    "tw_count_hist.set_ylabel('count')\n",
    "tw_count_hist.set_title('the distributon of tweets')\n",
    "# plt.savefig('src_reply_count.pdf',dpi= 1000)  "
   ]
  },
  {
   "cell_type": "markdown",
   "metadata": {
    "id": "rZaPPd5M-K6a"
   },
   "source": [
    "## over-lapping users analysis"
   ]
  },
  {
   "cell_type": "code",
   "execution_count": 85,
   "metadata": {
    "colab": {
     "base_uri": "https://localhost:8080/",
     "height": 457
    },
    "id": "i46dC1t58jAh",
    "outputId": "114c8167-4104-49f7-fd36-f6784ec890c5"
   },
   "outputs": [
    {
     "data": {
      "text/html": [
       "<div>\n",
       "<style scoped>\n",
       "    .dataframe tbody tr th:only-of-type {\n",
       "        vertical-align: middle;\n",
       "    }\n",
       "\n",
       "    .dataframe tbody tr th {\n",
       "        vertical-align: top;\n",
       "    }\n",
       "\n",
       "    .dataframe thead th {\n",
       "        text-align: right;\n",
       "    }\n",
       "</style>\n",
       "<table border=\"1\" class=\"dataframe\">\n",
       "  <thead>\n",
       "    <tr style=\"text-align: right;\">\n",
       "      <th></th>\n",
       "      <th>non-target</th>\n",
       "      <th>target</th>\n",
       "    </tr>\n",
       "    <tr>\n",
       "      <th>user_id</th>\n",
       "      <th></th>\n",
       "      <th></th>\n",
       "    </tr>\n",
       "  </thead>\n",
       "  <tbody>\n",
       "    <tr>\n",
       "      <th>5402612</th>\n",
       "      <td>16.0</td>\n",
       "      <td>2.0</td>\n",
       "    </tr>\n",
       "    <tr>\n",
       "      <th>14173315</th>\n",
       "      <td>6.0</td>\n",
       "      <td>1.0</td>\n",
       "    </tr>\n",
       "    <tr>\n",
       "      <th>16930489</th>\n",
       "      <td>1.0</td>\n",
       "      <td>1.0</td>\n",
       "    </tr>\n",
       "    <tr>\n",
       "      <th>17919393</th>\n",
       "      <td>2.0</td>\n",
       "      <td>1.0</td>\n",
       "    </tr>\n",
       "    <tr>\n",
       "      <th>20639175</th>\n",
       "      <td>8.0</td>\n",
       "      <td>3.0</td>\n",
       "    </tr>\n",
       "    <tr>\n",
       "      <th>22931893</th>\n",
       "      <td>8.0</td>\n",
       "      <td>1.0</td>\n",
       "    </tr>\n",
       "    <tr>\n",
       "      <th>49591803</th>\n",
       "      <td>2.0</td>\n",
       "      <td>3.0</td>\n",
       "    </tr>\n",
       "    <tr>\n",
       "      <th>64643056</th>\n",
       "      <td>21.0</td>\n",
       "      <td>6.0</td>\n",
       "    </tr>\n",
       "    <tr>\n",
       "      <th>74014041</th>\n",
       "      <td>5.0</td>\n",
       "      <td>4.0</td>\n",
       "    </tr>\n",
       "    <tr>\n",
       "      <th>136191905</th>\n",
       "      <td>2.0</td>\n",
       "      <td>1.0</td>\n",
       "    </tr>\n",
       "    <tr>\n",
       "      <th>322572436</th>\n",
       "      <td>3.0</td>\n",
       "      <td>1.0</td>\n",
       "    </tr>\n",
       "    <tr>\n",
       "      <th>508110571</th>\n",
       "      <td>17.0</td>\n",
       "      <td>7.0</td>\n",
       "    </tr>\n",
       "    <tr>\n",
       "      <th>718612494</th>\n",
       "      <td>1.0</td>\n",
       "      <td>1.0</td>\n",
       "    </tr>\n",
       "    <tr>\n",
       "      <th>872683897</th>\n",
       "      <td>1.0</td>\n",
       "      <td>1.0</td>\n",
       "    </tr>\n",
       "    <tr>\n",
       "      <th>1056552596</th>\n",
       "      <td>2.0</td>\n",
       "      <td>1.0</td>\n",
       "    </tr>\n",
       "    <tr>\n",
       "      <th>1672611397</th>\n",
       "      <td>11.0</td>\n",
       "      <td>3.0</td>\n",
       "    </tr>\n",
       "    <tr>\n",
       "      <th>2738397743</th>\n",
       "      <td>4.0</td>\n",
       "      <td>3.0</td>\n",
       "    </tr>\n",
       "  </tbody>\n",
       "</table>\n",
       "</div>"
      ],
      "text/plain": [
       "            non-target  target\n",
       "user_id                       \n",
       "5402612           16.0     2.0\n",
       "14173315           6.0     1.0\n",
       "16930489           1.0     1.0\n",
       "17919393           2.0     1.0\n",
       "20639175           8.0     3.0\n",
       "22931893           8.0     1.0\n",
       "49591803           2.0     3.0\n",
       "64643056          21.0     6.0\n",
       "74014041           5.0     4.0\n",
       "136191905          2.0     1.0\n",
       "322572436          3.0     1.0\n",
       "508110571         17.0     7.0\n",
       "718612494          1.0     1.0\n",
       "872683897          1.0     1.0\n",
       "1056552596         2.0     1.0\n",
       "1672611397        11.0     3.0\n",
       "2738397743         4.0     3.0"
      ]
     },
     "execution_count": 85,
     "metadata": {},
     "output_type": "execute_result"
    }
   ],
   "source": [
    "overlapping_count = user.loc[user.index.isin(overlap),]\n",
    "overlapping_count.columns = ['non-target','target']\n",
    "overlapping_count"
   ]
  },
  {
   "cell_type": "code",
   "execution_count": 70,
   "metadata": {
    "colab": {
     "base_uri": "https://localhost:8080/",
     "height": 457
    },
    "id": "UZ8vYQWp-aLl",
    "outputId": "985071fd-808d-49db-9e49-0602938adea6"
   },
   "outputs": [
    {
     "data": {
      "text/html": [
       "<div>\n",
       "<style scoped>\n",
       "    .dataframe tbody tr th:only-of-type {\n",
       "        vertical-align: middle;\n",
       "    }\n",
       "\n",
       "    .dataframe tbody tr th {\n",
       "        vertical-align: top;\n",
       "    }\n",
       "\n",
       "    .dataframe thead th {\n",
       "        text-align: right;\n",
       "    }\n",
       "</style>\n",
       "<table border=\"1\" class=\"dataframe\">\n",
       "  <thead>\n",
       "    <tr style=\"text-align: right;\">\n",
       "      <th></th>\n",
       "      <th>non-target</th>\n",
       "      <th>target</th>\n",
       "      <th>non-target(%)</th>\n",
       "      <th>target(%)</th>\n",
       "    </tr>\n",
       "    <tr>\n",
       "      <th>user_id</th>\n",
       "      <th></th>\n",
       "      <th></th>\n",
       "      <th></th>\n",
       "      <th></th>\n",
       "    </tr>\n",
       "  </thead>\n",
       "  <tbody>\n",
       "    <tr>\n",
       "      <th>5402612</th>\n",
       "      <td>16.0</td>\n",
       "      <td>2.0</td>\n",
       "      <td>88.9</td>\n",
       "      <td>11.1</td>\n",
       "    </tr>\n",
       "    <tr>\n",
       "      <th>14173315</th>\n",
       "      <td>6.0</td>\n",
       "      <td>1.0</td>\n",
       "      <td>85.7</td>\n",
       "      <td>14.3</td>\n",
       "    </tr>\n",
       "    <tr>\n",
       "      <th>16930489</th>\n",
       "      <td>1.0</td>\n",
       "      <td>1.0</td>\n",
       "      <td>50.0</td>\n",
       "      <td>50.0</td>\n",
       "    </tr>\n",
       "    <tr>\n",
       "      <th>17919393</th>\n",
       "      <td>2.0</td>\n",
       "      <td>1.0</td>\n",
       "      <td>66.7</td>\n",
       "      <td>33.3</td>\n",
       "    </tr>\n",
       "    <tr>\n",
       "      <th>20639175</th>\n",
       "      <td>8.0</td>\n",
       "      <td>3.0</td>\n",
       "      <td>72.7</td>\n",
       "      <td>27.3</td>\n",
       "    </tr>\n",
       "    <tr>\n",
       "      <th>22931893</th>\n",
       "      <td>8.0</td>\n",
       "      <td>1.0</td>\n",
       "      <td>88.9</td>\n",
       "      <td>11.1</td>\n",
       "    </tr>\n",
       "    <tr>\n",
       "      <th>49591803</th>\n",
       "      <td>2.0</td>\n",
       "      <td>3.0</td>\n",
       "      <td>40.0</td>\n",
       "      <td>60.0</td>\n",
       "    </tr>\n",
       "    <tr>\n",
       "      <th>64643056</th>\n",
       "      <td>21.0</td>\n",
       "      <td>6.0</td>\n",
       "      <td>77.8</td>\n",
       "      <td>22.2</td>\n",
       "    </tr>\n",
       "    <tr>\n",
       "      <th>74014041</th>\n",
       "      <td>5.0</td>\n",
       "      <td>4.0</td>\n",
       "      <td>55.6</td>\n",
       "      <td>44.4</td>\n",
       "    </tr>\n",
       "    <tr>\n",
       "      <th>136191905</th>\n",
       "      <td>2.0</td>\n",
       "      <td>1.0</td>\n",
       "      <td>66.7</td>\n",
       "      <td>33.3</td>\n",
       "    </tr>\n",
       "    <tr>\n",
       "      <th>322572436</th>\n",
       "      <td>3.0</td>\n",
       "      <td>1.0</td>\n",
       "      <td>75.0</td>\n",
       "      <td>25.0</td>\n",
       "    </tr>\n",
       "    <tr>\n",
       "      <th>508110571</th>\n",
       "      <td>17.0</td>\n",
       "      <td>7.0</td>\n",
       "      <td>70.8</td>\n",
       "      <td>29.2</td>\n",
       "    </tr>\n",
       "    <tr>\n",
       "      <th>718612494</th>\n",
       "      <td>1.0</td>\n",
       "      <td>1.0</td>\n",
       "      <td>50.0</td>\n",
       "      <td>50.0</td>\n",
       "    </tr>\n",
       "    <tr>\n",
       "      <th>872683897</th>\n",
       "      <td>1.0</td>\n",
       "      <td>1.0</td>\n",
       "      <td>50.0</td>\n",
       "      <td>50.0</td>\n",
       "    </tr>\n",
       "    <tr>\n",
       "      <th>1056552596</th>\n",
       "      <td>2.0</td>\n",
       "      <td>1.0</td>\n",
       "      <td>66.7</td>\n",
       "      <td>33.3</td>\n",
       "    </tr>\n",
       "    <tr>\n",
       "      <th>1672611397</th>\n",
       "      <td>11.0</td>\n",
       "      <td>3.0</td>\n",
       "      <td>78.6</td>\n",
       "      <td>21.4</td>\n",
       "    </tr>\n",
       "    <tr>\n",
       "      <th>2738397743</th>\n",
       "      <td>4.0</td>\n",
       "      <td>3.0</td>\n",
       "      <td>57.1</td>\n",
       "      <td>42.9</td>\n",
       "    </tr>\n",
       "  </tbody>\n",
       "</table>\n",
       "</div>"
      ],
      "text/plain": [
       "            non-target  target  non-target(%)  target(%)\n",
       "user_id                                                 \n",
       "5402612           16.0     2.0           88.9       11.1\n",
       "14173315           6.0     1.0           85.7       14.3\n",
       "16930489           1.0     1.0           50.0       50.0\n",
       "17919393           2.0     1.0           66.7       33.3\n",
       "20639175           8.0     3.0           72.7       27.3\n",
       "22931893           8.0     1.0           88.9       11.1\n",
       "49591803           2.0     3.0           40.0       60.0\n",
       "64643056          21.0     6.0           77.8       22.2\n",
       "74014041           5.0     4.0           55.6       44.4\n",
       "136191905          2.0     1.0           66.7       33.3\n",
       "322572436          3.0     1.0           75.0       25.0\n",
       "508110571         17.0     7.0           70.8       29.2\n",
       "718612494          1.0     1.0           50.0       50.0\n",
       "872683897          1.0     1.0           50.0       50.0\n",
       "1056552596         2.0     1.0           66.7       33.3\n",
       "1672611397        11.0     3.0           78.6       21.4\n",
       "2738397743         4.0     3.0           57.1       42.9"
      ]
     },
     "execution_count": 70,
     "metadata": {},
     "output_type": "execute_result"
    }
   ],
   "source": [
    "overlapping_per = overlapping_count.div(overlapping_count.sum(axis=1), axis=0).round(3)*100\n",
    "overlapping_count = pd.merge(overlapping_count, overlapping_per,on='user_id',suffixes=['','(%)'])\n",
    "overlapping_count"
   ]
  },
  {
   "cell_type": "code",
   "execution_count": 71,
   "metadata": {
    "colab": {
     "base_uri": "https://localhost:8080/",
     "height": 513
    },
    "id": "Y5Fh7jl9-gdY",
    "outputId": "432c0e5b-ddf1-4a39-b03e-16fe404ef961"
   },
   "outputs": [
    {
     "name": "stderr",
     "output_type": "stream",
     "text": [
      "<ipython-input-71-39d239c892e8>:1: FutureWarning: The default dtype for empty Series will be 'object' instead of 'float64' in a future version. Specify a dtype explicitly to silence this warning.\n",
      "  overlapping_count['tendency'] = pd.Series()\n"
     ]
    },
    {
     "data": {
      "text/html": [
       "<div>\n",
       "<style scoped>\n",
       "    .dataframe tbody tr th:only-of-type {\n",
       "        vertical-align: middle;\n",
       "    }\n",
       "\n",
       "    .dataframe tbody tr th {\n",
       "        vertical-align: top;\n",
       "    }\n",
       "\n",
       "    .dataframe thead th {\n",
       "        text-align: right;\n",
       "    }\n",
       "</style>\n",
       "<table border=\"1\" class=\"dataframe\">\n",
       "  <thead>\n",
       "    <tr style=\"text-align: right;\">\n",
       "      <th></th>\n",
       "      <th>non-target</th>\n",
       "      <th>target</th>\n",
       "      <th>non-target(%)</th>\n",
       "      <th>target(%)</th>\n",
       "      <th>tendency</th>\n",
       "    </tr>\n",
       "    <tr>\n",
       "      <th>user_id</th>\n",
       "      <th></th>\n",
       "      <th></th>\n",
       "      <th></th>\n",
       "      <th></th>\n",
       "      <th></th>\n",
       "    </tr>\n",
       "  </thead>\n",
       "  <tbody>\n",
       "    <tr>\n",
       "      <th>5402612</th>\n",
       "      <td>16.0</td>\n",
       "      <td>2.0</td>\n",
       "      <td>88.9</td>\n",
       "      <td>11.1</td>\n",
       "      <td>non-target</td>\n",
       "    </tr>\n",
       "    <tr>\n",
       "      <th>14173315</th>\n",
       "      <td>6.0</td>\n",
       "      <td>1.0</td>\n",
       "      <td>85.7</td>\n",
       "      <td>14.3</td>\n",
       "      <td>non-target</td>\n",
       "    </tr>\n",
       "    <tr>\n",
       "      <th>16930489</th>\n",
       "      <td>1.0</td>\n",
       "      <td>1.0</td>\n",
       "      <td>50.0</td>\n",
       "      <td>50.0</td>\n",
       "      <td>neutral</td>\n",
       "    </tr>\n",
       "    <tr>\n",
       "      <th>17919393</th>\n",
       "      <td>2.0</td>\n",
       "      <td>1.0</td>\n",
       "      <td>66.7</td>\n",
       "      <td>33.3</td>\n",
       "      <td>non-target</td>\n",
       "    </tr>\n",
       "    <tr>\n",
       "      <th>20639175</th>\n",
       "      <td>8.0</td>\n",
       "      <td>3.0</td>\n",
       "      <td>72.7</td>\n",
       "      <td>27.3</td>\n",
       "      <td>non-target</td>\n",
       "    </tr>\n",
       "    <tr>\n",
       "      <th>22931893</th>\n",
       "      <td>8.0</td>\n",
       "      <td>1.0</td>\n",
       "      <td>88.9</td>\n",
       "      <td>11.1</td>\n",
       "      <td>non-target</td>\n",
       "    </tr>\n",
       "    <tr>\n",
       "      <th>49591803</th>\n",
       "      <td>2.0</td>\n",
       "      <td>3.0</td>\n",
       "      <td>40.0</td>\n",
       "      <td>60.0</td>\n",
       "      <td>target</td>\n",
       "    </tr>\n",
       "    <tr>\n",
       "      <th>64643056</th>\n",
       "      <td>21.0</td>\n",
       "      <td>6.0</td>\n",
       "      <td>77.8</td>\n",
       "      <td>22.2</td>\n",
       "      <td>non-target</td>\n",
       "    </tr>\n",
       "    <tr>\n",
       "      <th>74014041</th>\n",
       "      <td>5.0</td>\n",
       "      <td>4.0</td>\n",
       "      <td>55.6</td>\n",
       "      <td>44.4</td>\n",
       "      <td>non-target</td>\n",
       "    </tr>\n",
       "    <tr>\n",
       "      <th>136191905</th>\n",
       "      <td>2.0</td>\n",
       "      <td>1.0</td>\n",
       "      <td>66.7</td>\n",
       "      <td>33.3</td>\n",
       "      <td>non-target</td>\n",
       "    </tr>\n",
       "    <tr>\n",
       "      <th>322572436</th>\n",
       "      <td>3.0</td>\n",
       "      <td>1.0</td>\n",
       "      <td>75.0</td>\n",
       "      <td>25.0</td>\n",
       "      <td>non-target</td>\n",
       "    </tr>\n",
       "    <tr>\n",
       "      <th>508110571</th>\n",
       "      <td>17.0</td>\n",
       "      <td>7.0</td>\n",
       "      <td>70.8</td>\n",
       "      <td>29.2</td>\n",
       "      <td>non-target</td>\n",
       "    </tr>\n",
       "    <tr>\n",
       "      <th>718612494</th>\n",
       "      <td>1.0</td>\n",
       "      <td>1.0</td>\n",
       "      <td>50.0</td>\n",
       "      <td>50.0</td>\n",
       "      <td>neutral</td>\n",
       "    </tr>\n",
       "    <tr>\n",
       "      <th>872683897</th>\n",
       "      <td>1.0</td>\n",
       "      <td>1.0</td>\n",
       "      <td>50.0</td>\n",
       "      <td>50.0</td>\n",
       "      <td>neutral</td>\n",
       "    </tr>\n",
       "    <tr>\n",
       "      <th>1056552596</th>\n",
       "      <td>2.0</td>\n",
       "      <td>1.0</td>\n",
       "      <td>66.7</td>\n",
       "      <td>33.3</td>\n",
       "      <td>non-target</td>\n",
       "    </tr>\n",
       "    <tr>\n",
       "      <th>1672611397</th>\n",
       "      <td>11.0</td>\n",
       "      <td>3.0</td>\n",
       "      <td>78.6</td>\n",
       "      <td>21.4</td>\n",
       "      <td>non-target</td>\n",
       "    </tr>\n",
       "    <tr>\n",
       "      <th>2738397743</th>\n",
       "      <td>4.0</td>\n",
       "      <td>3.0</td>\n",
       "      <td>57.1</td>\n",
       "      <td>42.9</td>\n",
       "      <td>non-target</td>\n",
       "    </tr>\n",
       "  </tbody>\n",
       "</table>\n",
       "</div>"
      ],
      "text/plain": [
       "            non-target  target  non-target(%)  target(%)    tendency\n",
       "user_id                                                             \n",
       "5402612           16.0     2.0           88.9       11.1  non-target\n",
       "14173315           6.0     1.0           85.7       14.3  non-target\n",
       "16930489           1.0     1.0           50.0       50.0     neutral\n",
       "17919393           2.0     1.0           66.7       33.3  non-target\n",
       "20639175           8.0     3.0           72.7       27.3  non-target\n",
       "22931893           8.0     1.0           88.9       11.1  non-target\n",
       "49591803           2.0     3.0           40.0       60.0      target\n",
       "64643056          21.0     6.0           77.8       22.2  non-target\n",
       "74014041           5.0     4.0           55.6       44.4  non-target\n",
       "136191905          2.0     1.0           66.7       33.3  non-target\n",
       "322572436          3.0     1.0           75.0       25.0  non-target\n",
       "508110571         17.0     7.0           70.8       29.2  non-target\n",
       "718612494          1.0     1.0           50.0       50.0     neutral\n",
       "872683897          1.0     1.0           50.0       50.0     neutral\n",
       "1056552596         2.0     1.0           66.7       33.3  non-target\n",
       "1672611397        11.0     3.0           78.6       21.4  non-target\n",
       "2738397743         4.0     3.0           57.1       42.9  non-target"
      ]
     },
     "execution_count": 71,
     "metadata": {},
     "output_type": "execute_result"
    }
   ],
   "source": [
    "overlapping_count['tendency'] = pd.Series()\n",
    "for i in range(len(overlap)):\n",
    "  if overlapping_count.iloc[i,0] > overlapping_count.iloc[i,1]:\n",
    "    overlapping_count.iloc[i,4] = 'non-target'\n",
    "  elif overlapping_count.iloc[i,0] < overlapping_count.iloc[i,1]:\n",
    "   overlapping_count.iloc[i,4] ='target'\n",
    "  else:\n",
    "    overlapping_count.iloc[i,4] = 'neutral'\n",
    "overlapping_count"
   ]
  },
  {
   "cell_type": "code",
   "execution_count": 74,
   "metadata": {
    "colab": {
     "base_uri": "https://localhost:8080/"
    },
    "id": "ISGcPIFp-yEp",
    "outputId": "1a2e66b8-8a05-4f37-c20e-3763ffb87504"
   },
   "outputs": [
    {
     "name": "stdout",
     "output_type": "stream",
     "text": [
      "non-target    13\n",
      "neutral        3\n",
      "target         1\n",
      "Name: tendency, dtype: int64\n"
     ]
    },
    {
     "data": {
      "text/plain": [
       "non-target    0.764706\n",
       "neutral       0.176471\n",
       "target        0.058824\n",
       "Name: tendency, dtype: float64"
      ]
     },
     "execution_count": 74,
     "metadata": {},
     "output_type": "execute_result"
    }
   ],
   "source": [
    "print(overlapping_count.tendency.value_counts())\n",
    "overlapping_count.tendency.value_counts(normalize = True)"
   ]
  },
  {
   "cell_type": "markdown",
   "metadata": {
    "id": "sswv01D9_KBc"
   },
   "source": [
    "## non-overlapping user analysis"
   ]
  },
  {
   "cell_type": "code",
   "execution_count": 78,
   "metadata": {
    "colab": {
     "base_uri": "https://localhost:8080/",
     "height": 582
    },
    "id": "hfMA9LfJ_U53",
    "outputId": "956beb56-c592-4b56-f62e-bb707fd0e11f"
   },
   "outputs": [
    {
     "data": {
      "text/html": [
       "<div>\n",
       "<style scoped>\n",
       "    .dataframe tbody tr th:only-of-type {\n",
       "        vertical-align: middle;\n",
       "    }\n",
       "\n",
       "    .dataframe tbody tr th {\n",
       "        vertical-align: top;\n",
       "    }\n",
       "\n",
       "    .dataframe thead th {\n",
       "        text-align: right;\n",
       "    }\n",
       "</style>\n",
       "<table border=\"1\" class=\"dataframe\">\n",
       "  <thead>\n",
       "    <tr style=\"text-align: right;\">\n",
       "      <th></th>\n",
       "      <th>non-target</th>\n",
       "      <th>target</th>\n",
       "    </tr>\n",
       "    <tr>\n",
       "      <th>user_id</th>\n",
       "      <th></th>\n",
       "      <th></th>\n",
       "    </tr>\n",
       "  </thead>\n",
       "  <tbody>\n",
       "    <tr>\n",
       "      <th>9507342</th>\n",
       "      <td>4.0</td>\n",
       "      <td>NaN</td>\n",
       "    </tr>\n",
       "    <tr>\n",
       "      <th>14460241</th>\n",
       "      <td>3.0</td>\n",
       "      <td>NaN</td>\n",
       "    </tr>\n",
       "    <tr>\n",
       "      <th>14515799</th>\n",
       "      <td>2.0</td>\n",
       "      <td>NaN</td>\n",
       "    </tr>\n",
       "    <tr>\n",
       "      <th>15250661</th>\n",
       "      <td>5.0</td>\n",
       "      <td>NaN</td>\n",
       "    </tr>\n",
       "    <tr>\n",
       "      <th>18965916</th>\n",
       "      <td>2.0</td>\n",
       "      <td>NaN</td>\n",
       "    </tr>\n",
       "    <tr>\n",
       "      <th>23055689</th>\n",
       "      <td>2.0</td>\n",
       "      <td>NaN</td>\n",
       "    </tr>\n",
       "    <tr>\n",
       "      <th>27831488</th>\n",
       "      <td>3.0</td>\n",
       "      <td>NaN</td>\n",
       "    </tr>\n",
       "    <tr>\n",
       "      <th>46078438</th>\n",
       "      <td>NaN</td>\n",
       "      <td>2.0</td>\n",
       "    </tr>\n",
       "    <tr>\n",
       "      <th>115393565</th>\n",
       "      <td>NaN</td>\n",
       "      <td>2.0</td>\n",
       "    </tr>\n",
       "    <tr>\n",
       "      <th>146765658</th>\n",
       "      <td>2.0</td>\n",
       "      <td>NaN</td>\n",
       "    </tr>\n",
       "    <tr>\n",
       "      <th>162304163</th>\n",
       "      <td>3.0</td>\n",
       "      <td>NaN</td>\n",
       "    </tr>\n",
       "    <tr>\n",
       "      <th>182251918</th>\n",
       "      <td>NaN</td>\n",
       "      <td>2.0</td>\n",
       "    </tr>\n",
       "    <tr>\n",
       "      <th>254873869</th>\n",
       "      <td>2.0</td>\n",
       "      <td>NaN</td>\n",
       "    </tr>\n",
       "    <tr>\n",
       "      <th>291859009</th>\n",
       "      <td>2.0</td>\n",
       "      <td>NaN</td>\n",
       "    </tr>\n",
       "    <tr>\n",
       "      <th>393469195</th>\n",
       "      <td>NaN</td>\n",
       "      <td>2.0</td>\n",
       "    </tr>\n",
       "    <tr>\n",
       "      <th>464311706</th>\n",
       "      <td>3.0</td>\n",
       "      <td>NaN</td>\n",
       "    </tr>\n",
       "    <tr>\n",
       "      <th>499696436</th>\n",
       "      <td>3.0</td>\n",
       "      <td>NaN</td>\n",
       "    </tr>\n",
       "    <tr>\n",
       "      <th>548203324</th>\n",
       "      <td>2.0</td>\n",
       "      <td>NaN</td>\n",
       "    </tr>\n",
       "    <tr>\n",
       "      <th>2163076560</th>\n",
       "      <td>2.0</td>\n",
       "      <td>NaN</td>\n",
       "    </tr>\n",
       "    <tr>\n",
       "      <th>2271035214</th>\n",
       "      <td>3.0</td>\n",
       "      <td>NaN</td>\n",
       "    </tr>\n",
       "  </tbody>\n",
       "</table>\n",
       "</div>"
      ],
      "text/plain": [
       "            non-target  target\n",
       "user_id                       \n",
       "9507342            4.0     NaN\n",
       "14460241           3.0     NaN\n",
       "14515799           2.0     NaN\n",
       "15250661           5.0     NaN\n",
       "18965916           2.0     NaN\n",
       "23055689           2.0     NaN\n",
       "27831488           3.0     NaN\n",
       "46078438           NaN     2.0\n",
       "115393565          NaN     2.0\n",
       "146765658          2.0     NaN\n",
       "162304163          3.0     NaN\n",
       "182251918          NaN     2.0\n",
       "254873869          2.0     NaN\n",
       "291859009          2.0     NaN\n",
       "393469195          NaN     2.0\n",
       "464311706          3.0     NaN\n",
       "499696436          3.0     NaN\n",
       "548203324          2.0     NaN\n",
       "2163076560         2.0     NaN\n",
       "2271035214         3.0     NaN"
      ]
     },
     "execution_count": 78,
     "metadata": {},
     "output_type": "execute_result"
    }
   ],
   "source": [
    "nonoverlapping_count = user.loc[user.index.isin(nonoverlap),]\n",
    "nonoverlapping_count.columns = ['non-target','target']\n",
    "nonoverlapping_count\n"
   ]
  },
  {
   "cell_type": "code",
   "execution_count": 79,
   "metadata": {
    "colab": {
     "base_uri": "https://localhost:8080/"
    },
    "id": "p-7GXuI__oFa",
    "outputId": "64639b13-e184-4e98-e238-064dc03e06ce"
   },
   "outputs": [
    {
     "name": "stderr",
     "output_type": "stream",
     "text": [
      "<ipython-input-79-f06fef6477e6>:1: FutureWarning: The default dtype for empty Series will be 'object' instead of 'float64' in a future version. Specify a dtype explicitly to silence this warning.\n",
      "  nonoverlapping_count['tendency'] = pd.Series()\n",
      "<ipython-input-79-f06fef6477e6>:1: SettingWithCopyWarning: \n",
      "A value is trying to be set on a copy of a slice from a DataFrame.\n",
      "Try using .loc[row_indexer,col_indexer] = value instead\n",
      "\n",
      "See the caveats in the documentation: https://pandas.pydata.org/pandas-docs/stable/user_guide/indexing.html#returning-a-view-versus-a-copy\n",
      "  nonoverlapping_count['tendency'] = pd.Series()\n"
     ]
    }
   ],
   "source": [
    "nonoverlapping_count['tendency'] = pd.Series()\n",
    "for i in range(len(nonoverlap)):\n",
    "  if nonoverlapping_count.iloc[i,0] >= 1 :\n",
    "    nonoverlapping_count.iloc[i,2] = 'non-target'\n",
    "  elif nonoverlapping_count.iloc[i,1] >= 1:\n",
    "    nonoverlapping_count.iloc[i,2] = 'target'"
   ]
  },
  {
   "cell_type": "code",
   "execution_count": 80,
   "metadata": {
    "colab": {
     "base_uri": "https://localhost:8080/",
     "height": 600
    },
    "id": "d9LRKP80_i8t",
    "outputId": "ad284870-10aa-4478-deac-e8a7e36d83f5"
   },
   "outputs": [
    {
     "name": "stdout",
     "output_type": "stream",
     "text": [
      "0\n"
     ]
    },
    {
     "data": {
      "text/html": [
       "<div>\n",
       "<style scoped>\n",
       "    .dataframe tbody tr th:only-of-type {\n",
       "        vertical-align: middle;\n",
       "    }\n",
       "\n",
       "    .dataframe tbody tr th {\n",
       "        vertical-align: top;\n",
       "    }\n",
       "\n",
       "    .dataframe thead th {\n",
       "        text-align: right;\n",
       "    }\n",
       "</style>\n",
       "<table border=\"1\" class=\"dataframe\">\n",
       "  <thead>\n",
       "    <tr style=\"text-align: right;\">\n",
       "      <th></th>\n",
       "      <th>non-target</th>\n",
       "      <th>target</th>\n",
       "      <th>tendency</th>\n",
       "    </tr>\n",
       "    <tr>\n",
       "      <th>user_id</th>\n",
       "      <th></th>\n",
       "      <th></th>\n",
       "      <th></th>\n",
       "    </tr>\n",
       "  </thead>\n",
       "  <tbody>\n",
       "    <tr>\n",
       "      <th>9507342</th>\n",
       "      <td>4.0</td>\n",
       "      <td>NaN</td>\n",
       "      <td>non-target</td>\n",
       "    </tr>\n",
       "    <tr>\n",
       "      <th>14460241</th>\n",
       "      <td>3.0</td>\n",
       "      <td>NaN</td>\n",
       "      <td>non-target</td>\n",
       "    </tr>\n",
       "    <tr>\n",
       "      <th>14515799</th>\n",
       "      <td>2.0</td>\n",
       "      <td>NaN</td>\n",
       "      <td>non-target</td>\n",
       "    </tr>\n",
       "    <tr>\n",
       "      <th>15250661</th>\n",
       "      <td>5.0</td>\n",
       "      <td>NaN</td>\n",
       "      <td>non-target</td>\n",
       "    </tr>\n",
       "    <tr>\n",
       "      <th>18965916</th>\n",
       "      <td>2.0</td>\n",
       "      <td>NaN</td>\n",
       "      <td>non-target</td>\n",
       "    </tr>\n",
       "    <tr>\n",
       "      <th>23055689</th>\n",
       "      <td>2.0</td>\n",
       "      <td>NaN</td>\n",
       "      <td>non-target</td>\n",
       "    </tr>\n",
       "    <tr>\n",
       "      <th>27831488</th>\n",
       "      <td>3.0</td>\n",
       "      <td>NaN</td>\n",
       "      <td>non-target</td>\n",
       "    </tr>\n",
       "    <tr>\n",
       "      <th>46078438</th>\n",
       "      <td>NaN</td>\n",
       "      <td>2.0</td>\n",
       "      <td>target</td>\n",
       "    </tr>\n",
       "    <tr>\n",
       "      <th>115393565</th>\n",
       "      <td>NaN</td>\n",
       "      <td>2.0</td>\n",
       "      <td>target</td>\n",
       "    </tr>\n",
       "    <tr>\n",
       "      <th>146765658</th>\n",
       "      <td>2.0</td>\n",
       "      <td>NaN</td>\n",
       "      <td>non-target</td>\n",
       "    </tr>\n",
       "    <tr>\n",
       "      <th>162304163</th>\n",
       "      <td>3.0</td>\n",
       "      <td>NaN</td>\n",
       "      <td>non-target</td>\n",
       "    </tr>\n",
       "    <tr>\n",
       "      <th>182251918</th>\n",
       "      <td>NaN</td>\n",
       "      <td>2.0</td>\n",
       "      <td>target</td>\n",
       "    </tr>\n",
       "    <tr>\n",
       "      <th>254873869</th>\n",
       "      <td>2.0</td>\n",
       "      <td>NaN</td>\n",
       "      <td>non-target</td>\n",
       "    </tr>\n",
       "    <tr>\n",
       "      <th>291859009</th>\n",
       "      <td>2.0</td>\n",
       "      <td>NaN</td>\n",
       "      <td>non-target</td>\n",
       "    </tr>\n",
       "    <tr>\n",
       "      <th>393469195</th>\n",
       "      <td>NaN</td>\n",
       "      <td>2.0</td>\n",
       "      <td>target</td>\n",
       "    </tr>\n",
       "    <tr>\n",
       "      <th>464311706</th>\n",
       "      <td>3.0</td>\n",
       "      <td>NaN</td>\n",
       "      <td>non-target</td>\n",
       "    </tr>\n",
       "    <tr>\n",
       "      <th>499696436</th>\n",
       "      <td>3.0</td>\n",
       "      <td>NaN</td>\n",
       "      <td>non-target</td>\n",
       "    </tr>\n",
       "    <tr>\n",
       "      <th>548203324</th>\n",
       "      <td>2.0</td>\n",
       "      <td>NaN</td>\n",
       "      <td>non-target</td>\n",
       "    </tr>\n",
       "    <tr>\n",
       "      <th>2163076560</th>\n",
       "      <td>2.0</td>\n",
       "      <td>NaN</td>\n",
       "      <td>non-target</td>\n",
       "    </tr>\n",
       "    <tr>\n",
       "      <th>2271035214</th>\n",
       "      <td>3.0</td>\n",
       "      <td>NaN</td>\n",
       "      <td>non-target</td>\n",
       "    </tr>\n",
       "  </tbody>\n",
       "</table>\n",
       "</div>"
      ],
      "text/plain": [
       "            non-target  target    tendency\n",
       "user_id                                   \n",
       "9507342            4.0     NaN  non-target\n",
       "14460241           3.0     NaN  non-target\n",
       "14515799           2.0     NaN  non-target\n",
       "15250661           5.0     NaN  non-target\n",
       "18965916           2.0     NaN  non-target\n",
       "23055689           2.0     NaN  non-target\n",
       "27831488           3.0     NaN  non-target\n",
       "46078438           NaN     2.0      target\n",
       "115393565          NaN     2.0      target\n",
       "146765658          2.0     NaN  non-target\n",
       "162304163          3.0     NaN  non-target\n",
       "182251918          NaN     2.0      target\n",
       "254873869          2.0     NaN  non-target\n",
       "291859009          2.0     NaN  non-target\n",
       "393469195          NaN     2.0      target\n",
       "464311706          3.0     NaN  non-target\n",
       "499696436          3.0     NaN  non-target\n",
       "548203324          2.0     NaN  non-target\n",
       "2163076560         2.0     NaN  non-target\n",
       "2271035214         3.0     NaN  non-target"
      ]
     },
     "execution_count": 80,
     "metadata": {},
     "output_type": "execute_result"
    }
   ],
   "source": [
    "print(nonoverlapping_count.tendency.isnull().sum())\n",
    "nonoverlapping_count"
   ]
  },
  {
   "cell_type": "code",
   "execution_count": 81,
   "metadata": {
    "colab": {
     "base_uri": "https://localhost:8080/"
    },
    "id": "zIGyPM_WAQM9",
    "outputId": "13322094-c0a5-4b27-818f-2271259eadea"
   },
   "outputs": [
    {
     "name": "stdout",
     "output_type": "stream",
     "text": [
      "non-target    16\n",
      "target         4\n",
      "Name: tendency, dtype: int64\n"
     ]
    },
    {
     "data": {
      "text/plain": [
       "non-target    0.8\n",
       "target        0.2\n",
       "Name: tendency, dtype: float64"
      ]
     },
     "execution_count": 81,
     "metadata": {},
     "output_type": "execute_result"
    }
   ],
   "source": [
    "print(nonoverlapping_count.tendency.value_counts())\n",
    "nonoverlapping_count.tendency.value_counts(normalize=True)"
   ]
  },
  {
   "cell_type": "markdown",
   "metadata": {
    "id": "latvAC3E_KlG"
   },
   "source": [
    "## "
   ]
  },
  {
   "cell_type": "code",
   "execution_count": 87,
   "metadata": {
    "colab": {
     "base_uri": "https://localhost:8080/",
     "height": 297
    },
    "id": "fY2d5WXn_nfu",
    "outputId": "0e25eb8b-44a8-4f06-ecd0-397c25112403"
   },
   "outputs": [
    {
     "data": {
      "text/plain": [
       "<AxesSubplot:xlabel='overlap', ylabel='target'>"
      ]
     },
     "execution_count": 87,
     "metadata": {},
     "output_type": "execute_result"
    },
    {
     "data": {
      "image/png": "[encoded data removed]",
      "text/plain": [
       "<Figure size 432x288 with 2 Axes>"
      ]
     },
     "metadata": {
      "needs_background": "light"
     },
     "output_type": "display_data"
    }
   ],
   "source": [
    "fig, (ax1, ax2) = plt.subplots(1, 2, sharey=True)\n",
    "sns.boxplot(data=user, x=\"overlap\",y='non-target',ax = ax1)\n",
    "sns.boxplot(data=user,  x=\"overlap\",y=\"target\",ax = ax2)"
   ]
  },
  {
   "cell_type": "markdown",
   "metadata": {},
   "source": []
  },
  {
   "cell_type": "code",
   "execution_count": 91,
   "metadata": {
    "colab": {
     "base_uri": "https://localhost:8080/",
     "height": 239
    },
    "id": "V79mdXaKHVdZ",
    "outputId": "57085cd0-3fc6-4fdc-b49a-80917b878546"
   },
   "outputs": [
    {
     "data": {
      "text/html": [
       "<div>\n",
       "<style scoped>\n",
       "    .dataframe tbody tr th:only-of-type {\n",
       "        vertical-align: middle;\n",
       "    }\n",
       "\n",
       "    .dataframe tbody tr th {\n",
       "        vertical-align: top;\n",
       "    }\n",
       "\n",
       "    .dataframe thead tr th {\n",
       "        text-align: left;\n",
       "    }\n",
       "\n",
       "    .dataframe thead tr:last-of-type th {\n",
       "        text-align: right;\n",
       "    }\n",
       "</style>\n",
       "<table border=\"1\" class=\"dataframe\">\n",
       "  <thead>\n",
       "    <tr>\n",
       "      <th></th>\n",
       "      <th colspan=\"8\" halign=\"left\">non-target</th>\n",
       "      <th colspan=\"8\" halign=\"left\">target</th>\n",
       "    </tr>\n",
       "    <tr>\n",
       "      <th></th>\n",
       "      <th>count</th>\n",
       "      <th>mean</th>\n",
       "      <th>std</th>\n",
       "      <th>min</th>\n",
       "      <th>25%</th>\n",
       "      <th>50%</th>\n",
       "      <th>75%</th>\n",
       "      <th>max</th>\n",
       "      <th>count</th>\n",
       "      <th>mean</th>\n",
       "      <th>std</th>\n",
       "      <th>min</th>\n",
       "      <th>25%</th>\n",
       "      <th>50%</th>\n",
       "      <th>75%</th>\n",
       "      <th>max</th>\n",
       "    </tr>\n",
       "    <tr>\n",
       "      <th>overlap</th>\n",
       "      <th></th>\n",
       "      <th></th>\n",
       "      <th></th>\n",
       "      <th></th>\n",
       "      <th></th>\n",
       "      <th></th>\n",
       "      <th></th>\n",
       "      <th></th>\n",
       "      <th></th>\n",
       "      <th></th>\n",
       "      <th></th>\n",
       "      <th></th>\n",
       "      <th></th>\n",
       "      <th></th>\n",
       "      <th></th>\n",
       "      <th></th>\n",
       "    </tr>\n",
       "  </thead>\n",
       "  <tbody>\n",
       "    <tr>\n",
       "      <th>nonoverlap</th>\n",
       "      <td>16.0</td>\n",
       "      <td>2.687500</td>\n",
       "      <td>0.873212</td>\n",
       "      <td>2.0</td>\n",
       "      <td>2.0</td>\n",
       "      <td>2.5</td>\n",
       "      <td>3.0</td>\n",
       "      <td>5.0</td>\n",
       "      <td>4.0</td>\n",
       "      <td>2.000000</td>\n",
       "      <td>0.000000</td>\n",
       "      <td>2.0</td>\n",
       "      <td>2.0</td>\n",
       "      <td>2.0</td>\n",
       "      <td>2.0</td>\n",
       "      <td>2.0</td>\n",
       "    </tr>\n",
       "    <tr>\n",
       "      <th>overlap</th>\n",
       "      <td>17.0</td>\n",
       "      <td>6.470588</td>\n",
       "      <td>6.266156</td>\n",
       "      <td>1.0</td>\n",
       "      <td>2.0</td>\n",
       "      <td>4.0</td>\n",
       "      <td>8.0</td>\n",
       "      <td>21.0</td>\n",
       "      <td>17.0</td>\n",
       "      <td>2.352941</td>\n",
       "      <td>1.868863</td>\n",
       "      <td>1.0</td>\n",
       "      <td>1.0</td>\n",
       "      <td>1.0</td>\n",
       "      <td>3.0</td>\n",
       "      <td>7.0</td>\n",
       "    </tr>\n",
       "  </tbody>\n",
       "</table>\n",
       "</div>"
      ],
      "text/plain": [
       "           non-target                                               target  \\\n",
       "                count      mean       std  min  25%  50%  75%   max  count   \n",
       "overlap                                                                      \n",
       "nonoverlap       16.0  2.687500  0.873212  2.0  2.0  2.5  3.0   5.0    4.0   \n",
       "overlap          17.0  6.470588  6.266156  1.0  2.0  4.0  8.0  21.0   17.0   \n",
       "\n",
       "                                                         \n",
       "                mean       std  min  25%  50%  75%  max  \n",
       "overlap                                                  \n",
       "nonoverlap  2.000000  0.000000  2.0  2.0  2.0  2.0  2.0  \n",
       "overlap     2.352941  1.868863  1.0  1.0  1.0  3.0  7.0  "
      ]
     },
     "execution_count": 91,
     "metadata": {},
     "output_type": "execute_result"
    }
   ],
   "source": [
    "user.groupby('overlap').describe()"
   ]
  },
  {
   "cell_type": "code",
   "execution_count": 92,
   "metadata": {
    "colab": {
     "base_uri": "https://localhost:8080/",
     "height": 1000
    },
    "id": "4IdEtdB61HGy",
    "outputId": "9d44ed73-c8e8-41d0-97c7-16c08def0fad"
   },
   "outputs": [
    {
     "data": {
      "text/html": [
       "<div>\n",
       "<style scoped>\n",
       "    .dataframe tbody tr th:only-of-type {\n",
       "        vertical-align: middle;\n",
       "    }\n",
       "\n",
       "    .dataframe tbody tr th {\n",
       "        vertical-align: top;\n",
       "    }\n",
       "\n",
       "    .dataframe thead th {\n",
       "        text-align: right;\n",
       "    }\n",
       "</style>\n",
       "<table border=\"1\" class=\"dataframe\">\n",
       "  <thead>\n",
       "    <tr style=\"text-align: right;\">\n",
       "      <th></th>\n",
       "      <th>user_id</th>\n",
       "      <th>targetlabel</th>\n",
       "      <th>count</th>\n",
       "    </tr>\n",
       "  </thead>\n",
       "  <tbody>\n",
       "    <tr>\n",
       "      <th>0</th>\n",
       "      <td>5402612</td>\n",
       "      <td>0</td>\n",
       "      <td>16</td>\n",
       "    </tr>\n",
       "    <tr>\n",
       "      <th>1</th>\n",
       "      <td>5402612</td>\n",
       "      <td>1</td>\n",
       "      <td>2</td>\n",
       "    </tr>\n",
       "    <tr>\n",
       "      <th>2</th>\n",
       "      <td>9507342</td>\n",
       "      <td>0</td>\n",
       "      <td>4</td>\n",
       "    </tr>\n",
       "    <tr>\n",
       "      <th>3</th>\n",
       "      <td>14173315</td>\n",
       "      <td>0</td>\n",
       "      <td>6</td>\n",
       "    </tr>\n",
       "    <tr>\n",
       "      <th>4</th>\n",
       "      <td>14173315</td>\n",
       "      <td>1</td>\n",
       "      <td>1</td>\n",
       "    </tr>\n",
       "    <tr>\n",
       "      <th>5</th>\n",
       "      <td>14460241</td>\n",
       "      <td>0</td>\n",
       "      <td>3</td>\n",
       "    </tr>\n",
       "    <tr>\n",
       "      <th>6</th>\n",
       "      <td>14515799</td>\n",
       "      <td>0</td>\n",
       "      <td>2</td>\n",
       "    </tr>\n",
       "    <tr>\n",
       "      <th>7</th>\n",
       "      <td>15250661</td>\n",
       "      <td>0</td>\n",
       "      <td>5</td>\n",
       "    </tr>\n",
       "    <tr>\n",
       "      <th>8</th>\n",
       "      <td>16930489</td>\n",
       "      <td>0</td>\n",
       "      <td>1</td>\n",
       "    </tr>\n",
       "    <tr>\n",
       "      <th>9</th>\n",
       "      <td>16930489</td>\n",
       "      <td>1</td>\n",
       "      <td>1</td>\n",
       "    </tr>\n",
       "    <tr>\n",
       "      <th>10</th>\n",
       "      <td>17919393</td>\n",
       "      <td>0</td>\n",
       "      <td>2</td>\n",
       "    </tr>\n",
       "    <tr>\n",
       "      <th>11</th>\n",
       "      <td>17919393</td>\n",
       "      <td>1</td>\n",
       "      <td>1</td>\n",
       "    </tr>\n",
       "    <tr>\n",
       "      <th>12</th>\n",
       "      <td>18965916</td>\n",
       "      <td>0</td>\n",
       "      <td>2</td>\n",
       "    </tr>\n",
       "    <tr>\n",
       "      <th>13</th>\n",
       "      <td>20639175</td>\n",
       "      <td>0</td>\n",
       "      <td>8</td>\n",
       "    </tr>\n",
       "    <tr>\n",
       "      <th>14</th>\n",
       "      <td>20639175</td>\n",
       "      <td>1</td>\n",
       "      <td>3</td>\n",
       "    </tr>\n",
       "    <tr>\n",
       "      <th>15</th>\n",
       "      <td>22931893</td>\n",
       "      <td>0</td>\n",
       "      <td>8</td>\n",
       "    </tr>\n",
       "    <tr>\n",
       "      <th>16</th>\n",
       "      <td>22931893</td>\n",
       "      <td>1</td>\n",
       "      <td>1</td>\n",
       "    </tr>\n",
       "    <tr>\n",
       "      <th>17</th>\n",
       "      <td>23055689</td>\n",
       "      <td>0</td>\n",
       "      <td>2</td>\n",
       "    </tr>\n",
       "    <tr>\n",
       "      <th>18</th>\n",
       "      <td>27831488</td>\n",
       "      <td>0</td>\n",
       "      <td>3</td>\n",
       "    </tr>\n",
       "    <tr>\n",
       "      <th>19</th>\n",
       "      <td>46078438</td>\n",
       "      <td>1</td>\n",
       "      <td>2</td>\n",
       "    </tr>\n",
       "    <tr>\n",
       "      <th>20</th>\n",
       "      <td>49591803</td>\n",
       "      <td>0</td>\n",
       "      <td>2</td>\n",
       "    </tr>\n",
       "    <tr>\n",
       "      <th>21</th>\n",
       "      <td>49591803</td>\n",
       "      <td>1</td>\n",
       "      <td>3</td>\n",
       "    </tr>\n",
       "    <tr>\n",
       "      <th>22</th>\n",
       "      <td>64643056</td>\n",
       "      <td>0</td>\n",
       "      <td>21</td>\n",
       "    </tr>\n",
       "    <tr>\n",
       "      <th>23</th>\n",
       "      <td>64643056</td>\n",
       "      <td>1</td>\n",
       "      <td>6</td>\n",
       "    </tr>\n",
       "    <tr>\n",
       "      <th>24</th>\n",
       "      <td>74014041</td>\n",
       "      <td>0</td>\n",
       "      <td>5</td>\n",
       "    </tr>\n",
       "    <tr>\n",
       "      <th>25</th>\n",
       "      <td>74014041</td>\n",
       "      <td>1</td>\n",
       "      <td>4</td>\n",
       "    </tr>\n",
       "    <tr>\n",
       "      <th>26</th>\n",
       "      <td>115393565</td>\n",
       "      <td>1</td>\n",
       "      <td>2</td>\n",
       "    </tr>\n",
       "    <tr>\n",
       "      <th>27</th>\n",
       "      <td>136191905</td>\n",
       "      <td>0</td>\n",
       "      <td>2</td>\n",
       "    </tr>\n",
       "    <tr>\n",
       "      <th>28</th>\n",
       "      <td>136191905</td>\n",
       "      <td>1</td>\n",
       "      <td>1</td>\n",
       "    </tr>\n",
       "    <tr>\n",
       "      <th>29</th>\n",
       "      <td>146765658</td>\n",
       "      <td>0</td>\n",
       "      <td>2</td>\n",
       "    </tr>\n",
       "    <tr>\n",
       "      <th>30</th>\n",
       "      <td>162304163</td>\n",
       "      <td>0</td>\n",
       "      <td>3</td>\n",
       "    </tr>\n",
       "    <tr>\n",
       "      <th>31</th>\n",
       "      <td>182251918</td>\n",
       "      <td>1</td>\n",
       "      <td>2</td>\n",
       "    </tr>\n",
       "    <tr>\n",
       "      <th>32</th>\n",
       "      <td>254873869</td>\n",
       "      <td>0</td>\n",
       "      <td>2</td>\n",
       "    </tr>\n",
       "    <tr>\n",
       "      <th>33</th>\n",
       "      <td>291859009</td>\n",
       "      <td>0</td>\n",
       "      <td>2</td>\n",
       "    </tr>\n",
       "    <tr>\n",
       "      <th>34</th>\n",
       "      <td>322572436</td>\n",
       "      <td>0</td>\n",
       "      <td>3</td>\n",
       "    </tr>\n",
       "    <tr>\n",
       "      <th>35</th>\n",
       "      <td>322572436</td>\n",
       "      <td>1</td>\n",
       "      <td>1</td>\n",
       "    </tr>\n",
       "    <tr>\n",
       "      <th>36</th>\n",
       "      <td>393469195</td>\n",
       "      <td>1</td>\n",
       "      <td>2</td>\n",
       "    </tr>\n",
       "    <tr>\n",
       "      <th>37</th>\n",
       "      <td>464311706</td>\n",
       "      <td>0</td>\n",
       "      <td>3</td>\n",
       "    </tr>\n",
       "    <tr>\n",
       "      <th>38</th>\n",
       "      <td>499696436</td>\n",
       "      <td>0</td>\n",
       "      <td>3</td>\n",
       "    </tr>\n",
       "    <tr>\n",
       "      <th>39</th>\n",
       "      <td>508110571</td>\n",
       "      <td>0</td>\n",
       "      <td>17</td>\n",
       "    </tr>\n",
       "    <tr>\n",
       "      <th>40</th>\n",
       "      <td>508110571</td>\n",
       "      <td>1</td>\n",
       "      <td>7</td>\n",
       "    </tr>\n",
       "    <tr>\n",
       "      <th>41</th>\n",
       "      <td>548203324</td>\n",
       "      <td>0</td>\n",
       "      <td>2</td>\n",
       "    </tr>\n",
       "    <tr>\n",
       "      <th>42</th>\n",
       "      <td>718612494</td>\n",
       "      <td>0</td>\n",
       "      <td>1</td>\n",
       "    </tr>\n",
       "    <tr>\n",
       "      <th>43</th>\n",
       "      <td>718612494</td>\n",
       "      <td>1</td>\n",
       "      <td>1</td>\n",
       "    </tr>\n",
       "    <tr>\n",
       "      <th>44</th>\n",
       "      <td>872683897</td>\n",
       "      <td>0</td>\n",
       "      <td>1</td>\n",
       "    </tr>\n",
       "    <tr>\n",
       "      <th>45</th>\n",
       "      <td>872683897</td>\n",
       "      <td>1</td>\n",
       "      <td>1</td>\n",
       "    </tr>\n",
       "    <tr>\n",
       "      <th>46</th>\n",
       "      <td>1056552596</td>\n",
       "      <td>0</td>\n",
       "      <td>2</td>\n",
       "    </tr>\n",
       "    <tr>\n",
       "      <th>47</th>\n",
       "      <td>1056552596</td>\n",
       "      <td>1</td>\n",
       "      <td>1</td>\n",
       "    </tr>\n",
       "    <tr>\n",
       "      <th>48</th>\n",
       "      <td>1672611397</td>\n",
       "      <td>0</td>\n",
       "      <td>11</td>\n",
       "    </tr>\n",
       "    <tr>\n",
       "      <th>49</th>\n",
       "      <td>1672611397</td>\n",
       "      <td>1</td>\n",
       "      <td>3</td>\n",
       "    </tr>\n",
       "    <tr>\n",
       "      <th>50</th>\n",
       "      <td>2163076560</td>\n",
       "      <td>0</td>\n",
       "      <td>2</td>\n",
       "    </tr>\n",
       "    <tr>\n",
       "      <th>51</th>\n",
       "      <td>2271035214</td>\n",
       "      <td>0</td>\n",
       "      <td>3</td>\n",
       "    </tr>\n",
       "    <tr>\n",
       "      <th>52</th>\n",
       "      <td>2738397743</td>\n",
       "      <td>0</td>\n",
       "      <td>4</td>\n",
       "    </tr>\n",
       "    <tr>\n",
       "      <th>53</th>\n",
       "      <td>2738397743</td>\n",
       "      <td>1</td>\n",
       "      <td>3</td>\n",
       "    </tr>\n",
       "  </tbody>\n",
       "</table>\n",
       "</div>"
      ],
      "text/plain": [
       "       user_id  targetlabel  count\n",
       "0      5402612            0     16\n",
       "1      5402612            1      2\n",
       "2      9507342            0      4\n",
       "3     14173315            0      6\n",
       "4     14173315            1      1\n",
       "5     14460241            0      3\n",
       "6     14515799            0      2\n",
       "7     15250661            0      5\n",
       "8     16930489            0      1\n",
       "9     16930489            1      1\n",
       "10    17919393            0      2\n",
       "11    17919393            1      1\n",
       "12    18965916            0      2\n",
       "13    20639175            0      8\n",
       "14    20639175            1      3\n",
       "15    22931893            0      8\n",
       "16    22931893            1      1\n",
       "17    23055689            0      2\n",
       "18    27831488            0      3\n",
       "19    46078438            1      2\n",
       "20    49591803            0      2\n",
       "21    49591803            1      3\n",
       "22    64643056            0     21\n",
       "23    64643056            1      6\n",
       "24    74014041            0      5\n",
       "25    74014041            1      4\n",
       "26   115393565            1      2\n",
       "27   136191905            0      2\n",
       "28   136191905            1      1\n",
       "29   146765658            0      2\n",
       "30   162304163            0      3\n",
       "31   182251918            1      2\n",
       "32   254873869            0      2\n",
       "33   291859009            0      2\n",
       "34   322572436            0      3\n",
       "35   322572436            1      1\n",
       "36   393469195            1      2\n",
       "37   464311706            0      3\n",
       "38   499696436            0      3\n",
       "39   508110571            0     17\n",
       "40   508110571            1      7\n",
       "41   548203324            0      2\n",
       "42   718612494            0      1\n",
       "43   718612494            1      1\n",
       "44   872683897            0      1\n",
       "45   872683897            1      1\n",
       "46  1056552596            0      2\n",
       "47  1056552596            1      1\n",
       "48  1672611397            0     11\n",
       "49  1672611397            1      3\n",
       "50  2163076560            0      2\n",
       "51  2271035214            0      3\n",
       "52  2738397743            0      4\n",
       "53  2738397743            1      3"
      ]
     },
     "execution_count": 92,
     "metadata": {},
     "output_type": "execute_result"
    }
   ],
   "source": [
    "count_long = src_reply_user.groupby(['user_id','targetlabel'])['tweet_id'].count().to_frame('count').reset_index(drop=False)\n",
    "count_long"
   ]
  },
  {
   "cell_type": "code",
   "execution_count": 93,
   "metadata": {
    "colab": {
     "base_uri": "https://localhost:8080/"
    },
    "id": "G-XwHZvbMiUZ",
    "outputId": "7642aefe-beb5-4db3-d7a2-592344fb2354"
   },
   "outputs": [
    {
     "data": {
      "text/plain": [
       "count    54.000000\n",
       "mean      3.722222\n",
       "std       4.085948\n",
       "min       1.000000\n",
       "25%       2.000000\n",
       "50%       2.000000\n",
       "75%       3.750000\n",
       "max      21.000000\n",
       "Name: count, dtype: float64"
      ]
     },
     "execution_count": 93,
     "metadata": {},
     "output_type": "execute_result"
    }
   ],
   "source": [
    "count_long['count'].describe()"
   ]
  },
  {
   "cell_type": "code",
   "execution_count": 94,
   "metadata": {
    "colab": {
     "base_uri": "https://localhost:8080/",
     "height": 297
    },
    "id": "JuOuh9EJBhnv",
    "outputId": "3934dffa-ad7c-41e9-f597-a9bfeea09b9b"
   },
   "outputs": [
    {
     "data": {
      "text/plain": [
       "<AxesSubplot:xlabel='targetlabel', ylabel='count'>"
      ]
     },
     "execution_count": 94,
     "metadata": {},
     "output_type": "execute_result"
    },
    {
     "data": {
      "image/png": "[encoded data removed]",
      "text/plain": [
       "<Figure size 432x288 with 1 Axes>"
      ]
     },
     "metadata": {
      "needs_background": "light"
     },
     "output_type": "display_data"
    }
   ],
   "source": [
    "sns.boxplot(data=count_long,y='count',x = 'targetlabel')"
   ]
  },
  {
   "cell_type": "markdown",
   "metadata": {
    "id": "nJ2HerZvPxzi"
   },
   "source": [
    "## look at those tweeted no less than 3\n",
    "\n",
    "since half of these 28 people tweeted within 3.\n",
    "\n",
    "who had tweet more or equal to 3\n"
   ]
  },
  {
   "cell_type": "code",
   "execution_count": 96,
   "metadata": {
    "colab": {
     "base_uri": "https://localhost:8080/"
    },
    "id": "y4xuThiQPxzj",
    "outputId": "c0c28d98-46e0-4346-f562-3ef2035165aa"
   },
   "outputs": [
    {
     "name": "stdout",
     "output_type": "stream",
     "text": [
      "22\n"
     ]
    },
    {
     "name": "stderr",
     "output_type": "stream",
     "text": [
      "<ipython-input-96-8d89a94c2b77>:1: FutureWarning: Dropping of nuisance columns in DataFrame reductions (with 'numeric_only=None') is deprecated; in a future version this will raise TypeError.  Select only valid columns before calling the reduction.\n",
      "  overall = user.sum(axis=1)\n"
     ]
    },
    {
     "data": {
      "text/plain": [
       "Int64Index([   5402612,    9507342,   14173315,   14460241,   15250661,\n",
       "              17919393,   20639175,   22931893,   27831488,   49591803,\n",
       "              64643056,   74014041,  136191905,  162304163,  322572436,\n",
       "             464311706,  499696436,  508110571, 1056552596, 1672611397,\n",
       "            2271035214, 2738397743],\n",
       "           dtype='int64', name='user_id')"
      ]
     },
     "execution_count": 96,
     "metadata": {},
     "output_type": "execute_result"
    }
   ],
   "source": [
    "overall = user.sum(axis=1)\n",
    "engage_user = overall[overall>=3].index\n",
    "print(len(engage_user))\n",
    "engage_user"
   ]
  },
  {
   "cell_type": "code",
   "execution_count": 97,
   "metadata": {
    "colab": {
     "base_uri": "https://localhost:8080/"
    },
    "id": "YfmJ4LKfQO5U",
    "outputId": "14c3f40d-bbcf-459b-88b5-e1c1c7ad0dbb"
   },
   "outputs": [
    {
     "data": {
      "text/plain": [
       "171"
      ]
     },
     "execution_count": 97,
     "metadata": {},
     "output_type": "execute_result"
    }
   ],
   "source": [
    "src_reply_user.loc[src_reply_user['user_id'].isin(engage_user),].shape[0]"
   ]
  },
  {
   "cell_type": "code",
   "execution_count": 98,
   "metadata": {
    "colab": {
     "base_uri": "https://localhost:8080/"
    },
    "id": "_zJS7AvXQTVW",
    "outputId": "f97c088c-3ce3-4c43-dc99-e3a0c021debe"
   },
   "outputs": [
    {
     "data": {
      "text/plain": [
       "targetlabel\n",
       "0              134\n",
       "1               37\n",
       "dtype: int64"
      ]
     },
     "execution_count": 98,
     "metadata": {},
     "output_type": "execute_result"
    }
   ],
   "source": [
    "src_reply_user.loc[src_reply_user['user_id'].isin(engage_user),].value_counts(['targetlabel'])"
   ]
  },
  {
   "cell_type": "code",
   "execution_count": 99,
   "metadata": {
    "colab": {
     "base_uri": "https://localhost:8080/"
    },
    "id": "8mXFxTbbRHWt",
    "outputId": "dfcf8d6d-bcc7-4d89-bce7-992c925f6285"
   },
   "outputs": [
    {
     "data": {
      "text/plain": [
       "sentiment\n",
       "Neutral      76\n",
       "Positive     55\n",
       "Negative     40\n",
       "dtype: int64"
      ]
     },
     "execution_count": 99,
     "metadata": {},
     "output_type": "execute_result"
    }
   ],
   "source": [
    "src_reply_user.loc[src_reply_user['user_id'].isin(engage_user),].value_counts(['sentiment'])"
   ]
  },
  {
   "cell_type": "code",
   "execution_count": 100,
   "metadata": {
    "colab": {
     "base_uri": "https://localhost:8080/"
    },
    "id": "cV_PUkzPPxzk",
    "outputId": "9019f836-4148-4cc4-d72d-fb1f52b53fc9"
   },
   "outputs": [
    {
     "data": {
      "text/plain": [
       "targetlabel  sentiment\n",
       "0            Neutral      63\n",
       "             Positive     43\n",
       "             Negative     28\n",
       "1            Neutral      13\n",
       "             Negative     12\n",
       "             Positive     12\n",
       "dtype: int64"
      ]
     },
     "execution_count": 100,
     "metadata": {},
     "output_type": "execute_result"
    }
   ],
   "source": [
    "src_reply_user.loc[src_reply_user['user_id'].isin(engage_user),].value_counts(['targetlabel','sentiment'])"
   ]
  },
  {
   "cell_type": "code",
   "execution_count": null,
   "metadata": {
    "colab": {
     "base_uri": "https://localhost:8080/"
    },
    "id": "EO0rlwCGPxzl",
    "outputId": "1bf389a2-ebe2-48ab-d4fd-591941e31ce7"
   },
   "outputs": [],
   "source": [
    "# pd.set_option('display.max_colwidth', 100)\n",
    "# src_reply_user.loc[src_reply_user['user_id'].isin(engage_user),'tweet'].sample(10)"
   ]
  },
  {
   "cell_type": "code",
   "execution_count": null,
   "metadata": {
    "id": "xt_W8h4uPxzm"
   },
   "outputs": [],
   "source": []
  },
  {
   "cell_type": "markdown",
   "metadata": {
    "id": "YkBxs4RbMiUW"
   },
   "source": [
    "## look at those tweeted less than 3\n",
    "\n",
    "who tweets less than 3 "
   ]
  },
  {
   "cell_type": "code",
   "execution_count": 101,
   "metadata": {
    "colab": {
     "base_uri": "https://localhost:8080/"
    },
    "id": "Pzv9fa4aMiUX",
    "outputId": "1edd2956-5ea3-4104-a1ba-bf326fc6fe9b"
   },
   "outputs": [
    {
     "name": "stdout",
     "output_type": "stream",
     "text": [
      "15\n"
     ]
    },
    {
     "name": "stderr",
     "output_type": "stream",
     "text": [
      "<ipython-input-101-cf65b92673c8>:1: FutureWarning: Dropping of nuisance columns in DataFrame reductions (with 'numeric_only=None') is deprecated; in a future version this will raise TypeError.  Select only valid columns before calling the reduction.\n",
      "  overall = user.sum(axis=1)\n"
     ]
    },
    {
     "data": {
      "text/plain": [
       "Int64Index([  14515799,   16930489,   18965916,   23055689,   46078438,\n",
       "             115393565,  146765658,  182251918,  254873869,  291859009,\n",
       "             393469195,  548203324,  718612494,  872683897, 2163076560],\n",
       "           dtype='int64', name='user_id')"
      ]
     },
     "execution_count": 101,
     "metadata": {},
     "output_type": "execute_result"
    }
   ],
   "source": [
    "overall = user.sum(axis=1)\n",
    "normal_user = overall[overall<3].index\n",
    "print(len(normal_user))\n",
    "normal_user"
   ]
  },
  {
   "cell_type": "code",
   "execution_count": 102,
   "metadata": {
    "colab": {
     "base_uri": "https://localhost:8080/"
    },
    "id": "jNP07sLeNklO",
    "outputId": "30be5dbd-412b-4cd2-f3d6-c09e57c78b77"
   },
   "outputs": [
    {
     "data": {
      "text/plain": [
       "30"
      ]
     },
     "execution_count": 102,
     "metadata": {},
     "output_type": "execute_result"
    }
   ],
   "source": [
    "src_reply_user.loc[src_reply_user['user_id'].isin(normal_user),].shape[0]"
   ]
  },
  {
   "cell_type": "code",
   "execution_count": 103,
   "metadata": {
    "colab": {
     "base_uri": "https://localhost:8080/"
    },
    "id": "hu9GZJ7iMiUY",
    "outputId": "76f553c9-780f-459e-e1b1-3632482c85b5"
   },
   "outputs": [
    {
     "data": {
      "text/plain": [
       "targetlabel  sentiment\n",
       "0            Positive     10\n",
       "1            Negative      6\n",
       "0            Negative      5\n",
       "             Neutral       4\n",
       "1            Neutral       4\n",
       "             Positive      1\n",
       "dtype: int64"
      ]
     },
     "execution_count": 103,
     "metadata": {},
     "output_type": "execute_result"
    }
   ],
   "source": [
    "src_reply_user.loc[src_reply_user['user_id'].isin(normal_user),].value_counts(['targetlabel','sentiment'])"
   ]
  },
  {
   "cell_type": "code",
   "execution_count": null,
   "metadata": {
    "colab": {
     "base_uri": "https://localhost:8080/"
    },
    "id": "fixuabuqMiUY",
    "outputId": "32908343-1907-4ab0-98c2-f1a6573100dd"
   },
   "outputs": [],
   "source": [
    "pd.set_option('display.max_colwidth', 100)\n",
    "src_reply_user.loc[src_reply_user['user_id'].isin(normal_user),'tweet'].sample(10)"
   ]
  },
  {
   "cell_type": "code",
   "execution_count": null,
   "metadata": {
    "id": "sGkDcb8PMiUZ"
   },
   "outputs": [],
   "source": []
  },
  {
   "cell_type": "markdown",
   "metadata": {
    "id": "BYGCIu4EB6DA"
   },
   "source": [
    "# Save file"
   ]
  },
  {
   "cell_type": "code",
   "execution_count": null,
   "metadata": {
    "id": "dcowSy_thtJy"
   },
   "outputs": [],
   "source": [
    "with open('sydneysiege/17 saved_models/sydneysiege_target_reply_entire.csv', 'w', encoding = 'utf-8') as f:\n",
    "  rumor_reply_entire.to_csv(f)"
   ]
  },
  {
   "cell_type": "code",
   "execution_count": null,
   "metadata": {
    "id": "sstxEyeEqMc2"
   },
   "outputs": [],
   "source": [
    "with open('sydneysiege/17 saved_models/combined_rumor_target.csv', 'w', encoding = 'utf-8') as f:\n",
    "  combined_data.to_csv(f)"
   ]
  },
  {
   "cell_type": "code",
   "execution_count": null,
   "metadata": {},
   "outputs": [],
   "source": []
  }
 ],
 "metadata": {
  "accelerator": "GPU",
  "colab": {
   "provenance": [],
   "toc_visible": true
  },
  "gpuClass": "standard",
  "kernelspec": {
   "display_name": "Python 3",
   "language": "python",
   "name": "python3"
  },
  "language_info": {
   "codemirror_mode": {
    "name": "ipython",
    "version": 3
   },
   "file_extension": ".py",
   "mimetype": "text/x-python",
   "name": "python",
   "nbconvert_exporter": "python",
   "pygments_lexer": "ipython3",
   "version": "3.9.1"
  }
 },
 "nbformat": 4,
 "nbformat_minor": 4
}
