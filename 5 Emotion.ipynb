{
 "cells": [
  {
   "cell_type": "markdown",
   "id": "quality-cemetery",
   "metadata": {},
   "source": [
    "# Dataset: **"
   ]
  },
  {
   "cell_type": "markdown",
   "id": "consolidated-secret",
   "metadata": {},
   "source": [
    "- df.to_csv(r'D:\\論文\\PHEME9\\Data\\CSV\\charliehebdo-df.csv',index=False)\n",
    "- src_tw_df.to_csv(r'D:\\論文\\PHEME9\\Data\\CSV\\charliehebdo-src.csv',index=False)"
   ]
  },
  {
   "cell_type": "code",
   "execution_count": 1,
   "id": "worth-intensity",
   "metadata": {},
   "outputs": [],
   "source": [
    "import numpy as np\n",
    "import pandas as pd\n",
    "import datetime \n",
    "import matplotlib.pyplot as plt\n",
    "import seaborn as sns"
   ]
  },
  {
   "cell_type": "code",
   "execution_count": 3,
   "id": "mental-range",
   "metadata": {},
   "outputs": [],
   "source": [
    "from transformers import AutoTokenizer, AutoModelWithLMHead, AutoModelForSequenceClassification"
   ]
  },
  {
   "cell_type": "code",
   "execution_count": null,
   "id": "forced-remains",
   "metadata": {},
   "outputs": [],
   "source": [
    "df = pd.read_csv(r'D:\\論文\\PHEME9\\Data\\CSV\\charliehebdo-df.csv', encoding = 'utf-8', header = 0)\n",
    "src_tw_df = pd.read_csv(r'D:\\論文\\PHEME9\\Data\\CSV\\charliehebdo-src.csv', encoding = 'utf-8', header =0)"
   ]
  },
  {
   "cell_type": "code",
   "execution_count": null,
   "id": "fresh-findings",
   "metadata": {},
   "outputs": [],
   "source": [
    "df.isnull().sum()"
   ]
  },
  {
   "cell_type": "code",
   "execution_count": null,
   "id": "activated-beast",
   "metadata": {},
   "outputs": [],
   "source": [
    "src_tw_df.isnull().sum()"
   ]
  },
  {
   "cell_type": "code",
   "execution_count": null,
   "id": "delayed-husband",
   "metadata": {},
   "outputs": [],
   "source": [
    "df.dropna(inplace = True)\n",
    "df.reset_index(drop=True,inplace=True)"
   ]
  },
  {
   "cell_type": "markdown",
   "id": "correct-shaft",
   "metadata": {},
   "source": [
    "## Emotion Analysis"
   ]
  },
  {
   "cell_type": "markdown",
   "id": "defined-strain",
   "metadata": {},
   "source": [
    "### T5 Based\n",
    "<https://huggingface.co/mrm8488/t5-base-finetuned-emotion?text=I+wish+you+were+here+but+it+is+impossible>"
   ]
  },
  {
   "cell_type": "code",
   "execution_count": null,
   "id": "damaged-savings",
   "metadata": {},
   "outputs": [],
   "source": [
    "t5_tokenizer = AutoTokenizer.from_pretrained(\"mrm8488/t5-base-finetuned-emotion\",use_fast=False)\n",
    "t5_model = AutoModelWithLMHead.from_pretrained(\"mrm8488/t5-base-finetuned-emotion\")\n",
    "\n",
    "\n",
    "\n",
    "def get_emotion_t5(text):\n",
    "    input_ids = t5_tokenizer.encode(text , return_tensors='pt')\n",
    "    output = t5_model.generate(input_ids=input_ids,max_length=2)\n",
    "  \n",
    "    dec = [t5_tokenizer.decode(ids) for ids in output]\n",
    "    label = dec[0]\n",
    "    return label"
   ]
  },
  {
   "cell_type": "code",
   "execution_count": null,
   "id": "dated-galaxy",
   "metadata": {},
   "outputs": [],
   "source": [
    "emotion_t5 = df.cleaned_reply_tw.astype(str).apply(get_emotion_t5)"
   ]
  },
  {
   "cell_type": "code",
   "execution_count": null,
   "id": "front-hepatitis",
   "metadata": {},
   "outputs": [],
   "source": [
    "df['reply_emo_t5'] = emotion_t5"
   ]
  },
  {
   "cell_type": "code",
   "execution_count": null,
   "id": "overhead-challenge",
   "metadata": {},
   "outputs": [],
   "source": [
    "import re\n",
    "df['reply_emo_t5'] = df['reply_emo_t5'].apply(lambda x : re.sub('<pad> ',\"\",x))"
   ]
  },
  {
   "cell_type": "code",
   "execution_count": null,
   "id": "incorporate-equation",
   "metadata": {},
   "outputs": [],
   "source": [
    "src_emo_t5 = src_tw_df.cleaned_src_tw.astype(str).apply(get_emotion_t5)\n",
    "src_tw_df['src_emo_t5'] = src_emo_t5"
   ]
  },
  {
   "cell_type": "code",
   "execution_count": null,
   "id": "ideal-kuwait",
   "metadata": {},
   "outputs": [],
   "source": [
    "src_tw_df['src_emo_t5']  = src_tw_df.src_emo_t5.apply(lambda x : re.sub('<pad> ',\"\",x))"
   ]
  },
  {
   "cell_type": "markdown",
   "id": "fossil-penny",
   "metadata": {},
   "source": [
    "### roBERTa-base model\n",
    "<https://huggingface.co/cardiffnlp/twitter-roberta-base-emotion>"
   ]
  },
  {
   "cell_type": "code",
   "execution_count": null,
   "id": "sporting-average",
   "metadata": {},
   "outputs": [],
   "source": [
    "import numpy as np\n",
    "from scipy.special import softmax\n",
    "\n",
    "task='emotion'\n",
    "MODEL = f\"cardiffnlp/twitter-roberta-base-{task}\"\n",
    "ro_tokenizer = AutoTokenizer.from_pretrained(MODEL)\n",
    "ro_model = AutoModelForSequenceClassification.from_pretrained(MODEL)\n"
   ]
  },
  {
   "cell_type": "code",
   "execution_count": null,
   "id": "hourly-landscape",
   "metadata": {},
   "outputs": [],
   "source": [
    "def get_emotion_roBERT(text):\n",
    "    \n",
    "    def preprocess(txt):\n",
    "        new_text = []\n",
    "        for t in txt.split(\" \"):\n",
    "            t = '@user' if t.startswith('@') and len(t) > 1 else t\n",
    "            t = 'http' if t.startswith('http') else t\n",
    "            new_text.append(t)\n",
    "        return \" \".join(new_text)\n",
    "    \n",
    "    labels = ['anger','joy','optimism','sadness']\n",
    "    text = preprocess(text)\n",
    "    encoded_input = ro_tokenizer(text, return_tensors='pt')\n",
    "    output = ro_model(**encoded_input)\n",
    "\n",
    "    scores = output[0][0].detach().numpy()\n",
    "    scores = softmax(scores)\n",
    "    ranking = np.argsort(scores)\n",
    "    ranking = ranking[::-1]\n",
    "    emo = labels[ranking[0]]\n",
    "    return emo"
   ]
  },
  {
   "cell_type": "code",
   "execution_count": null,
   "id": "trained-insured",
   "metadata": {},
   "outputs": [],
   "source": [
    "emotion_ro = df.cleaned_reply_tw.apply(get_emotion_roBERT)"
   ]
  },
  {
   "cell_type": "code",
   "execution_count": null,
   "id": "tutorial-miniature",
   "metadata": {},
   "outputs": [],
   "source": [
    "df['reply_emo_ro'] = emotion_ro"
   ]
  },
  {
   "cell_type": "code",
   "execution_count": null,
   "id": "assisted-gossip",
   "metadata": {},
   "outputs": [],
   "source": [
    "df.to_csv(r'D:\\論文\\PHEME9\\Data\\CSV\\charliehebdo-df-2.csv',index=False)"
   ]
  },
  {
   "cell_type": "code",
   "execution_count": null,
   "id": "considered-familiar",
   "metadata": {},
   "outputs": [],
   "source": [
    "src_emo_ro = src_tw_df.cleaned_src_tw.astype(str).apply(get_emotion_roBERT)\n",
    "src_tw_df['src_emo_ro'] = src_emo_ro"
   ]
  },
  {
   "cell_type": "code",
   "execution_count": null,
   "id": "streaming-saskatchewan",
   "metadata": {},
   "outputs": [],
   "source": [
    "src_tw_df.to_csv(r'D:\\論文\\PHEME9\\Data\\CSV\\charliehebdo-src-2.csv',index=False)"
   ]
  },
  {
   "cell_type": "markdown",
   "id": "dimensional-league",
   "metadata": {},
   "source": [
    " - robert : 'anger','joy','optimism','sadness'\n",
    " - t5: 'sadness', 'joy', 'love', 'anger', 'fear', 'surprise' \n",
    " - text2emotion: 'angry, 'fear', 'happy, 'sad', 'surprise'"
   ]
  },
  {
   "cell_type": "code",
   "execution_count": null,
   "id": "committed-elimination",
   "metadata": {},
   "outputs": [],
   "source": [
    "print(\"source tweet:\", df.src_tweet[1118],'\\n')\n",
    "print(\"original reply tw: \", df.reply_tweet[1118])\n",
    "print(\"cleaned reply tw: \", df.cleaned_reply_tw[1118])\n",
    "\n",
    "print('roBERT based: ',df.reply_emo_ro[1118])\n",
    "print('t5 based: ',df.reply_emo_t5[1118])\n",
    "print('text2emotion: ', df.reply_emo_te[1118])"
   ]
  },
  {
   "cell_type": "code",
   "execution_count": null,
   "id": "played-allen",
   "metadata": {},
   "outputs": [],
   "source": []
  }
 ],
 "metadata": {
  "kernelspec": {
   "display_name": "Python 3",
   "language": "python",
   "name": "python3"
  },
  "language_info": {
   "codemirror_mode": {
    "name": "ipython",
    "version": 3
   },
   "file_extension": ".py",
   "mimetype": "text/x-python",
   "name": "python",
   "nbconvert_exporter": "python",
   "pygments_lexer": "ipython3",
   "version": "3.9.1"
  },
  "toc-autonumbering": true,
  "toc-showmarkdowntxt": false
 },
 "nbformat": 4,
 "nbformat_minor": 5
}
