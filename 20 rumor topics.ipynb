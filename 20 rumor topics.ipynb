{
 "cells": [
  {
   "cell_type": "markdown",
   "metadata": {
    "id": "Qp37o0MZ5CNO"
   },
   "source": [
    "# Topic Modeling for all rumor tweets of sydney siege\n",
    "\n",
    "File used:\n",
    "- combined_rumor_target.csv"
   ]
  },
  {
   "cell_type": "markdown",
   "metadata": {
    "id": "4rJc_NMo5EWj"
   },
   "source": [
    "# Load library & data"
   ]
  },
  {
   "cell_type": "code",
   "execution_count": 1,
   "metadata": {
    "id": "cvTpUrviEfx9"
   },
   "outputs": [],
   "source": [
    "import numpy as np\n",
    "import pandas as pd\n",
    "import matplotlib.pyplot as plt\n",
    "import seaborn as sns"
   ]
  },
  {
   "cell_type": "code",
   "execution_count": 2,
   "metadata": {
    "colab": {
     "base_uri": "https://localhost:8080/"
    },
    "executionInfo": {
     "elapsed": 20547,
     "status": "ok",
     "timestamp": 1670924404707,
     "user": {
      "displayName": "Bella Yang",
      "userId": "16101934561747208179"
     },
     "user_tz": -120
    },
    "id": "n-j_9j0LUdk4",
    "outputId": "a908bbc1-6f7c-4a98-87b4-754657240f16"
   },
   "outputs": [],
   "source": [
    "# !pip install pyLDAvis\n",
    "import pyLDAvis.gensim_models\n",
    "from pprint import pprint"
   ]
  },
  {
   "cell_type": "code",
   "execution_count": null,
   "metadata": {
    "colab": {
     "base_uri": "https://localhost:8080/"
    },
    "executionInfo": {
     "elapsed": 31416,
     "status": "ok",
     "timestamp": 1670395603746,
     "user": {
      "displayName": "Bella Yang",
      "userId": "16101934561747208179"
     },
     "user_tz": -120
    },
    "id": "jaW_nfOLUDs9",
    "outputId": "518a051e-a341-4c15-ab7d-8fca35b4e093"
   },
   "outputs": [],
   "source": [
    "# from google.colab import drive\n",
    "# import os\n",
    "# drive.mount('/content/drive')"
   ]
  },
  {
   "cell_type": "code",
   "execution_count": 8,
   "metadata": {
    "id": "K1b28e-GmE02"
   },
   "outputs": [
    {
     "name": "stderr",
     "output_type": "stream",
     "text": [
      "c:\\users\\user\\appdata\\local\\programs\\python\\python39\\lib\\site-packages\\ipykernel\\ipkernel.py:283: DeprecationWarning: `should_run_async` will not call `transform_cell` automatically in the future. Please pass the result to `transformed_cell` argument and any exception that happen during thetransform in `preprocessing_exc_tuple` in IPython 7.17 and above.\n",
      "  and should_run_async(code)\n"
     ]
    },
    {
     "data": {
      "text/html": [
       "<div>\n",
       "<style scoped>\n",
       "    .dataframe tbody tr th:only-of-type {\n",
       "        vertical-align: middle;\n",
       "    }\n",
       "\n",
       "    .dataframe tbody tr th {\n",
       "        vertical-align: top;\n",
       "    }\n",
       "\n",
       "    .dataframe thead th {\n",
       "        text-align: right;\n",
       "    }\n",
       "</style>\n",
       "<table border=\"1\" class=\"dataframe\">\n",
       "  <thead>\n",
       "    <tr style=\"text-align: right;\">\n",
       "      <th></th>\n",
       "      <th>tweet_id</th>\n",
       "      <th>user_id</th>\n",
       "      <th>date</th>\n",
       "      <th>rumorlabel</th>\n",
       "      <th>tweet</th>\n",
       "      <th>cleaned_text</th>\n",
       "      <th>targetlabel</th>\n",
       "      <th>sentiment</th>\n",
       "      <th>src_reply</th>\n",
       "    </tr>\n",
       "  </thead>\n",
       "  <tbody>\n",
       "    <tr>\n",
       "      <th>0</th>\n",
       "      <td>544269152198721536</td>\n",
       "      <td>443573208</td>\n",
       "      <td>Sun Dec 14 23:14:12 +0000 2014</td>\n",
       "      <td>1</td>\n",
       "      <td>@KristyMayr7 that is not an IS flag specifically.</td>\n",
       "      <td>not flag specifically</td>\n",
       "      <td>0</td>\n",
       "      <td>Neutral</td>\n",
       "      <td>reply</td>\n",
       "    </tr>\n",
       "  </tbody>\n",
       "</table>\n",
       "</div>"
      ],
      "text/plain": [
       "             tweet_id    user_id                            date  rumorlabel  \\\n",
       "0  544269152198721536  443573208  Sun Dec 14 23:14:12 +0000 2014           1   \n",
       "\n",
       "                                               tweet           cleaned_text  \\\n",
       "0  @KristyMayr7 that is not an IS flag specifically.  not flag specifically   \n",
       "\n",
       "   targetlabel sentiment src_reply  \n",
       "0            0   Neutral     reply  "
      ]
     },
     "execution_count": 8,
     "metadata": {},
     "output_type": "execute_result"
    }
   ],
   "source": [
    "# load rumor data\n",
    "combined_data = pd.read_csv('sydneysiege/18 analysis/combined_rumor_target.csv',header = 0,index_col = 0,encoding = 'utf-8')\n",
    "combined_data.head(1)"
   ]
  },
  {
   "cell_type": "code",
   "execution_count": 9,
   "metadata": {
    "colab": {
     "base_uri": "https://localhost:8080/"
    },
    "executionInfo": {
     "elapsed": 6,
     "status": "ok",
     "timestamp": 1671708770971,
     "user": {
      "displayName": "Bella Yang",
      "userId": "16101934561747208179"
     },
     "user_tz": -120
    },
    "id": "gr--IcuV3ghW",
    "outputId": "1e874d4b-3478-44de-f28d-7201d6762c86"
   },
   "outputs": [
    {
     "name": "stderr",
     "output_type": "stream",
     "text": [
      "c:\\users\\user\\appdata\\local\\programs\\python\\python39\\lib\\site-packages\\ipykernel\\ipkernel.py:283: DeprecationWarning: `should_run_async` will not call `transform_cell` automatically in the future. Please pass the result to `transformed_cell` argument and any exception that happen during thetransform in `preprocessing_exc_tuple` in IPython 7.17 and above.\n",
      "  and should_run_async(code)\n"
     ]
    },
    {
     "data": {
      "text/plain": [
       "(7870, 9)"
      ]
     },
     "execution_count": 9,
     "metadata": {},
     "output_type": "execute_result"
    }
   ],
   "source": [
    "combined_data.shape"
   ]
  },
  {
   "cell_type": "code",
   "execution_count": 14,
   "metadata": {},
   "outputs": [
    {
     "name": "stderr",
     "output_type": "stream",
     "text": [
      "c:\\users\\user\\appdata\\local\\programs\\python\\python39\\lib\\site-packages\\ipykernel\\ipkernel.py:283: DeprecationWarning: `should_run_async` will not call `transform_cell` automatically in the future. Please pass the result to `transformed_cell` argument and any exception that happen during thetransform in `preprocessing_exc_tuple` in IPython 7.17 and above.\n",
      "  and should_run_async(code)\n"
     ]
    },
    {
     "data": {
      "text/plain": [
       "0    5843\n",
       "1    2027\n",
       "Name: targetlabel, dtype: int64"
      ]
     },
     "execution_count": 14,
     "metadata": {},
     "output_type": "execute_result"
    }
   ],
   "source": [
    "combined_data.targetlabel.value_counts()"
   ]
  },
  {
   "cell_type": "markdown",
   "metadata": {
    "id": "f95aNCmpsQFR"
   },
   "source": [
    "# LDA modeling\n",
    "\n",
    "[report](https://docs.google.com/spreadsheets/d/1MxoVkvCgLIHDSn_I_te9wZIXjlFQDb-fe8FhXAfGy8Y/edit?usp=sharing)"
   ]
  },
  {
   "cell_type": "code",
   "execution_count": 3,
   "metadata": {
    "id": "xM3nqhKupJVJ"
   },
   "outputs": [
    {
     "name": "stderr",
     "output_type": "stream",
     "text": [
      "c:\\users\\user\\appdata\\local\\programs\\python\\python39\\lib\\site-packages\\ipykernel\\ipkernel.py:283: DeprecationWarning: `should_run_async` will not call `transform_cell` automatically in the future. Please pass the result to `transformed_cell` argument and any exception that happen during thetransform in `preprocessing_exc_tuple` in IPython 7.17 and above.\n",
      "  and should_run_async(code)\n",
      "c:\\users\\user\\appdata\\local\\programs\\python\\python39\\lib\\site-packages\\scipy\\sparse\\sparsetools.py:21: DeprecationWarning: `scipy.sparse.sparsetools` is deprecated!\n",
      "scipy.sparse.sparsetools is a private module for scipy.sparse, and should not be used.\n",
      "  _deprecated()\n"
     ]
    }
   ],
   "source": [
    "from nltk import word_tokenize, corpus\n",
    "import gensim\n",
    "from gensim import corpora,models\n",
    "from gensim.models import CoherenceModel\n",
    "from gensim.parsing.preprocessing import remove_stopwords"
   ]
  },
  {
   "cell_type": "code",
   "execution_count": 4,
   "metadata": {
    "colab": {
     "base_uri": "https://localhost:8080/"
    },
    "executionInfo": {
     "elapsed": 662,
     "status": "ok",
     "timestamp": 1671708796145,
     "user": {
      "displayName": "Bella Yang",
      "userId": "16101934561747208179"
     },
     "user_tz": -120
    },
    "id": "pBrgec-lXBqE",
    "outputId": "ae1a83a6-95b1-4993-fa93-297c1ba0dacf"
   },
   "outputs": [
    {
     "name": "stderr",
     "output_type": "stream",
     "text": [
      "c:\\users\\user\\appdata\\local\\programs\\python\\python39\\lib\\site-packages\\ipykernel\\ipkernel.py:283: DeprecationWarning: `should_run_async` will not call `transform_cell` automatically in the future. Please pass the result to `transformed_cell` argument and any exception that happen during thetransform in `preprocessing_exc_tuple` in IPython 7.17 and above.\n",
      "  and should_run_async(code)\n",
      "[nltk_data] Downloading package punkt to\n",
      "[nltk_data]     C:\\Users\\user\\AppData\\Roaming\\nltk_data...\n",
      "[nltk_data]   Unzipping tokenizers\\punkt.zip.\n"
     ]
    },
    {
     "data": {
      "text/plain": [
       "True"
      ]
     },
     "execution_count": 4,
     "metadata": {},
     "output_type": "execute_result"
    }
   ],
   "source": [
    "import nltk\n",
    "nltk.download('punkt')"
   ]
  },
  {
   "cell_type": "code",
   "execution_count": 10,
   "metadata": {
    "id": "k6vDLA2WtOtv"
   },
   "outputs": [
    {
     "name": "stderr",
     "output_type": "stream",
     "text": [
      "c:\\users\\user\\appdata\\local\\programs\\python\\python39\\lib\\site-packages\\ipykernel\\ipkernel.py:283: DeprecationWarning: `should_run_async` will not call `transform_cell` automatically in the future. Please pass the result to `transformed_cell` argument and any exception that happen during thetransform in `preprocessing_exc_tuple` in IPython 7.17 and above.\n",
      "  and should_run_async(code)\n"
     ]
    }
   ],
   "source": [
    "target_tw = combined_data.loc[combined_data.targetlabel==1,'cleaned_text']\n",
    "nontarget_tw = combined_data.loc[combined_data.targetlabel==0,'cleaned_text']"
   ]
  },
  {
   "cell_type": "code",
   "execution_count": 11,
   "metadata": {
    "colab": {
     "base_uri": "https://localhost:8080/",
     "height": 188
    },
    "executionInfo": {
     "elapsed": 338,
     "status": "error",
     "timestamp": 1671708783379,
     "user": {
      "displayName": "Bella Yang",
      "userId": "16101934561747208179"
     },
     "user_tz": -120
    },
    "id": "MiZ1yRkKsTHK",
    "outputId": "94349714-63cf-4489-e13f-2542d9d07a22"
   },
   "outputs": [
    {
     "name": "stderr",
     "output_type": "stream",
     "text": [
      "c:\\users\\user\\appdata\\local\\programs\\python\\python39\\lib\\site-packages\\ipykernel\\ipkernel.py:283: DeprecationWarning: `should_run_async` will not call `transform_cell` automatically in the future. Please pass the result to `transformed_cell` argument and any exception that happen during thetransform in `preprocessing_exc_tuple` in IPython 7.17 and above.\n",
      "  and should_run_async(code)\n"
     ]
    }
   ],
   "source": [
    "target_tw_list = target_tw.apply(word_tokenize).tolist()\n",
    "nontarget_tw_list = nontarget_tw.apply(word_tokenize).tolist()"
   ]
  },
  {
   "cell_type": "markdown",
   "metadata": {
    "id": "7GDX16_Atgrl"
   },
   "source": [
    "## Target"
   ]
  },
  {
   "cell_type": "code",
   "execution_count": 12,
   "metadata": {
    "colab": {
     "base_uri": "https://localhost:8080/"
    },
    "executionInfo": {
     "elapsed": 252,
     "status": "ok",
     "timestamp": 1670396016364,
     "user": {
      "displayName": "Bella Yang",
      "userId": "16101934561747208179"
     },
     "user_tz": -120
    },
    "id": "IuSfUO9aUdl0",
    "outputId": "ca111788-3fe8-43fb-c29f-cef455b865ce"
   },
   "outputs": [
    {
     "name": "stdout",
     "output_type": "stream",
     "text": [
      "Dictionary(4411 unique tokens: ['dudes', 'flag', 'isis', 'not', 'use']...)\n"
     ]
    },
    {
     "name": "stderr",
     "output_type": "stream",
     "text": [
      "c:\\users\\user\\appdata\\local\\programs\\python\\python39\\lib\\site-packages\\ipykernel\\ipkernel.py:283: DeprecationWarning: `should_run_async` will not call `transform_cell` automatically in the future. Please pass the result to `transformed_cell` argument and any exception that happen during thetransform in `preprocessing_exc_tuple` in IPython 7.17 and above.\n",
      "  and should_run_async(code)\n"
     ]
    }
   ],
   "source": [
    "#Rumor dictionary\n",
    "id2word = corpora.Dictionary(target_tw_list)\n",
    "print(id2word)"
   ]
  },
  {
   "cell_type": "code",
   "execution_count": 13,
   "metadata": {
    "id": "LYArx8prUdl5"
   },
   "outputs": [
    {
     "name": "stderr",
     "output_type": "stream",
     "text": [
      "c:\\users\\user\\appdata\\local\\programs\\python\\python39\\lib\\site-packages\\ipykernel\\ipkernel.py:283: DeprecationWarning: `should_run_async` will not call `transform_cell` automatically in the future. Please pass the result to `transformed_cell` argument and any exception that happen during thetransform in `preprocessing_exc_tuple` in IPython 7.17 and above.\n",
      "  and should_run_async(code)\n"
     ]
    }
   ],
   "source": [
    "# Term Document Frequency\n",
    "corpus_target = [id2word.doc2bow(tw) for tw in target_tw_list]"
   ]
  },
  {
   "cell_type": "code",
   "execution_count": 15,
   "metadata": {
    "id": "xRJQmBzxUdmi"
   },
   "outputs": [
    {
     "name": "stderr",
     "output_type": "stream",
     "text": [
      "c:\\users\\user\\appdata\\local\\programs\\python\\python39\\lib\\site-packages\\ipykernel\\ipkernel.py:283: DeprecationWarning: `should_run_async` will not call `transform_cell` automatically in the future. Please pass the result to `transformed_cell` argument and any exception that happen during thetransform in `preprocessing_exc_tuple` in IPython 7.17 and above.\n",
      "  and should_run_async(code)\n"
     ]
    }
   ],
   "source": [
    "def compute_coherence_values(corpus, dictionary, k):\n",
    "    \n",
    "    lda_model = gensim.models.LdaMulticore(corpus=corpus,\n",
    "                                           id2word=dictionary,\n",
    "                                           num_topics=k, \n",
    "                                           random_state=100,\n",
    "                                           chunksize=100,\n",
    "                                           passes=10)\n",
    "    \n",
    "    coherence_model_lda = CoherenceModel(model=lda_model, \n",
    "                                         texts=target_tw_list, \n",
    "                                         dictionary=id2word,    \n",
    "                                         coherence='c_v')\n",
    "    return coherence_model_lda.get_coherence()"
   ]
  },
  {
   "cell_type": "code",
   "execution_count": 19,
   "metadata": {
    "id": "IZ11yMCmUdmj"
   },
   "outputs": [
    {
     "name": "stderr",
     "output_type": "stream",
     "text": [
      "c:\\users\\user\\appdata\\local\\programs\\python\\python39\\lib\\site-packages\\ipykernel\\ipkernel.py:283: DeprecationWarning: `should_run_async` will not call `transform_cell` automatically in the future. Please pass the result to `transformed_cell` argument and any exception that happen during thetransform in `preprocessing_exc_tuple` in IPython 7.17 and above.\n",
      "  and should_run_async(code)\n"
     ]
    }
   ],
   "source": [
    "# Topics range\n",
    "min_topics = 2\n",
    "max_topics = 20\n",
    "step_size = 1\n",
    "topics_range = range(min_topics, max_topics, step_size)"
   ]
  },
  {
   "cell_type": "code",
   "execution_count": 20,
   "metadata": {
    "colab": {
     "base_uri": "https://localhost:8080/"
    },
    "executionInfo": {
     "elapsed": 194100,
     "status": "ok",
     "timestamp": 1670396409637,
     "user": {
      "displayName": "Bella Yang",
      "userId": "16101934561747208179"
     },
     "user_tz": -120
    },
    "id": "W3QNcCGiUdml",
    "outputId": "001b28f3-dba9-4a70-a314-bda2aed8e5fe"
   },
   "outputs": [
    {
     "name": "stderr",
     "output_type": "stream",
     "text": [
      "c:\\users\\user\\appdata\\local\\programs\\python\\python39\\lib\\site-packages\\ipykernel\\ipkernel.py:283: DeprecationWarning: `should_run_async` will not call `transform_cell` automatically in the future. Please pass the result to `transformed_cell` argument and any exception that happen during thetransform in `preprocessing_exc_tuple` in IPython 7.17 and above.\n",
      "  and should_run_async(code)\n"
     ]
    }
   ],
   "source": [
    "target_results ={'Topics': [], 'Coherence': []}\n",
    "\n",
    "for k in topics_range:\n",
    "\n",
    "    # get the coherence score for the given parameters\n",
    "    cv = compute_coherence_values(corpus=corpus_target, \n",
    "                                  dictionary=id2word,k=k)\n",
    "    # Save the model results\n",
    "    target_results['Topics'].append(k)\n",
    "    target_results['Coherence'].append(cv)"
   ]
  },
  {
   "cell_type": "code",
   "execution_count": 21,
   "metadata": {
    "colab": {
     "base_uri": "https://localhost:8080/",
     "height": 614
    },
    "executionInfo": {
     "elapsed": 1010,
     "status": "ok",
     "timestamp": 1670396810818,
     "user": {
      "displayName": "Bella Yang",
      "userId": "16101934561747208179"
     },
     "user_tz": -120
    },
    "id": "3-SWXfuHUdmn",
    "outputId": "8559c25c-9b21-450a-e44f-7c9d80a0d0c4"
   },
   "outputs": [
    {
     "name": "stderr",
     "output_type": "stream",
     "text": [
      "c:\\users\\user\\appdata\\local\\programs\\python\\python39\\lib\\site-packages\\ipykernel\\ipkernel.py:283: DeprecationWarning: `should_run_async` will not call `transform_cell` automatically in the future. Please pass the result to `transformed_cell` argument and any exception that happen during thetransform in `preprocessing_exc_tuple` in IPython 7.17 and above.\n",
      "  and should_run_async(code)\n"
     ]
    },
    {
     "data": {
      "text/html": [
       "<div>\n",
       "<style scoped>\n",
       "    .dataframe tbody tr th:only-of-type {\n",
       "        vertical-align: middle;\n",
       "    }\n",
       "\n",
       "    .dataframe tbody tr th {\n",
       "        vertical-align: top;\n",
       "    }\n",
       "\n",
       "    .dataframe thead th {\n",
       "        text-align: right;\n",
       "    }\n",
       "</style>\n",
       "<table border=\"1\" class=\"dataframe\">\n",
       "  <thead>\n",
       "    <tr style=\"text-align: right;\">\n",
       "      <th></th>\n",
       "      <th>Topics</th>\n",
       "      <th>Coherence</th>\n",
       "    </tr>\n",
       "  </thead>\n",
       "  <tbody>\n",
       "    <tr>\n",
       "      <th>0</th>\n",
       "      <td>2</td>\n",
       "      <td>0.202943</td>\n",
       "    </tr>\n",
       "    <tr>\n",
       "      <th>1</th>\n",
       "      <td>3</td>\n",
       "      <td>0.250643</td>\n",
       "    </tr>\n",
       "    <tr>\n",
       "      <th>2</th>\n",
       "      <td>4</td>\n",
       "      <td>0.318268</td>\n",
       "    </tr>\n",
       "    <tr>\n",
       "      <th>3</th>\n",
       "      <td>5</td>\n",
       "      <td>0.320396</td>\n",
       "    </tr>\n",
       "    <tr>\n",
       "      <th>4</th>\n",
       "      <td>6</td>\n",
       "      <td>0.300456</td>\n",
       "    </tr>\n",
       "    <tr>\n",
       "      <th>5</th>\n",
       "      <td>7</td>\n",
       "      <td>0.309052</td>\n",
       "    </tr>\n",
       "    <tr>\n",
       "      <th>6</th>\n",
       "      <td>8</td>\n",
       "      <td>0.287034</td>\n",
       "    </tr>\n",
       "    <tr>\n",
       "      <th>7</th>\n",
       "      <td>9</td>\n",
       "      <td>0.345960</td>\n",
       "    </tr>\n",
       "    <tr>\n",
       "      <th>8</th>\n",
       "      <td>10</td>\n",
       "      <td>0.390540</td>\n",
       "    </tr>\n",
       "    <tr>\n",
       "      <th>9</th>\n",
       "      <td>11</td>\n",
       "      <td>0.307550</td>\n",
       "    </tr>\n",
       "    <tr>\n",
       "      <th>10</th>\n",
       "      <td>12</td>\n",
       "      <td>0.368741</td>\n",
       "    </tr>\n",
       "    <tr>\n",
       "      <th>11</th>\n",
       "      <td>13</td>\n",
       "      <td>0.379986</td>\n",
       "    </tr>\n",
       "    <tr>\n",
       "      <th>12</th>\n",
       "      <td>14</td>\n",
       "      <td>0.404898</td>\n",
       "    </tr>\n",
       "    <tr>\n",
       "      <th>13</th>\n",
       "      <td>15</td>\n",
       "      <td>0.396831</td>\n",
       "    </tr>\n",
       "    <tr>\n",
       "      <th>14</th>\n",
       "      <td>16</td>\n",
       "      <td>0.399321</td>\n",
       "    </tr>\n",
       "    <tr>\n",
       "      <th>15</th>\n",
       "      <td>17</td>\n",
       "      <td>0.380091</td>\n",
       "    </tr>\n",
       "    <tr>\n",
       "      <th>16</th>\n",
       "      <td>18</td>\n",
       "      <td>0.389799</td>\n",
       "    </tr>\n",
       "    <tr>\n",
       "      <th>17</th>\n",
       "      <td>19</td>\n",
       "      <td>0.379495</td>\n",
       "    </tr>\n",
       "  </tbody>\n",
       "</table>\n",
       "</div>"
      ],
      "text/plain": [
       "    Topics  Coherence\n",
       "0        2   0.202943\n",
       "1        3   0.250643\n",
       "2        4   0.318268\n",
       "3        5   0.320396\n",
       "4        6   0.300456\n",
       "5        7   0.309052\n",
       "6        8   0.287034\n",
       "7        9   0.345960\n",
       "8       10   0.390540\n",
       "9       11   0.307550\n",
       "10      12   0.368741\n",
       "11      13   0.379986\n",
       "12      14   0.404898\n",
       "13      15   0.396831\n",
       "14      16   0.399321\n",
       "15      17   0.380091\n",
       "16      18   0.389799\n",
       "17      19   0.379495"
      ]
     },
     "execution_count": 21,
     "metadata": {},
     "output_type": "execute_result"
    }
   ],
   "source": [
    "target_results = pd.DataFrame(target_results)\n",
    "target_results"
   ]
  },
  {
   "cell_type": "code",
   "execution_count": 22,
   "metadata": {
    "colab": {
     "base_uri": "https://localhost:8080/",
     "height": 279
    },
    "executionInfo": {
     "elapsed": 701,
     "status": "ok",
     "timestamp": 1670397147385,
     "user": {
      "displayName": "Bella Yang",
      "userId": "16101934561747208179"
     },
     "user_tz": -120
    },
    "id": "5Gs4UUZIUdmo",
    "outputId": "3e401e2d-f6e7-4d67-ca95-cbf07ccc304f"
   },
   "outputs": [
    {
     "name": "stderr",
     "output_type": "stream",
     "text": [
      "c:\\users\\user\\appdata\\local\\programs\\python\\python39\\lib\\site-packages\\ipykernel\\ipkernel.py:283: DeprecationWarning: `should_run_async` will not call `transform_cell` automatically in the future. Please pass the result to `transformed_cell` argument and any exception that happen during thetransform in `preprocessing_exc_tuple` in IPython 7.17 and above.\n",
      "  and should_run_async(code)\n"
     ]
    },
    {
     "data": {
      "image/png": "[encoded data removed]",
      "text/plain": [
       "<Figure size 432x288 with 1 Axes>"
      ]
     },
     "metadata": {
      "needs_background": "light"
     },
     "output_type": "display_data"
    }
   ],
   "source": [
    "# Show graph\n",
    "limit=20; start=2; step=1;\n",
    "x = range(start, limit, step)\n",
    "plt.plot(target_results.Topics, target_results.Coherence)\n",
    "plt.xticks(x)\n",
    "plt.xlabel(\"Num Topics\")\n",
    "plt.ylabel(\"Coherence score\")\n",
    "plt.legend((\"coherence_values\"), loc='best')\n",
    "plt.show()"
   ]
  },
  {
   "cell_type": "markdown",
   "metadata": {},
   "source": [
    "### choose the number of topics: **10**"
   ]
  },
  {
   "cell_type": "code",
   "execution_count": 23,
   "metadata": {
    "colab": {
     "base_uri": "https://localhost:8080/"
    },
    "executionInfo": {
     "elapsed": 10991,
     "status": "ok",
     "timestamp": 1670397223896,
     "user": {
      "displayName": "Bella Yang",
      "userId": "16101934561747208179"
     },
     "user_tz": -120
    },
    "id": "PgpL8fyjUdmp",
    "outputId": "89765008-0663-4ad2-b19b-c5262c3c2213"
   },
   "outputs": [
    {
     "name": "stderr",
     "output_type": "stream",
     "text": [
      "c:\\users\\user\\appdata\\local\\programs\\python\\python39\\lib\\site-packages\\ipykernel\\ipkernel.py:283: DeprecationWarning: `should_run_async` will not call `transform_cell` automatically in the future. Please pass the result to `transformed_cell` argument and any exception that happen during thetransform in `preprocessing_exc_tuple` in IPython 7.17 and above.\n",
      "  and should_run_async(code)\n"
     ]
    }
   ],
   "source": [
    "lda_model_target = gensim.models.LdaMulticore(corpus=corpus_target,id2word=id2word,num_topics=10, \n",
    "                                       random_state=100,chunksize=100,passes=10)"
   ]
  },
  {
   "cell_type": "code",
   "execution_count": 24,
   "metadata": {
    "colab": {
     "base_uri": "https://localhost:8080/"
    },
    "executionInfo": {
     "elapsed": 3487,
     "status": "ok",
     "timestamp": 1670397232962,
     "user": {
      "displayName": "Bella Yang",
      "userId": "16101934561747208179"
     },
     "user_tz": -120
    },
    "id": "1l2I0acTUdmr",
    "outputId": "2fc4d851-0e66-4cb6-bbdf-348b8b5b0fa6"
   },
   "outputs": [
    {
     "name": "stderr",
     "output_type": "stream",
     "text": [
      "c:\\users\\user\\appdata\\local\\programs\\python\\python39\\lib\\site-packages\\ipykernel\\ipkernel.py:283: DeprecationWarning: `should_run_async` will not call `transform_cell` automatically in the future. Please pass the result to `transformed_cell` argument and any exception that happen during thetransform in `preprocessing_exc_tuple` in IPython 7.17 and above.\n",
      "  and should_run_async(code)\n",
      "c:\\users\\user\\appdata\\local\\programs\\python\\python39\\lib\\site-packages\\pyLDAvis\\_prepare.py:246: FutureWarning: In a future version of pandas all arguments of DataFrame.drop except for the argument 'labels' will be keyword-only.\n",
      "  default_term_info = default_term_info.sort_values(\n"
     ]
    }
   ],
   "source": [
    "target_topics = pyLDAvis.gensim_models.prepare(lda_model_target,corpus_target,id2word)"
   ]
  },
  {
   "cell_type": "code",
   "execution_count": 25,
   "metadata": {
    "colab": {
     "base_uri": "https://localhost:8080/",
     "height": 881
    },
    "executionInfo": {
     "elapsed": 396,
     "status": "ok",
     "timestamp": 1670397236335,
     "user": {
      "displayName": "Bella Yang",
      "userId": "16101934561747208179"
     },
     "user_tz": -120
    },
    "id": "GkT-QD0xUdmt",
    "outputId": "fc142713-deb4-41d1-8150-3b130783b6e5"
   },
   "outputs": [
    {
     "name": "stderr",
     "output_type": "stream",
     "text": [
      "c:\\users\\user\\appdata\\local\\programs\\python\\python39\\lib\\site-packages\\ipykernel\\ipkernel.py:283: DeprecationWarning: `should_run_async` will not call `transform_cell` automatically in the future. Please pass the result to `transformed_cell` argument and any exception that happen during thetransform in `preprocessing_exc_tuple` in IPython 7.17 and above.\n",
      "  and should_run_async(code)\n"
     ]
    },
    {
     "data": {
      "text/html": [
       "\n",
       "<link rel=\"stylesheet\" type=\"text/css\" href=\"https://cdn.jsdelivr.net/gh/bmabey/pyLDAvis@3.3.1/pyLDAvis/js/ldavis.v1.0.0.css\">\n",
       "\n",
       "\n",
       "<div id=\"ldavis_el1902031165259218889087238044\"></div>\n",
       "<script type=\"text/javascript\">\n",
       "\n",
       "var ldavis_el1902031165259218889087238044_data = {\"mdsDat\": {\"x\": [0.26986845936967263, -0.0091701749774625, 0.05298713021969817, -0.043499059672351466, -0.04031679067520022, -0.10102825245761152, 0.0003211869625904505, -0.08479236179917952, -0.0414985351825111, -0.002871601787644336], \"y\": [-0.027735748877086346, 0.1635714382763369, 0.06704328986382935, -0.02349297710204593, 0.014439988042027384, -0.06770341081252337, -0.15013259474778337, 0.03560239519849491, -0.030719197336415743, 0.019126817495166263], \"topics\": [1, 2, 3, 4, 5, 6, 7, 8, 9, 10], \"cluster\": [1, 1, 1, 1, 1, 1, 1, 1, 1, 1], \"Freq\": [13.988498939494253, 11.820207176781238, 10.86195308059743, 9.991331995894583, 9.381984919873823, 9.329728678206786, 9.311264514507297, 9.266271033350398, 8.95083043916838, 7.097929222125813]}, \"tinfo\": {\"Term\": [\"flag\", \"hostages\", \"sydney\", \"cafe\", \"hold\", \"isis\", \"islam\", \"not\", \"kill\", \"religion\", \"islamic\", \"window\", \"hostage\", \"uber\", \"god\", \"sydneysiege\", \"no\", \"gun\", \"muslims\", \"break\", \"terrorist\", \"embrace\", \"demand\", \"go\", \"gunman\", \"take\", \"siege\", \"gunmen\", \"allah\", \"shahada\", \"cafe\", \"break\", \"window\", \"martin\", \"gunmen\", \"wave\", \"via\", \"hold\", \"sydney\", \"prime\", \"dozen\", \"hostages\", \"hard\", \"lose\", \"caf\\u00e9\", \"secular\", \"minister\", \"visible\", \"latest\", \"develop\", \"supporters\", \"display\", \"windows\", \"inside\", \"script\", \"lindt\", \"multiple\", \"place\", \"siege\", \"nra\", \"two\", \"demand\", \"sydneysiege\", \"flag\", \"gunman\", \"isis\", \"force\", \"black\", \"take\", \"australian\", \"islamic\", \"news\", \"report\", \"islamist\", \"see\", \"not\", \"people\", \"one\", \"say\", \"messenger\", \"update\", \"common\", \"money\", \"rid\", \"represent\", \"putin\", \"catholic\", \"reportedly\", \"gaddafi\", \"system\", \"sense\", \"shahada\", \"encourage\", \"yea\", \"behead\", \"late\", \"duck\", \"judge\", \"round\", \"corrupt\", \"pickup\", \"riders\", \"cost\", \"individual\", \"christianity\", \"heavily\", \"worship\", \"modern\", \"illegal\", \"drivers\", \"race\", \"god\", \"allah\", \"uber\", \"cover\", \"higher\", \"different\", \"islam\", \"buddhists\", \"pay\", \"murder\", \"extremist\", \"difference\", \"act\", \"like\", \"state\", \"muhammad\", \"ppl\", \"name\", \"thing\", \"flag\", \"no\", \"not\", \"religion\", \"make\", \"mean\", \"islamic\", \"say\", \"isis\", \"use\", \"thats\", \"time\", \"take\", \"know\", \"people\", \"militants\", \"assault\", \"clearly\", \"sorry\", \"second\", \"soon\", \"confuse\", \"communism\", \"dude\", \"dear\", \"note\", \"wrong\", \"outpost\", \"calm\", \"creed\", \"press\", \"seekers\", \"morning\", \"leader\", \"stream\", \"damage\", \"commonly\", \"v\", \"minster\", \"justice\", \"nasty\", \"isil\", \"pussy\", \"misguide\", \"clever\", \"similar\", \"involve\", \"fair\", \"deliver\", \"anyone\", \"saudi\", \"do\", \"write\", \"probably\", \"not\", \"im\", \"flag\", \"isis\", \"may\", \"islamic\", \"get\", \"allow\", \"want\", \"also\", \"confirm\", \"use\", \"muslims\", \"mean\", \"one\", \"police\", \"still\", \"us\", \"like\", \"say\", \"dont\", \"group\", \"innocent\", \"even\", \"know\", \"terrorist\", \"terrorists\", \"r\", \"events\", \"palestine\", \"publicity\", \"rifle\", \"several\", \"ally\", \"cut\", \"hours\", \"btw\", \"mercy\", \"commit\", \"abide\", \"powerful\", \"enjoy\", \"dangerous\", \"bloke\", \"blaze\", \"jehovahs\", \"stun\", \"offenders\", \"doors\", \"refuse\", \"financial\", \"bs\", \"kosher\", \"sight\", \"families\", \"unite\", \"seek\", \"deal\", \"kill\", \"australians\", \"carry\", \"person\", \"gun\", \"live\", \"muslim\", \"children\", \"laws\", \"arm\", \"image\", \"terrorists\", \"dont\", \"us\", \"ago\", \"want\", \"innocent\", \"people\", \"not\", \"sure\", \"muslims\", \"god\", \"isis\", \"attack\", \"youre\", \"no\", \"state\", \"like\", \"obama\", \"know\", \"take\", \"go\", \"police\", \"get\", \"say\", \"surge\", \"dickhead\", \"attention\", \"create\", \"hadiths\", \"beliefs\", \"minimum\", \"wtf\", \"longer\", \"phone\", \"surah\", \"backlash\", \"pc\", \"unless\", \"notice\", \"sound\", \"birmingham\", \"copycat\", \"arse\", \"mess\", \"airtime\", \"recent\", \"provide\", \"algebra\", \"panic\", \"bus\", \"hysteria\", \"detail\", \"corp\", \"ridiculous\", \"violence\", \"folks\", \"without\", \"something\", \"facts\", \"go\", \"price\", \"denounce\", \"guy\", \"wow\", \"prove\", \"really\", \"uber\", \"help\", \"think\", \"extremist\", \"see\", \"would\", \"look\", \"oh\", \"back\", \"around\", \"know\", \"fear\", \"well\", \"get\", \"islam\", \"thats\", \"right\", \"dont\", \"like\", \"people\", \"no\", \"one\", \"muslims\", \"not\", \"take\", \"islamic\", \"gain\", \"power\", \"enemy\", \"destroy\", \"daily\", \"girls\", \"fake\", \"store\", \"order\", \"theories\", \"correct\", \"gaza\", \"wonder\", \"agenda\", \"civilize\", \"gee\", \"propaganda\", \"mosques\", \"preach\", \"jihad\", \"cold\", \"massively\", \"governments\", \"resolution\", \"terorists\", \"gangster\", \"brainwash\", \"shutdown\", \"obvious\", \"heaven\", \"huh\", \"strike\", \"peace\", \"sniper\", \"halal\", \"religion\", \"nato\", \"fuck\", \"hes\", \"shoot\", \"u\", \"teach\", \"people\", \"no\", \"cop\", \"ban\", \"terrorist\", \"gun\", \"peaceful\", \"islam\", \"australia\", \"use\", \"world\", \"terrorism\", \"read\", \"call\", \"right\", \"dont\", \"kill\", \"say\", \"would\", \"not\", \"like\", \"taker\", \"iranian\", \"sunni\", \"islams\", \"disgust\", \"haron\", \"great\", \"sydneyseige\", \"offer\", \"rt\", \"identity\", \"shia\", \"refugee\", \"thugs\", \"pm\", \"org\", \"empathy\", \"sympathy\", \"ill\", \"near\", \"expert\", \"monis\", \"cleric\", \"virgin\", \"ive\", \"bastards\", \"tl\", \"reveal\", \"biggest\", \"suffer\", \"local\", \"opera\", \"fault\", \"stupid\", \"situation\", \"crime\", \"hostage\", \"guess\", \"cnn\", \"maybe\", \"long\", \"make\", \"man\", \"terror\", \"show\", \"let\", \"australia\", \"know\", \"hope\", \"media\", \"sex\", \"gunman\", \"never\", \"well\", \"free\", \"think\", \"want\", \"islamic\", \"not\", \"would\", \"even\", \"sydney\", \"people\", \"say\", \"embrace\", \"bieber\", \"katy\", \"nasa\", \"fox\", \"islamism\", \"however\", \"finance\", \"obamas\", \"sadly\", \"indian\", \"result\", \"thou\", \"whos\", \"allege\", \"fail\", \"funny\", \"taliban\", \"perpetrators\", \"ethics\", \"sad\", \"none\", \"opportunity\", \"isolate\", \"thus\", \"viewers\", \"friend\", \"mh\", \"creation\", \"infallible\", \"radical\", \"scumbag\", \"immigration\", \"europe\", \"countries\", \"support\", \"human\", \"practice\", \"bible\", \"remember\", \"muslims\", \"refer\", \"islam\", \"stop\", \"terrorist\", \"islamists\", \"hope\", \"not\", \"west\", \"shit\", \"one\", \"put\", \"need\", \"media\", \"terrorists\", \"muslim\", \"real\", \"world\", \"let\", \"people\", \"mean\", \"see\", \"religion\", \"australia\", \"attack\", \"state\", \"dead\", \"wish\", \"young\", \"pour\", \"falseflag\", \"alive\", \"body\", \"israeli\", \"islamization\", \"hahaha\", \"request\", \"directly\", \"storm\", \"behind\", \"arrest\", \"thousands\", \"usa\", \"ira\", \"intelligent\", \"jabah\", \"cross\", \"re\", \"workplaceviolence\", \"fuckwit\", \"refute\", \"disclose\", \"queda\", \"seguridad\", \"debe\", \"dice\", \"wait\", \"together\", \"en\", \"politics\", \"statement\", \"los\", \"d\", \"le\", \"de\", \"que\", \"iran\", \"hell\", \"info\", \"group\", \"la\", \"police\", \"no\", \"send\", \"say\", \"tweet\", \"media\", \"not\", \"terrorist\", \"hate\", \"like\", \"would\", \"isis\", \"could\", \"al\", \"terrorists\", \"theyre\", \"one\", \"demand\", \"well\", \"dont\", \"muslim\", \"saudis\", \"hadley\", \"sydneys\", \"blow\", \"describe\", \"moslems\", \"bang\", \"allahu\", \"ackbar\", \"seal\", \"jesus\", \"fun\", \"weapon\", \"leftist\", \"ray\", \"chocolate\", \"shock\", \"shop\", \"intros\", \"sheik\", \"comprise\", \"goodness\", \"navy\", \"deadly\", \"tie\", \"jerk\", \"knee\", \"intention\", \"explosives\", \"assad\", \"remain\", \"better\", \"justify\", \"company\", \"scum\", \"choose\", \"someone\", \"crisis\", \"charge\", \"must\", \"al\", \"last\", \"bear\", \"racist\", \"idiots\", \"way\", \"would\", \"use\", \"could\", \"flag\", \"enough\", \"no\", \"bad\", \"hostage\", \"say\", \"people\", \"need\", \"islamic\", \"force\", \"cant\", \"think\", \"islam\", \"terrorists\"], \"Freq\": [287.0, 141.0, 127.0, 82.0, 86.0, 216.0, 140.0, 292.0, 62.0, 92.0, 127.0, 31.0, 63.0, 40.0, 40.0, 64.0, 131.0, 58.0, 100.0, 27.0, 79.0, 20.0, 40.0, 43.0, 36.0, 68.0, 29.0, 23.0, 34.0, 23.0, 80.61390345883667, 26.52571267665655, 30.64793617240173, 13.101035524788303, 21.246874408069246, 8.385852395431188, 16.07499531201269, 79.16866302814938, 115.7676811136063, 6.7688988579629905, 6.292065889632351, 126.67527770082725, 5.799384224678955, 5.656680758271529, 5.318353991920112, 10.471632029037853, 4.958048267423807, 4.678903164453493, 4.473221642469093, 4.270549745859744, 4.268567704324203, 13.674407924401953, 6.283198537117295, 20.152211869040332, 3.761693106591195, 11.879598684100477, 2.936573532431243, 16.001299430707526, 23.673569884657542, 2.8044319480484394, 8.818256973247731, 29.1834961643804, 44.217979874488975, 139.9707547600922, 23.13857784423736, 99.51829786382949, 16.420712224044998, 14.240378431163066, 34.460826096128685, 19.39347614919608, 44.03119044762086, 15.561453607013442, 15.454408680129697, 9.70640658421918, 12.677225765104689, 21.9720508079625, 14.832790646576413, 12.847686623388416, 12.929654862964894, 8.827384930141537, 6.016451030519337, 6.689115516768949, 5.846194182538244, 10.129308188771805, 5.379574817408935, 4.957240139795467, 4.664271423775086, 4.686292914860496, 4.311154804145291, 4.033605598718588, 4.033697665128242, 19.597393934464677, 5.792518721237706, 3.449548207431298, 6.311576730994466, 3.2602760475738175, 3.2580183111990704, 3.255916169538213, 3.249205744245892, 3.248731763538509, 3.1771740772254105, 3.165910707410394, 5.773002131335709, 2.973646513317881, 2.9726054928637082, 2.834718052992709, 2.74926330197064, 2.689409464925754, 5.431866056517966, 11.262781185572678, 7.21179414355226, 28.192920406741443, 23.64054763878392, 24.090685379483112, 6.905410036410883, 5.355753192265225, 9.267937837939188, 54.54332940573852, 4.518905759497294, 9.987009750432886, 8.610283898824738, 10.16889227808909, 8.221914529807844, 10.11077777653009, 25.574245986220426, 15.112774102974397, 10.0974586704952, 10.443091358097119, 9.059081589356461, 8.63724074504545, 35.60348915478317, 24.06406702000841, 35.71752246088602, 17.673824381034734, 13.950645870444266, 11.76009564057506, 17.340989668847023, 15.837908005373825, 18.398410351810128, 11.643713772474994, 9.755260481841018, 9.198269126047343, 10.026588876601403, 9.805775410005836, 10.133601312456474, 6.580942538766517, 6.381305334922033, 5.647193192587588, 5.057088923662942, 5.965032404817189, 3.7414137328847414, 3.5224832448649606, 3.0858155996697856, 3.974839781472891, 2.7906277816889435, 2.957296855047159, 13.765757460935166, 2.645217009109517, 2.498032317050159, 2.497581710944959, 4.84562969466373, 2.3478673764134474, 2.28384505119037, 2.2837141565019166, 2.276195693299275, 2.547851656417909, 2.0500447897385405, 1.9869391834136925, 1.9864760351345123, 1.9859098129891632, 1.9859782248472402, 4.3219797925167915, 1.9852512348354105, 1.9843881052260082, 1.9847344972674037, 4.123472752567736, 6.6747219698972655, 3.72373040776952, 5.758609656809592, 6.527729059080049, 7.800252558218193, 10.73113513878284, 8.45836642349416, 7.259173138949498, 102.0901145958169, 8.440972480538603, 88.90257051071453, 56.56718586058771, 9.024175361220461, 35.03363589985464, 20.35717066261987, 5.066051789229112, 14.404216143306611, 10.043268500350214, 5.6543048332742, 14.473704347950498, 17.483934650145063, 10.721419742777826, 14.3212042825581, 11.770100554446746, 7.252238913014832, 8.85365105162009, 11.049744668534387, 11.30133702995578, 10.075852612273145, 7.854320730051567, 7.454556949537821, 7.754297120594621, 7.909435147234462, 7.828754762609208, 7.604145406250471, 13.19736497637459, 4.681613785809691, 3.9252963584841845, 3.924613794847617, 3.9245894625237567, 3.922902980766534, 3.6118393915804416, 4.3700161440671454, 3.173477474413082, 3.1640910707225083, 3.1883967548835397, 6.0503036467763, 2.8945029763635826, 2.8937786702059096, 2.8936765163979783, 2.8931231657915664, 2.8925809325400214, 2.878383231328873, 2.760057657532551, 2.7595886310139996, 2.7581815514583465, 2.7577011978235157, 2.7571696624040127, 2.616687619880056, 2.4806239917508925, 2.52624227447671, 2.467866092875761, 2.342177264213295, 2.3331164102350614, 2.4199442103168813, 6.049025780250802, 40.82221556188783, 7.692378912953949, 8.9423110916143, 7.51629930990642, 26.836062930564463, 16.72630456008537, 30.652636592720693, 4.862290519975541, 5.421237560875642, 9.66833561477922, 4.8668381474004905, 19.710162332268244, 19.549308890637793, 13.660774084296486, 5.572134467296101, 13.130130570319968, 8.954906005871848, 18.09543408097277, 29.920327617634577, 7.293802862435343, 15.564994900152959, 8.906579493548083, 15.798043185722959, 7.817508307929037, 6.463826036987586, 11.562105278014812, 7.894062833067854, 9.702608112459462, 6.296089064841584, 8.069102858554587, 7.913002610533423, 7.215378104541875, 7.700340617130212, 7.428926969197517, 7.133190226906544, 9.659146598664346, 3.884184419351004, 3.5939949534556996, 10.473257106279657, 3.249613917895442, 3.016417308716118, 2.826577815852796, 2.8261113942709626, 2.6799849399357925, 2.6773177884832573, 2.674371138625054, 2.6707538107743924, 2.539278469835126, 2.538230203087442, 2.5336853502245957, 5.492134216880637, 2.39979162914101, 2.3839693406076146, 2.367127345769679, 2.253486524309758, 2.193791061798028, 2.1905194137937, 2.1903415511719113, 2.1877606719545293, 2.106103804413383, 1.97066072853136, 1.9087558695316984, 1.9086323702361707, 1.9084413107199638, 1.9058830828885238, 8.395187444982474, 3.3049297841774155, 5.1703435070046915, 6.581418094228822, 6.303172408687911, 22.478086688189467, 11.299953905735824, 3.1412563844800783, 9.3722374473906, 4.347987107032172, 4.882726844615259, 10.841871973300755, 13.90131391538096, 6.987838321355807, 15.916704237247838, 7.2529052335870485, 13.394260080476284, 15.6265994678391, 9.352379863693768, 6.770900286099979, 7.002287148026819, 6.18398475523221, 12.867438479544251, 5.5882726078759815, 10.157306908542445, 11.54187622271718, 17.02948055634655, 9.160145626914936, 8.460224892173636, 10.954700299395363, 11.353627841989859, 11.638891123864196, 11.930867094720323, 9.880653516948975, 9.738871598437493, 10.25839827128474, 7.933929591269753, 6.949503509724595, 8.376460643874417, 7.404557288485035, 6.764140571750506, 5.414513937699894, 5.028767371141127, 3.9137395441327265, 3.7820841316307545, 3.7815098364275035, 3.7814992593671435, 3.7818996206889186, 3.781112217306562, 3.786810118896801, 7.02732760597394, 3.156766756174615, 2.8863718470588053, 2.8866772107088288, 2.8861111421080796, 2.8850222925054623, 2.749249073708145, 10.674332491489887, 2.3358889364931827, 2.1390096895381867, 2.1372296094538936, 2.1811635842455956, 2.136997893483414, 2.1353010587815837, 2.1358156131809496, 2.1338286928051717, 2.13355270987837, 2.130250316588187, 3.975053196067843, 5.529050965623642, 13.82909274013991, 5.691871098861941, 3.2213649770944928, 41.38811867128754, 4.5587580656098154, 17.546429592648305, 9.715849466982485, 11.720828410481923, 14.986475426002558, 7.326445305983329, 27.82984725249314, 27.201557331332857, 5.701811576885476, 6.117572315059186, 16.80760390632417, 13.944429707221255, 7.86414388038899, 17.8263080116058, 11.278023304196578, 11.902150564490727, 9.161783871027138, 9.173556530950815, 7.276454984778076, 9.324723877616185, 8.301043853049634, 10.09522355054583, 9.48882344341507, 9.682710361645622, 8.471988735616332, 10.683916091662015, 7.063903864184833, 13.10254165319205, 8.864757625264915, 6.263031069702382, 5.517305552388885, 4.341970270985823, 4.15844651837145, 10.948757727692765, 3.940972695387696, 3.6664226721757514, 3.475043987692209, 3.4751792625131106, 3.4744465890611753, 3.1364898167770012, 3.1320578070378686, 12.44056141517656, 2.8650086944513764, 2.863749778488073, 2.863178574692301, 2.730924174683459, 2.7130862738059074, 2.5897342081089967, 6.1807139953776495, 3.784582491459416, 2.569436924974563, 3.570754833156956, 3.5633084625243234, 2.1226353341159427, 2.12076983178088, 2.120502800848291, 2.118122980516419, 6.928899090431874, 3.989250167741928, 4.387021086990631, 5.525042412015535, 12.107872150586047, 7.5740896119479535, 30.96181986212322, 5.586087325269653, 5.620198474327508, 9.071600645777185, 4.801471078882344, 18.592717175604058, 8.84346708871285, 8.381874994640022, 7.641364986317353, 12.55660688119018, 14.897672149776914, 15.895152710077374, 9.095132991066386, 13.787732079119797, 5.092937101157719, 9.15495808512625, 7.568006936619669, 9.691586262224245, 7.387920180972192, 10.167631649878253, 9.830718370359934, 13.127400160887316, 16.123330837458422, 10.199050595419553, 8.279784729369927, 10.705024559778801, 8.342598380455719, 7.497918158749671, 20.046689406563914, 9.042890294367117, 9.042757229529126, 9.042699645915024, 4.788120311187086, 4.161112958392959, 3.8953381219774803, 3.8943311868876482, 3.7627705262750895, 3.6691185595081746, 2.871585893278332, 2.871196620265435, 2.8712182141207228, 2.8694681391462002, 2.8691109651073803, 2.5959930506585165, 2.44578463696038, 2.324115518383681, 2.3236250849676323, 2.320475689262591, 7.025414135408954, 2.2858311692717184, 2.124927766489616, 2.124195715341424, 2.1252433091317537, 2.121863773509543, 2.1217908212957317, 2.120922787220996, 2.122403814430983, 2.1199337497409525, 8.22859184762879, 3.4837250012800154, 3.485999164958558, 4.332877097688807, 8.24871965522817, 12.4041135491368, 5.109552045102683, 4.498066588936749, 11.079815708066599, 4.68071986747492, 34.73619777346423, 3.158987073034492, 38.15646524292571, 11.994420141628375, 24.36571258704111, 8.399626075708053, 9.249175032159979, 37.197810122733095, 5.630237090635157, 5.345873641062098, 13.998757120531039, 5.3444398868866605, 8.792915934766972, 10.773876300815196, 11.501521524370805, 12.12898993515622, 5.791349039479142, 7.476523390124595, 7.432852444084046, 9.588228908304584, 7.2958835926876136, 7.397825265414329, 7.78229938441706, 6.603991568233572, 6.169682332932097, 6.050923910416848, 9.786877513917116, 4.581148145215702, 4.158348566865592, 4.020749518693598, 3.9557795504636477, 3.956076458960265, 3.8216257683530293, 3.6748293217896326, 2.917391129823148, 2.9172565814158204, 2.9488153237714125, 2.7819138499013443, 2.7807799601111, 5.763909074003231, 2.2199666012775814, 2.151020126277436, 11.057401587636267, 1.8787426323729535, 1.8783158733882592, 1.8779451136010281, 1.8775583808883463, 1.8774743820921513, 1.8775999104945185, 1.8773569341108947, 1.8767445133574299, 1.876286184355374, 1.8758701366265702, 1.8965058408917521, 1.7414254593559753, 1.741403285177114, 5.450680757578023, 5.199471364426517, 8.922310790119097, 3.1988733508730633, 5.3348349547024645, 2.3705559599268735, 2.6106466936303883, 5.197894366892587, 7.881423264354225, 7.3359512427076075, 7.586736695625969, 4.771433042362049, 3.014521174072724, 12.925602465045163, 8.671944015764318, 19.38776853888511, 30.27742058426825, 6.095180407017784, 17.61885085607657, 6.386294302114596, 11.641289058742627, 25.154741783740132, 13.209522154518886, 6.443158668386905, 12.495998420452965, 9.393018997316348, 13.285926106536905, 6.60118690029384, 6.120012856507614, 8.246077259894093, 5.889402899684678, 7.718264904625999, 6.666923944778973, 6.368228735512851, 6.459525467387755, 5.757214726988371, 5.442692232303281, 5.352313826078817, 4.29951998712422, 4.025781751138497, 3.558490074086996, 3.2937536167710295, 3.2933488884094375, 3.080449848905288, 3.080448358741954, 3.0171602278368144, 5.220016529195546, 2.6918942299801394, 2.691186402396353, 2.4205739330206293, 2.4172173401101493, 4.158065338519092, 2.3588172429741356, 4.4326970764400535, 2.086752758445483, 2.065417344906839, 2.058802658882276, 2.0512983453471434, 1.8790835961793448, 1.8742964464679501, 1.8181245905656949, 1.8182366508484331, 1.8182362037994328, 1.818107602703684, 1.817556242269998, 1.8175389563753204, 4.703049363297611, 6.766266034992376, 2.692005694197544, 3.3659842178452215, 5.82429564320865, 2.5555407085009407, 4.158875689340277, 5.3204898979117985, 4.331370142165921, 6.383775082805106, 7.752258235932254, 4.082967365157067, 4.253081729105189, 5.9520515183143505, 4.486711920915929, 6.149344375251187, 9.657851092746885, 9.525664664015684, 6.056591244737204, 15.585496715972294, 5.060670979598977, 10.52874188561582, 5.796244808604045, 6.656382582852772, 7.113925313338705, 6.904495374076774, 5.467961826060774, 5.943315584783431, 4.584376033714386, 4.45866436467066, 4.712190025190123, 4.712702045311784, 4.463555974831787], \"Total\": [287.0, 141.0, 127.0, 82.0, 86.0, 216.0, 140.0, 292.0, 62.0, 92.0, 127.0, 31.0, 63.0, 40.0, 40.0, 64.0, 131.0, 58.0, 100.0, 27.0, 79.0, 20.0, 40.0, 43.0, 36.0, 68.0, 29.0, 23.0, 34.0, 23.0, 82.01303599815527, 27.278025185233886, 31.536414556478892, 13.856134191598303, 23.0461947212431, 9.174585364156602, 17.602834824983404, 86.71788197773037, 127.91897764800302, 7.497720408244653, 7.015481340599448, 141.45315037853024, 6.5201077019253555, 6.388119046391696, 6.038522171075913, 11.935061664043797, 5.681879208464426, 5.4017309274241585, 5.199659531739797, 4.990487829143695, 4.989277472489029, 16.04117817731889, 7.481818087512406, 24.02937745015613, 4.4919293178839625, 14.309773078749842, 3.656969014359104, 19.991720187511543, 29.70181386336001, 3.524054085550387, 11.199454724598729, 40.95563975305317, 64.68496361790963, 287.12501031172064, 36.21486549734322, 216.5163882274805, 24.72024483808232, 21.911553800540876, 68.73059279976758, 37.74801332945311, 127.0124027986022, 30.03187158939873, 37.350786730521435, 22.15224273945585, 50.61013385724707, 292.35287586515693, 110.36466452294574, 75.54665434335881, 99.13131191367697, 9.592463102261238, 6.735386081495347, 7.509185278276402, 6.585671793498852, 11.523925068874899, 6.143356550834296, 5.676040772399485, 5.390034353294577, 5.44955523596608, 5.0339578472348245, 4.752422961917463, 4.7526111100111335, 23.343417356440405, 6.979414005397909, 4.186278786673444, 7.688268904630087, 3.979261439132962, 3.9776259777608867, 3.975858476049397, 3.973338959353505, 3.975531985794782, 3.897912860025446, 3.8975749148389176, 7.128201956350905, 3.6928023858250727, 3.6918444946338105, 3.5534982804597046, 3.4718054197917345, 3.4082099666013015, 6.914293728234343, 14.730223351085106, 9.439138981634024, 40.419587667990726, 34.84916297123736, 40.403811196026474, 9.908033103784089, 7.330195968768379, 14.919427846416278, 140.72761219594844, 6.015236083240366, 17.332582587555184, 14.329911524274985, 18.07395810497052, 13.937423574969094, 18.719141724979977, 90.53556802214224, 38.84278060241665, 21.14988164529035, 23.389511722798275, 18.541525829961195, 16.970620305837077, 287.12501031172064, 131.5313823415193, 292.35287586515693, 92.19332292616757, 54.21695529131362, 40.53962193929307, 127.0124027986022, 99.13131191367697, 216.5163882274805, 65.24320569082263, 40.53762123333099, 28.8538941784777, 68.73059279976758, 64.34527838554709, 110.36466452294574, 7.318189581643888, 7.097977729411161, 6.366394595927465, 5.774503447283224, 7.005400874449303, 4.46031250789027, 4.309019247073051, 3.8016300225358526, 4.946253392860053, 3.5063574652989935, 3.7166513163453123, 17.435131770657406, 3.3608461080925416, 3.21365364874545, 3.2132323005793784, 6.307116154924143, 3.0634859884497616, 2.9996776682671262, 2.9995367191442766, 2.992516873239599, 3.356695247397356, 2.7686420057474685, 2.702615257622032, 2.7023011672869393, 2.701581753049029, 2.7018555221235867, 5.8802083552854025, 2.701154680549913, 2.700340686030542, 2.70086361078685, 5.632348579188266, 9.30520070491384, 5.149707477582511, 8.246494792737142, 9.669908058091348, 11.892546902510203, 17.45463738639799, 14.022796157360041, 11.92881445055082, 292.35287586515693, 15.066143437711055, 287.12501031172064, 216.5163882274805, 18.40111503081004, 127.0124027986022, 60.407194821930055, 8.986635278876948, 53.06779425004137, 29.23244254165261, 11.02141025152939, 65.24320569082263, 100.4390871900436, 40.53962193929307, 75.54665434335881, 66.61503010919677, 23.815958515722713, 43.686642247959156, 90.53556802214224, 99.13131191367697, 75.57782557351682, 31.4884515353302, 26.849519723507463, 38.419616463355396, 64.34527838554709, 79.57924852589663, 71.70032468110212, 15.207670606645019, 5.405708485491473, 4.646396472717925, 4.645974977737778, 4.645969634898016, 4.644391261097811, 4.368147482969263, 5.3244471934371225, 3.8945283877978505, 3.8905746779747648, 3.9562867765515883, 7.522080266556096, 3.615588234687573, 3.6149786025077506, 3.6149313485252175, 3.61441456358678, 3.613966180507194, 3.61952136546908, 3.4809310550980506, 3.480496124484713, 3.47919237600229, 3.4787463330154025, 3.480006486724186, 3.3377803737535907, 3.201535325681699, 3.262586155038731, 3.2020502731346268, 3.0631003372891037, 3.0610871209022075, 3.2017345500848062, 8.166308452516564, 62.080688252613136, 10.767082233442103, 13.26840128802087, 11.592338811434953, 58.65297300695543, 33.20714293750836, 85.69664152837812, 7.379566033474287, 9.060949723050692, 21.677627756914898, 8.100833988527711, 71.70032468110212, 75.57782557351682, 43.686642247959156, 10.464447963245876, 53.06779425004137, 26.849519723507463, 110.36466452294574, 292.35287586515693, 20.405711233841526, 100.4390871900436, 40.419587667990726, 216.5163882274805, 32.219482481668365, 20.193295256210916, 131.5313823415193, 38.84278060241665, 90.53556802214224, 20.425002910378154, 64.34527838554709, 68.73059279976758, 43.62102665925056, 66.61503010919677, 60.407194821930055, 99.13131191367697, 11.174864485660478, 4.603174018842066, 4.3164137520710675, 12.616390912338908, 3.968921507627302, 3.745877760085451, 3.545549139081477, 3.5451364586327485, 3.399148521111234, 3.398360541659827, 3.3976587847057638, 3.3994351077750316, 3.2584126217351614, 3.259006886365479, 3.258270088986483, 7.100686964144496, 3.1187356709495226, 3.118778692698503, 3.117896757262824, 2.974381850143062, 2.9130216911884768, 2.909890334611011, 2.909752950772521, 2.9081099465484965, 2.832517169521614, 2.6912857838939996, 2.627768856073427, 2.627735878058737, 2.6275149954789856, 2.6252769213455376, 12.08108966936507, 4.642727883041171, 7.494409413606287, 10.033243726675742, 9.690476028331254, 43.62102665925056, 20.421048506558947, 4.500255434365881, 18.097707058943513, 6.898278495929948, 8.218812798013767, 26.78562768422459, 40.403811196026474, 15.264502501467211, 54.85034718639059, 18.07395810497052, 50.61013385724707, 66.11670933386114, 28.877791904562716, 17.460981421555946, 18.669490568461494, 15.78690522882976, 64.34527838554709, 13.109870750375967, 45.657169981102555, 60.407194821930055, 140.72761219594844, 40.53762123333099, 36.8133500514922, 75.57782557351682, 90.53556802214224, 110.36466452294574, 131.5313823415193, 75.54665434335881, 100.4390871900436, 292.35287586515693, 68.73059279976758, 127.0124027986022, 9.09759004342356, 8.198056256362559, 7.513405936704458, 6.139935004783843, 5.8708773194678505, 4.635592669055534, 4.503241552801045, 4.502692525592879, 4.502712013549016, 4.503287732223771, 4.5023589052612705, 4.558039201159201, 8.534495281471317, 3.880596468066053, 3.6076728603597843, 3.6080919785379364, 3.6075206578424504, 3.6065770728809614, 3.4706414464031687, 13.875810563018591, 3.057060747080813, 2.8600779811378985, 2.858374859710354, 2.9172271085405836, 2.858233385122428, 2.856438829506125, 2.85720938217194, 2.855372488464667, 2.8550383242310775, 2.8527300472119483, 5.452732038645825, 7.986587650265644, 23.92228522452837, 8.712334547995619, 4.567857155512143, 92.19332292616757, 6.959347473821133, 34.123207843555875, 17.932376350075163, 23.214262486428968, 33.21282977770702, 13.301912715755673, 110.36466452294574, 131.5313823415193, 10.841856273025098, 12.831089104423528, 79.57924852589663, 58.65297300695543, 20.576743779449078, 140.72761219594844, 53.364705811877066, 65.24320569082263, 36.52670602829862, 36.7074636610739, 22.332103764684273, 42.40747872315635, 36.8133500514922, 75.57782557351682, 62.080688252613136, 99.13131191367697, 66.11670933386114, 292.35287586515693, 90.53556802214224, 13.844420815735276, 9.586483656169376, 6.990099902373373, 6.243682656286114, 5.078740128260901, 4.880704474371418, 12.93879960528006, 4.669692188219531, 4.393541402570176, 4.197189371624747, 4.198696573674688, 4.199740552609695, 3.859282449664007, 3.8572651991868363, 15.448849488847937, 3.5866815453998213, 3.586021882019752, 3.5854328777437603, 3.4526760888123977, 3.4547442642643524, 3.3116738961270356, 7.950543802473733, 4.878098592507871, 3.3123395559453854, 4.679123286363665, 4.6817235723126345, 2.8443064549881893, 2.842541170652572, 2.842317157772758, 2.8402084789105846, 9.5243700913695, 5.423293939836625, 6.1668997187314964, 8.0778786502623, 19.31032244974345, 11.58893267975271, 63.407255517287396, 8.833002307102221, 8.956231622956624, 17.45221870964561, 7.492118905728562, 54.21695529131362, 19.309987574254965, 18.64323512703073, 16.35680829895432, 39.27108898280887, 53.364705811877066, 64.34527838554709, 26.138816839981494, 59.878479144634774, 9.018766218462984, 36.21486549734322, 23.291065091454062, 45.657169981102555, 22.868246132670954, 54.85034718639059, 53.06779425004137, 127.0124027986022, 292.35287586515693, 66.11670933386114, 38.419616463355396, 127.91897764800302, 110.36466452294574, 99.13131191367697, 20.80683901299193, 9.778375802310226, 9.778363755590846, 9.778368441536355, 5.509620173211423, 4.8874260189571155, 4.61709287276805, 4.61631183466317, 4.484318762753856, 4.402545258962592, 3.593409535653032, 3.5929626652752966, 3.5932079326909445, 3.591680834289358, 3.5912636962317754, 3.3177038613689565, 3.183135711885878, 3.045676438599456, 3.0451964905308295, 3.043669735822745, 9.292346348844845, 3.046436834760936, 2.84668382210159, 2.8457427197532916, 2.8474964281624358, 2.8437866142883697, 2.843892757910586, 2.843672197749957, 2.8457386013828057, 2.8431263067970716, 11.854616957572459, 4.863812328671111, 4.960934620455723, 6.417136828902004, 13.46020814711016, 21.95931418235071, 7.930869582851519, 6.841351369945708, 21.09603444219163, 7.347764899149548, 100.4390871900436, 4.552744475724082, 140.72761219594844, 28.35071051002696, 79.57924852589663, 19.090058539763938, 26.138816839981494, 292.35287586515693, 12.980979573263413, 11.834556797321842, 75.54665434335881, 12.001720264491711, 36.79556789999649, 59.878479144634774, 71.70032468110212, 85.69664152837812, 14.986480561274645, 36.52670602829862, 39.27108898280887, 110.36466452294574, 40.53962193929307, 50.61013385724707, 92.19332292616757, 53.364705811877066, 32.219482481668365, 38.84278060241665, 10.50871961789942, 5.303288284285478, 4.882759266060312, 4.740995177265434, 4.6765745922187145, 4.676968127192119, 4.542398820017118, 4.398233738922312, 3.637944914987484, 3.637943122199696, 3.6996661858092903, 3.5021975194111508, 3.5011235223805506, 7.370370280803635, 2.9401924134584076, 2.874689954652705, 15.051569006137882, 2.5990302394056455, 2.598674180433557, 2.5984243911969642, 2.5980620418230638, 2.597953699868602, 2.5981501462710597, 2.597898384068159, 2.5973417912164276, 2.597218155524357, 2.596865175076753, 2.664202553603293, 2.4616452788946477, 2.4616238703340425, 7.772143100909178, 7.440637733131065, 13.82271385432779, 4.654771054158723, 8.768726347748053, 3.426354614041743, 3.8499817821573727, 8.84799047854524, 14.680251549512143, 13.725796276788625, 14.451514796202522, 8.287096300500084, 4.713948162930505, 31.4884515353302, 18.634094172495395, 66.61503010919677, 131.5313823415193, 14.879425303853704, 99.13131191367697, 16.2887317200979, 59.878479144634774, 292.35287586515693, 79.57924852589663, 18.347777140548068, 90.53556802214224, 66.11670933386114, 216.5163882274805, 23.741713011602414, 20.622001333571387, 71.70032468110212, 19.6259863830905, 75.54665434335881, 40.95563975305317, 45.657169981102555, 75.57782557351682, 85.69664152837812, 6.165594523141018, 6.088309166253197, 5.022449689539381, 4.751991234618588, 4.281692177088954, 4.01654380930751, 4.016165083820077, 3.803238706246731, 3.8032372996198935, 3.743341305247653, 6.575786778638861, 3.414796502676486, 3.4148449323161736, 3.1433921538244056, 3.143517233172648, 5.541703675830849, 3.148486927188457, 5.9614396583705975, 2.8097555818816584, 2.8081325701344477, 2.8105701506127776, 2.809656822375179, 2.6018736874833057, 2.6018951650166806, 2.541009852749885, 2.5411889914802384, 2.541188544431238, 2.5410545588092717, 2.5405871226365124, 2.5405765188287033, 6.863372297287555, 12.120453517924116, 4.168285479175151, 5.6461918926490196, 11.75939117747982, 4.029825758306111, 7.91670383248203, 11.547133793940354, 8.653020575335518, 15.426337462025497, 20.622001333571387, 7.953560178869835, 8.731154737268971, 16.70288669993583, 10.950717070515266, 22.85941473233117, 66.11670933386114, 65.24320569082263, 23.741713011602414, 287.12501031172064, 16.186539064354687, 131.5313823415193, 27.836163340146502, 63.407255517287396, 99.13131191367697, 110.36466452294574, 36.79556789999649, 127.0124027986022, 24.72024483808232, 18.505713145310366, 54.85034718639059, 140.72761219594844, 71.70032468110212], \"Category\": [\"Default\", \"Default\", \"Default\", \"Default\", \"Default\", \"Default\", \"Default\", \"Default\", \"Default\", \"Default\", \"Default\", \"Default\", \"Default\", \"Default\", \"Default\", \"Default\", \"Default\", \"Default\", \"Default\", \"Default\", \"Default\", \"Default\", \"Default\", \"Default\", \"Default\", \"Default\", \"Default\", \"Default\", \"Default\", \"Default\", \"Topic1\", \"Topic1\", \"Topic1\", \"Topic1\", \"Topic1\", \"Topic1\", \"Topic1\", \"Topic1\", \"Topic1\", \"Topic1\", \"Topic1\", \"Topic1\", \"Topic1\", \"Topic1\", \"Topic1\", \"Topic1\", \"Topic1\", \"Topic1\", \"Topic1\", \"Topic1\", \"Topic1\", \"Topic1\", \"Topic1\", \"Topic1\", \"Topic1\", \"Topic1\", \"Topic1\", \"Topic1\", \"Topic1\", \"Topic1\", \"Topic1\", \"Topic1\", \"Topic1\", \"Topic1\", \"Topic1\", \"Topic1\", \"Topic1\", \"Topic1\", \"Topic1\", \"Topic1\", \"Topic1\", \"Topic1\", \"Topic1\", \"Topic1\", \"Topic1\", \"Topic1\", \"Topic1\", \"Topic1\", \"Topic1\", \"Topic2\", \"Topic2\", \"Topic2\", \"Topic2\", \"Topic2\", \"Topic2\", \"Topic2\", \"Topic2\", \"Topic2\", \"Topic2\", \"Topic2\", \"Topic2\", \"Topic2\", \"Topic2\", \"Topic2\", \"Topic2\", \"Topic2\", \"Topic2\", \"Topic2\", \"Topic2\", \"Topic2\", \"Topic2\", \"Topic2\", \"Topic2\", \"Topic2\", \"Topic2\", \"Topic2\", \"Topic2\", \"Topic2\", \"Topic2\", \"Topic2\", \"Topic2\", \"Topic2\", \"Topic2\", \"Topic2\", \"Topic2\", \"Topic2\", \"Topic2\", \"Topic2\", \"Topic2\", \"Topic2\", \"Topic2\", \"Topic2\", \"Topic2\", \"Topic2\", \"Topic2\", \"Topic2\", \"Topic2\", \"Topic2\", \"Topic2\", \"Topic2\", \"Topic2\", \"Topic2\", \"Topic2\", \"Topic2\", \"Topic2\", \"Topic2\", \"Topic2\", \"Topic2\", \"Topic2\", \"Topic2\", \"Topic2\", \"Topic2\", \"Topic2\", \"Topic2\", \"Topic2\", \"Topic3\", \"Topic3\", \"Topic3\", \"Topic3\", \"Topic3\", \"Topic3\", \"Topic3\", \"Topic3\", \"Topic3\", \"Topic3\", \"Topic3\", \"Topic3\", \"Topic3\", \"Topic3\", \"Topic3\", \"Topic3\", \"Topic3\", \"Topic3\", \"Topic3\", \"Topic3\", \"Topic3\", \"Topic3\", \"Topic3\", \"Topic3\", \"Topic3\", \"Topic3\", \"Topic3\", \"Topic3\", \"Topic3\", \"Topic3\", \"Topic3\", \"Topic3\", \"Topic3\", \"Topic3\", \"Topic3\", \"Topic3\", \"Topic3\", \"Topic3\", \"Topic3\", \"Topic3\", \"Topic3\", \"Topic3\", \"Topic3\", \"Topic3\", \"Topic3\", \"Topic3\", \"Topic3\", \"Topic3\", \"Topic3\", \"Topic3\", \"Topic3\", \"Topic3\", \"Topic3\", \"Topic3\", \"Topic3\", \"Topic3\", \"Topic3\", \"Topic3\", \"Topic3\", \"Topic3\", \"Topic3\", \"Topic3\", \"Topic3\", \"Topic3\", \"Topic3\", \"Topic3\", \"Topic4\", \"Topic4\", \"Topic4\", \"Topic4\", \"Topic4\", \"Topic4\", \"Topic4\", \"Topic4\", \"Topic4\", \"Topic4\", \"Topic4\", \"Topic4\", \"Topic4\", \"Topic4\", \"Topic4\", \"Topic4\", \"Topic4\", \"Topic4\", \"Topic4\", \"Topic4\", \"Topic4\", \"Topic4\", \"Topic4\", \"Topic4\", \"Topic4\", \"Topic4\", \"Topic4\", \"Topic4\", \"Topic4\", \"Topic4\", \"Topic4\", \"Topic4\", \"Topic4\", \"Topic4\", \"Topic4\", \"Topic4\", \"Topic4\", \"Topic4\", \"Topic4\", \"Topic4\", \"Topic4\", \"Topic4\", \"Topic4\", \"Topic4\", \"Topic4\", \"Topic4\", \"Topic4\", \"Topic4\", \"Topic4\", \"Topic4\", \"Topic4\", \"Topic4\", \"Topic4\", \"Topic4\", \"Topic4\", \"Topic4\", \"Topic4\", \"Topic4\", \"Topic4\", \"Topic4\", \"Topic4\", \"Topic4\", \"Topic4\", \"Topic4\", \"Topic4\", \"Topic4\", \"Topic5\", \"Topic5\", \"Topic5\", \"Topic5\", \"Topic5\", \"Topic5\", \"Topic5\", \"Topic5\", \"Topic5\", \"Topic5\", \"Topic5\", \"Topic5\", \"Topic5\", \"Topic5\", \"Topic5\", \"Topic5\", \"Topic5\", \"Topic5\", \"Topic5\", \"Topic5\", \"Topic5\", \"Topic5\", \"Topic5\", \"Topic5\", \"Topic5\", \"Topic5\", \"Topic5\", \"Topic5\", \"Topic5\", \"Topic5\", \"Topic5\", \"Topic5\", \"Topic5\", \"Topic5\", \"Topic5\", \"Topic5\", \"Topic5\", \"Topic5\", \"Topic5\", \"Topic5\", \"Topic5\", \"Topic5\", \"Topic5\", \"Topic5\", \"Topic5\", \"Topic5\", \"Topic5\", \"Topic5\", \"Topic5\", \"Topic5\", \"Topic5\", \"Topic5\", \"Topic5\", \"Topic5\", \"Topic5\", \"Topic5\", \"Topic5\", \"Topic5\", \"Topic5\", \"Topic5\", \"Topic5\", \"Topic5\", \"Topic5\", \"Topic5\", \"Topic5\", \"Topic5\", \"Topic5\", \"Topic5\", \"Topic6\", \"Topic6\", \"Topic6\", \"Topic6\", \"Topic6\", \"Topic6\", \"Topic6\", \"Topic6\", \"Topic6\", \"Topic6\", \"Topic6\", \"Topic6\", \"Topic6\", \"Topic6\", \"Topic6\", \"Topic6\", \"Topic6\", \"Topic6\", \"Topic6\", \"Topic6\", \"Topic6\", \"Topic6\", \"Topic6\", \"Topic6\", \"Topic6\", \"Topic6\", \"Topic6\", \"Topic6\", \"Topic6\", \"Topic6\", \"Topic6\", \"Topic6\", \"Topic6\", \"Topic6\", \"Topic6\", \"Topic6\", \"Topic6\", \"Topic6\", \"Topic6\", \"Topic6\", \"Topic6\", \"Topic6\", \"Topic6\", \"Topic6\", \"Topic6\", \"Topic6\", \"Topic6\", \"Topic6\", \"Topic6\", \"Topic6\", \"Topic6\", \"Topic6\", \"Topic6\", \"Topic6\", \"Topic6\", \"Topic6\", \"Topic6\", \"Topic6\", \"Topic6\", \"Topic6\", \"Topic6\", \"Topic6\", \"Topic6\", \"Topic7\", \"Topic7\", \"Topic7\", \"Topic7\", \"Topic7\", \"Topic7\", \"Topic7\", \"Topic7\", \"Topic7\", \"Topic7\", \"Topic7\", \"Topic7\", \"Topic7\", \"Topic7\", \"Topic7\", \"Topic7\", \"Topic7\", \"Topic7\", \"Topic7\", \"Topic7\", \"Topic7\", \"Topic7\", \"Topic7\", \"Topic7\", \"Topic7\", \"Topic7\", \"Topic7\", \"Topic7\", \"Topic7\", \"Topic7\", \"Topic7\", \"Topic7\", \"Topic7\", \"Topic7\", \"Topic7\", \"Topic7\", \"Topic7\", \"Topic7\", \"Topic7\", \"Topic7\", \"Topic7\", \"Topic7\", \"Topic7\", \"Topic7\", \"Topic7\", \"Topic7\", \"Topic7\", \"Topic7\", \"Topic7\", \"Topic7\", \"Topic7\", \"Topic7\", \"Topic7\", \"Topic7\", \"Topic7\", \"Topic7\", \"Topic7\", \"Topic7\", \"Topic7\", \"Topic7\", \"Topic7\", \"Topic7\", \"Topic7\", \"Topic7\", \"Topic8\", \"Topic8\", \"Topic8\", \"Topic8\", \"Topic8\", \"Topic8\", \"Topic8\", \"Topic8\", \"Topic8\", \"Topic8\", \"Topic8\", \"Topic8\", \"Topic8\", \"Topic8\", \"Topic8\", \"Topic8\", \"Topic8\", \"Topic8\", \"Topic8\", \"Topic8\", \"Topic8\", \"Topic8\", \"Topic8\", \"Topic8\", \"Topic8\", \"Topic8\", \"Topic8\", \"Topic8\", \"Topic8\", \"Topic8\", \"Topic8\", \"Topic8\", \"Topic8\", \"Topic8\", \"Topic8\", \"Topic8\", \"Topic8\", \"Topic8\", \"Topic8\", \"Topic8\", \"Topic8\", \"Topic8\", \"Topic8\", \"Topic8\", \"Topic8\", \"Topic8\", \"Topic8\", \"Topic8\", \"Topic8\", \"Topic8\", \"Topic8\", \"Topic8\", \"Topic8\", \"Topic8\", \"Topic8\", \"Topic8\", \"Topic8\", \"Topic8\", \"Topic8\", \"Topic8\", \"Topic8\", \"Topic8\", \"Topic8\", \"Topic8\", \"Topic8\", \"Topic8\", \"Topic9\", \"Topic9\", \"Topic9\", \"Topic9\", \"Topic9\", \"Topic9\", \"Topic9\", \"Topic9\", \"Topic9\", \"Topic9\", \"Topic9\", \"Topic9\", \"Topic9\", \"Topic9\", \"Topic9\", \"Topic9\", \"Topic9\", \"Topic9\", \"Topic9\", \"Topic9\", \"Topic9\", \"Topic9\", \"Topic9\", \"Topic9\", \"Topic9\", \"Topic9\", \"Topic9\", \"Topic9\", \"Topic9\", \"Topic9\", \"Topic9\", \"Topic9\", \"Topic9\", \"Topic9\", \"Topic9\", \"Topic9\", \"Topic9\", \"Topic9\", \"Topic9\", \"Topic9\", \"Topic9\", \"Topic9\", \"Topic9\", \"Topic9\", \"Topic9\", \"Topic9\", \"Topic9\", \"Topic9\", \"Topic9\", \"Topic9\", \"Topic9\", \"Topic9\", \"Topic9\", \"Topic9\", \"Topic9\", \"Topic9\", \"Topic9\", \"Topic9\", \"Topic9\", \"Topic9\", \"Topic9\", \"Topic9\", \"Topic9\", \"Topic9\", \"Topic9\", \"Topic9\", \"Topic10\", \"Topic10\", \"Topic10\", \"Topic10\", \"Topic10\", \"Topic10\", \"Topic10\", \"Topic10\", \"Topic10\", \"Topic10\", \"Topic10\", \"Topic10\", \"Topic10\", \"Topic10\", \"Topic10\", \"Topic10\", \"Topic10\", \"Topic10\", \"Topic10\", \"Topic10\", \"Topic10\", \"Topic10\", \"Topic10\", \"Topic10\", \"Topic10\", \"Topic10\", \"Topic10\", \"Topic10\", \"Topic10\", \"Topic10\", \"Topic10\", \"Topic10\", \"Topic10\", \"Topic10\", \"Topic10\", \"Topic10\", \"Topic10\", \"Topic10\", \"Topic10\", \"Topic10\", \"Topic10\", \"Topic10\", \"Topic10\", \"Topic10\", \"Topic10\", \"Topic10\", \"Topic10\", \"Topic10\", \"Topic10\", \"Topic10\", \"Topic10\", \"Topic10\", \"Topic10\", \"Topic10\", \"Topic10\", \"Topic10\", \"Topic10\", \"Topic10\", \"Topic10\", \"Topic10\", \"Topic10\", \"Topic10\", \"Topic10\"], \"logprob\": [30.0, 29.0, 28.0, 27.0, 26.0, 25.0, 24.0, 23.0, 22.0, 21.0, 20.0, 19.0, 18.0, 17.0, 16.0, 15.0, 14.0, 13.0, 12.0, 11.0, 10.0, 9.0, 8.0, 7.0, 6.0, 5.0, 4.0, 3.0, 2.0, 1.0, -3.4434, -4.555, -4.4105, -5.2604, -4.7769, -5.7065, -5.0558, -3.4615, -3.0815, -5.9207, -5.9938, -2.9915, -6.0753, -6.1002, -6.1619, -5.4844, -6.2321, -6.29, -6.335, -6.3813, -6.3818, -5.2176, -5.9952, -4.8298, -6.5082, -5.3583, -6.7558, -5.0604, -4.6687, -6.8019, -5.6563, -4.4595, -4.0439, -2.8916, -4.6916, -3.2327, -5.0345, -5.177, -4.2933, -4.8681, -4.0482, -5.0883, -5.0952, -5.5603, -5.2933, -4.7433, -5.1362, -5.2799, -5.2736, -5.4868, -5.8702, -5.7642, -5.8989, -5.3492, -5.982, -6.0638, -6.1247, -6.12, -6.2034, -6.27, -6.27, -4.6893, -5.9081, -6.4264, -5.8223, -6.4828, -6.4835, -6.4842, -6.4862, -6.4864, -6.5087, -6.5122, -5.9115, -6.5749, -6.5752, -6.6227, -6.6533, -6.6753, -5.9724, -5.2432, -5.6889, -4.3256, -4.5017, -4.4828, -5.7323, -5.9865, -5.4381, -3.6657, -6.1564, -5.3634, -5.5117, -5.3453, -5.5579, -5.3511, -4.4231, -4.9491, -5.3524, -5.3187, -5.4609, -5.5086, -4.0922, -4.4839, -4.089, -4.7926, -5.0291, -5.1999, -4.8116, -4.9022, -4.7524, -5.2099, -5.3868, -5.4456, -5.3594, -5.3817, -5.3488, -5.6959, -5.7267, -5.849, -5.9593, -5.7942, -6.2606, -6.3209, -6.4533, -6.2001, -6.5538, -6.4958, -4.9579, -6.6074, -6.6646, -6.6648, -6.002, -6.7266, -6.7542, -6.7543, -6.7576, -6.6449, -6.8622, -6.8935, -6.8937, -6.894, -6.894, -6.1164, -6.8944, -6.8948, -6.8946, -6.1634, -5.6818, -6.2654, -5.8294, -5.7041, -5.526, -5.207, -5.445, -5.5978, -2.9543, -5.447, -3.0926, -3.5447, -5.3802, -4.0238, -4.5667, -5.9575, -4.9126, -5.2732, -5.8477, -4.9078, -4.7188, -5.2079, -4.9184, -5.1145, -5.5988, -5.3993, -5.1777, -5.1552, -5.27, -5.519, -5.5713, -5.5319, -5.5121, -5.5223, -5.5514, -4.9165, -5.9529, -6.1291, -6.1293, -6.1293, -6.1297, -6.2123, -6.0218, -6.3417, -6.3447, -6.337, -5.6965, -6.4337, -6.434, -6.434, -6.4342, -6.4344, -6.4393, -6.4813, -6.4815, -6.482, -6.4822, -6.4824, -6.5347, -6.5881, -6.5698, -6.5932, -6.6455, -6.6494, -6.6128, -5.6967, -3.7873, -5.4563, -5.3058, -5.4795, -4.2068, -4.6796, -4.0738, -5.9151, -5.8062, -5.2277, -5.9141, -4.5154, -4.5236, -4.882, -5.7788, -4.9217, -5.3044, -4.6009, -4.098, -5.5095, -4.7515, -5.3098, -4.7367, -5.4402, -5.6303, -5.0488, -5.4305, -5.2242, -5.6566, -5.4085, -5.4281, -5.5203, -5.4553, -5.4912, -5.5318, -5.1657, -6.0767, -6.1544, -5.0848, -6.2551, -6.3296, -6.3946, -6.3947, -6.4478, -6.4488, -6.4499, -6.4513, -6.5018, -6.5022, -6.504, -5.7303, -6.5583, -6.5649, -6.572, -6.6212, -6.648, -6.6495, -6.6496, -6.6508, -6.6888, -6.7553, -6.7872, -6.7872, -6.7873, -6.7887, -5.306, -6.2382, -5.7907, -5.5494, -5.5926, -4.3211, -5.0088, -6.289, -5.1959, -5.9639, -5.8479, -5.0502, -4.8017, -5.4895, -4.6663, -5.4522, -4.8388, -4.6847, -5.198, -5.521, -5.4874, -5.6117, -4.8789, -5.713, -5.1154, -4.9877, -4.5987, -5.2188, -5.2983, -5.0399, -5.0041, -4.9793, -4.9545, -5.1431, -5.1575, -5.1055, -5.3625, -5.495, -5.3026, -5.426, -5.5164, -5.739, -5.8129, -6.0636, -6.0978, -6.0979, -6.0979, -6.0978, -6.098, -6.0965, -5.4782, -6.2785, -6.368, -6.3679, -6.3681, -6.3685, -6.4167, -5.0602, -6.5797, -6.6677, -6.6685, -6.6482, -6.6686, -6.6694, -6.6692, -6.6701, -6.6703, -6.6718, -6.048, -5.718, -4.8013, -5.689, -6.2582, -3.7051, -5.911, -4.5632, -5.1543, -4.9667, -4.7209, -5.4366, -4.1019, -4.1248, -5.6873, -5.6169, -4.6062, -4.793, -5.3657, -4.5474, -5.0052, -4.9513, -5.213, -5.2117, -5.4434, -5.1954, -5.3117, -5.116, -5.1779, -5.1577, -5.2913, -5.0593, -5.4731, -4.8533, -5.244, -5.5914, -5.7182, -5.9577, -6.0009, -5.0328, -6.0546, -6.1269, -6.1805, -6.1804, -6.1806, -6.283, -6.2844, -4.9051, -6.3735, -6.3739, -6.3741, -6.4214, -6.428, -6.4745, -5.6046, -6.0951, -6.4824, -6.1533, -6.1554, -6.6734, -6.6743, -6.6744, -6.6755, -5.4904, -6.0425, -5.9474, -5.7168, -4.9322, -5.4013, -3.9933, -5.7058, -5.6997, -5.2209, -5.8571, -4.5033, -5.2464, -5.3, -5.3925, -4.8958, -4.7249, -4.6601, -5.2183, -4.8023, -5.7982, -5.2118, -5.4021, -5.1548, -5.4262, -5.1069, -5.1406, -4.8514, -4.6458, -5.1038, -5.3123, -5.0554, -5.3047, -5.4114, -4.4232, -5.2192, -5.2193, -5.2193, -5.8551, -5.9954, -6.0614, -6.0617, -6.0961, -6.1213, -6.3664, -6.3665, -6.3665, -6.3671, -6.3672, -6.4673, -6.5269, -6.5779, -6.5781, -6.5795, -5.4717, -6.5945, -6.6675, -6.6678, -6.6673, -6.6689, -6.669, -6.6694, -6.6687, -6.6698, -5.3136, -6.1731, -6.1725, -5.955, -5.3112, -4.9032, -5.7901, -5.9176, -5.0161, -5.8778, -3.8734, -6.271, -3.7795, -4.9368, -4.228, -5.293, -5.1967, -3.805, -5.6931, -5.7449, -4.7823, -5.7452, -5.2473, -5.0441, -4.9787, -4.9256, -5.6649, -5.4095, -5.4153, -5.1607, -5.4339, -5.42, -5.3694, -5.5336, -5.6016, -5.621, -5.1055, -5.8646, -5.9615, -5.9951, -6.0114, -6.0113, -6.0459, -6.0851, -6.3159, -6.3159, -6.3052, -6.3635, -6.3639, -5.635, -6.5891, -6.6206, -4.9835, -6.756, -6.7562, -6.7564, -6.7566, -6.7567, -6.7566, -6.7567, -6.7571, -6.7573, -6.7575, -6.7466, -6.8319, -6.8319, -5.6908, -5.738, -5.198, -6.2238, -5.7123, -6.5235, -6.427, -5.7383, -5.3221, -5.3938, -5.3602, -5.8239, -6.2831, -4.8274, -5.2265, -4.4219, -3.9762, -5.5791, -4.5176, -5.5324, -4.932, -4.1615, -4.8057, -5.5236, -4.8612, -5.1466, -4.7999, -5.4993, -5.575, -5.2769, -5.6134, -5.343, -5.4894, -5.5353, -5.521, -5.6361, -5.4604, -5.4771, -5.6961, -5.7619, -5.8853, -5.9626, -5.9627, -6.0296, -6.0296, -6.0503, -5.5021, -6.1644, -6.1647, -6.2706, -6.272, -5.7296, -6.2965, -5.6656, -6.419, -6.4293, -6.4325, -6.4362, -6.5239, -6.5264, -6.5568, -6.5568, -6.5568, -6.5569, -6.5572, -6.5572, -5.6064, -5.2427, -6.1644, -5.9409, -5.3926, -6.2164, -5.7294, -5.4831, -5.6888, -5.3009, -5.1067, -5.7478, -5.707, -5.3709, -5.6535, -5.3383, -4.8869, -4.9007, -5.3535, -4.4083, -5.5331, -4.8005, -5.3974, -5.2591, -5.1926, -5.2225, -5.4557, -5.3724, -5.632, -5.6598, -5.6045, -5.6044, -5.6587], \"loglift\": [30.0, 29.0, 28.0, 27.0, 26.0, 25.0, 24.0, 23.0, 22.0, 21.0, 20.0, 19.0, 18.0, 17.0, 16.0, 15.0, 14.0, 13.0, 12.0, 11.0, 10.0, 9.0, 8.0, 7.0, 6.0, 5.0, 4.0, 3.0, 2.0, 1.0, 1.9497, 1.939, 1.9384, 1.9109, 1.8856, 1.877, 1.8761, 1.8759, 1.8671, 1.8647, 1.8581, 1.8566, 1.8498, 1.8453, 1.8399, 1.8361, 1.8307, 1.8233, 1.8165, 1.8111, 1.8109, 1.8073, 1.7923, 1.791, 1.7895, 1.7808, 1.7475, 1.7443, 1.7401, 1.7385, 1.7279, 1.628, 1.5865, 1.2485, 1.519, 1.1896, 1.5579, 1.536, 1.2766, 1.3009, 0.9075, 1.3095, 1.0845, 1.1418, 0.5826, -0.6213, -0.04, 0.1953, -0.07, 2.0522, 2.0225, 2.0197, 2.0163, 2.0064, 2.0026, 2.0, 1.9907, 1.9845, 1.9804, 1.9714, 1.9713, 1.9604, 1.949, 1.9418, 1.938, 1.9361, 1.9358, 1.9356, 1.9342, 1.9335, 1.9309, 1.9274, 1.9245, 1.9188, 1.9187, 1.9094, 1.902, 1.8985, 1.8941, 1.867, 1.8662, 1.7751, 1.7473, 1.6183, 1.7743, 1.8215, 1.6593, 1.1875, 1.8493, 1.5841, 1.626, 1.5602, 1.6076, 1.5194, 0.8712, 1.1914, 1.396, 1.329, 1.4191, 1.46, 0.0479, 0.4368, 0.033, 0.4836, 0.7779, 0.8978, 0.1441, 0.3013, -0.33, 0.412, 0.7109, 0.9921, 0.2104, 0.2541, -0.2526, 2.1137, 2.1135, 2.1, 2.0872, 2.0591, 2.0441, 2.0184, 2.0113, 2.0013, 1.9916, 1.9914, 1.9836, 1.9805, 1.968, 1.9679, 1.9563, 1.9539, 1.9473, 1.9472, 1.9463, 1.9442, 1.9194, 1.9123, 1.9122, 1.9121, 1.9121, 1.912, 1.912, 1.9118, 1.9118, 1.9081, 1.8877, 1.8957, 1.8608, 1.8269, 1.7981, 1.7334, 1.7144, 1.7232, 1.1678, 1.6406, 1.0475, 0.8777, 1.5074, 0.9319, 1.1322, 1.6467, 0.9159, 1.1515, 1.5525, 0.7141, 0.4716, 0.8899, 0.5569, 0.4865, 1.0309, 0.6237, 0.1166, 0.0484, 0.2049, 0.8313, 0.9385, 0.6196, 0.1237, -0.099, -0.0239, 2.1617, 2.1596, 2.1348, 2.1347, 2.1347, 2.1346, 2.1133, 2.1059, 2.0987, 2.0968, 2.0877, 2.0857, 2.081, 2.0809, 2.0809, 2.0809, 2.0808, 2.0743, 2.0714, 2.0714, 2.0712, 2.0712, 2.0706, 2.0601, 2.0483, 2.0477, 2.043, 2.0351, 2.0319, 2.0235, 2.0033, 1.8842, 1.9672, 1.9089, 1.8702, 1.5216, 1.6177, 1.2754, 1.8862, 1.7898, 1.496, 1.7939, 1.0121, 0.9512, 1.1409, 1.6732, 0.9068, 1.2054, 0.4953, 0.024, 1.2747, 0.4389, 0.7909, -0.3143, 0.8872, 1.1643, -0.1281, 0.71, 0.0701, 1.1266, 0.2272, 0.1418, 0.5041, 0.1458, 0.2077, -0.3282, 2.2206, 2.1965, 2.1832, 2.1802, 2.1664, 2.1498, 2.1398, 2.1397, 2.1287, 2.1279, 2.127, 2.1251, 2.117, 2.1164, 2.1149, 2.1095, 2.1043, 2.0977, 2.0909, 2.0888, 2.0828, 2.0824, 2.0824, 2.0818, 2.0701, 2.0547, 2.0467, 2.0466, 2.0466, 2.0461, 2.0024, 2.0265, 1.9952, 1.9447, 1.9363, 1.7034, 1.7746, 2.0069, 1.7083, 1.9048, 1.8457, 1.4619, 1.2994, 1.585, 1.1291, 1.4533, 1.0371, 0.9239, 1.2389, 1.419, 1.3857, 1.4292, 0.7568, 1.5137, 0.8634, 0.7113, 0.2545, 0.879, 0.8959, 0.435, 0.2902, 0.1169, -0.0337, 0.3322, 0.033, -0.9835, 0.2073, -0.5392, 2.2894, 2.2702, 2.2669, 2.2462, 2.2171, 2.2027, 2.1974, 2.1974, 2.1974, 2.1974, 2.1974, 2.1866, 2.1777, 2.1655, 2.1489, 2.1489, 2.1489, 2.1487, 2.139, 2.1097, 2.1029, 2.0815, 2.0812, 2.0812, 2.0812, 2.081, 2.081, 2.0807, 2.0807, 2.0799, 2.0559, 2.0042, 1.8239, 1.9463, 2.0227, 1.5711, 1.9489, 1.7068, 1.7591, 1.6886, 1.5762, 1.7755, 0.9943, 0.796, 1.7293, 1.6313, 0.817, 0.9354, 1.4101, 0.3058, 0.8177, 0.6706, 0.989, 0.9853, 1.2506, 0.8573, 0.8825, 0.3589, 0.4936, 0.0459, 0.3173, -0.9373, -0.1788, 2.3189, 2.2957, 2.2641, 2.2503, 2.2172, 2.2138, 2.2069, 2.2043, 2.193, 2.1851, 2.1848, 2.1844, 2.1666, 2.1657, 2.1574, 2.1493, 2.149, 2.149, 2.1394, 2.1323, 2.128, 2.1221, 2.1201, 2.12, 2.1036, 2.101, 2.0813, 2.081, 2.081, 2.0806, 2.0558, 2.0668, 2.0334, 1.9941, 1.9072, 1.9486, 1.6571, 1.9157, 1.908, 1.7196, 1.929, 1.3037, 1.593, 1.5745, 1.6129, 1.2337, 1.098, 0.9757, 1.3183, 0.9054, 1.8025, 0.9988, 1.2498, 0.824, 1.244, 0.6885, 0.6879, 0.1044, -0.5237, 0.5048, 0.8392, -0.1067, -0.2085, -0.2079, 2.3416, 2.3006, 2.3006, 2.3006, 2.2384, 2.2179, 2.2088, 2.2087, 2.2034, 2.1966, 2.1546, 2.1545, 2.1545, 2.1543, 2.1543, 2.1335, 2.1153, 2.1084, 2.1084, 2.1075, 2.0991, 2.0915, 2.0864, 2.0864, 2.0862, 2.0859, 2.0859, 2.0855, 2.0855, 2.0853, 2.0137, 2.0451, 2.0259, 1.986, 1.8891, 1.8076, 1.9391, 1.9595, 1.7348, 1.9278, 1.317, 2.0133, 1.0737, 1.5186, 1.1952, 1.5578, 1.3399, 0.3171, 1.5435, 1.5841, 0.693, 1.5698, 0.9474, 0.6636, 0.5488, 0.4236, 1.428, 0.7925, 0.7142, -0.0645, 0.6638, 0.4558, -0.0932, 0.2893, 0.7259, 0.5195, 2.3423, 2.267, 2.2528, 2.2486, 2.246, 2.246, 2.2406, 2.2337, 2.1927, 2.1926, 2.1866, 2.1832, 2.1831, 2.1676, 2.1324, 2.1234, 2.105, 2.0889, 2.0888, 2.0887, 2.0886, 2.0886, 2.0886, 2.0886, 2.0885, 2.0883, 2.0882, 2.0735, 2.0673, 2.0673, 2.0586, 2.055, 1.9757, 2.0383, 1.9165, 2.0451, 2.025, 1.8815, 1.7914, 1.7869, 1.769, 1.8614, 1.9663, 1.523, 1.6485, 1.1791, 0.9446, 1.5209, 0.6859, 1.4771, 0.7757, -0.0395, 0.6176, 1.3669, 0.4331, 0.462, -0.3775, 1.1334, 1.1986, 0.2507, 1.2097, 0.1323, 0.5981, 0.4436, -0.0462, -0.2869, 2.5207, 2.5165, 2.49, 2.4795, 2.4604, 2.447, 2.4469, 2.4346, 2.4346, 2.4297, 2.4145, 2.4075, 2.4072, 2.3841, 2.3826, 2.3581, 2.3566, 2.3491, 2.3479, 2.3382, 2.3341, 2.3308, 2.3199, 2.3174, 2.3106, 2.3106, 2.3106, 2.3106, 2.3105, 2.3105, 2.2674, 2.0624, 2.2081, 2.1281, 1.9428, 2.1899, 2.0016, 1.8705, 1.9533, 1.7631, 1.667, 1.9786, 1.9261, 1.6135, 1.7531, 1.3323, 0.7217, 0.7212, 1.2793, -0.2682, 1.4827, 0.1202, 1.0762, 0.3914, 0.011, -0.1263, 0.7389, -0.4167, 0.9604, 1.2221, 0.1909, -0.7512, -0.1312]}, \"token.table\": {\"Topic\": [4, 10, 2, 4, 8, 9, 6, 4, 6, 8, 5, 3, 6, 9, 10, 5, 9, 2, 3, 4, 8, 10, 10, 8, 3, 10, 4, 1, 2, 3, 4, 5, 8, 10, 2, 3, 7, 2, 4, 6, 7, 9, 1, 3, 5, 9, 5, 10, 3, 1, 4, 5, 6, 8, 9, 10, 5, 1, 2, 4, 5, 6, 7, 8, 10, 1, 2, 3, 5, 7, 8, 9, 10, 4, 10, 5, 6, 8, 9, 10, 5, 2, 3, 4, 5, 6, 7, 9, 10, 1, 3, 4, 6, 9, 10, 7, 3, 9, 10, 2, 7, 8, 9, 5, 1, 3, 5, 6, 10, 2, 3, 4, 5, 8, 8, 7, 5, 1, 2, 6, 4, 4, 10, 9, 6, 1, 4, 4, 2, 5, 5, 1, 1, 1, 2, 3, 4, 5, 6, 8, 10, 3, 2, 4, 5, 7, 8, 9, 10, 4, 6, 7, 2, 1, 10, 4, 6, 7, 3, 10, 6, 10, 2, 6, 3, 7, 3, 3, 4, 7, 8, 6, 4, 8, 2, 3, 3, 7, 8, 10, 10, 1, 3, 9, 3, 1, 2, 6, 5, 5, 6, 2, 2, 9, 1, 3, 5, 6, 9, 10, 4, 7, 8, 10, 2, 5, 10, 2, 5, 8, 3, 4, 7, 9, 3, 5, 7, 8, 10, 9, 4, 5, 9, 6, 3, 4, 3, 5, 6, 7, 9, 9, 10, 4, 5, 9, 3, 9, 3, 10, 1, 3, 4, 5, 9, 5, 8, 10, 6, 5, 1, 9, 5, 1, 2, 5, 7, 8, 2, 5, 6, 7, 8, 9, 9, 7, 1, 10, 1, 3, 8, 9, 2, 3, 4, 5, 6, 7, 8, 9, 10, 4, 1, 2, 5, 2, 3, 8, 7, 5, 6, 7, 9, 2, 8, 6, 4, 1, 3, 4, 5, 6, 9, 10, 8, 1, 8, 2, 3, 4, 5, 6, 7, 8, 10, 4, 7, 10, 2, 5, 2, 5, 10, 8, 3, 5, 6, 9, 4, 7, 8, 1, 2, 3, 4, 5, 8, 10, 8, 4, 1, 2, 3, 4, 7, 9, 10, 5, 8, 1, 2, 9, 10, 8, 1, 2, 3, 5, 7, 10, 8, 1, 2, 6, 7, 8, 9, 10, 9, 10, 8, 2, 6, 6, 6, 6, 1, 2, 3, 4, 5, 6, 8, 10, 6, 2, 4, 5, 6, 7, 8, 9, 2, 4, 10, 10, 6, 1, 7, 2, 3, 4, 5, 6, 8, 9, 10, 4, 7, 8, 1, 3, 4, 5, 6, 7, 10, 1, 4, 7, 9, 1, 4, 1, 3, 4, 5, 6, 7, 5, 10, 9, 6, 9, 1, 7, 2, 4, 6, 8, 9, 10, 6, 2, 1, 9, 3, 4, 5, 6, 8, 9, 2, 4, 6, 7, 10, 1, 2, 1, 5, 10, 3, 4, 5, 7, 8, 1, 4, 5, 7, 8, 10, 1, 3, 4, 7, 4, 8, 4, 6, 3, 5, 8, 5, 7, 6, 7, 8, 10, 7, 2, 6, 3, 4, 5, 8, 9, 2, 3, 4, 4, 8, 8, 2, 8, 9, 10, 3, 4, 5, 7, 10, 1, 2, 5, 9, 10, 10, 1, 3, 8, 9, 3, 9, 10, 7, 1, 3, 1, 2, 3, 4, 5, 6, 7, 9, 10, 1, 2, 3, 5, 6, 8, 9, 10, 1, 2, 3, 5, 7, 8, 10, 8, 1, 3, 4, 8, 1, 2, 3, 5, 6, 7, 8, 9, 9, 7, 8, 9, 7, 9, 4, 10, 1, 10, 2, 4, 6, 2, 3, 4, 10, 8, 3, 4, 5, 6, 7, 8, 10, 2, 3, 4, 5, 6, 7, 8, 9, 10, 4, 3, 5, 6, 9, 5, 9, 10, 2, 1, 4, 5, 6, 5, 8, 9, 3, 10, 2, 3, 4, 7, 8, 9, 10, 1, 2, 3, 4, 5, 6, 7, 8, 9, 10, 1, 5, 9, 1, 3, 4, 5, 7, 9, 4, 7, 6, 7, 5, 2, 3, 4, 5, 6, 7, 9, 1, 1, 2, 3, 4, 5, 6, 7, 8, 10, 3, 4, 6, 7, 1, 6, 3, 5, 6, 8, 9, 10, 1, 4, 7, 1, 2, 3, 4, 5, 8, 9, 10, 1, 2, 3, 4, 5, 7, 8, 9, 4, 5, 2, 8, 3, 5, 1, 3, 3, 2, 2, 6, 7, 3, 10, 6, 1, 2, 4, 5, 6, 8, 10, 1, 2, 9, 1, 2, 3, 4, 5, 6, 7, 8, 9, 1, 2, 3, 4, 5, 6, 8, 9, 10, 6, 7, 8, 10, 2, 3, 6, 7, 8, 10, 8, 3, 6, 8, 10, 7, 2, 3, 4, 7, 8, 9, 10, 1, 2, 4, 5, 6, 7, 8, 10, 1, 4, 5, 6, 7, 8, 10, 1, 2, 3, 4, 5, 6, 7, 8, 9, 10, 8, 1, 2, 3, 4, 5, 6, 7, 8, 9, 10, 3, 5, 1, 3, 4, 7, 8, 9, 10, 8, 6, 4, 7, 1, 2, 4, 5, 6, 9, 10, 1, 2, 3, 4, 5, 7, 8, 9, 10, 6, 7, 8, 6, 7, 3, 4, 5, 2, 5, 6, 10, 5, 1, 3, 5, 6, 8, 9, 10, 2, 3, 4, 5, 6, 8, 9, 1, 2, 3, 4, 5, 6, 7, 8, 9, 10, 8, 4, 5, 9, 10, 5, 2, 1, 4, 5, 6, 7, 9, 1, 2, 3, 4, 5, 6, 7, 8, 9, 10, 9, 10, 9, 6, 4, 2, 3, 4, 5, 6, 7, 2, 8, 6, 3, 7, 1, 2, 5, 8, 9, 10, 1, 3, 4, 7, 8, 6, 2, 4, 5, 7, 5, 4, 3, 1, 7, 8, 10, 2, 5, 6, 7, 9, 9, 4, 9, 2, 4, 8, 2, 3, 4, 6, 7, 8, 10, 2, 4, 6, 7, 8, 10, 9, 1, 3, 5, 6, 8, 9, 1, 4, 5, 7, 8, 1, 2, 4, 5, 7, 8, 9, 5, 8, 9, 7, 4, 9, 1, 2, 3, 4, 5, 6, 7, 8, 9, 10, 2, 3, 10, 2, 8, 1, 2, 3, 4, 5, 7, 9, 10, 2, 2, 9, 6, 8, 7, 2, 3, 2, 5, 4, 1, 2, 3, 4, 5, 6, 7, 8, 2, 7, 2, 8, 9, 8, 3, 4, 9, 10, 10, 1, 2, 3, 4, 5, 6, 7, 8, 9, 10, 1, 2, 3, 8, 10, 3, 8, 10, 3, 1, 10, 1, 2, 3, 4, 5, 6, 7, 8, 4, 3, 9, 1, 2, 3, 6, 8, 9, 2, 4, 7, 9, 2, 3, 5, 10, 10, 7, 2, 3, 5, 6, 8, 10, 1, 2, 5, 6, 9, 3, 10, 1, 2, 4, 7, 8, 6, 1, 3, 4, 4, 3, 10, 4, 5, 6, 7, 1, 5, 6, 7, 3, 9, 10, 1, 2, 4, 5, 3, 3, 4, 5, 1, 2, 3, 4, 7, 8, 10, 3, 7, 9, 10, 2, 3, 4, 5, 8, 9, 2, 3, 5, 7, 8, 9, 6, 9, 3, 6, 8, 4, 7, 9, 10, 7, 7, 4, 5, 7, 8, 1, 5, 1, 2, 3, 4, 7, 8, 9, 5, 8, 1, 7, 10, 7, 1, 2, 3, 5, 7, 9, 10, 7, 2, 1, 2, 4, 5, 6, 7, 9, 7, 8, 3, 6, 7, 9, 6, 1, 2, 4, 6, 7, 9, 10, 1, 2, 4, 5, 6, 9, 3, 4, 6, 7, 8, 9, 10, 1, 2, 3, 4, 5, 6, 8, 9, 10, 1, 2, 3, 4, 5, 10, 6, 1, 2, 3, 6, 7, 8, 9, 10, 2, 4, 5, 8, 9, 1, 2, 3, 4, 5, 6, 7, 8, 9, 10, 8, 9, 7, 8, 10, 1, 2, 3, 4, 5, 6, 7, 7, 2, 9, 10, 1, 2, 3, 6, 7, 9, 1, 9, 3, 4, 5, 6, 8, 2, 5, 8, 4, 5, 2, 2, 3, 4, 5, 6, 7, 8, 9, 1, 5, 9, 1, 2, 3, 4, 6, 7, 8, 9, 10, 3, 1, 9, 8, 1, 3, 5, 6, 10, 7, 1, 2, 9, 10, 3, 4, 5, 6, 7, 8, 9, 10, 1, 1, 2, 3, 4, 5, 6, 8, 9, 10, 10, 1, 2, 3, 4, 5, 7, 8, 9, 10, 3, 4, 7, 8, 8, 1, 1, 10, 9, 1, 3, 5, 6, 7, 9, 1, 2, 3, 5, 6, 7, 8, 10, 2, 1, 3, 4, 5, 6, 7, 9, 10, 2, 5, 8, 1, 2, 3, 9, 3, 5, 5, 2, 9, 2, 3, 4, 5, 6], \"Freq\": [0.8297405028643239, 0.7888016875254743, 0.5342125267770895, 0.21368501071083582, 0.10684250535541791, 0.10684250535541791, 0.7730770320200517, 0.5733699494778617, 0.19112331649262054, 0.19112331649262054, 0.6865722991523708, 0.14547569614963507, 0.14547569614963507, 0.29095139229927014, 0.38793518973236013, 0.6877319072388267, 0.8552549196869242, 0.6886822509857214, 0.057390187582143454, 0.08608528137321518, 0.08608528137321518, 0.057390187582143454, 0.7888013957873772, 0.8353605454113063, 0.5563817652367045, 0.33382905914202265, 0.9157199969999608, 0.1368342722063165, 0.2394599763610539, 0.34208568051579125, 0.17104284025789562, 0.034208568051579125, 0.06841713610315825, 0.034208568051579125, 0.20682719918174292, 0.7238951971361002, 0.10341359959087146, 0.23065254446050082, 0.46130508892100164, 0.046130508892100165, 0.09226101778420033, 0.13839152667630047, 0.38006182421637075, 0.19003091210818537, 0.38006182421637075, 0.6802275901553992, 0.6414580583341007, 0.7872228941650109, 0.8453111898531911, 0.34140833907740675, 0.24829697387447763, 0.031037121734309704, 0.06207424346861941, 0.18622273040585824, 0.09311136520292912, 0.031037121734309704, 0.9266952219491822, 0.18738977097057957, 0.03747795419411591, 0.056216931291173874, 0.07495590838823182, 0.20612874806763753, 0.2810846564558694, 0.1311728396794057, 0.018738977097057956, 0.5033377474510728, 0.026491460392161728, 0.07947438117648518, 0.15894876235297037, 0.026491460392161728, 0.026491460392161728, 0.10596584156864691, 0.052982920784323456, 0.7430053775527354, 0.18575134438818386, 0.3749432784108823, 0.26781662743634455, 0.10712665097453782, 0.16068997646180672, 0.05356332548726891, 0.8824995638653428, 0.17962245510999666, 0.21554694613199601, 0.035924491021999336, 0.10777347306599801, 0.14369796408799734, 0.035924491021999336, 0.07184898204399867, 0.21554694613199601, 0.15587141385453387, 0.15587141385453387, 0.15587141385453387, 0.4676142415636016, 0.07793570692726694, 0.74698124638504, 0.8543861973516982, 0.11453238776441514, 0.3435971632932454, 0.45812955105766057, 0.7804097482056896, 0.13006829136761494, 0.13567839360859957, 0.8140703616515973, 0.8008803789506371, 0.08250516356678964, 0.08250516356678964, 0.16501032713357927, 0.16501032713357927, 0.5775361449675275, 0.0948045475314565, 0.0948045475314565, 0.14220682129718476, 0.14220682129718476, 0.5214250114230108, 0.9203982524248733, 0.7036512426245921, 0.6412855115070027, 0.6389323243545794, 0.27382813900910546, 0.045638023168184244, 0.8288388704154557, 0.8301129147752488, 0.8417523944193585, 0.8805919864132331, 0.6999837017473594, 0.9898077231270984, 0.6247002755073903, 0.7710943108182793, 0.8312225706204592, 0.16624451412409186, 0.7431392132225424, 0.9876478661492539, 0.828017163528792, 0.2122267173380813, 0.11790373185448962, 0.047161492741795846, 0.09432298548359169, 0.11790373185448962, 0.2122267173380813, 0.07074223911269377, 0.07074223911269377, 0.6223446016905905, 0.05403736630670812, 0.10807473261341624, 0.16211209892012438, 0.16211209892012438, 0.16211209892012438, 0.05403736630670812, 0.21614946522683248, 0.6783032714065924, 0.15073406031257608, 0.07536703015628804, 0.9276378724643611, 0.4622663225141934, 0.4622663225141934, 0.6775466168768746, 0.1355093233753749, 0.1355093233753749, 0.18044992271263463, 0.7217996908505385, 0.24814968685403857, 0.7444490605621157, 0.812601940401492, 0.8315609857432632, 0.9424486512096116, 0.8199916266849308, 0.7405038862430134, 0.11165410209320611, 0.11165410209320611, 0.6699246125592367, 0.11165410209320611, 0.6542231788850776, 0.797651685089906, 0.13294194751498434, 0.9321916746748221, 0.7223758058456701, 0.7891351820708922, 0.1771105231655226, 0.1771105231655226, 0.5313315694965678, 0.7115993883176863, 0.27219747124318355, 0.5443949424863671, 0.09073249041439453, 0.9282854799771535, 0.27670538369560393, 0.18447025579706927, 0.5534107673912079, 0.6412766653441232, 0.7611754846085694, 0.8884231764210901, 0.7546159886826429, 0.8417269932502784, 0.14028783220837976, 0.0842399197994944, 0.1263598796992416, 0.1684798395989888, 0.0421199598997472, 0.2948397192982304, 0.2527197593984832, 0.2228791685249002, 0.07429305617496673, 0.5943444493997339, 0.07429305617496673, 0.7064974376525398, 0.20185641075786853, 0.10092820537893427, 0.1585239403167183, 0.7926197015835914, 0.7028052397462496, 0.6224262091599726, 0.1725784466324708, 0.6903137865298832, 0.0862892233162354, 0.08660157731304498, 0.17320315462608996, 0.08660157731304498, 0.08660157731304498, 0.43300788656522493, 0.7698045573217325, 0.7512516989426382, 0.2597414888128745, 0.7792244664386236, 0.8516614686224122, 0.8937361836246758, 0.8300099358339618, 0.0681187237580566, 0.0681187237580566, 0.2043561712741698, 0.0681187237580566, 0.5449497900644528, 0.9515907135791385, 0.768670477923417, 0.7347261048106767, 0.12245435080177945, 0.12245435080177945, 0.8555887497751701, 0.8124647434572945, 0.7275818576014046, 0.24252728586713487, 0.7080831889053352, 0.048833323372781734, 0.024416661686390867, 0.024416661686390867, 0.17091663180473607, 0.6666288266863061, 0.22220960889543537, 0.934210082033391, 0.8143408677949068, 0.7611115016161812, 0.8015248482604455, 0.8124718094030344, 0.8689656275489244, 0.07174927235446509, 0.5739941788357207, 0.07174927235446509, 0.14349854470893017, 0.07174927235446509, 0.6032402912931977, 0.13405339806515504, 0.06702669903257752, 0.06702669903257752, 0.06702669903257752, 0.8566050268074004, 0.7700546816777569, 0.7875969037560716, 0.8727538492026119, 0.06233956065732942, 0.05729136491711238, 0.6302050140882361, 0.22916545966844953, 0.05729136491711238, 0.11908254744965413, 0.13231394161072682, 0.26462788322145364, 0.14554533577179948, 0.13231394161072682, 0.013231394161072682, 0.05292557664429073, 0.07938836496643609, 0.05292557664429073, 0.8623796370342354, 0.8552513660434483, 0.746763965339988, 0.20366289963817855, 0.754218726640754, 0.8086928999177487, 0.9612224128572276, 0.836581621278427, 0.072344693707662, 0.144689387415324, 0.072344693707662, 0.6511022433689581, 0.8596710261577224, 0.1432785043596204, 0.9316680156736415, 0.8298912789101539, 0.12355945838998503, 0.12355945838998503, 0.12355945838998503, 0.12355945838998503, 0.061779729194992514, 0.061779729194992514, 0.3088986459749626, 0.657101516784433, 0.15583273766208655, 0.6233309506483462, 0.07808511058046085, 0.20822696154789558, 0.07808511058046085, 0.026028370193486947, 0.13014185096743475, 0.20822696154789558, 0.1561702211609217, 0.07808511058046085, 0.924948138328146, 0.9058862962046068, 0.7872196084834461, 0.5532822385623379, 0.38729756699363654, 0.10319410492078837, 0.6191646295247302, 0.20638820984157674, 0.904239837356109, 0.7767431485016637, 0.19418578712541593, 0.8882490430725339, 0.8553268896117989, 0.652933230966255, 0.6486241356982504, 0.1621560339245626, 0.1525568053325502, 0.0762784026662751, 0.1525568053325502, 0.0762784026662751, 0.45767041599765057, 0.0762784026662751, 0.0762784026662751, 0.8664925904625029, 0.8988008988219526, 0.4875924944608878, 0.12538092714708543, 0.3099695143358501, 0.0034828035318634843, 0.01741401765931742, 0.0034828035318634843, 0.05572485650981575, 0.646171835949791, 0.21539061198326367, 0.6472427803527049, 0.08090534754408811, 0.040452673772044055, 0.20226336886022026, 0.9075035742592075, 0.13118627386618947, 0.21864378977698246, 0.17491503182158596, 0.04372875795539649, 0.30610130568777544, 0.04372875795539649, 0.7032613991638011, 0.08791670506929043, 0.08791670506929043, 0.5275002304157427, 0.05861113671286029, 0.08791670506929043, 0.14652784178215073, 0.029305568356430146, 0.7698530520920974, 0.878529656935231, 0.6283112568942534, 0.7946033958542617, 0.8793537587224011, 0.7001725292838837, 0.8775703374781681, 0.8314643911089135, 0.06621727778936444, 0.13243455557872888, 0.33108638894682224, 0.11588023613138777, 0.19865183336809333, 0.04966295834202333, 0.08277159723670556, 0.03310863889468222, 0.8628885852507333, 0.022924724074276998, 0.16047306851993898, 0.5043439296340939, 0.09169889629710799, 0.13754834444566197, 0.022924724074276998, 0.022924724074276998, 0.6927334397865195, 0.22266431993138128, 0.07422143997712709, 0.7118307061818584, 0.6996982894688154, 0.07728692231943374, 0.8501561455137712, 0.0317576746788579, 0.2540613974308632, 0.0635153493577158, 0.0317576746788579, 0.0635153493577158, 0.1270306987154316, 0.4128497708251527, 0.0317576746788579, 0.2264235794880173, 0.6792707384640518, 0.11321178974400865, 0.17049434133226526, 0.03409886826645305, 0.46033472159711625, 0.05114830239967958, 0.23869207786517138, 0.017049434133226526, 0.017049434133226526, 0.6350983134726075, 0.02761297015098293, 0.2485167313588464, 0.05522594030196586, 0.9112133371260204, 0.04339111129171525, 0.11051123733443577, 0.055255618667217885, 0.055255618667217885, 0.4973005680049609, 0.16576685600165364, 0.11051123733443577, 0.7558728471285536, 0.8212460739862604, 0.8246418097339682, 0.6567630943493555, 0.21892103144978517, 0.9202301977662469, 0.8195538207658345, 0.054502515064346856, 0.10900503012869371, 0.2725125753217343, 0.1635075451930406, 0.3270150903860812, 0.054502515064346856, 0.7010828108164862, 0.8442384836645819, 0.3620085843359833, 0.6033476405599723, 0.06551147015134498, 0.13102294030268996, 0.4585802910594149, 0.06551147015134498, 0.13102294030268996, 0.13102294030268996, 0.05576505759627382, 0.27882528798136913, 0.5576505759627383, 0.05576505759627382, 0.05576505759627382, 0.13642200075696206, 0.6821100037848102, 0.9110001097615327, 0.034594940877020225, 0.034594940877020225, 0.038257278671864625, 0.1530291146874585, 0.07651455734372925, 0.3443155080467816, 0.3443155080467816, 0.17348172398032513, 0.07885532908196596, 0.11039746071475236, 0.488903040308189, 0.03154213163278639, 0.11039746071475236, 0.8978237646892031, 0.04241687077271826, 0.028277913848478838, 0.028277913848478838, 0.7703114989222972, 0.8663460125726062, 0.183394304527084, 0.733577218108336, 0.252179156283756, 0.126089578141878, 0.63044789070939, 0.7611019498071541, 0.7145074542441651, 0.09131822085811106, 0.09131822085811106, 0.36527288343244424, 0.36527288343244424, 0.8688912376463027, 0.7231396577184199, 0.14462793154368397, 0.530991891393768, 0.19912195927266302, 0.132747972848442, 0.066373986424221, 0.066373986424221, 0.24688816026008834, 0.12344408013004417, 0.6172204006502208, 0.20157492015247272, 0.6047247604574182, 0.8348617017444433, 0.8123911562437204, 0.7034509846497474, 0.6364092044098761, 0.21213640146995874, 0.26071229847256133, 0.33520152660757885, 0.22346768440505257, 0.037244614067508765, 0.11173384220252629, 0.8323145300574589, 0.0832314530057459, 0.04161572650287295, 0.7696232236648938, 0.787074796590433, 0.7118056861944643, 0.10746678461990888, 0.7522674923393622, 0.21493356923981777, 0.7695177877027574, 0.1383937966506838, 0.5535751866027352, 0.2767875933013676, 0.9388218165070417, 0.17006200113660155, 0.6802480045464062, 0.4618588034774353, 0.08313458462593835, 0.26325951798213815, 0.07389740855638965, 0.004618588034774353, 0.018474352139097414, 0.018474352139097414, 0.06004164445206659, 0.018474352139097414, 0.021317778033658488, 0.39082593061707227, 0.028423704044877984, 0.12080074219073143, 0.12790666820195093, 0.2700251884263409, 0.014211852022438992, 0.03552963005609748, 0.3464228613151174, 0.13384519641720447, 0.27556363968247977, 0.05511272793649595, 0.10235220902492105, 0.0314929873922834, 0.0472394810884251, 0.8184267106008337, 0.4514215611310894, 0.1354264683393268, 0.2708529366786536, 0.18056862445243574, 0.1571498585900668, 0.05238328619668894, 0.10476657239337787, 0.05238328619668894, 0.10476657239337787, 0.05238328619668894, 0.4190662895735115, 0.05238328619668894, 0.82464140334855, 0.9609713257862689, 0.7028042226436365, 0.9094559856157417, 0.8548609974986492, 0.7696972083450541, 0.8618383853384008, 0.7870331591649952, 0.1520730573637901, 0.7603652868189505, 0.14413572388558996, 0.07206786194279498, 0.7927464813707447, 0.7545540209924533, 0.7403070433618314, 0.23990679261197984, 0.7197203778359396, 0.9203993863343639, 0.08054034419938212, 0.6604308224349333, 0.016108068839876425, 0.14497261955888782, 0.03221613767975285, 0.04832420651962927, 0.7870332976208323, 0.15541155856194336, 0.1243292468495547, 0.1243292468495547, 0.20203502613052637, 0.031082311712388674, 0.2486584936991094, 0.015541155856194337, 0.04662346756858301, 0.04662346756858301, 0.9195159476070254, 0.053665071709041626, 0.2683253585452081, 0.16099521512712486, 0.4829856453813746, 0.12572985902045383, 0.25145971804090766, 0.5029194360818153, 0.7539087456022159, 0.769281137655874, 0.5518185347922415, 0.11036370695844831, 0.22072741391689663, 0.22604002624659628, 0.11302001312329814, 0.5651000656164907, 0.6667696338688497, 0.6362553261344441, 0.17824817649096228, 0.10185610085197845, 0.050928050425989226, 0.33103232776892993, 0.17824817649096228, 0.12732012606497306, 0.050928050425989226, 0.011045382735715873, 0.2871799511286127, 0.12149921009287461, 0.11045382735715872, 0.12149921009287461, 0.07731767915001111, 0.04418153094286349, 0.04418153094286349, 0.13254459282859046, 0.04418153094286349, 0.838587721409791, 0.06988231011748258, 0.06988231011748258, 0.18068401763112354, 0.060228005877041184, 0.51193804995485, 0.060228005877041184, 0.15057001469260295, 0.030114002938520592, 0.2099876402127946, 0.734956740744781, 0.2669471781168311, 0.6673679452920777, 0.8825739685594126, 0.24240080485149537, 0.03462868640735648, 0.13851474562942592, 0.31165817766620835, 0.17314343203678242, 0.06925737281471296, 0.5837107437168598, 0.9392436109012521, 0.0737776582714312, 0.2582218039500092, 0.055333243703573405, 0.1291109019750046, 0.0184444145678578, 0.055333243703573405, 0.3504438767892982, 0.0368888291357156, 0.055333243703573405, 0.10357334474241192, 0.05178667237120596, 0.3625067065984417, 0.4660800513408536, 0.9382126226723886, 0.6992816325953073, 0.4891007955186838, 0.16303359850622792, 0.10868906567081862, 0.16303359850622792, 0.05434453283540931, 0.05434453283540931, 0.17189791452372413, 0.28649652420620686, 0.5156937435711724, 0.02466722559715706, 0.29600670716588473, 0.27133948156872767, 0.02466722559715706, 0.1233361279857853, 0.17267057918009943, 0.04933445119431412, 0.02466722559715706, 0.11690343676050452, 0.05010147289735908, 0.03340098193157272, 0.0835024548289318, 0.10020294579471815, 0.23380687352100904, 0.18370540062364996, 0.2004058915894363, 0.7582867899720063, 0.6724086216111774, 0.9382366034724099, 0.7033159453408487, 0.9565207244094908, 0.846131271156826, 0.8799905482945476, 0.7401099567328994, 0.7406472858578331, 0.8802274593990544, 0.9110687851045042, 0.1257775599813512, 0.7546653598881071, 0.6667383036375949, 0.7469108124871239, 0.8318136391865811, 0.0472815884632943, 0.47281588463294294, 0.0472815884632943, 0.0472815884632943, 0.0472815884632943, 0.1418447653898829, 0.1418447653898829, 0.8203514955200572, 0.6280569133140793, 0.3489205073967107, 0.10502161857789588, 0.0583453436543866, 0.07001441238526393, 0.36174113065719693, 0.04667627492350928, 0.08168348111614125, 0.08168348111614125, 0.14002882477052786, 0.07001441238526393, 0.0398251329428302, 0.08960654912136795, 0.16925681500702836, 0.1593005317713208, 0.0995628323570755, 0.0398251329428302, 0.3484699132497643, 0.00995628323570755, 0.0398251329428302, 0.2592968039138692, 0.1296484019569346, 0.1296484019569346, 0.3889452058708038, 0.4853969453504699, 0.053932993927829985, 0.10786598785565997, 0.10786598785565997, 0.10786598785565997, 0.16179898178348998, 0.9203989452647318, 0.7402320307741892, 0.7184581627528186, 0.28738326510112744, 0.7686768230223061, 0.8683710777181983, 0.13588593097921656, 0.08153155858752995, 0.10870874478337325, 0.1630631171750599, 0.24459467576258984, 0.10870874478337325, 0.13588593097921656, 0.04293491929516436, 0.30054443506615053, 0.04293491929516436, 0.08586983859032872, 0.04293491929516436, 0.3434793543613149, 0.08586983859032872, 0.08586983859032872, 0.5327673286152439, 0.06659591607690549, 0.09989387411535823, 0.09989387411535823, 0.09989387411535823, 0.033297958038452743, 0.06659591607690549, 0.007602748349466249, 0.18246596038718998, 0.05321923844626374, 0.09123298019359499, 0.09123298019359499, 0.20527420543558872, 0.045616490096797496, 0.022808245048398748, 0.22808245048398745, 0.08363023184412874, 0.6565046670849313, 0.07525152586543102, 0.12313886050706893, 0.348893438103362, 0.10261571708922411, 0.034205239029741374, 0.03762576293271551, 0.054728382447586196, 0.12655938441004308, 0.08551309757435342, 0.010261571708922411, 0.8071782216444195, 0.9207339840059666, 0.8512922694066598, 0.09791920269366422, 0.29375760808099266, 0.14687880404049633, 0.09791920269366422, 0.09791920269366422, 0.19583840538732844, 0.8919972489965384, 0.7005159906351318, 0.8622690773561368, 0.9104272916741017, 0.11454109890587011, 0.11454109890587011, 0.057270549452935055, 0.40089384617054535, 0.057270549452935055, 0.11454109890587011, 0.17181164835880516, 0.17207909619551287, 0.02647370710700198, 0.18531594974901386, 0.07942112132100594, 0.13236853553500988, 0.09265797487450693, 0.18531594974901386, 0.10589482842800792, 0.02647370710700198, 0.18438978434388986, 0.7375591373755594, 0.7025718783631832, 0.8883535051683705, 0.8364277569743311, 0.8926323620639266, 0.8608821962324249, 0.7060857464591404, 0.5769480658456526, 0.1730844197536958, 0.11538961316913052, 0.11538961316913052, 0.9206937083377881, 0.04180202646253312, 0.04180202646253312, 0.08360405292506624, 0.5852283704754637, 0.12540607938759937, 0.08360405292506624, 0.08360405292506624, 0.14579566291709553, 0.14579566291709553, 0.04859855430569851, 0.14579566291709553, 0.3887884344455881, 0.04859855430569851, 0.14579566291709553, 0.1359130666036807, 0.09060871106912045, 0.009060871106912045, 0.16309567992441681, 0.10873045328294455, 0.25370439099353725, 0.07248696885529636, 0.09060871106912045, 0.01812174221382409, 0.06342609774838431, 0.6567720691321847, 0.6901109543234376, 0.0862638692904297, 0.1725277385808594, 0.0862638692904297, 0.8827786113991131, 0.7696426543461559, 0.800331329666914, 0.050020708104182125, 0.15006212431254637, 0.06472973930659821, 0.7767568716791785, 0.06472973930659821, 0.12009301785026939, 0.015011627231283674, 0.18013952677540407, 0.12009301785026939, 0.060046508925134696, 0.030023254462567348, 0.09006976338770203, 0.07505813615641836, 0.2852209173943898, 0.030023254462567348, 0.6445000119435956, 0.21483333731453186, 0.843704718195298, 0.8538609374102867, 0.8298804308050031, 0.4275420589585365, 0.12826261768756095, 0.08550841179170729, 0.042754205895853645, 0.042754205895853645, 0.2565252353751219, 0.292339903602389, 0.584679807204778, 0.8643935267669548, 0.7927553381265001, 0.15855106762530002, 0.04896908205662478, 0.09793816411324956, 0.5386599026228726, 0.14690724616987436, 0.09793816411324956, 0.04896908205662478, 0.9336171021131504, 0.5868143920770577, 0.1676612548791593, 0.08383062743957966, 0.08383062743957966, 0.8315960695826506, 0.12167207412750283, 0.12167207412750283, 0.6083603706375141, 0.12167207412750283, 0.6873435765290702, 0.8609602977129428, 0.7404240913714838, 0.24996416629337712, 0.16664277752891807, 0.4166069438222952, 0.16664277752891807, 0.880895715956301, 0.07285551816699165, 0.2914220726679666, 0.07285551816699165, 0.5099886271689416, 0.7701593518195985, 0.8548317711668233, 0.06575629008975564, 0.7415930641152844, 0.10594186630218347, 0.10594186630218347, 0.11973978126832911, 0.11973978126832911, 0.17960967190249366, 0.059869890634164556, 0.059869890634164556, 0.059869890634164556, 0.3592193438049873, 0.08435531941512651, 0.08435531941512651, 0.08435531941512651, 0.08435531941512651, 0.6748425553210121, 0.6362300097783992, 0.7698366603304574, 0.08955716940393124, 0.17911433880786248, 0.17911433880786248, 0.3134500929137593, 0.04477858470196562, 0.13433575410589685, 0.13345361453095522, 0.13345361453095522, 0.26690722906191044, 0.13345361453095522, 0.40036084359286567, 0.03733345403695544, 0.22400072422173267, 0.11200036211086634, 0.41066799440650986, 0.03733345403695544, 0.14933381614782176, 0.07466690807391088, 0.6873111251690371, 0.6589431970092877, 0.21964773233642923, 0.7773465765018529, 0.8620673586226479, 0.7700180264158953, 0.04338709000871326, 0.19524190503920966, 0.032540317506534945, 0.032540317506534945, 0.010846772502178316, 0.4447176725893109, 0.07592740751524821, 0.08677418001742652, 0.05423386251089157, 0.032540317506534945, 0.14570096982720956, 0.14570096982720956, 0.7285048491360478, 0.2721916157431066, 0.6804790393577664, 0.401597966549461, 0.0803195933098922, 0.0803195933098922, 0.0803195933098922, 0.13386598884982034, 0.02677319776996407, 0.0803195933098922, 0.0803195933098922, 0.9175060685688446, 0.8138873201688053, 0.8108839688042718, 0.6855825499991841, 0.8349655366569574, 0.7035957897984827, 0.8677598943270739, 0.0867759894327074, 0.7697093873881284, 0.7618243941195113, 0.8609612878125934, 0.05432811730533966, 0.02716405865266983, 0.08149217595800949, 0.10865623461067932, 0.21731246922135863, 0.21731246922135863, 0.16298435191601898, 0.10865623461067932, 0.7550324879627498, 0.7147640323978733, 0.10761544635325744, 0.753308124472802, 0.10761544635325744, 0.9085653331687845, 0.6726902206550399, 0.08408627758187999, 0.08408627758187999, 0.16817255516375998, 0.8109518037934136, 0.13113919052458756, 0.16140208064564623, 0.11096393044388178, 0.07061341028247022, 0.050438150201764446, 0.10087630040352889, 0.07061341028247022, 0.060525780242117334, 0.181577340726352, 0.07061341028247022, 0.8904859620285169, 0.1700768321943538, 0.1700768321943538, 0.1700768321943538, 0.5102304965830614, 0.2056000380823122, 0.6168001142469366, 0.8014230483857857, 0.8564820354369317, 0.8378674766404042, 0.08378674766404043, 0.2568655525920621, 0.039517777321855706, 0.019758888660927853, 0.019758888660927853, 0.2568655525920621, 0.11855333196556712, 0.13831222062649498, 0.13831222062649498, 0.624661404221354, 0.6528510355655567, 0.7506936727821354, 0.06720689674358622, 0.06720689674358622, 0.13441379348717244, 0.06720689674358622, 0.2688275869743449, 0.40324138046151736, 0.8416426060138191, 0.8612538813223299, 0.5543995574210727, 0.3326397344526436, 0.8567725836629502, 0.04283862918314751, 0.04283862918314751, 0.04283862918314751, 0.7122170873521986, 0.7143298407173788, 0.16899661172377825, 0.08449830586188913, 0.08449830586188913, 0.2534949175856674, 0.42249152930944567, 0.6352257596273283, 0.17230786471628792, 0.12923089853721592, 0.04307696617907198, 0.5169235941488637, 0.08615393235814396, 0.1677447155899459, 0.6709788623597835, 0.12227324325417806, 0.24454648650835611, 0.12227324325417806, 0.48909297301671223, 0.06113662162708903, 0.7004340092508909, 0.8080314593044523, 0.06733595494203769, 0.13467190988407537, 0.6245998124327113, 0.7101833176270635, 0.1775458294067659, 0.15535732289337598, 0.10357154859558398, 0.10357154859558398, 0.6214292915735039, 0.1147797980542497, 0.1147797980542497, 0.6886787883254982, 0.1147797980542497, 0.25263039294132134, 0.12631519647066067, 0.5052607858826427, 0.09966866421686382, 0.09966866421686382, 0.09966866421686382, 0.6976806495180468, 0.8967981487673835, 0.8658753164919123, 0.14083144420386118, 0.7041572210193059, 0.10297923933260161, 0.38617214749725604, 0.05148961966630081, 0.20595847866520323, 0.05148961966630081, 0.15446885899890242, 0.025744809833150403, 0.11404164759421596, 0.11404164759421596, 0.5702082379710799, 0.11404164759421596, 0.37789787020574545, 0.2939205657155798, 0.04198865224508283, 0.08397730449016566, 0.08397730449016566, 0.1259659567352485, 0.07054496920959524, 0.2116349076287857, 0.17636242302398808, 0.03527248460479762, 0.4232698152575714, 0.10581745381439285, 0.8883573500220985, 0.8568677971007955, 0.6683337420366378, 0.7512595194269773, 0.12520991990449623, 0.8619460825988278, 0.7427692665085, 0.12379487775141666, 0.12379487775141666, 0.7041736600853814, 0.8583568309177955, 0.04553876280907383, 0.04553876280907383, 0.3187713396635168, 0.5464651537088859, 0.8017192914316905, 0.8829609416649528, 0.0490058880349912, 0.1470176641049736, 0.0980117760699824, 0.34304121624493844, 0.1470176641049736, 0.1960235521399648, 0.0980117760699824, 0.8948654377717011, 0.08948654377717012, 0.9068240079216339, 0.08599193178567217, 0.7964241052192298, 0.8565875091491046, 0.6802199079821004, 0.06183817345291821, 0.015459543363229553, 0.030919086726459107, 0.07729771681614778, 0.07729771681614778, 0.04637863008968866, 0.8367190524252232, 0.8416759265859025, 0.49468509749438644, 0.14549561691011367, 0.11639649352809094, 0.11639649352809094, 0.0872973701460682, 0.014549561691011367, 0.014549561691011367, 0.9390064180384111, 0.6566685727521644, 0.15035431691196308, 0.5262401091918708, 0.15035431691196308, 0.07517715845598154, 0.6997329225843932, 0.05363875921674694, 0.05363875921674694, 0.21455503686698776, 0.05363875921674694, 0.42911007373397553, 0.10727751843349388, 0.05363875921674694, 0.24518174513767804, 0.24518174513767804, 0.08172724837922601, 0.027242416126408674, 0.24518174513767804, 0.16345449675845203, 0.10052872008959277, 0.07539654006719457, 0.21362353019038463, 0.08796263007839367, 0.30158616026877827, 0.16335917014558823, 0.05026436004479638, 0.11157550590713769, 0.06973469119196106, 0.11157550590713769, 0.27893876476784424, 0.013946938238392211, 0.09762856766874549, 0.16736325886070655, 0.11157550590713769, 0.055787752953568845, 0.14801065818501108, 0.2466844303083518, 0.17267910121584626, 0.1233422151541759, 0.22201598727751662, 0.04933688606167036, 0.8882399344322505, 0.050952853042922075, 0.050952853042922075, 0.10190570608584415, 0.2038114121716883, 0.050952853042922075, 0.15285855912876622, 0.30571711825753245, 0.050952853042922075, 0.530328287228513, 0.23570146099045022, 0.058925365247612556, 0.11785073049522511, 0.058925365247612556, 0.05469427549483874, 0.12761997615462373, 0.018231425164946247, 0.05469427549483874, 0.29170280263913995, 0.03646285032989249, 0.18231425164946247, 0.09115712582473123, 0.03646285032989249, 0.09115712582473123, 0.8349085430614942, 0.6957272024285563, 0.7777531087653606, 0.7023713814772553, 0.7870886442394535, 0.034657367002680226, 0.311916303024122, 0.06931473400536045, 0.1386294680107209, 0.24260156901876156, 0.06931473400536045, 0.1386294680107209, 0.7031591115973137, 0.134397082060222, 0.67198541030111, 0.134397082060222, 0.12278426794471015, 0.06139213397235507, 0.18417640191706522, 0.12278426794471015, 0.06139213397235507, 0.36835280383413044, 0.8036105525952261, 0.17858012279893912, 0.15054423346233747, 0.09032654007740248, 0.18065308015480497, 0.4516327003870124, 0.12043538676986998, 0.5940033697207329, 0.3465019656704275, 0.049500280810061074, 0.6533626522235445, 0.92052582415549, 0.89081753108174, 0.09156116822383761, 0.20601262850363464, 0.3204640887834317, 0.06867087616787822, 0.06867087616787822, 0.11445146027979702, 0.09156116822383761, 0.04578058411191881, 0.13287651268677836, 0.13287651268677836, 0.7308208197772809, 0.015327266485629843, 0.18392719782755812, 0.2145817307988178, 0.09196359891377906, 0.18392719782755812, 0.06130906594251937, 0.06130906594251937, 0.04598179945688953, 0.15327266485629842, 0.7400239432377634, 0.9089445057617351, 0.056809031610108446, 0.7032876482191618, 0.08277399037404509, 0.08277399037404509, 0.6621919229923607, 0.08277399037404509, 0.08277399037404509, 0.9057042459959274, 0.9256292227766099, 0.12866464075822548, 0.6433232037911274, 0.12866464075822548, 0.2638134898548018, 0.2449696691508874, 0.018843820703914417, 0.07537528281565767, 0.18843820703914416, 0.09421910351957208, 0.056531462111743244, 0.056531462111743244, 0.871974011082235, 0.04374565192107267, 0.08749130384214535, 0.131236955763218, 0.21872825960536335, 0.08749130384214535, 0.04374565192107267, 0.04374565192107267, 0.08749130384214535, 0.262473911526436, 0.8785171975481773, 0.06570709488217724, 0.10951182480362873, 0.06570709488217724, 0.04380472992145149, 0.21902364960725745, 0.21902364960725745, 0.06570709488217724, 0.13141418976435448, 0.06570709488217724, 0.38517894368298444, 0.07703578873659689, 0.07703578873659689, 0.4622147324195814, 0.8352635265804662, 0.9829906295936648, 0.8019441170341141, 0.133657352839019, 0.9428112770742312, 0.13343279567626437, 0.13343279567626437, 0.6671639783813219, 0.8202008167017493, 0.11717154524310704, 0.7697784529005985, 0.10950891648705056, 0.02737722912176264, 0.1368861456088132, 0.08213168736528792, 0.2463950620958638, 0.1368861456088132, 0.1916406038523385, 0.05475445824352528, 0.8641037262335869, 0.04537430900941064, 0.07562384834901774, 0.04537430900941064, 0.24199631471685676, 0.12099815735842838, 0.15124769669803548, 0.13612292702823192, 0.15124769669803548, 0.144963703711007, 0.579854814844028, 0.144963703711007, 0.07131245357760815, 0.2139373607328245, 0.5704996286208652, 0.07131245357760815, 0.8029764376981315, 0.17206637950674247, 0.8462297671771453, 0.7166269025250226, 0.8192089312704183, 0.19808555014168414, 0.2971283252125262, 0.2971283252125262, 0.1485641626062631, 0.049521387535421034], \"Term\": [\"abide\", \"ackbar\", \"act\", \"act\", \"act\", \"act\", \"agenda\", \"ago\", \"ago\", \"ago\", \"airtime\", \"al\", \"al\", \"al\", \"al\", \"algebra\", \"alive\", \"allah\", \"allah\", \"allah\", \"allah\", \"allah\", \"allahu\", \"allege\", \"allow\", \"allow\", \"ally\", \"also\", \"also\", \"also\", \"also\", \"also\", \"also\", \"also\", \"anyone\", \"anyone\", \"anyone\", \"arm\", \"arm\", \"arm\", \"arm\", \"arm\", \"around\", \"around\", \"around\", \"arrest\", \"arse\", \"assad\", \"assault\", \"attack\", \"attack\", \"attack\", \"attack\", \"attack\", \"attack\", \"attack\", \"attention\", \"australia\", \"australia\", \"australia\", \"australia\", \"australia\", \"australia\", \"australia\", \"australia\", \"australian\", \"australian\", \"australian\", \"australian\", \"australian\", \"australian\", \"australian\", \"australian\", \"australians\", \"australians\", \"back\", \"back\", \"back\", \"back\", \"back\", \"backlash\", \"bad\", \"bad\", \"bad\", \"bad\", \"bad\", \"bad\", \"bad\", \"bad\", \"ban\", \"ban\", \"ban\", \"ban\", \"ban\", \"bang\", \"bastards\", \"bear\", \"bear\", \"bear\", \"behead\", \"behead\", \"behind\", \"behind\", \"beliefs\", \"better\", \"better\", \"better\", \"better\", \"better\", \"bible\", \"bible\", \"bible\", \"bible\", \"bible\", \"bieber\", \"biggest\", \"birmingham\", \"black\", \"black\", \"black\", \"blaze\", \"bloke\", \"blow\", \"body\", \"brainwash\", \"break\", \"bs\", \"btw\", \"buddhists\", \"buddhists\", \"bus\", \"cafe\", \"caf\\u00e9\", \"call\", \"call\", \"call\", \"call\", \"call\", \"call\", \"call\", \"call\", \"calm\", \"cant\", \"cant\", \"cant\", \"cant\", \"cant\", \"cant\", \"cant\", \"carry\", \"carry\", \"carry\", \"catholic\", \"charge\", \"charge\", \"children\", \"children\", \"children\", \"chocolate\", \"chocolate\", \"choose\", \"choose\", \"christianity\", \"civilize\", \"clearly\", \"cleric\", \"clever\", \"cnn\", \"cnn\", \"cnn\", \"cnn\", \"cold\", \"commit\", \"commit\", \"common\", \"commonly\", \"communism\", \"company\", \"company\", \"company\", \"comprise\", \"confirm\", \"confirm\", \"confirm\", \"confuse\", \"cop\", \"cop\", \"cop\", \"copycat\", \"corp\", \"correct\", \"corrupt\", \"cost\", \"cost\", \"could\", \"could\", \"could\", \"could\", \"could\", \"could\", \"countries\", \"countries\", \"countries\", \"countries\", \"cover\", \"cover\", \"cover\", \"create\", \"create\", \"creation\", \"creed\", \"crime\", \"crime\", \"crime\", \"crisis\", \"crisis\", \"crisis\", \"crisis\", \"crisis\", \"cross\", \"cut\", \"d\", \"d\", \"daily\", \"damage\", \"dangerous\", \"de\", \"de\", \"de\", \"de\", \"de\", \"dead\", \"deadly\", \"deal\", \"deal\", \"deal\", \"dear\", \"debe\", \"deliver\", \"deliver\", \"demand\", \"demand\", \"demand\", \"demand\", \"demand\", \"denounce\", \"denounce\", \"describe\", \"destroy\", \"detail\", \"develop\", \"dice\", \"dickhead\", \"difference\", \"difference\", \"difference\", \"difference\", \"difference\", \"different\", \"different\", \"different\", \"different\", \"different\", \"directly\", \"disclose\", \"disgust\", \"display\", \"display\", \"do\", \"do\", \"do\", \"do\", \"dont\", \"dont\", \"dont\", \"dont\", \"dont\", \"dont\", \"dont\", \"dont\", \"dont\", \"doors\", \"dozen\", \"drivers\", \"drivers\", \"duck\", \"dude\", \"embrace\", \"empathy\", \"en\", \"en\", \"en\", \"en\", \"encourage\", \"encourage\", \"enemy\", \"enjoy\", \"enough\", \"enough\", \"enough\", \"enough\", \"enough\", \"enough\", \"enough\", \"ethics\", \"europe\", \"europe\", \"even\", \"even\", \"even\", \"even\", \"even\", \"even\", \"even\", \"even\", \"events\", \"expert\", \"explosives\", \"extremist\", \"extremist\", \"facts\", \"facts\", \"facts\", \"fail\", \"fair\", \"fair\", \"fake\", \"falseflag\", \"families\", \"fault\", \"fault\", \"fear\", \"fear\", \"fear\", \"fear\", \"fear\", \"fear\", \"fear\", \"finance\", \"financial\", \"flag\", \"flag\", \"flag\", \"flag\", \"flag\", \"flag\", \"flag\", \"folks\", \"folks\", \"force\", \"force\", \"force\", \"force\", \"fox\", \"free\", \"free\", \"free\", \"free\", \"free\", \"free\", \"friend\", \"fuck\", \"fuck\", \"fuck\", \"fuck\", \"fuck\", \"fuck\", \"fuck\", \"fuckwit\", \"fun\", \"funny\", \"gaddafi\", \"gain\", \"gangster\", \"gaza\", \"gee\", \"get\", \"get\", \"get\", \"get\", \"get\", \"get\", \"get\", \"get\", \"girls\", \"go\", \"go\", \"go\", \"go\", \"go\", \"go\", \"go\", \"god\", \"god\", \"god\", \"goodness\", \"governments\", \"great\", \"great\", \"group\", \"group\", \"group\", \"group\", \"group\", \"group\", \"group\", \"group\", \"guess\", \"guess\", \"guess\", \"gun\", \"gun\", \"gun\", \"gun\", \"gun\", \"gun\", \"gun\", \"gunman\", \"gunman\", \"gunman\", \"gunman\", \"gunmen\", \"gunmen\", \"guy\", \"guy\", \"guy\", \"guy\", \"guy\", \"guy\", \"hadiths\", \"hadley\", \"hahaha\", \"halal\", \"halal\", \"hard\", \"haron\", \"hate\", \"hate\", \"hate\", \"hate\", \"hate\", \"hate\", \"heaven\", \"heavily\", \"hell\", \"hell\", \"help\", \"help\", \"help\", \"help\", \"help\", \"help\", \"hes\", \"hes\", \"hes\", \"hes\", \"hes\", \"higher\", \"higher\", \"hold\", \"hold\", \"hold\", \"hope\", \"hope\", \"hope\", \"hope\", \"hope\", \"hostage\", \"hostage\", \"hostage\", \"hostage\", \"hostage\", \"hostage\", \"hostages\", \"hostages\", \"hostages\", \"hostages\", \"hours\", \"however\", \"huh\", \"huh\", \"human\", \"human\", \"human\", \"hysteria\", \"identity\", \"idiots\", \"idiots\", \"idiots\", \"idiots\", \"ill\", \"illegal\", \"illegal\", \"im\", \"im\", \"im\", \"im\", \"im\", \"image\", \"image\", \"image\", \"immigration\", \"immigration\", \"indian\", \"individual\", \"infallible\", \"info\", \"info\", \"innocent\", \"innocent\", \"innocent\", \"innocent\", \"innocent\", \"inside\", \"inside\", \"inside\", \"intelligent\", \"intention\", \"intros\", \"involve\", \"involve\", \"involve\", \"ira\", \"iran\", \"iran\", \"iran\", \"iranian\", \"isil\", \"isil\", \"isis\", \"isis\", \"isis\", \"isis\", \"isis\", \"isis\", \"isis\", \"isis\", \"isis\", \"islam\", \"islam\", \"islam\", \"islam\", \"islam\", \"islam\", \"islam\", \"islam\", \"islamic\", \"islamic\", \"islamic\", \"islamic\", \"islamic\", \"islamic\", \"islamic\", \"islamism\", \"islamist\", \"islamist\", \"islamist\", \"islamist\", \"islamists\", \"islamists\", \"islamists\", \"islamists\", \"islamists\", \"islamists\", \"islamists\", \"islamists\", \"islamization\", \"islams\", \"isolate\", \"israeli\", \"ive\", \"jabah\", \"jehovahs\", \"jerk\", \"jesus\", \"jesus\", \"jihad\", \"jihad\", \"jihad\", \"judge\", \"justice\", \"justify\", \"justify\", \"katy\", \"kill\", \"kill\", \"kill\", \"kill\", \"kill\", \"kill\", \"knee\", \"know\", \"know\", \"know\", \"know\", \"know\", \"know\", \"know\", \"know\", \"know\", \"kosher\", \"la\", \"la\", \"la\", \"la\", \"last\", \"last\", \"last\", \"late\", \"latest\", \"laws\", \"laws\", \"laws\", \"le\", \"le\", \"le\", \"leader\", \"leftist\", \"let\", \"let\", \"let\", \"let\", \"let\", \"let\", \"let\", \"like\", \"like\", \"like\", \"like\", \"like\", \"like\", \"like\", \"like\", \"like\", \"like\", \"lindt\", \"lindt\", \"lindt\", \"live\", \"live\", \"live\", \"live\", \"live\", \"live\", \"local\", \"local\", \"long\", \"long\", \"longer\", \"look\", \"look\", \"look\", \"look\", \"look\", \"look\", \"los\", \"lose\", \"make\", \"make\", \"make\", \"make\", \"make\", \"make\", \"make\", \"make\", \"make\", \"man\", \"man\", \"man\", \"man\", \"martin\", \"massively\", \"may\", \"may\", \"may\", \"may\", \"may\", \"may\", \"maybe\", \"maybe\", \"maybe\", \"mean\", \"mean\", \"mean\", \"mean\", \"mean\", \"mean\", \"mean\", \"mean\", \"media\", \"media\", \"media\", \"media\", \"media\", \"media\", \"media\", \"media\", \"mercy\", \"mess\", \"messenger\", \"mh\", \"militants\", \"minimum\", \"minister\", \"minster\", \"misguide\", \"modern\", \"money\", \"monis\", \"monis\", \"morning\", \"moslems\", \"mosques\", \"muhammad\", \"muhammad\", \"muhammad\", \"muhammad\", \"muhammad\", \"muhammad\", \"muhammad\", \"multiple\", \"murder\", \"murder\", \"muslim\", \"muslim\", \"muslim\", \"muslim\", \"muslim\", \"muslim\", \"muslim\", \"muslim\", \"muslim\", \"muslims\", \"muslims\", \"muslims\", \"muslims\", \"muslims\", \"muslims\", \"muslims\", \"muslims\", \"muslims\", \"must\", \"must\", \"must\", \"must\", \"name\", \"name\", \"name\", \"name\", \"name\", \"name\", \"nasa\", \"nasty\", \"nato\", \"nato\", \"navy\", \"near\", \"need\", \"need\", \"need\", \"need\", \"need\", \"need\", \"need\", \"never\", \"never\", \"never\", \"never\", \"never\", \"never\", \"never\", \"never\", \"news\", \"news\", \"news\", \"news\", \"news\", \"news\", \"news\", \"no\", \"no\", \"no\", \"no\", \"no\", \"no\", \"no\", \"no\", \"no\", \"no\", \"none\", \"not\", \"not\", \"not\", \"not\", \"not\", \"not\", \"not\", \"not\", \"not\", \"not\", \"note\", \"notice\", \"nra\", \"obama\", \"obama\", \"obama\", \"obama\", \"obama\", \"obama\", \"obamas\", \"obvious\", \"offenders\", \"offer\", \"oh\", \"oh\", \"oh\", \"oh\", \"oh\", \"oh\", \"oh\", \"one\", \"one\", \"one\", \"one\", \"one\", \"one\", \"one\", \"one\", \"one\", \"opera\", \"opera\", \"opportunity\", \"order\", \"org\", \"outpost\", \"palestine\", \"panic\", \"pay\", \"pay\", \"pay\", \"pay\", \"pc\", \"peace\", \"peace\", \"peace\", \"peace\", \"peace\", \"peace\", \"peace\", \"peaceful\", \"peaceful\", \"peaceful\", \"peaceful\", \"peaceful\", \"peaceful\", \"peaceful\", \"people\", \"people\", \"people\", \"people\", \"people\", \"people\", \"people\", \"people\", \"people\", \"people\", \"perpetrators\", \"person\", \"person\", \"person\", \"person\", \"phone\", \"pickup\", \"place\", \"place\", \"place\", \"pm\", \"pm\", \"pm\", \"police\", \"police\", \"police\", \"police\", \"police\", \"police\", \"police\", \"police\", \"police\", \"police\", \"politics\", \"politics\", \"pour\", \"power\", \"powerful\", \"ppl\", \"ppl\", \"ppl\", \"ppl\", \"ppl\", \"ppl\", \"practice\", \"practice\", \"preach\", \"press\", \"press\", \"price\", \"price\", \"price\", \"price\", \"price\", \"price\", \"prime\", \"probably\", \"probably\", \"probably\", \"probably\", \"propaganda\", \"prove\", \"prove\", \"prove\", \"prove\", \"provide\", \"publicity\", \"pussy\", \"put\", \"put\", \"put\", \"put\", \"putin\", \"que\", \"que\", \"que\", \"que\", \"queda\", \"r\", \"r\", \"race\", \"race\", \"race\", \"racist\", \"racist\", \"racist\", \"racist\", \"racist\", \"racist\", \"racist\", \"radical\", \"radical\", \"radical\", \"radical\", \"radical\", \"ray\", \"re\", \"read\", \"read\", \"read\", \"read\", \"read\", \"read\", \"real\", \"real\", \"real\", \"real\", \"real\", \"really\", \"really\", \"really\", \"really\", \"really\", \"really\", \"really\", \"recent\", \"refer\", \"refer\", \"refugee\", \"refuse\", \"refute\", \"religion\", \"religion\", \"religion\", \"religion\", \"religion\", \"religion\", \"religion\", \"religion\", \"religion\", \"religion\", \"remain\", \"remain\", \"remain\", \"remember\", \"remember\", \"report\", \"report\", \"report\", \"report\", \"report\", \"report\", \"report\", \"report\", \"reportedly\", \"represent\", \"request\", \"resolution\", \"result\", \"reveal\", \"rid\", \"rid\", \"riders\", \"ridiculous\", \"rifle\", \"right\", \"right\", \"right\", \"right\", \"right\", \"right\", \"right\", \"right\", \"round\", \"rt\", \"sad\", \"sad\", \"sad\", \"sadly\", \"saudi\", \"saudi\", \"saudi\", \"saudi\", \"saudis\", \"say\", \"say\", \"say\", \"say\", \"say\", \"say\", \"say\", \"say\", \"say\", \"say\", \"script\", \"scum\", \"scum\", \"scum\", \"scum\", \"scumbag\", \"scumbag\", \"seal\", \"second\", \"secular\", \"secular\", \"see\", \"see\", \"see\", \"see\", \"see\", \"see\", \"see\", \"see\", \"seek\", \"seekers\", \"seguridad\", \"send\", \"send\", \"send\", \"send\", \"send\", \"send\", \"sense\", \"several\", \"sex\", \"sex\", \"shahada\", \"shahada\", \"shahada\", \"shahada\", \"sheik\", \"shia\", \"shit\", \"shit\", \"shit\", \"shit\", \"shit\", \"shock\", \"shoot\", \"shoot\", \"shoot\", \"shoot\", \"shoot\", \"shop\", \"shop\", \"show\", \"show\", \"show\", \"show\", \"show\", \"shutdown\", \"siege\", \"siege\", \"siege\", \"sight\", \"similar\", \"similar\", \"situation\", \"situation\", \"situation\", \"situation\", \"sniper\", \"sniper\", \"sniper\", \"sniper\", \"someone\", \"someone\", \"someone\", \"something\", \"something\", \"something\", \"something\", \"soon\", \"sorry\", \"sound\", \"sound\", \"state\", \"state\", \"state\", \"state\", \"state\", \"state\", \"state\", \"statement\", \"statement\", \"statement\", \"statement\", \"still\", \"still\", \"still\", \"still\", \"still\", \"still\", \"stop\", \"stop\", \"stop\", \"stop\", \"stop\", \"stop\", \"store\", \"storm\", \"stream\", \"strike\", \"strike\", \"stun\", \"stupid\", \"stupid\", \"stupid\", \"suffer\", \"sunni\", \"support\", \"support\", \"support\", \"support\", \"supporters\", \"surah\", \"sure\", \"sure\", \"sure\", \"sure\", \"sure\", \"sure\", \"sure\", \"surge\", \"surge\", \"sydney\", \"sydney\", \"sydneys\", \"sydneyseige\", \"sydneysiege\", \"sydneysiege\", \"sydneysiege\", \"sydneysiege\", \"sydneysiege\", \"sydneysiege\", \"sydneysiege\", \"sympathy\", \"system\", \"take\", \"take\", \"take\", \"take\", \"take\", \"take\", \"take\", \"taker\", \"taliban\", \"teach\", \"teach\", \"teach\", \"teach\", \"terorists\", \"terror\", \"terror\", \"terror\", \"terror\", \"terror\", \"terror\", \"terror\", \"terrorism\", \"terrorism\", \"terrorism\", \"terrorism\", \"terrorism\", \"terrorism\", \"terrorist\", \"terrorist\", \"terrorist\", \"terrorist\", \"terrorist\", \"terrorist\", \"terrorist\", \"terrorists\", \"terrorists\", \"terrorists\", \"terrorists\", \"terrorists\", \"terrorists\", \"terrorists\", \"terrorists\", \"terrorists\", \"thats\", \"thats\", \"thats\", \"thats\", \"thats\", \"thats\", \"theories\", \"theyre\", \"theyre\", \"theyre\", \"theyre\", \"theyre\", \"theyre\", \"theyre\", \"theyre\", \"thing\", \"thing\", \"thing\", \"thing\", \"thing\", \"think\", \"think\", \"think\", \"think\", \"think\", \"think\", \"think\", \"think\", \"think\", \"think\", \"thou\", \"thousands\", \"thugs\", \"thus\", \"tie\", \"time\", \"time\", \"time\", \"time\", \"time\", \"time\", \"time\", \"tl\", \"together\", \"together\", \"together\", \"tweet\", \"tweet\", \"tweet\", \"tweet\", \"tweet\", \"tweet\", \"two\", \"two\", \"u\", \"u\", \"u\", \"u\", \"u\", \"uber\", \"uber\", \"uber\", \"unite\", \"unless\", \"update\", \"us\", \"us\", \"us\", \"us\", \"us\", \"us\", \"us\", \"us\", \"usa\", \"usa\", \"usa\", \"use\", \"use\", \"use\", \"use\", \"use\", \"use\", \"use\", \"use\", \"use\", \"v\", \"via\", \"via\", \"viewers\", \"violence\", \"violence\", \"violence\", \"violence\", \"violence\", \"virgin\", \"visible\", \"wait\", \"wait\", \"wait\", \"want\", \"want\", \"want\", \"want\", \"want\", \"want\", \"want\", \"want\", \"wave\", \"way\", \"way\", \"way\", \"way\", \"way\", \"way\", \"way\", \"way\", \"way\", \"weapon\", \"well\", \"well\", \"well\", \"well\", \"well\", \"well\", \"well\", \"well\", \"well\", \"west\", \"west\", \"west\", \"west\", \"whos\", \"window\", \"windows\", \"windows\", \"wish\", \"without\", \"without\", \"without\", \"wonder\", \"wonder\", \"workplaceviolence\", \"world\", \"world\", \"world\", \"world\", \"world\", \"world\", \"world\", \"world\", \"worship\", \"would\", \"would\", \"would\", \"would\", \"would\", \"would\", \"would\", \"would\", \"wow\", \"wow\", \"wow\", \"write\", \"write\", \"write\", \"write\", \"wrong\", \"wrong\", \"wtf\", \"yea\", \"young\", \"youre\", \"youre\", \"youre\", \"youre\", \"youre\"]}, \"R\": 30, \"lambda.step\": 0.01, \"plot.opts\": {\"xlab\": \"PC1\", \"ylab\": \"PC2\"}, \"topic.order\": [4, 8, 9, 1, 6, 7, 3, 5, 10, 2]};\n",
       "\n",
       "function LDAvis_load_lib(url, callback){\n",
       "  var s = document.createElement('script');\n",
       "  s.src = url;\n",
       "  s.async = true;\n",
       "  s.onreadystatechange = s.onload = callback;\n",
       "  s.onerror = function(){console.warn(\"failed to load library \" + url);};\n",
       "  document.getElementsByTagName(\"head\")[0].appendChild(s);\n",
       "}\n",
       "\n",
       "if(typeof(LDAvis) !== \"undefined\"){\n",
       "   // already loaded: just create the visualization\n",
       "   !function(LDAvis){\n",
       "       new LDAvis(\"#\" + \"ldavis_el1902031165259218889087238044\", ldavis_el1902031165259218889087238044_data);\n",
       "   }(LDAvis);\n",
       "}else if(typeof define === \"function\" && define.amd){\n",
       "   // require.js is available: use it to load d3/LDAvis\n",
       "   require.config({paths: {d3: \"https://d3js.org/d3.v5\"}});\n",
       "   require([\"d3\"], function(d3){\n",
       "      window.d3 = d3;\n",
       "      LDAvis_load_lib(\"https://cdn.jsdelivr.net/gh/bmabey/pyLDAvis@3.3.1/pyLDAvis/js/ldavis.v3.0.0.js\", function(){\n",
       "        new LDAvis(\"#\" + \"ldavis_el1902031165259218889087238044\", ldavis_el1902031165259218889087238044_data);\n",
       "      });\n",
       "    });\n",
       "}else{\n",
       "    // require.js not available: dynamically load d3 & LDAvis\n",
       "    LDAvis_load_lib(\"https://d3js.org/d3.v5.js\", function(){\n",
       "         LDAvis_load_lib(\"https://cdn.jsdelivr.net/gh/bmabey/pyLDAvis@3.3.1/pyLDAvis/js/ldavis.v3.0.0.js\", function(){\n",
       "                 new LDAvis(\"#\" + \"ldavis_el1902031165259218889087238044\", ldavis_el1902031165259218889087238044_data);\n",
       "            })\n",
       "         });\n",
       "}\n",
       "</script>"
      ],
      "text/plain": [
       "<IPython.core.display.HTML object>"
      ]
     },
     "execution_count": 25,
     "metadata": {},
     "output_type": "execute_result"
    }
   ],
   "source": [
    "pyLDAvis.display(target_topics)"
   ]
  },
  {
   "cell_type": "code",
   "execution_count": 27,
   "metadata": {
    "id": "J0U9BsNxUdmu",
    "outputId": "2ee7dd01-46f9-47cc-bc57-d611775184ea"
   },
   "outputs": [
    {
     "name": "stderr",
     "output_type": "stream",
     "text": [
      "c:\\users\\user\\appdata\\local\\programs\\python\\python39\\lib\\site-packages\\ipykernel\\ipkernel.py:283: DeprecationWarning: `should_run_async` will not call `transform_cell` automatically in the future. Please pass the result to `transformed_cell` argument and any exception that happen during thetransform in `preprocessing_exc_tuple` in IPython 7.17 and above.\n",
      "  and should_run_async(code)\n"
     ]
    }
   ],
   "source": [
    "save_path = 'sydneysiege/18 targetanalysis/twanalysis\\\\'\n",
    "pyLDAvis.save_html(target_topics, save_path+'sydneysiege_lda_target.html')"
   ]
  },
  {
   "cell_type": "markdown",
   "metadata": {
    "id": "xj5qbnyrUdmv"
   },
   "source": [
    "## Non-Target"
   ]
  },
  {
   "cell_type": "code",
   "execution_count": 28,
   "metadata": {
    "id": "-pRDtp2FUdmw",
    "outputId": "3bc22acf-93a4-4e0c-cd3e-939d60527b7e"
   },
   "outputs": [
    {
     "name": "stdout",
     "output_type": "stream",
     "text": [
      "Dictionary(6356 unique tokens: ['flag', 'not', 'specifically', 'im', 'omg']...)\n"
     ]
    },
    {
     "name": "stderr",
     "output_type": "stream",
     "text": [
      "c:\\users\\user\\appdata\\local\\programs\\python\\python39\\lib\\site-packages\\ipykernel\\ipkernel.py:283: DeprecationWarning: `should_run_async` will not call `transform_cell` automatically in the future. Please pass the result to `transformed_cell` argument and any exception that happen during thetransform in `preprocessing_exc_tuple` in IPython 7.17 and above.\n",
      "  and should_run_async(code)\n"
     ]
    }
   ],
   "source": [
    "#Rumor dictionary\n",
    "id2word_non = corpora.Dictionary(nontarget_tw_list)\n",
    "print(id2word_non)"
   ]
  },
  {
   "cell_type": "code",
   "execution_count": 29,
   "metadata": {
    "id": "wWvl0lVCUdmx",
    "outputId": "463abdd3-34cd-48a5-ced8-fbb64b94fb2e"
   },
   "outputs": [
    {
     "name": "stderr",
     "output_type": "stream",
     "text": [
      "c:\\users\\user\\appdata\\local\\programs\\python\\python39\\lib\\site-packages\\ipykernel\\ipkernel.py:283: DeprecationWarning: `should_run_async` will not call `transform_cell` automatically in the future. Please pass the result to `transformed_cell` argument and any exception that happen during thetransform in `preprocessing_exc_tuple` in IPython 7.17 and above.\n",
      "  and should_run_async(code)\n"
     ]
    }
   ],
   "source": [
    "# Term Document Frequency\n",
    "corpus_nontarget = [id2word_non.doc2bow(tw) for tw in nontarget_tw_list]"
   ]
  },
  {
   "cell_type": "code",
   "execution_count": 30,
   "metadata": {
    "id": "Wi-vS6ODUdmz",
    "outputId": "03959fc0-b002-4eba-c9aa-4840bc891e71"
   },
   "outputs": [
    {
     "name": "stderr",
     "output_type": "stream",
     "text": [
      "c:\\users\\user\\appdata\\local\\programs\\python\\python39\\lib\\site-packages\\ipykernel\\ipkernel.py:283: DeprecationWarning: `should_run_async` will not call `transform_cell` automatically in the future. Please pass the result to `transformed_cell` argument and any exception that happen during thetransform in `preprocessing_exc_tuple` in IPython 7.17 and above.\n",
      "  and should_run_async(code)\n"
     ]
    }
   ],
   "source": [
    "def compute_coherence_values(corpus, dictionary, k):\n",
    "    \n",
    "    lda_model = gensim.models.LdaMulticore(corpus=corpus,\n",
    "                                           id2word=dictionary,\n",
    "                                           num_topics=k, \n",
    "                                           random_state=100,\n",
    "                                           chunksize=100,\n",
    "                                           passes=10)\n",
    "    \n",
    "    coherence_model_lda = CoherenceModel(model=lda_model, \n",
    "                                         texts=nontarget_tw_list, #要改\n",
    "                                         dictionary=id2word_non,    #要改\n",
    "                                         coherence='c_v')\n",
    "    return coherence_model_lda.get_coherence()"
   ]
  },
  {
   "cell_type": "code",
   "execution_count": 19,
   "metadata": {
    "id": "IZ11yMCmUdmj"
   },
   "outputs": [
    {
     "name": "stderr",
     "output_type": "stream",
     "text": [
      "c:\\users\\user\\appdata\\local\\programs\\python\\python39\\lib\\site-packages\\ipykernel\\ipkernel.py:283: DeprecationWarning: `should_run_async` will not call `transform_cell` automatically in the future. Please pass the result to `transformed_cell` argument and any exception that happen during thetransform in `preprocessing_exc_tuple` in IPython 7.17 and above.\n",
      "  and should_run_async(code)\n"
     ]
    }
   ],
   "source": [
    "# Topics range\n",
    "min_topics = 2\n",
    "max_topics = 20\n",
    "step_size = 1\n",
    "topics_range = range(min_topics, max_topics, step_size)"
   ]
  },
  {
   "cell_type": "code",
   "execution_count": 31,
   "metadata": {
    "id": "P1i8a_70Udm0",
    "outputId": "661bce5c-e1fb-4499-89d1-f6c984d0a265"
   },
   "outputs": [
    {
     "name": "stderr",
     "output_type": "stream",
     "text": [
      "c:\\users\\user\\appdata\\local\\programs\\python\\python39\\lib\\site-packages\\ipykernel\\ipkernel.py:283: DeprecationWarning: `should_run_async` will not call `transform_cell` automatically in the future. Please pass the result to `transformed_cell` argument and any exception that happen during thetransform in `preprocessing_exc_tuple` in IPython 7.17 and above.\n",
      "  and should_run_async(code)\n"
     ]
    }
   ],
   "source": [
    "nontarget_results ={'Topics': [], 'Coherence': []}\n",
    "\n",
    "for k in topics_range:\n",
    "\n",
    "    # get the coherence score for the given parameters\n",
    "    cv = compute_coherence_values(corpus=corpus_nontarget, \n",
    "                                  dictionary=id2word_non,k=k)\n",
    "    # Save the model results\n",
    "    nontarget_results['Topics'].append(k)\n",
    "    nontarget_results['Coherence'].append(cv)"
   ]
  },
  {
   "cell_type": "code",
   "execution_count": 32,
   "metadata": {
    "id": "XruBuLwyUdm0",
    "outputId": "ca4d8c28-729e-4ead-cd74-092b816b5ea9"
   },
   "outputs": [
    {
     "name": "stderr",
     "output_type": "stream",
     "text": [
      "c:\\users\\user\\appdata\\local\\programs\\python\\python39\\lib\\site-packages\\ipykernel\\ipkernel.py:283: DeprecationWarning: `should_run_async` will not call `transform_cell` automatically in the future. Please pass the result to `transformed_cell` argument and any exception that happen during thetransform in `preprocessing_exc_tuple` in IPython 7.17 and above.\n",
      "  and should_run_async(code)\n"
     ]
    },
    {
     "data": {
      "text/html": [
       "<div>\n",
       "<style scoped>\n",
       "    .dataframe tbody tr th:only-of-type {\n",
       "        vertical-align: middle;\n",
       "    }\n",
       "\n",
       "    .dataframe tbody tr th {\n",
       "        vertical-align: top;\n",
       "    }\n",
       "\n",
       "    .dataframe thead th {\n",
       "        text-align: right;\n",
       "    }\n",
       "</style>\n",
       "<table border=\"1\" class=\"dataframe\">\n",
       "  <thead>\n",
       "    <tr style=\"text-align: right;\">\n",
       "      <th></th>\n",
       "      <th>Topics</th>\n",
       "      <th>Coherence</th>\n",
       "    </tr>\n",
       "  </thead>\n",
       "  <tbody>\n",
       "    <tr>\n",
       "      <th>0</th>\n",
       "      <td>2</td>\n",
       "      <td>0.344901</td>\n",
       "    </tr>\n",
       "    <tr>\n",
       "      <th>1</th>\n",
       "      <td>3</td>\n",
       "      <td>0.448419</td>\n",
       "    </tr>\n",
       "    <tr>\n",
       "      <th>2</th>\n",
       "      <td>4</td>\n",
       "      <td>0.393968</td>\n",
       "    </tr>\n",
       "    <tr>\n",
       "      <th>3</th>\n",
       "      <td>5</td>\n",
       "      <td>0.421440</td>\n",
       "    </tr>\n",
       "    <tr>\n",
       "      <th>4</th>\n",
       "      <td>6</td>\n",
       "      <td>0.453817</td>\n",
       "    </tr>\n",
       "    <tr>\n",
       "      <th>5</th>\n",
       "      <td>7</td>\n",
       "      <td>0.441003</td>\n",
       "    </tr>\n",
       "    <tr>\n",
       "      <th>6</th>\n",
       "      <td>8</td>\n",
       "      <td>0.386462</td>\n",
       "    </tr>\n",
       "    <tr>\n",
       "      <th>7</th>\n",
       "      <td>9</td>\n",
       "      <td>0.396510</td>\n",
       "    </tr>\n",
       "    <tr>\n",
       "      <th>8</th>\n",
       "      <td>10</td>\n",
       "      <td>0.474716</td>\n",
       "    </tr>\n",
       "    <tr>\n",
       "      <th>9</th>\n",
       "      <td>11</td>\n",
       "      <td>0.386482</td>\n",
       "    </tr>\n",
       "    <tr>\n",
       "      <th>10</th>\n",
       "      <td>12</td>\n",
       "      <td>0.415605</td>\n",
       "    </tr>\n",
       "    <tr>\n",
       "      <th>11</th>\n",
       "      <td>13</td>\n",
       "      <td>0.443664</td>\n",
       "    </tr>\n",
       "    <tr>\n",
       "      <th>12</th>\n",
       "      <td>14</td>\n",
       "      <td>0.421633</td>\n",
       "    </tr>\n",
       "    <tr>\n",
       "      <th>13</th>\n",
       "      <td>15</td>\n",
       "      <td>0.487908</td>\n",
       "    </tr>\n",
       "    <tr>\n",
       "      <th>14</th>\n",
       "      <td>16</td>\n",
       "      <td>0.469466</td>\n",
       "    </tr>\n",
       "    <tr>\n",
       "      <th>15</th>\n",
       "      <td>17</td>\n",
       "      <td>0.485484</td>\n",
       "    </tr>\n",
       "    <tr>\n",
       "      <th>16</th>\n",
       "      <td>18</td>\n",
       "      <td>0.483709</td>\n",
       "    </tr>\n",
       "    <tr>\n",
       "      <th>17</th>\n",
       "      <td>19</td>\n",
       "      <td>0.455070</td>\n",
       "    </tr>\n",
       "  </tbody>\n",
       "</table>\n",
       "</div>"
      ],
      "text/plain": [
       "    Topics  Coherence\n",
       "0        2   0.344901\n",
       "1        3   0.448419\n",
       "2        4   0.393968\n",
       "3        5   0.421440\n",
       "4        6   0.453817\n",
       "5        7   0.441003\n",
       "6        8   0.386462\n",
       "7        9   0.396510\n",
       "8       10   0.474716\n",
       "9       11   0.386482\n",
       "10      12   0.415605\n",
       "11      13   0.443664\n",
       "12      14   0.421633\n",
       "13      15   0.487908\n",
       "14      16   0.469466\n",
       "15      17   0.485484\n",
       "16      18   0.483709\n",
       "17      19   0.455070"
      ]
     },
     "execution_count": 32,
     "metadata": {},
     "output_type": "execute_result"
    }
   ],
   "source": [
    "nontarget_results = pd.DataFrame(nontarget_results)\n",
    "nontarget_results"
   ]
  },
  {
   "cell_type": "code",
   "execution_count": 34,
   "metadata": {
    "id": "KeqSmuh-Udm5",
    "outputId": "495997f2-4d98-4d9f-8437-1f163b8692e1"
   },
   "outputs": [
    {
     "name": "stderr",
     "output_type": "stream",
     "text": [
      "c:\\users\\user\\appdata\\local\\programs\\python\\python39\\lib\\site-packages\\ipykernel\\ipkernel.py:283: DeprecationWarning: `should_run_async` will not call `transform_cell` automatically in the future. Please pass the result to `transformed_cell` argument and any exception that happen during thetransform in `preprocessing_exc_tuple` in IPython 7.17 and above.\n",
      "  and should_run_async(code)\n"
     ]
    },
    {
     "data": {
      "image/png": "[encoded data removed]",
      "text/plain": [
       "<Figure size 432x288 with 1 Axes>"
      ]
     },
     "metadata": {
      "needs_background": "light"
     },
     "output_type": "display_data"
    }
   ],
   "source": [
    "# Show graph\n",
    "import matplotlib.pyplot as plt\n",
    "x = range(min_topics, max_topics, step_size)\n",
    "\n",
    "plt.plot(nontarget_results.Topics, nontarget_results.Coherence)\n",
    "plt.xticks(x)\n",
    "plt.xlabel(\"Num Topics\")\n",
    "plt.ylabel(\"Coherence score\")\n",
    "plt.legend((\"coherence_values\"), loc='best')\n",
    "plt.show()"
   ]
  },
  {
   "cell_type": "markdown",
   "metadata": {},
   "source": [
    "### choose the number of topics: **3**"
   ]
  },
  {
   "cell_type": "code",
   "execution_count": 35,
   "metadata": {
    "id": "Q9enzPepUdm6",
    "outputId": "40c9cdfd-493d-48b6-c2f4-0ea3892d69ef"
   },
   "outputs": [
    {
     "name": "stderr",
     "output_type": "stream",
     "text": [
      "c:\\users\\user\\appdata\\local\\programs\\python\\python39\\lib\\site-packages\\ipykernel\\ipkernel.py:283: DeprecationWarning: `should_run_async` will not call `transform_cell` automatically in the future. Please pass the result to `transformed_cell` argument and any exception that happen during thetransform in `preprocessing_exc_tuple` in IPython 7.17 and above.\n",
      "  and should_run_async(code)\n"
     ]
    }
   ],
   "source": [
    "lda_model_nontarget = gensim.models.LdaMulticore(corpus=corpus_nontarget,id2word=id2word_non,num_topics=3, \n",
    "                                       random_state=100,chunksize=100,passes=10)"
   ]
  },
  {
   "cell_type": "code",
   "execution_count": 36,
   "metadata": {
    "id": "HnGjtIVJUdm7",
    "outputId": "0a61c6f5-b897-4b46-83a6-78ab2c6ee66c"
   },
   "outputs": [
    {
     "name": "stderr",
     "output_type": "stream",
     "text": [
      "c:\\users\\user\\appdata\\local\\programs\\python\\python39\\lib\\site-packages\\ipykernel\\ipkernel.py:283: DeprecationWarning: `should_run_async` will not call `transform_cell` automatically in the future. Please pass the result to `transformed_cell` argument and any exception that happen during thetransform in `preprocessing_exc_tuple` in IPython 7.17 and above.\n",
      "  and should_run_async(code)\n",
      "c:\\users\\user\\appdata\\local\\programs\\python\\python39\\lib\\site-packages\\pyLDAvis\\_prepare.py:246: FutureWarning: In a future version of pandas all arguments of DataFrame.drop except for the argument 'labels' will be keyword-only.\n",
      "  default_term_info = default_term_info.sort_values(\n"
     ]
    },
    {
     "data": {
      "text/html": [
       "\n",
       "<link rel=\"stylesheet\" type=\"text/css\" href=\"https://cdn.jsdelivr.net/gh/bmabey/pyLDAvis@3.3.1/pyLDAvis/js/ldavis.v1.0.0.css\">\n",
       "\n",
       "\n",
       "<div id=\"ldavis_el1902031165833999367988216781\"></div>\n",
       "<script type=\"text/javascript\">\n",
       "\n",
       "var ldavis_el1902031165833999367988216781_data = {\"mdsDat\": {\"x\": [0.22455018809406033, -0.07691166816039184, -0.14763851993366858], \"y\": [0.02933434209186307, -0.15436726802166434, 0.12503292592980142], \"topics\": [1, 2, 3], \"cluster\": [1, 1, 1], \"Freq\": [40.61750487640029, 30.674731640718473, 28.707763482881237]}, \"tinfo\": {\"Term\": [\"sydney\", \"sydneysiege\", \"cafe\", \"police\", \"hostages\", \"hostage\", \"people\", \"break\", \"news\", \"good\", \"gunman\", \"report\", \"lindt\", \"escape\", \"no\", \"hold\", \"siege\", \"oh\", \"situation\", \"confirm\", \"live\", \"flag\", \"update\", \"monis\", \"thank\", \"go\", \"fuck\", \"god\", \"lol\", \"run\", \"cafe\", \"break\", \"police\", \"news\", \"hold\", \"gunman\", \"confirm\", \"hostage\", \"flag\", \"lindt\", \"five\", \"inside\", \"martin\", \"people\", \"storm\", \"caf\\u00e9\", \"update\", \"flee\", \"build\", \"demand\", \"appear\", \"sydney\", \"injure\", \"taker\", \"remain\", \"tv\", \"contact\", \"situation\", \"believe\", \"siege\", \"arm\", \"sydneysiege\", \"report\", \"hostages\", \"escape\", \"live\", \"run\", \"media\", \"two\", \"say\", \"place\", \"least\", \"not\", \"dont\", \"one\", \"know\", \"no\", \"lol\", \"home\", \"leave\", \"door\", \"men\", \"today\", \"great\", \"powerful\", \"care\", \"stupid\", \"prayers\", \"mean\", \"good\", \"okay\", \"statement\", \"might\", \"everything\", \"safely\", \"open\", \"heart\", \"much\", \"idiots\", \"condemn\", \"prayforsydney\", \"bless\", \"wtf\", \"trap\", \"swat\", \"help\", \"em\", \"stay\", \"front\", \"fuck\", \"sad\", \"dramatic\", \"number\", \"true\", \"keep\", \"maybe\", \"sorry\", \"shoot\", \"like\", \"well\", \"safe\", \"come\", \"guy\", \"hope\", \"women\", \"look\", \"work\", \"not\", \"thats\", \"go\", \"think\", \"one\", \"youre\", \"pray\", \"want\", \"im\", \"thank\", \"know\", \"dont\", \"get\", \"please\", \"would\", \"sydneysiege\", \"oh\", \"ok\", \"wrong\", \"monis\", \"behind\", \"cover\", \"haron\", \"never\", \"wow\", \"involve\", \"idiot\", \"life\", \"buy\", \"pay\", \"wont\", \"eye\", \"enough\", \"racist\", \"fake\", \"x\", \"wouldnt\", \"followers\", \"radical\", \"soon\", \"de\", \"k\", \"r\", \"action\", \"pretty\", \"sick\", \"rid\", \"things\", \"wasnt\", \"scary\", \"even\", \"crisis\", \"whats\", \"god\", \"happen\", \"nothing\", \"no\", \"thank\", \"make\", \"right\", \"u\", \"go\", \"get\", \"religion\", \"let\", \"man\", \"hope\", \"not\", \"im\", \"need\", \"uber\", \"thats\", \"call\", \"know\", \"take\", \"dont\", \"time\", \"see\"], \"Freq\": [498.0, 614.0, 354.0, 315.0, 419.0, 253.0, 243.0, 208.0, 181.0, 115.0, 139.0, 168.0, 137.0, 180.0, 215.0, 123.0, 120.0, 75.0, 116.0, 104.0, 152.0, 103.0, 103.0, 65.0, 126.0, 138.0, 73.0, 86.0, 56.0, 102.0, 353.4764325625254, 208.34821530368814, 314.1015240462115, 180.86475999806316, 122.65857254168407, 138.26842906263445, 103.35188190351077, 251.24886937146104, 102.29274165614093, 136.6358935968097, 53.884621740847926, 49.86850405190068, 47.72170552615896, 240.49927537525897, 46.60715769739955, 46.492133991345575, 102.12521743549715, 68.1917624410712, 44.864542828109386, 47.63998392166729, 38.23675098868567, 490.38561005876204, 35.95687485835056, 35.93988045322298, 31.825494750327536, 31.051731015461762, 29.98167536991685, 114.20199697218189, 28.442149691477812, 117.60151892581054, 54.68033072351266, 576.5248835125194, 161.13696650926283, 389.70297138447916, 168.15790234539003, 139.45659206326843, 93.82063339001455, 69.053424888623, 61.852362092317335, 120.44181148030555, 63.217519353473755, 49.71230398460629, 134.05542545136157, 89.51583971679612, 78.0441420996797, 77.33899691343757, 83.35695873318807, 56.14713765525668, 37.37220159847682, 36.39758458457746, 34.62924138699099, 27.910147713079592, 22.27063258192407, 28.563432101450214, 21.82048488165333, 26.710706275293376, 22.462214166887165, 35.04515842161118, 47.794879932188245, 112.26561845716878, 18.348504841436256, 18.03894093657397, 18.201533511455608, 17.71376689986137, 15.262463764247697, 16.65552541440445, 14.84635286863238, 49.08080313033929, 14.353103818704383, 15.492678017712672, 14.509548406995076, 13.839091885762384, 14.29877087916337, 22.89424512498833, 14.141879299278798, 36.60600367609892, 14.533840300990585, 37.12571413447117, 21.407447361941777, 69.18175333297752, 27.454354583065168, 25.07958949702764, 52.79719002451869, 26.081932337581566, 31.17293445257807, 26.690912697255047, 21.620674700055957, 59.00815056929598, 96.0397149384355, 55.05611267030396, 63.59129120750824, 51.3433313436774, 42.170871211076715, 68.46001749157304, 36.652811845548506, 44.19731871497604, 34.87833424398859, 112.3059711789587, 49.768849141226134, 64.03183229286081, 47.10395440639277, 56.84171813994132, 39.07856113852318, 37.20257693208375, 39.021027640387324, 42.35327835531462, 42.22154672216174, 42.90112211886624, 43.19602297075254, 41.61319857159341, 38.04721817483712, 37.71214487953854, 37.65858985354489, 75.08771154294878, 42.956269970879205, 42.84166169978971, 64.70596055064928, 33.575406868018156, 26.465843584958673, 34.98653449526384, 25.556560495565236, 26.677483376681185, 22.838233411721642, 22.10012776424908, 22.567093835153443, 20.503555597046, 20.40652638762277, 20.437695362856957, 19.47118209663207, 24.014433497396098, 18.739872561548363, 17.46245188749567, 17.49725061770578, 18.992902653803387, 15.92938483170515, 15.420087797883557, 16.710700857420214, 14.68712574779967, 14.907097450816803, 29.338718956280758, 14.892422424252256, 15.296551323373503, 15.426745237684987, 28.34525698389907, 16.703168624713093, 27.71682055219378, 28.58747870356899, 37.2161493352846, 25.740588263921087, 32.98225105376429, 70.075501808441, 56.42906529388135, 22.715884899043886, 131.44237437125554, 84.14109933059908, 69.99345386087955, 49.190194445465025, 48.89992036304158, 73.87621235014457, 90.36478976823274, 29.856043977309525, 40.38405525877891, 56.797005270103526, 57.40797820063207, 85.73984634621499, 48.27571806767242, 35.599746988079346, 32.87750240364091, 34.838942949254644, 31.379977132008136, 35.62358480585818, 33.118496870912104, 34.37971943114833, 31.15261186887131, 31.52855787580765], \"Total\": [498.0, 614.0, 354.0, 315.0, 419.0, 253.0, 243.0, 208.0, 181.0, 115.0, 139.0, 168.0, 137.0, 180.0, 215.0, 123.0, 120.0, 75.0, 116.0, 104.0, 152.0, 103.0, 103.0, 65.0, 126.0, 138.0, 73.0, 86.0, 56.0, 102.0, 354.1204067723756, 208.99815835023827, 315.27981617454867, 181.81497499773408, 123.30632431833476, 139.21106221768, 104.05916894556319, 253.18663875517726, 103.19724420538168, 137.95537510343902, 54.5637519869239, 50.516075571976266, 48.35186329192616, 243.72856608102657, 47.23673777113046, 47.121957657559335, 103.54681697234535, 69.1637305847909, 45.511289565981684, 48.34894152945101, 38.87755175665901, 498.6988732349629, 36.613373439802444, 36.60616731670414, 32.50637135239334, 31.72898599897024, 30.6368931389896, 116.88525204306049, 29.124777689810106, 120.46607000285016, 56.34697441991115, 614.611857834134, 168.899180453017, 419.3433230527206, 180.47907725521947, 152.9266084451581, 102.72070989209386, 74.25187625908805, 68.2784993226841, 173.9474743177936, 72.75513703566548, 52.031608713555315, 332.1012429765352, 167.09158211869698, 154.3064615099888, 155.863703838162, 215.16586709892465, 56.76255006160489, 37.93109072490481, 37.00924133874341, 35.2484637951441, 28.571569631286426, 22.817639234886986, 29.267956810948643, 22.37905927608294, 27.395211576052148, 23.04531661340257, 35.9923889584359, 49.24491184431418, 115.73706365599917, 18.917428736153113, 18.61871273660377, 18.805490139719314, 18.312087071120875, 15.80597191791495, 17.26904573678364, 15.404627114381105, 50.94730606277254, 14.908575773207788, 16.09423915198793, 15.074132691199551, 14.380772835319348, 14.863236192289428, 23.841731162580626, 14.731884206549527, 38.14636373359121, 15.14970985996446, 38.844742274519746, 22.320416059878657, 73.14316421064161, 28.875563836719937, 26.361867139237088, 57.070499852605735, 28.1386576455799, 34.09307364534989, 29.053480023053247, 23.15993287448101, 74.62451890367142, 140.46248957981982, 72.44909968633162, 87.47559090781027, 80.41113691273411, 61.518136621776044, 134.8285598515625, 51.093788280195064, 69.71130452175072, 47.39529600742277, 332.1012429765352, 87.26472892767535, 138.17294239353998, 92.96618528934972, 154.3064615099888, 66.57923005543766, 62.98210450096108, 76.24725126430968, 115.26098544267177, 126.58907585384003, 155.863703838162, 167.09158211869698, 188.92539298161415, 74.5174613695896, 85.19754668050287, 614.611857834134, 75.8963795516303, 43.5081317408865, 43.39492603934672, 65.60305825981223, 34.20915287220192, 27.0044088889081, 35.70044060685085, 26.115132658739693, 27.262247496803624, 23.403955007223722, 22.650612531680665, 23.130430842528874, 21.028086579697764, 20.971929085860655, 21.016780546436642, 20.04271608072154, 24.724362326454088, 19.313553131934615, 18.02101816289487, 18.066397364620684, 19.6151533954609, 16.452713727463152, 15.953427248892787, 17.289592569210853, 15.207042562435339, 15.440705112330441, 30.40309267153195, 15.440995835893329, 15.879090247699926, 16.027868583086743, 29.541717515956, 17.36550854824188, 29.273421592327225, 30.344512558099826, 40.603483934795904, 27.729401016190977, 36.86688792376464, 86.43512492174459, 70.108245005334, 24.808729879838218, 215.16586709892465, 126.58907585384003, 115.48933822289536, 72.94492914546798, 73.4285364197524, 138.17294239353998, 188.92539298161415, 37.477652188255774, 59.92646057659711, 108.08525137292628, 134.8285598515625, 332.1012429765352, 115.26098544267177, 73.15459064907888, 62.04080547889695, 87.26472892767535, 60.637178031636815, 155.863703838162, 100.43580686019365, 167.09158211869698, 78.14027592310902, 121.1815633689016], \"Category\": [\"Default\", \"Default\", \"Default\", \"Default\", \"Default\", \"Default\", \"Default\", \"Default\", \"Default\", \"Default\", \"Default\", \"Default\", \"Default\", \"Default\", \"Default\", \"Default\", \"Default\", \"Default\", \"Default\", \"Default\", \"Default\", \"Default\", \"Default\", \"Default\", \"Default\", \"Default\", \"Default\", \"Default\", \"Default\", \"Default\", \"Topic1\", \"Topic1\", \"Topic1\", \"Topic1\", \"Topic1\", \"Topic1\", \"Topic1\", \"Topic1\", \"Topic1\", \"Topic1\", \"Topic1\", \"Topic1\", \"Topic1\", \"Topic1\", \"Topic1\", \"Topic1\", \"Topic1\", \"Topic1\", \"Topic1\", \"Topic1\", \"Topic1\", \"Topic1\", \"Topic1\", \"Topic1\", \"Topic1\", \"Topic1\", \"Topic1\", \"Topic1\", \"Topic1\", \"Topic1\", \"Topic1\", \"Topic1\", \"Topic1\", \"Topic1\", \"Topic1\", \"Topic1\", \"Topic1\", \"Topic1\", \"Topic1\", \"Topic1\", \"Topic1\", \"Topic1\", \"Topic1\", \"Topic1\", \"Topic1\", \"Topic1\", \"Topic1\", \"Topic2\", \"Topic2\", \"Topic2\", \"Topic2\", \"Topic2\", \"Topic2\", \"Topic2\", \"Topic2\", \"Topic2\", \"Topic2\", \"Topic2\", \"Topic2\", \"Topic2\", \"Topic2\", \"Topic2\", \"Topic2\", \"Topic2\", \"Topic2\", \"Topic2\", \"Topic2\", \"Topic2\", \"Topic2\", \"Topic2\", \"Topic2\", \"Topic2\", \"Topic2\", \"Topic2\", \"Topic2\", \"Topic2\", \"Topic2\", \"Topic2\", \"Topic2\", \"Topic2\", \"Topic2\", \"Topic2\", \"Topic2\", \"Topic2\", \"Topic2\", \"Topic2\", \"Topic2\", \"Topic2\", \"Topic2\", \"Topic2\", \"Topic2\", \"Topic2\", \"Topic2\", \"Topic2\", \"Topic2\", \"Topic2\", \"Topic2\", \"Topic2\", \"Topic2\", \"Topic2\", \"Topic2\", \"Topic2\", \"Topic2\", \"Topic2\", \"Topic2\", \"Topic2\", \"Topic2\", \"Topic2\", \"Topic2\", \"Topic2\", \"Topic2\", \"Topic2\", \"Topic2\", \"Topic3\", \"Topic3\", \"Topic3\", \"Topic3\", \"Topic3\", \"Topic3\", \"Topic3\", \"Topic3\", \"Topic3\", \"Topic3\", \"Topic3\", \"Topic3\", \"Topic3\", \"Topic3\", \"Topic3\", \"Topic3\", \"Topic3\", \"Topic3\", \"Topic3\", \"Topic3\", \"Topic3\", \"Topic3\", \"Topic3\", \"Topic3\", \"Topic3\", \"Topic3\", \"Topic3\", \"Topic3\", \"Topic3\", \"Topic3\", \"Topic3\", \"Topic3\", \"Topic3\", \"Topic3\", \"Topic3\", \"Topic3\", \"Topic3\", \"Topic3\", \"Topic3\", \"Topic3\", \"Topic3\", \"Topic3\", \"Topic3\", \"Topic3\", \"Topic3\", \"Topic3\", \"Topic3\", \"Topic3\", \"Topic3\", \"Topic3\", \"Topic3\", \"Topic3\", \"Topic3\", \"Topic3\", \"Topic3\", \"Topic3\", \"Topic3\", \"Topic3\", \"Topic3\", \"Topic3\", \"Topic3\", \"Topic3\"], \"logprob\": [30.0, 29.0, 28.0, 27.0, 26.0, 25.0, 24.0, 23.0, 22.0, 21.0, 20.0, 19.0, 18.0, 17.0, 16.0, 15.0, 14.0, 13.0, 12.0, 11.0, 10.0, 9.0, 8.0, 7.0, 6.0, 5.0, 4.0, 3.0, 2.0, 1.0, -3.6822, -4.2108, -3.8003, -4.3523, -4.7406, -4.6208, -4.9119, -4.0236, -4.9222, -4.6327, -5.5632, -5.6406, -5.6846, -4.0673, -5.7082, -5.7107, -4.9238, -5.3277, -5.7464, -5.6863, -5.9062, -3.3548, -5.9677, -5.9682, -6.0897, -6.1143, -6.1494, -4.812, -6.2021, -4.7827, -5.5485, -3.193, -4.4677, -3.5846, -4.4251, -4.6122, -5.0086, -5.3151, -5.4253, -4.7588, -5.4034, -5.6437, -4.6517, -5.0556, -5.1927, -5.2018, -5.1269, -5.2413, -5.6483, -5.6747, -5.7245, -5.9403, -6.166, -5.9171, -6.1864, -5.9842, -6.1574, -5.7126, -5.4023, -4.5484, -6.3597, -6.3767, -6.3677, -6.3949, -6.5438, -6.4565, -6.5715, -5.3758, -6.6053, -6.5289, -6.5944, -6.6417, -6.6091, -6.1384, -6.6201, -5.669, -6.5928, -5.6549, -6.2055, -5.0325, -5.9567, -6.0472, -5.3028, -6.008, -5.8297, -5.9849, -6.1956, -5.1916, -4.7045, -5.2609, -5.1168, -5.3307, -5.5275, -5.043, -5.6678, -5.4806, -5.7174, -4.548, -5.3619, -5.1099, -5.4169, -5.229, -5.6037, -5.6529, -5.6051, -5.5232, -5.5263, -5.5103, -5.5035, -5.5408, -5.6304, -5.6393, -5.6407, -4.8843, -5.4428, -5.4455, -5.0331, -5.6892, -5.9271, -5.648, -5.9621, -5.9192, -6.0745, -6.1074, -6.0865, -6.1824, -6.1871, -6.1856, -6.234, -6.0243, -6.2723, -6.3429, -6.3409, -6.2589, -6.4348, -6.4673, -6.3869, -6.516, -6.5011, -5.8241, -6.5021, -6.4753, -6.4669, -5.8585, -6.3874, -5.8809, -5.85, -5.5862, -5.9549, -5.707, -4.9534, -5.17, -6.0799, -4.3244, -4.7705, -4.9546, -5.3073, -5.3132, -4.9006, -4.6991, -5.8066, -5.5045, -5.1635, -5.1528, -4.7517, -5.326, -5.6306, -5.7102, -5.6522, -5.7568, -5.63, -5.7029, -5.6655, -5.7641, -5.7521], \"loglift\": [30.0, 29.0, 28.0, 27.0, 26.0, 25.0, 24.0, 23.0, 22.0, 21.0, 20.0, 19.0, 18.0, 17.0, 16.0, 15.0, 14.0, 13.0, 12.0, 11.0, 10.0, 9.0, 8.0, 7.0, 6.0, 5.0, 4.0, 3.0, 2.0, 1.0, 0.8992, 0.8979, 0.8972, 0.8957, 0.8957, 0.8942, 0.8942, 0.8933, 0.8922, 0.8914, 0.8884, 0.8881, 0.8879, 0.8876, 0.8876, 0.8875, 0.8871, 0.8868, 0.8867, 0.8862, 0.8844, 0.8842, 0.8829, 0.8826, 0.8798, 0.8794, 0.8794, 0.8777, 0.8773, 0.8769, 0.8709, 0.837, 0.8539, 0.8277, 0.8303, 0.8088, 0.8103, 0.8284, 0.8021, 0.5334, 0.7605, 0.8554, -0.0062, 0.2768, 0.2193, 0.2002, -0.0473, 1.1708, 1.1669, 1.1651, 1.164, 1.1583, 1.1575, 1.1574, 1.1565, 1.1564, 1.1561, 1.1551, 1.1518, 1.1513, 1.1512, 1.1501, 1.1491, 1.1485, 1.1467, 1.1456, 1.1448, 1.1444, 1.1438, 1.1436, 1.1436, 1.1433, 1.143, 1.1412, 1.1409, 1.1405, 1.1402, 1.1365, 1.14, 1.126, 1.1313, 1.1319, 1.1039, 1.1058, 1.0922, 1.0969, 1.113, 0.9469, 0.8016, 0.9072, 0.8628, 0.7331, 0.8041, 0.504, 0.8496, 0.726, 0.8751, 0.0975, 0.6202, 0.4126, 0.5019, 0.1831, 0.6489, 0.6553, 0.5119, 0.1806, 0.0837, -0.1084, -0.1711, -0.3312, 0.5095, 0.3667, -1.6107, 1.2373, 1.2352, 1.2352, 1.2342, 1.2293, 1.2279, 1.2278, 1.2264, 1.2263, 1.2235, 1.2234, 1.2233, 1.2227, 1.2207, 1.2201, 1.2191, 1.2189, 1.2178, 1.2165, 1.216, 1.2158, 1.2157, 1.214, 1.2139, 1.2132, 1.2128, 1.2124, 1.2118, 1.2106, 1.2098, 1.2067, 1.2091, 1.1934, 1.1884, 1.1609, 1.1736, 1.1367, 1.0382, 1.0309, 1.1599, 0.7552, 0.8396, 0.7472, 0.854, 0.8415, 0.6219, 0.5105, 1.0206, 0.8533, 0.6046, 0.3942, -0.1061, 0.3777, 0.5278, 0.613, 0.3298, 0.5893, -0.228, 0.1386, -0.3331, 0.3284, -0.0984]}, \"token.table\": {\"Topic\": [3, 1, 1, 2, 3, 1, 2, 1, 1, 3, 1, 1, 1, 2, 3, 2, 1, 2, 2, 1, 1, 3, 1, 2, 3, 3, 1, 1, 2, 3, 2, 1, 2, 2, 3, 1, 2, 1, 3, 2, 3, 3, 1, 1, 2, 1, 2, 3, 2, 3, 2, 3, 1, 2, 3, 2, 3, 2, 3, 2, 3, 2, 1, 3, 1, 2, 3, 1, 2, 3, 3, 2, 1, 2, 3, 1, 2, 1, 2, 3, 1, 2, 3, 1, 2, 3, 2, 1, 2, 3, 1, 1, 3, 3, 1, 2, 3, 1, 2, 3, 1, 3, 2, 1, 2, 3, 3, 1, 2, 3, 1, 2, 1, 2, 2, 1, 2, 1, 2, 3, 1, 2, 3, 1, 1, 2, 3, 2, 3, 1, 2, 3, 2, 2, 1, 3, 1, 2, 3, 1, 2, 3, 3, 1, 3, 1, 3, 1, 2, 3, 2, 3, 1, 2, 2, 3, 3, 2, 1, 2, 3, 2, 3, 1, 2, 3, 1, 2, 1, 2, 3, 1, 2, 2, 1, 2, 3, 1, 2, 2, 3, 1, 3, 3, 3, 2, 3, 1, 1, 2, 1, 3, 1, 2, 3, 1, 2, 1, 2, 1, 2, 2, 1, 2, 3, 1, 3, 1, 2, 3, 1, 2, 3, 3, 1, 2, 1, 2, 3, 3, 2, 3, 2, 1, 2, 1, 2, 2, 1, 2, 1, 2, 1, 2, 3, 1, 2, 3, 1, 2, 3, 3, 1, 2, 3, 1, 2, 3, 2, 1, 2, 1, 2, 1, 1, 2, 1, 3, 2, 3, 1, 2, 1, 2, 3, 1, 3, 1, 2, 3, 1, 2, 3, 1, 2, 3, 3, 2, 3, 1, 2, 3, 3, 3, 3, 2, 3, 2, 3], \"Freq\": [0.9714399355727943, 0.9774278030120891, 0.9760950000638335, 0.017747181819342428, 0.9938860552033174, 0.9613807287461758, 0.9735220881603689, 0.9952240806420621, 0.9887656541737754, 0.9986643302237075, 0.9968360852666258, 0.9761903428182519, 0.37930525045212343, 0.11544072839847236, 0.511237511478949, 0.9855736987117257, 0.36064656107862453, 0.634240503965857, 0.9320105075080376, 0.9898214741065511, 0.9792115624746862, 0.9628057443123424, 0.03606280566306167, 0.03606280566306167, 0.9376329472396034, 0.9863850869368395, 0.9927828507013239, 0.5386267749626467, 0.25734390359326453, 0.20348122609699987, 0.9929510745038957, 0.03793358014886574, 0.9483395037216434, 0.9901179718061734, 0.9707024870089754, 0.930855823040515, 0.06648970164575108, 0.07388528543062027, 0.9112518536443167, 0.9829573183051836, 0.9479753105057205, 0.9433429258177467, 0.9896680128034634, 0.9883984866592083, 0.009690181241756943, 0.9831742652550497, 0.014458445077280143, 0.9724839479393922, 0.9408426771106598, 0.04480203224336475, 0.9433554146125002, 0.05468727041231885, 0.3017063990204172, 0.22230997822557055, 0.4763785247690797, 0.46318764651994704, 0.5355607162886887, 0.1851099308815236, 0.8098559476066658, 0.967710744182117, 0.025920823504878135, 0.9908447038965014, 0.9913005317365778, 0.007183337186496941, 0.17880905703678687, 0.6827254905040954, 0.13004295057220863, 0.12837291818266539, 0.07131828787925855, 0.7987648242476957, 0.9803800570820844, 0.9737334041663779, 0.026214818455144458, 0.9699482828403448, 0.026214818455144458, 0.9975157452788558, 0.9754530991039106, 0.06675143611938314, 0.5043441840131171, 0.4227590954227599, 0.9913635302165702, 0.003949655498870798, 0.003949655498870798, 0.9300255388851595, 0.06915574519915288, 0.9712761617033238, 0.9390568363451195, 0.21689906522996405, 0.3643904295863396, 0.416446205241531, 0.9832472841976466, 0.9897839338045776, 0.9827398827634458, 0.9714582262193124, 0.05866294194547605, 0.9092756001548787, 0.029331470972738024, 0.49402136677023556, 0.27588206196259907, 0.2309710286198504, 0.9609543359549051, 0.0384381734381962, 0.9727300181728699, 0.31705526769288306, 0.016687119352257005, 0.6674847740902802, 0.9943610716368907, 0.2634155218997042, 0.6834564892532866, 0.04983536900805215, 0.9930747525950135, 0.007248720821861412, 0.9089327319375398, 0.08500809723156846, 0.9865659653983606, 0.3586218931278171, 0.6311745319049581, 0.13854092720766892, 0.2597642385143792, 0.6061165565335515, 0.4533458485555575, 0.01850391218594112, 0.527361497299322, 0.9927228597210045, 0.03441928468488194, 0.9293206864918123, 0.06883856936976387, 0.9747199903971822, 0.02030666646660796, 0.9292694471347417, 0.026935346293760626, 0.05387069258752125, 0.9799951616707628, 0.9571672881836764, 0.015243191804254496, 0.9908074672765422, 0.019628123197876112, 0.9617780366959295, 0.019628123197876112, 0.23238459608842132, 0.2870633245798146, 0.49210855642253926, 0.9955913431402325, 0.9955175584533439, 0.005500097008029524, 0.38574891602969685, 0.6088326265047023, 0.4034914136393878, 0.33724655468366743, 0.25895717591781603, 0.08061678327294691, 0.9270930076388896, 0.07008875006055107, 0.9286759383023017, 0.013175859058200878, 0.9881894293650658, 0.9883209937877203, 0.9515035183190719, 0.5054875812504507, 0.36939477091379086, 0.12313159030459696, 0.9844203471990023, 0.9536557136979863, 0.9847019734248671, 0.00820584977854056, 0.00410292488927028, 0.8659182370739898, 0.12370260529628425, 0.4696885717349923, 0.5099475921694202, 0.013419673478142637, 0.9959406974094399, 0.0031717856605396172, 0.9830618762206841, 0.36518309736139465, 0.5874684609726784, 0.047632577916703646, 0.027783651736893664, 0.9724278107912783, 0.9950821256042922, 0.9446385004438613, 0.032891390714877955, 0.9538503307314606, 0.9837651244288054, 0.9402368385163785, 0.1867779754408832, 0.8004770376037852, 0.9844223968617138, 0.9532313867253231, 0.04144484290110101, 0.03385043538717349, 0.9478121908408578, 0.28788841453422287, 0.027417944241354558, 0.6717396339131867, 0.915102710044987, 0.08761621691920088, 0.0346313583919819, 0.9350466765835113, 0.2743622506682279, 0.7316326684486077, 0.9490083923911419, 0.6898634226833661, 0.18971244123792566, 0.12072609896958905, 0.032954887579272424, 0.9556917397989002, 0.5033769024278343, 0.23931033066241303, 0.26406657176542125, 0.20100632098362542, 0.7906248625355934, 0.013400421398908362, 0.9358699144706369, 0.9795289245943541, 0.024903277743924257, 0.9753155167771075, 0.017110798539949255, 0.008555399269974628, 0.9832504688556654, 0.9499163973934012, 0.04317801806333642, 0.9667693064844703, 0.02574350971189095, 0.9525098593399651, 0.9949882700986362, 0.9546408222139747, 0.9503197149605517, 0.9825568620628016, 0.016041744686739617, 0.9388038851598527, 0.0618276388840111, 0.48787381245622746, 0.18917555993200658, 0.328568077776643, 0.9834408417723772, 0.3317821835471275, 0.663564367094255, 0.03437815067856783, 0.5729691779761305, 0.40107842458329135, 0.9789520389093997, 0.4732903674927993, 0.5055601652763992, 0.021513198522399968, 0.1791649675485683, 0.4223174235073396, 0.39672242814325837, 0.9641663527733905, 0.041943262977878495, 0.9646950484912055, 0.07107659594821382, 0.9239957473267796, 0.9770246045999106, 0.908045733503721, 0.08787539356487623, 0.32684840485999334, 0.6673154932558197, 0.4674342922556718, 0.5319079877392128, 0.9850616656544984, 0.00965746731033822, 0.2885349915597273, 0.511493848674062, 0.1967284033361777, 0.034160680426305455, 0.9564990519365527, 0.17943632227706763, 0.7591536711722092, 0.05521117608525158, 0.027124611170540203, 0.08137383351162061, 0.8951121686278267, 0.27400591091865995, 0.7241584788564585, 0.019571850779904282, 0.9516205374943102, 0.7384699104847559, 0.25318968359477345, 0.29343567947738985, 0.4460222328056326, 0.25822339794010307, 0.968638868987726, 0.9903805621002314, 0.9908992576922786, 0.9419213836662808, 0.9409734357604133, 0.5857682638793866, 0.4055318749934215], \"Term\": [\"action\", \"appear\", \"arm\", \"arm\", \"behind\", \"believe\", \"bless\", \"break\", \"build\", \"buy\", \"cafe\", \"caf\\u00e9\", \"call\", \"call\", \"call\", \"care\", \"come\", \"come\", \"condemn\", \"confirm\", \"contact\", \"cover\", \"crisis\", \"crisis\", \"crisis\", \"de\", \"demand\", \"dont\", \"dont\", \"dont\", \"door\", \"dramatic\", \"dramatic\", \"em\", \"enough\", \"escape\", \"escape\", \"even\", \"even\", \"everything\", \"eye\", \"fake\", \"five\", \"flag\", \"flag\", \"flee\", \"flee\", \"followers\", \"front\", \"front\", \"fuck\", \"fuck\", \"get\", \"get\", \"get\", \"go\", \"go\", \"god\", \"god\", \"good\", \"good\", \"great\", \"gunman\", \"gunman\", \"guy\", \"guy\", \"guy\", \"happen\", \"happen\", \"happen\", \"haron\", \"heart\", \"help\", \"help\", \"help\", \"hold\", \"home\", \"hope\", \"hope\", \"hope\", \"hostage\", \"hostage\", \"hostage\", \"hostages\", \"hostages\", \"idiot\", \"idiots\", \"im\", \"im\", \"im\", \"injure\", \"inside\", \"involve\", \"k\", \"keep\", \"keep\", \"keep\", \"know\", \"know\", \"know\", \"least\", \"least\", \"leave\", \"let\", \"let\", \"let\", \"life\", \"like\", \"like\", \"like\", \"lindt\", \"lindt\", \"live\", \"live\", \"lol\", \"look\", \"look\", \"make\", \"make\", \"make\", \"man\", \"man\", \"man\", \"martin\", \"maybe\", \"maybe\", \"maybe\", \"mean\", \"mean\", \"media\", \"media\", \"media\", \"men\", \"might\", \"monis\", \"monis\", \"much\", \"much\", \"much\", \"need\", \"need\", \"need\", \"never\", \"news\", \"news\", \"no\", \"no\", \"not\", \"not\", \"not\", \"nothing\", \"nothing\", \"number\", \"number\", \"oh\", \"oh\", \"ok\", \"okay\", \"one\", \"one\", \"one\", \"open\", \"pay\", \"people\", \"people\", \"people\", \"place\", \"place\", \"please\", \"please\", \"please\", \"police\", \"police\", \"powerful\", \"pray\", \"pray\", \"pray\", \"prayers\", \"prayers\", \"prayforsydney\", \"pretty\", \"r\", \"r\", \"racist\", \"radical\", \"religion\", \"religion\", \"remain\", \"report\", \"report\", \"rid\", \"rid\", \"right\", \"right\", \"right\", \"run\", \"run\", \"sad\", \"sad\", \"safe\", \"safe\", \"safely\", \"say\", \"say\", \"say\", \"scary\", \"scary\", \"see\", \"see\", \"see\", \"shoot\", \"shoot\", \"shoot\", \"sick\", \"siege\", \"siege\", \"situation\", \"situation\", \"situation\", \"soon\", \"sorry\", \"sorry\", \"statement\", \"stay\", \"stay\", \"storm\", \"stupid\", \"swat\", \"sydney\", \"sydney\", \"sydneysiege\", \"sydneysiege\", \"take\", \"take\", \"take\", \"taker\", \"thank\", \"thank\", \"thats\", \"thats\", \"thats\", \"things\", \"think\", \"think\", \"think\", \"time\", \"time\", \"time\", \"today\", \"trap\", \"trap\", \"true\", \"true\", \"tv\", \"two\", \"two\", \"u\", \"u\", \"uber\", \"uber\", \"update\", \"update\", \"want\", \"want\", \"want\", \"wasnt\", \"wasnt\", \"well\", \"well\", \"well\", \"whats\", \"whats\", \"whats\", \"women\", \"women\", \"women\", \"wont\", \"work\", \"work\", \"would\", \"would\", \"would\", \"wouldnt\", \"wow\", \"wrong\", \"wtf\", \"x\", \"youre\", \"youre\"]}, \"R\": 30, \"lambda.step\": 0.01, \"plot.opts\": {\"xlab\": \"PC1\", \"ylab\": \"PC2\"}, \"topic.order\": [2, 3, 1]};\n",
       "\n",
       "function LDAvis_load_lib(url, callback){\n",
       "  var s = document.createElement('script');\n",
       "  s.src = url;\n",
       "  s.async = true;\n",
       "  s.onreadystatechange = s.onload = callback;\n",
       "  s.onerror = function(){console.warn(\"failed to load library \" + url);};\n",
       "  document.getElementsByTagName(\"head\")[0].appendChild(s);\n",
       "}\n",
       "\n",
       "if(typeof(LDAvis) !== \"undefined\"){\n",
       "   // already loaded: just create the visualization\n",
       "   !function(LDAvis){\n",
       "       new LDAvis(\"#\" + \"ldavis_el1902031165833999367988216781\", ldavis_el1902031165833999367988216781_data);\n",
       "   }(LDAvis);\n",
       "}else if(typeof define === \"function\" && define.amd){\n",
       "   // require.js is available: use it to load d3/LDAvis\n",
       "   require.config({paths: {d3: \"https://d3js.org/d3.v5\"}});\n",
       "   require([\"d3\"], function(d3){\n",
       "      window.d3 = d3;\n",
       "      LDAvis_load_lib(\"https://cdn.jsdelivr.net/gh/bmabey/pyLDAvis@3.3.1/pyLDAvis/js/ldavis.v3.0.0.js\", function(){\n",
       "        new LDAvis(\"#\" + \"ldavis_el1902031165833999367988216781\", ldavis_el1902031165833999367988216781_data);\n",
       "      });\n",
       "    });\n",
       "}else{\n",
       "    // require.js not available: dynamically load d3 & LDAvis\n",
       "    LDAvis_load_lib(\"https://d3js.org/d3.v5.js\", function(){\n",
       "         LDAvis_load_lib(\"https://cdn.jsdelivr.net/gh/bmabey/pyLDAvis@3.3.1/pyLDAvis/js/ldavis.v3.0.0.js\", function(){\n",
       "                 new LDAvis(\"#\" + \"ldavis_el1902031165833999367988216781\", ldavis_el1902031165833999367988216781_data);\n",
       "            })\n",
       "         });\n",
       "}\n",
       "</script>"
      ],
      "text/plain": [
       "<IPython.core.display.HTML object>"
      ]
     },
     "execution_count": 36,
     "metadata": {},
     "output_type": "execute_result"
    }
   ],
   "source": [
    "nontarget_topics = pyLDAvis.gensim_models.prepare(lda_model_nontarget,corpus_nontarget,id2word_non)\n",
    "pyLDAvis.display(nontarget_topics)"
   ]
  },
  {
   "cell_type": "code",
   "execution_count": 37,
   "metadata": {
    "id": "J0U9BsNxUdmu",
    "outputId": "2ee7dd01-46f9-47cc-bc57-d611775184ea"
   },
   "outputs": [
    {
     "name": "stderr",
     "output_type": "stream",
     "text": [
      "c:\\users\\user\\appdata\\local\\programs\\python\\python39\\lib\\site-packages\\ipykernel\\ipkernel.py:283: DeprecationWarning: `should_run_async` will not call `transform_cell` automatically in the future. Please pass the result to `transformed_cell` argument and any exception that happen during thetransform in `preprocessing_exc_tuple` in IPython 7.17 and above.\n",
      "  and should_run_async(code)\n"
     ]
    }
   ],
   "source": [
    "save_path =  'D:/論文/PHEME9/Code/sydneysiege/18 targetanalysis/twanalysis\\\\'\n",
    "pyLDAvis.save_html(nontarget_topics, save_path+'sydneysiege_lda_nontarget.html')"
   ]
  },
  {
   "cell_type": "markdown",
   "metadata": {
    "id": "wV4dATk7m_oH"
   },
   "source": [
    "# BERTopic"
   ]
  },
  {
   "cell_type": "code",
   "execution_count": 42,
   "metadata": {},
   "outputs": [
    {
     "name": "stderr",
     "output_type": "stream",
     "text": [
      "c:\\users\\user\\appdata\\local\\programs\\python\\python39\\lib\\site-packages\\ipykernel\\ipkernel.py:283: DeprecationWarning: `should_run_async` will not call `transform_cell` automatically in the future. Please pass the result to `transformed_cell` argument and any exception that happen during thetransform in `preprocessing_exc_tuple` in IPython 7.17 and above.\n",
      "  and should_run_async(code)\n"
     ]
    },
    {
     "name": "stdout",
     "output_type": "stream",
     "text": [
      "Collecting bertopic\n",
      "  Using cached bertopic-0.13.0-py2.py3-none-any.whl (103 kB)\n",
      "Collecting hdbscan>=0.8.29\n",
      "  Using cached hdbscan-0.8.29.tar.gz (5.2 MB)\n",
      "  Installing build dependencies: started\n",
      "  Installing build dependencies: finished with status 'done'\n",
      "  Getting requirements to build wheel: started\n",
      "  Getting requirements to build wheel: finished with status 'done'\n",
      "  Preparing metadata (pyproject.toml): started\n",
      "  Preparing metadata (pyproject.toml): finished with status 'done'\n",
      "Requirement already satisfied: plotly>=4.7.0 in c:\\users\\user\\appdata\\local\\programs\\python\\python39\\lib\\site-packages (from bertopic) (4.14.3)\n",
      "Requirement already satisfied: scikit-learn>=0.22.2.post1 in c:\\users\\user\\appdata\\local\\programs\\python\\python39\\lib\\site-packages (from bertopic) (1.1.2)\n",
      "Requirement already satisfied: tqdm>=4.41.1 in c:\\users\\user\\appdata\\local\\programs\\python\\python39\\lib\\site-packages (from bertopic) (4.62.3)\n",
      "Collecting umap-learn>=0.5.0\n",
      "  Using cached umap-learn-0.5.3.tar.gz (88 kB)\n",
      "  Preparing metadata (setup.py): started\n",
      "  Preparing metadata (setup.py): finished with status 'done'\n"
     ]
    },
    {
     "name": "stderr",
     "output_type": "stream",
     "text": [
      "ERROR: No .egg-info directory found in C:\\Users\\user\\AppData\\Local\\Temp\\pip-pip-egg-info-qo505772\n"
     ]
    }
   ],
   "source": [
    "!pip install bertopic"
   ]
  },
  {
   "cell_type": "code",
   "execution_count": 41,
   "metadata": {
    "id": "Zb3agJ1YnDkU"
   },
   "outputs": [
    {
     "name": "stderr",
     "output_type": "stream",
     "text": [
      "c:\\users\\user\\appdata\\local\\programs\\python\\python39\\lib\\site-packages\\ipykernel\\ipkernel.py:283: DeprecationWarning: `should_run_async` will not call `transform_cell` automatically in the future. Please pass the result to `transformed_cell` argument and any exception that happen during thetransform in `preprocessing_exc_tuple` in IPython 7.17 and above.\n",
      "  and should_run_async(code)\n"
     ]
    },
    {
     "ename": "ModuleNotFoundError",
     "evalue": "No module named 'bertopic'",
     "output_type": "error",
     "traceback": [
      "\u001b[1;31m---------------------------------------------------------------------------\u001b[0m",
      "\u001b[1;31mModuleNotFoundError\u001b[0m                       Traceback (most recent call last)",
      "\u001b[1;32m<ipython-input-41-a872d1046721>\u001b[0m in \u001b[0;36m<module>\u001b[1;34m\u001b[0m\n\u001b[1;32m----> 1\u001b[1;33m \u001b[1;32mfrom\u001b[0m \u001b[0mbertopic\u001b[0m \u001b[1;32mimport\u001b[0m \u001b[0mBERTopic\u001b[0m\u001b[1;33m\u001b[0m\u001b[1;33m\u001b[0m\u001b[0m\n\u001b[0m\u001b[0;32m      2\u001b[0m \u001b[1;33m\u001b[0m\u001b[0m\n\u001b[0;32m      3\u001b[0m \u001b[0mtopic_model\u001b[0m \u001b[1;33m=\u001b[0m \u001b[0mBERTopic\u001b[0m\u001b[1;33m(\u001b[0m\u001b[0mlanguage\u001b[0m\u001b[1;33m=\u001b[0m\u001b[1;34m\"english\"\u001b[0m\u001b[1;33m,\u001b[0m \u001b[0mcalculate_probabilities\u001b[0m\u001b[1;33m=\u001b[0m\u001b[1;32mTrue\u001b[0m\u001b[1;33m,\u001b[0m \u001b[0mverbose\u001b[0m\u001b[1;33m=\u001b[0m\u001b[1;32mTrue\u001b[0m\u001b[1;33m,\u001b[0m\u001b[0mnr_topics\u001b[0m\u001b[1;33m=\u001b[0m\u001b[1;34m\"auto\"\u001b[0m\u001b[1;33m)\u001b[0m\u001b[1;33m\u001b[0m\u001b[1;33m\u001b[0m\u001b[0m\n",
      "\u001b[1;31mModuleNotFoundError\u001b[0m: No module named 'bertopic'"
     ]
    }
   ],
   "source": [
    "from bertopic import BERTopic\n",
    "\n",
    "topic_model = BERTopic(language=\"english\", calculate_probabilities=True, verbose=True,nr_topics=\"auto\")"
   ]
  },
  {
   "cell_type": "code",
   "execution_count": 39,
   "metadata": {
    "id": "6C1kKBjEoKE0"
   },
   "outputs": [
    {
     "name": "stderr",
     "output_type": "stream",
     "text": [
      "c:\\users\\user\\appdata\\local\\programs\\python\\python39\\lib\\site-packages\\ipykernel\\ipkernel.py:283: DeprecationWarning: `should_run_async` will not call `transform_cell` automatically in the future. Please pass the result to `transformed_cell` argument and any exception that happen during thetransform in `preprocessing_exc_tuple` in IPython 7.17 and above.\n",
      "  and should_run_async(code)\n"
     ]
    }
   ],
   "source": [
    "target_docs = combined_data.loc[combined_data.targetlabel==1,'cleaned_text'].to_list()\n",
    "nontarget_docs = combined_data.loc[combined_data.targetlabel==0,'cleaned_text'].to_list()"
   ]
  },
  {
   "cell_type": "code",
   "execution_count": 40,
   "metadata": {
    "colab": {
     "base_uri": "https://localhost:8080/"
    },
    "executionInfo": {
     "elapsed": 257,
     "status": "ok",
     "timestamp": 1671709252237,
     "user": {
      "displayName": "Bella Yang",
      "userId": "16101934561747208179"
     },
     "user_tz": -120
    },
    "id": "zxLvl04Woa-x",
    "outputId": "5bfd3c25-49e4-4942-8bcf-116ec79ce127"
   },
   "outputs": [
    {
     "name": "stdout",
     "output_type": "stream",
     "text": [
      "# of target tweets: 2027\n",
      "# of non-target tweets: 5843\n"
     ]
    },
    {
     "name": "stderr",
     "output_type": "stream",
     "text": [
      "c:\\users\\user\\appdata\\local\\programs\\python\\python39\\lib\\site-packages\\ipykernel\\ipkernel.py:283: DeprecationWarning: `should_run_async` will not call `transform_cell` automatically in the future. Please pass the result to `transformed_cell` argument and any exception that happen during thetransform in `preprocessing_exc_tuple` in IPython 7.17 and above.\n",
      "  and should_run_async(code)\n"
     ]
    }
   ],
   "source": [
    "print(\"# of target tweets: {}\".format(len(target_docs)) )\n",
    "print(\"# of non-target tweets: {}\".format(len(nontarget_docs)) )"
   ]
  },
  {
   "cell_type": "markdown",
   "metadata": {
    "id": "0kxbf8u8o78w"
   },
   "source": [
    "## Target tweets"
   ]
  },
  {
   "cell_type": "code",
   "execution_count": null,
   "metadata": {
    "colab": {
     "base_uri": "https://localhost:8080/",
     "height": 121,
     "referenced_widgets": [
      "189659de6c3c4032956efe5e74a32d62",
      "810709a6412c46d18b7c58b37b4fba8a",
      "3b920cca24f34b61ae9ee395df402b5c",
      "0bae5301e5044c429232cae3db5f7515",
      "b5ae5425e47f4eed918715ef85d28e7c",
      "7e6ee2f2130b440f9bf57f275f9db2b4",
      "1e36a10bcfcd411aa856e670e24d8a72",
      "3c6c8e6fbdfa46cd84bba6558b5de807",
      "783e236173ed4191a9c7b7e956c58c28",
      "b1b72ccb06a04d949f292c794bfed5e4",
      "0d485707d17b4d36a79c7984377a97ff"
     ]
    },
    "executionInfo": {
     "elapsed": 46347,
     "status": "ok",
     "timestamp": 1671709745867,
     "user": {
      "displayName": "Bella Yang",
      "userId": "16101934561747208179"
     },
     "user_tz": -120
    },
    "id": "9dzRJcebo51s",
    "outputId": "dd605d18-3423-4385-85f3-b560a0975f19"
   },
   "outputs": [],
   "source": [
    "topics, probs = topic_model.fit_transform(target_docs)"
   ]
  },
  {
   "cell_type": "code",
   "execution_count": null,
   "metadata": {
    "colab": {
     "base_uri": "https://localhost:8080/",
     "height": 394
    },
    "executionInfo": {
     "elapsed": 294,
     "status": "ok",
     "timestamp": 1671713868738,
     "user": {
      "displayName": "Bella Yang",
      "userId": "16101934561747208179"
     },
     "user_tz": -120
    },
    "id": "BEUaNu_0pRRt",
    "outputId": "4b2a57eb-2c3d-487e-ed63-2b0a7b6939e7"
   },
   "outputs": [],
   "source": [
    "topic_model.get_topic_freq().head(11)"
   ]
  },
  {
   "cell_type": "code",
   "execution_count": null,
   "metadata": {
    "id": "DHDn1eI4pydA"
   },
   "outputs": [],
   "source": [
    "topic_words = topic_model.get_topics()\n",
    "topiclist = []\n",
    "for topic in range(10):\n",
    "  wordlist = []\n",
    "  for words in range(10):\n",
    "        wordlist.append(topic_words[topic][words][0])\n",
    "  topiclist.append(wordlist)"
   ]
  },
  {
   "cell_type": "code",
   "execution_count": null,
   "metadata": {
    "id": "n5adDqdBEwBd"
   },
   "outputs": [],
   "source": [
    "df = pd.DataFrame(topiclist)"
   ]
  },
  {
   "cell_type": "code",
   "execution_count": null,
   "metadata": {
    "colab": {
     "base_uri": "https://localhost:8080/",
     "height": 520
    },
    "executionInfo": {
     "elapsed": 18,
     "status": "ok",
     "timestamp": 1671716746213,
     "user": {
      "displayName": "Bella Yang",
      "userId": "16101934561747208179"
     },
     "user_tz": -120
    },
    "id": "4ElGtx0xFSUp",
    "outputId": "e74aa31c-dfc9-472b-9e0d-0c4826414bc5"
   },
   "outputs": [],
   "source": [
    "df"
   ]
  },
  {
   "cell_type": "code",
   "execution_count": null,
   "metadata": {
    "colab": {
     "base_uri": "https://localhost:8080/",
     "height": 787
    },
    "executionInfo": {
     "elapsed": 528,
     "status": "ok",
     "timestamp": 1671716966748,
     "user": {
      "displayName": "Bella Yang",
      "userId": "16101934561747208179"
     },
     "user_tz": -120
    },
    "id": "qMIW36t5F0gL",
    "outputId": "a458b1f5-4cf8-452b-82c8-ba6680eb3cee"
   },
   "outputs": [],
   "source": [
    "fig = topic_model.visualize_barchart(n_words=10,top_n_topics=10)\n",
    "fig"
   ]
  },
  {
   "cell_type": "markdown",
   "metadata": {
    "id": "netkmJcjpCCk"
   },
   "source": [
    "## Non-Target"
   ]
  },
  {
   "cell_type": "code",
   "execution_count": null,
   "metadata": {
    "colab": {
     "base_uri": "https://localhost:8080/",
     "height": 121,
     "referenced_widgets": [
      "d68596b29407407dbd96bcb52f0ab21b",
      "66d3cb694c104088b68bd28ee99ef63b",
      "e51fac3d09fe467a8bf3a0384ac8e8c2",
      "95fbe519c63e42019459a4634de9b346",
      "e23974e6ecf3460dbd4397ca9e7479e2",
      "8886483f5b324007b3a8a769818ffca9",
      "712891de852d4523be0ba5f690160a2b",
      "96571c8eef62480fb4f32d66efb9eeb8",
      "8201dbbffb97477c855876e864b25bdb",
      "c6d801c63fa540eaa4afe68ee7c9ef45",
      "faadf20d83ad4a2282d2ba2b09dfda10"
     ]
    },
    "executionInfo": {
     "elapsed": 113952,
     "status": "ok",
     "timestamp": 1671717880851,
     "user": {
      "displayName": "Bella Yang",
      "userId": "16101934561747208179"
     },
     "user_tz": -120
    },
    "id": "piq0aLj0nDrk",
    "outputId": "9a60bd84-fd56-4b91-e5c3-c7c594f025c0"
   },
   "outputs": [],
   "source": [
    "topic_model = BERTopic(language=\"english\", calculate_probabilities=True, verbose=True,nr_topics=\"auto\")\n",
    "topics, probs = topic_model.fit_transform(nontarget_docs)"
   ]
  },
  {
   "cell_type": "code",
   "execution_count": null,
   "metadata": {
    "colab": {
     "base_uri": "https://localhost:8080/",
     "height": 488
    },
    "executionInfo": {
     "elapsed": 16,
     "status": "ok",
     "timestamp": 1671720742034,
     "user": {
      "displayName": "Bella Yang",
      "userId": "16101934561747208179"
     },
     "user_tz": -120
    },
    "id": "hRCyn1vxJQNo",
    "outputId": "8b29c7ad-309a-4c53-8193-9b83769f4c01"
   },
   "outputs": [],
   "source": [
    "topic_model.get_topic_freq().sort_values(['Topic'])"
   ]
  },
  {
   "cell_type": "code",
   "execution_count": null,
   "metadata": {
    "executionInfo": {
     "elapsed": 306,
     "status": "ok",
     "timestamp": 1671720823611,
     "user": {
      "displayName": "Bella Yang",
      "userId": "16101934561747208179"
     },
     "user_tz": -120
    },
    "id": "JXsoxRfjJQNo"
   },
   "outputs": [],
   "source": [
    "topic_words = topic_model.get_topics()\n",
    "topiclist = []\n",
    "for topic in range(13):\n",
    "  wordlist = []\n",
    "  for words in range(10):\n",
    "        wordlist.append(topic_words[topic][words][0])\n",
    "  topiclist.append(wordlist)"
   ]
  },
  {
   "cell_type": "code",
   "execution_count": null,
   "metadata": {
    "executionInfo": {
     "elapsed": 270,
     "status": "ok",
     "timestamp": 1671720759325,
     "user": {
      "displayName": "Bella Yang",
      "userId": "16101934561747208179"
     },
     "user_tz": -120
    },
    "id": "4Et0ncBUJQNp"
   },
   "outputs": [],
   "source": [
    "nontarget_df = pd.DataFrame(topiclist)"
   ]
  },
  {
   "cell_type": "code",
   "execution_count": null,
   "metadata": {
    "colab": {
     "base_uri": "https://localhost:8080/",
     "height": 521
    },
    "executionInfo": {
     "elapsed": 19,
     "status": "ok",
     "timestamp": 1671720761465,
     "user": {
      "displayName": "Bella Yang",
      "userId": "16101934561747208179"
     },
     "user_tz": -120
    },
    "id": "DRPs65DLJQNp",
    "outputId": "70c5765d-7f80-4f6a-b5bd-7b6add5643cb"
   },
   "outputs": [],
   "source": [
    "nontarget_df"
   ]
  },
  {
   "cell_type": "code",
   "execution_count": null,
   "metadata": {
    "colab": {
     "base_uri": "https://localhost:8080/",
     "height": 1000
    },
    "executionInfo": {
     "elapsed": 322,
     "status": "ok",
     "timestamp": 1671720796966,
     "user": {
      "displayName": "Bella Yang",
      "userId": "16101934561747208179"
     },
     "user_tz": -120
    },
    "id": "U4tmwmwFJQNp",
    "outputId": "0aee358d-c0bb-40b8-f7c2-751cacf7632d"
   },
   "outputs": [],
   "source": [
    "nontarget_fig = topic_model.visualize_barchart(n_words=10,top_n_topics=13)\n",
    "nontarget_fig"
   ]
  },
  {
   "cell_type": "markdown",
   "metadata": {
    "id": "pGhoWmW1gZXP"
   },
   "source": [
    "# GSDMM\n",
    "[ref](https://towardsdatascience.com/short-text-topic-modeling-70e50a57c883)\n",
    "\n"
   ]
  },
  {
   "cell_type": "code",
   "execution_count": null,
   "metadata": {
    "colab": {
     "base_uri": "https://localhost:8080/"
    },
    "executionInfo": {
     "elapsed": 1729,
     "status": "ok",
     "timestamp": 1671115126602,
     "user": {
      "displayName": "Bella Yang",
      "userId": "16101934561747208179"
     },
     "user_tz": -120
    },
    "id": "0iEDTiiGhNG0",
    "outputId": "b14f4191-698b-442a-c2e3-c340b1bbf1a1"
   },
   "outputs": [],
   "source": [
    "!git clone https://github.com/rwalk/gsdmm.git\n",
    "import sys\n",
    "sys.path.append('/content/gsdmm')"
   ]
  },
  {
   "cell_type": "code",
   "execution_count": null,
   "metadata": {
    "id": "XPFI8dCgggbG"
   },
   "outputs": [],
   "source": [
    "from gsdmm import MovieGroupProcess\n",
    "mgp = MovieGroupProcess(K=7, alpha=0.1, beta=0.1, n_iters=20)"
   ]
  },
  {
   "cell_type": "code",
   "execution_count": null,
   "metadata": {
    "colab": {
     "base_uri": "https://localhost:8080/"
    },
    "executionInfo": {
     "elapsed": 13479,
     "status": "ok",
     "timestamp": 1670401241457,
     "user": {
      "displayName": "Bella Yang",
      "userId": "16101934561747208179"
     },
     "user_tz": -120
    },
    "id": "QvP7fzFvhYkL",
    "outputId": "b9301847-d46a-4f1d-f6d4-0150847aeb78"
   },
   "outputs": [],
   "source": [
    "vocab = set(x for doc in target_tw_list for x in doc)\n",
    "n_terms = len(vocab)\n",
    "y = mgp.fit(target_tw_list, n_terms)"
   ]
  },
  {
   "cell_type": "code",
   "execution_count": null,
   "metadata": {
    "id": "Gjut2lmZkDYD"
   },
   "outputs": [],
   "source": [
    "def top_words(distribution, top_index, num_words):\n",
    "    for topic in top_index:\n",
    "        pairs = sorted([(k, v) for k, v in distribution[topic].items()], key=lambda x: x[1], reverse=True)\n",
    "        print(f\"Cluster {topic} : {pairs[:num_words]}\")\n",
    "        print('-'*30)"
   ]
  },
  {
   "cell_type": "code",
   "execution_count": null,
   "metadata": {
    "colab": {
     "base_uri": "https://localhost:8080/"
    },
    "executionInfo": {
     "elapsed": 7,
     "status": "ok",
     "timestamp": 1670401241458,
     "user": {
      "displayName": "Bella Yang",
      "userId": "16101934561747208179"
     },
     "user_tz": -120
    },
    "id": "5XT1vQZWhYtY",
    "outputId": "53f345b5-4fba-4fcc-a927-28b77e1ddfd5"
   },
   "outputs": [],
   "source": [
    "doc_count = np.array(mgp.cluster_doc_count)\n",
    "print('Number of documents per topic :', doc_count)\n",
    "print('*'*20)\n",
    "# Topics sorted by the number of document they are allocated to\n",
    "top_index = doc_count.argsort()[-10:][::-1]\n",
    "print('Most important clusters (by number of docs inside):', top_index)\n",
    "print('*'*20)\n",
    "# Show the top 5 words in term frequency for each cluster \n",
    "top_words(mgp.cluster_word_distribution, top_index, 20)\n",
    "\n",
    "\n",
    "\n"
   ]
  },
  {
   "cell_type": "markdown",
   "metadata": {
    "id": "d10J8eM_gXYH"
   },
   "source": [
    "# Save"
   ]
  },
  {
   "cell_type": "code",
   "execution_count": null,
   "metadata": {
    "id": "Tid3BCngUdm8",
    "outputId": "86065aae-4471-482c-83d2-42a2221463d8"
   },
   "outputs": [],
   "source": [
    "save_path = r'D:\\論文\\PHEME9\\Code\\sydneysiege\\18 targetanalysis\\twanalysis\\\\'\n",
    "pyLDAvis.save_html(nontarget_topics, save_path+'sydneysiege_lda_nontarget.html')"
   ]
  },
  {
   "cell_type": "code",
   "execution_count": null,
   "metadata": {
    "colab": {
     "base_uri": "https://localhost:8080/",
     "height": 537
    },
    "executionInfo": {
     "elapsed": 920,
     "status": "ok",
     "timestamp": 1671716793034,
     "user": {
      "displayName": "Bella Yang",
      "userId": "16101934561747208179"
     },
     "user_tz": -120
    },
    "id": "qGhZK7GSUdm9",
    "outputId": "1a6cc17f-80a6-42e9-aaac-38c694bf2d80"
   },
   "outputs": [],
   "source": []
  },
  {
   "cell_type": "markdown",
   "metadata": {
    "id": "DWVKzbZagVG4"
   },
   "source": []
  },
  {
   "cell_type": "code",
   "execution_count": null,
   "metadata": {
    "id": "3S62X98gFc4z"
   },
   "outputs": [],
   "source": []
  }
 ],
 "metadata": {
  "colab": {
   "provenance": []
  },
  "kernelspec": {
   "display_name": "Python 3",
   "language": "python",
   "name": "python3"
  },
  "language_info": {
   "codemirror_mode": {
    "name": "ipython",
    "version": 3
   },
   "file_extension": ".py",
   "mimetype": "text/x-python",
   "name": "python",
   "nbconvert_exporter": "python",
   "pygments_lexer": "ipython3",
   "version": "3.9.1"
  },
  "widgets": {
   "application/vnd.jupyter.widget-state+json": {
    "0bae5301e5044c429232cae3db5f7515": {
     "model_module": "@jupyter-widgets/controls",
     "model_module_version": "1.5.0",
     "model_name": "HTMLModel",
     "state": {
      "_dom_classes": [],
      "_model_module": "@jupyter-widgets/controls",
      "_model_module_version": "1.5.0",
      "_model_name": "HTMLModel",
      "_view_count": null,
      "_view_module": "@jupyter-widgets/controls",
      "_view_module_version": "1.5.0",
      "_view_name": "HTMLView",
      "description": "",
      "description_tooltip": null,
      "layout": "IPY_MODEL_b1b72ccb06a04d949f292c794bfed5e4",
      "placeholder": "​",
      "style": "IPY_MODEL_0d485707d17b4d36a79c7984377a97ff",
      "value": " 75/75 [00:28&lt;00:00,  5.73it/s]"
     }
    },
    "0d485707d17b4d36a79c7984377a97ff": {
     "model_module": "@jupyter-widgets/controls",
     "model_module_version": "1.5.0",
     "model_name": "DescriptionStyleModel",
     "state": {
      "_model_module": "@jupyter-widgets/controls",
      "_model_module_version": "1.5.0",
      "_model_name": "DescriptionStyleModel",
      "_view_count": null,
      "_view_module": "@jupyter-widgets/base",
      "_view_module_version": "1.2.0",
      "_view_name": "StyleView",
      "description_width": ""
     }
    },
    "189659de6c3c4032956efe5e74a32d62": {
     "model_module": "@jupyter-widgets/controls",
     "model_module_version": "1.5.0",
     "model_name": "HBoxModel",
     "state": {
      "_dom_classes": [],
      "_model_module": "@jupyter-widgets/controls",
      "_model_module_version": "1.5.0",
      "_model_name": "HBoxModel",
      "_view_count": null,
      "_view_module": "@jupyter-widgets/controls",
      "_view_module_version": "1.5.0",
      "_view_name": "HBoxView",
      "box_style": "",
      "children": [
       "IPY_MODEL_810709a6412c46d18b7c58b37b4fba8a",
       "IPY_MODEL_3b920cca24f34b61ae9ee395df402b5c",
       "IPY_MODEL_0bae5301e5044c429232cae3db5f7515"
      ],
      "layout": "IPY_MODEL_b5ae5425e47f4eed918715ef85d28e7c"
     }
    },
    "1e36a10bcfcd411aa856e670e24d8a72": {
     "model_module": "@jupyter-widgets/controls",
     "model_module_version": "1.5.0",
     "model_name": "DescriptionStyleModel",
     "state": {
      "_model_module": "@jupyter-widgets/controls",
      "_model_module_version": "1.5.0",
      "_model_name": "DescriptionStyleModel",
      "_view_count": null,
      "_view_module": "@jupyter-widgets/base",
      "_view_module_version": "1.2.0",
      "_view_name": "StyleView",
      "description_width": ""
     }
    },
    "3b920cca24f34b61ae9ee395df402b5c": {
     "model_module": "@jupyter-widgets/controls",
     "model_module_version": "1.5.0",
     "model_name": "FloatProgressModel",
     "state": {
      "_dom_classes": [],
      "_model_module": "@jupyter-widgets/controls",
      "_model_module_version": "1.5.0",
      "_model_name": "FloatProgressModel",
      "_view_count": null,
      "_view_module": "@jupyter-widgets/controls",
      "_view_module_version": "1.5.0",
      "_view_name": "ProgressView",
      "bar_style": "success",
      "description": "",
      "description_tooltip": null,
      "layout": "IPY_MODEL_3c6c8e6fbdfa46cd84bba6558b5de807",
      "max": 75,
      "min": 0,
      "orientation": "horizontal",
      "style": "IPY_MODEL_783e236173ed4191a9c7b7e956c58c28",
      "value": 75
     }
    },
    "3c6c8e6fbdfa46cd84bba6558b5de807": {
     "model_module": "@jupyter-widgets/base",
     "model_module_version": "1.2.0",
     "model_name": "LayoutModel",
     "state": {
      "_model_module": "@jupyter-widgets/base",
      "_model_module_version": "1.2.0",
      "_model_name": "LayoutModel",
      "_view_count": null,
      "_view_module": "@jupyter-widgets/base",
      "_view_module_version": "1.2.0",
      "_view_name": "LayoutView",
      "align_content": null,
      "align_items": null,
      "align_self": null,
      "border": null,
      "bottom": null,
      "display": null,
      "flex": null,
      "flex_flow": null,
      "grid_area": null,
      "grid_auto_columns": null,
      "grid_auto_flow": null,
      "grid_auto_rows": null,
      "grid_column": null,
      "grid_gap": null,
      "grid_row": null,
      "grid_template_areas": null,
      "grid_template_columns": null,
      "grid_template_rows": null,
      "height": null,
      "justify_content": null,
      "justify_items": null,
      "left": null,
      "margin": null,
      "max_height": null,
      "max_width": null,
      "min_height": null,
      "min_width": null,
      "object_fit": null,
      "object_position": null,
      "order": null,
      "overflow": null,
      "overflow_x": null,
      "overflow_y": null,
      "padding": null,
      "right": null,
      "top": null,
      "visibility": null,
      "width": null
     }
    },
    "66d3cb694c104088b68bd28ee99ef63b": {
     "model_module": "@jupyter-widgets/controls",
     "model_module_version": "1.5.0",
     "model_name": "HTMLModel",
     "state": {
      "_dom_classes": [],
      "_model_module": "@jupyter-widgets/controls",
      "_model_module_version": "1.5.0",
      "_model_name": "HTMLModel",
      "_view_count": null,
      "_view_module": "@jupyter-widgets/controls",
      "_view_module_version": "1.5.0",
      "_view_name": "HTMLView",
      "description": "",
      "description_tooltip": null,
      "layout": "IPY_MODEL_8886483f5b324007b3a8a769818ffca9",
      "placeholder": "​",
      "style": "IPY_MODEL_712891de852d4523be0ba5f690160a2b",
      "value": "Batches: 100%"
     }
    },
    "712891de852d4523be0ba5f690160a2b": {
     "model_module": "@jupyter-widgets/controls",
     "model_module_version": "1.5.0",
     "model_name": "DescriptionStyleModel",
     "state": {
      "_model_module": "@jupyter-widgets/controls",
      "_model_module_version": "1.5.0",
      "_model_name": "DescriptionStyleModel",
      "_view_count": null,
      "_view_module": "@jupyter-widgets/base",
      "_view_module_version": "1.2.0",
      "_view_name": "StyleView",
      "description_width": ""
     }
    },
    "783e236173ed4191a9c7b7e956c58c28": {
     "model_module": "@jupyter-widgets/controls",
     "model_module_version": "1.5.0",
     "model_name": "ProgressStyleModel",
     "state": {
      "_model_module": "@jupyter-widgets/controls",
      "_model_module_version": "1.5.0",
      "_model_name": "ProgressStyleModel",
      "_view_count": null,
      "_view_module": "@jupyter-widgets/base",
      "_view_module_version": "1.2.0",
      "_view_name": "StyleView",
      "bar_color": null,
      "description_width": ""
     }
    },
    "7e6ee2f2130b440f9bf57f275f9db2b4": {
     "model_module": "@jupyter-widgets/base",
     "model_module_version": "1.2.0",
     "model_name": "LayoutModel",
     "state": {
      "_model_module": "@jupyter-widgets/base",
      "_model_module_version": "1.2.0",
      "_model_name": "LayoutModel",
      "_view_count": null,
      "_view_module": "@jupyter-widgets/base",
      "_view_module_version": "1.2.0",
      "_view_name": "LayoutView",
      "align_content": null,
      "align_items": null,
      "align_self": null,
      "border": null,
      "bottom": null,
      "display": null,
      "flex": null,
      "flex_flow": null,
      "grid_area": null,
      "grid_auto_columns": null,
      "grid_auto_flow": null,
      "grid_auto_rows": null,
      "grid_column": null,
      "grid_gap": null,
      "grid_row": null,
      "grid_template_areas": null,
      "grid_template_columns": null,
      "grid_template_rows": null,
      "height": null,
      "justify_content": null,
      "justify_items": null,
      "left": null,
      "margin": null,
      "max_height": null,
      "max_width": null,
      "min_height": null,
      "min_width": null,
      "object_fit": null,
      "object_position": null,
      "order": null,
      "overflow": null,
      "overflow_x": null,
      "overflow_y": null,
      "padding": null,
      "right": null,
      "top": null,
      "visibility": null,
      "width": null
     }
    },
    "810709a6412c46d18b7c58b37b4fba8a": {
     "model_module": "@jupyter-widgets/controls",
     "model_module_version": "1.5.0",
     "model_name": "HTMLModel",
     "state": {
      "_dom_classes": [],
      "_model_module": "@jupyter-widgets/controls",
      "_model_module_version": "1.5.0",
      "_model_name": "HTMLModel",
      "_view_count": null,
      "_view_module": "@jupyter-widgets/controls",
      "_view_module_version": "1.5.0",
      "_view_name": "HTMLView",
      "description": "",
      "description_tooltip": null,
      "layout": "IPY_MODEL_7e6ee2f2130b440f9bf57f275f9db2b4",
      "placeholder": "​",
      "style": "IPY_MODEL_1e36a10bcfcd411aa856e670e24d8a72",
      "value": "Batches: 100%"
     }
    },
    "8201dbbffb97477c855876e864b25bdb": {
     "model_module": "@jupyter-widgets/controls",
     "model_module_version": "1.5.0",
     "model_name": "ProgressStyleModel",
     "state": {
      "_model_module": "@jupyter-widgets/controls",
      "_model_module_version": "1.5.0",
      "_model_name": "ProgressStyleModel",
      "_view_count": null,
      "_view_module": "@jupyter-widgets/base",
      "_view_module_version": "1.2.0",
      "_view_name": "StyleView",
      "bar_color": null,
      "description_width": ""
     }
    },
    "8886483f5b324007b3a8a769818ffca9": {
     "model_module": "@jupyter-widgets/base",
     "model_module_version": "1.2.0",
     "model_name": "LayoutModel",
     "state": {
      "_model_module": "@jupyter-widgets/base",
      "_model_module_version": "1.2.0",
      "_model_name": "LayoutModel",
      "_view_count": null,
      "_view_module": "@jupyter-widgets/base",
      "_view_module_version": "1.2.0",
      "_view_name": "LayoutView",
      "align_content": null,
      "align_items": null,
      "align_self": null,
      "border": null,
      "bottom": null,
      "display": null,
      "flex": null,
      "flex_flow": null,
      "grid_area": null,
      "grid_auto_columns": null,
      "grid_auto_flow": null,
      "grid_auto_rows": null,
      "grid_column": null,
      "grid_gap": null,
      "grid_row": null,
      "grid_template_areas": null,
      "grid_template_columns": null,
      "grid_template_rows": null,
      "height": null,
      "justify_content": null,
      "justify_items": null,
      "left": null,
      "margin": null,
      "max_height": null,
      "max_width": null,
      "min_height": null,
      "min_width": null,
      "object_fit": null,
      "object_position": null,
      "order": null,
      "overflow": null,
      "overflow_x": null,
      "overflow_y": null,
      "padding": null,
      "right": null,
      "top": null,
      "visibility": null,
      "width": null
     }
    },
    "95fbe519c63e42019459a4634de9b346": {
     "model_module": "@jupyter-widgets/controls",
     "model_module_version": "1.5.0",
     "model_name": "HTMLModel",
     "state": {
      "_dom_classes": [],
      "_model_module": "@jupyter-widgets/controls",
      "_model_module_version": "1.5.0",
      "_model_name": "HTMLModel",
      "_view_count": null,
      "_view_module": "@jupyter-widgets/controls",
      "_view_module_version": "1.5.0",
      "_view_name": "HTMLView",
      "description": "",
      "description_tooltip": null,
      "layout": "IPY_MODEL_c6d801c63fa540eaa4afe68ee7c9ef45",
      "placeholder": "​",
      "style": "IPY_MODEL_faadf20d83ad4a2282d2ba2b09dfda10",
      "value": " 133/133 [01:04&lt;00:00, 10.97it/s]"
     }
    },
    "96571c8eef62480fb4f32d66efb9eeb8": {
     "model_module": "@jupyter-widgets/base",
     "model_module_version": "1.2.0",
     "model_name": "LayoutModel",
     "state": {
      "_model_module": "@jupyter-widgets/base",
      "_model_module_version": "1.2.0",
      "_model_name": "LayoutModel",
      "_view_count": null,
      "_view_module": "@jupyter-widgets/base",
      "_view_module_version": "1.2.0",
      "_view_name": "LayoutView",
      "align_content": null,
      "align_items": null,
      "align_self": null,
      "border": null,
      "bottom": null,
      "display": null,
      "flex": null,
      "flex_flow": null,
      "grid_area": null,
      "grid_auto_columns": null,
      "grid_auto_flow": null,
      "grid_auto_rows": null,
      "grid_column": null,
      "grid_gap": null,
      "grid_row": null,
      "grid_template_areas": null,
      "grid_template_columns": null,
      "grid_template_rows": null,
      "height": null,
      "justify_content": null,
      "justify_items": null,
      "left": null,
      "margin": null,
      "max_height": null,
      "max_width": null,
      "min_height": null,
      "min_width": null,
      "object_fit": null,
      "object_position": null,
      "order": null,
      "overflow": null,
      "overflow_x": null,
      "overflow_y": null,
      "padding": null,
      "right": null,
      "top": null,
      "visibility": null,
      "width": null
     }
    },
    "b1b72ccb06a04d949f292c794bfed5e4": {
     "model_module": "@jupyter-widgets/base",
     "model_module_version": "1.2.0",
     "model_name": "LayoutModel",
     "state": {
      "_model_module": "@jupyter-widgets/base",
      "_model_module_version": "1.2.0",
      "_model_name": "LayoutModel",
      "_view_count": null,
      "_view_module": "@jupyter-widgets/base",
      "_view_module_version": "1.2.0",
      "_view_name": "LayoutView",
      "align_content": null,
      "align_items": null,
      "align_self": null,
      "border": null,
      "bottom": null,
      "display": null,
      "flex": null,
      "flex_flow": null,
      "grid_area": null,
      "grid_auto_columns": null,
      "grid_auto_flow": null,
      "grid_auto_rows": null,
      "grid_column": null,
      "grid_gap": null,
      "grid_row": null,
      "grid_template_areas": null,
      "grid_template_columns": null,
      "grid_template_rows": null,
      "height": null,
      "justify_content": null,
      "justify_items": null,
      "left": null,
      "margin": null,
      "max_height": null,
      "max_width": null,
      "min_height": null,
      "min_width": null,
      "object_fit": null,
      "object_position": null,
      "order": null,
      "overflow": null,
      "overflow_x": null,
      "overflow_y": null,
      "padding": null,
      "right": null,
      "top": null,
      "visibility": null,
      "width": null
     }
    },
    "b5ae5425e47f4eed918715ef85d28e7c": {
     "model_module": "@jupyter-widgets/base",
     "model_module_version": "1.2.0",
     "model_name": "LayoutModel",
     "state": {
      "_model_module": "@jupyter-widgets/base",
      "_model_module_version": "1.2.0",
      "_model_name": "LayoutModel",
      "_view_count": null,
      "_view_module": "@jupyter-widgets/base",
      "_view_module_version": "1.2.0",
      "_view_name": "LayoutView",
      "align_content": null,
      "align_items": null,
      "align_self": null,
      "border": null,
      "bottom": null,
      "display": null,
      "flex": null,
      "flex_flow": null,
      "grid_area": null,
      "grid_auto_columns": null,
      "grid_auto_flow": null,
      "grid_auto_rows": null,
      "grid_column": null,
      "grid_gap": null,
      "grid_row": null,
      "grid_template_areas": null,
      "grid_template_columns": null,
      "grid_template_rows": null,
      "height": null,
      "justify_content": null,
      "justify_items": null,
      "left": null,
      "margin": null,
      "max_height": null,
      "max_width": null,
      "min_height": null,
      "min_width": null,
      "object_fit": null,
      "object_position": null,
      "order": null,
      "overflow": null,
      "overflow_x": null,
      "overflow_y": null,
      "padding": null,
      "right": null,
      "top": null,
      "visibility": null,
      "width": null
     }
    },
    "c6d801c63fa540eaa4afe68ee7c9ef45": {
     "model_module": "@jupyter-widgets/base",
     "model_module_version": "1.2.0",
     "model_name": "LayoutModel",
     "state": {
      "_model_module": "@jupyter-widgets/base",
      "_model_module_version": "1.2.0",
      "_model_name": "LayoutModel",
      "_view_count": null,
      "_view_module": "@jupyter-widgets/base",
      "_view_module_version": "1.2.0",
      "_view_name": "LayoutView",
      "align_content": null,
      "align_items": null,
      "align_self": null,
      "border": null,
      "bottom": null,
      "display": null,
      "flex": null,
      "flex_flow": null,
      "grid_area": null,
      "grid_auto_columns": null,
      "grid_auto_flow": null,
      "grid_auto_rows": null,
      "grid_column": null,
      "grid_gap": null,
      "grid_row": null,
      "grid_template_areas": null,
      "grid_template_columns": null,
      "grid_template_rows": null,
      "height": null,
      "justify_content": null,
      "justify_items": null,
      "left": null,
      "margin": null,
      "max_height": null,
      "max_width": null,
      "min_height": null,
      "min_width": null,
      "object_fit": null,
      "object_position": null,
      "order": null,
      "overflow": null,
      "overflow_x": null,
      "overflow_y": null,
      "padding": null,
      "right": null,
      "top": null,
      "visibility": null,
      "width": null
     }
    },
    "d68596b29407407dbd96bcb52f0ab21b": {
     "model_module": "@jupyter-widgets/controls",
     "model_module_version": "1.5.0",
     "model_name": "HBoxModel",
     "state": {
      "_dom_classes": [],
      "_model_module": "@jupyter-widgets/controls",
      "_model_module_version": "1.5.0",
      "_model_name": "HBoxModel",
      "_view_count": null,
      "_view_module": "@jupyter-widgets/controls",
      "_view_module_version": "1.5.0",
      "_view_name": "HBoxView",
      "box_style": "",
      "children": [
       "IPY_MODEL_66d3cb694c104088b68bd28ee99ef63b",
       "IPY_MODEL_e51fac3d09fe467a8bf3a0384ac8e8c2",
       "IPY_MODEL_95fbe519c63e42019459a4634de9b346"
      ],
      "layout": "IPY_MODEL_e23974e6ecf3460dbd4397ca9e7479e2"
     }
    },
    "e23974e6ecf3460dbd4397ca9e7479e2": {
     "model_module": "@jupyter-widgets/base",
     "model_module_version": "1.2.0",
     "model_name": "LayoutModel",
     "state": {
      "_model_module": "@jupyter-widgets/base",
      "_model_module_version": "1.2.0",
      "_model_name": "LayoutModel",
      "_view_count": null,
      "_view_module": "@jupyter-widgets/base",
      "_view_module_version": "1.2.0",
      "_view_name": "LayoutView",
      "align_content": null,
      "align_items": null,
      "align_self": null,
      "border": null,
      "bottom": null,
      "display": null,
      "flex": null,
      "flex_flow": null,
      "grid_area": null,
      "grid_auto_columns": null,
      "grid_auto_flow": null,
      "grid_auto_rows": null,
      "grid_column": null,
      "grid_gap": null,
      "grid_row": null,
      "grid_template_areas": null,
      "grid_template_columns": null,
      "grid_template_rows": null,
      "height": null,
      "justify_content": null,
      "justify_items": null,
      "left": null,
      "margin": null,
      "max_height": null,
      "max_width": null,
      "min_height": null,
      "min_width": null,
      "object_fit": null,
      "object_position": null,
      "order": null,
      "overflow": null,
      "overflow_x": null,
      "overflow_y": null,
      "padding": null,
      "right": null,
      "top": null,
      "visibility": null,
      "width": null
     }
    },
    "e51fac3d09fe467a8bf3a0384ac8e8c2": {
     "model_module": "@jupyter-widgets/controls",
     "model_module_version": "1.5.0",
     "model_name": "FloatProgressModel",
     "state": {
      "_dom_classes": [],
      "_model_module": "@jupyter-widgets/controls",
      "_model_module_version": "1.5.0",
      "_model_name": "FloatProgressModel",
      "_view_count": null,
      "_view_module": "@jupyter-widgets/controls",
      "_view_module_version": "1.5.0",
      "_view_name": "ProgressView",
      "bar_style": "success",
      "description": "",
      "description_tooltip": null,
      "layout": "IPY_MODEL_96571c8eef62480fb4f32d66efb9eeb8",
      "max": 133,
      "min": 0,
      "orientation": "horizontal",
      "style": "IPY_MODEL_8201dbbffb97477c855876e864b25bdb",
      "value": 133
     }
    },
    "faadf20d83ad4a2282d2ba2b09dfda10": {
     "model_module": "@jupyter-widgets/controls",
     "model_module_version": "1.5.0",
     "model_name": "DescriptionStyleModel",
     "state": {
      "_model_module": "@jupyter-widgets/controls",
      "_model_module_version": "1.5.0",
      "_model_name": "DescriptionStyleModel",
      "_view_count": null,
      "_view_module": "@jupyter-widgets/base",
      "_view_module_version": "1.2.0",
      "_view_name": "StyleView",
      "description_width": ""
     }
    }
   }
  }
 },
 "nbformat": 4,
 "nbformat_minor": 4
}
