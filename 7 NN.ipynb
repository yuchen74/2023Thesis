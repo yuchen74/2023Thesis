{
 "cells": [
  {
   "cell_type": "code",
   "execution_count": 1,
   "id": "pleasant-declaration",
   "metadata": {},
   "outputs": [],
   "source": [
    "# Dataset (Pheme9)"
   ]
  },
  {
   "cell_type": "code",
   "execution_count": 20,
   "id": "restricted-extent",
   "metadata": {},
   "outputs": [],
   "source": [
    "import numpy as np\n",
    "import pandas as pd"
   ]
  },
  {
   "cell_type": "code",
   "execution_count": 90,
   "id": "typical-steel",
   "metadata": {},
   "outputs": [
    {
     "name": "stdout",
     "output_type": "stream",
     "text": [
      "33628\n",
      "55357\n",
      "58961\n",
      "59125\n",
      "69503\n",
      "70126\n",
      "70698\n",
      "92055\n"
     ]
    }
   ],
   "source": [
    "import os\n",
    "path = r'D:\\論文\\PHEME9\\Data\\CSV'\n",
    "import pathlib\n",
    "data_temp = sorted(pathlib.Path(path).glob('*-2.csv'))\n",
    "\n",
    "i = 0\n",
    "all_data = pd.DataFrame()\n",
    "size = 0 \n",
    "\n",
    "while i <len(data_temp):\n",
    "    rep = pd.read_csv(data_temp[i],encoding = 'utf-8', header = 0)\n",
    "    src = pd.read_csv(data_temp[i+1], encoding = 'utf-8', header =0)\n",
    "    df_merge = pd.merge(rep, src[['src_tweet_id','cleaned_src_tw','src_sentiment','src_emo_ro']],\\\n",
    "               on='src_tweet_id')\n",
    "    length = rep.shape[0]\n",
    "    size = size +length\n",
    "    print(size)\n",
    "    all_data = all_data.append(df_merge)\n",
    "    i = i+2"
   ]
  },
  {
   "cell_type": "code",
   "execution_count": 92,
   "id": "immune-demographic",
   "metadata": {},
   "outputs": [
    {
     "data": {
      "text/html": [
       "<div>\n",
       "<style scoped>\n",
       "    .dataframe tbody tr th:only-of-type {\n",
       "        vertical-align: middle;\n",
       "    }\n",
       "\n",
       "    .dataframe tbody tr th {\n",
       "        vertical-align: top;\n",
       "    }\n",
       "\n",
       "    .dataframe thead th {\n",
       "        text-align: right;\n",
       "    }\n",
       "</style>\n",
       "<table border=\"1\" class=\"dataframe\">\n",
       "  <thead>\n",
       "    <tr style=\"text-align: right;\">\n",
       "      <th></th>\n",
       "      <th>src_tweet_id</th>\n",
       "      <th>src_user_id</th>\n",
       "      <th>src_tweet</th>\n",
       "      <th>src_date</th>\n",
       "      <th>reply_tweet_id</th>\n",
       "      <th>reply_user_id</th>\n",
       "      <th>reply_tweet</th>\n",
       "      <th>reply_date</th>\n",
       "      <th>label</th>\n",
       "      <th>cleaned_reply_tw</th>\n",
       "      <th>reply_sentiment</th>\n",
       "      <th>reply_emo_ro</th>\n",
       "      <th>cleaned_src_tw</th>\n",
       "      <th>src_sentiment</th>\n",
       "      <th>src_emo_ro</th>\n",
       "    </tr>\n",
       "  </thead>\n",
       "  <tbody>\n",
       "    <tr>\n",
       "      <th>0</th>\n",
       "      <td>552784600502915072</td>\n",
       "      <td>331658004</td>\n",
       "      <td>Charlie Hebdo became well known for publishing...</td>\n",
       "      <td>Wed Jan 07 11:11:33 +0000 2015</td>\n",
       "      <td>5.527852e+17</td>\n",
       "      <td>18370911.0</td>\n",
       "      <td>Now 10 dead in a shooting there today RT \"@BBC...</td>\n",
       "      <td>Wed Jan 07 11:14:08 +0000 2015</td>\n",
       "      <td>0</td>\n",
       "      <td>dead shoot today</td>\n",
       "      <td>Negative</td>\n",
       "      <td>sadness</td>\n",
       "      <td>charlie hebdo become well know publish muhamme...</td>\n",
       "      <td>Positive</td>\n",
       "      <td>joy</td>\n",
       "    </tr>\n",
       "  </tbody>\n",
       "</table>\n",
       "</div>"
      ],
      "text/plain": [
       "         src_tweet_id  src_user_id  \\\n",
       "0  552784600502915072    331658004   \n",
       "\n",
       "                                           src_tweet  \\\n",
       "0  Charlie Hebdo became well known for publishing...   \n",
       "\n",
       "                         src_date  reply_tweet_id  reply_user_id  \\\n",
       "0  Wed Jan 07 11:11:33 +0000 2015    5.527852e+17     18370911.0   \n",
       "\n",
       "                                         reply_tweet  \\\n",
       "0  Now 10 dead in a shooting there today RT \"@BBC...   \n",
       "\n",
       "                       reply_date  label  cleaned_reply_tw reply_sentiment  \\\n",
       "0  Wed Jan 07 11:14:08 +0000 2015      0  dead shoot today        Negative   \n",
       "\n",
       "  reply_emo_ro                                     cleaned_src_tw  \\\n",
       "0      sadness  charlie hebdo become well know publish muhamme...   \n",
       "\n",
       "  src_sentiment src_emo_ro  \n",
       "0      Positive        joy  "
      ]
     },
     "execution_count": 92,
     "metadata": {},
     "output_type": "execute_result"
    }
   ],
   "source": [
    "all_data.reset_index(drop=True,inplace=True)\n",
    "all_data.head(1)"
   ]
  },
  {
   "cell_type": "code",
   "execution_count": 12,
   "id": "pointed-residence",
   "metadata": {},
   "outputs": [
    {
     "data": {
      "text/plain": [
       "(92055, 15)"
      ]
     },
     "execution_count": 12,
     "metadata": {},
     "output_type": "execute_result"
    }
   ],
   "source": [
    "all_data.shape"
   ]
  },
  {
   "cell_type": "code",
   "execution_count": 13,
   "id": "oriented-advertising",
   "metadata": {},
   "outputs": [
    {
     "data": {
      "text/plain": [
       "Index(['src_tweet_id', 'src_user_id', 'src_tweet', 'src_date',\n",
       "       'reply_tweet_id', 'reply_user_id', 'reply_tweet', 'reply_date', 'label',\n",
       "       'cleaned_reply_tw', 'reply_sentiment', 'reply_emo_ro', 'cleaned_src_tw',\n",
       "       'src_sentiment', 'src_emo_ro'],\n",
       "      dtype='object')"
      ]
     },
     "execution_count": 13,
     "metadata": {},
     "output_type": "execute_result"
    }
   ],
   "source": [
    "all_data.columns"
   ]
  },
  {
   "cell_type": "markdown",
   "id": "dying-homeless",
   "metadata": {},
   "source": [
    "# Glove embedding"
   ]
  },
  {
   "cell_type": "code",
   "execution_count": 101,
   "id": "turned-husband",
   "metadata": {},
   "outputs": [],
   "source": [
    "texts = all_data.cleaned_reply_tw.fillna(\"\").tolist()\n"
   ]
  },
  {
   "cell_type": "code",
   "execution_count": 17,
   "id": "social-demographic",
   "metadata": {},
   "outputs": [],
   "source": [
    "from keras.preprocessing.text import Tokenizer\n",
    "from keras.preprocessing.sequence import pad_sequences"
   ]
  },
  {
   "cell_type": "code",
   "execution_count": 103,
   "id": "painful-warrior",
   "metadata": {},
   "outputs": [
    {
     "name": "stdout",
     "output_type": "stream",
     "text": [
      "Found 49011 unique tokens.\n"
     ]
    }
   ],
   "source": [
    "# Cuts off reviews after 100 words\n",
    "maxlen = 100  \n",
    "\n",
    "#Considers only the top 10,000 words in the dataset\n",
    "max_words = 10000\n",
    "\n",
    "tokenizer = Tokenizer(num_words=max_words)\n",
    "tokenizer.fit_on_texts(texts)\n",
    "sequences = tokenizer.texts_to_sequences(texts)\n",
    "\n",
    "word_index = tokenizer.word_index\n",
    "print('Found %s unique tokens.' % len(word_index))\n"
   ]
  },
  {
   "cell_type": "code",
   "execution_count": 106,
   "id": "wrong-novel",
   "metadata": {},
   "outputs": [],
   "source": [
    "data = pad_sequences(sequences, maxlen=maxlen)"
   ]
  },
  {
   "cell_type": "code",
   "execution_count": 108,
   "id": "certain-entry",
   "metadata": {},
   "outputs": [
    {
     "data": {
      "text/plain": [
       "(5,)"
      ]
     },
     "execution_count": 108,
     "metadata": {},
     "output_type": "execute_result"
    }
   ],
   "source": [
    "np.array([10, 20, 30, 40, 50]).shape"
   ]
  },
  {
   "cell_type": "code",
   "execution_count": 109,
   "id": "fossil-meditation",
   "metadata": {},
   "outputs": [
    {
     "ename": "ValueError",
     "evalue": "Data must be 1-dimensional",
     "output_type": "error",
     "traceback": [
      "\u001b[1;31m---------------------------------------------------------------------------\u001b[0m",
      "\u001b[1;31mValueError\u001b[0m                                Traceback (most recent call last)",
      "\u001b[1;32m<ipython-input-109-781e9af6e004>\u001b[0m in \u001b[0;36m<module>\u001b[1;34m\u001b[0m\n\u001b[1;32m----> 1\u001b[1;33m \u001b[0mall_data\u001b[0m\u001b[1;33m[\u001b[0m\u001b[1;34m'word_vectors'\u001b[0m\u001b[1;33m]\u001b[0m \u001b[1;33m=\u001b[0m \u001b[0mpd\u001b[0m\u001b[1;33m.\u001b[0m\u001b[0mSeries\u001b[0m\u001b[1;33m(\u001b[0m\u001b[0mdata\u001b[0m\u001b[1;33m)\u001b[0m\u001b[1;33m\u001b[0m\u001b[1;33m\u001b[0m\u001b[0m\n\u001b[0m",
      "\u001b[1;32mc:\\users\\user\\appdata\\local\\programs\\python\\python39\\lib\\site-packages\\pandas\\core\\series.py\u001b[0m in \u001b[0;36m__init__\u001b[1;34m(self, data, index, dtype, name, copy, fastpath)\u001b[0m\n\u001b[0;32m    360\u001b[0m                     \u001b[0mdata\u001b[0m \u001b[1;33m=\u001b[0m \u001b[0mdata\u001b[0m\u001b[1;33m.\u001b[0m\u001b[0mcopy\u001b[0m\u001b[1;33m(\u001b[0m\u001b[1;33m)\u001b[0m\u001b[1;33m\u001b[0m\u001b[1;33m\u001b[0m\u001b[0m\n\u001b[0;32m    361\u001b[0m             \u001b[1;32melse\u001b[0m\u001b[1;33m:\u001b[0m\u001b[1;33m\u001b[0m\u001b[1;33m\u001b[0m\u001b[0m\n\u001b[1;32m--> 362\u001b[1;33m                 \u001b[0mdata\u001b[0m \u001b[1;33m=\u001b[0m \u001b[0msanitize_array\u001b[0m\u001b[1;33m(\u001b[0m\u001b[0mdata\u001b[0m\u001b[1;33m,\u001b[0m \u001b[0mindex\u001b[0m\u001b[1;33m,\u001b[0m \u001b[0mdtype\u001b[0m\u001b[1;33m,\u001b[0m \u001b[0mcopy\u001b[0m\u001b[1;33m,\u001b[0m \u001b[0mraise_cast_failure\u001b[0m\u001b[1;33m=\u001b[0m\u001b[1;32mTrue\u001b[0m\u001b[1;33m)\u001b[0m\u001b[1;33m\u001b[0m\u001b[1;33m\u001b[0m\u001b[0m\n\u001b[0m\u001b[0;32m    363\u001b[0m \u001b[1;33m\u001b[0m\u001b[0m\n\u001b[0;32m    364\u001b[0m                 \u001b[0mdata\u001b[0m \u001b[1;33m=\u001b[0m \u001b[0mSingleBlockManager\u001b[0m\u001b[1;33m.\u001b[0m\u001b[0mfrom_array\u001b[0m\u001b[1;33m(\u001b[0m\u001b[0mdata\u001b[0m\u001b[1;33m,\u001b[0m \u001b[0mindex\u001b[0m\u001b[1;33m)\u001b[0m\u001b[1;33m\u001b[0m\u001b[1;33m\u001b[0m\u001b[0m\n",
      "\u001b[1;32mc:\\users\\user\\appdata\\local\\programs\\python\\python39\\lib\\site-packages\\pandas\\core\\construction.py\u001b[0m in \u001b[0;36msanitize_array\u001b[1;34m(data, index, dtype, copy, raise_cast_failure)\u001b[0m\n\u001b[0;32m    527\u001b[0m     \u001b[1;32melif\u001b[0m \u001b[0msubarr\u001b[0m\u001b[1;33m.\u001b[0m\u001b[0mndim\u001b[0m \u001b[1;33m>\u001b[0m \u001b[1;36m1\u001b[0m\u001b[1;33m:\u001b[0m\u001b[1;33m\u001b[0m\u001b[1;33m\u001b[0m\u001b[0m\n\u001b[0;32m    528\u001b[0m         \u001b[1;32mif\u001b[0m \u001b[0misinstance\u001b[0m\u001b[1;33m(\u001b[0m\u001b[0mdata\u001b[0m\u001b[1;33m,\u001b[0m \u001b[0mnp\u001b[0m\u001b[1;33m.\u001b[0m\u001b[0mndarray\u001b[0m\u001b[1;33m)\u001b[0m\u001b[1;33m:\u001b[0m\u001b[1;33m\u001b[0m\u001b[1;33m\u001b[0m\u001b[0m\n\u001b[1;32m--> 529\u001b[1;33m             \u001b[1;32mraise\u001b[0m \u001b[0mValueError\u001b[0m\u001b[1;33m(\u001b[0m\u001b[1;34m\"Data must be 1-dimensional\"\u001b[0m\u001b[1;33m)\u001b[0m\u001b[1;33m\u001b[0m\u001b[1;33m\u001b[0m\u001b[0m\n\u001b[0m\u001b[0;32m    530\u001b[0m         \u001b[1;32melse\u001b[0m\u001b[1;33m:\u001b[0m\u001b[1;33m\u001b[0m\u001b[1;33m\u001b[0m\u001b[0m\n\u001b[0;32m    531\u001b[0m             \u001b[0msubarr\u001b[0m \u001b[1;33m=\u001b[0m \u001b[0mcom\u001b[0m\u001b[1;33m.\u001b[0m\u001b[0masarray_tuplesafe\u001b[0m\u001b[1;33m(\u001b[0m\u001b[0mdata\u001b[0m\u001b[1;33m,\u001b[0m \u001b[0mdtype\u001b[0m\u001b[1;33m=\u001b[0m\u001b[0mdtype\u001b[0m\u001b[1;33m)\u001b[0m\u001b[1;33m\u001b[0m\u001b[1;33m\u001b[0m\u001b[0m\n",
      "\u001b[1;31mValueError\u001b[0m: Data must be 1-dimensional"
     ]
    }
   ],
   "source": [
    "all_data['word_vectors'] = pd.Series(data)"
   ]
  },
  {
   "cell_type": "code",
   "execution_count": 80,
   "id": "broke-village",
   "metadata": {},
   "outputs": [
    {
     "data": {
      "text/plain": [
       "0                                     dead shoot today\n",
       "0    black teenage boys not men children stop refer...\n",
       "0                                            pasajeros\n",
       "0                                                  NaN\n",
       "0                                        relate stjean\n",
       "0       lol hopefully stock summer range pop australia\n",
       "0                                                  gas\n",
       "0                                               sicken\n",
       "Name: cleaned_reply_tw, dtype: object"
      ]
     },
     "execution_count": 80,
     "metadata": {},
     "output_type": "execute_result"
    }
   ],
   "source": [
    "all_data.loc[0,'cleaned_reply_tw']"
   ]
  },
  {
   "cell_type": "code",
   "execution_count": null,
   "id": "liquid-sweden",
   "metadata": {},
   "outputs": [],
   "source": [
    "'''\n",
    "Splits the data into a training set and a validation set, but first shuffles the data, because you’re starting with data in which samples are ordered (all negative first, then all positive)\n",
    "'''\n",
    "indices = np.arange(data.shape[0])\n",
    "np.random.shuffle(indices)\n",
    "data = data[indices]\n",
    "labels = labels[indices]\n",
    "\n",
    "x_train = data[:training_samples]\n",
    "y_train = labels[:training_samples]\n",
    "x_val = data[training_samples: training_samples + validation_samples] \n",
    "y_val = labels[training_samples: training_samples + validation_samples]"
   ]
  },
  {
   "cell_type": "code",
   "execution_count": 7,
   "id": "remarkable-stylus",
   "metadata": {},
   "outputs": [],
   "source": [
    "from gensim.models import Word2Vec, KeyedVectors\n",
    "from gensim.scripts.glove2word2vec import glove2word2vec\n",
    "from gensim.test.utils import common_texts,get_tmpfile, datapath"
   ]
  },
  {
   "cell_type": "code",
   "execution_count": 49,
   "id": "smooth-benchmark",
   "metadata": {},
   "outputs": [
    {
     "name": "stdout",
     "output_type": "stream",
     "text": [
      "embeddings_index example: [ 0.11078   -0.24165    0.58407    0.33004   -0.28523    0.39694\n",
      "  0.48903    1.3905    -0.75806   -0.0066963 -0.30907    0.18059\n",
      " -4.5539     0.46777   -0.35242   -0.28211   -0.81762   -0.16247\n",
      " -1.4519    -0.54034   -0.20429    0.048978  -0.67599    0.56651\n",
      "  0.66277   -0.094981  -0.39577   -0.88254    0.007897  -1.0843\n",
      " -0.35871   -0.21915   -0.26527   -0.032049   0.02007    0.44382\n",
      "  0.39047    1.2238     0.62872   -0.1833    -1.1305     0.29216\n",
      " -0.15579   -0.357     -0.071372   0.15666    0.11832    0.44056\n",
      " -0.9165    -0.17102    0.33795    0.14644   -0.4715     0.22617\n",
      " -0.53264   -0.43504   -0.73209   -0.23924   -0.78109    0.37778\n",
      " -0.5164     0.030757   0.49751   -0.79576   -0.63072   -0.40766\n",
      "  0.032427  -0.31238    0.54056   -0.99269   -0.17894    0.096784\n",
      "  0.34071    0.27062   -0.23308   -0.050616   0.59956   -0.29787\n",
      "  0.4078    -0.50386    1.7127    -0.72348    0.30162   -0.38823\n",
      "  0.53881   -0.20311   -0.11727   -0.34253    0.50525   -0.32589\n",
      "  0.14619    0.84863    0.32034    0.52919   -0.36471   -0.42496\n",
      "  0.14915    0.4148     0.25441    0.37878  ]\n",
      "Found 1193515 word vectors.\n"
     ]
    }
   ],
   "source": [
    "embeddings_index = {}\n",
    "f = open(r'D:\\論文\\GloVe vector\\glove.twitter.27B.100d.txt',encoding=\"utf-8\")\n",
    "for line in f:\n",
    "    values = line.split()\n",
    "    word = values[0]\n",
    "    coefs = np.asarray(values[1:], dtype='float32')\n",
    "    embeddings_index[word] = coefs\n",
    "f.close()\n",
    "\n",
    "print('embeddings_index example: {}'.format(embeddings_index['school']))\n",
    "print('Found %s word vectors.' % len(embeddings_index))"
   ]
  },
  {
   "cell_type": "code",
   "execution_count": 53,
   "id": "russian-breathing",
   "metadata": {},
   "outputs": [],
   "source": [
    "num_words = min(max_words, len(word_index)+1)"
   ]
  },
  {
   "cell_type": "code",
   "execution_count": 24,
   "id": "composite-orientation",
   "metadata": {},
   "outputs": [],
   "source": [
    "#Considers only the top 10,000 words in the dataset\n",
    "embedding_dim = 100\n",
    "\n",
    "embedding_matrix = np.zeros((num_words, embedding_dim))\n",
    "for word, i in word_index.items():\n",
    "    if i <= max_words:\n",
    "        embedding_vector = embeddings_index.get(word)\n",
    "        if embedding_vector is not None:\n",
    "            '''\n",
    "            Words not found in the embedding index will be all zeros.\n",
    "            '''\n",
    "            embedding_matrix[i] = embedding_vector"
   ]
  },
  {
   "cell_type": "code",
   "execution_count": 9,
   "id": "extra-singles",
   "metadata": {},
   "outputs": [
    {
     "name": "stdout",
     "output_type": "stream",
     "text": [
      "Model: \"sequential_1\"\n",
      "_________________________________________________________________\n",
      "Layer (type)                 Output Shape              Param #   \n",
      "=================================================================\n",
      "embedding (Embedding)        (None, 100, 100)          1000000   \n",
      "_________________________________________________________________\n",
      "flatten (Flatten)            (None, 10000)             0         \n",
      "_________________________________________________________________\n",
      "dense (Dense)                (None, 32)                320032    \n",
      "_________________________________________________________________\n",
      "dense_1 (Dense)              (None, 1)                 33        \n",
      "=================================================================\n",
      "Total params: 1,320,065\n",
      "Trainable params: 1,320,065\n",
      "Non-trainable params: 0\n",
      "_________________________________________________________________\n"
     ]
    }
   ],
   "source": [
    "#Listing 6.12 Model definition\n",
    "maxlen = 100\n",
    "from keras.models import Sequential\n",
    "from keras.layers import Embedding, Flatten, Dense\n",
    "\n",
    "model = Sequential()\n",
    "model.add(Embedding(max_words, embedding_dim, input_length=maxlen)) \n",
    "model.add(Flatten())\n",
    "model.add(Dense(32, activation='relu'))\n",
    "model.add(Dense(1, activation='sigmoid'))\n",
    "model.summary()"
   ]
  },
  {
   "cell_type": "code",
   "execution_count": 25,
   "id": "cleared-brunswick",
   "metadata": {},
   "outputs": [],
   "source": [
    "model.layers[0].set_weights([embedding_matrix])\n",
    "model.layers[0].trainable = False\n",
    "model.compile(optimizer='rmsprop',\n",
    "              loss='binary_crossentropy',\n",
    "              metrics=['acc'])"
   ]
  },
  {
   "cell_type": "code",
   "execution_count": 64,
   "id": "focal-berkeley",
   "metadata": {},
   "outputs": [
    {
     "name": "stdout",
     "output_type": "stream",
     "text": [
      "Epoch 1/10\n",
      "63/63 [==============================] - 3s 33ms/step - loss: 0.8158 - acc: 0.5861 - val_loss: 0.6615 - val_acc: 0.6590\n",
      "Epoch 2/10\n",
      "63/63 [==============================] - 2s 40ms/step - loss: 0.5714 - acc: 0.6977 - val_loss: 0.6648 - val_acc: 0.6495\n",
      "Epoch 3/10\n",
      "63/63 [==============================] - 5s 75ms/step - loss: 0.5363 - acc: 0.7264 - val_loss: 0.6836 - val_acc: 0.6601\n",
      "Epoch 4/10\n",
      "63/63 [==============================] - 2s 39ms/step - loss: 0.4579 - acc: 0.7945 - val_loss: 0.6985 - val_acc: 0.6309\n",
      "Epoch 5/10\n",
      "63/63 [==============================] - 4s 72ms/step - loss: 0.4045 - acc: 0.8326 - val_loss: 0.7175 - val_acc: 0.6370\n",
      "Epoch 6/10\n",
      "63/63 [==============================] - 4s 71ms/step - loss: 0.3713 - acc: 0.8654 - val_loss: 0.7455 - val_acc: 0.6238\n",
      "Epoch 7/10\n",
      "63/63 [==============================] - 2s 31ms/step - loss: 0.3346 - acc: 0.8765 - val_loss: 0.7727 - val_acc: 0.6279\n",
      "Epoch 8/10\n",
      "63/63 [==============================] - 3s 55ms/step - loss: 0.3224 - acc: 0.8665 - val_loss: 0.8227 - val_acc: 0.6391\n",
      "Epoch 9/10\n",
      "63/63 [==============================] - 5s 74ms/step - loss: 0.2897 - acc: 0.8902 - val_loss: 0.8521 - val_acc: 0.6215\n",
      "Epoch 10/10\n",
      "63/63 [==============================] - 2s 31ms/step - loss: 0.2620 - acc: 0.9106 - val_loss: 0.9009 - val_acc: 0.6225\n"
     ]
    }
   ],
   "source": [
    "history = model.fit(x_train, y_train,\n",
    "                    epochs=10,\n",
    "                    batch_size=32,\n",
    "                    validation_data=(x_val, y_val))\n",
    "model.save_weights('pre_trained_glove_model.h5')"
   ]
  },
  {
   "cell_type": "code",
   "execution_count": 65,
   "id": "surface-runner",
   "metadata": {},
   "outputs": [
    {
     "data": {
      "text/plain": [
       "{'loss': [0.7496050596237183,\n",
       "  0.583576500415802,\n",
       "  0.5221142768859863,\n",
       "  0.471637487411499,\n",
       "  0.4265790283679962,\n",
       "  0.3854178786277771,\n",
       "  0.34866148233413696,\n",
       "  0.3166767358779907,\n",
       "  0.28705424070358276,\n",
       "  0.25918176770210266],\n",
       " 'acc': [0.6065000295639038,\n",
       "  0.6955000162124634,\n",
       "  0.7335000038146973,\n",
       "  0.7804999947547913,\n",
       "  0.8090000152587891,\n",
       "  0.8429999947547913,\n",
       "  0.8629999756813049,\n",
       "  0.8799999952316284,\n",
       "  0.8949999809265137,\n",
       "  0.9104999899864197],\n",
       " 'val_loss': [0.661516547203064,\n",
       "  0.6647955775260925,\n",
       "  0.6835546493530273,\n",
       "  0.6985095739364624,\n",
       "  0.7175431251525879,\n",
       "  0.7455412149429321,\n",
       "  0.7727019786834717,\n",
       "  0.8227448463439941,\n",
       "  0.8520717620849609,\n",
       "  0.90094393491745],\n",
       " 'val_acc': [0.6590499877929688,\n",
       "  0.649524986743927,\n",
       "  0.660099983215332,\n",
       "  0.6308500170707703,\n",
       "  0.6369500160217285,\n",
       "  0.6237999796867371,\n",
       "  0.6279249787330627,\n",
       "  0.6391000151634216,\n",
       "  0.6215000152587891,\n",
       "  0.6224750280380249]}"
      ]
     },
     "execution_count": 65,
     "metadata": {},
     "output_type": "execute_result"
    }
   ],
   "source": [
    "history.history"
   ]
  },
  {
   "cell_type": "code",
   "execution_count": 66,
   "id": "exotic-sudan",
   "metadata": {},
   "outputs": [
    {
     "data": {
      "image/png": "[encoded data removed]",
      "text/plain": [
       "<Figure size 432x288 with 1 Axes>"
      ]
     },
     "metadata": {
      "needs_background": "light"
     },
     "output_type": "display_data"
    },
    {
     "data": {
      "image/png": "[encoded data removed]",
      "text/plain": [
       "<Figure size 432x288 with 1 Axes>"
      ]
     },
     "metadata": {
      "needs_background": "light"
     },
     "output_type": "display_data"
    }
   ],
   "source": [
    "import matplotlib.pyplot as plt\n",
    "\n",
    "acc = history.history['acc']\n",
    "val_acc = history.history['val_acc']\n",
    "loss = history.history['loss']\n",
    "val_loss = history.history['val_loss']\n",
    "\n",
    "epochs = range(1, len(acc) + 1)\n",
    "\n",
    "plt.plot(epochs, acc, 'bo', label='Training acc')\n",
    "plt.plot(epochs, val_acc, 'b', label='Validation acc')\n",
    "plt.title('Training and validation accuracy')\n",
    "plt.legend()\n",
    "\n",
    "plt.figure()\n",
    "\n",
    "plt.plot(epochs, loss, 'bo', label='Training loss')\n",
    "plt.plot(epochs, val_loss, 'b', label='Validation loss')\n",
    "plt.title('Training and validation loss')\n",
    "plt.legend()\n",
    "\n",
    "plt.show()"
   ]
  },
  {
   "cell_type": "code",
   "execution_count": null,
   "id": "aboriginal-yemen",
   "metadata": {},
   "outputs": [],
   "source": []
  },
  {
   "cell_type": "code",
   "execution_count": null,
   "id": "occupied-inflation",
   "metadata": {},
   "outputs": [],
   "source": []
  },
  {
   "cell_type": "code",
   "execution_count": null,
   "id": "recreational-christian",
   "metadata": {},
   "outputs": [],
   "source": []
  },
  {
   "cell_type": "code",
   "execution_count": null,
   "id": "vocal-shuttle",
   "metadata": {},
   "outputs": [],
   "source": []
  },
  {
   "cell_type": "code",
   "execution_count": null,
   "id": "swedish-terminal",
   "metadata": {},
   "outputs": [],
   "source": [
    "from keras.models import Sequential\n",
    "from keras.layers import Dense\n",
    "from keras.layers import Flatten\n",
    "from keras.layers import Embedding\n",
    "from keras.layers.convolutional import Conv1D\n",
    "from keras.layers.convolutional import MaxPooling1D\n",
    "from keras.wrappers.scikit_learn import KerasClassifier  # classifier from keras"
   ]
  },
  {
   "cell_type": "code",
   "execution_count": 116,
   "id": "advance-forty",
   "metadata": {},
   "outputs": [],
   "source": [
    "# all_data['src_date'] = pd.to_datetime(all_data.src_date)\n",
    "# all_data['reply_date'] = pd.to_datetime(all_data.reply_date)"
   ]
  },
  {
   "cell_type": "code",
   "execution_count": 123,
   "id": "deadly-encoding",
   "metadata": {},
   "outputs": [],
   "source": [
    "all_data['src_sentiment'] = all_data['src_sentiment'].astype('category')\n",
    "all_data['reply_sentiment'] = all_data['reply_sentiment'].astype('category')"
   ]
  },
  {
   "cell_type": "code",
   "execution_count": 125,
   "id": "unavailable-chest",
   "metadata": {},
   "outputs": [],
   "source": [
    "all_data['src_emo_ro'] = all_data['src_emo_ro'].astype('category')\n",
    "all_data['reply_emo_ro'] = all_data['reply_emo_ro'].astype('category')"
   ]
  },
  {
   "cell_type": "code",
   "execution_count": 117,
   "id": "unnecessary-camel",
   "metadata": {},
   "outputs": [
    {
     "data": {
      "text/plain": [
       "Index(['src_tweet_id', 'src_user_id', 'src_tweet', 'src_date',\n",
       "       'reply_tweet_id', 'reply_user_id', 'reply_tweet', 'reply_date', 'label',\n",
       "       'cleaned_reply_tw', 'reply_sentiment', 'reply_emo_ro', 'cleaned_src_tw',\n",
       "       'src_sentiment', 'src_emo_ro'],\n",
       "      dtype='object')"
      ]
     },
     "execution_count": 117,
     "metadata": {},
     "output_type": "execute_result"
    }
   ],
   "source": [
    "all_data.columns"
   ]
  },
  {
   "cell_type": "code",
   "execution_count": 126,
   "id": "generic-royal",
   "metadata": {},
   "outputs": [
    {
     "data": {
      "text/plain": [
       "src_tweet_id                      int64\n",
       "src_user_id                       int64\n",
       "src_tweet                        object\n",
       "src_date            datetime64[ns, UTC]\n",
       "reply_tweet_id                  float64\n",
       "reply_user_id                   float64\n",
       "reply_tweet                      object\n",
       "reply_date          datetime64[ns, UTC]\n",
       "label                             int64\n",
       "cleaned_reply_tw                 object\n",
       "reply_sentiment                category\n",
       "reply_emo_ro                   category\n",
       "cleaned_src_tw                   object\n",
       "src_sentiment                  category\n",
       "src_emo_ro                     category\n",
       "dtype: object"
      ]
     },
     "execution_count": 126,
     "metadata": {},
     "output_type": "execute_result"
    }
   ],
   "source": [
    "all_data.dtypes"
   ]
  },
  {
   "cell_type": "code",
   "execution_count": 120,
   "id": "perfect-complement",
   "metadata": {},
   "outputs": [],
   "source": [
    "X = all_data.loc[:,['src_date','reply_date','cleaned_reply_tw', 'reply_sentiment', 'reply_emo_ro', 'cleaned_src_tw',\n",
    "       'src_sentiment', 'src_emo_ro']]\n",
    "y = all_data.loc[:,'label']"
   ]
  },
  {
   "cell_type": "code",
   "execution_count": null,
   "id": "spare-tackle",
   "metadata": {},
   "outputs": [],
   "source": [
    "from sklearn.preprocessing import LabelEncoder, OneHotEncoder\n",
    "\n",
    "labelencoder_X_1 = LabelEncoder() # Geography\n",
    "X[:, 1] = labelencoder_X_1.fit_transform(X[:, 1])\n",
    "\n",
    "labelencoder_X_2 = LabelEncoder() #gender\n",
    "X[:, 2] = labelencoder_X_2.fit_transform(X[:, 2])"
   ]
  },
  {
   "cell_type": "code",
   "execution_count": null,
   "id": "appreciated-pregnancy",
   "metadata": {},
   "outputs": [],
   "source": [
    "from sklearn.model_selection import train_test_split\n",
    "X_train, X_test, y_train, y_test = train_test_split(X, y, test_size = 0.2, random_state = 0)"
   ]
  },
  {
   "cell_type": "code",
   "execution_count": 2,
   "id": "single-lewis",
   "metadata": {},
   "outputs": [],
   "source": [
    "classifier = Sequential()\n",
    "classifier.add(Dense(7, input_dim=13, activation='relu'))\n",
    "classifier.add(Dense(7,  activation='relu'))\n",
    "classifier.add(Dense(1, activation='sigmoid'))\n",
    "classifier.compile(loss='binary_crossentropy', optimizer='adam', metrics=['accuracy'])"
   ]
  }
 ],
 "metadata": {
  "kernelspec": {
   "display_name": "Python 3",
   "language": "python",
   "name": "python3"
  },
  "language_info": {
   "codemirror_mode": {
    "name": "ipython",
    "version": 3
   },
   "file_extension": ".py",
   "mimetype": "text/x-python",
   "name": "python",
   "nbconvert_exporter": "python",
   "pygments_lexer": "ipython3",
   "version": "3.9.1"
  }
 },
 "nbformat": 4,
 "nbformat_minor": 5
}
