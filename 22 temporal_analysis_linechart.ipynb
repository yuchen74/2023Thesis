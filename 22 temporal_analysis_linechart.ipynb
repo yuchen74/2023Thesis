{
 "cells": [
  {
   "cell_type": "code",
   "execution_count": 1,
   "metadata": {
    "id": "n2i0zBCX3pMs"
   },
   "outputs": [],
   "source": [
    "import numpy as np\n",
    "import pandas as pd\n",
    "import matplotlib.pyplot as plt\n",
    "from matplotlib import colors\n",
    "import seaborn as sns\n",
    "from datetime import datetime ,time"
   ]
  },
  {
   "cell_type": "markdown",
   "metadata": {
    "id": "ztyPEB1Ezwc3"
   },
   "source": [
    "# Load data\n",
    "\n",
    "\n",
    "*   src: 'src_target_sentiment_2.csv'\n",
    "*   reply: 'reply_target_sentiment.csv'\n",
    "\n",
    "\n"
   ]
  },
  {
   "cell_type": "markdown",
   "metadata": {
    "id": "lR13HyuF0hAf"
   },
   "source": [
    "## Source data"
   ]
  },
  {
   "cell_type": "code",
   "execution_count": 2,
   "metadata": {
    "colab": {
     "base_uri": "https://localhost:8080/",
     "height": 1000
    },
    "id": "fwKSUFcxXGzz",
    "outputId": "081b78cf-91a7-4a4c-cc76-31b29670a311"
   },
   "outputs": [
    {
     "data": {
      "text/html": [
       "<div>\n",
       "<style scoped>\n",
       "    .dataframe tbody tr th:only-of-type {\n",
       "        vertical-align: middle;\n",
       "    }\n",
       "\n",
       "    .dataframe tbody tr th {\n",
       "        vertical-align: top;\n",
       "    }\n",
       "\n",
       "    .dataframe thead th {\n",
       "        text-align: right;\n",
       "    }\n",
       "</style>\n",
       "<table border=\"1\" class=\"dataframe\">\n",
       "  <thead>\n",
       "    <tr style=\"text-align: right;\">\n",
       "      <th></th>\n",
       "      <th>sentiment_beforetarget</th>\n",
       "      <th>neg_to_pos_beforetarget</th>\n",
       "      <th>count_of_rows_bef</th>\n",
       "      <th>sentiment_target</th>\n",
       "      <th>sentiment_aftertarget</th>\n",
       "      <th>neg_to_pos_aftertarget</th>\n",
       "      <th>count_of_rows_after</th>\n",
       "    </tr>\n",
       "    <tr>\n",
       "      <th>Column1</th>\n",
       "      <th></th>\n",
       "      <th></th>\n",
       "      <th></th>\n",
       "      <th></th>\n",
       "      <th></th>\n",
       "      <th></th>\n",
       "      <th></th>\n",
       "    </tr>\n",
       "  </thead>\n",
       "  <tbody>\n",
       "    <tr>\n",
       "      <th>0</th>\n",
       "      <td>NaN</td>\n",
       "      <td>NaN</td>\n",
       "      <td>0</td>\n",
       "      <td>Neutral</td>\n",
       "      <td>NaN</td>\n",
       "      <td>NaN</td>\n",
       "      <td>0</td>\n",
       "    </tr>\n",
       "    <tr>\n",
       "      <th>1</th>\n",
       "      <td>NaN</td>\n",
       "      <td>NaN</td>\n",
       "      <td>0</td>\n",
       "      <td>Neutral</td>\n",
       "      <td>NaN</td>\n",
       "      <td>NaN</td>\n",
       "      <td>0</td>\n",
       "    </tr>\n",
       "    <tr>\n",
       "      <th>2</th>\n",
       "      <td>NaN</td>\n",
       "      <td>NaN</td>\n",
       "      <td>0</td>\n",
       "      <td>Neutral</td>\n",
       "      <td>{'Neutral': 1.0}</td>\n",
       "      <td>0.00</td>\n",
       "      <td>1</td>\n",
       "    </tr>\n",
       "    <tr>\n",
       "      <th>3</th>\n",
       "      <td>{'Neutral': 1.0}</td>\n",
       "      <td>0.0</td>\n",
       "      <td>1</td>\n",
       "      <td>Positive</td>\n",
       "      <td>{'Neutral': 1.0}</td>\n",
       "      <td>0.00</td>\n",
       "      <td>1</td>\n",
       "    </tr>\n",
       "    <tr>\n",
       "      <th>4</th>\n",
       "      <td>{'Neutral': 1.0}</td>\n",
       "      <td>0.0</td>\n",
       "      <td>1</td>\n",
       "      <td>Negative</td>\n",
       "      <td>NaN</td>\n",
       "      <td>NaN</td>\n",
       "      <td>0</td>\n",
       "    </tr>\n",
       "    <tr>\n",
       "      <th>...</th>\n",
       "      <td>...</td>\n",
       "      <td>...</td>\n",
       "      <td>...</td>\n",
       "      <td>...</td>\n",
       "      <td>...</td>\n",
       "      <td>...</td>\n",
       "      <td>...</td>\n",
       "    </tr>\n",
       "    <tr>\n",
       "      <th>79</th>\n",
       "      <td>{'Neutral': 1.0}</td>\n",
       "      <td>0.0</td>\n",
       "      <td>1</td>\n",
       "      <td>Negative</td>\n",
       "      <td>NaN</td>\n",
       "      <td>NaN</td>\n",
       "      <td>0</td>\n",
       "    </tr>\n",
       "    <tr>\n",
       "      <th>80</th>\n",
       "      <td>NaN</td>\n",
       "      <td>NaN</td>\n",
       "      <td>0</td>\n",
       "      <td>Negative</td>\n",
       "      <td>{'Negative': 0.67, 'Neutral': 0.33}</td>\n",
       "      <td>inf</td>\n",
       "      <td>3</td>\n",
       "    </tr>\n",
       "    <tr>\n",
       "      <th>81</th>\n",
       "      <td>{'Negative': 0.67, 'Neutral': 0.33}</td>\n",
       "      <td>inf</td>\n",
       "      <td>3</td>\n",
       "      <td>Negative</td>\n",
       "      <td>{'Positive': 0.31, 'Neutral': 0.38, 'Negative'...</td>\n",
       "      <td>1.00</td>\n",
       "      <td>13</td>\n",
       "    </tr>\n",
       "    <tr>\n",
       "      <th>82</th>\n",
       "      <td>{'Positive': 0.31, 'Neutral': 0.38, 'Negative'...</td>\n",
       "      <td>1.0</td>\n",
       "      <td>13</td>\n",
       "      <td>Negative</td>\n",
       "      <td>{'Negative': 1.0}</td>\n",
       "      <td>inf</td>\n",
       "      <td>1</td>\n",
       "    </tr>\n",
       "    <tr>\n",
       "      <th>83</th>\n",
       "      <td>{'Negative': 1.0}</td>\n",
       "      <td>inf</td>\n",
       "      <td>1</td>\n",
       "      <td>Negative</td>\n",
       "      <td>{'Positive': 0.17, 'Neutral': 0.53, 'Negative'...</td>\n",
       "      <td>1.76</td>\n",
       "      <td>107</td>\n",
       "    </tr>\n",
       "  </tbody>\n",
       "</table>\n",
       "<p>84 rows × 7 columns</p>\n",
       "</div>"
      ],
      "text/plain": [
       "                                    sentiment_beforetarget  \\\n",
       "Column1                                                      \n",
       "0                                                      NaN   \n",
       "1                                                      NaN   \n",
       "2                                                      NaN   \n",
       "3                                         {'Neutral': 1.0}   \n",
       "4                                         {'Neutral': 1.0}   \n",
       "...                                                    ...   \n",
       "79                                        {'Neutral': 1.0}   \n",
       "80                                                     NaN   \n",
       "81                     {'Negative': 0.67, 'Neutral': 0.33}   \n",
       "82       {'Positive': 0.31, 'Neutral': 0.38, 'Negative'...   \n",
       "83                                       {'Negative': 1.0}   \n",
       "\n",
       "         neg_to_pos_beforetarget  count_of_rows_bef sentiment_target  \\\n",
       "Column1                                                                \n",
       "0                            NaN                  0          Neutral   \n",
       "1                            NaN                  0          Neutral   \n",
       "2                            NaN                  0          Neutral   \n",
       "3                            0.0                  1         Positive   \n",
       "4                            0.0                  1         Negative   \n",
       "...                          ...                ...              ...   \n",
       "79                           0.0                  1         Negative   \n",
       "80                           NaN                  0         Negative   \n",
       "81                           inf                  3         Negative   \n",
       "82                           1.0                 13         Negative   \n",
       "83                           inf                  1         Negative   \n",
       "\n",
       "                                     sentiment_aftertarget  \\\n",
       "Column1                                                      \n",
       "0                                                      NaN   \n",
       "1                                                      NaN   \n",
       "2                                         {'Neutral': 1.0}   \n",
       "3                                         {'Neutral': 1.0}   \n",
       "4                                                      NaN   \n",
       "...                                                    ...   \n",
       "79                                                     NaN   \n",
       "80                     {'Negative': 0.67, 'Neutral': 0.33}   \n",
       "81       {'Positive': 0.31, 'Neutral': 0.38, 'Negative'...   \n",
       "82                                       {'Negative': 1.0}   \n",
       "83       {'Positive': 0.17, 'Neutral': 0.53, 'Negative'...   \n",
       "\n",
       "         neg_to_pos_aftertarget  count_of_rows_after  \n",
       "Column1                                               \n",
       "0                           NaN                    0  \n",
       "1                           NaN                    0  \n",
       "2                          0.00                    1  \n",
       "3                          0.00                    1  \n",
       "4                           NaN                    0  \n",
       "...                         ...                  ...  \n",
       "79                          NaN                    0  \n",
       "80                          inf                    3  \n",
       "81                         1.00                   13  \n",
       "82                          inf                    1  \n",
       "83                         1.76                  107  \n",
       "\n",
       "[84 rows x 7 columns]"
      ]
     },
     "execution_count": 2,
     "metadata": {},
     "output_type": "execute_result"
    }
   ],
   "source": [
    "src = pd.read_csv(r\"sydneysiege\\18 targetanalysis\\temporalanalysis\\src_target_sentiment.csv\",encoding = 'utf-8', header = 0,index_col=0)\n",
    "src"
   ]
  },
  {
   "cell_type": "code",
   "execution_count": 3,
   "metadata": {
    "id": "ApJ_tujgunnu"
   },
   "outputs": [],
   "source": [
    "src.sentiment_target = pd.Categorical(src.sentiment_target, categories=['Negative','Positive','Neutral'])"
   ]
  },
  {
   "cell_type": "code",
   "execution_count": 4,
   "metadata": {},
   "outputs": [
    {
     "name": "stdout",
     "output_type": "stream",
     "text": [
      "Negative    31\n",
      "Positive     4\n",
      "Neutral     49\n",
      "Name: sentiment_target, dtype: int64\n"
     ]
    }
   ],
   "source": [
    "print(src['sentiment_target'].value_counts(sort = False))\n",
    "src['sentiment_target'].value_counts(normalize=True,sort=False)"
   ]
  },
  {
   "cell_type": "markdown",
   "metadata": {
    "id": "Xuejq95OIvxJ"
   },
   "source": [
    "### inf ratio"
   ]
  },
  {
   "cell_type": "code",
   "execution_count": 5,
   "metadata": {
    "colab": {
     "base_uri": "https://localhost:8080/",
     "height": 538
    },
    "id": "xsRJ4ptIFibS",
    "outputId": "5f06e23b-bb03-4848-967b-ee40da39c7f0"
   },
   "outputs": [
    {
     "name": "stdout",
     "output_type": "stream",
     "text": [
      "# of inf ratio:10\n"
     ]
    },
    {
     "data": {
      "text/html": [
       "<div>\n",
       "<style scoped>\n",
       "    .dataframe tbody tr th:only-of-type {\n",
       "        vertical-align: middle;\n",
       "    }\n",
       "\n",
       "    .dataframe tbody tr th {\n",
       "        vertical-align: top;\n",
       "    }\n",
       "\n",
       "    .dataframe thead th {\n",
       "        text-align: right;\n",
       "    }\n",
       "</style>\n",
       "<table border=\"1\" class=\"dataframe\">\n",
       "  <thead>\n",
       "    <tr style=\"text-align: right;\">\n",
       "      <th></th>\n",
       "      <th>sentiment_beforetarget</th>\n",
       "      <th>neg_to_pos_beforetarget</th>\n",
       "      <th>count_of_rows_bef</th>\n",
       "      <th>sentiment_target</th>\n",
       "      <th>sentiment_aftertarget</th>\n",
       "      <th>neg_to_pos_aftertarget</th>\n",
       "      <th>count_of_rows_after</th>\n",
       "    </tr>\n",
       "    <tr>\n",
       "      <th>Column1</th>\n",
       "      <th></th>\n",
       "      <th></th>\n",
       "      <th></th>\n",
       "      <th></th>\n",
       "      <th></th>\n",
       "      <th></th>\n",
       "      <th></th>\n",
       "    </tr>\n",
       "  </thead>\n",
       "  <tbody>\n",
       "    <tr>\n",
       "      <th>14</th>\n",
       "      <td>{'Neutral': 1.0}</td>\n",
       "      <td>0.0</td>\n",
       "      <td>1</td>\n",
       "      <td>Neutral</td>\n",
       "      <td>{'Negative': 1.0}</td>\n",
       "      <td>inf</td>\n",
       "      <td>1</td>\n",
       "    </tr>\n",
       "    <tr>\n",
       "      <th>21</th>\n",
       "      <td>NaN</td>\n",
       "      <td>NaN</td>\n",
       "      <td>0</td>\n",
       "      <td>Neutral</td>\n",
       "      <td>{'Neutral': 0.8, 'Negative': 0.2}</td>\n",
       "      <td>inf</td>\n",
       "      <td>5</td>\n",
       "    </tr>\n",
       "    <tr>\n",
       "      <th>25</th>\n",
       "      <td>{'Positive': 1.0}</td>\n",
       "      <td>0.0</td>\n",
       "      <td>1</td>\n",
       "      <td>Neutral</td>\n",
       "      <td>{'Neutral': 0.86, 'Negative': 0.14}</td>\n",
       "      <td>inf</td>\n",
       "      <td>7</td>\n",
       "    </tr>\n",
       "    <tr>\n",
       "      <th>33</th>\n",
       "      <td>NaN</td>\n",
       "      <td>NaN</td>\n",
       "      <td>0</td>\n",
       "      <td>Neutral</td>\n",
       "      <td>{'Negative': 1.0}</td>\n",
       "      <td>inf</td>\n",
       "      <td>1</td>\n",
       "    </tr>\n",
       "    <tr>\n",
       "      <th>40</th>\n",
       "      <td>{'Positive': 1.0}</td>\n",
       "      <td>0.0</td>\n",
       "      <td>1</td>\n",
       "      <td>Positive</td>\n",
       "      <td>{'Negative': 1.0}</td>\n",
       "      <td>inf</td>\n",
       "      <td>1</td>\n",
       "    </tr>\n",
       "    <tr>\n",
       "      <th>41</th>\n",
       "      <td>{'Negative': 1.0}</td>\n",
       "      <td>inf</td>\n",
       "      <td>1</td>\n",
       "      <td>Negative</td>\n",
       "      <td>{'Neutral': 0.8, 'Negative': 0.2}</td>\n",
       "      <td>inf</td>\n",
       "      <td>5</td>\n",
       "    </tr>\n",
       "    <tr>\n",
       "      <th>44</th>\n",
       "      <td>{'Positive': 1.0}</td>\n",
       "      <td>0.0</td>\n",
       "      <td>1</td>\n",
       "      <td>Neutral</td>\n",
       "      <td>{'Neutral': 0.92, 'Negative': 0.08}</td>\n",
       "      <td>inf</td>\n",
       "      <td>12</td>\n",
       "    </tr>\n",
       "    <tr>\n",
       "      <th>63</th>\n",
       "      <td>{'Neutral': 1.0}</td>\n",
       "      <td>0.0</td>\n",
       "      <td>1</td>\n",
       "      <td>Neutral</td>\n",
       "      <td>{'Negative': 1.0}</td>\n",
       "      <td>inf</td>\n",
       "      <td>1</td>\n",
       "    </tr>\n",
       "    <tr>\n",
       "      <th>80</th>\n",
       "      <td>NaN</td>\n",
       "      <td>NaN</td>\n",
       "      <td>0</td>\n",
       "      <td>Negative</td>\n",
       "      <td>{'Negative': 0.67, 'Neutral': 0.33}</td>\n",
       "      <td>inf</td>\n",
       "      <td>3</td>\n",
       "    </tr>\n",
       "    <tr>\n",
       "      <th>82</th>\n",
       "      <td>{'Positive': 0.31, 'Neutral': 0.38, 'Negative'...</td>\n",
       "      <td>1.0</td>\n",
       "      <td>13</td>\n",
       "      <td>Negative</td>\n",
       "      <td>{'Negative': 1.0}</td>\n",
       "      <td>inf</td>\n",
       "      <td>1</td>\n",
       "    </tr>\n",
       "  </tbody>\n",
       "</table>\n",
       "</div>"
      ],
      "text/plain": [
       "                                    sentiment_beforetarget  \\\n",
       "Column1                                                      \n",
       "14                                        {'Neutral': 1.0}   \n",
       "21                                                     NaN   \n",
       "25                                       {'Positive': 1.0}   \n",
       "33                                                     NaN   \n",
       "40                                       {'Positive': 1.0}   \n",
       "41                                       {'Negative': 1.0}   \n",
       "44                                       {'Positive': 1.0}   \n",
       "63                                        {'Neutral': 1.0}   \n",
       "80                                                     NaN   \n",
       "82       {'Positive': 0.31, 'Neutral': 0.38, 'Negative'...   \n",
       "\n",
       "         neg_to_pos_beforetarget  count_of_rows_bef sentiment_target  \\\n",
       "Column1                                                                \n",
       "14                           0.0                  1          Neutral   \n",
       "21                           NaN                  0          Neutral   \n",
       "25                           0.0                  1          Neutral   \n",
       "33                           NaN                  0          Neutral   \n",
       "40                           0.0                  1         Positive   \n",
       "41                           inf                  1         Negative   \n",
       "44                           0.0                  1          Neutral   \n",
       "63                           0.0                  1          Neutral   \n",
       "80                           NaN                  0         Negative   \n",
       "82                           1.0                 13         Negative   \n",
       "\n",
       "                       sentiment_aftertarget  neg_to_pos_aftertarget  \\\n",
       "Column1                                                                \n",
       "14                         {'Negative': 1.0}                     inf   \n",
       "21         {'Neutral': 0.8, 'Negative': 0.2}                     inf   \n",
       "25       {'Neutral': 0.86, 'Negative': 0.14}                     inf   \n",
       "33                         {'Negative': 1.0}                     inf   \n",
       "40                         {'Negative': 1.0}                     inf   \n",
       "41         {'Neutral': 0.8, 'Negative': 0.2}                     inf   \n",
       "44       {'Neutral': 0.92, 'Negative': 0.08}                     inf   \n",
       "63                         {'Negative': 1.0}                     inf   \n",
       "80       {'Negative': 0.67, 'Neutral': 0.33}                     inf   \n",
       "82                         {'Negative': 1.0}                     inf   \n",
       "\n",
       "         count_of_rows_after  \n",
       "Column1                       \n",
       "14                         1  \n",
       "21                         5  \n",
       "25                         7  \n",
       "33                         1  \n",
       "40                         1  \n",
       "41                         5  \n",
       "44                        12  \n",
       "63                         1  \n",
       "80                         3  \n",
       "82                         1  "
      ]
     },
     "execution_count": 5,
     "metadata": {},
     "output_type": "execute_result"
    }
   ],
   "source": [
    "print(f'# of inf ratio:{np.isinf(src.neg_to_pos_aftertarget).sum()}')\n",
    "src.loc[src.neg_to_pos_aftertarget == np.inf,]"
   ]
  },
  {
   "cell_type": "code",
   "execution_count": 6,
   "metadata": {},
   "outputs": [
    {
     "data": {
      "text/plain": [
       "Negative    0.3\n",
       "Positive    0.1\n",
       "Neutral     0.6\n",
       "Name: sentiment_target, dtype: float64"
      ]
     },
     "execution_count": 6,
     "metadata": {},
     "output_type": "execute_result"
    }
   ],
   "source": [
    "src.loc[src.neg_to_pos_aftertarget == np.inf,'sentiment_target'].value_counts(normalize=True,sort=False)"
   ]
  },
  {
   "cell_type": "code",
   "execution_count": 7,
   "metadata": {
    "colab": {
     "base_uri": "https://localhost:8080/"
    },
    "id": "eg5Z4cCvTzEf",
    "outputId": "9c25ff27-320a-4a8a-c902-9fd2385da869"
   },
   "outputs": [
    {
     "name": "stdout",
     "output_type": "stream",
     "text": [
      "# of cases after remove infinity: (74, 7)\n"
     ]
    }
   ],
   "source": [
    "# remove inf cases (no positive non-target tws)\n",
    "src = src.loc[src.neg_to_pos_aftertarget != np.inf,] \n",
    "print(f\"# of cases after remove infinity: {src.shape}\")"
   ]
  },
  {
   "cell_type": "markdown",
   "metadata": {
    "id": "7YOewNtBIrUK"
   },
   "source": [
    "### zero ratio"
   ]
  },
  {
   "cell_type": "code",
   "execution_count": 8,
   "metadata": {},
   "outputs": [
    {
     "data": {
      "text/plain": [
       "Negative    0.290323\n",
       "Positive    0.096774\n",
       "Neutral     0.612903\n",
       "Name: sentiment_target, dtype: float64"
      ]
     },
     "execution_count": 8,
     "metadata": {},
     "output_type": "execute_result"
    }
   ],
   "source": [
    "src.loc[src.neg_to_pos_aftertarget == 0,'sentiment_target'].value_counts(normalize=True,sort=False)"
   ]
  },
  {
   "cell_type": "code",
   "execution_count": 9,
   "metadata": {
    "colab": {
     "base_uri": "https://localhost:8080/",
     "height": 143
    },
    "id": "bD2_0SC9GmJj",
    "outputId": "6bd0592f-1d8d-4b6f-cb4f-bdb4f6e1f6da"
   },
   "outputs": [
    {
     "data": {
      "text/html": [
       "<div>\n",
       "<style scoped>\n",
       "    .dataframe tbody tr th:only-of-type {\n",
       "        vertical-align: middle;\n",
       "    }\n",
       "\n",
       "    .dataframe tbody tr th {\n",
       "        vertical-align: top;\n",
       "    }\n",
       "\n",
       "    .dataframe thead th {\n",
       "        text-align: right;\n",
       "    }\n",
       "</style>\n",
       "<table border=\"1\" class=\"dataframe\">\n",
       "  <thead>\n",
       "    <tr style=\"text-align: right;\">\n",
       "      <th></th>\n",
       "      <th>sentiment_beforetarget</th>\n",
       "      <th>neg_to_pos_beforetarget</th>\n",
       "      <th>count_of_rows_bef</th>\n",
       "      <th>sentiment_target</th>\n",
       "      <th>sentiment_aftertarget</th>\n",
       "      <th>neg_to_pos_aftertarget</th>\n",
       "      <th>count_of_rows_after</th>\n",
       "    </tr>\n",
       "    <tr>\n",
       "      <th>Column1</th>\n",
       "      <th></th>\n",
       "      <th></th>\n",
       "      <th></th>\n",
       "      <th></th>\n",
       "      <th></th>\n",
       "      <th></th>\n",
       "      <th></th>\n",
       "    </tr>\n",
       "  </thead>\n",
       "  <tbody>\n",
       "    <tr>\n",
       "      <th>2</th>\n",
       "      <td>NaN</td>\n",
       "      <td>NaN</td>\n",
       "      <td>0</td>\n",
       "      <td>Neutral</td>\n",
       "      <td>{'Neutral': 1.0}</td>\n",
       "      <td>0.0</td>\n",
       "      <td>1</td>\n",
       "    </tr>\n",
       "    <tr>\n",
       "      <th>3</th>\n",
       "      <td>{'Neutral': 1.0}</td>\n",
       "      <td>0.00</td>\n",
       "      <td>1</td>\n",
       "      <td>Positive</td>\n",
       "      <td>{'Neutral': 1.0}</td>\n",
       "      <td>0.0</td>\n",
       "      <td>1</td>\n",
       "    </tr>\n",
       "    <tr>\n",
       "      <th>5</th>\n",
       "      <td>NaN</td>\n",
       "      <td>NaN</td>\n",
       "      <td>0</td>\n",
       "      <td>Neutral</td>\n",
       "      <td>{'Neutral': 1.0}</td>\n",
       "      <td>0.0</td>\n",
       "      <td>1</td>\n",
       "    </tr>\n",
       "    <tr>\n",
       "      <th>7</th>\n",
       "      <td>NaN</td>\n",
       "      <td>NaN</td>\n",
       "      <td>0</td>\n",
       "      <td>Neutral</td>\n",
       "      <td>{'Neutral': 1.0}</td>\n",
       "      <td>0.0</td>\n",
       "      <td>1</td>\n",
       "    </tr>\n",
       "    <tr>\n",
       "      <th>9</th>\n",
       "      <td>NaN</td>\n",
       "      <td>NaN</td>\n",
       "      <td>0</td>\n",
       "      <td>Neutral</td>\n",
       "      <td>{'Neutral': 1.0}</td>\n",
       "      <td>0.0</td>\n",
       "      <td>2</td>\n",
       "    </tr>\n",
       "    <tr>\n",
       "      <th>12</th>\n",
       "      <td>NaN</td>\n",
       "      <td>NaN</td>\n",
       "      <td>0</td>\n",
       "      <td>Neutral</td>\n",
       "      <td>{'Neutral': 1.0}</td>\n",
       "      <td>0.0</td>\n",
       "      <td>1</td>\n",
       "    </tr>\n",
       "    <tr>\n",
       "      <th>13</th>\n",
       "      <td>{'Neutral': 1.0}</td>\n",
       "      <td>0.00</td>\n",
       "      <td>1</td>\n",
       "      <td>Neutral</td>\n",
       "      <td>{'Neutral': 1.0}</td>\n",
       "      <td>0.0</td>\n",
       "      <td>1</td>\n",
       "    </tr>\n",
       "    <tr>\n",
       "      <th>18</th>\n",
       "      <td>NaN</td>\n",
       "      <td>NaN</td>\n",
       "      <td>0</td>\n",
       "      <td>Neutral</td>\n",
       "      <td>{'Neutral': 0.62, 'Positive': 0.38}</td>\n",
       "      <td>0.0</td>\n",
       "      <td>8</td>\n",
       "    </tr>\n",
       "    <tr>\n",
       "      <th>19</th>\n",
       "      <td>{'Neutral': 0.62, 'Positive': 0.38}</td>\n",
       "      <td>0.00</td>\n",
       "      <td>8</td>\n",
       "      <td>Negative</td>\n",
       "      <td>{'Neutral': 1.0}</td>\n",
       "      <td>0.0</td>\n",
       "      <td>1</td>\n",
       "    </tr>\n",
       "    <tr>\n",
       "      <th>22</th>\n",
       "      <td>{'Neutral': 0.8, 'Negative': 0.2}</td>\n",
       "      <td>inf</td>\n",
       "      <td>5</td>\n",
       "      <td>Negative</td>\n",
       "      <td>{'Neutral': 1.0}</td>\n",
       "      <td>0.0</td>\n",
       "      <td>2</td>\n",
       "    </tr>\n",
       "    <tr>\n",
       "      <th>23</th>\n",
       "      <td>{'Neutral': 1.0}</td>\n",
       "      <td>0.00</td>\n",
       "      <td>2</td>\n",
       "      <td>Neutral</td>\n",
       "      <td>{'Neutral': 1.0}</td>\n",
       "      <td>0.0</td>\n",
       "      <td>1</td>\n",
       "    </tr>\n",
       "    <tr>\n",
       "      <th>24</th>\n",
       "      <td>{'Neutral': 1.0}</td>\n",
       "      <td>0.00</td>\n",
       "      <td>1</td>\n",
       "      <td>Neutral</td>\n",
       "      <td>{'Positive': 1.0}</td>\n",
       "      <td>0.0</td>\n",
       "      <td>1</td>\n",
       "    </tr>\n",
       "    <tr>\n",
       "      <th>26</th>\n",
       "      <td>{'Neutral': 0.86, 'Negative': 0.14}</td>\n",
       "      <td>inf</td>\n",
       "      <td>7</td>\n",
       "      <td>Neutral</td>\n",
       "      <td>{'Neutral': 1.0}</td>\n",
       "      <td>0.0</td>\n",
       "      <td>1</td>\n",
       "    </tr>\n",
       "    <tr>\n",
       "      <th>31</th>\n",
       "      <td>NaN</td>\n",
       "      <td>NaN</td>\n",
       "      <td>0</td>\n",
       "      <td>Negative</td>\n",
       "      <td>{'Positive': 0.67, 'Neutral': 0.33}</td>\n",
       "      <td>0.0</td>\n",
       "      <td>3</td>\n",
       "    </tr>\n",
       "    <tr>\n",
       "      <th>34</th>\n",
       "      <td>{'Negative': 1.0}</td>\n",
       "      <td>inf</td>\n",
       "      <td>1</td>\n",
       "      <td>Neutral</td>\n",
       "      <td>{'Neutral': 1.0}</td>\n",
       "      <td>0.0</td>\n",
       "      <td>1</td>\n",
       "    </tr>\n",
       "    <tr>\n",
       "      <th>35</th>\n",
       "      <td>{'Neutral': 1.0}</td>\n",
       "      <td>0.00</td>\n",
       "      <td>1</td>\n",
       "      <td>Positive</td>\n",
       "      <td>{'Neutral': 1.0}</td>\n",
       "      <td>0.0</td>\n",
       "      <td>1</td>\n",
       "    </tr>\n",
       "    <tr>\n",
       "      <th>37</th>\n",
       "      <td>NaN</td>\n",
       "      <td>NaN</td>\n",
       "      <td>0</td>\n",
       "      <td>Neutral</td>\n",
       "      <td>{'Neutral': 1.0}</td>\n",
       "      <td>0.0</td>\n",
       "      <td>2</td>\n",
       "    </tr>\n",
       "    <tr>\n",
       "      <th>39</th>\n",
       "      <td>NaN</td>\n",
       "      <td>NaN</td>\n",
       "      <td>0</td>\n",
       "      <td>Negative</td>\n",
       "      <td>{'Positive': 1.0}</td>\n",
       "      <td>0.0</td>\n",
       "      <td>1</td>\n",
       "    </tr>\n",
       "    <tr>\n",
       "      <th>43</th>\n",
       "      <td>NaN</td>\n",
       "      <td>NaN</td>\n",
       "      <td>0</td>\n",
       "      <td>Neutral</td>\n",
       "      <td>{'Positive': 1.0}</td>\n",
       "      <td>0.0</td>\n",
       "      <td>1</td>\n",
       "    </tr>\n",
       "    <tr>\n",
       "      <th>46</th>\n",
       "      <td>{'Positive': 0.2, 'Negative': 0.2, 'Neutral': ...</td>\n",
       "      <td>1.00</td>\n",
       "      <td>5</td>\n",
       "      <td>Positive</td>\n",
       "      <td>{'Positive': 1.0}</td>\n",
       "      <td>0.0</td>\n",
       "      <td>1</td>\n",
       "    </tr>\n",
       "    <tr>\n",
       "      <th>48</th>\n",
       "      <td>{'Neutral': 0.69, 'Negative': 0.12, 'Positive'...</td>\n",
       "      <td>0.67</td>\n",
       "      <td>16</td>\n",
       "      <td>Neutral</td>\n",
       "      <td>{'Neutral': 1.0}</td>\n",
       "      <td>0.0</td>\n",
       "      <td>1</td>\n",
       "    </tr>\n",
       "    <tr>\n",
       "      <th>50</th>\n",
       "      <td>{'Positive': 0.33, 'Negative': 0.33, 'Neutral'...</td>\n",
       "      <td>1.00</td>\n",
       "      <td>3</td>\n",
       "      <td>Negative</td>\n",
       "      <td>{'Neutral': 1.0}</td>\n",
       "      <td>0.0</td>\n",
       "      <td>1</td>\n",
       "    </tr>\n",
       "    <tr>\n",
       "      <th>53</th>\n",
       "      <td>{'Negative': 0.33, 'Positive': 0.28, 'Neutral'...</td>\n",
       "      <td>1.20</td>\n",
       "      <td>18</td>\n",
       "      <td>Neutral</td>\n",
       "      <td>{'Positive': 0.5, 'Neutral': 0.5}</td>\n",
       "      <td>0.0</td>\n",
       "      <td>2</td>\n",
       "    </tr>\n",
       "    <tr>\n",
       "      <th>55</th>\n",
       "      <td>{'Neutral': 0.78, 'Negative': 0.11, 'Positive'...</td>\n",
       "      <td>1.00</td>\n",
       "      <td>9</td>\n",
       "      <td>Neutral</td>\n",
       "      <td>{'Neutral': 1.0}</td>\n",
       "      <td>0.0</td>\n",
       "      <td>2</td>\n",
       "    </tr>\n",
       "    <tr>\n",
       "      <th>56</th>\n",
       "      <td>{'Neutral': 1.0}</td>\n",
       "      <td>0.00</td>\n",
       "      <td>2</td>\n",
       "      <td>Negative</td>\n",
       "      <td>{'Neutral': 1.0}</td>\n",
       "      <td>0.0</td>\n",
       "      <td>4</td>\n",
       "    </tr>\n",
       "    <tr>\n",
       "      <th>62</th>\n",
       "      <td>{'Positive': 0.38, 'Negative': 0.5, 'Neutral':...</td>\n",
       "      <td>1.33</td>\n",
       "      <td>8</td>\n",
       "      <td>Neutral</td>\n",
       "      <td>{'Neutral': 1.0}</td>\n",
       "      <td>0.0</td>\n",
       "      <td>1</td>\n",
       "    </tr>\n",
       "    <tr>\n",
       "      <th>64</th>\n",
       "      <td>{'Negative': 1.0}</td>\n",
       "      <td>inf</td>\n",
       "      <td>1</td>\n",
       "      <td>Neutral</td>\n",
       "      <td>{'Neutral': 1.0}</td>\n",
       "      <td>0.0</td>\n",
       "      <td>1</td>\n",
       "    </tr>\n",
       "    <tr>\n",
       "      <th>65</th>\n",
       "      <td>{'Neutral': 1.0}</td>\n",
       "      <td>0.00</td>\n",
       "      <td>1</td>\n",
       "      <td>Neutral</td>\n",
       "      <td>{'Positive': 1.0}</td>\n",
       "      <td>0.0</td>\n",
       "      <td>2</td>\n",
       "    </tr>\n",
       "    <tr>\n",
       "      <th>73</th>\n",
       "      <td>{'Positive': 0.29, 'Negative': 0.71}</td>\n",
       "      <td>2.50</td>\n",
       "      <td>7</td>\n",
       "      <td>Negative</td>\n",
       "      <td>{'Positive': 1.0}</td>\n",
       "      <td>0.0</td>\n",
       "      <td>2</td>\n",
       "    </tr>\n",
       "    <tr>\n",
       "      <th>74</th>\n",
       "      <td>{'Positive': 1.0}</td>\n",
       "      <td>0.00</td>\n",
       "      <td>2</td>\n",
       "      <td>Negative</td>\n",
       "      <td>{'Positive': 1.0}</td>\n",
       "      <td>0.0</td>\n",
       "      <td>2</td>\n",
       "    </tr>\n",
       "    <tr>\n",
       "      <th>78</th>\n",
       "      <td>{'Negative': 0.38, 'Neutral': 0.38, 'Positive'...</td>\n",
       "      <td>1.50</td>\n",
       "      <td>8</td>\n",
       "      <td>Negative</td>\n",
       "      <td>{'Neutral': 1.0}</td>\n",
       "      <td>0.0</td>\n",
       "      <td>1</td>\n",
       "    </tr>\n",
       "  </tbody>\n",
       "</table>\n",
       "</div>"
      ],
      "text/plain": [
       "                                    sentiment_beforetarget  \\\n",
       "Column1                                                      \n",
       "2                                                      NaN   \n",
       "3                                         {'Neutral': 1.0}   \n",
       "5                                                      NaN   \n",
       "7                                                      NaN   \n",
       "9                                                      NaN   \n",
       "12                                                     NaN   \n",
       "13                                        {'Neutral': 1.0}   \n",
       "18                                                     NaN   \n",
       "19                     {'Neutral': 0.62, 'Positive': 0.38}   \n",
       "22                       {'Neutral': 0.8, 'Negative': 0.2}   \n",
       "23                                        {'Neutral': 1.0}   \n",
       "24                                        {'Neutral': 1.0}   \n",
       "26                     {'Neutral': 0.86, 'Negative': 0.14}   \n",
       "31                                                     NaN   \n",
       "34                                       {'Negative': 1.0}   \n",
       "35                                        {'Neutral': 1.0}   \n",
       "37                                                     NaN   \n",
       "39                                                     NaN   \n",
       "43                                                     NaN   \n",
       "46       {'Positive': 0.2, 'Negative': 0.2, 'Neutral': ...   \n",
       "48       {'Neutral': 0.69, 'Negative': 0.12, 'Positive'...   \n",
       "50       {'Positive': 0.33, 'Negative': 0.33, 'Neutral'...   \n",
       "53       {'Negative': 0.33, 'Positive': 0.28, 'Neutral'...   \n",
       "55       {'Neutral': 0.78, 'Negative': 0.11, 'Positive'...   \n",
       "56                                        {'Neutral': 1.0}   \n",
       "62       {'Positive': 0.38, 'Negative': 0.5, 'Neutral':...   \n",
       "64                                       {'Negative': 1.0}   \n",
       "65                                        {'Neutral': 1.0}   \n",
       "73                    {'Positive': 0.29, 'Negative': 0.71}   \n",
       "74                                       {'Positive': 1.0}   \n",
       "78       {'Negative': 0.38, 'Neutral': 0.38, 'Positive'...   \n",
       "\n",
       "         neg_to_pos_beforetarget  count_of_rows_bef sentiment_target  \\\n",
       "Column1                                                                \n",
       "2                            NaN                  0          Neutral   \n",
       "3                           0.00                  1         Positive   \n",
       "5                            NaN                  0          Neutral   \n",
       "7                            NaN                  0          Neutral   \n",
       "9                            NaN                  0          Neutral   \n",
       "12                           NaN                  0          Neutral   \n",
       "13                          0.00                  1          Neutral   \n",
       "18                           NaN                  0          Neutral   \n",
       "19                          0.00                  8         Negative   \n",
       "22                           inf                  5         Negative   \n",
       "23                          0.00                  2          Neutral   \n",
       "24                          0.00                  1          Neutral   \n",
       "26                           inf                  7          Neutral   \n",
       "31                           NaN                  0         Negative   \n",
       "34                           inf                  1          Neutral   \n",
       "35                          0.00                  1         Positive   \n",
       "37                           NaN                  0          Neutral   \n",
       "39                           NaN                  0         Negative   \n",
       "43                           NaN                  0          Neutral   \n",
       "46                          1.00                  5         Positive   \n",
       "48                          0.67                 16          Neutral   \n",
       "50                          1.00                  3         Negative   \n",
       "53                          1.20                 18          Neutral   \n",
       "55                          1.00                  9          Neutral   \n",
       "56                          0.00                  2         Negative   \n",
       "62                          1.33                  8          Neutral   \n",
       "64                           inf                  1          Neutral   \n",
       "65                          0.00                  1          Neutral   \n",
       "73                          2.50                  7         Negative   \n",
       "74                          0.00                  2         Negative   \n",
       "78                          1.50                  8         Negative   \n",
       "\n",
       "                       sentiment_aftertarget  neg_to_pos_aftertarget  \\\n",
       "Column1                                                                \n",
       "2                           {'Neutral': 1.0}                     0.0   \n",
       "3                           {'Neutral': 1.0}                     0.0   \n",
       "5                           {'Neutral': 1.0}                     0.0   \n",
       "7                           {'Neutral': 1.0}                     0.0   \n",
       "9                           {'Neutral': 1.0}                     0.0   \n",
       "12                          {'Neutral': 1.0}                     0.0   \n",
       "13                          {'Neutral': 1.0}                     0.0   \n",
       "18       {'Neutral': 0.62, 'Positive': 0.38}                     0.0   \n",
       "19                          {'Neutral': 1.0}                     0.0   \n",
       "22                          {'Neutral': 1.0}                     0.0   \n",
       "23                          {'Neutral': 1.0}                     0.0   \n",
       "24                         {'Positive': 1.0}                     0.0   \n",
       "26                          {'Neutral': 1.0}                     0.0   \n",
       "31       {'Positive': 0.67, 'Neutral': 0.33}                     0.0   \n",
       "34                          {'Neutral': 1.0}                     0.0   \n",
       "35                          {'Neutral': 1.0}                     0.0   \n",
       "37                          {'Neutral': 1.0}                     0.0   \n",
       "39                         {'Positive': 1.0}                     0.0   \n",
       "43                         {'Positive': 1.0}                     0.0   \n",
       "46                         {'Positive': 1.0}                     0.0   \n",
       "48                          {'Neutral': 1.0}                     0.0   \n",
       "50                          {'Neutral': 1.0}                     0.0   \n",
       "53         {'Positive': 0.5, 'Neutral': 0.5}                     0.0   \n",
       "55                          {'Neutral': 1.0}                     0.0   \n",
       "56                          {'Neutral': 1.0}                     0.0   \n",
       "62                          {'Neutral': 1.0}                     0.0   \n",
       "64                          {'Neutral': 1.0}                     0.0   \n",
       "65                         {'Positive': 1.0}                     0.0   \n",
       "73                         {'Positive': 1.0}                     0.0   \n",
       "74                         {'Positive': 1.0}                     0.0   \n",
       "78                          {'Neutral': 1.0}                     0.0   \n",
       "\n",
       "         count_of_rows_after  \n",
       "Column1                       \n",
       "2                          1  \n",
       "3                          1  \n",
       "5                          1  \n",
       "7                          1  \n",
       "9                          2  \n",
       "12                         1  \n",
       "13                         1  \n",
       "18                         8  \n",
       "19                         1  \n",
       "22                         2  \n",
       "23                         1  \n",
       "24                         1  \n",
       "26                         1  \n",
       "31                         3  \n",
       "34                         1  \n",
       "35                         1  \n",
       "37                         2  \n",
       "39                         1  \n",
       "43                         1  \n",
       "46                         1  \n",
       "48                         1  \n",
       "50                         1  \n",
       "53                         2  \n",
       "55                         2  \n",
       "56                         4  \n",
       "62                         1  \n",
       "64                         1  \n",
       "65                         2  \n",
       "73                         2  \n",
       "74                         2  \n",
       "78                         1  "
      ]
     },
     "execution_count": 9,
     "metadata": {},
     "output_type": "execute_result"
    }
   ],
   "source": [
    "src.loc[src.neg_to_pos_aftertarget==0,]"
   ]
  },
  {
   "cell_type": "code",
   "execution_count": 10,
   "metadata": {
    "colab": {
     "base_uri": "https://localhost:8080/"
    },
    "id": "lby6bVvOGMQh",
    "outputId": "4328eb81-f614-4147-c3a1-5b3b834af18f"
   },
   "outputs": [
    {
     "name": "stdout",
     "output_type": "stream",
     "text": [
      "# of zero ratio:31\n",
      "# of cases after remove zero: (43, 7)\n"
     ]
    }
   ],
   "source": [
    "# remove zero cases (no negative non-target tws)\n",
    "print(f'# of zero ratio:{(src.neg_to_pos_aftertarget==0).sum()}')\n",
    "src = src.loc[src.neg_to_pos_aftertarget !=0,]\n",
    "print(f\"# of cases after remove zero: {src.shape}\")"
   ]
  },
  {
   "cell_type": "markdown",
   "metadata": {},
   "source": [
    "### consecutive cases"
   ]
  },
  {
   "cell_type": "code",
   "execution_count": 11,
   "metadata": {},
   "outputs": [
    {
     "name": "stdout",
     "output_type": "stream",
     "text": [
      "# of consecutive cases:22\n"
     ]
    }
   ],
   "source": [
    "print(f'# of consecutive cases:{src.loc[src.count_of_rows_after == 0,].shape[0]}')"
   ]
  },
  {
   "cell_type": "code",
   "execution_count": 12,
   "metadata": {},
   "outputs": [
    {
     "data": {
      "text/plain": [
       "Negative    0.227273\n",
       "Positive    0.000000\n",
       "Neutral     0.772727\n",
       "Name: sentiment_target, dtype: float64"
      ]
     },
     "execution_count": 12,
     "metadata": {},
     "output_type": "execute_result"
    }
   ],
   "source": [
    "src.loc[src.count_of_rows_after == 0,'sentiment_target'].value_counts(normalize=True,sort=False)"
   ]
  },
  {
   "cell_type": "code",
   "execution_count": 13,
   "metadata": {
    "colab": {
     "base_uri": "https://localhost:8080/",
     "height": 206
    },
    "id": "JPLHD2u8S5Vs",
    "outputId": "869fe9f7-ea64-4fec-84c8-f320d01e5add"
   },
   "outputs": [],
   "source": [
    "# remove consecutive targeting cases (no non-targeting tws between two targeting tweet.)\n",
    "src = src.loc[src.count_of_rows_after != 0,]\n",
    "print(f\"# of cases after remove consecutive: {src.shape}\")"
   ]
  },
  {
   "cell_type": "code",
   "execution_count": 14,
   "metadata": {
    "colab": {
     "base_uri": "https://localhost:8080/"
    },
    "id": "4F7W7UCPVVW2",
    "outputId": "086bbaf1-d899-40f7-ab74-ff7d15b6db5d"
   },
   "outputs": [
    {
     "data": {
      "text/plain": [
       "sentiment_beforetarget     3\n",
       "neg_to_pos_beforetarget    3\n",
       "count_of_rows_bef          0\n",
       "sentiment_target           0\n",
       "sentiment_aftertarget      0\n",
       "neg_to_pos_aftertarget     0\n",
       "count_of_rows_after        0\n",
       "dtype: int64"
      ]
     },
     "execution_count": 14,
     "metadata": {},
     "output_type": "execute_result"
    }
   ],
   "source": [
    "src.isna().sum()"
   ]
  },
  {
   "cell_type": "markdown",
   "metadata": {},
   "source": [
    "### Analyzed data"
   ]
  },
  {
   "cell_type": "code",
   "execution_count": 15,
   "metadata": {},
   "outputs": [
    {
     "data": {
      "text/plain": [
       "Negative    0.666667\n",
       "Positive    0.000000\n",
       "Neutral     0.333333\n",
       "Name: sentiment_target, dtype: float64"
      ]
     },
     "execution_count": 15,
     "metadata": {},
     "output_type": "execute_result"
    }
   ],
   "source": [
    "src.sentiment_target.value_counts(normalize=True,sort=False)"
   ]
  },
  {
   "cell_type": "code",
   "execution_count": 16,
   "metadata": {
    "colab": {
     "base_uri": "https://localhost:8080/"
    },
    "id": "cIW9RcSW6MJj",
    "outputId": "0c95fb15-9dcf-4348-def9-3a9796b7e9a9"
   },
   "outputs": [],
   "source": [
    "# maximum value excluding infinite\n",
    "# maxratio = np.nanmax(src.neg_to_pos_aftertarget[src.neg_to_pos_aftertarget != np.inf])\n",
    "# print(f\"max n/p ratio excluding infinity among non-targeting source tws:{maxratio}\")"
   ]
  },
  {
   "cell_type": "code",
   "execution_count": 17,
   "metadata": {
    "id": "DR_tTHsZBSOB"
   },
   "outputs": [],
   "source": [
    "# src.loc[src.neg_to_pos_aftertarget == np.inf,'neg_to_pos_aftertarget'] = maxratio*1.1"
   ]
  },
  {
   "cell_type": "markdown",
   "metadata": {},
   "source": [
    "### other processing"
   ]
  },
  {
   "cell_type": "code",
   "execution_count": 18,
   "metadata": {},
   "outputs": [
    {
     "data": {
      "text/html": [
       "<div>\n",
       "<style scoped>\n",
       "    .dataframe tbody tr th:only-of-type {\n",
       "        vertical-align: middle;\n",
       "    }\n",
       "\n",
       "    .dataframe tbody tr th {\n",
       "        vertical-align: top;\n",
       "    }\n",
       "\n",
       "    .dataframe thead th {\n",
       "        text-align: right;\n",
       "    }\n",
       "</style>\n",
       "<table border=\"1\" class=\"dataframe\">\n",
       "  <thead>\n",
       "    <tr style=\"text-align: right;\">\n",
       "      <th></th>\n",
       "      <th>sentiment_target</th>\n",
       "      <th>sentiment_aftertarget</th>\n",
       "      <th>neg_to_pos_aftertarget</th>\n",
       "      <th>count_of_rows_after</th>\n",
       "    </tr>\n",
       "    <tr>\n",
       "      <th>Column1</th>\n",
       "      <th></th>\n",
       "      <th></th>\n",
       "      <th></th>\n",
       "      <th></th>\n",
       "    </tr>\n",
       "  </thead>\n",
       "  <tbody>\n",
       "    <tr>\n",
       "      <th>15</th>\n",
       "      <td>Neutral</td>\n",
       "      <td>{'Negative': 0.33, 'Neutral': 0.33, 'Positive'...</td>\n",
       "      <td>1.00</td>\n",
       "      <td>3</td>\n",
       "    </tr>\n",
       "    <tr>\n",
       "      <th>16</th>\n",
       "      <td>Negative</td>\n",
       "      <td>{'Negative': 0.25, 'Neutral': 0.5, 'Positive':...</td>\n",
       "      <td>1.00</td>\n",
       "      <td>4</td>\n",
       "    </tr>\n",
       "    <tr>\n",
       "      <th>45</th>\n",
       "      <td>Neutral</td>\n",
       "      <td>{'Positive': 0.2, 'Negative': 0.2, 'Neutral': ...</td>\n",
       "      <td>1.00</td>\n",
       "      <td>5</td>\n",
       "    </tr>\n",
       "    <tr>\n",
       "      <th>47</th>\n",
       "      <td>Neutral</td>\n",
       "      <td>{'Neutral': 0.69, 'Negative': 0.12, 'Positive'...</td>\n",
       "      <td>0.67</td>\n",
       "      <td>16</td>\n",
       "    </tr>\n",
       "    <tr>\n",
       "      <th>49</th>\n",
       "      <td>Neutral</td>\n",
       "      <td>{'Positive': 0.33, 'Negative': 0.33, 'Neutral'...</td>\n",
       "      <td>1.00</td>\n",
       "      <td>3</td>\n",
       "    </tr>\n",
       "  </tbody>\n",
       "</table>\n",
       "</div>"
      ],
      "text/plain": [
       "        sentiment_target                              sentiment_aftertarget  \\\n",
       "Column1                                                                       \n",
       "15               Neutral  {'Negative': 0.33, 'Neutral': 0.33, 'Positive'...   \n",
       "16              Negative  {'Negative': 0.25, 'Neutral': 0.5, 'Positive':...   \n",
       "45               Neutral  {'Positive': 0.2, 'Negative': 0.2, 'Neutral': ...   \n",
       "47               Neutral  {'Neutral': 0.69, 'Negative': 0.12, 'Positive'...   \n",
       "49               Neutral  {'Positive': 0.33, 'Negative': 0.33, 'Neutral'...   \n",
       "\n",
       "         neg_to_pos_aftertarget  count_of_rows_after  \n",
       "Column1                                               \n",
       "15                         1.00                    3  \n",
       "16                         1.00                    4  \n",
       "45                         1.00                    5  \n",
       "47                         0.67                   16  \n",
       "49                         1.00                    3  "
      ]
     },
     "execution_count": 18,
     "metadata": {},
     "output_type": "execute_result"
    }
   ],
   "source": [
    "# remove \"before\"-related columns \n",
    "src = src.iloc[:,3:]\n",
    "src.head()"
   ]
  },
  {
   "cell_type": "code",
   "execution_count": 19,
   "metadata": {
    "id": "5CY9VpUiVpw9"
   },
   "outputs": [],
   "source": [
    "src.reset_index(drop=True,inplace=True)"
   ]
  },
  {
   "cell_type": "markdown",
   "metadata": {
    "id": "KWSLlauU0HAE"
   },
   "source": [
    "## Reply data"
   ]
  },
  {
   "cell_type": "code",
   "execution_count": 34,
   "metadata": {
    "colab": {
     "base_uri": "https://localhost:8080/",
     "height": 592
    },
    "id": "xWAP6d3j0MDa",
    "outputId": "0df45fe2-7c9e-4312-b4f3-2cabcafea76c"
   },
   "outputs": [
    {
     "data": {
      "text/html": [
       "<div>\n",
       "<style scoped>\n",
       "    .dataframe tbody tr th:only-of-type {\n",
       "        vertical-align: middle;\n",
       "    }\n",
       "\n",
       "    .dataframe tbody tr th {\n",
       "        vertical-align: top;\n",
       "    }\n",
       "\n",
       "    .dataframe thead th {\n",
       "        text-align: right;\n",
       "    }\n",
       "</style>\n",
       "<table border=\"1\" class=\"dataframe\">\n",
       "  <thead>\n",
       "    <tr style=\"text-align: right;\">\n",
       "      <th></th>\n",
       "      <th>sentiment_beforetarget</th>\n",
       "      <th>neg_to_pos_beforetarget</th>\n",
       "      <th>count_of_rows_bef</th>\n",
       "      <th>sentiment_target</th>\n",
       "      <th>sentiment_aftertarget</th>\n",
       "      <th>neg_to_pos_aftertarget</th>\n",
       "      <th>count_of_rows_after</th>\n",
       "    </tr>\n",
       "  </thead>\n",
       "  <tbody>\n",
       "    <tr>\n",
       "      <th>0</th>\n",
       "      <td>{'Neutral': 1.0}</td>\n",
       "      <td>0.0</td>\n",
       "      <td>3</td>\n",
       "      <td>Positive</td>\n",
       "      <td>{'Neutral': 0.67, 'Negative': 0.33}</td>\n",
       "      <td>inf</td>\n",
       "      <td>3</td>\n",
       "    </tr>\n",
       "    <tr>\n",
       "      <th>1</th>\n",
       "      <td>{'Neutral': 0.67, 'Negative': 0.33}</td>\n",
       "      <td>inf</td>\n",
       "      <td>3</td>\n",
       "      <td>Neutral</td>\n",
       "      <td>NaN</td>\n",
       "      <td>NaN</td>\n",
       "      <td>0</td>\n",
       "    </tr>\n",
       "    <tr>\n",
       "      <th>2</th>\n",
       "      <td>NaN</td>\n",
       "      <td>NaN</td>\n",
       "      <td>0</td>\n",
       "      <td>Neutral</td>\n",
       "      <td>{'Negative': 1.0}</td>\n",
       "      <td>inf</td>\n",
       "      <td>1</td>\n",
       "    </tr>\n",
       "    <tr>\n",
       "      <th>3</th>\n",
       "      <td>{'Negative': 1.0}</td>\n",
       "      <td>inf</td>\n",
       "      <td>1</td>\n",
       "      <td>Positive</td>\n",
       "      <td>{'Neutral': 1.0}</td>\n",
       "      <td>0.0</td>\n",
       "      <td>1</td>\n",
       "    </tr>\n",
       "    <tr>\n",
       "      <th>4</th>\n",
       "      <td>{'Neutral': 1.0}</td>\n",
       "      <td>0.0</td>\n",
       "      <td>1</td>\n",
       "      <td>Negative</td>\n",
       "      <td>{'Positive': 0.33, 'Negative': 0.33, 'Neutral'...</td>\n",
       "      <td>1.0</td>\n",
       "      <td>9</td>\n",
       "    </tr>\n",
       "    <tr>\n",
       "      <th>...</th>\n",
       "      <td>...</td>\n",
       "      <td>...</td>\n",
       "      <td>...</td>\n",
       "      <td>...</td>\n",
       "      <td>...</td>\n",
       "      <td>...</td>\n",
       "      <td>...</td>\n",
       "    </tr>\n",
       "    <tr>\n",
       "      <th>1938</th>\n",
       "      <td>{'Neutral': 0.5, 'Negative': 0.5}</td>\n",
       "      <td>inf</td>\n",
       "      <td>2</td>\n",
       "      <td>Neutral</td>\n",
       "      <td>NaN</td>\n",
       "      <td>NaN</td>\n",
       "      <td>0</td>\n",
       "    </tr>\n",
       "    <tr>\n",
       "      <th>1939</th>\n",
       "      <td>NaN</td>\n",
       "      <td>NaN</td>\n",
       "      <td>0</td>\n",
       "      <td>Negative</td>\n",
       "      <td>NaN</td>\n",
       "      <td>NaN</td>\n",
       "      <td>0</td>\n",
       "    </tr>\n",
       "    <tr>\n",
       "      <th>1940</th>\n",
       "      <td>NaN</td>\n",
       "      <td>NaN</td>\n",
       "      <td>0</td>\n",
       "      <td>Negative</td>\n",
       "      <td>{'Positive': 0.25, 'Negative': 0.75}</td>\n",
       "      <td>3.0</td>\n",
       "      <td>4</td>\n",
       "    </tr>\n",
       "    <tr>\n",
       "      <th>1941</th>\n",
       "      <td>{'Positive': 0.25, 'Negative': 0.75}</td>\n",
       "      <td>3.0</td>\n",
       "      <td>4</td>\n",
       "      <td>Negative</td>\n",
       "      <td>NaN</td>\n",
       "      <td>NaN</td>\n",
       "      <td>0</td>\n",
       "    </tr>\n",
       "    <tr>\n",
       "      <th>1942</th>\n",
       "      <td>NaN</td>\n",
       "      <td>NaN</td>\n",
       "      <td>0</td>\n",
       "      <td>Positive</td>\n",
       "      <td>{'Positive': 0.5, 'Neutral': 0.5}</td>\n",
       "      <td>0.0</td>\n",
       "      <td>2</td>\n",
       "    </tr>\n",
       "  </tbody>\n",
       "</table>\n",
       "<p>1943 rows × 7 columns</p>\n",
       "</div>"
      ],
      "text/plain": [
       "                    sentiment_beforetarget  neg_to_pos_beforetarget  \\\n",
       "0                         {'Neutral': 1.0}                      0.0   \n",
       "1      {'Neutral': 0.67, 'Negative': 0.33}                      inf   \n",
       "2                                      NaN                      NaN   \n",
       "3                        {'Negative': 1.0}                      inf   \n",
       "4                         {'Neutral': 1.0}                      0.0   \n",
       "...                                    ...                      ...   \n",
       "1938     {'Neutral': 0.5, 'Negative': 0.5}                      inf   \n",
       "1939                                   NaN                      NaN   \n",
       "1940                                   NaN                      NaN   \n",
       "1941  {'Positive': 0.25, 'Negative': 0.75}                      3.0   \n",
       "1942                                   NaN                      NaN   \n",
       "\n",
       "      count_of_rows_bef sentiment_target  \\\n",
       "0                     3         Positive   \n",
       "1                     3          Neutral   \n",
       "2                     0          Neutral   \n",
       "3                     1         Positive   \n",
       "4                     1         Negative   \n",
       "...                 ...              ...   \n",
       "1938                  2          Neutral   \n",
       "1939                  0         Negative   \n",
       "1940                  0         Negative   \n",
       "1941                  4         Negative   \n",
       "1942                  0         Positive   \n",
       "\n",
       "                                  sentiment_aftertarget  \\\n",
       "0                   {'Neutral': 0.67, 'Negative': 0.33}   \n",
       "1                                                   NaN   \n",
       "2                                     {'Negative': 1.0}   \n",
       "3                                      {'Neutral': 1.0}   \n",
       "4     {'Positive': 0.33, 'Negative': 0.33, 'Neutral'...   \n",
       "...                                                 ...   \n",
       "1938                                                NaN   \n",
       "1939                                                NaN   \n",
       "1940               {'Positive': 0.25, 'Negative': 0.75}   \n",
       "1941                                                NaN   \n",
       "1942                  {'Positive': 0.5, 'Neutral': 0.5}   \n",
       "\n",
       "      neg_to_pos_aftertarget  count_of_rows_after  \n",
       "0                        inf                    3  \n",
       "1                        NaN                    0  \n",
       "2                        inf                    1  \n",
       "3                        0.0                    1  \n",
       "4                        1.0                    9  \n",
       "...                      ...                  ...  \n",
       "1938                     NaN                    0  \n",
       "1939                     NaN                    0  \n",
       "1940                     3.0                    4  \n",
       "1941                     NaN                    0  \n",
       "1942                     0.0                    2  \n",
       "\n",
       "[1943 rows x 7 columns]"
      ]
     },
     "execution_count": 34,
     "metadata": {},
     "output_type": "execute_result"
    }
   ],
   "source": [
    "reply = pd.read_csv(r'sydneysiege\\18 targetanalysis\\temporalanalysis\\reply_target_sentiment.csv',encoding = 'utf-8', header = 0)\n",
    "reply"
   ]
  },
  {
   "cell_type": "code",
   "execution_count": 35,
   "metadata": {},
   "outputs": [],
   "source": [
    "reply.sentiment_target = pd.Categorical(reply.sentiment_target, categories=['Negative','Positive','Neutral'])"
   ]
  },
  {
   "cell_type": "code",
   "execution_count": 36,
   "metadata": {},
   "outputs": [
    {
     "name": "stdout",
     "output_type": "stream",
     "text": [
      "Negative    928\n",
      "Positive    565\n",
      "Neutral     450\n",
      "Name: sentiment_target, dtype: int64\n"
     ]
    },
    {
     "data": {
      "text/plain": [
       "Negative    0.477612\n",
       "Positive    0.290787\n",
       "Neutral     0.231601\n",
       "Name: sentiment_target, dtype: float64"
      ]
     },
     "execution_count": 36,
     "metadata": {},
     "output_type": "execute_result"
    }
   ],
   "source": [
    "print(reply['sentiment_target'].value_counts(sort = False))\n",
    "reply['sentiment_target'].value_counts(normalize=True,sort=False)"
   ]
  },
  {
   "cell_type": "markdown",
   "metadata": {
    "id": "UnivjKONI0Ak"
   },
   "source": [
    "### inf ratio"
   ]
  },
  {
   "cell_type": "code",
   "execution_count": 37,
   "metadata": {
    "colab": {
     "base_uri": "https://localhost:8080/",
     "height": 424
    },
    "id": "DsJOIeC3AlP3",
    "outputId": "4b0e84da-77f8-4fe7-f77e-898bcb3f1737"
   },
   "outputs": [
    {
     "name": "stdout",
     "output_type": "stream",
     "text": [
      "# of inf ratio:319\n"
     ]
    },
    {
     "data": {
      "text/html": [
       "<div>\n",
       "<style scoped>\n",
       "    .dataframe tbody tr th:only-of-type {\n",
       "        vertical-align: middle;\n",
       "    }\n",
       "\n",
       "    .dataframe tbody tr th {\n",
       "        vertical-align: top;\n",
       "    }\n",
       "\n",
       "    .dataframe thead th {\n",
       "        text-align: right;\n",
       "    }\n",
       "</style>\n",
       "<table border=\"1\" class=\"dataframe\">\n",
       "  <thead>\n",
       "    <tr style=\"text-align: right;\">\n",
       "      <th></th>\n",
       "      <th>sentiment_beforetarget</th>\n",
       "      <th>neg_to_pos_beforetarget</th>\n",
       "      <th>count_of_rows_bef</th>\n",
       "      <th>sentiment_target</th>\n",
       "      <th>sentiment_aftertarget</th>\n",
       "      <th>neg_to_pos_aftertarget</th>\n",
       "      <th>count_of_rows_after</th>\n",
       "    </tr>\n",
       "  </thead>\n",
       "  <tbody>\n",
       "    <tr>\n",
       "      <th>0</th>\n",
       "      <td>{'Neutral': 1.0}</td>\n",
       "      <td>0.0</td>\n",
       "      <td>3</td>\n",
       "      <td>Positive</td>\n",
       "      <td>{'Neutral': 0.67, 'Negative': 0.33}</td>\n",
       "      <td>inf</td>\n",
       "      <td>3</td>\n",
       "    </tr>\n",
       "    <tr>\n",
       "      <th>2</th>\n",
       "      <td>NaN</td>\n",
       "      <td>NaN</td>\n",
       "      <td>0</td>\n",
       "      <td>Neutral</td>\n",
       "      <td>{'Negative': 1.0}</td>\n",
       "      <td>inf</td>\n",
       "      <td>1</td>\n",
       "    </tr>\n",
       "    <tr>\n",
       "      <th>10</th>\n",
       "      <td>{'Neutral': 0.43, 'Positive': 0.29, 'Negative'...</td>\n",
       "      <td>1.0</td>\n",
       "      <td>7</td>\n",
       "      <td>Neutral</td>\n",
       "      <td>{'Negative': 0.33, 'Neutral': 0.67}</td>\n",
       "      <td>inf</td>\n",
       "      <td>3</td>\n",
       "    </tr>\n",
       "    <tr>\n",
       "      <th>13</th>\n",
       "      <td>{'Neutral': 0.5, 'Positive': 0.5}</td>\n",
       "      <td>0.0</td>\n",
       "      <td>4</td>\n",
       "      <td>Neutral</td>\n",
       "      <td>{'Negative': 1.0}</td>\n",
       "      <td>inf</td>\n",
       "      <td>1</td>\n",
       "    </tr>\n",
       "    <tr>\n",
       "      <th>15</th>\n",
       "      <td>NaN</td>\n",
       "      <td>NaN</td>\n",
       "      <td>0</td>\n",
       "      <td>Neutral</td>\n",
       "      <td>{'Negative': 0.5, 'Neutral': 0.5}</td>\n",
       "      <td>inf</td>\n",
       "      <td>2</td>\n",
       "    </tr>\n",
       "    <tr>\n",
       "      <th>...</th>\n",
       "      <td>...</td>\n",
       "      <td>...</td>\n",
       "      <td>...</td>\n",
       "      <td>...</td>\n",
       "      <td>...</td>\n",
       "      <td>...</td>\n",
       "      <td>...</td>\n",
       "    </tr>\n",
       "    <tr>\n",
       "      <th>1896</th>\n",
       "      <td>NaN</td>\n",
       "      <td>NaN</td>\n",
       "      <td>0</td>\n",
       "      <td>Positive</td>\n",
       "      <td>{'Negative': 1.0}</td>\n",
       "      <td>inf</td>\n",
       "      <td>1</td>\n",
       "    </tr>\n",
       "    <tr>\n",
       "      <th>1914</th>\n",
       "      <td>NaN</td>\n",
       "      <td>NaN</td>\n",
       "      <td>0</td>\n",
       "      <td>Neutral</td>\n",
       "      <td>{'Negative': 1.0}</td>\n",
       "      <td>inf</td>\n",
       "      <td>1</td>\n",
       "    </tr>\n",
       "    <tr>\n",
       "      <th>1924</th>\n",
       "      <td>NaN</td>\n",
       "      <td>NaN</td>\n",
       "      <td>0</td>\n",
       "      <td>Negative</td>\n",
       "      <td>{'Neutral': 0.5, 'Negative': 0.5}</td>\n",
       "      <td>inf</td>\n",
       "      <td>2</td>\n",
       "    </tr>\n",
       "    <tr>\n",
       "      <th>1930</th>\n",
       "      <td>{'Negative': 0.5, 'Positive': 0.25, 'Neutral':...</td>\n",
       "      <td>2.0</td>\n",
       "      <td>4</td>\n",
       "      <td>Negative</td>\n",
       "      <td>{'Negative': 1.0}</td>\n",
       "      <td>inf</td>\n",
       "      <td>2</td>\n",
       "    </tr>\n",
       "    <tr>\n",
       "      <th>1937</th>\n",
       "      <td>NaN</td>\n",
       "      <td>NaN</td>\n",
       "      <td>0</td>\n",
       "      <td>Neutral</td>\n",
       "      <td>{'Neutral': 0.5, 'Negative': 0.5}</td>\n",
       "      <td>inf</td>\n",
       "      <td>2</td>\n",
       "    </tr>\n",
       "  </tbody>\n",
       "</table>\n",
       "<p>319 rows × 7 columns</p>\n",
       "</div>"
      ],
      "text/plain": [
       "                                 sentiment_beforetarget  \\\n",
       "0                                      {'Neutral': 1.0}   \n",
       "2                                                   NaN   \n",
       "10    {'Neutral': 0.43, 'Positive': 0.29, 'Negative'...   \n",
       "13                    {'Neutral': 0.5, 'Positive': 0.5}   \n",
       "15                                                  NaN   \n",
       "...                                                 ...   \n",
       "1896                                                NaN   \n",
       "1914                                                NaN   \n",
       "1924                                                NaN   \n",
       "1930  {'Negative': 0.5, 'Positive': 0.25, 'Neutral':...   \n",
       "1937                                                NaN   \n",
       "\n",
       "      neg_to_pos_beforetarget  count_of_rows_bef sentiment_target  \\\n",
       "0                         0.0                  3         Positive   \n",
       "2                         NaN                  0          Neutral   \n",
       "10                        1.0                  7          Neutral   \n",
       "13                        0.0                  4          Neutral   \n",
       "15                        NaN                  0          Neutral   \n",
       "...                       ...                ...              ...   \n",
       "1896                      NaN                  0         Positive   \n",
       "1914                      NaN                  0          Neutral   \n",
       "1924                      NaN                  0         Negative   \n",
       "1930                      2.0                  4         Negative   \n",
       "1937                      NaN                  0          Neutral   \n",
       "\n",
       "                    sentiment_aftertarget  neg_to_pos_aftertarget  \\\n",
       "0     {'Neutral': 0.67, 'Negative': 0.33}                     inf   \n",
       "2                       {'Negative': 1.0}                     inf   \n",
       "10    {'Negative': 0.33, 'Neutral': 0.67}                     inf   \n",
       "13                      {'Negative': 1.0}                     inf   \n",
       "15      {'Negative': 0.5, 'Neutral': 0.5}                     inf   \n",
       "...                                   ...                     ...   \n",
       "1896                    {'Negative': 1.0}                     inf   \n",
       "1914                    {'Negative': 1.0}                     inf   \n",
       "1924    {'Neutral': 0.5, 'Negative': 0.5}                     inf   \n",
       "1930                    {'Negative': 1.0}                     inf   \n",
       "1937    {'Neutral': 0.5, 'Negative': 0.5}                     inf   \n",
       "\n",
       "      count_of_rows_after  \n",
       "0                       3  \n",
       "2                       1  \n",
       "10                      3  \n",
       "13                      1  \n",
       "15                      2  \n",
       "...                   ...  \n",
       "1896                    1  \n",
       "1914                    1  \n",
       "1924                    2  \n",
       "1930                    2  \n",
       "1937                    2  \n",
       "\n",
       "[319 rows x 7 columns]"
      ]
     },
     "execution_count": 37,
     "metadata": {},
     "output_type": "execute_result"
    }
   ],
   "source": [
    "# look at inf cases (no positive non-target tws)\n",
    "print(f'# of inf ratio:{np.isinf(reply.neg_to_pos_aftertarget).sum()}')\n",
    "reply.loc[reply.neg_to_pos_aftertarget == np.inf,] "
   ]
  },
  {
   "cell_type": "code",
   "execution_count": 38,
   "metadata": {},
   "outputs": [
    {
     "data": {
      "text/plain": [
       "Negative    0.470219\n",
       "Positive    0.288401\n",
       "Neutral     0.241379\n",
       "Name: sentiment_target, dtype: float64"
      ]
     },
     "execution_count": 38,
     "metadata": {},
     "output_type": "execute_result"
    }
   ],
   "source": [
    "reply.loc[reply.neg_to_pos_aftertarget == np.inf,'sentiment_target'].value_counts(normalize=True,sort=False)"
   ]
  },
  {
   "cell_type": "code",
   "execution_count": 39,
   "metadata": {
    "colab": {
     "base_uri": "https://localhost:8080/"
    },
    "id": "XsLpCYqWjr9I",
    "outputId": "a80f736b-715e-4489-8634-2bc327dac6ad"
   },
   "outputs": [
    {
     "name": "stdout",
     "output_type": "stream",
     "text": [
      "# of cases after remove infinity: (1624, 7)\n"
     ]
    }
   ],
   "source": [
    "# remove inf cases (no positive non-target tws)\n",
    "reply = reply.loc[reply.neg_to_pos_aftertarget != np.inf,] \n",
    "print(f\"# of cases after remove infinity: {reply.shape}\")"
   ]
  },
  {
   "cell_type": "markdown",
   "metadata": {
    "id": "bH3NdsdBJIil"
   },
   "source": [
    "### zero ratio"
   ]
  },
  {
   "cell_type": "code",
   "execution_count": 40,
   "metadata": {
    "colab": {
     "base_uri": "https://localhost:8080/"
    },
    "id": "jApz9NQLJDpV",
    "outputId": "f8851fc2-59a3-47aa-a8c8-0cb2974cd436"
   },
   "outputs": [
    {
     "data": {
      "text/html": [
       "<div>\n",
       "<style scoped>\n",
       "    .dataframe tbody tr th:only-of-type {\n",
       "        vertical-align: middle;\n",
       "    }\n",
       "\n",
       "    .dataframe tbody tr th {\n",
       "        vertical-align: top;\n",
       "    }\n",
       "\n",
       "    .dataframe thead th {\n",
       "        text-align: right;\n",
       "    }\n",
       "</style>\n",
       "<table border=\"1\" class=\"dataframe\">\n",
       "  <thead>\n",
       "    <tr style=\"text-align: right;\">\n",
       "      <th></th>\n",
       "      <th>sentiment_beforetarget</th>\n",
       "      <th>neg_to_pos_beforetarget</th>\n",
       "      <th>count_of_rows_bef</th>\n",
       "      <th>sentiment_target</th>\n",
       "      <th>sentiment_aftertarget</th>\n",
       "      <th>neg_to_pos_aftertarget</th>\n",
       "      <th>count_of_rows_after</th>\n",
       "    </tr>\n",
       "  </thead>\n",
       "  <tbody>\n",
       "    <tr>\n",
       "      <th>3</th>\n",
       "      <td>{'Negative': 1.0}</td>\n",
       "      <td>inf</td>\n",
       "      <td>1</td>\n",
       "      <td>Positive</td>\n",
       "      <td>{'Neutral': 1.0}</td>\n",
       "      <td>0.0</td>\n",
       "      <td>1</td>\n",
       "    </tr>\n",
       "    <tr>\n",
       "      <th>7</th>\n",
       "      <td>NaN</td>\n",
       "      <td>NaN</td>\n",
       "      <td>0</td>\n",
       "      <td>Negative</td>\n",
       "      <td>{'Positive': 1.0}</td>\n",
       "      <td>0.0</td>\n",
       "      <td>1</td>\n",
       "    </tr>\n",
       "    <tr>\n",
       "      <th>12</th>\n",
       "      <td>{'Neutral': 0.38, 'Negative': 0.38, 'Positive'...</td>\n",
       "      <td>1.5</td>\n",
       "      <td>8</td>\n",
       "      <td>Positive</td>\n",
       "      <td>{'Neutral': 0.5, 'Positive': 0.5}</td>\n",
       "      <td>0.0</td>\n",
       "      <td>4</td>\n",
       "    </tr>\n",
       "    <tr>\n",
       "      <th>26</th>\n",
       "      <td>{'Negative': 0.67, 'Positive': 0.33}</td>\n",
       "      <td>2.0</td>\n",
       "      <td>3</td>\n",
       "      <td>Negative</td>\n",
       "      <td>{'Neutral': 1.0}</td>\n",
       "      <td>0.0</td>\n",
       "      <td>1</td>\n",
       "    </tr>\n",
       "    <tr>\n",
       "      <th>27</th>\n",
       "      <td>{'Neutral': 1.0}</td>\n",
       "      <td>0.0</td>\n",
       "      <td>1</td>\n",
       "      <td>Negative</td>\n",
       "      <td>{'Positive': 1.0}</td>\n",
       "      <td>0.0</td>\n",
       "      <td>1</td>\n",
       "    </tr>\n",
       "    <tr>\n",
       "      <th>...</th>\n",
       "      <td>...</td>\n",
       "      <td>...</td>\n",
       "      <td>...</td>\n",
       "      <td>...</td>\n",
       "      <td>...</td>\n",
       "      <td>...</td>\n",
       "      <td>...</td>\n",
       "    </tr>\n",
       "    <tr>\n",
       "      <th>1919</th>\n",
       "      <td>NaN</td>\n",
       "      <td>NaN</td>\n",
       "      <td>0</td>\n",
       "      <td>Positive</td>\n",
       "      <td>{'Neutral': 0.5, 'Positive': 0.5}</td>\n",
       "      <td>0.0</td>\n",
       "      <td>2</td>\n",
       "    </tr>\n",
       "    <tr>\n",
       "      <th>1920</th>\n",
       "      <td>{'Neutral': 0.5, 'Positive': 0.5}</td>\n",
       "      <td>0.0</td>\n",
       "      <td>2</td>\n",
       "      <td>Negative</td>\n",
       "      <td>{'Positive': 1.0}</td>\n",
       "      <td>0.0</td>\n",
       "      <td>1</td>\n",
       "    </tr>\n",
       "    <tr>\n",
       "      <th>1928</th>\n",
       "      <td>{'Negative': 0.14, 'Positive': 0.14, 'Neutral'...</td>\n",
       "      <td>1.0</td>\n",
       "      <td>7</td>\n",
       "      <td>Negative</td>\n",
       "      <td>{'Positive': 1.0}</td>\n",
       "      <td>0.0</td>\n",
       "      <td>2</td>\n",
       "    </tr>\n",
       "    <tr>\n",
       "      <th>1931</th>\n",
       "      <td>{'Negative': 1.0}</td>\n",
       "      <td>inf</td>\n",
       "      <td>2</td>\n",
       "      <td>Positive</td>\n",
       "      <td>{'Positive': 1.0}</td>\n",
       "      <td>0.0</td>\n",
       "      <td>1</td>\n",
       "    </tr>\n",
       "    <tr>\n",
       "      <th>1942</th>\n",
       "      <td>NaN</td>\n",
       "      <td>NaN</td>\n",
       "      <td>0</td>\n",
       "      <td>Positive</td>\n",
       "      <td>{'Positive': 0.5, 'Neutral': 0.5}</td>\n",
       "      <td>0.0</td>\n",
       "      <td>2</td>\n",
       "    </tr>\n",
       "  </tbody>\n",
       "</table>\n",
       "<p>509 rows × 7 columns</p>\n",
       "</div>"
      ],
      "text/plain": [
       "                                 sentiment_beforetarget  \\\n",
       "3                                     {'Negative': 1.0}   \n",
       "7                                                   NaN   \n",
       "12    {'Neutral': 0.38, 'Negative': 0.38, 'Positive'...   \n",
       "26                 {'Negative': 0.67, 'Positive': 0.33}   \n",
       "27                                     {'Neutral': 1.0}   \n",
       "...                                                 ...   \n",
       "1919                                                NaN   \n",
       "1920                  {'Neutral': 0.5, 'Positive': 0.5}   \n",
       "1928  {'Negative': 0.14, 'Positive': 0.14, 'Neutral'...   \n",
       "1931                                  {'Negative': 1.0}   \n",
       "1942                                                NaN   \n",
       "\n",
       "      neg_to_pos_beforetarget  count_of_rows_bef sentiment_target  \\\n",
       "3                         inf                  1         Positive   \n",
       "7                         NaN                  0         Negative   \n",
       "12                        1.5                  8         Positive   \n",
       "26                        2.0                  3         Negative   \n",
       "27                        0.0                  1         Negative   \n",
       "...                       ...                ...              ...   \n",
       "1919                      NaN                  0         Positive   \n",
       "1920                      0.0                  2         Negative   \n",
       "1928                      1.0                  7         Negative   \n",
       "1931                      inf                  2         Positive   \n",
       "1942                      NaN                  0         Positive   \n",
       "\n",
       "                  sentiment_aftertarget  neg_to_pos_aftertarget  \\\n",
       "3                      {'Neutral': 1.0}                     0.0   \n",
       "7                     {'Positive': 1.0}                     0.0   \n",
       "12    {'Neutral': 0.5, 'Positive': 0.5}                     0.0   \n",
       "26                     {'Neutral': 1.0}                     0.0   \n",
       "27                    {'Positive': 1.0}                     0.0   \n",
       "...                                 ...                     ...   \n",
       "1919  {'Neutral': 0.5, 'Positive': 0.5}                     0.0   \n",
       "1920                  {'Positive': 1.0}                     0.0   \n",
       "1928                  {'Positive': 1.0}                     0.0   \n",
       "1931                  {'Positive': 1.0}                     0.0   \n",
       "1942  {'Positive': 0.5, 'Neutral': 0.5}                     0.0   \n",
       "\n",
       "      count_of_rows_after  \n",
       "3                       1  \n",
       "7                       1  \n",
       "12                      4  \n",
       "26                      1  \n",
       "27                      1  \n",
       "...                   ...  \n",
       "1919                    2  \n",
       "1920                    1  \n",
       "1928                    2  \n",
       "1931                    1  \n",
       "1942                    2  \n",
       "\n",
       "[509 rows x 7 columns]"
      ]
     },
     "execution_count": 40,
     "metadata": {},
     "output_type": "execute_result"
    }
   ],
   "source": [
    "reply.loc[reply.neg_to_pos_aftertarget==0,]"
   ]
  },
  {
   "cell_type": "code",
   "execution_count": 41,
   "metadata": {},
   "outputs": [
    {
     "data": {
      "text/plain": [
       "Negative    0.455796\n",
       "Positive    0.290766\n",
       "Neutral     0.253438\n",
       "Name: sentiment_target, dtype: float64"
      ]
     },
     "execution_count": 41,
     "metadata": {},
     "output_type": "execute_result"
    }
   ],
   "source": [
    "reply.loc[reply.neg_to_pos_aftertarget==0,'sentiment_target'].value_counts(normalize=True,sort=False)"
   ]
  },
  {
   "cell_type": "code",
   "execution_count": 42,
   "metadata": {
    "colab": {
     "base_uri": "https://localhost:8080/"
    },
    "id": "fdo0Pg-6JV3b",
    "outputId": "9aa67b94-201a-414b-ba05-6610a7c45825"
   },
   "outputs": [
    {
     "name": "stdout",
     "output_type": "stream",
     "text": [
      "# of zero ratio:509\n",
      "# of cases after remove zero: (1115, 7)\n"
     ]
    }
   ],
   "source": [
    "# remove zero cases (no negative non-target tws)\n",
    "print(f'# of zero ratio:{(reply.neg_to_pos_aftertarget==0).sum()}')\n",
    "reply = reply.loc[reply.neg_to_pos_aftertarget !=0,]\n",
    "print(f\"# of cases after remove zero: {reply.shape}\")"
   ]
  },
  {
   "cell_type": "markdown",
   "metadata": {},
   "source": [
    "### consecutive cases"
   ]
  },
  {
   "cell_type": "code",
   "execution_count": 43,
   "metadata": {},
   "outputs": [
    {
     "name": "stdout",
     "output_type": "stream",
     "text": [
      "# of consecutive cases:551\n"
     ]
    }
   ],
   "source": [
    "print(f'# of consecutive cases:{reply.loc[reply.count_of_rows_after == 0,].shape[0]}')"
   ]
  },
  {
   "cell_type": "code",
   "execution_count": 44,
   "metadata": {},
   "outputs": [
    {
     "data": {
      "text/plain": [
       "Negative    0.484574\n",
       "Positive    0.295826\n",
       "Neutral     0.219601\n",
       "Name: sentiment_target, dtype: float64"
      ]
     },
     "execution_count": 44,
     "metadata": {},
     "output_type": "execute_result"
    }
   ],
   "source": [
    "reply.loc[reply.count_of_rows_after == 0,'sentiment_target'].value_counts(normalize=True,sort=False)"
   ]
  },
  {
   "cell_type": "code",
   "execution_count": 45,
   "metadata": {
    "colab": {
     "base_uri": "https://localhost:8080/",
     "height": 206
    },
    "id": "ypGU099B_T0T",
    "outputId": "1c01d7ff-2cfa-4cb7-e210-f8138f08d12e"
   },
   "outputs": [
    {
     "name": "stdout",
     "output_type": "stream",
     "text": [
      "# of cases after remove consecutive: (564, 7)\n"
     ]
    }
   ],
   "source": [
    "# remove consecutive targeting cases (no non-targeting tws between two targeting tweet.)\n",
    "reply = reply.loc[reply.count_of_rows_after != 0,]\n",
    "print(f\"# of cases after remove consecutive: {reply.shape}\")"
   ]
  },
  {
   "cell_type": "code",
   "execution_count": 46,
   "metadata": {
    "colab": {
     "base_uri": "https://localhost:8080/"
    },
    "id": "eqSew_CL0me1",
    "outputId": "79e55e7c-8cdb-4c61-f35e-ee40ec104e03"
   },
   "outputs": [
    {
     "data": {
      "text/plain": [
       "sentiment_beforetarget     137\n",
       "neg_to_pos_beforetarget    137\n",
       "count_of_rows_bef            0\n",
       "sentiment_target             0\n",
       "sentiment_aftertarget        0\n",
       "neg_to_pos_aftertarget       0\n",
       "count_of_rows_after          0\n",
       "dtype: int64"
      ]
     },
     "execution_count": 46,
     "metadata": {},
     "output_type": "execute_result"
    }
   ],
   "source": [
    "reply.isna().sum()"
   ]
  },
  {
   "cell_type": "markdown",
   "metadata": {},
   "source": [
    "### Analyzed data"
   ]
  },
  {
   "cell_type": "code",
   "execution_count": 47,
   "metadata": {},
   "outputs": [
    {
     "data": {
      "text/plain": [
       "Negative    0.494681\n",
       "Positive    0.287234\n",
       "Neutral     0.218085\n",
       "Name: sentiment_target, dtype: float64"
      ]
     },
     "execution_count": 47,
     "metadata": {},
     "output_type": "execute_result"
    }
   ],
   "source": [
    "reply.sentiment_target.value_counts(normalize=True,sort=False)"
   ]
  },
  {
   "cell_type": "markdown",
   "metadata": {},
   "source": [
    "### other processing"
   ]
  },
  {
   "cell_type": "code",
   "execution_count": 48,
   "metadata": {},
   "outputs": [
    {
     "data": {
      "text/html": [
       "<div>\n",
       "<style scoped>\n",
       "    .dataframe tbody tr th:only-of-type {\n",
       "        vertical-align: middle;\n",
       "    }\n",
       "\n",
       "    .dataframe tbody tr th {\n",
       "        vertical-align: top;\n",
       "    }\n",
       "\n",
       "    .dataframe thead th {\n",
       "        text-align: right;\n",
       "    }\n",
       "</style>\n",
       "<table border=\"1\" class=\"dataframe\">\n",
       "  <thead>\n",
       "    <tr style=\"text-align: right;\">\n",
       "      <th></th>\n",
       "      <th>sentiment_target</th>\n",
       "      <th>sentiment_aftertarget</th>\n",
       "      <th>neg_to_pos_aftertarget</th>\n",
       "      <th>count_of_rows_after</th>\n",
       "    </tr>\n",
       "  </thead>\n",
       "  <tbody>\n",
       "    <tr>\n",
       "      <th>4</th>\n",
       "      <td>Negative</td>\n",
       "      <td>{'Positive': 0.33, 'Negative': 0.33, 'Neutral'...</td>\n",
       "      <td>1.00</td>\n",
       "      <td>9</td>\n",
       "    </tr>\n",
       "    <tr>\n",
       "      <th>5</th>\n",
       "      <td>Positive</td>\n",
       "      <td>{'Positive': 0.6, 'Negative': 0.2, 'Neutral': ...</td>\n",
       "      <td>0.33</td>\n",
       "      <td>5</td>\n",
       "    </tr>\n",
       "    <tr>\n",
       "      <th>9</th>\n",
       "      <td>Negative</td>\n",
       "      <td>{'Neutral': 0.43, 'Positive': 0.29, 'Negative'...</td>\n",
       "      <td>1.00</td>\n",
       "      <td>7</td>\n",
       "    </tr>\n",
       "    <tr>\n",
       "      <th>11</th>\n",
       "      <td>Negative</td>\n",
       "      <td>{'Neutral': 0.38, 'Negative': 0.38, 'Positive'...</td>\n",
       "      <td>1.50</td>\n",
       "      <td>8</td>\n",
       "    </tr>\n",
       "    <tr>\n",
       "      <th>18</th>\n",
       "      <td>Neutral</td>\n",
       "      <td>{'Neutral': 0.33, 'Negative': 0.33, 'Positive'...</td>\n",
       "      <td>1.00</td>\n",
       "      <td>3</td>\n",
       "    </tr>\n",
       "  </tbody>\n",
       "</table>\n",
       "</div>"
      ],
      "text/plain": [
       "   sentiment_target                              sentiment_aftertarget  \\\n",
       "4          Negative  {'Positive': 0.33, 'Negative': 0.33, 'Neutral'...   \n",
       "5          Positive  {'Positive': 0.6, 'Negative': 0.2, 'Neutral': ...   \n",
       "9          Negative  {'Neutral': 0.43, 'Positive': 0.29, 'Negative'...   \n",
       "11         Negative  {'Neutral': 0.38, 'Negative': 0.38, 'Positive'...   \n",
       "18          Neutral  {'Neutral': 0.33, 'Negative': 0.33, 'Positive'...   \n",
       "\n",
       "    neg_to_pos_aftertarget  count_of_rows_after  \n",
       "4                     1.00                    9  \n",
       "5                     0.33                    5  \n",
       "9                     1.00                    7  \n",
       "11                    1.50                    8  \n",
       "18                    1.00                    3  "
      ]
     },
     "execution_count": 48,
     "metadata": {},
     "output_type": "execute_result"
    }
   ],
   "source": [
    "# remove \"before\"-related columns \n",
    "reply = reply.iloc[:,3:]\n",
    "reply.head()"
   ]
  },
  {
   "cell_type": "code",
   "execution_count": 49,
   "metadata": {
    "id": "FOQththsFlCs"
   },
   "outputs": [],
   "source": [
    "reply.reset_index(inplace= True, drop=True)"
   ]
  },
  {
   "cell_type": "markdown",
   "metadata": {},
   "source": [
    "# When there were more neg than pos among non-target (ratio >= 1 )"
   ]
  },
  {
   "cell_type": "markdown",
   "metadata": {},
   "source": [
    "## Source"
   ]
  },
  {
   "cell_type": "code",
   "execution_count": 50,
   "metadata": {},
   "outputs": [
    {
     "data": {
      "text/html": [
       "<div>\n",
       "<style scoped>\n",
       "    .dataframe tbody tr th:only-of-type {\n",
       "        vertical-align: middle;\n",
       "    }\n",
       "\n",
       "    .dataframe tbody tr th {\n",
       "        vertical-align: top;\n",
       "    }\n",
       "\n",
       "    .dataframe thead th {\n",
       "        text-align: right;\n",
       "    }\n",
       "</style>\n",
       "<table border=\"1\" class=\"dataframe\">\n",
       "  <thead>\n",
       "    <tr style=\"text-align: right;\">\n",
       "      <th></th>\n",
       "      <th>count</th>\n",
       "      <th>mean</th>\n",
       "      <th>std</th>\n",
       "      <th>min</th>\n",
       "      <th>25%</th>\n",
       "      <th>50%</th>\n",
       "      <th>75%</th>\n",
       "      <th>max</th>\n",
       "    </tr>\n",
       "    <tr>\n",
       "      <th>sentiment_target</th>\n",
       "      <th></th>\n",
       "      <th></th>\n",
       "      <th></th>\n",
       "      <th></th>\n",
       "      <th></th>\n",
       "      <th></th>\n",
       "      <th></th>\n",
       "      <th></th>\n",
       "    </tr>\n",
       "  </thead>\n",
       "  <tbody>\n",
       "    <tr>\n",
       "      <th>Negative</th>\n",
       "      <td>14.0</td>\n",
       "      <td>1.402857</td>\n",
       "      <td>1.035608</td>\n",
       "      <td>0.29</td>\n",
       "      <td>0.625</td>\n",
       "      <td>1.165</td>\n",
       "      <td>1.695</td>\n",
       "      <td>4.0</td>\n",
       "    </tr>\n",
       "    <tr>\n",
       "      <th>Positive</th>\n",
       "      <td>0.0</td>\n",
       "      <td>NaN</td>\n",
       "      <td>NaN</td>\n",
       "      <td>NaN</td>\n",
       "      <td>NaN</td>\n",
       "      <td>NaN</td>\n",
       "      <td>NaN</td>\n",
       "      <td>NaN</td>\n",
       "    </tr>\n",
       "    <tr>\n",
       "      <th>Neutral</th>\n",
       "      <td>7.0</td>\n",
       "      <td>0.901429</td>\n",
       "      <td>0.256413</td>\n",
       "      <td>0.44</td>\n",
       "      <td>0.835</td>\n",
       "      <td>1.000</td>\n",
       "      <td>1.000</td>\n",
       "      <td>1.2</td>\n",
       "    </tr>\n",
       "  </tbody>\n",
       "</table>\n",
       "</div>"
      ],
      "text/plain": [
       "                  count      mean       std   min    25%    50%    75%  max\n",
       "sentiment_target                                                           \n",
       "Negative           14.0  1.402857  1.035608  0.29  0.625  1.165  1.695  4.0\n",
       "Positive            0.0       NaN       NaN   NaN    NaN    NaN    NaN  NaN\n",
       "Neutral             7.0  0.901429  0.256413  0.44  0.835  1.000  1.000  1.2"
      ]
     },
     "execution_count": 50,
     "metadata": {},
     "output_type": "execute_result"
    }
   ],
   "source": [
    "src.groupby('sentiment_target')['neg_to_pos_aftertarget'].describe()"
   ]
  },
  {
   "cell_type": "code",
   "execution_count": 76,
   "metadata": {},
   "outputs": [
    {
     "data": {
      "text/plain": [
       "[Text(1, 0, 'Negative'), Text(2, 0, 'Positive'), Text(3, 0, 'Neutral')]"
      ]
     },
     "execution_count": 76,
     "metadata": {},
     "output_type": "execute_result"
    },
    {
     "data": {
      "image/png": "[encoded data removed]",
      "text/plain": [
       "<Figure size 432x288 with 1 Axes>"
      ]
     },
     "metadata": {
      "needs_background": "light"
     },
     "output_type": "display_data"
    }
   ],
   "source": [
    "ax = plt.axes()\n",
    "src.groupby('sentiment_target').boxplot(column = 'neg_to_pos_aftertarget',subplots=False)\n",
    "ax.set_xticklabels(src.sentiment_target.cat.categories)"
   ]
  },
  {
   "cell_type": "markdown",
   "metadata": {},
   "source": [
    "### All analyzed cases"
   ]
  },
  {
   "cell_type": "code",
   "execution_count": null,
   "metadata": {},
   "outputs": [],
   "source": [
    "print(f\"# of cases where more or same number of negative & positive non-target in total: {src.loc[(src.neg_to_pos_aftertarget>= 1)].shape[0]}\")"
   ]
  },
  {
   "cell_type": "markdown",
   "metadata": {},
   "source": [
    "### Calculated under each sentiment type\n",
    "\\# of cases where ratios were equal or more than 1"
   ]
  },
  {
   "cell_type": "code",
   "execution_count": null,
   "metadata": {},
   "outputs": [],
   "source": [
    "src.loc[src.neg_to_pos_aftertarget >=1,'sentiment_target'].value_counts(sort=False)"
   ]
  },
  {
   "cell_type": "code",
   "execution_count": null,
   "metadata": {},
   "outputs": [],
   "source": [
    "src.sentiment_target.value_counts(sort=False)"
   ]
  },
  {
   "cell_type": "markdown",
   "metadata": {},
   "source": [
    "## Reply"
   ]
  },
  {
   "cell_type": "code",
   "execution_count": 59,
   "metadata": {},
   "outputs": [
    {
     "data": {
      "text/html": [
       "<div>\n",
       "<style scoped>\n",
       "    .dataframe tbody tr th:only-of-type {\n",
       "        vertical-align: middle;\n",
       "    }\n",
       "\n",
       "    .dataframe tbody tr th {\n",
       "        vertical-align: top;\n",
       "    }\n",
       "\n",
       "    .dataframe thead th {\n",
       "        text-align: right;\n",
       "    }\n",
       "</style>\n",
       "<table border=\"1\" class=\"dataframe\">\n",
       "  <thead>\n",
       "    <tr style=\"text-align: right;\">\n",
       "      <th></th>\n",
       "      <th>count</th>\n",
       "      <th>mean</th>\n",
       "      <th>std</th>\n",
       "      <th>min</th>\n",
       "      <th>25%</th>\n",
       "      <th>50%</th>\n",
       "      <th>75%</th>\n",
       "      <th>max</th>\n",
       "    </tr>\n",
       "    <tr>\n",
       "      <th>sentiment_target</th>\n",
       "      <th></th>\n",
       "      <th></th>\n",
       "      <th></th>\n",
       "      <th></th>\n",
       "      <th></th>\n",
       "      <th></th>\n",
       "      <th></th>\n",
       "      <th></th>\n",
       "    </tr>\n",
       "  </thead>\n",
       "  <tbody>\n",
       "    <tr>\n",
       "      <th>Negative</th>\n",
       "      <td>279.0</td>\n",
       "      <td>1.196882</td>\n",
       "      <td>0.869998</td>\n",
       "      <td>0.09</td>\n",
       "      <td>0.50</td>\n",
       "      <td>1.0</td>\n",
       "      <td>1.500</td>\n",
       "      <td>6.0</td>\n",
       "    </tr>\n",
       "    <tr>\n",
       "      <th>Positive</th>\n",
       "      <td>162.0</td>\n",
       "      <td>1.251296</td>\n",
       "      <td>0.886032</td>\n",
       "      <td>0.08</td>\n",
       "      <td>0.50</td>\n",
       "      <td>1.0</td>\n",
       "      <td>1.875</td>\n",
       "      <td>4.0</td>\n",
       "    </tr>\n",
       "    <tr>\n",
       "      <th>Neutral</th>\n",
       "      <td>123.0</td>\n",
       "      <td>1.365935</td>\n",
       "      <td>1.079974</td>\n",
       "      <td>0.14</td>\n",
       "      <td>0.55</td>\n",
       "      <td>1.0</td>\n",
       "      <td>2.000</td>\n",
       "      <td>6.0</td>\n",
       "    </tr>\n",
       "  </tbody>\n",
       "</table>\n",
       "</div>"
      ],
      "text/plain": [
       "                  count      mean       std   min   25%  50%    75%  max\n",
       "sentiment_target                                                        \n",
       "Negative          279.0  1.196882  0.869998  0.09  0.50  1.0  1.500  6.0\n",
       "Positive          162.0  1.251296  0.886032  0.08  0.50  1.0  1.875  4.0\n",
       "Neutral           123.0  1.365935  1.079974  0.14  0.55  1.0  2.000  6.0"
      ]
     },
     "execution_count": 59,
     "metadata": {},
     "output_type": "execute_result"
    }
   ],
   "source": [
    "reply.groupby('sentiment_target')['neg_to_pos_aftertarget'].describe()"
   ]
  },
  {
   "cell_type": "code",
   "execution_count": 75,
   "metadata": {},
   "outputs": [
    {
     "data": {
      "text/plain": [
       "[Text(1, 0, 'Negative'), Text(2, 0, 'Positive'), Text(3, 0, 'Neutral')]"
      ]
     },
     "execution_count": 75,
     "metadata": {},
     "output_type": "execute_result"
    },
    {
     "data": {
      "image/png": "[encoded data removed]",
      "text/plain": [
       "<Figure size 432x288 with 1 Axes>"
      ]
     },
     "metadata": {
      "needs_background": "light"
     },
     "output_type": "display_data"
    }
   ],
   "source": [
    "ax = plt.axes()\n",
    "reply.groupby('sentiment_target').boxplot(column = 'neg_to_pos_aftertarget',subplots=False)\n",
    "ax.set_xticklabels(reply.sentiment_target.cat.categories)"
   ]
  },
  {
   "cell_type": "markdown",
   "metadata": {},
   "source": [
    "### All analyzed cases"
   ]
  },
  {
   "cell_type": "code",
   "execution_count": 52,
   "metadata": {},
   "outputs": [
    {
     "name": "stdout",
     "output_type": "stream",
     "text": [
      "# of cases where more or same number of negative & positive non-target in total: 366\n"
     ]
    }
   ],
   "source": [
    "print(f\"# of cases where more or same number of negative & positive non-target in total: {reply.loc[(reply.neg_to_pos_aftertarget>= 1)].shape[0]}\")"
   ]
  },
  {
   "cell_type": "markdown",
   "metadata": {},
   "source": [
    "### Calculated under each sentiment type\n",
    "\\# of cases where ratios were equal or more than 1"
   ]
  },
  {
   "cell_type": "code",
   "execution_count": 53,
   "metadata": {},
   "outputs": [
    {
     "data": {
      "text/plain": [
       "Negative    181\n",
       "Positive    105\n",
       "Neutral      80\n",
       "Name: sentiment_target, dtype: int64"
      ]
     },
     "execution_count": 53,
     "metadata": {},
     "output_type": "execute_result"
    }
   ],
   "source": [
    "reply.loc[reply.neg_to_pos_aftertarget >=1,'sentiment_target'].value_counts(sort=False)"
   ]
  },
  {
   "cell_type": "code",
   "execution_count": 60,
   "metadata": {},
   "outputs": [
    {
     "data": {
      "text/plain": [
       "Negative    279\n",
       "Positive    162\n",
       "Neutral     123\n",
       "Name: sentiment_target, dtype: int64"
      ]
     },
     "execution_count": 60,
     "metadata": {},
     "output_type": "execute_result"
    }
   ],
   "source": [
    "reply.sentiment_target.value_counts(sort=False)"
   ]
  },
  {
   "cell_type": "markdown",
   "metadata": {
    "id": "pOpTMmW_bn_h"
   },
   "source": [
    "# Line chart"
   ]
  },
  {
   "cell_type": "code",
   "execution_count": null,
   "metadata": {
    "id": "V6YUQyLIkqLH"
   },
   "outputs": [],
   "source": [
    "sns.set_theme(style=\"ticks\")"
   ]
  },
  {
   "cell_type": "code",
   "execution_count": null,
   "metadata": {
    "id": "ZjTypqxo0epz"
   },
   "outputs": [],
   "source": [
    "def pltcolor(lst):\n",
    "    cols=[]\n",
    "    for l in lst:\n",
    "        if l=='Negative':\n",
    "            cols.append('red')\n",
    "        elif l=='Neutral':\n",
    "            cols.append('blue')\n",
    "        else:\n",
    "            cols.append('green')\n",
    "    return cols"
   ]
  },
  {
   "cell_type": "markdown",
   "metadata": {
    "id": "Ft4dkpjuSoka"
   },
   "source": [
    "## Source "
   ]
  },
  {
   "cell_type": "code",
   "execution_count": null,
   "metadata": {
    "colab": {
     "base_uri": "https://localhost:8080/",
     "height": 316
    },
    "id": "AF0aDW0Os8KP",
    "outputId": "e2d5bc56-26d4-4559-8ce6-2a9db2cae2ab"
   },
   "outputs": [],
   "source": [
    "# Create the colors list using the function above\n",
    "cols=pltcolor(src.sentiment_target)\n",
    "\n",
    "# markercolor = {'Positive':'green','Negative':'red',\"Neutral\":'blue'}\n",
    "plt.figure()\n",
    "ax = plt.axes()\n",
    "\n",
    "\n",
    "ax.plot(src.index,src['neg_to_pos_aftertarget'],color='black')\n",
    "ax.scatter(src.index, src['neg_to_pos_aftertarget'],color= cols,s =24)\n",
    "plt.xticks(src.index)\n",
    "\n",
    "plt.title(\"the sentiment ratios among non-targeting tweets \\n after a targeting source tweet arrived\")\n",
    "ax.set_xlabel('targeting source tweet (in time-order)')\n",
    "ax.set_ylabel('negative-to-positive ratio')\n",
    "\n",
    "# plt.axhline(y = maxratio, color = 'r', linestyle = 'dotted')\n",
    "# ax.annotate('infinite ratio: no positive non-targeting tws', \n",
    "#              xy=(src.index[-1],maxratio*1.1), xytext=(src.index[-1]*1.05,maxratio),\n",
    "#             bbox=dict(boxstyle=\"round\", fc=\"w\", ec=\"lightblue\"),\n",
    "#             arrowprops=dict(arrowstyle=\"->\",color='lightblue'))\n",
    "# plt.savefig(r\"sydneysiege\\18 targetanalysis\\temporalanalysis\\src-sentimentratio.pdf\",dpi=1000,bbox_inches='tight')\n",
    "plt.show()"
   ]
  },
  {
   "cell_type": "markdown",
   "metadata": {
    "id": "Xm6Pd1WlFmGf"
   },
   "source": [
    "## Reply analysis"
   ]
  },
  {
   "cell_type": "code",
   "execution_count": null,
   "metadata": {
    "colab": {
     "base_uri": "https://localhost:8080/"
    },
    "id": "D_AKq5iKFZHA",
    "outputId": "1333c530-18f4-404a-fb32-ca2e7b8250fb"
   },
   "outputs": [],
   "source": [
    "# !pip install plotly\n",
    "import plotly.express as px\n",
    "import plotly.graph_objects as go"
   ]
  },
  {
   "cell_type": "code",
   "execution_count": null,
   "metadata": {
    "colab": {
     "base_uri": "https://localhost:8080/",
     "height": 542
    },
    "id": "YsW5TluPFvX_",
    "outputId": "47ca57fb-28af-43e9-8863-4310f04b0c73"
   },
   "outputs": [],
   "source": [
    "cols=pltcolor(reply.sentiment_target)\n",
    "\n",
    "layout = dict(plot_bgcolor='rgba(192,192,192,0.2)', paper_bgcolor='rgba(192,192,192,0.2)')\n",
    "fig = go.Figure(layout=layout)\n",
    "fig.add_trace(go.Scatter(x=reply.index, y=reply.neg_to_pos_aftertarget,\n",
    "                    mode='lines+markers',\n",
    "                    name='lines+markers',marker_size=5, marker_color=cols,line_color='rgb(0,0,0)'))\n",
    "fig.update_layout(\n",
    "    xaxis_title=\"targeting reply (in time-order)\", yaxis_title=\"negative-to-positive ratio\",\n",
    "    title=\"the sentiment ratios among non-targeting tweets<br>after a targeting reply arrived\",\n",
    "           title_x=0.5)\n",
    "\n",
    "fig.show()\n",
    "fig.write_html(\"reply-sentimentratio.html\")"
   ]
  },
  {
   "cell_type": "code",
   "execution_count": null,
   "metadata": {
    "colab": {
     "base_uri": "https://localhost:8080/",
     "height": 504
    },
    "id": "FcnwblKyvGp-",
    "outputId": "6beb3901-4fd3-46f9-9c2f-b6abc7b37f3a"
   },
   "outputs": [],
   "source": [
    "cols=pltcolor(reply.sentiment_target)\n",
    "\n",
    "plt.figure(figsize=(16,8))\n",
    "ax = plt.axes()\n",
    "ax.plot(reply.index, reply['neg_to_pos_aftertarget'],color='dimgray',alpha = 0.8)\n",
    "ax.scatter(reply.index, reply['neg_to_pos_aftertarget'],color= cols,s =26)\n",
    "plt.title(\"the sentiment ratios among non-targeting tweets \\n after a targeting reply arrived\", size = 17)\n",
    "ax.set_xlabel('targeting reply (in time-order)')\n",
    "ax.set_ylabel('negative-to-positive ratio')\n",
    "\n",
    "plt.savefig('reply-sentimentratio.pdf',dpi=1000,bbox_inches='tight')\n",
    "plt.show()\n"
   ]
  },
  {
   "cell_type": "code",
   "execution_count": null,
   "metadata": {
    "id": "Qh28nVK4GEfs"
   },
   "outputs": [],
   "source": []
  }
 ],
 "metadata": {
  "colab": {
   "provenance": []
  },
  "kernelspec": {
   "display_name": "Python 3",
   "language": "python",
   "name": "python3"
  },
  "language_info": {
   "codemirror_mode": {
    "name": "ipython",
    "version": 3
   },
   "file_extension": ".py",
   "mimetype": "text/x-python",
   "name": "python",
   "nbconvert_exporter": "python",
   "pygments_lexer": "ipython3",
   "version": "3.9.1"
  },
  "toc-autonumbering": true
 },
 "nbformat": 4,
 "nbformat_minor": 4
}
