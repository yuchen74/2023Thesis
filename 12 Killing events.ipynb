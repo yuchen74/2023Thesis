{
 "cells": [
  {
   "cell_type": "markdown",
   "id": "supposed-toilet",
   "metadata": {},
   "source": [
    "# Targeting group among rumor tweets in five killing events "
   ]
  },
  {
   "cell_type": "code",
   "execution_count": 1,
   "id": "natural-photography",
   "metadata": {},
   "outputs": [],
   "source": [
    "import numpy as np\n",
    "import pandas as pd\n",
    "import matplotlib.pyplot as plt\n",
    "from nltk import word_tokenize\n",
    "import seaborn as sns"
   ]
  },
  {
   "cell_type": "code",
   "execution_count": 2,
   "id": "medium-blake",
   "metadata": {},
   "outputs": [],
   "source": [
    "import os\n",
    "path = r'D:\\論文\\PHEME9\\Data\\CSV'\n",
    "import pathlib\n",
    "# data_temp = sorted(pathlib.Path(path).glob('*-2.csv'))"
   ]
  },
  {
   "cell_type": "code",
   "execution_count": 26,
   "id": "adjacent-trader",
   "metadata": {},
   "outputs": [
    {
     "data": {
      "text/plain": [
       "['charliehebdo', 'ferguson', 'germanwings', 'ottawashooting', 'sydneysiege']"
      ]
     },
     "execution_count": 26,
     "metadata": {},
     "output_type": "execute_result"
    }
   ],
   "source": [
    "killing_events = ['charliehebdo','ferguson','germanwings','sydneysiege','ottawashooting']\n",
    "killing_events.sort()\n",
    "killing_events"
   ]
  },
  {
   "cell_type": "code",
   "execution_count": 33,
   "id": "sitting-extreme",
   "metadata": {},
   "outputs": [],
   "source": [
    "killing_data = pd.DataFrame()\n",
    "col_names = ['tweet_id','user_id','date','src_tweet_id','rumor_label','original_tweet','cleaned_tweet',\n",
    "               'sentiment','emotion','source_reply','event']"
   ]
  },
  {
   "cell_type": "code",
   "execution_count": 34,
   "id": "solved-topic",
   "metadata": {},
   "outputs": [
    {
     "name": "stdout",
     "output_type": "stream",
     "text": [
      "35630\n",
      "58502\n",
      "62511\n",
      "73746\n",
      "96276\n"
     ]
    }
   ],
   "source": [
    "# merge 5 killing events into one dataframe: killing_data\n",
    "\n",
    "for i in killing_events:\n",
    "    rep_path = pathlib.Path(path, i+'-df-2.csv')\n",
    "    src_path = pathlib.Path(path, i+'-src-2.csv')\n",
    "    rep = pd.read_csv(rep_path, encoding = 'utf-8', header = 0)\n",
    "    src = pd.read_csv(src_path, encoding = 'utf-8', header =0)\n",
    "    \n",
    "    rep = rep[['reply_tweet_id', 'reply_user_id','reply_date','src_tweet_id', 'label', 'reply_tweet',\n",
    "                         'cleaned_reply_tw', 'reply_sentiment', 'reply_emo_ro']]\n",
    "    rep['source_reply'] = 'reply'\n",
    "    rep['event'] = i\n",
    "    \n",
    "    rep.columns = col_names\n",
    "    \n",
    "    src = src[['src_tweet_id', 'src_user_id', 'src_date','src_tweet_id', 'label','src_tweet', \n",
    "                         'cleaned_src_tw','src_sentiment','src_emo_ro']]\n",
    "    src['source_reply'] = 'source'\n",
    "    src['event'] = i\n",
    "    src.columns = col_names\n",
    "    \n",
    "    killing_data = pd.concat([killing_data,rep,src])\n",
    "\n",
    "    print(killing_data.shape[0])"
   ]
  },
  {
   "cell_type": "code",
   "execution_count": 40,
   "id": "first-apparatus",
   "metadata": {},
   "outputs": [],
   "source": [
    "#  rumor tweets in five killing events : rumor_data\n",
    "rumor_data = killing_data[killing_data.rumor_label==1]\n",
    "rumor_data.reset_index(inplace=True,drop=True)"
   ]
  },
  {
   "cell_type": "code",
   "execution_count": 42,
   "id": "accepted-stream",
   "metadata": {},
   "outputs": [],
   "source": [
    "rumor_data.date = pd.to_datetime(rumor_data.date)\n",
    "rumor_data.tweet_id = rumor_data.tweet_id.astype(str)\n",
    "rumor_data.user_id = rumor_data.user_id.astype(str)"
   ]
  },
  {
   "cell_type": "code",
   "execution_count": 44,
   "id": "comfortable-restaurant",
   "metadata": {},
   "outputs": [
    {
     "data": {
      "text/plain": [
       "tweet_id           0\n",
       "user_id            0\n",
       "date               0\n",
       "src_tweet_id       0\n",
       "rumor_label        0\n",
       "original_tweet     0\n",
       "cleaned_tweet     10\n",
       "sentiment          0\n",
       "emotion            0\n",
       "source_reply       0\n",
       "event              0\n",
       "dtype: int64"
      ]
     },
     "execution_count": 44,
     "metadata": {},
     "output_type": "execute_result"
    }
   ],
   "source": [
    "rumor_data.isnull().sum()"
   ]
  },
  {
   "cell_type": "code",
   "execution_count": 45,
   "id": "imported-wyoming",
   "metadata": {},
   "outputs": [
    {
     "name": "stderr",
     "output_type": "stream",
     "text": [
      "<ipython-input-45-7e1143d2626a>:1: SettingWithCopyWarning: \n",
      "A value is trying to be set on a copy of a slice from a DataFrame\n",
      "\n",
      "See the caveats in the documentation: https://pandas.pydata.org/pandas-docs/stable/user_guide/indexing.html#returning-a-view-versus-a-copy\n",
      "  rumor_data.dropna(inplace=True)\n"
     ]
    }
   ],
   "source": [
    "rumor_data.dropna(inplace=True)\n",
    "rumor_data.reset_index(drop=True,inplace=True)"
   ]
  },
  {
   "cell_type": "code",
   "execution_count": 46,
   "id": "independent-relief",
   "metadata": {},
   "outputs": [
    {
     "data": {
      "text/plain": [
       "(28905, 11)"
      ]
     },
     "execution_count": 46,
     "metadata": {},
     "output_type": "execute_result"
    }
   ],
   "source": [
    "rumor_data.shape"
   ]
  },
  {
   "cell_type": "code",
   "execution_count": 47,
   "id": "composed-commerce",
   "metadata": {},
   "outputs": [
    {
     "data": {
      "text/html": [
       "<div>\n",
       "<style scoped>\n",
       "    .dataframe tbody tr th:only-of-type {\n",
       "        vertical-align: middle;\n",
       "    }\n",
       "\n",
       "    .dataframe tbody tr th {\n",
       "        vertical-align: top;\n",
       "    }\n",
       "\n",
       "    .dataframe thead th {\n",
       "        text-align: right;\n",
       "    }\n",
       "</style>\n",
       "<table border=\"1\" class=\"dataframe\">\n",
       "  <thead>\n",
       "    <tr style=\"text-align: right;\">\n",
       "      <th></th>\n",
       "      <th>tweet_id</th>\n",
       "      <th>user_id</th>\n",
       "      <th>date</th>\n",
       "      <th>src_tweet_id</th>\n",
       "      <th>rumor_label</th>\n",
       "      <th>original_tweet</th>\n",
       "      <th>cleaned_tweet</th>\n",
       "      <th>sentiment</th>\n",
       "      <th>emotion</th>\n",
       "      <th>source_reply</th>\n",
       "      <th>event</th>\n",
       "    </tr>\n",
       "  </thead>\n",
       "  <tbody>\n",
       "    <tr>\n",
       "      <th>0</th>\n",
       "      <td>5.527877945031434e+17</td>\n",
       "      <td>202572421.0</td>\n",
       "      <td>2015-01-07 11:24:15+00:00</td>\n",
       "      <td>552783238415265792</td>\n",
       "      <td>1</td>\n",
       "      <td>@H_E_Samuel @George_Berridge @michael_taggart ...</td>\n",
       "      <td>religion peace strike</td>\n",
       "      <td>Positive</td>\n",
       "      <td>anger</td>\n",
       "      <td>reply</td>\n",
       "      <td>charliehebdo</td>\n",
       "    </tr>\n",
       "  </tbody>\n",
       "</table>\n",
       "</div>"
      ],
      "text/plain": [
       "                tweet_id      user_id                      date  \\\n",
       "0  5.527877945031434e+17  202572421.0 2015-01-07 11:24:15+00:00   \n",
       "\n",
       "         src_tweet_id  rumor_label  \\\n",
       "0  552783238415265792            1   \n",
       "\n",
       "                                      original_tweet          cleaned_tweet  \\\n",
       "0  @H_E_Samuel @George_Berridge @michael_taggart ...  religion peace strike   \n",
       "\n",
       "  sentiment emotion source_reply         event  \n",
       "0  Positive   anger        reply  charliehebdo  "
      ]
     },
     "execution_count": 47,
     "metadata": {},
     "output_type": "execute_result"
    }
   ],
   "source": [
    "rumor_data.head(1)"
   ]
  },
  {
   "cell_type": "markdown",
   "id": "laughing-creek",
   "metadata": {},
   "source": [
    "28905 rumorous tweets in five killing events"
   ]
  },
  {
   "cell_type": "markdown",
   "id": "sensitive-allergy",
   "metadata": {},
   "source": [
    "# Label tweets which targeted any group"
   ]
  },
  {
   "cell_type": "code",
   "execution_count": 48,
   "id": "whole-saint",
   "metadata": {},
   "outputs": [
    {
     "data": {
      "text/plain": [
       "\"\\nUpdated keyword list file with filename: '12targetgroup_words.text'\\nread into python : target_list\\n\""
      ]
     },
     "execution_count": 48,
     "metadata": {},
     "output_type": "execute_result"
    }
   ],
   "source": [
    "'''\n",
    "Updated keyword list file with filename: '12targetgroup_words.text'\n",
    "read into python : target_list\n",
    "'''"
   ]
  },
  {
   "cell_type": "code",
   "execution_count": 49,
   "id": "electoral-seminar",
   "metadata": {},
   "outputs": [],
   "source": [
    "with open('12targetgroup_words.txt') as f:\n",
    "    lines = f.readlines()\n",
    "target_list = [line.strip() for line in lines]"
   ]
  },
  {
   "cell_type": "code",
   "execution_count": 56,
   "id": "vital-quick",
   "metadata": {},
   "outputs": [
    {
     "name": "stdout",
     "output_type": "stream",
     "text": [
      "['allah', 'attack', 'black', 'christian', 'christians', 'condemn', 'flag', 'free', 'freedom', 'gaza', 'group', 'imam', 'iraq', 'isis', 'islam', 'islamic', 'islamist', 'israel', 'jehovah', 'jihad', 'jihadist', 'militarize', 'militarize', 'military', 'missouri', 'mossad', 'murder', 'muslim', 'muslims', 'pilot', 'prophet', 'public', 'religion', 'shahadah', 'suicide', 'terrorism', 'terrorist', 'terrorists', 'unarm', 'white', 'zionist']\n",
      "\n",
      "# of keywords:  41\n"
     ]
    }
   ],
   "source": [
    "print(target_list)\n",
    "print(\"\\n# of keywords: \", len(target_list))"
   ]
  },
  {
   "cell_type": "code",
   "execution_count": 51,
   "id": "preceding-cameroon",
   "metadata": {},
   "outputs": [
    {
     "name": "stderr",
     "output_type": "stream",
     "text": [
      "<ipython-input-51-0a4e8a27a752>:7: SettingWithCopyWarning: \n",
      "A value is trying to be set on a copy of a slice from a DataFrame.\n",
      "Try using .loc[row_indexer,col_indexer] = value instead\n",
      "\n",
      "See the caveats in the documentation: https://pandas.pydata.org/pandas-docs/stable/user_guide/indexing.html#returning-a-view-versus-a-copy\n",
      "  rumor_data['target_label'] = rumor_data.cleaned_tweet.astype(str).apply(lambda x: 1\n"
     ]
    }
   ],
   "source": [
    "'''\n",
    "Create a binary variable into rumor_data dataframe - 'target_label' : \n",
    "    1, if cleaned tweets contained any keyword in the pre-defined keyword list; \n",
    "    0, otherwise.\n",
    "'''\n",
    "\n",
    "rumor_data['target_label'] = rumor_data.cleaned_tweet.astype(str).apply(lambda x: 1 \n",
    "                                                                        if any(word in target_list for word in x.split()) \n",
    "                                                                        else 0 )"
   ]
  },
  {
   "cell_type": "code",
   "execution_count": 52,
   "id": "elegant-topic",
   "metadata": {},
   "outputs": [
    {
     "data": {
      "text/html": [
       "<div>\n",
       "<style scoped>\n",
       "    .dataframe tbody tr th:only-of-type {\n",
       "        vertical-align: middle;\n",
       "    }\n",
       "\n",
       "    .dataframe tbody tr th {\n",
       "        vertical-align: top;\n",
       "    }\n",
       "\n",
       "    .dataframe thead th {\n",
       "        text-align: right;\n",
       "    }\n",
       "</style>\n",
       "<table border=\"1\" class=\"dataframe\">\n",
       "  <thead>\n",
       "    <tr style=\"text-align: right;\">\n",
       "      <th>target_label</th>\n",
       "      <th>0</th>\n",
       "      <th>1</th>\n",
       "      <th>All</th>\n",
       "    </tr>\n",
       "    <tr>\n",
       "      <th>event</th>\n",
       "      <th></th>\n",
       "      <th></th>\n",
       "      <th></th>\n",
       "    </tr>\n",
       "  </thead>\n",
       "  <tbody>\n",
       "    <tr>\n",
       "      <th>charliehebdo</th>\n",
       "      <td>5031</td>\n",
       "      <td>1618</td>\n",
       "      <td>6649</td>\n",
       "    </tr>\n",
       "    <tr>\n",
       "      <th>ferguson</th>\n",
       "      <td>5505</td>\n",
       "      <td>715</td>\n",
       "      <td>6220</td>\n",
       "    </tr>\n",
       "    <tr>\n",
       "      <th>germanwings</th>\n",
       "      <td>1894</td>\n",
       "      <td>343</td>\n",
       "      <td>2237</td>\n",
       "    </tr>\n",
       "    <tr>\n",
       "      <th>ottawashooting</th>\n",
       "      <td>5024</td>\n",
       "      <td>826</td>\n",
       "      <td>5850</td>\n",
       "    </tr>\n",
       "    <tr>\n",
       "      <th>sydneysiege</th>\n",
       "      <td>6236</td>\n",
       "      <td>1713</td>\n",
       "      <td>7949</td>\n",
       "    </tr>\n",
       "    <tr>\n",
       "      <th>All</th>\n",
       "      <td>23690</td>\n",
       "      <td>5215</td>\n",
       "      <td>28905</td>\n",
       "    </tr>\n",
       "  </tbody>\n",
       "</table>\n",
       "</div>"
      ],
      "text/plain": [
       "target_label        0     1    All\n",
       "event                             \n",
       "charliehebdo     5031  1618   6649\n",
       "ferguson         5505   715   6220\n",
       "germanwings      1894   343   2237\n",
       "ottawashooting   5024   826   5850\n",
       "sydneysiege      6236  1713   7949\n",
       "All             23690  5215  28905"
      ]
     },
     "execution_count": 52,
     "metadata": {},
     "output_type": "execute_result"
    }
   ],
   "source": [
    "pd.pivot_table(rumor_data, values='tweet_id', index='event', columns='target_label',\n",
    "               aggfunc='count', margins = True)"
   ]
  },
  {
   "cell_type": "code",
   "execution_count": 53,
   "id": "hundred-version",
   "metadata": {},
   "outputs": [
    {
     "data": {
      "text/html": [
       "<div>\n",
       "<style scoped>\n",
       "    .dataframe tbody tr th:only-of-type {\n",
       "        vertical-align: middle;\n",
       "    }\n",
       "\n",
       "    .dataframe tbody tr th {\n",
       "        vertical-align: top;\n",
       "    }\n",
       "\n",
       "    .dataframe thead th {\n",
       "        text-align: right;\n",
       "    }\n",
       "</style>\n",
       "<table border=\"1\" class=\"dataframe\">\n",
       "  <thead>\n",
       "    <tr style=\"text-align: right;\">\n",
       "      <th></th>\n",
       "      <th></th>\n",
       "      <th>no_target</th>\n",
       "      <th>target</th>\n",
       "      <th>total</th>\n",
       "    </tr>\n",
       "    <tr>\n",
       "      <th>event</th>\n",
       "      <th>source_reply</th>\n",
       "      <th></th>\n",
       "      <th></th>\n",
       "      <th></th>\n",
       "    </tr>\n",
       "  </thead>\n",
       "  <tbody>\n",
       "    <tr>\n",
       "      <th rowspan=\"2\" valign=\"top\">charliehebdo</th>\n",
       "      <th>reply</th>\n",
       "      <td>4732</td>\n",
       "      <td>1473</td>\n",
       "      <td>6205</td>\n",
       "    </tr>\n",
       "    <tr>\n",
       "      <th>source</th>\n",
       "      <td>299</td>\n",
       "      <td>145</td>\n",
       "      <td>444</td>\n",
       "    </tr>\n",
       "    <tr>\n",
       "      <th rowspan=\"2\" valign=\"top\">ferguson</th>\n",
       "      <th>reply</th>\n",
       "      <td>5264</td>\n",
       "      <td>674</td>\n",
       "      <td>5938</td>\n",
       "    </tr>\n",
       "    <tr>\n",
       "      <th>source</th>\n",
       "      <td>241</td>\n",
       "      <td>41</td>\n",
       "      <td>282</td>\n",
       "    </tr>\n",
       "    <tr>\n",
       "      <th rowspan=\"2\" valign=\"top\">germanwings</th>\n",
       "      <th>reply</th>\n",
       "      <td>1745</td>\n",
       "      <td>291</td>\n",
       "      <td>2036</td>\n",
       "    </tr>\n",
       "    <tr>\n",
       "      <th>source</th>\n",
       "      <td>149</td>\n",
       "      <td>52</td>\n",
       "      <td>201</td>\n",
       "    </tr>\n",
       "    <tr>\n",
       "      <th rowspan=\"2\" valign=\"top\">ottawashooting</th>\n",
       "      <th>reply</th>\n",
       "      <td>4609</td>\n",
       "      <td>787</td>\n",
       "      <td>5396</td>\n",
       "    </tr>\n",
       "    <tr>\n",
       "      <th>source</th>\n",
       "      <td>415</td>\n",
       "      <td>39</td>\n",
       "      <td>454</td>\n",
       "    </tr>\n",
       "    <tr>\n",
       "      <th rowspan=\"2\" valign=\"top\">sydneysiege</th>\n",
       "      <th>reply</th>\n",
       "      <td>5861</td>\n",
       "      <td>1589</td>\n",
       "      <td>7450</td>\n",
       "    </tr>\n",
       "    <tr>\n",
       "      <th>source</th>\n",
       "      <td>375</td>\n",
       "      <td>124</td>\n",
       "      <td>499</td>\n",
       "    </tr>\n",
       "    <tr>\n",
       "      <th>All</th>\n",
       "      <th></th>\n",
       "      <td>23690</td>\n",
       "      <td>5215</td>\n",
       "      <td>28905</td>\n",
       "    </tr>\n",
       "  </tbody>\n",
       "</table>\n",
       "</div>"
      ],
      "text/plain": [
       "                             no_target  target  total\n",
       "event          source_reply                          \n",
       "charliehebdo   reply              4732    1473   6205\n",
       "               source              299     145    444\n",
       "ferguson       reply              5264     674   5938\n",
       "               source              241      41    282\n",
       "germanwings    reply              1745     291   2036\n",
       "               source              149      52    201\n",
       "ottawashooting reply              4609     787   5396\n",
       "               source              415      39    454\n",
       "sydneysiege    reply              5861    1589   7450\n",
       "               source              375     124    499\n",
       "All                              23690    5215  28905"
      ]
     },
     "execution_count": 53,
     "metadata": {},
     "output_type": "execute_result"
    }
   ],
   "source": [
    "table = pd.pivot_table(rumor_data, index=['event', 'source_reply'],columns='target_label',values='tweet_id',aggfunc='count',margins=True)\n",
    "# table['target_0'] = (table.C / table.groupby(level=0).C.transform(sum) * 100).astype(str) + '%'\n",
    "# print table\n",
    "table.columns = ['no_target','target','total']\n",
    "table"
   ]
  },
  {
   "cell_type": "code",
   "execution_count": 54,
   "id": "toxic-protein",
   "metadata": {},
   "outputs": [
    {
     "data": {
      "text/html": [
       "<div>\n",
       "<style scoped>\n",
       "    .dataframe tbody tr th:only-of-type {\n",
       "        vertical-align: middle;\n",
       "    }\n",
       "\n",
       "    .dataframe tbody tr th {\n",
       "        vertical-align: top;\n",
       "    }\n",
       "\n",
       "    .dataframe thead th {\n",
       "        text-align: right;\n",
       "    }\n",
       "</style>\n",
       "<table border=\"1\" class=\"dataframe\">\n",
       "  <thead>\n",
       "    <tr style=\"text-align: right;\">\n",
       "      <th></th>\n",
       "      <th></th>\n",
       "      <th>no_target</th>\n",
       "      <th>target</th>\n",
       "      <th>total</th>\n",
       "    </tr>\n",
       "    <tr>\n",
       "      <th>event</th>\n",
       "      <th>source_reply</th>\n",
       "      <th></th>\n",
       "      <th></th>\n",
       "      <th></th>\n",
       "    </tr>\n",
       "  </thead>\n",
       "  <tbody>\n",
       "    <tr>\n",
       "      <th rowspan=\"2\" valign=\"top\">charliehebdo</th>\n",
       "      <th>reply</th>\n",
       "      <td>76.26%</td>\n",
       "      <td>23.74%</td>\n",
       "      <td>100.00%</td>\n",
       "    </tr>\n",
       "    <tr>\n",
       "      <th>source</th>\n",
       "      <td>67.34%</td>\n",
       "      <td>32.66%</td>\n",
       "      <td>100.00%</td>\n",
       "    </tr>\n",
       "    <tr>\n",
       "      <th rowspan=\"2\" valign=\"top\">ferguson</th>\n",
       "      <th>reply</th>\n",
       "      <td>88.65%</td>\n",
       "      <td>11.35%</td>\n",
       "      <td>100.00%</td>\n",
       "    </tr>\n",
       "    <tr>\n",
       "      <th>source</th>\n",
       "      <td>85.46%</td>\n",
       "      <td>14.54%</td>\n",
       "      <td>100.00%</td>\n",
       "    </tr>\n",
       "    <tr>\n",
       "      <th rowspan=\"2\" valign=\"top\">germanwings</th>\n",
       "      <th>reply</th>\n",
       "      <td>85.71%</td>\n",
       "      <td>14.29%</td>\n",
       "      <td>100.00%</td>\n",
       "    </tr>\n",
       "    <tr>\n",
       "      <th>source</th>\n",
       "      <td>74.13%</td>\n",
       "      <td>25.87%</td>\n",
       "      <td>100.00%</td>\n",
       "    </tr>\n",
       "    <tr>\n",
       "      <th rowspan=\"2\" valign=\"top\">ottawashooting</th>\n",
       "      <th>reply</th>\n",
       "      <td>85.42%</td>\n",
       "      <td>14.58%</td>\n",
       "      <td>100.00%</td>\n",
       "    </tr>\n",
       "    <tr>\n",
       "      <th>source</th>\n",
       "      <td>91.41%</td>\n",
       "      <td>8.59%</td>\n",
       "      <td>100.00%</td>\n",
       "    </tr>\n",
       "    <tr>\n",
       "      <th rowspan=\"2\" valign=\"top\">sydneysiege</th>\n",
       "      <th>reply</th>\n",
       "      <td>78.67%</td>\n",
       "      <td>21.33%</td>\n",
       "      <td>100.00%</td>\n",
       "    </tr>\n",
       "    <tr>\n",
       "      <th>source</th>\n",
       "      <td>75.15%</td>\n",
       "      <td>24.85%</td>\n",
       "      <td>100.00%</td>\n",
       "    </tr>\n",
       "    <tr>\n",
       "      <th>All</th>\n",
       "      <th></th>\n",
       "      <td>81.96%</td>\n",
       "      <td>18.04%</td>\n",
       "      <td>100.00%</td>\n",
       "    </tr>\n",
       "  </tbody>\n",
       "</table>\n",
       "</div>"
      ],
      "text/plain": [
       "                            no_target  target    total\n",
       "event          source_reply                           \n",
       "charliehebdo   reply           76.26%  23.74%  100.00%\n",
       "               source          67.34%  32.66%  100.00%\n",
       "ferguson       reply           88.65%  11.35%  100.00%\n",
       "               source          85.46%  14.54%  100.00%\n",
       "germanwings    reply           85.71%  14.29%  100.00%\n",
       "               source          74.13%  25.87%  100.00%\n",
       "ottawashooting reply           85.42%  14.58%  100.00%\n",
       "               source          91.41%   8.59%  100.00%\n",
       "sydneysiege    reply           78.67%  21.33%  100.00%\n",
       "               source          75.15%  24.85%  100.00%\n",
       "All                            81.96%  18.04%  100.00%"
      ]
     },
     "execution_count": 54,
     "metadata": {},
     "output_type": "execute_result"
    }
   ],
   "source": [
    "table.pipe(lambda d: d.div(d['total'], axis='index')).applymap('{:.2%}'.format)"
   ]
  },
  {
   "cell_type": "code",
   "execution_count": 55,
   "id": "planned-definition",
   "metadata": {},
   "outputs": [],
   "source": [
    "#pd.set_option('display.max_colwidth', None)\n",
    "# rumor_data.loc[0,['event','target_label','original_tweet']]    "
   ]
  },
  {
   "cell_type": "markdown",
   "id": "static-relative",
   "metadata": {},
   "source": [
    "## Save rumor_data to \"targetgroup.csv\" file. "
   ]
  },
  {
   "cell_type": "markdown",
   "id": "desirable-highlight",
   "metadata": {},
   "source": [
    "**targetgroup.csv** is a dataset which contains only rumorous tweets and their replies from five killing events(Charlie Hebdo, Ferguson, Germanwings, Ottawashooting, Sydney Siege), and was labled if targeting groups or not. "
   ]
  },
  {
   "cell_type": "code",
   "execution_count": null,
   "id": "latest-majority",
   "metadata": {},
   "outputs": [],
   "source": [
    "rumor_data.to_csv(r'D:\\論文\\PHEME9\\Data\\CSV\\targetgroup.csv',index=False)"
   ]
  },
  {
   "cell_type": "markdown",
   "id": "alpine-kingston",
   "metadata": {},
   "source": [
    "# Sample from each events and Save to 5 csv files"
   ]
  },
  {
   "cell_type": "code",
   "execution_count": null,
   "id": "suspected-funeral",
   "metadata": {},
   "outputs": [],
   "source": [
    "event_size = rumor_data.groupby(['event']).size().to_list()\n",
    "event_size"
   ]
  },
  {
   "cell_type": "code",
   "execution_count": null,
   "id": "casual-shadow",
   "metadata": {},
   "outputs": [],
   "source": [
    "'''\n",
    "Sample 100 for 5 events and save them as 5 csv files. \n",
    "'''\n",
    "j = 0\n",
    "for j in range(5):\n",
    "    #random sampling 50 from each target_label (either ==0 or ==1) \n",
    "    nontarget_data = rumor_data.loc[(rumor_data.event==killing_events[j])&(rumor_data.target_label ==0 )].sample(n=50,random_state = 30)\n",
    "    target_data = rumor_data.loc[(rumor_data.event==killing_events[j])&(rumor_data.target_label ==1 )].sample(n=50,random_state = 30)\n",
    "    sampling_data = pd.concat([nontarget_data, target_data], ignore_index=True)\n",
    "    \n",
    "#     path_targetsamples = r'D:\\論文\\PHEME9\\Data\\CSV\\targetsamples_1012'\n",
    "#     path_save = pathlib.Path(path_targetsamples, killing_events[j]+'-targetsample.csv')\n",
    "#     sampling_data.to_csv(path_save,index=False)\n",
    "    \n",
    "    print(sampling_data.value_counts(['target_label']))\n",
    "    print('event: ',killing_events[j])\n",
    "    j +=1"
   ]
  },
  {
   "cell_type": "code",
   "execution_count": null,
   "id": "charitable-swing",
   "metadata": {},
   "outputs": [],
   "source": [
    "'''\n",
    "# random sample 10 tweets from each event.\n",
    "sample_index = []\n",
    "i = 0\n",
    "for size in event_size:\n",
    "\n",
    "    # random sample 10 tweets from each event. \n",
    "    a = list(np.random.randint(i,i+size-1,10))\n",
    "    sample_index.extend(a)\n",
    "    i += size\n",
    "    print('event size: ',size)\n",
    "    #print(i)\n",
    "len(sample_index)\n",
    "'''"
   ]
  },
  {
   "cell_type": "markdown",
   "id": "executed-farmer",
   "metadata": {},
   "source": [
    "## sentiment analysis"
   ]
  },
  {
   "cell_type": "markdown",
   "id": "passive-capital",
   "metadata": {},
   "source": [
    "1. When rumorous tweets targeted the Muslims/Terrorist group, they tended to have negative sentiment. \n",
    "2. The sentiment among those rumorous tweets which didn't explicitly target any group was almost evenly distributed."
   ]
  },
  {
   "cell_type": "code",
   "execution_count": null,
   "id": "driven-charger",
   "metadata": {},
   "outputs": [],
   "source": [
    "g = rumor_data.groupby(['target_label'])['sentiment'].value_counts(normalize=True).mul(100).rename('count').reset_index()\\\n",
    ".pipe((sns.barplot,'data'), x ='target_label',y='count',hue='sentiment',palette=\"Set2\")\n",
    "\n",
    "g.axes.set_ylim(0,100)\n",
    "g.axes.set_title('Sentiment Analysis of Rumor Tweet w.r.t (Non-/)Targeted group')\n",
    "g.axes.set_xticklabels(['Non-Targeted','Targeted'])\n",
    "g.axes.set_ylabel('Count (%)')\n",
    "\n",
    "for p in g.axes.patches:\n",
    "    txt = str(p.get_height().round(1)) + '%'\n",
    "    txt_x = p.get_x() \n",
    "    txt_y = p.get_height()\n",
    "    g.axes.text(txt_x,txt_y,txt)\n",
    "# plt.savefig('D:/論文/PHEME9/Code/graph/targetgroup-sentiment.png',dpi=300)"
   ]
  },
  {
   "cell_type": "code",
   "execution_count": null,
   "id": "radio-merchandise",
   "metadata": {},
   "outputs": [],
   "source": [
    "rumor_data[rumor_data.target_label==1].groupby(['event'])['sentiment'].value_counts(normalize=True).to_frame()"
   ]
  },
  {
   "cell_type": "code",
   "execution_count": null,
   "id": "muslim-mainstream",
   "metadata": {},
   "outputs": [],
   "source": [
    "rumor_data[rumor_data.target_label==1].groupby(['event'])['sentiment'].value_counts(normalize=True).mul(100).rename('count').reset_index()\\\n",
    ".pipe((sns.lineplot,'data'), x ='event',y='count',hue='sentiment',palette=\"Set2\")"
   ]
  },
  {
   "cell_type": "code",
   "execution_count": null,
   "id": "novel-intelligence",
   "metadata": {},
   "outputs": [],
   "source": []
  },
  {
   "cell_type": "code",
   "execution_count": null,
   "id": "apparent-recall",
   "metadata": {},
   "outputs": [],
   "source": []
  }
 ],
 "metadata": {
  "kernelspec": {
   "display_name": "Python 3",
   "language": "python",
   "name": "python3"
  },
  "language_info": {
   "codemirror_mode": {
    "name": "ipython",
    "version": 3
   },
   "file_extension": ".py",
   "mimetype": "text/x-python",
   "name": "python",
   "nbconvert_exporter": "python",
   "pygments_lexer": "ipython3",
   "version": "3.9.1"
  }
 },
 "nbformat": 4,
 "nbformat_minor": 5
}
