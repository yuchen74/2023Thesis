{
 "cells": [
  {
   "cell_type": "code",
   "execution_count": 1,
   "metadata": {},
   "outputs": [],
   "source": [
    "import os\n",
    "import numpy as np\n",
    "import pandas as pd\n",
    "import json\n",
    "import csv"
   ]
  },
  {
   "cell_type": "code",
   "execution_count": 29,
   "metadata": {},
   "outputs": [
    {
     "name": "stderr",
     "output_type": "stream",
     "text": [
      "<ipython-input-29-6c956b47b92e>:5: FutureWarning: Passing a negative integer is deprecated in version 1.0 and will not be supported in future version. Instead, use None to not limit the column width.\n",
      "  pd.set_option('display.max_colwidth', -1)\n"
     ]
    }
   ],
   "source": [
    "path_to_json = r'D:\\論文\\PHEME9\\Data\\prince-toronto/'\n",
    "folders = [pos_json for pos_json in os.listdir(path_to_json) ]\n",
    "base = r'D:\\論文\\PHEME9\\Data\\prince-toronto'\n",
    "# to display full text\n",
    "pd.set_option('display.max_colwidth', -1)"
   ]
  },
  {
   "cell_type": "code",
   "execution_count": null,
   "metadata": {},
   "outputs": [],
   "source": [
    "#within_tweetfolders = [pos for pos in os.listdir(r'D:\\論文\\PHEME9\\Data\\sydneysiege\\rumours\\544268186292867072')]"
   ]
  },
  {
   "cell_type": "code",
   "execution_count": null,
   "metadata": {},
   "outputs": [],
   "source": []
  },
  {
   "cell_type": "code",
   "execution_count": 30,
   "metadata": {
    "scrolled": true
   },
   "outputs": [],
   "source": [
    "for folder in folders:\n",
    "    \n",
    "    if (folder == 'non-rumours' or folder == 'rumours'):\n",
    "            within_tweetid = os.path.join(base, folder)\n",
    "            #print(within_tweetid)\n",
    "            within_folders = [pos for pos in os.listdir(within_tweetid)]\n",
    "            #print(within_folders)\n",
    "            for file in within_folders:\n",
    "                if not file.startswith('.'):\n",
    "                    \n",
    "                    src_df = []\n",
    "                    within_tweetfolder = os.path.join(base, folder, file)\n",
    "                    #print (within_tweetfolder)\n",
    "\n",
    "                    src_tweet = []\n",
    "                    for pos in os.listdir(within_tweetfolder):\n",
    "                        if not pos.startswith('.') | pos.endswith('.json'):\n",
    "                            src_tweet.append(pos)\n",
    "                    \n",
    "                    #print(each_tweet)\n",
    "                    if src_tweet[1] == 'source-tweets':\n",
    "                        source = os.path.join(base, folder, file, within_tweetfolder,'source-tweets')\n",
    "                        #print(source)\n",
    "                        tweets = [pos for pos in os.listdir(source)]\n",
    "                        #print(tweets)\n",
    "                        for tweet in tweets:\n",
    "                            if not tweet.startswith('.'):\n",
    "                                \n",
    "                                ids = os.path.join(base, folder, file, within_tweetfolder, 'source-tweets', tweet)\n",
    "                                if ids.endswith('.json'):\n",
    "                                    data = []\n",
    "                                    #print(ids)\n",
    "                                    with open(ids,'r') as f:\n",
    "                                        src_json = json.load(f)\n",
    "                                    src_df = pd.DataFrame(src_json)\n",
    "                                    #extracting mentions id\n",
    "\n",
    "                                    #extracting user's info\n",
    "                                    usr_prop1 = src_df.user.id\n",
    "                                    #make new datframe by taking only few attributes from original src_df\n",
    "                                    src_df = src_df[['id','text', 'created_at' ]]\n",
    "                                    src_df['user_id'] = usr_prop1\n",
    "\n",
    "                                    #reset index of dataframe\n",
    "                                    src_df = src_df.reset_index()\n",
    "                                    src_df.drop(['index'], axis = 1, inplace = True)\n",
    "                                    src_df = src_df.iloc[0,:]\n",
    "                                    src_df = src_df.reset_index()\n",
    "                                    src_df.drop(\"index\", axis = 1, inplace = True)\n",
    "\n",
    "                                    #adding row by row data in csv\n",
    "                                    data.append(src_df.iloc[0,0])\n",
    "                                    data.append(src_df.iloc[3,0])\n",
    "                                    data.append(src_df.iloc[1,0])\n",
    "                                    data.append(src_df.iloc[2,0])\n",
    "\n",
    "\n",
    "\n",
    "                    if src_tweet[0] == 'reactions':\n",
    "                        reactions = os.path.join(base, folder, file, within_tweetfolder,'reactions')\n",
    "                        tweets_reactions = [pos for pos in os.listdir(reactions)]\n",
    "                        \n",
    "                        if len(tweets_reactions) ==0:\n",
    "                            for i in range(4):\n",
    "                                data.append(np.nan)\n",
    "                            if (folder == 'non-rumours'):\n",
    "                                data.append(0)\n",
    "                            elif (folder == 'rumours'):\n",
    "                                data.append(1)\n",
    "                            with open(r'D:\\論文\\PHEME9\\Data\\CSV\\prince-toronto.csv', 'a',newline = '', encoding = 'utf-8') as csvFile:\n",
    "                                writer = csv.writer(csvFile)\n",
    "                                writer.writerow(data)\n",
    "                            csvFile.close()\n",
    "                            \n",
    "                            \n",
    "                        elif len(tweets_reactions) >0:\n",
    "                            for tweet_reaction in tweets_reactions:\n",
    "                                if not tweet_reaction.startswith('.'):\n",
    "                                    mix_data = []\n",
    "                                    mix_data.extend(data)\n",
    "                                    ids_reactions = os.path.join(base, folder, file, within_tweetfolder, 'reactions', tweet_reaction)\n",
    "                                    if ids_reactions.endswith('.json'):\n",
    "                                        data_reactions = []\n",
    "                                        with open(ids_reactions,'r') as f:\n",
    "                                            reactions_json = json.load(f)\n",
    "                                        reactions_df = pd.DataFrame(reactions_json)\n",
    "                                         #extracting mentions id\n",
    "\n",
    "                                        #extracting user's info\n",
    "                                        reply_usr_prop1 = reactions_df.user.id\n",
    "                                        reactions_df = reactions_df[['id','text', 'created_at']]\n",
    "                                        reactions_df['user_id'] = reply_usr_prop1\n",
    "\n",
    "\n",
    "                                        reactions_df = reactions_df.reset_index()\n",
    "                                        reactions_df.drop(['index'], axis = 1, inplace = True)\n",
    "                                        reactions_df = reactions_df.iloc[0,:]\n",
    "                                        reactions_df = reactions_df.reset_index()\n",
    "                                        reactions_df.drop(\"index\", axis = 1, inplace = True)\n",
    "                                        data_reactions.append(reactions_df.iloc[0,0])\n",
    "                                        data_reactions.append(reactions_df.iloc[3,0])\n",
    "                                        data_reactions.append(reactions_df.iloc[1,0])\n",
    "                                        data_reactions.append(reactions_df.iloc[2,0])\n",
    "\n",
    "\n",
    "                                        mix_data.extend(data_reactions)\n",
    "                                        #assign labels\n",
    "                                        if (folder == 'non-rumours'):\n",
    "                                            mix_data.append(0)\n",
    "                                        elif (folder == 'rumours'):\n",
    "                                            mix_data.append(1)\n",
    "                                        #data_reactions.append(0)\n",
    "                                        with open(r'D:\\論文\\PHEME9\\Data\\CSV\\prince-toronto.csv', 'a',newline = '', encoding = 'utf-8') as csvFile:\n",
    "                                            writer = csv.writer(csvFile)\n",
    "                                            writer.writerow(mix_data)\n",
    "                                        csvFile.close()\n",
    "\n",
    "\n",
    "\n"
   ]
  },
  {
   "cell_type": "code",
   "execution_count": 33,
   "metadata": {},
   "outputs": [],
   "source": [
    "exact_data = pd.read_csv(r'D:\\論文\\PHEME9\\Data\\CSV\\prince-toronto.csv', encoding = 'utf-8', header = None)"
   ]
  },
  {
   "cell_type": "code",
   "execution_count": 34,
   "metadata": {},
   "outputs": [
    {
     "data": {
      "text/plain": [
       "(768, 9)"
      ]
     },
     "execution_count": 34,
     "metadata": {},
     "output_type": "execute_result"
    }
   ],
   "source": [
    "exact_data.shape"
   ]
  },
  {
   "cell_type": "code",
   "execution_count": 20,
   "metadata": {},
   "outputs": [
    {
     "data": {
      "text/plain": [
       "(164, 9)"
      ]
     },
     "execution_count": 20,
     "metadata": {},
     "output_type": "execute_result"
    }
   ],
   "source": [
    "exact_data.shape"
   ]
  },
  {
   "cell_type": "code",
   "execution_count": null,
   "metadata": {},
   "outputs": [],
   "source": []
  }
 ],
 "metadata": {
  "kernelspec": {
   "display_name": "Python 3",
   "language": "python",
   "name": "python3"
  },
  "language_info": {
   "codemirror_mode": {
    "name": "ipython",
    "version": 3
   },
   "file_extension": ".py",
   "mimetype": "text/x-python",
   "name": "python",
   "nbconvert_exporter": "python",
   "pygments_lexer": "ipython3",
   "version": "3.9.1"
  }
 },
 "nbformat": 4,
 "nbformat_minor": 4
}
